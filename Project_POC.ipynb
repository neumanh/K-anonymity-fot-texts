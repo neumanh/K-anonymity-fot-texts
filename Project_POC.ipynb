{
  "nbformat": 4,
  "nbformat_minor": 0,
  "metadata": {
    "colab": {
      "provenance": []
    },
    "kernelspec": {
      "name": "python3",
      "display_name": "Python 3"
    },
    "language_info": {
      "name": "python"
    }
  },
  "cells": [
    {
      "cell_type": "code",
      "execution_count": null,
      "metadata": {
        "id": "FqwOPA6oJTTv"
      },
      "outputs": [],
      "source": []
    },
    {
      "cell_type": "markdown",
      "source": [
        "# Basic goal: Proof of concept\n",
        "\n",
        "Demonstrate it is possible to apply k-anonymity for very short texts while preserving\n",
        "functionality. \n",
        "A good way to estimate functionality is to have a battery of standard\n",
        "ML tasks, such as sentiment analysis or topic modeling and test their performance on the text before and after the anonymization for consistency."
      ],
      "metadata": {
        "id": "4tBkwgAzJT1Y"
      }
    },
    {
      "cell_type": "markdown",
      "source": [
        "1. take very short texts\n",
        "2. apply k=2 annonymity\n",
        "3. check functionality:\n",
        "  3.1 sentiment analysis score\n",
        "  3.2 topic modeling\n",
        "4. compare perofomance before and after anonymization\n"
      ],
      "metadata": {
        "id": "qoA8Z61oJbnz"
      }
    },
    {
      "cell_type": "markdown",
      "source": [
        "## This POC  stage of the project will be divided into several notebooks:\n",
        "\n",
        "### 1) Filtering very short texts from our dataset:\n",
        "        Input: the entire original dataset\n",
        "        Output = > N original docs (labeled)\n",
        "### 2) Perfoming BoW K2 Anonymity\n",
        "        Input: filtered short docs from the original dataset \n",
        "        Output = > N anonymity docs (labeled)\n",
        "### 3) Functionality Tests: Semantic and Topic Modeling\n",
        "        Input: N docs (labeled)\n",
        "        Output: Score for each test"
      ],
      "metadata": {
        "id": "7PCLxUgfJq2v"
      }
    },
    {
      "cell_type": "code",
      "source": [
        "##################################################################################################"
      ],
      "metadata": {
        "id": "-Ycdj8BBJUNR"
      },
      "execution_count": null,
      "outputs": []
    },
    {
      "cell_type": "markdown",
      "source": [
        "## 1) POC, Filtering very short texts from our dataset"
      ],
      "metadata": {
        "id": "TgHy1UZTMpii"
      }
    },
    {
      "cell_type": "code",
      "source": [],
      "metadata": {
        "id": "UUDY-Y_bMpEn"
      },
      "execution_count": null,
      "outputs": []
    },
    {
      "cell_type": "code",
      "execution_count": null,
      "metadata": {
        "id": "u4-1wAP_sRSk"
      },
      "outputs": [],
      "source": [
        "# Imports\n",
        "import sklearn\n",
        "import pandas as pd\n",
        "import numpy as np\n",
        "import random\n",
        "import re\n",
        "from numpy.linalg import norm\n",
        "from sklearn.model_selection import train_test_split\n",
        "from itertools import islice\n",
        "from sklearn.feature_extraction.text import CountVectorizer"
      ]
    },
    {
      "cell_type": "code",
      "source": [
        "# Uploading the data\n",
        "COLAB = True"
      ],
      "metadata": {
        "id": "OpfgChgVuQ3u"
      },
      "execution_count": null,
      "outputs": []
    },
    {
      "cell_type": "code",
      "source": [
        "if COLAB:\n",
        "    from google.colab import drive\n",
        "    from os.path import exists\n",
        "\n",
        "    amazon_train_file = 'train.ft.txt.bz2'\n",
        "\n",
        "    if exists(amazon_train_file):\n",
        "        train_file = amazon_train_file\n",
        "    else:\n",
        "        drive.mount('/content/drive/')\n",
        "\n",
        "        # For Hadas' drive\n",
        "        #my_dir = 'drive/MyDrive/Y-data/Intuit-K-anonimity/'\n",
        "\n",
        "        # For Lior's drive\n",
        "        my_dir = 'drive/MyDrive/Y-data/Y-DATA_PROJECT/'\n",
        "\n",
        "        train_file = my_dir + '/train.ft.txt.bz2'\n",
        "else:\n",
        "    train_file = '../data/' + 'train.ft.txt.bz2'"
      ],
      "metadata": {
        "colab": {
          "base_uri": "https://localhost:8080/"
        },
        "id": "dHlBt3VOuUGh",
        "outputId": "190287a6-33fc-4a47-cc65-94038b1f4ffc"
      },
      "execution_count": null,
      "outputs": [
        {
          "output_type": "stream",
          "name": "stdout",
          "text": [
            "Drive already mounted at /content/drive/; to attempt to forcibly remount, call drive.mount(\"/content/drive/\", force_remount=True).\n"
          ]
        }
      ]
    },
    {
      "cell_type": "code",
      "source": [
        "# Credit https://www.kaggle.com/code/anshulrai/cudnnlstm-implementation-93-7-accuracy\n",
        "\n",
        "import bz2\n",
        "\n",
        "# Readling the file to list of comments\n",
        "train_file = bz2.BZ2File(train_file)\n",
        "train_file_lines = train_file.readlines()\n",
        "\n",
        "# Converting from raw binary strings to strings that can be parsed\n",
        "train_file_lines = [x.decode('utf-8') for x in train_file_lines]\n",
        "\n",
        "# Extracting the labels and sentences\n",
        "train_labels = [0 if x.split(' ')[0] == '__label__1' else 1 for x in train_file_lines]\n",
        "train_sentences = [x.split(' ', 1)[1][:-1].lower() for x in train_file_lines] # And converting to lower case"
      ],
      "metadata": {
        "id": "6SbAj3K4uhGB"
      },
      "execution_count": null,
      "outputs": []
    },
    {
      "cell_type": "code",
      "source": [
        "del(train_file_lines)  # Free RAM"
      ],
      "metadata": {
        "id": "V8mwuloxutMJ"
      },
      "execution_count": null,
      "outputs": []
    },
    {
      "cell_type": "code",
      "source": [
        "# create a data frame from train data:\n",
        "df = pd.DataFrame(list(zip(train_sentences, train_labels)), columns =['txt', 'sentiment'])\n",
        "df.head()"
      ],
      "metadata": {
        "colab": {
          "base_uri": "https://localhost:8080/",
          "height": 206
        },
        "id": "rC5GIzaduxVQ",
        "outputId": "5caeac39-0872-4f2f-e7c3-0b88e9a8170a"
      },
      "execution_count": null,
      "outputs": [
        {
          "output_type": "execute_result",
          "data": {
            "text/plain": [
              "                                                 txt  sentiment\n",
              "0  stuning even for the non-gamer: this sound tra...          1\n",
              "1  the best soundtrack ever to anything.: i'm rea...          1\n",
              "2  amazing!: this soundtrack is my favorite music...          1\n",
              "3  excellent soundtrack: i truly like this soundt...          1\n",
              "4  remember, pull your jaw off the floor after he...          1"
            ],
            "text/html": [
              "\n",
              "  <div id=\"df-cd6209ad-ed54-4eef-a706-603dfc5ddfa7\">\n",
              "    <div class=\"colab-df-container\">\n",
              "      <div>\n",
              "<style scoped>\n",
              "    .dataframe tbody tr th:only-of-type {\n",
              "        vertical-align: middle;\n",
              "    }\n",
              "\n",
              "    .dataframe tbody tr th {\n",
              "        vertical-align: top;\n",
              "    }\n",
              "\n",
              "    .dataframe thead th {\n",
              "        text-align: right;\n",
              "    }\n",
              "</style>\n",
              "<table border=\"1\" class=\"dataframe\">\n",
              "  <thead>\n",
              "    <tr style=\"text-align: right;\">\n",
              "      <th></th>\n",
              "      <th>txt</th>\n",
              "      <th>sentiment</th>\n",
              "    </tr>\n",
              "  </thead>\n",
              "  <tbody>\n",
              "    <tr>\n",
              "      <th>0</th>\n",
              "      <td>stuning even for the non-gamer: this sound tra...</td>\n",
              "      <td>1</td>\n",
              "    </tr>\n",
              "    <tr>\n",
              "      <th>1</th>\n",
              "      <td>the best soundtrack ever to anything.: i'm rea...</td>\n",
              "      <td>1</td>\n",
              "    </tr>\n",
              "    <tr>\n",
              "      <th>2</th>\n",
              "      <td>amazing!: this soundtrack is my favorite music...</td>\n",
              "      <td>1</td>\n",
              "    </tr>\n",
              "    <tr>\n",
              "      <th>3</th>\n",
              "      <td>excellent soundtrack: i truly like this soundt...</td>\n",
              "      <td>1</td>\n",
              "    </tr>\n",
              "    <tr>\n",
              "      <th>4</th>\n",
              "      <td>remember, pull your jaw off the floor after he...</td>\n",
              "      <td>1</td>\n",
              "    </tr>\n",
              "  </tbody>\n",
              "</table>\n",
              "</div>\n",
              "      <button class=\"colab-df-convert\" onclick=\"convertToInteractive('df-cd6209ad-ed54-4eef-a706-603dfc5ddfa7')\"\n",
              "              title=\"Convert this dataframe to an interactive table.\"\n",
              "              style=\"display:none;\">\n",
              "        \n",
              "  <svg xmlns=\"http://www.w3.org/2000/svg\" height=\"24px\"viewBox=\"0 0 24 24\"\n",
              "       width=\"24px\">\n",
              "    <path d=\"M0 0h24v24H0V0z\" fill=\"none\"/>\n",
              "    <path d=\"M18.56 5.44l.94 2.06.94-2.06 2.06-.94-2.06-.94-.94-2.06-.94 2.06-2.06.94zm-11 1L8.5 8.5l.94-2.06 2.06-.94-2.06-.94L8.5 2.5l-.94 2.06-2.06.94zm10 10l.94 2.06.94-2.06 2.06-.94-2.06-.94-.94-2.06-.94 2.06-2.06.94z\"/><path d=\"M17.41 7.96l-1.37-1.37c-.4-.4-.92-.59-1.43-.59-.52 0-1.04.2-1.43.59L10.3 9.45l-7.72 7.72c-.78.78-.78 2.05 0 2.83L4 21.41c.39.39.9.59 1.41.59.51 0 1.02-.2 1.41-.59l7.78-7.78 2.81-2.81c.8-.78.8-2.07 0-2.86zM5.41 20L4 18.59l7.72-7.72 1.47 1.35L5.41 20z\"/>\n",
              "  </svg>\n",
              "      </button>\n",
              "      \n",
              "  <style>\n",
              "    .colab-df-container {\n",
              "      display:flex;\n",
              "      flex-wrap:wrap;\n",
              "      gap: 12px;\n",
              "    }\n",
              "\n",
              "    .colab-df-convert {\n",
              "      background-color: #E8F0FE;\n",
              "      border: none;\n",
              "      border-radius: 50%;\n",
              "      cursor: pointer;\n",
              "      display: none;\n",
              "      fill: #1967D2;\n",
              "      height: 32px;\n",
              "      padding: 0 0 0 0;\n",
              "      width: 32px;\n",
              "    }\n",
              "\n",
              "    .colab-df-convert:hover {\n",
              "      background-color: #E2EBFA;\n",
              "      box-shadow: 0px 1px 2px rgba(60, 64, 67, 0.3), 0px 1px 3px 1px rgba(60, 64, 67, 0.15);\n",
              "      fill: #174EA6;\n",
              "    }\n",
              "\n",
              "    [theme=dark] .colab-df-convert {\n",
              "      background-color: #3B4455;\n",
              "      fill: #D2E3FC;\n",
              "    }\n",
              "\n",
              "    [theme=dark] .colab-df-convert:hover {\n",
              "      background-color: #434B5C;\n",
              "      box-shadow: 0px 1px 3px 1px rgba(0, 0, 0, 0.15);\n",
              "      filter: drop-shadow(0px 1px 2px rgba(0, 0, 0, 0.3));\n",
              "      fill: #FFFFFF;\n",
              "    }\n",
              "  </style>\n",
              "\n",
              "      <script>\n",
              "        const buttonEl =\n",
              "          document.querySelector('#df-cd6209ad-ed54-4eef-a706-603dfc5ddfa7 button.colab-df-convert');\n",
              "        buttonEl.style.display =\n",
              "          google.colab.kernel.accessAllowed ? 'block' : 'none';\n",
              "\n",
              "        async function convertToInteractive(key) {\n",
              "          const element = document.querySelector('#df-cd6209ad-ed54-4eef-a706-603dfc5ddfa7');\n",
              "          const dataTable =\n",
              "            await google.colab.kernel.invokeFunction('convertToInteractive',\n",
              "                                                     [key], {});\n",
              "          if (!dataTable) return;\n",
              "\n",
              "          const docLinkHtml = 'Like what you see? Visit the ' +\n",
              "            '<a target=\"_blank\" href=https://colab.research.google.com/notebooks/data_table.ipynb>data table notebook</a>'\n",
              "            + ' to learn more about interactive tables.';\n",
              "          element.innerHTML = '';\n",
              "          dataTable['output_type'] = 'display_data';\n",
              "          await google.colab.output.renderOutput(dataTable, element);\n",
              "          const docLink = document.createElement('div');\n",
              "          docLink.innerHTML = docLinkHtml;\n",
              "          element.appendChild(docLink);\n",
              "        }\n",
              "      </script>\n",
              "    </div>\n",
              "  </div>\n",
              "  "
            ]
          },
          "metadata": {},
          "execution_count": 337
        }
      ]
    },
    {
      "cell_type": "code",
      "source": [
        "df['num_of_words'] = df['txt'].apply(lambda x : len(x.split(' ')))"
      ],
      "metadata": {
        "id": "TOygPp9jNRBu"
      },
      "execution_count": null,
      "outputs": []
    },
    {
      "cell_type": "code",
      "source": [
        "max_len = 30\n",
        "df_short_sentences = df[df['num_of_words'] <= max_len] # Filtering using pandas is much faster\n",
        "print(df_short_sentences.shape)"
      ],
      "metadata": {
        "colab": {
          "base_uri": "https://localhost:8080/"
        },
        "id": "5qlGcReKu5qa",
        "outputId": "694fd57d-2f99-4a6a-f479-0e3b9d7b31aa"
      },
      "execution_count": null,
      "outputs": [
        {
          "output_type": "stream",
          "name": "stdout",
          "text": [
            "(446508, 3)\n"
          ]
        }
      ]
    },
    {
      "cell_type": "code",
      "source": [
        "# Free RAM\n",
        "del(df)"
      ],
      "metadata": {
        "id": "PZWfWbZRwNiq"
      },
      "execution_count": null,
      "outputs": []
    },
    {
      "cell_type": "code",
      "source": [
        "def jaccard_index(sentence1, sentence2):\n",
        "    \"\"\" Calc Jaccard index for each pair of sentences \"\"\"\n",
        "    words1 = set(sentence1.split())\n",
        "    words2 = set(sentence2.split())\n",
        "    intersection = len(words1.intersection(words2))\n",
        "    union = len(words1.union(words2))\n",
        "    jaccard = intersection / union\n",
        "    return jaccard"
      ],
      "metadata": {
        "id": "XKeYADJxvIrB"
      },
      "execution_count": null,
      "outputs": []
    },
    {
      "cell_type": "code",
      "source": [
        "indices_list = list(df_short_sentences.index)\n",
        "len(indices_list)"
      ],
      "metadata": {
        "colab": {
          "base_uri": "https://localhost:8080/"
        },
        "id": "ezOHaZGiQUvU",
        "outputId": "3c5b5353-6aad-4137-f1c6-f78c24ca00fe"
      },
      "execution_count": null,
      "outputs": [
        {
          "output_type": "execute_result",
          "data": {
            "text/plain": [
              "446508"
            ]
          },
          "metadata": {},
          "execution_count": 342
        }
      ]
    },
    {
      "cell_type": "code",
      "source": [
        "indices_list_short_1 = indices_list[1:4000] "
      ],
      "metadata": {
        "id": "u3HvS9r3RdRi"
      },
      "execution_count": null,
      "outputs": []
    },
    {
      "cell_type": "code",
      "source": [
        "%%time\n",
        "# Create a list of sentence texts\n",
        "sentences = list(df_short_sentences.txt.loc[indices_list_short_1])\n",
        "\n",
        "# Compute the Jaccard index for all pairs of sentences\n",
        "jaccard_index_dict = {(indices_list_short_1[i],indices_list_short_1[j]): jaccard_index(sentences[i], sentences[j]) for i in range(len(sentences)) for j in range(i+1, len(sentences))}\n",
        "\n",
        "# Sort the dictionary by its values in descending order\n",
        "sorted_dict = dict(sorted(jaccard_index_dict.items(), key=lambda item: item[1], reverse=True))"
      ],
      "metadata": {
        "colab": {
          "base_uri": "https://localhost:8080/"
        },
        "id": "pTAfKvNfRnEy",
        "outputId": "c34a38db-e2b3-41a4-881d-904916859258"
      },
      "execution_count": null,
      "outputs": [
        {
          "output_type": "stream",
          "name": "stdout",
          "text": [
            "CPU times: user 1min 47s, sys: 2.6 s, total: 1min 49s\n",
            "Wall time: 2min 5s\n"
          ]
        }
      ]
    },
    {
      "cell_type": "code",
      "source": [
        "def plot_jaccard_hist(sorted_dict):\n",
        "  '''creat a hist of jaccard scores'''\n",
        "  # extract the values from the dictionary\n",
        "  dic_values = list(sorted_dict.values())\n",
        "\n",
        "  # plot a histogram of the values\n",
        "  plt.hist(dic_values, bins=50, range = (0,0.3))\n",
        "\n",
        "  # set labels and title\n",
        "  plt.xlabel('Values')\n",
        "  plt.ylabel('Counts')\n",
        "  plt.title('Histogram of Jaccard Indecs')\n",
        "\n",
        "  # display the plot\n",
        "  plt.show()"
      ],
      "metadata": {
        "id": "TdHyOEj862eh"
      },
      "execution_count": null,
      "outputs": []
    },
    {
      "cell_type": "code",
      "source": [
        "plot_jaccard_hist(sorted_dict)"
      ],
      "metadata": {
        "colab": {
          "base_uri": "https://localhost:8080/",
          "height": 472
        },
        "id": "pRq1ueeo9VtF",
        "outputId": "ab9ef8ec-6360-47ef-9259-70c57ddc6380"
      },
      "execution_count": null,
      "outputs": [
        {
          "output_type": "display_data",
          "data": {
            "text/plain": [
              "<Figure size 640x480 with 1 Axes>"
            ],
            "image/png": "[encoded data removed]"
          },
          "metadata": {}
        }
      ]
    },
    {
      "cell_type": "code",
      "source": [
        "dic_values = list(sorted_dict.values())\n",
        "print(\"mean Jaccard:\", np.mean(dic_values))"
      ],
      "metadata": {
        "colab": {
          "base_uri": "https://localhost:8080/"
        },
        "id": "Ehll6VEx9W41",
        "outputId": "4c75a9e7-d1ca-4008-b3dc-bb20155ac96c"
      },
      "execution_count": null,
      "outputs": [
        {
          "output_type": "stream",
          "name": "stdout",
          "text": [
            "mean Jaccard: 0.12889057084552658\n"
          ]
        }
      ]
    },
    {
      "cell_type": "code",
      "source": [
        "# Getting the N documents with nearest neighbors\n",
        "n = 30\n",
        "first_n_items = dict(islice(sorted_dict.items(), n)) # work with n sentences as a start\n",
        "# Get the list of indexes\n",
        "unique_numbers = [num for tup in first_n_items.keys() for num in tup]  # list of indeces for sentences to work with\n",
        "# Filter the df to recive only these sentences and print df\n",
        "filtered_df = df_short_sentences.loc[df_short_sentences.index.isin(unique_numbers)]\n",
        "print(filtered_df.head())"
      ],
      "metadata": {
        "colab": {
          "base_uri": "https://localhost:8080/"
        },
        "id": "VHtwdaeWTDfn",
        "outputId": "8e322f6a-ee56-47c9-e1aa-345c69517ea7"
      },
      "execution_count": null,
      "outputs": [
        {
          "output_type": "stream",
          "name": "stdout",
          "text": [
            "                                                    txt  sentiment  \\\n",
            "269   dockers do the job.: this product was just wha...          1   \n",
            "370   good deal and fast shipping: i bought this boo...          1   \n",
            "1112  clean: excellent copy and shipped fast. this i...          1   \n",
            "1729  outrageously funny: this book is laugh-out-lou...          1   \n",
            "2861  good movie: i like all of the transformers mov...          1   \n",
            "\n",
            "      num_of_words  \n",
            "269             25  \n",
            "370             27  \n",
            "1112            21  \n",
            "1729            24  \n",
            "2861            26  \n"
          ]
        }
      ]
    },
    {
      "cell_type": "markdown",
      "source": [
        "# ----------------------#\n",
        "The output of this stage is: \n",
        "## filtered_df\n",
        "# ----------------------#"
      ],
      "metadata": {
        "id": "pb9bNOtL8VKl"
      }
    },
    {
      "cell_type": "markdown",
      "source": [
        "## 2) Perfoming BoW K2 Anonymity\n"
      ],
      "metadata": {
        "id": "ky3jDHCJTZyG"
      }
    },
    {
      "cell_type": "markdown",
      "source": [
        "using glove to perform word2vec, cluster using dbscan (hdbscan didn't work good guess to the small amount of docs) and switch the words in the text until anonymization"
      ],
      "metadata": {
        "id": "yyN0ZAeTUH5G"
      }
    },
    {
      "cell_type": "code",
      "source": [
        "## Working with a copy of the df:\n",
        "filtered_df_copy = filtered_df.copy()"
      ],
      "metadata": {
        "id": "9PN6feQBTabr"
      },
      "execution_count": null,
      "outputs": []
    },
    {
      "cell_type": "code",
      "source": [
        "filtered_df_copy.info()"
      ],
      "metadata": {
        "colab": {
          "base_uri": "https://localhost:8080/"
        },
        "id": "yEfBCme-XQt1",
        "outputId": "be930a95-9862-4dbd-c952-5aac1d2f55f1"
      },
      "execution_count": null,
      "outputs": [
        {
          "output_type": "stream",
          "name": "stdout",
          "text": [
            "<class 'pandas.core.frame.DataFrame'>\n",
            "Int64Index: 44 entries, 269 to 33050\n",
            "Data columns (total 3 columns):\n",
            " #   Column        Non-Null Count  Dtype \n",
            "---  ------        --------------  ----- \n",
            " 0   txt           44 non-null     object\n",
            " 1   sentiment     44 non-null     int64 \n",
            " 2   num_of_words  44 non-null     int64 \n",
            "dtypes: int64(2), object(1)\n",
            "memory usage: 1.4+ KB\n"
          ]
        }
      ]
    },
    {
      "cell_type": "code",
      "source": [
        "import gensim.downloader as api\n",
        "glove_model = api.load('glove-twitter-25')"
      ],
      "metadata": {
        "id": "Hq_eLSKSTawo"
      },
      "execution_count": null,
      "outputs": []
    },
    {
      "cell_type": "code",
      "source": [
        "X = filtered_df_copy['txt']\n",
        "y = filtered_df_copy['sentiment']  # currently not in use"
      ],
      "metadata": {
        "id": "3MyJSbfZTay0"
      },
      "execution_count": null,
      "outputs": []
    },
    {
      "cell_type": "code",
      "source": [
        "from keras.preprocessing.text import Tokenizer\n",
        "vocab_size = 10000\n",
        "oov_token = \"<OOV>\"  # words OOV\n",
        "tokenizer = Tokenizer(num_words = vocab_size, oov_token=oov_token)\n",
        "tokenizer.fit_on_texts(X)"
      ],
      "metadata": {
        "id": "aBYTmydPTa1S"
      },
      "execution_count": null,
      "outputs": []
    },
    {
      "cell_type": "code",
      "source": [
        "# mapping of the words to numbers\n",
        "word_index = tokenizer.word_index"
      ],
      "metadata": {
        "id": "VUgVSU4wTa4F"
      },
      "execution_count": null,
      "outputs": []
    },
    {
      "cell_type": "code",
      "source": [
        "import nltk\n",
        "nltk.download('stopwords')\n",
        "from nltk.corpus import stopwords\n",
        "\n",
        "sw = stopwords.words('english')"
      ],
      "metadata": {
        "colab": {
          "base_uri": "https://localhost:8080/"
        },
        "id": "ZsHb-xa9UV4b",
        "outputId": "feac47a2-819a-4a80-8074-58f572f36934"
      },
      "execution_count": null,
      "outputs": [
        {
          "output_type": "stream",
          "name": "stderr",
          "text": [
            "[nltk_data] Downloading package stopwords to /root/nltk_data...\n",
            "[nltk_data]   Package stopwords is already up-to-date!\n"
          ]
        }
      ]
    },
    {
      "cell_type": "code",
      "source": [
        "# using CHATGPT\n",
        "# Iterate over your dictionary of words and embed them using GloVe\n",
        "embedded_dict = {}\n",
        "for word, idx in word_index.items():\n",
        "    if word not in sw:\n",
        "        try:\n",
        "            embedded_dict[word] = glove_model[word]\n",
        "        except KeyError:\n",
        "            # If the word is not in the GloVe vocabulary, assign a default embedding or skip it\n",
        "            pass"
      ],
      "metadata": {
        "id": "o9TRl4MlUV68"
      },
      "execution_count": null,
      "outputs": []
    },
    {
      "cell_type": "code",
      "source": [
        "embeddings = np.array(list(embedded_dict.values()))"
      ],
      "metadata": {
        "id": "eLB9EHGfU669"
      },
      "execution_count": null,
      "outputs": []
    },
    {
      "cell_type": "code",
      "source": [
        "## DBSCAN \n",
        "!pip install --upgrade kneed"
      ],
      "metadata": {
        "id": "rPOSiJv-VxK9"
      },
      "execution_count": null,
      "outputs": []
    },
    {
      "cell_type": "code",
      "source": [
        "## CODE USED TO FINED EPS VALUE == NO NEED TO RUN THIS AGAIN\n",
        "if True: \n",
        "    from kneed import KneeLocator\n",
        "    from sklearn.neighbors import NearestNeighbors\n",
        "\n",
        "    # Compute the k-distances for each point\n",
        "    k = 10\n",
        "    neigh = NearestNeighbors(n_neighbors=k)\n",
        "    neigh.fit(embeddings)\n",
        "    distances, indices = neigh.kneighbors(embeddings)\n",
        "\n",
        "    # Sort the distances and flatten them into a 1D array\n",
        "    sorted_distances = np.sort(distances[:,k-1], axis=None)\n",
        "\n",
        "    # Plot the k-distance graph\n",
        "    # plt.plot(sorted_distances)\n",
        "\n",
        "    # Find the elbow point\n",
        "    kneedle = KneeLocator(range(len(sorted_distances)), sorted_distances, S=1.0, curve='concave', direction='increasing')\n",
        "    eps = sorted_distances[kneedle.elbow]\n",
        "\n",
        "    print(f\"Estimated eps value: {eps}\")\n",
        "    first_run=False"
      ],
      "metadata": {
        "id": "o9EDoIdWX9-_"
      },
      "execution_count": null,
      "outputs": []
    },
    {
      "cell_type": "code",
      "source": [
        "dbscan = DBSCAN(eps=eps, min_samples=2)  # <0.5 returned only one cluster. Chose 3 a min words per cluster (maybe reduce to 2?) Maybe according to k"
      ],
      "metadata": {
        "id": "nV2agLOVX-BM"
      },
      "execution_count": null,
      "outputs": []
    },
    {
      "cell_type": "code",
      "source": [
        "dbscan.fit(embeddings)\n"
      ],
      "metadata": {
        "colab": {
          "base_uri": "https://localhost:8080/",
          "height": 74
        },
        "id": "_EiXQo_nX-Da",
        "outputId": "43d84aa9-5d79-479d-b8b9-4c7e645950c0"
      },
      "execution_count": null,
      "outputs": [
        {
          "output_type": "execute_result",
          "data": {
            "text/plain": [
              "DBSCAN(eps=2.304003908319602, min_samples=2)"
            ],
            "text/html": [
              "<style>#sk-container-id-20 {color: black;background-color: white;}#sk-container-id-20 pre{padding: 0;}#sk-container-id-20 div.sk-toggleable {background-color: white;}#sk-container-id-20 label.sk-toggleable__label {cursor: pointer;display: block;width: 100%;margin-bottom: 0;padding: 0.3em;box-sizing: border-box;text-align: center;}#sk-container-id-20 label.sk-toggleable__label-arrow:before {content: \"▸\";float: left;margin-right: 0.25em;color: #696969;}#sk-container-id-20 label.sk-toggleable__label-arrow:hover:before {color: black;}#sk-container-id-20 div.sk-estimator:hover label.sk-toggleable__label-arrow:before {color: black;}#sk-container-id-20 div.sk-toggleable__content {max-height: 0;max-width: 0;overflow: hidden;text-align: left;background-color: #f0f8ff;}#sk-container-id-20 div.sk-toggleable__content pre {margin: 0.2em;color: black;border-radius: 0.25em;background-color: #f0f8ff;}#sk-container-id-20 input.sk-toggleable__control:checked~div.sk-toggleable__content {max-height: 200px;max-width: 100%;overflow: auto;}#sk-container-id-20 input.sk-toggleable__control:checked~label.sk-toggleable__label-arrow:before {content: \"▾\";}#sk-container-id-20 div.sk-estimator input.sk-toggleable__control:checked~label.sk-toggleable__label {background-color: #d4ebff;}#sk-container-id-20 div.sk-label input.sk-toggleable__control:checked~label.sk-toggleable__label {background-color: #d4ebff;}#sk-container-id-20 input.sk-hidden--visually {border: 0;clip: rect(1px 1px 1px 1px);clip: rect(1px, 1px, 1px, 1px);height: 1px;margin: -1px;overflow: hidden;padding: 0;position: absolute;width: 1px;}#sk-container-id-20 div.sk-estimator {font-family: monospace;background-color: #f0f8ff;border: 1px dotted black;border-radius: 0.25em;box-sizing: border-box;margin-bottom: 0.5em;}#sk-container-id-20 div.sk-estimator:hover {background-color: #d4ebff;}#sk-container-id-20 div.sk-parallel-item::after {content: \"\";width: 100%;border-bottom: 1px solid gray;flex-grow: 1;}#sk-container-id-20 div.sk-label:hover label.sk-toggleable__label {background-color: #d4ebff;}#sk-container-id-20 div.sk-serial::before {content: \"\";position: absolute;border-left: 1px solid gray;box-sizing: border-box;top: 0;bottom: 0;left: 50%;z-index: 0;}#sk-container-id-20 div.sk-serial {display: flex;flex-direction: column;align-items: center;background-color: white;padding-right: 0.2em;padding-left: 0.2em;position: relative;}#sk-container-id-20 div.sk-item {position: relative;z-index: 1;}#sk-container-id-20 div.sk-parallel {display: flex;align-items: stretch;justify-content: center;background-color: white;position: relative;}#sk-container-id-20 div.sk-item::before, #sk-container-id-20 div.sk-parallel-item::before {content: \"\";position: absolute;border-left: 1px solid gray;box-sizing: border-box;top: 0;bottom: 0;left: 50%;z-index: -1;}#sk-container-id-20 div.sk-parallel-item {display: flex;flex-direction: column;z-index: 1;position: relative;background-color: white;}#sk-container-id-20 div.sk-parallel-item:first-child::after {align-self: flex-end;width: 50%;}#sk-container-id-20 div.sk-parallel-item:last-child::after {align-self: flex-start;width: 50%;}#sk-container-id-20 div.sk-parallel-item:only-child::after {width: 0;}#sk-container-id-20 div.sk-dashed-wrapped {border: 1px dashed gray;margin: 0 0.4em 0.5em 0.4em;box-sizing: border-box;padding-bottom: 0.4em;background-color: white;}#sk-container-id-20 div.sk-label label {font-family: monospace;font-weight: bold;display: inline-block;line-height: 1.2em;}#sk-container-id-20 div.sk-label-container {text-align: center;}#sk-container-id-20 div.sk-container {/* jupyter's `normalize.less` sets `[hidden] { display: none; }` but bootstrap.min.css set `[hidden] { display: none !important; }` so we also need the `!important` here to be able to override the default hidden behavior on the sphinx rendered scikit-learn.org. See: https://github.com/scikit-learn/scikit-learn/issues/21755 */display: inline-block !important;position: relative;}#sk-container-id-20 div.sk-text-repr-fallback {display: none;}</style><div id=\"sk-container-id-20\" class=\"sk-top-container\"><div class=\"sk-text-repr-fallback\"><pre>DBSCAN(eps=2.304003908319602, min_samples=2)</pre><b>In a Jupyter environment, please rerun this cell to show the HTML representation or trust the notebook. <br />On GitHub, the HTML representation is unable to render, please try loading this page with nbviewer.org.</b></div><div class=\"sk-container\" hidden><div class=\"sk-item\"><div class=\"sk-estimator sk-toggleable\"><input class=\"sk-toggleable__control sk-hidden--visually\" id=\"sk-estimator-id-20\" type=\"checkbox\" checked><label for=\"sk-estimator-id-20\" class=\"sk-toggleable__label sk-toggleable__label-arrow\">DBSCAN</label><div class=\"sk-toggleable__content\"><pre>DBSCAN(eps=2.304003908319602, min_samples=2)</pre></div></div></div></div></div>"
            ]
          },
          "metadata": {},
          "execution_count": 362
        }
      ]
    },
    {
      "cell_type": "code",
      "source": [
        "labels = dbscan.labels_\n",
        "labels"
      ],
      "metadata": {
        "colab": {
          "base_uri": "https://localhost:8080/"
        },
        "id": "9O_fLHeraO-L",
        "outputId": "97288573-dbb5-454f-bb34-d21d3232f6f7"
      },
      "execution_count": null,
      "outputs": [
        {
          "output_type": "execute_result",
          "data": {
            "text/plain": [
              "array([ 0,  1,  2,  2, -1,  3,  4,  2,  2, -1,  2,  5,  2,  2,  6,  2, -1,\n",
              "        2,  2, -1,  0,  2,  7,  2, -1,  4, -1,  2, -1, -1,  8, -1, -1,  2,\n",
              "       -1,  2,  9, -1, -1,  2, -1, -1, -1, -1,  7, -1, 10, 11,  2, -1, -1,\n",
              "        2,  3,  2, -1,  2,  2, -1, 12, -1, 10, -1, -1,  2, -1, 13, 13,  2,\n",
              "        2,  2,  2, -1, -1,  2,  2,  4, -1,  2,  2,  2, -1, -1,  8,  2, -1,\n",
              "       -1, -1, -1,  4, -1,  4,  2, -1, -1,  2, -1,  2, 10,  2, -1,  2, -1,\n",
              "       -1,  2, -1,  2, -1, -1,  2,  2,  2,  2,  2, -1,  4, 11, 14, -1, -1,\n",
              "        5, -1, -1, -1,  2, -1,  2, -1,  2, -1,  2, -1,  1, -1, -1, -1, -1,\n",
              "       -1, -1, -1, -1, -1,  2, -1, -1, -1, -1, -1, -1,  2,  2, -1, -1,  2,\n",
              "        2, -1, -1,  9, -1, -1, -1,  2,  2, -1,  2,  2, -1, -1,  2, -1, -1,\n",
              "       15, -1, -1, -1, -1, -1, -1, -1,  2, -1,  0, -1, -1, -1,  2,  2, -1,\n",
              "       -1,  2, -1, -1, -1, -1, 16,  2, -1,  2, -1,  2, -1, -1, -1,  8,  2,\n",
              "       12,  2, 16, 14, -1, -1, -1, -1, 15, -1,  6, -1, -1, -1, -1, -1, -1,\n",
              "        2, 10, -1, -1, -1,  2, -1])"
            ]
          },
          "metadata": {},
          "execution_count": 363
        }
      ]
    },
    {
      "cell_type": "code",
      "source": [
        "# Import the necessary libraries\n",
        "from sklearn.manifold import TSNE\n",
        "import matplotlib.pyplot as plt\n",
        "from sklearn.cluster import DBSCAN\n",
        "\n",
        "# Extract the embeddings from the embedded_dict and store them in a numpy array\n",
        "embeddings = np.array(list(embedded_dict.values()))\n",
        "\n",
        "# Perform t-SNE on the embeddings to reduce their dimensionality to 2\n",
        "tsne = TSNE(n_components=2, perplexity=30, n_iter=1000, random_state=42)\n",
        "embeddings_2d = tsne.fit_transform(embeddings)\n",
        "\n",
        "# Get the cluster labels assigned by DBSCAN\n",
        "labels = dbscan.labels_\n",
        "\n",
        "# Plot the 2D embeddings with different colors for each cluster\n",
        "plt.scatter(embeddings_2d[:, 0], embeddings_2d[:, 1], c=labels)\n",
        "plt.show()"
      ],
      "metadata": {
        "colab": {
          "base_uri": "https://localhost:8080/",
          "height": 430
        },
        "id": "nL7HBOZYUun0",
        "outputId": "6d051428-d448-48bd-b780-93f26130b89b"
      },
      "execution_count": null,
      "outputs": [
        {
          "output_type": "display_data",
          "data": {
            "text/plain": [
              "<Figure size 640x480 with 1 Axes>"
            ],
            "image/png": "[encoded data removed]"
          },
          "metadata": {}
        }
      ]
    },
    {
      "cell_type": "code",
      "source": [
        "clusters = {}\n",
        "for i, key in enumerate(embedded_dict.keys()):\n",
        "    cluster = labels[i]\n",
        "    if cluster not in clusters:\n",
        "        clusters[cluster] = []\n",
        "    clusters[cluster].append(key)"
      ],
      "metadata": {
        "id": "8adWEsf2aPJC"
      },
      "execution_count": null,
      "outputs": []
    },
    {
      "cell_type": "code",
      "source": [
        "for key, val in clusters.items():\n",
        "    print(f'Cluster {key} includes {len(val)} words')"
      ],
      "metadata": {
        "colab": {
          "base_uri": "https://localhost:8080/"
        },
        "id": "TgTWpZtdas7u",
        "outputId": "6351d1c2-ed2b-40f7-fb2d-f88f0d8bc5d8"
      },
      "execution_count": null,
      "outputs": [
        {
          "output_type": "stream",
          "name": "stdout",
          "text": [
            "Cluster 0 includes 3 words\n",
            "Cluster 1 includes 2 words\n",
            "Cluster 2 includes 69 words\n",
            "Cluster -1 includes 119 words\n",
            "Cluster 3 includes 2 words\n",
            "Cluster 4 includes 6 words\n",
            "Cluster 5 includes 2 words\n",
            "Cluster 6 includes 2 words\n",
            "Cluster 7 includes 2 words\n",
            "Cluster 8 includes 3 words\n",
            "Cluster 9 includes 2 words\n",
            "Cluster 10 includes 4 words\n",
            "Cluster 11 includes 2 words\n",
            "Cluster 12 includes 2 words\n",
            "Cluster 13 includes 2 words\n",
            "Cluster 14 includes 2 words\n",
            "Cluster 15 includes 2 words\n",
            "Cluster 16 includes 2 words\n"
          ]
        }
      ]
    },
    {
      "cell_type": "code",
      "source": [
        "def get_general_word_from_cluster(word_list, we_model):\n",
        "    \"\"\" Finds the most similar words usind word embedding\"\"\"\n",
        "    glove_words = list(we_model.index_to_key)\n",
        "    known_words = [w for w in word_list if w in glove_words]\n",
        "    if len(known_words) > 0:\n",
        "        we_word = we_model.most_similar(known_words, topn=1)[0][0]\n",
        "    else:\n",
        "        we_word = None\n",
        "    return we_word"
      ],
      "metadata": {
        "id": "eDY8AjuAas-U"
      },
      "execution_count": null,
      "outputs": []
    },
    {
      "cell_type": "code",
      "source": [
        "filtered_df_copy['anon_txt'] = filtered_df_copy['txt']\n",
        "filtered_df_copy['anon_txt_clean'] = filtered_df_copy['txt']\n",
        "\n",
        "# create a list of the \"new\" words and don't cluster them in the next round\n",
        "new_words = []\n",
        "for key, words in clusters.items(): \n",
        "    if key >= 0:  # Ignoring the -1 label\n",
        "      if len(clusters[key])<10: # so it will make sense!!!!!!!!!!!!!!!!!!!!!!!!!!!!!!!\n",
        "            general_word = get_general_word_from_cluster(words, glove_model)\n",
        "            new_words.append(general_word)  # the list of new words\n",
        "            print('\\treplacing', words, 'in', general_word)\n",
        "            for word in words:\n",
        "                filtered_df_copy['anon_txt'] = filtered_df_copy['anon_txt'].apply(lambda x: x.replace(word, ''.join([word ,'[', general_word,']'])))\n",
        "                filtered_df_copy['anon_txt_clean'] = filtered_df_copy['anon_txt_clean'].apply(lambda x: x.replace(word, general_word))"
      ],
      "metadata": {
        "colab": {
          "base_uri": "https://localhost:8080/"
        },
        "id": "Tu8BjWt6atAc",
        "outputId": "6f58b8bd-ab28-4b78-8e16-007590e7ef20"
      },
      "execution_count": null,
      "outputs": [
        {
          "output_type": "stream",
          "name": "stdout",
          "text": [
            "\treplacing ['book', 'books', 'review'] in script\n",
            "\treplacing ['read', 'reading'] in write\n",
            "\treplacing ['movie', 'movies'] in songs\n",
            "\treplacing ['product', 'business', 'quality', 'service', 'job', 'company'] in management\n",
            "\treplacing ['excellent', 'addition'] in fantastic\n",
            "\treplacing ['dvd', 'cd'] in hd\n",
            "\treplacing ['purchase', 'shipping'] in cards\n",
            "\treplacing ['within', 'upon', 'throughout'] in through\n",
            "\treplacing ['timely', 'prompt'] in in-depth\n",
            "\treplacing ['bought', 'ordered', 'shipped', 'purchased'] in sold\n",
            "\treplacing ['used', 'found'] in called\n",
            "\treplacing ['piece', 'classic'] in black\n",
            "\treplacing ['satisfied', 'happier'] in unhappy\n",
            "\treplacing ['animation', 'fiction'] in illustration\n",
            "\treplacing ['brooklyn', 'west'] in houston\n",
            "\treplacing ['philosophy', 'science'] in psychology\n"
          ]
        }
      ]
    },
    {
      "cell_type": "code",
      "source": [
        "filtered_df_copy.head()"
      ],
      "metadata": {
        "colab": {
          "base_uri": "https://localhost:8080/",
          "height": 206
        },
        "id": "kCjlM6PpbwB1",
        "outputId": "9b82a8e3-a43a-4e27-a03a-cf55c550c394"
      },
      "execution_count": null,
      "outputs": [
        {
          "output_type": "execute_result",
          "data": {
            "text/plain": [
              "                                                    txt  sentiment  \\\n",
              "269   dockers do the job.: this product was just wha...          1   \n",
              "370   good deal and fast shipping: i bought this boo...          1   \n",
              "1112  clean: excellent copy and shipped fast. this i...          1   \n",
              "1729  outrageously funny: this book is laugh-out-lou...          1   \n",
              "2861  good movie: i like all of the transformers mov...          1   \n",
              "\n",
              "      num_of_words                                           anon_txt  \\\n",
              "269             25  dockers do the job[management].: this product[...   \n",
              "370             27  good deal and fast shipping[cards]: i bought[s...   \n",
              "1112            21  clean: excellent[fantastic] copy and shipped[s...   \n",
              "1729            24  outrageously funny: this book[script] is laugh...   \n",
              "2861            26  good movie[songs]: i like all of the transform...   \n",
              "\n",
              "                                         anon_txt_clean  \n",
              "269   dockers do the management.: this management wa...  \n",
              "370   good deal and fast cards: i sold this script c...  \n",
              "1112  clean: fantastic copy and sold fast. this is o...  \n",
              "1729  outrageously funny: this script is laugh-out-l...  \n",
              "2861  good songs: i like all of the transformers son...  "
            ],
            "text/html": [
              "\n",
              "  <div id=\"df-647af088-eefe-44b5-815c-0e19a17bb370\">\n",
              "    <div class=\"colab-df-container\">\n",
              "      <div>\n",
              "<style scoped>\n",
              "    .dataframe tbody tr th:only-of-type {\n",
              "        vertical-align: middle;\n",
              "    }\n",
              "\n",
              "    .dataframe tbody tr th {\n",
              "        vertical-align: top;\n",
              "    }\n",
              "\n",
              "    .dataframe thead th {\n",
              "        text-align: right;\n",
              "    }\n",
              "</style>\n",
              "<table border=\"1\" class=\"dataframe\">\n",
              "  <thead>\n",
              "    <tr style=\"text-align: right;\">\n",
              "      <th></th>\n",
              "      <th>txt</th>\n",
              "      <th>sentiment</th>\n",
              "      <th>num_of_words</th>\n",
              "      <th>anon_txt</th>\n",
              "      <th>anon_txt_clean</th>\n",
              "    </tr>\n",
              "  </thead>\n",
              "  <tbody>\n",
              "    <tr>\n",
              "      <th>269</th>\n",
              "      <td>dockers do the job.: this product was just wha...</td>\n",
              "      <td>1</td>\n",
              "      <td>25</td>\n",
              "      <td>dockers do the job[management].: this product[...</td>\n",
              "      <td>dockers do the management.: this management wa...</td>\n",
              "    </tr>\n",
              "    <tr>\n",
              "      <th>370</th>\n",
              "      <td>good deal and fast shipping: i bought this boo...</td>\n",
              "      <td>1</td>\n",
              "      <td>27</td>\n",
              "      <td>good deal and fast shipping[cards]: i bought[s...</td>\n",
              "      <td>good deal and fast cards: i sold this script c...</td>\n",
              "    </tr>\n",
              "    <tr>\n",
              "      <th>1112</th>\n",
              "      <td>clean: excellent copy and shipped fast. this i...</td>\n",
              "      <td>1</td>\n",
              "      <td>21</td>\n",
              "      <td>clean: excellent[fantastic] copy and shipped[s...</td>\n",
              "      <td>clean: fantastic copy and sold fast. this is o...</td>\n",
              "    </tr>\n",
              "    <tr>\n",
              "      <th>1729</th>\n",
              "      <td>outrageously funny: this book is laugh-out-lou...</td>\n",
              "      <td>1</td>\n",
              "      <td>24</td>\n",
              "      <td>outrageously funny: this book[script] is laugh...</td>\n",
              "      <td>outrageously funny: this script is laugh-out-l...</td>\n",
              "    </tr>\n",
              "    <tr>\n",
              "      <th>2861</th>\n",
              "      <td>good movie: i like all of the transformers mov...</td>\n",
              "      <td>1</td>\n",
              "      <td>26</td>\n",
              "      <td>good movie[songs]: i like all of the transform...</td>\n",
              "      <td>good songs: i like all of the transformers son...</td>\n",
              "    </tr>\n",
              "  </tbody>\n",
              "</table>\n",
              "</div>\n",
              "      <button class=\"colab-df-convert\" onclick=\"convertToInteractive('df-647af088-eefe-44b5-815c-0e19a17bb370')\"\n",
              "              title=\"Convert this dataframe to an interactive table.\"\n",
              "              style=\"display:none;\">\n",
              "        \n",
              "  <svg xmlns=\"http://www.w3.org/2000/svg\" height=\"24px\"viewBox=\"0 0 24 24\"\n",
              "       width=\"24px\">\n",
              "    <path d=\"M0 0h24v24H0V0z\" fill=\"none\"/>\n",
              "    <path d=\"M18.56 5.44l.94 2.06.94-2.06 2.06-.94-2.06-.94-.94-2.06-.94 2.06-2.06.94zm-11 1L8.5 8.5l.94-2.06 2.06-.94-2.06-.94L8.5 2.5l-.94 2.06-2.06.94zm10 10l.94 2.06.94-2.06 2.06-.94-2.06-.94-.94-2.06-.94 2.06-2.06.94z\"/><path d=\"M17.41 7.96l-1.37-1.37c-.4-.4-.92-.59-1.43-.59-.52 0-1.04.2-1.43.59L10.3 9.45l-7.72 7.72c-.78.78-.78 2.05 0 2.83L4 21.41c.39.39.9.59 1.41.59.51 0 1.02-.2 1.41-.59l7.78-7.78 2.81-2.81c.8-.78.8-2.07 0-2.86zM5.41 20L4 18.59l7.72-7.72 1.47 1.35L5.41 20z\"/>\n",
              "  </svg>\n",
              "      </button>\n",
              "      \n",
              "  <style>\n",
              "    .colab-df-container {\n",
              "      display:flex;\n",
              "      flex-wrap:wrap;\n",
              "      gap: 12px;\n",
              "    }\n",
              "\n",
              "    .colab-df-convert {\n",
              "      background-color: #E8F0FE;\n",
              "      border: none;\n",
              "      border-radius: 50%;\n",
              "      cursor: pointer;\n",
              "      display: none;\n",
              "      fill: #1967D2;\n",
              "      height: 32px;\n",
              "      padding: 0 0 0 0;\n",
              "      width: 32px;\n",
              "    }\n",
              "\n",
              "    .colab-df-convert:hover {\n",
              "      background-color: #E2EBFA;\n",
              "      box-shadow: 0px 1px 2px rgba(60, 64, 67, 0.3), 0px 1px 3px 1px rgba(60, 64, 67, 0.15);\n",
              "      fill: #174EA6;\n",
              "    }\n",
              "\n",
              "    [theme=dark] .colab-df-convert {\n",
              "      background-color: #3B4455;\n",
              "      fill: #D2E3FC;\n",
              "    }\n",
              "\n",
              "    [theme=dark] .colab-df-convert:hover {\n",
              "      background-color: #434B5C;\n",
              "      box-shadow: 0px 1px 3px 1px rgba(0, 0, 0, 0.15);\n",
              "      filter: drop-shadow(0px 1px 2px rgba(0, 0, 0, 0.3));\n",
              "      fill: #FFFFFF;\n",
              "    }\n",
              "  </style>\n",
              "\n",
              "      <script>\n",
              "        const buttonEl =\n",
              "          document.querySelector('#df-647af088-eefe-44b5-815c-0e19a17bb370 button.colab-df-convert');\n",
              "        buttonEl.style.display =\n",
              "          google.colab.kernel.accessAllowed ? 'block' : 'none';\n",
              "\n",
              "        async function convertToInteractive(key) {\n",
              "          const element = document.querySelector('#df-647af088-eefe-44b5-815c-0e19a17bb370');\n",
              "          const dataTable =\n",
              "            await google.colab.kernel.invokeFunction('convertToInteractive',\n",
              "                                                     [key], {});\n",
              "          if (!dataTable) return;\n",
              "\n",
              "          const docLinkHtml = 'Like what you see? Visit the ' +\n",
              "            '<a target=\"_blank\" href=https://colab.research.google.com/notebooks/data_table.ipynb>data table notebook</a>'\n",
              "            + ' to learn more about interactive tables.';\n",
              "          element.innerHTML = '';\n",
              "          dataTable['output_type'] = 'display_data';\n",
              "          await google.colab.output.renderOutput(dataTable, element);\n",
              "          const docLink = document.createElement('div');\n",
              "          docLink.innerHTML = docLinkHtml;\n",
              "          element.appendChild(docLink);\n",
              "        }\n",
              "      </script>\n",
              "    </div>\n",
              "  </div>\n",
              "  "
            ]
          },
          "metadata": {},
          "execution_count": 369
        }
      ]
    },
    {
      "cell_type": "markdown",
      "source": [
        "calc again Jacard and show distr:\n"
      ],
      "metadata": {
        "id": "jlcTNeyDhmNa"
      }
    },
    {
      "cell_type": "code",
      "source": [
        "%%time\n",
        "# Create a list of sentence texts\n",
        "sentences = list(filtered_df_copy.anon_txt_clean)\n",
        "\n",
        "# Compute the Jaccard index for all pairs of sentences\n",
        "jaccard_index_dict = {(indices_list_short_1[i],indices_list_short_1[j]): jaccard_index(sentences[i], sentences[j]) for i in range(len(sentences)) for j in range(i+1, len(sentences))}\n",
        "\n",
        "# Sort the dictionary by its values in descending order\n",
        "sorted_dict = dict(sorted(jaccard_index_dict.items(), key=lambda item: item[1], reverse=True))"
      ],
      "metadata": {
        "colab": {
          "base_uri": "https://localhost:8080/"
        },
        "id": "tOWPM4MviD18",
        "outputId": "2dbda619-737a-42a9-c142-b1ceca6e4703"
      },
      "execution_count": null,
      "outputs": [
        {
          "output_type": "stream",
          "name": "stdout",
          "text": [
            "CPU times: user 17.7 ms, sys: 0 ns, total: 17.7 ms\n",
            "Wall time: 20.1 ms\n"
          ]
        }
      ]
    },
    {
      "cell_type": "code",
      "source": [],
      "metadata": {
        "id": "acwzOPZrk3ON"
      },
      "execution_count": null,
      "outputs": []
    },
    {
      "cell_type": "code",
      "source": [
        "# plot again jaccard dist\n",
        "\n",
        "plot_jaccard_hist(sorted_dict)"
      ],
      "metadata": {
        "colab": {
          "base_uri": "https://localhost:8080/",
          "height": 472
        },
        "id": "DhwHakjBlXtu",
        "outputId": "adae2221-8793-40eb-acd0-0304eaaf754b"
      },
      "execution_count": null,
      "outputs": [
        {
          "output_type": "display_data",
          "data": {
            "text/plain": [
              "<Figure size 640x480 with 1 Axes>"
            ],
            "image/png": "[encoded data removed]"
          },
          "metadata": {}
        }
      ]
    },
    {
      "cell_type": "code",
      "source": [
        "print(\"mean Jaccard:\", np.mean(values))"
      ],
      "metadata": {
        "colab": {
          "base_uri": "https://localhost:8080/"
        },
        "id": "j2EmuMpUmrF6",
        "outputId": "a560606f-385c-40d5-c830-a38abc0e3177"
      },
      "execution_count": null,
      "outputs": [
        {
          "output_type": "stream",
          "name": "stdout",
          "text": [
            "mean Jaccard: 0.12889057084552658\n"
          ]
        }
      ]
    },
    {
      "cell_type": "markdown",
      "source": [
        "## Perform another cycle of clustering and switching\n",
        "\n",
        "X = the anon_clean text\n",
        "ignore \"new_words\""
      ],
      "metadata": {
        "id": "UwSc-SwhmrW1"
      }
    },
    {
      "cell_type": "code",
      "source": [
        "new_words"
      ],
      "metadata": {
        "colab": {
          "base_uri": "https://localhost:8080/"
        },
        "id": "t5dFiUkusAxy",
        "outputId": "a8d936d1-dcae-4323-c2b6-cdbdce248c6a"
      },
      "execution_count": null,
      "outputs": [
        {
          "output_type": "execute_result",
          "data": {
            "text/plain": [
              "['script',\n",
              " 'write',\n",
              " 'songs',\n",
              " 'management',\n",
              " 'fantastic',\n",
              " 'hd',\n",
              " 'cards',\n",
              " 'through',\n",
              " 'in-depth',\n",
              " 'sold',\n",
              " 'called',\n",
              " 'black',\n",
              " 'unhappy',\n",
              " 'illustration',\n",
              " 'houston',\n",
              " 'psychology']"
            ]
          },
          "metadata": {},
          "execution_count": 373
        }
      ]
    },
    {
      "cell_type": "code",
      "source": [
        "# taking x as the new column:\n",
        "X = filtered_df_copy['anon_txt_clean']"
      ],
      "metadata": {
        "id": "DNmMXSBpmwTZ"
      },
      "execution_count": null,
      "outputs": []
    },
    {
      "cell_type": "code",
      "source": [
        "# creating word embedding:\n",
        "tokenizer.fit_on_texts(X)"
      ],
      "metadata": {
        "id": "y0UwXQNxm_QU"
      },
      "execution_count": null,
      "outputs": []
    },
    {
      "cell_type": "code",
      "source": [
        "# mapping of the words to numbers\n",
        "word_index = tokenizer.word_index"
      ],
      "metadata": {
        "id": "WPjNL2SnnMWC"
      },
      "execution_count": null,
      "outputs": []
    },
    {
      "cell_type": "code",
      "source": [
        "# Iterate over your dictionary of words and embed them using GloVe\n",
        "embedded_dict = {}\n",
        "for word, idx in word_index.items():\n",
        "    if word not in sw:\n",
        "        try:\n",
        "            embedded_dict[word] = glove_model[word]\n",
        "        except KeyError:\n",
        "            # If the word is not in the GloVe vocabulary, assign a default embedding or skip it\n",
        "            pass"
      ],
      "metadata": {
        "id": "FXgHvDc1nMWD"
      },
      "execution_count": null,
      "outputs": []
    },
    {
      "cell_type": "code",
      "source": [
        "# try add not int new_words\n",
        "embedded_dict = {}\n",
        "for word, idx in word_index.items():\n",
        "    if word not in sw:\n",
        "      if word not in new_words:\n",
        "          try:\n",
        "              embedded_dict[word] = glove_model[word]\n",
        "          except KeyError:\n",
        "              # If the word is not in the GloVe vocabulary, assign a default embedding or skip it\n",
        "              pass"
      ],
      "metadata": {
        "id": "dh44Gg2WAMp4"
      },
      "execution_count": null,
      "outputs": []
    },
    {
      "cell_type": "code",
      "source": [
        "embeddings = np.array(list(embedded_dict.values()))"
      ],
      "metadata": {
        "id": "f_-ZddkhnMWD"
      },
      "execution_count": null,
      "outputs": []
    },
    {
      "cell_type": "code",
      "source": [
        "## CODE USED TO FINED EPS VALUE == NO NEED TO RUN THIS AGAIN\n",
        "if True: \n",
        "    from kneed import KneeLocator\n",
        "    from sklearn.neighbors import NearestNeighbors\n",
        "\n",
        "    # Compute the k-distances for each point\n",
        "    k = 10\n",
        "    neigh = NearestNeighbors(n_neighbors=k)\n",
        "    neigh.fit(embeddings)\n",
        "    distances, indices = neigh.kneighbors(embeddings)\n",
        "\n",
        "    # Sort the distances and flatten them into a 1D array\n",
        "    sorted_distances = np.sort(distances[:,k-1], axis=None)\n",
        "\n",
        "    # Plot the k-distance graph\n",
        "    #plt.plot(sorted_distances)\n",
        "\n",
        "    # Find the elbow point\n",
        "    kneedle = KneeLocator(range(len(sorted_distances)), sorted_distances, S=1.0, curve='concave', direction='increasing')\n",
        "    eps = sorted_distances[kneedle.elbow]\n",
        "\n",
        "    print(f\"Estimated eps value: {eps}\")\n",
        "\n",
        "    first_run=False"
      ],
      "metadata": {
        "colab": {
          "base_uri": "https://localhost:8080/"
        },
        "id": "ry2IlEhlnZ2M",
        "outputId": "20da67d1-6965-441e-a3b1-3ba3886d1114"
      },
      "execution_count": null,
      "outputs": [
        {
          "output_type": "stream",
          "name": "stdout",
          "text": [
            "Estimated eps value: 2.321795776165661\n"
          ]
        }
      ]
    },
    {
      "cell_type": "code",
      "source": [
        "dbscan = DBSCAN(eps=eps, min_samples=2)  # <0.5 returned only one cluster. Chose 3 a min words per cluster (maybe reduce to 2?) Maybe according to k"
      ],
      "metadata": {
        "id": "3h9MTorVn1cC"
      },
      "execution_count": null,
      "outputs": []
    },
    {
      "cell_type": "code",
      "source": [
        "dbscan.fit(embeddings)\n"
      ],
      "metadata": {
        "colab": {
          "base_uri": "https://localhost:8080/",
          "height": 74
        },
        "outputId": "ab8d5f40-1378-4d1f-ca91-5f4d3e41eeb9",
        "id": "EmMF7zdrn1cC"
      },
      "execution_count": null,
      "outputs": [
        {
          "output_type": "execute_result",
          "data": {
            "text/plain": [
              "DBSCAN(eps=2.321795776165661, min_samples=2)"
            ],
            "text/html": [
              "<style>#sk-container-id-21 {color: black;background-color: white;}#sk-container-id-21 pre{padding: 0;}#sk-container-id-21 div.sk-toggleable {background-color: white;}#sk-container-id-21 label.sk-toggleable__label {cursor: pointer;display: block;width: 100%;margin-bottom: 0;padding: 0.3em;box-sizing: border-box;text-align: center;}#sk-container-id-21 label.sk-toggleable__label-arrow:before {content: \"▸\";float: left;margin-right: 0.25em;color: #696969;}#sk-container-id-21 label.sk-toggleable__label-arrow:hover:before {color: black;}#sk-container-id-21 div.sk-estimator:hover label.sk-toggleable__label-arrow:before {color: black;}#sk-container-id-21 div.sk-toggleable__content {max-height: 0;max-width: 0;overflow: hidden;text-align: left;background-color: #f0f8ff;}#sk-container-id-21 div.sk-toggleable__content pre {margin: 0.2em;color: black;border-radius: 0.25em;background-color: #f0f8ff;}#sk-container-id-21 input.sk-toggleable__control:checked~div.sk-toggleable__content {max-height: 200px;max-width: 100%;overflow: auto;}#sk-container-id-21 input.sk-toggleable__control:checked~label.sk-toggleable__label-arrow:before {content: \"▾\";}#sk-container-id-21 div.sk-estimator input.sk-toggleable__control:checked~label.sk-toggleable__label {background-color: #d4ebff;}#sk-container-id-21 div.sk-label input.sk-toggleable__control:checked~label.sk-toggleable__label {background-color: #d4ebff;}#sk-container-id-21 input.sk-hidden--visually {border: 0;clip: rect(1px 1px 1px 1px);clip: rect(1px, 1px, 1px, 1px);height: 1px;margin: -1px;overflow: hidden;padding: 0;position: absolute;width: 1px;}#sk-container-id-21 div.sk-estimator {font-family: monospace;background-color: #f0f8ff;border: 1px dotted black;border-radius: 0.25em;box-sizing: border-box;margin-bottom: 0.5em;}#sk-container-id-21 div.sk-estimator:hover {background-color: #d4ebff;}#sk-container-id-21 div.sk-parallel-item::after {content: \"\";width: 100%;border-bottom: 1px solid gray;flex-grow: 1;}#sk-container-id-21 div.sk-label:hover label.sk-toggleable__label {background-color: #d4ebff;}#sk-container-id-21 div.sk-serial::before {content: \"\";position: absolute;border-left: 1px solid gray;box-sizing: border-box;top: 0;bottom: 0;left: 50%;z-index: 0;}#sk-container-id-21 div.sk-serial {display: flex;flex-direction: column;align-items: center;background-color: white;padding-right: 0.2em;padding-left: 0.2em;position: relative;}#sk-container-id-21 div.sk-item {position: relative;z-index: 1;}#sk-container-id-21 div.sk-parallel {display: flex;align-items: stretch;justify-content: center;background-color: white;position: relative;}#sk-container-id-21 div.sk-item::before, #sk-container-id-21 div.sk-parallel-item::before {content: \"\";position: absolute;border-left: 1px solid gray;box-sizing: border-box;top: 0;bottom: 0;left: 50%;z-index: -1;}#sk-container-id-21 div.sk-parallel-item {display: flex;flex-direction: column;z-index: 1;position: relative;background-color: white;}#sk-container-id-21 div.sk-parallel-item:first-child::after {align-self: flex-end;width: 50%;}#sk-container-id-21 div.sk-parallel-item:last-child::after {align-self: flex-start;width: 50%;}#sk-container-id-21 div.sk-parallel-item:only-child::after {width: 0;}#sk-container-id-21 div.sk-dashed-wrapped {border: 1px dashed gray;margin: 0 0.4em 0.5em 0.4em;box-sizing: border-box;padding-bottom: 0.4em;background-color: white;}#sk-container-id-21 div.sk-label label {font-family: monospace;font-weight: bold;display: inline-block;line-height: 1.2em;}#sk-container-id-21 div.sk-label-container {text-align: center;}#sk-container-id-21 div.sk-container {/* jupyter's `normalize.less` sets `[hidden] { display: none; }` but bootstrap.min.css set `[hidden] { display: none !important; }` so we also need the `!important` here to be able to override the default hidden behavior on the sphinx rendered scikit-learn.org. See: https://github.com/scikit-learn/scikit-learn/issues/21755 */display: inline-block !important;position: relative;}#sk-container-id-21 div.sk-text-repr-fallback {display: none;}</style><div id=\"sk-container-id-21\" class=\"sk-top-container\"><div class=\"sk-text-repr-fallback\"><pre>DBSCAN(eps=2.321795776165661, min_samples=2)</pre><b>In a Jupyter environment, please rerun this cell to show the HTML representation or trust the notebook. <br />On GitHub, the HTML representation is unable to render, please try loading this page with nbviewer.org.</b></div><div class=\"sk-container\" hidden><div class=\"sk-item\"><div class=\"sk-estimator sk-toggleable\"><input class=\"sk-toggleable__control sk-hidden--visually\" id=\"sk-estimator-id-21\" type=\"checkbox\" checked><label for=\"sk-estimator-id-21\" class=\"sk-toggleable__label sk-toggleable__label-arrow\">DBSCAN</label><div class=\"sk-toggleable__content\"><pre>DBSCAN(eps=2.321795776165661, min_samples=2)</pre></div></div></div></div></div>"
            ]
          },
          "metadata": {},
          "execution_count": 385
        }
      ]
    },
    {
      "cell_type": "code",
      "source": [
        "labels = dbscan.labels_\n",
        "labels"
      ],
      "metadata": {
        "colab": {
          "base_uri": "https://localhost:8080/"
        },
        "outputId": "fcf5050d-4ec0-4e81-987a-61f42cce457d",
        "id": "t97yW4l_n1cC"
      },
      "execution_count": null,
      "outputs": [
        {
          "output_type": "execute_result",
          "data": {
            "text/plain": [
              "array([ 0,  1,  0, -1,  0,  0, -1,  0,  2,  0,  0,  3,  0,  4, -1,  0,  0,\n",
              "       -1,  5,  0,  0, -1, -1,  0, -1, -1, -1,  6, -1,  0, -1,  0, -1, -1,\n",
              "        0, -1, -1, -1,  0, -1,  0, -1,  1, -1,  0,  0, -1,  0,  0,  7, -1,\n",
              "       -1, -1, -1,  0,  4, -1,  0,  0,  0,  0, -1, -1,  0,  0, -1,  0,  0,\n",
              "        0, -1, -1,  0, -1, -1, -1, -1, -1, -1,  8,  9, -1,  0, -1,  7, -1,\n",
              "       10, 11,  0, -1,  0,  0, -1,  0, -1, -1,  0, -1,  0, -1, -1,  3,  0,\n",
              "        0,  0,  0,  0, -1, -1, -1, -1, -1, -1,  0, -1,  0, 12, -1,  0, -1,\n",
              "        0, 10, -1, -1, -1, -1, -1, -1, -1,  9, -1, -1,  0, -1, -1, -1, -1,\n",
              "       -1, -1,  0,  0, -1, 13, -1,  0,  0, -1, -1, -1, -1, 13, -1,  0,  0,\n",
              "       -1,  0,  0, -1, -1,  0, -1, -1, -1, -1, -1, -1, -1, -1, -1,  0, -1,\n",
              "       -1, -1, -1,  0,  0, -1,  4,  8, -1,  0, -1, -1, -1, -1,  0, -1,  0,\n",
              "       -1,  0, -1, -1,  0,  0, -1, -1, -1, -1, -1, -1, -1, -1, -1, -1, -1,\n",
              "        0, -1, -1, -1,  0, -1,  4, -1,  4, 10,  4, 11, 14,  5,  2,  9, 15,\n",
              "        1, 16, -1,  8, 12, 16, 14, 15,  6, 10])"
            ]
          },
          "metadata": {},
          "execution_count": 386
        }
      ]
    },
    {
      "cell_type": "code",
      "source": [
        "# plot in 2d\n",
        "# Extract the embeddings from the embedded_dict and store them in a numpy array\n",
        "embeddings = np.array(list(embedded_dict.values()))\n",
        "\n",
        "# Perform t-SNE on the embeddings to reduce their dimensionality to 2\n",
        "tsne = TSNE(n_components=2, perplexity=30, n_iter=1000, random_state=42)\n",
        "embeddings_2d = tsne.fit_transform(embeddings)\n",
        "\n",
        "# Get the cluster labels assigned by DBSCAN\n",
        "labels = dbscan.labels_\n",
        "\n",
        "# Plot the 2D embeddings with different colors for each cluster\n",
        "plt.scatter(embeddings_2d[:, 0], embeddings_2d[:, 1], c=labels)\n",
        "plt.show()"
      ],
      "metadata": {
        "colab": {
          "base_uri": "https://localhost:8080/",
          "height": 430
        },
        "outputId": "82716f4c-fe07-48b2-c480-262872c7a895",
        "id": "Dzu7e3ppn1cD"
      },
      "execution_count": null,
      "outputs": [
        {
          "output_type": "display_data",
          "data": {
            "text/plain": [
              "<Figure size 640x480 with 1 Axes>"
            ],
            "image/png": "[encoded data removed]"
          },
          "metadata": {}
        }
      ]
    },
    {
      "cell_type": "code",
      "source": [
        "clusters = {}\n",
        "for i, key in enumerate(embedded_dict.keys()):\n",
        "    cluster = labels[i]\n",
        "    if cluster not in clusters:\n",
        "        clusters[cluster] = []\n",
        "    clusters[cluster].append(key)"
      ],
      "metadata": {
        "id": "R8rKhGH4oExm"
      },
      "execution_count": null,
      "outputs": []
    },
    {
      "cell_type": "code",
      "source": [
        "for key, val in clusters.items():\n",
        "    print(f'Cluster {key} includes {len(val)} words')"
      ],
      "metadata": {
        "colab": {
          "base_uri": "https://localhost:8080/"
        },
        "outputId": "f0ac9cb0-99da-48be-9313-df79f6a74e71",
        "id": "bPkw1ebeoExn"
      },
      "execution_count": null,
      "outputs": [
        {
          "output_type": "stream",
          "name": "stdout",
          "text": [
            "Cluster 0 includes 70 words\n",
            "Cluster 1 includes 3 words\n",
            "Cluster -1 includes 120 words\n",
            "Cluster 2 includes 2 words\n",
            "Cluster 3 includes 2 words\n",
            "Cluster 4 includes 6 words\n",
            "Cluster 5 includes 2 words\n",
            "Cluster 6 includes 2 words\n",
            "Cluster 7 includes 2 words\n",
            "Cluster 8 includes 3 words\n",
            "Cluster 9 includes 3 words\n",
            "Cluster 10 includes 4 words\n",
            "Cluster 11 includes 2 words\n",
            "Cluster 12 includes 2 words\n",
            "Cluster 13 includes 2 words\n",
            "Cluster 14 includes 2 words\n",
            "Cluster 15 includes 2 words\n",
            "Cluster 16 includes 2 words\n"
          ]
        }
      ]
    },
    {
      "cell_type": "code",
      "source": [
        "#filtered_df_copy['anon_txt'] = filtered_df_copy['txt']\n",
        "#filtered_df_copy['anon_txt_clean'] = filtered_df_copy['txt']\n",
        "new_words_vec = new_words  # rename to clear object\n",
        "new_words = []  # init new list\n",
        "for key, words in clusters.items(): \n",
        "    if key >= 0:  # Ignoring the -1 label\n",
        "      if len(clusters[key])<10: # so it will make sense!!!!!!!!!!!!!!!!!!!!!!!!!!!!!!!  TRY LESS THAN 10?!?!?!\n",
        "            general_word = get_general_word_from_cluster(words, glove_model)\n",
        "            for word in words:\n",
        "              if word not in new_words_vec:\n",
        "                new_words.append(general_word)  # the list of new words\n",
        "\n",
        "                filtered_df_copy['anon_txt'] = filtered_df_copy['anon_txt'].apply(lambda x: x.replace(word, ''.join([word ,'[', general_word,']'])))\n",
        "                filtered_df_copy['anon_txt_clean'] = filtered_df_copy['anon_txt_clean'].apply(lambda x: x.replace(word, general_word))\n",
        "                print('\\treplacing', word, 'in', general_word)\n",
        "# drop duplicates:\n",
        "new_words = list(set(new_words))"
      ],
      "metadata": {
        "colab": {
          "base_uri": "https://localhost:8080/"
        },
        "id": "j6lpxfDyoLOm",
        "outputId": "341c3927-fe37-46b7-d23c-7116695a1668"
      },
      "execution_count": null,
      "outputs": [
        {
          "output_type": "stream",
          "name": "stdout",
          "text": [
            "\treplacing book in script\n",
            "\treplacing books in script\n",
            "\treplacing review in script\n",
            "\treplacing read in write\n",
            "\treplacing reading in write\n",
            "\treplacing movie in songs\n",
            "\treplacing movies in songs\n",
            "\treplacing product in management\n",
            "\treplacing business in management\n",
            "\treplacing quality in management\n",
            "\treplacing service in management\n",
            "\treplacing job in management\n",
            "\treplacing company in management\n",
            "\treplacing excellent in fantastic\n",
            "\treplacing addition in fantastic\n",
            "\treplacing dvd in hd\n",
            "\treplacing cd in hd\n",
            "\treplacing purchase in cards\n",
            "\treplacing shipping in cards\n",
            "\treplacing within in through\n",
            "\treplacing upon in through\n",
            "\treplacing throughout in through\n",
            "\treplacing timely in in-depth\n",
            "\treplacing intriguing in in-depth\n",
            "\treplacing prompt in in-depth\n",
            "\treplacing bought in sold\n",
            "\treplacing ordered in sold\n",
            "\treplacing shipped in sold\n",
            "\treplacing purchased in sold\n",
            "\treplacing used in called\n",
            "\treplacing found in called\n",
            "\treplacing piece in black\n",
            "\treplacing classic in black\n",
            "\treplacing satisfied in unhappy\n",
            "\treplacing happier in unhappy\n",
            "\treplacing animation in illustration\n",
            "\treplacing fiction in illustration\n",
            "\treplacing brooklyn in houston\n",
            "\treplacing west in houston\n",
            "\treplacing philosophy in psychology\n",
            "\treplacing science in psychology\n"
          ]
        }
      ]
    },
    {
      "cell_type": "code",
      "source": [
        "new_words\n"
      ],
      "metadata": {
        "colab": {
          "base_uri": "https://localhost:8080/"
        },
        "id": "764vBmf8vD6L",
        "outputId": "25c6684a-ff9b-48f1-d41d-2a38d345b317"
      },
      "execution_count": null,
      "outputs": [
        {
          "output_type": "execute_result",
          "data": {
            "text/plain": [
              "['houston',\n",
              " 'psychology',\n",
              " 'fantastic',\n",
              " 'unhappy',\n",
              " 'black',\n",
              " 'songs',\n",
              " 'write',\n",
              " 'in-depth',\n",
              " 'cards',\n",
              " 'called',\n",
              " 'illustration',\n",
              " 'sold',\n",
              " 'through',\n",
              " 'script',\n",
              " 'management',\n",
              " 'hd']"
            ]
          },
          "metadata": {},
          "execution_count": 391
        }
      ]
    },
    {
      "cell_type": "code",
      "source": [
        "filtered_df_copy.head(20)"
      ],
      "metadata": {
        "colab": {
          "base_uri": "https://localhost:8080/",
          "height": 676
        },
        "id": "izG8ONjloWKe",
        "outputId": "eadce885-a64c-4899-a448-395356dcb81c"
      },
      "execution_count": null,
      "outputs": [
        {
          "output_type": "execute_result",
          "data": {
            "text/plain": [
              "                                                     txt  sentiment  \\\n",
              "269    dockers do the job.: this product was just wha...          1   \n",
              "370    good deal and fast shipping: i bought this boo...          1   \n",
              "1112   clean: excellent copy and shipped fast. this i...          1   \n",
              "1729   outrageously funny: this book is laugh-out-lou...          1   \n",
              "2861   good movie: i like all of the transformers mov...          1   \n",
              "2895   cool movie: i had never watched this movie and...          1   \n",
              "2949   good purchase!: i love this purchase and i wou...          1   \n",
              "2951   awesome movie: this is a great addition to any...          1   \n",
              "6900   i think this book is horrible: i have never re...          0   \n",
              "7275   good value: this was ordered for a teenager wh...          1   \n",
              "7293   read this book: amazingly written!! ray bradbu...          1   \n",
              "7936   a near-perfect film.: completely absorbing and...          1   \n",
              "8459   pointless: this is one of the hardest to read ...          0   \n",
              "9968   book purchase: product was in excellent shape ...          1   \n",
              "10919  very satisfied!: it came on time, and it was i...          1   \n",
              "11844  it sucked!: i hate the book. it was the worst ...          0   \n",
              "13127  great book: one of the best and most interesti...          1   \n",
              "13213  great condition and prompt delivery: the produ...          1   \n",
              "13718  couldn't be happier with this product!: book c...          1   \n",
              "13891  excellent: since this product came with the pr...          1   \n",
              "\n",
              "       num_of_words                                           anon_txt  \\\n",
              "269              25  dockers do the job[management][management].: t...   \n",
              "370              27  good deal and fast shipping[cards][cards]: i b...   \n",
              "1112             21  clean: excellent[fantastic][fantastic] copy an...   \n",
              "1729             24  outrageously funny: this book[script][script] ...   \n",
              "2861             26  good movie[songs][songs]: i like all of the tr...   \n",
              "2895             30  cool movie[songs][songs]: i had never watched ...   \n",
              "2949             23  good purchase[cards][cards]!: i love this purc...   \n",
              "2951             24  awesome movie[songs][songs]: this is a great a...   \n",
              "6900             30  i think this book[script][script] is horrible:...   \n",
              "7275             28  good value: this was ordered[sold][sold] for a...   \n",
              "7293             25  read[write][write] this book[script][script]: ...   \n",
              "7936             17  a near-perfect film.: completely absorbing and...   \n",
              "8459             22  pointless: this is one of the hardest to read[...   \n",
              "9968             22  book[script][script] purchase[cards][cards]: p...   \n",
              "10919            22  very satisfied[unhappy][unhappy]!: it came on ...   \n",
              "11844            23  it sucked!: i hate the book[script][script]. i...   \n",
              "13127            20  great book[script][script]: one of the best an...   \n",
              "13213            21  great condition and prompt[in-depth][in-depth]...   \n",
              "13718            23  couldn't be happier[unhappy][unhappy] with thi...   \n",
              "13891            21  excellent[fantastic][fantastic]: since this pr...   \n",
              "\n",
              "                                          anon_txt_clean  \n",
              "269    dockers do the management.: this management wa...  \n",
              "370    good deal and fast cards: i sold this script c...  \n",
              "1112   clean: fantastic copy and sold fast. this is o...  \n",
              "1729   outrageously funny: this script is laugh-out-l...  \n",
              "2861   good songs: i like all of the transformers son...  \n",
              "2895   cool songs: i had never watched this songs and...  \n",
              "2949   good cards!: i love this cards and i would rec...  \n",
              "2951   awesome songs: this is a great fantastic to an...  \n",
              "6900   i think this script is horrible: i have never ...  \n",
              "7275   good value: this was sold for a teenager who h...  \n",
              "7293   write this script: amazingly written!! ray bra...  \n",
              "7936   a near-perfect film.: completely absorbing and...  \n",
              "8459   pointless: this is one of the hardest to write...  \n",
              "9968   script cards: management was in fantastic shap...  \n",
              "10919  very unhappy!: it came on time, and it was in ...  \n",
              "11844  it sucked!: i hate the script. it was the wors...  \n",
              "13127  great script: one of the best and most interes...  \n",
              "13213  great condition and in-depth delivery: the man...  \n",
              "13718  couldn't be unhappy with this management!: scr...  \n",
              "13891  fantastic: since this management came with the...  "
            ],
            "text/html": [
              "\n",
              "  <div id=\"df-78c51c9a-c85e-4ed6-bd67-c759b9e31cda\">\n",
              "    <div class=\"colab-df-container\">\n",
              "      <div>\n",
              "<style scoped>\n",
              "    .dataframe tbody tr th:only-of-type {\n",
              "        vertical-align: middle;\n",
              "    }\n",
              "\n",
              "    .dataframe tbody tr th {\n",
              "        vertical-align: top;\n",
              "    }\n",
              "\n",
              "    .dataframe thead th {\n",
              "        text-align: right;\n",
              "    }\n",
              "</style>\n",
              "<table border=\"1\" class=\"dataframe\">\n",
              "  <thead>\n",
              "    <tr style=\"text-align: right;\">\n",
              "      <th></th>\n",
              "      <th>txt</th>\n",
              "      <th>sentiment</th>\n",
              "      <th>num_of_words</th>\n",
              "      <th>anon_txt</th>\n",
              "      <th>anon_txt_clean</th>\n",
              "    </tr>\n",
              "  </thead>\n",
              "  <tbody>\n",
              "    <tr>\n",
              "      <th>269</th>\n",
              "      <td>dockers do the job.: this product was just wha...</td>\n",
              "      <td>1</td>\n",
              "      <td>25</td>\n",
              "      <td>dockers do the job[management][management].: t...</td>\n",
              "      <td>dockers do the management.: this management wa...</td>\n",
              "    </tr>\n",
              "    <tr>\n",
              "      <th>370</th>\n",
              "      <td>good deal and fast shipping: i bought this boo...</td>\n",
              "      <td>1</td>\n",
              "      <td>27</td>\n",
              "      <td>good deal and fast shipping[cards][cards]: i b...</td>\n",
              "      <td>good deal and fast cards: i sold this script c...</td>\n",
              "    </tr>\n",
              "    <tr>\n",
              "      <th>1112</th>\n",
              "      <td>clean: excellent copy and shipped fast. this i...</td>\n",
              "      <td>1</td>\n",
              "      <td>21</td>\n",
              "      <td>clean: excellent[fantastic][fantastic] copy an...</td>\n",
              "      <td>clean: fantastic copy and sold fast. this is o...</td>\n",
              "    </tr>\n",
              "    <tr>\n",
              "      <th>1729</th>\n",
              "      <td>outrageously funny: this book is laugh-out-lou...</td>\n",
              "      <td>1</td>\n",
              "      <td>24</td>\n",
              "      <td>outrageously funny: this book[script][script] ...</td>\n",
              "      <td>outrageously funny: this script is laugh-out-l...</td>\n",
              "    </tr>\n",
              "    <tr>\n",
              "      <th>2861</th>\n",
              "      <td>good movie: i like all of the transformers mov...</td>\n",
              "      <td>1</td>\n",
              "      <td>26</td>\n",
              "      <td>good movie[songs][songs]: i like all of the tr...</td>\n",
              "      <td>good songs: i like all of the transformers son...</td>\n",
              "    </tr>\n",
              "    <tr>\n",
              "      <th>2895</th>\n",
              "      <td>cool movie: i had never watched this movie and...</td>\n",
              "      <td>1</td>\n",
              "      <td>30</td>\n",
              "      <td>cool movie[songs][songs]: i had never watched ...</td>\n",
              "      <td>cool songs: i had never watched this songs and...</td>\n",
              "    </tr>\n",
              "    <tr>\n",
              "      <th>2949</th>\n",
              "      <td>good purchase!: i love this purchase and i wou...</td>\n",
              "      <td>1</td>\n",
              "      <td>23</td>\n",
              "      <td>good purchase[cards][cards]!: i love this purc...</td>\n",
              "      <td>good cards!: i love this cards and i would rec...</td>\n",
              "    </tr>\n",
              "    <tr>\n",
              "      <th>2951</th>\n",
              "      <td>awesome movie: this is a great addition to any...</td>\n",
              "      <td>1</td>\n",
              "      <td>24</td>\n",
              "      <td>awesome movie[songs][songs]: this is a great a...</td>\n",
              "      <td>awesome songs: this is a great fantastic to an...</td>\n",
              "    </tr>\n",
              "    <tr>\n",
              "      <th>6900</th>\n",
              "      <td>i think this book is horrible: i have never re...</td>\n",
              "      <td>0</td>\n",
              "      <td>30</td>\n",
              "      <td>i think this book[script][script] is horrible:...</td>\n",
              "      <td>i think this script is horrible: i have never ...</td>\n",
              "    </tr>\n",
              "    <tr>\n",
              "      <th>7275</th>\n",
              "      <td>good value: this was ordered for a teenager wh...</td>\n",
              "      <td>1</td>\n",
              "      <td>28</td>\n",
              "      <td>good value: this was ordered[sold][sold] for a...</td>\n",
              "      <td>good value: this was sold for a teenager who h...</td>\n",
              "    </tr>\n",
              "    <tr>\n",
              "      <th>7293</th>\n",
              "      <td>read this book: amazingly written!! ray bradbu...</td>\n",
              "      <td>1</td>\n",
              "      <td>25</td>\n",
              "      <td>read[write][write] this book[script][script]: ...</td>\n",
              "      <td>write this script: amazingly written!! ray bra...</td>\n",
              "    </tr>\n",
              "    <tr>\n",
              "      <th>7936</th>\n",
              "      <td>a near-perfect film.: completely absorbing and...</td>\n",
              "      <td>1</td>\n",
              "      <td>17</td>\n",
              "      <td>a near-perfect film.: completely absorbing and...</td>\n",
              "      <td>a near-perfect film.: completely absorbing and...</td>\n",
              "    </tr>\n",
              "    <tr>\n",
              "      <th>8459</th>\n",
              "      <td>pointless: this is one of the hardest to read ...</td>\n",
              "      <td>0</td>\n",
              "      <td>22</td>\n",
              "      <td>pointless: this is one of the hardest to read[...</td>\n",
              "      <td>pointless: this is one of the hardest to write...</td>\n",
              "    </tr>\n",
              "    <tr>\n",
              "      <th>9968</th>\n",
              "      <td>book purchase: product was in excellent shape ...</td>\n",
              "      <td>1</td>\n",
              "      <td>22</td>\n",
              "      <td>book[script][script] purchase[cards][cards]: p...</td>\n",
              "      <td>script cards: management was in fantastic shap...</td>\n",
              "    </tr>\n",
              "    <tr>\n",
              "      <th>10919</th>\n",
              "      <td>very satisfied!: it came on time, and it was i...</td>\n",
              "      <td>1</td>\n",
              "      <td>22</td>\n",
              "      <td>very satisfied[unhappy][unhappy]!: it came on ...</td>\n",
              "      <td>very unhappy!: it came on time, and it was in ...</td>\n",
              "    </tr>\n",
              "    <tr>\n",
              "      <th>11844</th>\n",
              "      <td>it sucked!: i hate the book. it was the worst ...</td>\n",
              "      <td>0</td>\n",
              "      <td>23</td>\n",
              "      <td>it sucked!: i hate the book[script][script]. i...</td>\n",
              "      <td>it sucked!: i hate the script. it was the wors...</td>\n",
              "    </tr>\n",
              "    <tr>\n",
              "      <th>13127</th>\n",
              "      <td>great book: one of the best and most interesti...</td>\n",
              "      <td>1</td>\n",
              "      <td>20</td>\n",
              "      <td>great book[script][script]: one of the best an...</td>\n",
              "      <td>great script: one of the best and most interes...</td>\n",
              "    </tr>\n",
              "    <tr>\n",
              "      <th>13213</th>\n",
              "      <td>great condition and prompt delivery: the produ...</td>\n",
              "      <td>1</td>\n",
              "      <td>21</td>\n",
              "      <td>great condition and prompt[in-depth][in-depth]...</td>\n",
              "      <td>great condition and in-depth delivery: the man...</td>\n",
              "    </tr>\n",
              "    <tr>\n",
              "      <th>13718</th>\n",
              "      <td>couldn't be happier with this product!: book c...</td>\n",
              "      <td>1</td>\n",
              "      <td>23</td>\n",
              "      <td>couldn't be happier[unhappy][unhappy] with thi...</td>\n",
              "      <td>couldn't be unhappy with this management!: scr...</td>\n",
              "    </tr>\n",
              "    <tr>\n",
              "      <th>13891</th>\n",
              "      <td>excellent: since this product came with the pr...</td>\n",
              "      <td>1</td>\n",
              "      <td>21</td>\n",
              "      <td>excellent[fantastic][fantastic]: since this pr...</td>\n",
              "      <td>fantastic: since this management came with the...</td>\n",
              "    </tr>\n",
              "  </tbody>\n",
              "</table>\n",
              "</div>\n",
              "      <button class=\"colab-df-convert\" onclick=\"convertToInteractive('df-78c51c9a-c85e-4ed6-bd67-c759b9e31cda')\"\n",
              "              title=\"Convert this dataframe to an interactive table.\"\n",
              "              style=\"display:none;\">\n",
              "        \n",
              "  <svg xmlns=\"http://www.w3.org/2000/svg\" height=\"24px\"viewBox=\"0 0 24 24\"\n",
              "       width=\"24px\">\n",
              "    <path d=\"M0 0h24v24H0V0z\" fill=\"none\"/>\n",
              "    <path d=\"M18.56 5.44l.94 2.06.94-2.06 2.06-.94-2.06-.94-.94-2.06-.94 2.06-2.06.94zm-11 1L8.5 8.5l.94-2.06 2.06-.94-2.06-.94L8.5 2.5l-.94 2.06-2.06.94zm10 10l.94 2.06.94-2.06 2.06-.94-2.06-.94-.94-2.06-.94 2.06-2.06.94z\"/><path d=\"M17.41 7.96l-1.37-1.37c-.4-.4-.92-.59-1.43-.59-.52 0-1.04.2-1.43.59L10.3 9.45l-7.72 7.72c-.78.78-.78 2.05 0 2.83L4 21.41c.39.39.9.59 1.41.59.51 0 1.02-.2 1.41-.59l7.78-7.78 2.81-2.81c.8-.78.8-2.07 0-2.86zM5.41 20L4 18.59l7.72-7.72 1.47 1.35L5.41 20z\"/>\n",
              "  </svg>\n",
              "      </button>\n",
              "      \n",
              "  <style>\n",
              "    .colab-df-container {\n",
              "      display:flex;\n",
              "      flex-wrap:wrap;\n",
              "      gap: 12px;\n",
              "    }\n",
              "\n",
              "    .colab-df-convert {\n",
              "      background-color: #E8F0FE;\n",
              "      border: none;\n",
              "      border-radius: 50%;\n",
              "      cursor: pointer;\n",
              "      display: none;\n",
              "      fill: #1967D2;\n",
              "      height: 32px;\n",
              "      padding: 0 0 0 0;\n",
              "      width: 32px;\n",
              "    }\n",
              "\n",
              "    .colab-df-convert:hover {\n",
              "      background-color: #E2EBFA;\n",
              "      box-shadow: 0px 1px 2px rgba(60, 64, 67, 0.3), 0px 1px 3px 1px rgba(60, 64, 67, 0.15);\n",
              "      fill: #174EA6;\n",
              "    }\n",
              "\n",
              "    [theme=dark] .colab-df-convert {\n",
              "      background-color: #3B4455;\n",
              "      fill: #D2E3FC;\n",
              "    }\n",
              "\n",
              "    [theme=dark] .colab-df-convert:hover {\n",
              "      background-color: #434B5C;\n",
              "      box-shadow: 0px 1px 3px 1px rgba(0, 0, 0, 0.15);\n",
              "      filter: drop-shadow(0px 1px 2px rgba(0, 0, 0, 0.3));\n",
              "      fill: #FFFFFF;\n",
              "    }\n",
              "  </style>\n",
              "\n",
              "      <script>\n",
              "        const buttonEl =\n",
              "          document.querySelector('#df-78c51c9a-c85e-4ed6-bd67-c759b9e31cda button.colab-df-convert');\n",
              "        buttonEl.style.display =\n",
              "          google.colab.kernel.accessAllowed ? 'block' : 'none';\n",
              "\n",
              "        async function convertToInteractive(key) {\n",
              "          const element = document.querySelector('#df-78c51c9a-c85e-4ed6-bd67-c759b9e31cda');\n",
              "          const dataTable =\n",
              "            await google.colab.kernel.invokeFunction('convertToInteractive',\n",
              "                                                     [key], {});\n",
              "          if (!dataTable) return;\n",
              "\n",
              "          const docLinkHtml = 'Like what you see? Visit the ' +\n",
              "            '<a target=\"_blank\" href=https://colab.research.google.com/notebooks/data_table.ipynb>data table notebook</a>'\n",
              "            + ' to learn more about interactive tables.';\n",
              "          element.innerHTML = '';\n",
              "          dataTable['output_type'] = 'display_data';\n",
              "          await google.colab.output.renderOutput(dataTable, element);\n",
              "          const docLink = document.createElement('div');\n",
              "          docLink.innerHTML = docLinkHtml;\n",
              "          element.appendChild(docLink);\n",
              "        }\n",
              "      </script>\n",
              "    </div>\n",
              "  </div>\n",
              "  "
            ]
          },
          "metadata": {},
          "execution_count": 392
        }
      ]
    },
    {
      "cell_type": "code",
      "source": [
        "filtered_df_copy.info()"
      ],
      "metadata": {
        "colab": {
          "base_uri": "https://localhost:8080/",
          "height": 171
        },
        "id": "FCJZtoQUTXoL",
        "outputId": "9cafc681-8c19-4a6d-88a0-26f3d54392c1"
      },
      "execution_count": 1,
      "outputs": [
        {
          "output_type": "error",
          "ename": "NameError",
          "evalue": "ignored",
          "traceback": [
            "\u001b[0;31m---------------------------------------------------------------------------\u001b[0m",
            "\u001b[0;31mNameError\u001b[0m                                 Traceback (most recent call last)",
            "\u001b[0;32m<ipython-input-1-f98ca58f4405>\u001b[0m in \u001b[0;36m<cell line: 1>\u001b[0;34m()\u001b[0m\n\u001b[0;32m----> 1\u001b[0;31m \u001b[0mfiltered_df_copy\u001b[0m\u001b[0;34m.\u001b[0m\u001b[0minfo\u001b[0m\u001b[0;34m(\u001b[0m\u001b[0;34m)\u001b[0m\u001b[0;34m\u001b[0m\u001b[0;34m\u001b[0m\u001b[0m\n\u001b[0m",
            "\u001b[0;31mNameError\u001b[0m: name 'filtered_df_copy' is not defined"
          ]
        }
      ]
    },
    {
      "cell_type": "code",
      "source": [
        "%%time\n",
        "# Create a list of sentence texts\n",
        "sentences = list(filtered_df_copy.anon_txt_clean)\n",
        "\n",
        "# Compute the Jaccard index for all pairs of sentences\n",
        "jaccard_index_dict = {(indices_list_short_1[i],indices_list_short_1[j]): jaccard_index(sentences[i], sentences[j]) for i in range(len(sentences)) for j in range(i+1, len(sentences))}\n",
        "\n",
        "# Sort the dictionary by its values in descending order\n",
        "sorted_dict = dict(sorted(jaccard_index_dict.items(), key=lambda item: item[1], reverse=True))"
      ],
      "metadata": {
        "colab": {
          "base_uri": "https://localhost:8080/"
        },
        "id": "XQKFhtPMoWXq",
        "outputId": "a70658c5-201b-432b-8a72-a42462ccfcf4"
      },
      "execution_count": null,
      "outputs": [
        {
          "output_type": "stream",
          "name": "stdout",
          "text": [
            "CPU times: user 16.4 ms, sys: 0 ns, total: 16.4 ms\n",
            "Wall time: 18.4 ms\n"
          ]
        }
      ]
    },
    {
      "cell_type": "code",
      "source": [
        "plot_jaccard_hist(sorted_dict)"
      ],
      "metadata": {
        "colab": {
          "base_uri": "https://localhost:8080/",
          "height": 472
        },
        "id": "XGbbANDw56pc",
        "outputId": "012a5924-6b20-4325-e96a-47da41cfd7e7"
      },
      "execution_count": null,
      "outputs": [
        {
          "output_type": "display_data",
          "data": {
            "text/plain": [
              "<Figure size 640x480 with 1 Axes>"
            ],
            "image/png": "[encoded data removed]"
          },
          "metadata": {}
        }
      ]
    },
    {
      "cell_type": "code",
      "source": [
        "dic_values = list(sorted_dict.values())\n",
        "print(\"mean Jaccard:\", np.mean(dic_values))"
      ],
      "metadata": {
        "colab": {
          "base_uri": "https://localhost:8080/"
        },
        "id": "JAhLhjiq53F9",
        "outputId": "96bc1fda-b6a3-4786-88ae-4788a9e91f2a"
      },
      "execution_count": null,
      "outputs": [
        {
          "output_type": "stream",
          "name": "stdout",
          "text": [
            "mean Jaccard: 0.12889057084552658\n"
          ]
        }
      ]
    },
    {
      "cell_type": "code",
      "source": [],
      "metadata": {
        "id": "V1wHhci97c9M"
      },
      "execution_count": null,
      "outputs": []
    },
    {
      "cell_type": "markdown",
      "source": [
        "## 3. check functionality:\n"
      ],
      "metadata": {
        "id": "kP3H6Hla9pU4"
      }
    },
    {
      "cell_type": "code",
      "source": [
        "# peform test on the data before and after anonymization"
      ],
      "metadata": {
        "id": "X4lSFHRe9p6Y"
      },
      "execution_count": null,
      "outputs": []
    },
    {
      "cell_type": "code",
      "source": [
        "#\n",
        "ariginal_text = filtered_df_copy.txt\n",
        "anon_text = filtered_df_copy.anon_txt_clean\n",
        "labels = filtered_df_copy.sentiment"
      ],
      "metadata": {
        "id": "L-wTSJHJQ-Oa"
      },
      "execution_count": null,
      "outputs": []
    },
    {
      "cell_type": "code",
      "source": [
        "# divid to train and test;\n",
        "train_sentences = ariginal_text[0:1000]\n",
        "train_labels = labels[0:1000]\n",
        "test_sentences = ariginal_text[1001:2000]\n",
        "test_labels = labels[1001:2000]"
      ],
      "metadata": {
        "id": "kr5IfHWhRJxY"
      },
      "execution_count": null,
      "outputs": []
    },
    {
      "cell_type": "code",
      "source": [
        "# preprocess????"
      ],
      "metadata": {
        "id": "gPLd_vBSTlwf"
      },
      "execution_count": null,
      "outputs": []
    },
    {
      "cell_type": "code",
      "source": [
        "import nltk\n",
        "from nltk.corpus import stopwords\n",
        "nltk.download('stopwords')  # added\n"
      ],
      "metadata": {
        "id": "cMBYjvKBTlzD"
      },
      "execution_count": null,
      "outputs": []
    },
    {
      "cell_type": "code",
      "source": [
        "### https://www.kaggle.com/code/rohitgadhwar/sentiment-analysis-on-amazon-reviews/notebook\n",
        "def clean_texts(texts):\n",
        "    stwords = stopwords.words('english')\n",
        "    l = len(texts)/10\n",
        "    temp_texts = []\n",
        "    for i in range(len(texts)):\n",
        "        text = re.sub('\\d','0',texts[i])\n",
        "        if 'www.' in text or 'http:' in text or 'https:' in text or '.com' in text: # remove links and urls\n",
        "            text = re.sub(r\"([^ ]+(?<=\\.[a-z]{3}))\", \" \", text)\n",
        "        \n",
        "        text = re.sub('[^a-zA-Z]', ' ', text)\n",
        "        text = text.lower()\n",
        "        text = text.split()\n",
        "        text = [word for word in text if not word in stwords] # remove stopwords \n",
        "        text = ' '.join(text)\n",
        "        temp_texts.append(text)\n",
        "        if i%l==0:\n",
        "            print('--'+str(int(i/l)*10)+'%', end='')\n",
        "    print('--100%--Done !')\n",
        "    return temp_texts"
      ],
      "metadata": {
        "id": "ScscqPVtTl1e"
      },
      "execution_count": null,
      "outputs": []
    },
    {
      "cell_type": "code",
      "source": [
        "stwords = stopwords.words('english')\n"
      ],
      "metadata": {
        "id": "Kf_D57QCTl4L"
      },
      "execution_count": null,
      "outputs": []
    },
    {
      "cell_type": "code",
      "source": [
        "# clean both train and test data:\n",
        "print('Processing Training data')\n",
        "train_texts = clean_texts(train_sentences1)\n",
        "print('\\nProcessing Test data')\n",
        "test_texts = clean_texts(test_sentences)"
      ],
      "metadata": {
        "id": "xqOO0lm_Tqvg"
      },
      "execution_count": null,
      "outputs": []
    },
    {
      "cell_type": "code",
      "source": [
        "sns.countplot(x=train_labels)  # almost even, is it ok?"
      ],
      "metadata": {
        "id": "9iHu7XSuTqyA"
      },
      "execution_count": null,
      "outputs": []
    },
    {
      "cell_type": "code",
      "source": [
        "# converting a collection of text documents to a matrix of token counts. It essentially converts\n",
        "# a collection of text documents into a sparse matrix, \n",
        "# where each row corresponds to a document and each column corresponds to a token in the corpus.\n",
        "\n",
        "\n",
        "from sklearn.feature_extraction.text import CountVectorizer\n",
        "\n",
        "print('Fitting data...')\n",
        "count_vect = CountVectorizer()\n",
        "count_vect.fit(train_texts) ; print('fit complete !')\n",
        "\n",
        "print('tranforming training set...')\n",
        "train_texts_vec = count_vect.transform(train_texts)\n",
        "\n",
        "print('tranforming test set...')\n",
        "test_texts_vec = count_vect.transform(test_texts)"
      ],
      "metadata": {
        "id": "XATsFbj-Tq0S"
      },
      "execution_count": null,
      "outputs": []
    },
    {
      "cell_type": "code",
      "source": [
        "# train a model"
      ],
      "metadata": {
        "id": "G3bM5BEITi8Y"
      },
      "execution_count": null,
      "outputs": []
    },
    {
      "cell_type": "code",
      "source": [],
      "metadata": {
        "id": "fGFjiOthTi-s"
      },
      "execution_count": null,
      "outputs": []
    },
    {
      "cell_type": "code",
      "source": [
        "## Train a model"
      ],
      "metadata": {
        "id": "f_lyRtoj_0vE"
      },
      "execution_count": null,
      "outputs": []
    },
    {
      "cell_type": "code",
      "source": [
        "from sklearn.naive_bayes import MultinomialNB\n",
        "nb = MultinomialNB()\n",
        "nb.fit(train_texts_vec, train_labels)"
      ],
      "metadata": {
        "id": "CaE6GPr0_0xh",
        "colab": {
          "base_uri": "https://localhost:8080/",
          "height": 74
        },
        "outputId": "9f7cd74d-2b8f-4be5-ffd2-042f8db27df6"
      },
      "execution_count": null,
      "outputs": [
        {
          "output_type": "execute_result",
          "data": {
            "text/plain": [
              "MultinomialNB()"
            ],
            "text/html": [
              "<style>#sk-container-id-1 {color: black;background-color: white;}#sk-container-id-1 pre{padding: 0;}#sk-container-id-1 div.sk-toggleable {background-color: white;}#sk-container-id-1 label.sk-toggleable__label {cursor: pointer;display: block;width: 100%;margin-bottom: 0;padding: 0.3em;box-sizing: border-box;text-align: center;}#sk-container-id-1 label.sk-toggleable__label-arrow:before {content: \"▸\";float: left;margin-right: 0.25em;color: #696969;}#sk-container-id-1 label.sk-toggleable__label-arrow:hover:before {color: black;}#sk-container-id-1 div.sk-estimator:hover label.sk-toggleable__label-arrow:before {color: black;}#sk-container-id-1 div.sk-toggleable__content {max-height: 0;max-width: 0;overflow: hidden;text-align: left;background-color: #f0f8ff;}#sk-container-id-1 div.sk-toggleable__content pre {margin: 0.2em;color: black;border-radius: 0.25em;background-color: #f0f8ff;}#sk-container-id-1 input.sk-toggleable__control:checked~div.sk-toggleable__content {max-height: 200px;max-width: 100%;overflow: auto;}#sk-container-id-1 input.sk-toggleable__control:checked~label.sk-toggleable__label-arrow:before {content: \"▾\";}#sk-container-id-1 div.sk-estimator input.sk-toggleable__control:checked~label.sk-toggleable__label {background-color: #d4ebff;}#sk-container-id-1 div.sk-label input.sk-toggleable__control:checked~label.sk-toggleable__label {background-color: #d4ebff;}#sk-container-id-1 input.sk-hidden--visually {border: 0;clip: rect(1px 1px 1px 1px);clip: rect(1px, 1px, 1px, 1px);height: 1px;margin: -1px;overflow: hidden;padding: 0;position: absolute;width: 1px;}#sk-container-id-1 div.sk-estimator {font-family: monospace;background-color: #f0f8ff;border: 1px dotted black;border-radius: 0.25em;box-sizing: border-box;margin-bottom: 0.5em;}#sk-container-id-1 div.sk-estimator:hover {background-color: #d4ebff;}#sk-container-id-1 div.sk-parallel-item::after {content: \"\";width: 100%;border-bottom: 1px solid gray;flex-grow: 1;}#sk-container-id-1 div.sk-label:hover label.sk-toggleable__label {background-color: #d4ebff;}#sk-container-id-1 div.sk-serial::before {content: \"\";position: absolute;border-left: 1px solid gray;box-sizing: border-box;top: 0;bottom: 0;left: 50%;z-index: 0;}#sk-container-id-1 div.sk-serial {display: flex;flex-direction: column;align-items: center;background-color: white;padding-right: 0.2em;padding-left: 0.2em;position: relative;}#sk-container-id-1 div.sk-item {position: relative;z-index: 1;}#sk-container-id-1 div.sk-parallel {display: flex;align-items: stretch;justify-content: center;background-color: white;position: relative;}#sk-container-id-1 div.sk-item::before, #sk-container-id-1 div.sk-parallel-item::before {content: \"\";position: absolute;border-left: 1px solid gray;box-sizing: border-box;top: 0;bottom: 0;left: 50%;z-index: -1;}#sk-container-id-1 div.sk-parallel-item {display: flex;flex-direction: column;z-index: 1;position: relative;background-color: white;}#sk-container-id-1 div.sk-parallel-item:first-child::after {align-self: flex-end;width: 50%;}#sk-container-id-1 div.sk-parallel-item:last-child::after {align-self: flex-start;width: 50%;}#sk-container-id-1 div.sk-parallel-item:only-child::after {width: 0;}#sk-container-id-1 div.sk-dashed-wrapped {border: 1px dashed gray;margin: 0 0.4em 0.5em 0.4em;box-sizing: border-box;padding-bottom: 0.4em;background-color: white;}#sk-container-id-1 div.sk-label label {font-family: monospace;font-weight: bold;display: inline-block;line-height: 1.2em;}#sk-container-id-1 div.sk-label-container {text-align: center;}#sk-container-id-1 div.sk-container {/* jupyter's `normalize.less` sets `[hidden] { display: none; }` but bootstrap.min.css set `[hidden] { display: none !important; }` so we also need the `!important` here to be able to override the default hidden behavior on the sphinx rendered scikit-learn.org. See: https://github.com/scikit-learn/scikit-learn/issues/21755 */display: inline-block !important;position: relative;}#sk-container-id-1 div.sk-text-repr-fallback {display: none;}</style><div id=\"sk-container-id-1\" class=\"sk-top-container\"><div class=\"sk-text-repr-fallback\"><pre>MultinomialNB()</pre><b>In a Jupyter environment, please rerun this cell to show the HTML representation or trust the notebook. <br />On GitHub, the HTML representation is unable to render, please try loading this page with nbviewer.org.</b></div><div class=\"sk-container\" hidden><div class=\"sk-item\"><div class=\"sk-estimator sk-toggleable\"><input class=\"sk-toggleable__control sk-hidden--visually\" id=\"sk-estimator-id-1\" type=\"checkbox\" checked><label for=\"sk-estimator-id-1\" class=\"sk-toggleable__label sk-toggleable__label-arrow\">MultinomialNB</label><div class=\"sk-toggleable__content\"><pre>MultinomialNB()</pre></div></div></div></div></div>"
            ]
          },
          "metadata": {},
          "execution_count": 21
        }
      ]
    },
    {
      "cell_type": "code",
      "source": [
        "y_pred = nb.predict(test_texts_vec)"
      ],
      "metadata": {
        "id": "V7qLQgaY_00Q"
      },
      "execution_count": null,
      "outputs": []
    },
    {
      "cell_type": "code",
      "source": [
        "from sklearn.metrics import accuracy_score\n",
        "print('Accuracy:', accuracy_score(test_labels, y_pred))"
      ],
      "metadata": {
        "id": "ZI8xiMk3_02z",
        "colab": {
          "base_uri": "https://localhost:8080/"
        },
        "outputId": "d8460e71-5e81-4ac3-a34c-25b2f2ad8406"
      },
      "execution_count": null,
      "outputs": [
        {
          "output_type": "stream",
          "name": "stdout",
          "text": [
            "Accuracy: 0.847803131869715\n"
          ]
        }
      ]
    },
    {
      "cell_type": "code",
      "source": [
        "from sklearn.linear_model import LogisticRegression\n",
        "\n",
        "lr_model = LogisticRegression(n_jobs=-1, max_iter=150)\n",
        "lr_model.fit(train_texts_vec, train_labels)"
      ],
      "metadata": {
        "id": "gnMAddtQ_05i",
        "colab": {
          "base_uri": "https://localhost:8080/",
          "height": 74
        },
        "outputId": "dceaf691-8428-4f4d-c69a-e97bca74a075"
      },
      "execution_count": null,
      "outputs": [
        {
          "output_type": "execute_result",
          "data": {
            "text/plain": [
              "LogisticRegression(max_iter=150, n_jobs=-1)"
            ],
            "text/html": [
              "<style>#sk-container-id-2 {color: black;background-color: white;}#sk-container-id-2 pre{padding: 0;}#sk-container-id-2 div.sk-toggleable {background-color: white;}#sk-container-id-2 label.sk-toggleable__label {cursor: pointer;display: block;width: 100%;margin-bottom: 0;padding: 0.3em;box-sizing: border-box;text-align: center;}#sk-container-id-2 label.sk-toggleable__label-arrow:before {content: \"▸\";float: left;margin-right: 0.25em;color: #696969;}#sk-container-id-2 label.sk-toggleable__label-arrow:hover:before {color: black;}#sk-container-id-2 div.sk-estimator:hover label.sk-toggleable__label-arrow:before {color: black;}#sk-container-id-2 div.sk-toggleable__content {max-height: 0;max-width: 0;overflow: hidden;text-align: left;background-color: #f0f8ff;}#sk-container-id-2 div.sk-toggleable__content pre {margin: 0.2em;color: black;border-radius: 0.25em;background-color: #f0f8ff;}#sk-container-id-2 input.sk-toggleable__control:checked~div.sk-toggleable__content {max-height: 200px;max-width: 100%;overflow: auto;}#sk-container-id-2 input.sk-toggleable__control:checked~label.sk-toggleable__label-arrow:before {content: \"▾\";}#sk-container-id-2 div.sk-estimator input.sk-toggleable__control:checked~label.sk-toggleable__label {background-color: #d4ebff;}#sk-container-id-2 div.sk-label input.sk-toggleable__control:checked~label.sk-toggleable__label {background-color: #d4ebff;}#sk-container-id-2 input.sk-hidden--visually {border: 0;clip: rect(1px 1px 1px 1px);clip: rect(1px, 1px, 1px, 1px);height: 1px;margin: -1px;overflow: hidden;padding: 0;position: absolute;width: 1px;}#sk-container-id-2 div.sk-estimator {font-family: monospace;background-color: #f0f8ff;border: 1px dotted black;border-radius: 0.25em;box-sizing: border-box;margin-bottom: 0.5em;}#sk-container-id-2 div.sk-estimator:hover {background-color: #d4ebff;}#sk-container-id-2 div.sk-parallel-item::after {content: \"\";width: 100%;border-bottom: 1px solid gray;flex-grow: 1;}#sk-container-id-2 div.sk-label:hover label.sk-toggleable__label {background-color: #d4ebff;}#sk-container-id-2 div.sk-serial::before {content: \"\";position: absolute;border-left: 1px solid gray;box-sizing: border-box;top: 0;bottom: 0;left: 50%;z-index: 0;}#sk-container-id-2 div.sk-serial {display: flex;flex-direction: column;align-items: center;background-color: white;padding-right: 0.2em;padding-left: 0.2em;position: relative;}#sk-container-id-2 div.sk-item {position: relative;z-index: 1;}#sk-container-id-2 div.sk-parallel {display: flex;align-items: stretch;justify-content: center;background-color: white;position: relative;}#sk-container-id-2 div.sk-item::before, #sk-container-id-2 div.sk-parallel-item::before {content: \"\";position: absolute;border-left: 1px solid gray;box-sizing: border-box;top: 0;bottom: 0;left: 50%;z-index: -1;}#sk-container-id-2 div.sk-parallel-item {display: flex;flex-direction: column;z-index: 1;position: relative;background-color: white;}#sk-container-id-2 div.sk-parallel-item:first-child::after {align-self: flex-end;width: 50%;}#sk-container-id-2 div.sk-parallel-item:last-child::after {align-self: flex-start;width: 50%;}#sk-container-id-2 div.sk-parallel-item:only-child::after {width: 0;}#sk-container-id-2 div.sk-dashed-wrapped {border: 1px dashed gray;margin: 0 0.4em 0.5em 0.4em;box-sizing: border-box;padding-bottom: 0.4em;background-color: white;}#sk-container-id-2 div.sk-label label {font-family: monospace;font-weight: bold;display: inline-block;line-height: 1.2em;}#sk-container-id-2 div.sk-label-container {text-align: center;}#sk-container-id-2 div.sk-container {/* jupyter's `normalize.less` sets `[hidden] { display: none; }` but bootstrap.min.css set `[hidden] { display: none !important; }` so we also need the `!important` here to be able to override the default hidden behavior on the sphinx rendered scikit-learn.org. See: https://github.com/scikit-learn/scikit-learn/issues/21755 */display: inline-block !important;position: relative;}#sk-container-id-2 div.sk-text-repr-fallback {display: none;}</style><div id=\"sk-container-id-2\" class=\"sk-top-container\"><div class=\"sk-text-repr-fallback\"><pre>LogisticRegression(max_iter=150, n_jobs=-1)</pre><b>In a Jupyter environment, please rerun this cell to show the HTML representation or trust the notebook. <br />On GitHub, the HTML representation is unable to render, please try loading this page with nbviewer.org.</b></div><div class=\"sk-container\" hidden><div class=\"sk-item\"><div class=\"sk-estimator sk-toggleable\"><input class=\"sk-toggleable__control sk-hidden--visually\" id=\"sk-estimator-id-2\" type=\"checkbox\" checked><label for=\"sk-estimator-id-2\" class=\"sk-toggleable__label sk-toggleable__label-arrow\">LogisticRegression</label><div class=\"sk-toggleable__content\"><pre>LogisticRegression(max_iter=150, n_jobs=-1)</pre></div></div></div></div></div>"
            ]
          },
          "metadata": {},
          "execution_count": 24
        }
      ]
    },
    {
      "cell_type": "code",
      "source": [
        "pred_lr = lr_model.predict(test_texts_vec)"
      ],
      "metadata": {
        "id": "xx0NSIA9_4uW"
      },
      "execution_count": null,
      "outputs": []
    },
    {
      "cell_type": "code",
      "source": [
        "print('Accuracy:', accuracy_score(test_labels, pred_lr))"
      ],
      "metadata": {
        "id": "8ksUXmAW_4xR",
        "colab": {
          "base_uri": "https://localhost:8080/"
        },
        "outputId": "d5636b84-e911-4b5a-9760-e00e7ad1a739"
      },
      "execution_count": null,
      "outputs": [
        {
          "output_type": "stream",
          "name": "stdout",
          "text": [
            "Accuracy: 0.8999286439468541\n"
          ]
        }
      ]
    },
    {
      "cell_type": "code",
      "source": [],
      "metadata": {
        "id": "jIZZqDqiTjBB"
      },
      "execution_count": null,
      "outputs": []
    }
  ]
}