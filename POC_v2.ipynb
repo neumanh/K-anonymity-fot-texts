{
  "cells": [
    {
      "cell_type": "markdown",
      "metadata": {
        "id": "wxKOhnees1BN"
      },
      "source": [
        "# POC in a word perspective"
      ]
    },
    {
      "cell_type": "markdown",
      "metadata": {
        "id": "Sws7PJd_sxzB"
      },
      "source": [
        "## Main Algorithm:\n",
        "\n",
        "1. Lemmatization\n",
        "\n",
        "2. Protect stop words\n",
        "\n",
        "\n",
        "3. // words (key phrases)   \n",
        "Do:   \n",
        "\tLook for similar words (DBSCAN)   \n",
        "Replace with centroid / one of the members   \n",
        "Until Embedding distance is too high or utilization is too low.   \n",
        "\n",
        "\n",
        "4. // sentences   \n",
        "While K-anonymity is not reached:   \n",
        "Find most similar sentences (Jaccard distance)   \n",
        "Force them to be similar   \n",
        "\n",
        "5. Do some utilization test / give some stats…\n"
      ]
    },
    {
      "cell_type": "code",
      "execution_count": null,
      "metadata": {
        "id": "dSxa_d0Etssm"
      },
      "outputs": [],
      "source": [
        "# For VSCODE\n",
        "%reload_ext autoreload\n",
        "%autoreload 2"
      ]
    },
    {
      "cell_type": "markdown",
      "metadata": {
        "id": "SnmgebWytT2d"
      },
      "source": [
        "## 0) Upload data"
      ]
    },
    {
      "cell_type": "markdown",
      "metadata": {
        "id": "XHmHzDLrtssn"
      },
      "source": [
        "Import libraries"
      ]
    },
    {
      "cell_type": "code",
      "execution_count": null,
      "metadata": {
        "id": "u4-1wAP_sRSk"
      },
      "outputs": [],
      "source": [
        "import pandas as pd\n",
        "import matplotlib.pyplot as plt\n",
        "import numpy as np\n",
        "import re"
      ]
    },
    {
      "cell_type": "markdown",
      "metadata": {
        "id": "ReWjIRCxtssp"
      },
      "source": [
        "Import project files"
      ]
    },
    {
      "cell_type": "code",
      "execution_count": null,
      "metadata": {
        "id": "jWWZyrVMtssq"
      },
      "outputs": [],
      "source": [
        "from utils import nlp_utils, cluster_utils, utilization_utils, anonym_utils"
      ]
    },
    {
      "cell_type": "markdown",
      "metadata": {
        "id": "xOgiwcJ-uX8i"
      },
      "source": [
        "Uploading data"
      ]
    },
    {
      "cell_type": "code",
      "execution_count": null,
      "metadata": {
        "id": "PTBM3HJYtssr"
      },
      "outputs": [],
      "source": [
        "train_file = 'data/df_filtered_1000.csv'  # working on small portion of the dataset\n",
        "output_name = '1000_example.csv'"
      ]
    },
    {
      "cell_type": "markdown",
      "metadata": {
        "id": "su23TLv-XCw_"
      },
      "source": [
        "Getting dataframe"
      ]
    },
    {
      "cell_type": "code",
      "execution_count": null,
      "metadata": {
        "colab": {
          "base_uri": "https://localhost:8080/"
        },
        "id": "EZGHAo6eWLPC",
        "outputId": "5570531f-1473-43b0-fd8c-dac191645a3d"
      },
      "outputs": [
        {
          "name": "stdout",
          "output_type": "stream",
          "text": [
            "CPU times: total: 0 ns\n",
            "Wall time: 21 ms\n"
          ]
        }
      ],
      "source": [
        "%%time\n",
        "# df from csv\n",
        "df = pd.read_csv(train_file)"
      ]
    },
    {
      "cell_type": "markdown",
      "metadata": {
        "id": "VfFm7cI6tsss"
      },
      "source": [
        "## 1+2) Lemmatizing and protecting stopwords"
      ]
    },
    {
      "cell_type": "markdown",
      "metadata": {
        "id": "ltX0gseJtsss"
      },
      "source": [
        "Defininig the protected word list"
      ]
    },
    {
      "cell_type": "code",
      "execution_count": null,
      "metadata": {
        "id": "iQrjiWygtsst",
        "outputId": "b98d46ff-8266-4f6e-d37c-c21a98afe813"
      },
      "outputs": [
        {
          "name": "stdout",
          "output_type": "stream",
          "text": [
            "Number of protected words: 179\n",
            "['i', 'me', 'my', 'myself', 'we', 'our', 'ours', 'ourselves', 'you', \"you're\"]\n"
          ]
        }
      ],
      "source": [
        "wide_stop_words = False  \n",
        "if wide_stop_words:  # taking a list of 1000 most common words in english and define them as stop_words\n",
        "    nlp_utils.add_word_list_to_stop_words('data/1000_most_common_words.txt')\n",
        "else:  # taking a shorter list of stop_words from NLTK\n",
        "    nlp_utils.stopword_list = nlp_utils.stopwords.words('english')\n",
        "print('Number of protected words:', len(nlp_utils.stopword_list))\n",
        "print(nlp_utils.stopword_list[:10])"
      ]
    },
    {
      "cell_type": "markdown",
      "metadata": {
        "id": "vFyuIK-zJNfH"
      },
      "source": [
        "Defining the word dictionary"
      ]
    },
    {
      "cell_type": "code",
      "execution_count": null,
      "metadata": {
        "colab": {
          "base_uri": "https://localhost:8080/"
        },
        "id": "_IXiIodhJNfH",
        "outputId": "3a52c9b7-562a-4d6c-9def-8c3eb2659f2d"
      },
      "outputs": [
        {
          "name": "stdout",
          "output_type": "stream",
          "text": [
            "CPU times: total: 25.3 s\n",
            "Wall time: 30.7 s\n"
          ]
        }
      ],
      "source": [
        "%%time\n",
        "word_dict = nlp_utils.create_word_dict(df['txt'])\n",
        "word_list = cluster_utils.get_word_list_for_clustering(word_dict)"
      ]
    },
    {
      "cell_type": "code",
      "execution_count": null,
      "metadata": {
        "id": "dIezWe_Etssu",
        "outputId": "7ff2c7f5-07c7-4872-e269-23c045682109"
      },
      "outputs": [
        {
          "name": "stdout",
          "output_type": "stream",
          "text": [
            "Number of different words: 3281\n"
          ]
        }
      ],
      "source": [
        "print('Number of different words:', len(word_dict))"
      ]
    },
    {
      "cell_type": "markdown",
      "metadata": {
        "id": "-NOxKTh-tssu"
      },
      "source": [
        "## 3) Word replacement"
      ]
    },
    {
      "cell_type": "markdown",
      "metadata": {
        "id": "bct84DYptssu"
      },
      "source": [
        "### 3.1) Clustering using DBSCAN"
      ]
    },
    {
      "cell_type": "markdown",
      "metadata": {
        "id": "sVKUcRAxtssu"
      },
      "source": [
        "#### 3.1.1) Using DBSCAN with the default euclidean distance"
      ]
    },
    {
      "cell_type": "markdown",
      "metadata": {
        "id": "4KD6gjKitssu"
      },
      "source": [
        "Embedding the word list using a pre-defined model \n",
        "current: glove\n",
        "wanted: W2V"
      ]
    },
    {
      "cell_type": "code",
      "execution_count": null,
      "metadata": {
        "id": "ZUbQeffItssv"
      },
      "outputs": [],
      "source": [
        "embedded_dict = cluster_utils.embed_corpus(word_list)"
      ]
    },
    {
      "cell_type": "markdown",
      "metadata": {
        "id": "4tGEWgKFJE6n"
      },
      "source": [
        "Clustering"
      ]
    },
    {
      "cell_type": "markdown",
      "metadata": {
        "id": "4vfXls4Ktssw"
      },
      "source": [
        "#### 3.1.2) Using DBSCAN with cosine distance"
      ]
    },
    {
      "cell_type": "markdown",
      "metadata": {
        "id": "oujIzKWItssw"
      },
      "source": [
        "Testing DBSCAN with cosine metric"
      ]
    },
    {
      "cell_type": "code",
      "execution_count": null,
      "metadata": {
        "id": "rXYtQ6eUtssw",
        "outputId": "34e45a26-0db9-43f7-8bc5-f4b1723c1b19"
      },
      "outputs": [
        {
          "name": "stdout",
          "output_type": "stream",
          "text": [
            "eps 0.053744078\n"
          ]
        },
        {
          "data": {
            "image/png": "[encoded data removed]",
            "text/plain": [
              "<Figure size 640x480 with 1 Axes>"
            ]
          },
          "metadata": {},
          "output_type": "display_data"
        }
      ],
      "source": [
        "cluster_dict_cos, dist_dict_cos, labels_cos = cluster_utils.run_clustering(embedded_dict, cosine=True)"
      ]
    },
    {
      "cell_type": "code",
      "execution_count": null,
      "metadata": {
        "id": "-qQWKF1qtssx",
        "outputId": "eb4df6ac-f0cb-490a-fd06-d70bd91d4c0e"
      },
      "outputs": [
        {
          "data": {
            "image/png": "[encoded data removed]",
            "text/plain": [
              "<Figure size 640x480 with 1 Axes>"
            ]
          },
          "metadata": {},
          "output_type": "display_data"
        }
      ],
      "source": [
        "cluster_utils.plot_cluster_size_distribution(cluster_dict_cos)  # run the funcion while ignoring (-1 cluster)"
      ]
    },
    {
      "cell_type": "markdown",
      "metadata": {
        "id": "Em2Febcptss7"
      },
      "source": [
        "#### 3.1.4) Comapirson"
      ]
    },
    {
      "cell_type": "code",
      "execution_count": null,
      "metadata": {
        "id": "CQMqKOB_tss7",
        "outputId": "580807fd-be33-4d42-cd9f-de63bf684809"
      },
      "outputs": [
        {
          "name": "stdout",
          "output_type": "stream",
          "text": [
            "Euclidian distance:\t 110 clusters\n",
            "Cosine distance:\t 49 clusters\n",
            "HDBSCAN clustering:\t 59 clusters\n"
          ]
        }
      ],
      "source": [
        "print('Euclidian distance:\\t', len(cluster_dict), 'clusters')\n",
        "print('Cosine distance:\\t', len(cluster_dict_cos), 'clusters')\n"
      ]
    },
    {
      "cell_type": "markdown",
      "metadata": {
        "id": "nq_Bhh_7tss8"
      },
      "source": [
        "Getting distance threshold"
      ]
    },
    {
      "cell_type": "code",
      "execution_count": null,
      "metadata": {
        "id": "BjAUDAIjtss8",
        "outputId": "2d4d9811-f1f9-40a2-8452-0c9c464cafb6"
      },
      "outputs": [
        {
          "name": "stdout",
          "output_type": "stream",
          "text": [
            "sim_list_best 0.82521856\n",
            "sim_list_worst 0.56748897\n"
          ]
        },
        {
          "data": {
            "text/plain": [
              "0.3036462366580963"
            ]
          },
          "execution_count": 26,
          "metadata": {},
          "output_type": "execute_result"
        }
      ],
      "source": [
        "threshold = cluster_utils.define_max_threshold()\n",
        "threshold"
      ]
    },
    {
      "cell_type": "markdown",
      "source": [
        "## DBSCAN WITH A PRE_DEFINED EPSILON:\n",
        "\n",
        "### ADD here the code for running dbscan with:\n",
        " - word2vec embedding\n",
        " - predifined epsilon (cose/eucl)\n",
        " - plot results and examples for clustering\n"
      ],
      "metadata": {
        "id": "e0cLPxckyfIS"
      }
    },
    {
      "cell_type": "code",
      "source": [],
      "metadata": {
        "id": "-92PJZjMyiAo"
      },
      "execution_count": null,
      "outputs": []
    },
    {
      "cell_type": "markdown",
      "metadata": {
        "id": "TIvHph4Itss9"
      },
      "source": [
        "### 3.2) Replacing words in documents"
      ]
    },
    {
      "cell_type": "markdown",
      "metadata": {
        "id": "XDxOSv41tss9"
      },
      "source": [
        "#### 3.2.1) Based on Eucledian distance"
      ]
    },
    {
      "cell_type": "code",
      "execution_count": null,
      "metadata": {
        "id": "EafMcMTOtss9"
      },
      "outputs": [],
      "source": [
        "######################### TEMP #######################\n",
        "#df = df[:30]"
      ]
    },
    {
      "cell_type": "code",
      "execution_count": null,
      "metadata": {
        "id": "ecTmCYAftss9",
        "outputId": "107e10c1-288b-4deb-d25b-d0734fcf5cfa"
      },
      "outputs": [
        {
          "name": "stdout",
          "output_type": "stream",
          "text": [
            "Starting average Jaccard index: 0.18490998931057948\n",
            "Distance threshold: 0.3036462366580963\n",
            "distance: 0.24770902 \treplacing ['soon', 'third', 'another', 'first', 'second', 'year', 'every', 'last', 'next', 'whole'] in this\n",
            "distance: 0.13158196 \treplacing ['stevie', 'wayne'] in ross\n",
            "distance: 0.13050231 \treplacing ['action', 'battle'] in challenge\n",
            "distance: 0.2931047 \treplacing ['tony', 'phillip', 'sylvia', 'sherry', 'turner', 'keith', 'lightfoot', 'johnson', 'james', 'quigley', 'thomas', 'mark', 'michael', 'robert', 'chandler', 'paxton', 'scarlett', 'rebecca', 'browne', 'elizabeth', 'kelly', 'joseph', 'miller', 'ray', 'paul', 'meyer', 'clark', 'shirley', 'gilbert', 'carter', 'joe', 'kerouac', 'henry', 'christine', 'peggy', 'cornwell', 'mason', 'boyer', 'dane', 'mrs', 'duncan', 'smith', 'john'] in collins\n",
            "distance: 0.17075366 \treplacing ['awful', 'crap', 'ridiculous'] in worse\n",
            "distance: 0.22881295 \treplacing ['customer', 'application', 'client', 'management', 'development'] in services\n",
            "distance: 0.14317207 \treplacing ['nelly', 'usher'] in wiz\n",
            "distance: 0.13060571 \treplacing ['acceptable', 'appropriate'] in purely\n",
            "distance: 0.12011783 \treplacing ['cry', 'laugh'] in hear\n",
            "distance: 0.3280925 the next cluster is too wide and wont be replaced: ['unless', 'rather', 'yeah', 'four', 'jump', 'mind', 'bring', 'except', 'mess', 'much', 'two', 'run', 'tell', 'remind', 'still', 'look', 'matter', 'know', 'understand', 'however', 'queen', 'normally', 'talk', 'anyone', 'seriously', 'anyway', 'least', 'many', 'remember', 'let', 'unfortunately', 'else', 'like', 'step', 'catch', 'three', 'exactly', 'definitely', 'might', 'life', 'perhaps', 'make', 'although', 'something', 'could', 'expect', 'really', 'way', 'otherwise', 'side', 'high', 'absolutely', 'though', 'damn', 'enough', 'either', 'lot', 'crazy', 'hit', 'maybe', 'wow', 'sure', 'think', 'apparently', 'hear', 'totally', 'dude', 'mean', 'get', 'pretty', 'anything', 'old', 'certainly', 'shame', 'right', 'find', 'probably', 'actually', 'wonder', 'prince', 'see', 'wrong', 'whether', 'give', 'basically', 'would', 'hold', 'need', 'swear', 'yes', 'always', 'forget', 'bad', 'hell', 'turn', 'especially', 'kid', 'fly', 'leave', 'obviously', 'guess', 'yet', 'five', 'nothing', 'necessary', 'lady', 'hope', 'reason', 'everything', 'princess', 'surprised', 'well', 'guy', 'take', 'possibly']\n",
            "distance: 0.12538838 \treplacing ['arrival', 'departure'] in returns\n",
            "distance: 0.19349031 \treplacing ['collect', 'carry', 'fill', 'spare'] in grab\n",
            "distance: 0.13170244 \treplacing ['shop', 'store'] in free\n",
            "distance: 0.11574734 \treplacing ['recommendable', 'verbose'] in nihilistic\n",
            "distance: 0.16119036 \treplacing ['eye', 'hole', 'bottom'] in hands\n",
            "distance: 0.14761634 \treplacing ['sign', 'deal'] in trade\n",
            "distance: 0.14445907 \treplacing ['buy', 'sell'] in free\n",
            "distance: 0.12264988 \treplacing ['plug', 'switch'] in lock\n",
            "distance: 0.14381021 \treplacing ['lovely', 'fabulous'] in wonderful\n",
            "distance: 0.1399396 \treplacing ['example', 'age', 'common'] in difference\n",
            "distance: 0.17481305 \treplacing ['far', 'close', 'away'] in until\n",
            "distance: 0.15202683 \treplacing ['limerick', 'winthrop', 'canterbury'] in carleton\n",
            "distance: 0.11439237 \treplacing ['jacket', 'sweater'] in hoodie\n",
            "distance: 0.16735181 \treplacing ['elder', 'moby', 'nightwish'] in sandman\n",
            "distance: 0.14859957 \treplacing ['l', 'b', 'r'] in f\n",
            "distance: 0.12433514 \treplacing ['bluray', 'vhs'] in borderlands\n",
            "distance: 0.12302864 \treplacing ['brooklyn', 'houston'] in chicago\n",
            "distance: 0.13329369 \treplacing ['birthday', 'happy'] in thank\n",
            "distance: 0.11354606 \treplacing ['early', 'hour'] in hours\n",
            "distance: 0.13271642 \treplacing ['frustrating', 'disappointing'] in predictable\n",
            "distance: 0.13647193 \treplacing ['ordinary', 'extraordinary'] in powerful\n",
            "distance: 0.16536334 \treplacing ['brother', 'friend', 'sister', 'mom', 'dad'] in daddy\n",
            "distance: 0.16573465 \treplacing ['british', 'australian', 'american'] in canadian\n",
            "distance: 0.16312023 \treplacing ['stick', 'loose', 'pull'] in throw\n",
            "distance: 0.12038027 \treplacing ['fairly', 'somewhat'] in particularly\n",
            "distance: 0.1341534 \treplacing ['superstar', 'legendary'] in singer\n",
            "distance: 0.13114223 \treplacing ['amaze', 'nevertheless'] in nonetheless\n",
            "distance: 0.18613715 \treplacing ['almost', 'already', 'finally', 'yesterday', 'since'] in went\n",
            "distance: 0.1967425 \treplacing ['december', 'oct', 'august', 'nov', 'dec'] in june\n",
            "distance: 0.1423817 \treplacing ['tube', 'combo'] in pack\n",
            "distance: 0.13915321 \treplacing ['previous', 'recent'] in regarding\n",
            "distance: 0.132492 \treplacing ['head', 'cut'] in hands\n",
            "distance: 0.14128639 \treplacing ['near', 'across'] in outside\n",
            "distance: 0.15930894 \treplacing ['heavy', 'speed', 'edge'] in clear\n",
            "distance: 0.14381038 \treplacing ['keep', 'stay'] in always\n",
            "distance: 0.15531808 \treplacing ['press', 'release'] in launch\n",
            "distance: 0.13082106 \treplacing ['flick', 'twist'] in tattoo\n",
            "distance: 0.13353619 \treplacing ['handbook', 'digest'] in documentation\n",
            "distance: 0.13584259 \treplacing ['unrealistic', 'realistic'] in insignificant\n",
            "distance: 0.14323913 \treplacing ['soft', 'thin'] in skin\n",
            "distance: 0.08542065 \treplacing ['terrible', 'horrible'] in cruel\n",
            "distance: 0.13165165 \treplacing ['day', 'night'] in sunday\n",
            "distance: 0.13503933 \treplacing ['time', 'break'] in take\n",
            "distance: 0.13564105 \treplacing ['cheap', 'expensive'] in cheaper\n",
            "distance: 0.13167761 \treplacing ['screen', 'camera'] in keyboard\n",
            "distance: 0.13476329 \treplacing ['reveiw', 'discription'] in rubric\n",
            "distance: 0.1538586 \treplacing ['thumb', 'ear', 'tongue'] in finger\n",
            "distance: 0.12934023 \treplacing ['fantasy', 'ultimate'] in epic\n",
            "distance: 0.22175594 \treplacing ['flat', 'boot', 'tank', 'shoe', 'flip', 'paint', 'pocket'] in bag\n",
            "distance: 0.117537186 \treplacing ['interest', 'potential'] in significant\n",
            "distance: 0.13228288 \treplacing ['useful', 'helpful'] in examples\n",
            "distance: 0.16594043 \treplacing ['incredibly', 'amazingly', 'extremely'] in insanely\n",
            "distance: 0.12881479 \treplacing ['batman', 'spiderman'] in superman\n",
            "distance: 0.12741414 \treplacing ['house', 'home'] in at\n",
            "distance: 0.18516879 \treplacing ['child', 'husband', 'mother', 'father', 'wife', 'daughter'] in woman\n",
            "distance: 0.12257018 \treplacing ['shelf', 'drawer'] in storage\n",
            "distance: 0.11806467 \treplacing ['cat', 'dog'] in monkey\n",
            "distance: 0.117045164 \treplacing ['stupid', 'dumb'] in silly\n",
            "distance: 0.19077277 \treplacing ['insipid', 'flimsy', 'vacuous', 'myopic', 'unimaginative'] in vapid\n",
            "distance: 0.14014678 \treplacing ['story', 'part'] in secret\n",
            "distance: 0.072909445 \treplacing ['hahaha', 'hahahaha'] in hahahahaha\n",
            "distance: 0.23270056 \treplacing ['overall', 'superb', 'terrific', 'outstanding', 'impressive', 'brilliant', 'incredible', 'fantastic'] in exciting\n",
            "distance: 0.1431529 \treplacing ['soap', 'dish'] in bubble\n",
            "distance: 0.13113463 \treplacing ['metal', 'iron'] in monster\n",
            "distance: 0.14012513 \treplacing ['china', 'india'] in australia\n",
            "distance: 0.12821232 \treplacing ['board', 'office'] in company\n",
            "distance: 0.14008532 \treplacing ['translation', 'dictionary'] in language\n",
            "distance: 0.14610064 \treplacing ['explain', 'spell'] in understand\n",
            "distance: 0.12665173 \treplacing ['playstation', 'nintendo'] in nexus\n",
            "distance: 0.12681131 \treplacing ['grandson', 'granddaughter'] in grandfather\n",
            "distance: 0.12027458 \treplacing ['free', 'check'] in new\n",
            "distance: 0.0962739 \treplacing ['pack', 'box'] in bag\n",
            "distance: 0.13565272 \treplacing ['sight', 'deep'] in mind\n",
            "distance: 0.14220637 \treplacing ['around', 'walk'] in somewhere\n",
            "distance: 0.124564126 \treplacing ['script', 'reference'] in feature\n",
            "distance: 0.14382952 \treplacing ['clean', 'wash'] in dry\n",
            "distance: 0.13324831 \treplacing ['comedy', 'comic'] in movie\n",
            "distance: 0.15720426 \treplacing ['itit', 'enoy'] in vanie\n",
            "distance: 0.13042498 \treplacing ['enjoy', 'fun'] in good\n",
            "distance: 0.088084355 \treplacing ['white', 'black'] in blue\n",
            "distance: 0.12196259 \treplacing ['derivative', 'fodder'] in malfeasance\n",
            "distance: 0.13981587 \treplacing ['perspective', 'aspect'] in influence\n",
            "distance: 0.13312031 \treplacing ['learn', 'teach'] in speak\n",
            "distance: 0.15239078 \treplacing ['tarantino', 'frankenstein'] in hitchcock\n",
            "distance: 0.16697446 \treplacing ['green', 'blue', 'purple'] in yellow\n",
            "distance: 0.13835907 \treplacing ['cave', 'temple'] in desert\n",
            "distance: 0.08077318 \treplacing ['reccommend', 'reccomend'] in somehing\n",
            "distance: 0.12183382 \treplacing ['definitly', 'definatly', 'definetely'] in definitley\n",
            "distance: 0.20748776 \treplacing ['nasty', 'trash', 'dirty', 'garbage'] in ass\n",
            "distance: 0.12112377 \treplacing ['instead', 'without'] in while\n",
            "distance: 0.116455466 \treplacing ['cd', 'dvd'] in hd\n",
            "distance: 0.15729912 \treplacing ['rock', 'pop', 'mix'] in dance\n",
            "distance: 0.11835016 \treplacing ['usually', 'often'] in rarely\n",
            "distance: 0.1415585 \treplacing ['rain', 'snow'] in sun\n",
            "distance: 0.1422575 \treplacing ['author', 'writer'] in editor\n",
            "distance: 0.13378102 \treplacing ['quality', 'product'] in includes\n",
            "distance: 0.114184946 \treplacing ['amazing', 'awesome'] in best\n",
            "distance: 0.09668453 \treplacing ['hardly', 'barely'] in supposed\n",
            "distance: 0.13134822 \treplacing ['struggle', 'waste'] in problems\n",
            "Final average Jaccard index: 0.19945267500791541\n",
            "CPU times: total: 18min 2s\n",
            "Wall time: 19min 27s\n"
          ]
        },
        {
          "data": {
            "image/png": "[encoded data removed]",
            "text/plain": [
              "<Figure size 640x480 with 1 Axes>"
            ]
          },
          "metadata": {},
          "output_type": "display_data"
        }
      ],
      "source": [
        "%%time\n",
        "df_2, word_dict_2 = nlp_utils.replace_words_in_df(df, cluster_dict, dist_dict, threshold, word_dict)"
      ]
    },
    {
      "cell_type": "code",
      "execution_count": null,
      "metadata": {
        "id": "RnwA0-NBtss9",
        "outputId": "448613cc-7e5f-4510-b746-51f419a59088"
      },
      "outputs": [
        {
          "data": {
            "text/html": [
              "<div>\n",
              "<style scoped>\n",
              "    .dataframe tbody tr th:only-of-type {\n",
              "        vertical-align: middle;\n",
              "    }\n",
              "\n",
              "    .dataframe tbody tr th {\n",
              "        vertical-align: top;\n",
              "    }\n",
              "\n",
              "    .dataframe thead th {\n",
              "        text-align: right;\n",
              "    }\n",
              "</style>\n",
              "<table border=\"1\" class=\"dataframe\">\n",
              "  <thead>\n",
              "    <tr style=\"text-align: right;\">\n",
              "      <th></th>\n",
              "      <th>Unnamed: 0</th>\n",
              "      <th>txt</th>\n",
              "      <th>sentiment</th>\n",
              "      <th>num_of_words</th>\n",
              "      <th>anon_txt</th>\n",
              "      <th>anon_txt_history</th>\n",
              "      <th>num_replaced</th>\n",
              "      <th>num_lemmatized</th>\n",
              "      <th>num_protected</th>\n",
              "      <th>num_no_change</th>\n",
              "    </tr>\n",
              "  </thead>\n",
              "  <tbody>\n",
              "    <tr>\n",
              "      <th>0</th>\n",
              "      <td>99</td>\n",
              "      <td>caution!: these tracks are not the \"original\" ...</td>\n",
              "      <td>0</td>\n",
              "      <td>22</td>\n",
              "      <td>caution ! : these track are not the \" original...</td>\n",
              "      <td>caution!: (these) {track} (are) (not) (the) \"o...</td>\n",
              "      <td>0</td>\n",
              "      <td>6</td>\n",
              "      <td>11</td>\n",
              "      <td>5</td>\n",
              "    </tr>\n",
              "    <tr>\n",
              "      <th>1</th>\n",
              "      <td>461</td>\n",
              "      <td>just awful: this was possibly the worst book i...</td>\n",
              "      <td>0</td>\n",
              "      <td>25</td>\n",
              "      <td>just worse : this was possibly the bad book i ...</td>\n",
              "      <td>(just) [worse] (this) (was) possibly (the) {ba...</td>\n",
              "      <td>1</td>\n",
              "      <td>3</td>\n",
              "      <td>14</td>\n",
              "      <td>7</td>\n",
              "    </tr>\n",
              "    <tr>\n",
              "      <th>2</th>\n",
              "      <td>493</td>\n",
              "      <td>no lessons learned: this is one of the most di...</td>\n",
              "      <td>0</td>\n",
              "      <td>23</td>\n",
              "      <td>no lesson speak : this is one of the most pred...</td>\n",
              "      <td>(no) {lesson} {learn} (this) (is) one (of) (th...</td>\n",
              "      <td>2</td>\n",
              "      <td>4</td>\n",
              "      <td>10</td>\n",
              "      <td>7</td>\n",
              "    </tr>\n",
              "    <tr>\n",
              "      <th>3</th>\n",
              "      <td>578</td>\n",
              "      <td>squeem: i ordered according to the size chart ...</td>\n",
              "      <td>0</td>\n",
              "      <td>21</td>\n",
              "      <td>squeem : i order accord to the size chart for ...</td>\n",
              "      <td>squeem: (i) {order} {accord} (to) (the) size c...</td>\n",
              "      <td>0</td>\n",
              "      <td>4</td>\n",
              "      <td>10</td>\n",
              "      <td>7</td>\n",
              "    </tr>\n",
              "    <tr>\n",
              "      <th>4</th>\n",
              "      <td>595</td>\n",
              "      <td>pass: the sizes run really small, it flips up ...</td>\n",
              "      <td>0</td>\n",
              "      <td>25</td>\n",
              "      <td>pass : the size run really small , it bag up e...</td>\n",
              "      <td>pass: (the) {size} run really small, (it) {fli...</td>\n",
              "      <td>0</td>\n",
              "      <td>5</td>\n",
              "      <td>11</td>\n",
              "      <td>9</td>\n",
              "    </tr>\n",
              "    <tr>\n",
              "      <th>...</th>\n",
              "      <td>...</td>\n",
              "      <td>...</td>\n",
              "      <td>...</td>\n",
              "      <td>...</td>\n",
              "      <td>...</td>\n",
              "      <td>...</td>\n",
              "      <td>...</td>\n",
              "      <td>...</td>\n",
              "      <td>...</td>\n",
              "      <td>...</td>\n",
              "    </tr>\n",
              "    <tr>\n",
              "      <th>941</th>\n",
              "      <td>20710</td>\n",
              "      <td>excellent: prompt delivery. correct parts. you...</td>\n",
              "      <td>1</td>\n",
              "      <td>24</td>\n",
              "      <td>excellent : prompt delivery . correct secret ....</td>\n",
              "      <td>excellent: prompt delivery. correct {part} (yo...</td>\n",
              "      <td>1</td>\n",
              "      <td>5</td>\n",
              "      <td>9</td>\n",
              "      <td>9</td>\n",
              "    </tr>\n",
              "    <tr>\n",
              "      <th>942</th>\n",
              "      <td>20711</td>\n",
              "      <td>purchased minn kota mkp 3 prop from amazon.com...</td>\n",
              "      <td>1</td>\n",
              "      <td>25</td>\n",
              "      <td>purchase minn kota mkp 3 prop from amazon.com ...</td>\n",
              "      <td>{purchase} minn kota mkp 3 prop (from) amazon....</td>\n",
              "      <td>0</td>\n",
              "      <td>4</td>\n",
              "      <td>11</td>\n",
              "      <td>10</td>\n",
              "    </tr>\n",
              "    <tr>\n",
              "      <th>943</th>\n",
              "      <td>20738</td>\n",
              "      <td>plantronics bluetooth 665 charger: this charge...</td>\n",
              "      <td>1</td>\n",
              "      <td>28</td>\n",
              "      <td>plantronic bluetooth 665 charger : this charge...</td>\n",
              "      <td>{plantronic} bluetooth 665 charger: (this) cha...</td>\n",
              "      <td>0</td>\n",
              "      <td>2</td>\n",
              "      <td>13</td>\n",
              "      <td>13</td>\n",
              "    </tr>\n",
              "    <tr>\n",
              "      <th>944</th>\n",
              "      <td>20784</td>\n",
              "      <td>video purchase: like the movie so i bought it....</td>\n",
              "      <td>1</td>\n",
              "      <td>18</td>\n",
              "      <td>video purchase : like the movie so i new it . ...</td>\n",
              "      <td>video purchase: like (the) movie (so) (i) {buy...</td>\n",
              "      <td>1</td>\n",
              "      <td>2</td>\n",
              "      <td>7</td>\n",
              "      <td>8</td>\n",
              "    </tr>\n",
              "    <tr>\n",
              "      <th>945</th>\n",
              "      <td>20790</td>\n",
              "      <td>freakin' funny!!!!!!!!!!!!!!!!!!!!!!!!: if you...</td>\n",
              "      <td>1</td>\n",
              "      <td>20</td>\n",
              "      <td>freakin ' funny ! ! ! ! ! ! ! ! ! ! ! ! ! ! ! ...</td>\n",
              "      <td>{freakin} funny!!!!!!!!!!!!!!!!!!!!!!!!: (if) ...</td>\n",
              "      <td>0</td>\n",
              "      <td>4</td>\n",
              "      <td>8</td>\n",
              "      <td>8</td>\n",
              "    </tr>\n",
              "  </tbody>\n",
              "</table>\n",
              "<p>946 rows × 10 columns</p>\n",
              "</div>"
            ],
            "text/plain": [
              "     Unnamed: 0                                                txt  sentiment   \n",
              "0            99  caution!: these tracks are not the \"original\" ...          0  \\\n",
              "1           461  just awful: this was possibly the worst book i...          0   \n",
              "2           493  no lessons learned: this is one of the most di...          0   \n",
              "3           578  squeem: i ordered according to the size chart ...          0   \n",
              "4           595  pass: the sizes run really small, it flips up ...          0   \n",
              "..          ...                                                ...        ...   \n",
              "941       20710  excellent: prompt delivery. correct parts. you...          1   \n",
              "942       20711  purchased minn kota mkp 3 prop from amazon.com...          1   \n",
              "943       20738  plantronics bluetooth 665 charger: this charge...          1   \n",
              "944       20784  video purchase: like the movie so i bought it....          1   \n",
              "945       20790  freakin' funny!!!!!!!!!!!!!!!!!!!!!!!!: if you...          1   \n",
              "\n",
              "     num_of_words                                           anon_txt   \n",
              "0              22  caution ! : these track are not the \" original...  \\\n",
              "1              25  just worse : this was possibly the bad book i ...   \n",
              "2              23  no lesson speak : this is one of the most pred...   \n",
              "3              21  squeem : i order accord to the size chart for ...   \n",
              "4              25  pass : the size run really small , it bag up e...   \n",
              "..            ...                                                ...   \n",
              "941            24  excellent : prompt delivery . correct secret ....   \n",
              "942            25  purchase minn kota mkp 3 prop from amazon.com ...   \n",
              "943            28  plantronic bluetooth 665 charger : this charge...   \n",
              "944            18  video purchase : like the movie so i new it . ...   \n",
              "945            20  freakin ' funny ! ! ! ! ! ! ! ! ! ! ! ! ! ! ! ...   \n",
              "\n",
              "                                      anon_txt_history  num_replaced   \n",
              "0    caution!: (these) {track} (are) (not) (the) \"o...             0  \\\n",
              "1    (just) [worse] (this) (was) possibly (the) {ba...             1   \n",
              "2    (no) {lesson} {learn} (this) (is) one (of) (th...             2   \n",
              "3    squeem: (i) {order} {accord} (to) (the) size c...             0   \n",
              "4    pass: (the) {size} run really small, (it) {fli...             0   \n",
              "..                                                 ...           ...   \n",
              "941  excellent: prompt delivery. correct {part} (yo...             1   \n",
              "942  {purchase} minn kota mkp 3 prop (from) amazon....             0   \n",
              "943  {plantronic} bluetooth 665 charger: (this) cha...             0   \n",
              "944  video purchase: like (the) movie (so) (i) {buy...             1   \n",
              "945  {freakin} funny!!!!!!!!!!!!!!!!!!!!!!!!: (if) ...             0   \n",
              "\n",
              "     num_lemmatized  num_protected  num_no_change  \n",
              "0                 6             11              5  \n",
              "1                 3             14              7  \n",
              "2                 4             10              7  \n",
              "3                 4             10              7  \n",
              "4                 5             11              9  \n",
              "..              ...            ...            ...  \n",
              "941               5              9              9  \n",
              "942               4             11             10  \n",
              "943               2             13             13  \n",
              "944               2              7              8  \n",
              "945               4              8              8  \n",
              "\n",
              "[946 rows x 10 columns]"
            ]
          },
          "execution_count": 29,
          "metadata": {},
          "output_type": "execute_result"
        }
      ],
      "source": [
        "df_2"
      ]
    },
    {
      "cell_type": "markdown",
      "metadata": {
        "id": "6g7SBTOQtss-"
      },
      "source": [
        "#### 3.2.2) Based on Cosine distance"
      ]
    },
    {
      "cell_type": "code",
      "execution_count": null,
      "metadata": {
        "colab": {
          "base_uri": "https://localhost:8080/",
          "height": 1000
        },
        "id": "JWUafBqmJNfH",
        "outputId": "514fa5ba-65d1-4609-e42b-ab3ab262bbfc"
      },
      "outputs": [
        {
          "name": "stdout",
          "output_type": "stream",
          "text": [
            "Starting average Jaccard index: 0.18490998931057948\n",
            "Distance threshold: 0.3036462366580963\n",
            "distance: 0.32705247 the next cluster is too wide and wont be replaced: ['soon', 'today', 'trust', 'unless', 'rather', 'four', 'mind', 'bring', 'except', 'speak', 'much', 'two', 'tell', 'able', 'never', 'remind', 'still', 'look', 'almost', 'matter', 'know', 'understand', 'however', 'talk', 'anyone', 'already', 'seriously', 'anyway', 'many', 'remember', 'let', 'day', 'unfortunately', 'else', 'like', 'three', 'exactly', 'definitely', 'might', 'stupid', 'life', 'perhaps', 'make', 'although', 'something', 'could', 'summer', 'expect', 'really', 'call', 'way', 'another', 'thing', 'otherwise', 'first', 'explain', 'absolutely', 'though', 'damn', 'enough', 'either', 'lot', 'crazy', 'second', 'maybe', 'year', 'sure', 'think', 'apparently', 'hear', 'totally', 'dude', 'mean', 'get', 'anymore', 'say', 'pretty', 'anything', 'certainly', 'right', 'try', 'find', 'probably', 'actually', 'wonder', 'finally', 'see', 'wrong', 'whether', 'ever', 'give', 'basically', 'would', 'go', 'need', 'swear', 'always', 'people', 'forget', 'every', 'bad', 'hell', 'turn', 'night', 'especially', 'leave', 'obviously', 'yesterday', 'guess', 'yet', 'five', 'nothing', 'good', 'dumb', 'must', 'since', 'hope', 'reason', 'last', 'everything', 'surprised', 'well', 'take', 'possibly', 'next', 'whole']\n",
            "distance: 0.22933029 \treplacing ['tony', 'johnson', 'james', 'michael', 'robert', 'chandler', 'miller', 'paul', 'clark', 'carter', 'joe', 'mason', 'duncan', 'smith', 'john'] in lewis\n",
            "distance: 0.12321121 \treplacing ['awful', 'ridiculous'] in crap\n",
            "distance: 0.12011783 \treplacing ['cry', 'laugh'] in hear\n",
            "distance: 0.10510544 \treplacing ['yeah', 'yes'] in yep\n",
            "distance: 0.14445907 \treplacing ['buy', 'sell'] in free\n",
            "distance: 0.12119682 \treplacing ['example', 'common'] in difference\n",
            "distance: 0.17481305 \treplacing ['far', 'close', 'away'] in until\n",
            "distance: 0.11439237 \treplacing ['jacket', 'sweater'] in hoodie\n",
            "distance: 0.19082993 \treplacing ['l', 'b', 'u', 'r'] in f\n",
            "distance: 0.13854446 \treplacing ['run', 'hit'] in down\n",
            "distance: 0.12302864 \treplacing ['brooklyn', 'houston'] in chicago\n",
            "distance: 0.13329369 \treplacing ['birthday', 'happy'] in thank\n",
            "distance: 0.11354606 \treplacing ['early', 'hour'] in hours\n",
            "distance: 0.16536334 \treplacing ['brother', 'friend', 'sister', 'mom', 'dad'] in daddy\n",
            "distance: 0.11401061 \treplacing ['british', 'australian'] in canadian\n",
            "distance: 0.12038027 \treplacing ['fairly', 'somewhat'] in particularly\n",
            "distance: 0.132492 \treplacing ['head', 'cut'] in hands\n",
            "distance: 0.14381038 \treplacing ['keep', 'stay'] in always\n",
            "distance: 0.10069309 \treplacing ['oct', 'dec'] in aug\n",
            "distance: 0.18669072 \treplacing ['ass', 'dick', 'dirty'] in nasty\n",
            "distance: 0.08542065 \treplacing ['terrible', 'horrible'] in cruel\n",
            "distance: 0.13503933 \treplacing ['time', 'break'] in take\n",
            "distance: 0.14958885 \treplacing ['pls', 'please'] in plz\n",
            "distance: 0.117537186 \treplacing ['interest', 'potential'] in significant\n",
            "distance: 0.16594043 \treplacing ['incredibly', 'amazingly', 'extremely'] in insanely\n",
            "distance: 0.10510028 \treplacing ['ear', 'tongue'] in ears\n",
            "distance: 0.12741414 \treplacing ['house', 'home'] in at\n",
            "distance: 0.17379418 \treplacing ['outside', 'around', 'walk'] in somewhere\n",
            "distance: 0.12257018 \treplacing ['shelf', 'drawer'] in storage\n",
            "distance: 0.11806467 \treplacing ['cat', 'dog'] in monkey\n",
            "distance: 0.072909445 \treplacing ['hahaha', 'hahahaha'] in hahahahaha\n",
            "distance: 0.12027458 \treplacing ['free', 'check'] in new\n",
            "distance: 0.0962739 \treplacing ['pack', 'box'] in bag\n",
            "distance: 0.13042498 \treplacing ['enjoy', 'fun'] in good\n",
            "distance: 0.088084355 \treplacing ['white', 'black'] in blue\n",
            "distance: 0.13408561 \treplacing ['management', 'development'] in strategy\n",
            "distance: 0.17466207 \treplacing ['girl', 'old', 'kid', 'guy'] in like\n",
            "distance: 0.13312031 \treplacing ['learn', 'teach'] in speak\n",
            "distance: 0.16544978 \treplacing ['husband', 'mother', 'father', 'wife', 'daughter'] in grandpa\n",
            "distance: 0.08077318 \treplacing ['reccommend', 'reccomend'] in somehing\n",
            "distance: 0.12183382 \treplacing ['definitly', 'definatly', 'definetely'] in definitley\n",
            "distance: 0.12112377 \treplacing ['instead', 'without'] in while\n",
            "distance: 0.116455466 \treplacing ['cd', 'dvd'] in hd\n",
            "distance: 0.11835016 \treplacing ['usually', 'often'] in rarely\n",
            "distance: 0.18078886 \treplacing ['amazing', 'incredible', 'fantastic', 'awesome'] in great\n",
            "distance: 0.10508657 \treplacing ['trash', 'garbage'] in dirty\n",
            "distance: 0.09668453 \treplacing ['hardly', 'barely'] in supposed\n",
            "Final average Jaccard index: 0.19623839621488579\n",
            "CPU times: total: 8min 4s\n",
            "Wall time: 8min 20s\n"
          ]
        },
        {
          "data": {
            "image/png": "[encoded data removed]",
            "text/plain": [
              "<Figure size 640x480 with 1 Axes>"
            ]
          },
          "metadata": {},
          "output_type": "display_data"
        }
      ],
      "source": [
        "%%time\n",
        "df_3, word_dict_3 = nlp_utils.replace_words_in_df(df, cluster_dict_cos, dist_dict_cos, threshold, word_dict)"
      ]
    },
    {
      "cell_type": "code",
      "execution_count": null,
      "metadata": {
        "colab": {
          "base_uri": "https://localhost:8080/",
          "height": 641
        },
        "id": "WBBkiCk4JNfH",
        "outputId": "e4a172b1-fd15-4516-a41b-dea8be990435"
      },
      "outputs": [
        {
          "data": {
            "text/html": [
              "<div>\n",
              "<style scoped>\n",
              "    .dataframe tbody tr th:only-of-type {\n",
              "        vertical-align: middle;\n",
              "    }\n",
              "\n",
              "    .dataframe tbody tr th {\n",
              "        vertical-align: top;\n",
              "    }\n",
              "\n",
              "    .dataframe thead th {\n",
              "        text-align: right;\n",
              "    }\n",
              "</style>\n",
              "<table border=\"1\" class=\"dataframe\">\n",
              "  <thead>\n",
              "    <tr style=\"text-align: right;\">\n",
              "      <th></th>\n",
              "      <th>Unnamed: 0</th>\n",
              "      <th>txt</th>\n",
              "      <th>sentiment</th>\n",
              "      <th>num_of_words</th>\n",
              "      <th>anon_txt</th>\n",
              "      <th>anon_txt_history</th>\n",
              "      <th>num_replaced</th>\n",
              "      <th>num_lemmatized</th>\n",
              "      <th>num_protected</th>\n",
              "      <th>num_no_change</th>\n",
              "    </tr>\n",
              "  </thead>\n",
              "  <tbody>\n",
              "    <tr>\n",
              "      <th>0</th>\n",
              "      <td>99</td>\n",
              "      <td>caution!: these tracks are not the \"original\" ...</td>\n",
              "      <td>0</td>\n",
              "      <td>22</td>\n",
              "      <td>caution ! : these track are not the \" original...</td>\n",
              "      <td>caution!: (these) {track} (are) (not) (the) \"o...</td>\n",
              "      <td>0</td>\n",
              "      <td>6</td>\n",
              "      <td>11</td>\n",
              "      <td>5</td>\n",
              "    </tr>\n",
              "    <tr>\n",
              "      <th>1</th>\n",
              "      <td>461</td>\n",
              "      <td>just awful: this was possibly the worst book i...</td>\n",
              "      <td>0</td>\n",
              "      <td>25</td>\n",
              "      <td>just crap : this was possibly the bad book i h...</td>\n",
              "      <td>(just) [crap] (this) (was) possibly (the) {bad...</td>\n",
              "      <td>1</td>\n",
              "      <td>3</td>\n",
              "      <td>14</td>\n",
              "      <td>7</td>\n",
              "    </tr>\n",
              "    <tr>\n",
              "      <th>2</th>\n",
              "      <td>493</td>\n",
              "      <td>no lessons learned: this is one of the most di...</td>\n",
              "      <td>0</td>\n",
              "      <td>23</td>\n",
              "      <td>no lesson speak : this is one of the most disa...</td>\n",
              "      <td>(no) {lesson} {learn} (this) (is) one (of) (th...</td>\n",
              "      <td>2</td>\n",
              "      <td>4</td>\n",
              "      <td>10</td>\n",
              "      <td>7</td>\n",
              "    </tr>\n",
              "    <tr>\n",
              "      <th>3</th>\n",
              "      <td>578</td>\n",
              "      <td>squeem: i ordered according to the size chart ...</td>\n",
              "      <td>0</td>\n",
              "      <td>21</td>\n",
              "      <td>squeem : i order accord to the size chart for ...</td>\n",
              "      <td>squeem: (i) {order} {accord} (to) (the) size c...</td>\n",
              "      <td>0</td>\n",
              "      <td>4</td>\n",
              "      <td>10</td>\n",
              "      <td>7</td>\n",
              "    </tr>\n",
              "    <tr>\n",
              "      <th>4</th>\n",
              "      <td>595</td>\n",
              "      <td>pass: the sizes run really small, it flips up ...</td>\n",
              "      <td>0</td>\n",
              "      <td>25</td>\n",
              "      <td>pass : the size down really small , it flip up...</td>\n",
              "      <td>pass: (the) {size} [down] really small, (it) {...</td>\n",
              "      <td>1</td>\n",
              "      <td>5</td>\n",
              "      <td>11</td>\n",
              "      <td>8</td>\n",
              "    </tr>\n",
              "    <tr>\n",
              "      <th>...</th>\n",
              "      <td>...</td>\n",
              "      <td>...</td>\n",
              "      <td>...</td>\n",
              "      <td>...</td>\n",
              "      <td>...</td>\n",
              "      <td>...</td>\n",
              "      <td>...</td>\n",
              "      <td>...</td>\n",
              "      <td>...</td>\n",
              "      <td>...</td>\n",
              "    </tr>\n",
              "    <tr>\n",
              "      <th>941</th>\n",
              "      <td>20710</td>\n",
              "      <td>excellent: prompt delivery. correct parts. you...</td>\n",
              "      <td>1</td>\n",
              "      <td>24</td>\n",
              "      <td>excellent : prompt delivery . correct part . y...</td>\n",
              "      <td>excellent: prompt delivery. correct {part} (yo...</td>\n",
              "      <td>1</td>\n",
              "      <td>5</td>\n",
              "      <td>9</td>\n",
              "      <td>9</td>\n",
              "    </tr>\n",
              "    <tr>\n",
              "      <th>942</th>\n",
              "      <td>20711</td>\n",
              "      <td>purchased minn kota mkp 3 prop from amazon.com...</td>\n",
              "      <td>1</td>\n",
              "      <td>25</td>\n",
              "      <td>purchase minn kota mkp 3 prop from amazon.com ...</td>\n",
              "      <td>{purchase} minn kota mkp 3 prop (from) amazon....</td>\n",
              "      <td>0</td>\n",
              "      <td>4</td>\n",
              "      <td>11</td>\n",
              "      <td>10</td>\n",
              "    </tr>\n",
              "    <tr>\n",
              "      <th>943</th>\n",
              "      <td>20738</td>\n",
              "      <td>plantronics bluetooth 665 charger: this charge...</td>\n",
              "      <td>1</td>\n",
              "      <td>28</td>\n",
              "      <td>plantronic bluetooth 665 charger : this charge...</td>\n",
              "      <td>{plantronic} bluetooth 665 charger: (this) cha...</td>\n",
              "      <td>0</td>\n",
              "      <td>2</td>\n",
              "      <td>13</td>\n",
              "      <td>13</td>\n",
              "    </tr>\n",
              "    <tr>\n",
              "      <th>944</th>\n",
              "      <td>20784</td>\n",
              "      <td>video purchase: like the movie so i bought it....</td>\n",
              "      <td>1</td>\n",
              "      <td>18</td>\n",
              "      <td>video purchase : like the movie so i new it . ...</td>\n",
              "      <td>video purchase: like (the) movie (so) (i) {buy...</td>\n",
              "      <td>1</td>\n",
              "      <td>2</td>\n",
              "      <td>7</td>\n",
              "      <td>8</td>\n",
              "    </tr>\n",
              "    <tr>\n",
              "      <th>945</th>\n",
              "      <td>20790</td>\n",
              "      <td>freakin' funny!!!!!!!!!!!!!!!!!!!!!!!!: if you...</td>\n",
              "      <td>1</td>\n",
              "      <td>20</td>\n",
              "      <td>freakin ' funny ! ! ! ! ! ! ! ! ! ! ! ! ! ! ! ...</td>\n",
              "      <td>{freakin} funny!!!!!!!!!!!!!!!!!!!!!!!!: (if) ...</td>\n",
              "      <td>0</td>\n",
              "      <td>4</td>\n",
              "      <td>8</td>\n",
              "      <td>8</td>\n",
              "    </tr>\n",
              "  </tbody>\n",
              "</table>\n",
              "<p>946 rows × 10 columns</p>\n",
              "</div>"
            ],
            "text/plain": [
              "     Unnamed: 0                                                txt  sentiment   \n",
              "0            99  caution!: these tracks are not the \"original\" ...          0  \\\n",
              "1           461  just awful: this was possibly the worst book i...          0   \n",
              "2           493  no lessons learned: this is one of the most di...          0   \n",
              "3           578  squeem: i ordered according to the size chart ...          0   \n",
              "4           595  pass: the sizes run really small, it flips up ...          0   \n",
              "..          ...                                                ...        ...   \n",
              "941       20710  excellent: prompt delivery. correct parts. you...          1   \n",
              "942       20711  purchased minn kota mkp 3 prop from amazon.com...          1   \n",
              "943       20738  plantronics bluetooth 665 charger: this charge...          1   \n",
              "944       20784  video purchase: like the movie so i bought it....          1   \n",
              "945       20790  freakin' funny!!!!!!!!!!!!!!!!!!!!!!!!: if you...          1   \n",
              "\n",
              "     num_of_words                                           anon_txt   \n",
              "0              22  caution ! : these track are not the \" original...  \\\n",
              "1              25  just crap : this was possibly the bad book i h...   \n",
              "2              23  no lesson speak : this is one of the most disa...   \n",
              "3              21  squeem : i order accord to the size chart for ...   \n",
              "4              25  pass : the size down really small , it flip up...   \n",
              "..            ...                                                ...   \n",
              "941            24  excellent : prompt delivery . correct part . y...   \n",
              "942            25  purchase minn kota mkp 3 prop from amazon.com ...   \n",
              "943            28  plantronic bluetooth 665 charger : this charge...   \n",
              "944            18  video purchase : like the movie so i new it . ...   \n",
              "945            20  freakin ' funny ! ! ! ! ! ! ! ! ! ! ! ! ! ! ! ...   \n",
              "\n",
              "                                      anon_txt_history  num_replaced   \n",
              "0    caution!: (these) {track} (are) (not) (the) \"o...             0  \\\n",
              "1    (just) [crap] (this) (was) possibly (the) {bad...             1   \n",
              "2    (no) {lesson} {learn} (this) (is) one (of) (th...             2   \n",
              "3    squeem: (i) {order} {accord} (to) (the) size c...             0   \n",
              "4    pass: (the) {size} [down] really small, (it) {...             1   \n",
              "..                                                 ...           ...   \n",
              "941  excellent: prompt delivery. correct {part} (yo...             1   \n",
              "942  {purchase} minn kota mkp 3 prop (from) amazon....             0   \n",
              "943  {plantronic} bluetooth 665 charger: (this) cha...             0   \n",
              "944  video purchase: like (the) movie (so) (i) {buy...             1   \n",
              "945  {freakin} funny!!!!!!!!!!!!!!!!!!!!!!!!: (if) ...             0   \n",
              "\n",
              "     num_lemmatized  num_protected  num_no_change  \n",
              "0                 6             11              5  \n",
              "1                 3             14              7  \n",
              "2                 4             10              7  \n",
              "3                 4             10              7  \n",
              "4                 5             11              8  \n",
              "..              ...            ...            ...  \n",
              "941               5              9              9  \n",
              "942               4             11             10  \n",
              "943               2             13             13  \n",
              "944               2              7              8  \n",
              "945               4              8              8  \n",
              "\n",
              "[946 rows x 10 columns]"
            ]
          },
          "execution_count": 31,
          "metadata": {},
          "output_type": "execute_result"
        }
      ],
      "source": [
        "df_3"
      ]
    },
    {
      "cell_type": "markdown",
      "metadata": {
        "id": "a8sVoSyjtss-"
      },
      "source": [
        "#### 3.2.3) Based on HDBSCAN clustering"
      ]
    },
    {
      "cell_type": "code",
      "execution_count": null,
      "metadata": {
        "id": "MaU9VzMytss_",
        "outputId": "d1525a3b-6512-4492-da5d-84a589283e1e"
      },
      "outputs": [
        {
          "name": "stdout",
          "output_type": "stream",
          "text": [
            "Starting average Jaccard index: 0.18490998931057948\n",
            "Distance threshold: 0.3036462366580963\n",
            "distance: 0.36643526 the next cluster is too wide and wont be replaced: ['weak', 'ok', 'yeah', 'sorry', 'soo', 'funny', 'nothin', 'stupid', 'hahaha', 'yea', 'suck', 'huh', 'damn', 'crazy', 'wow', 'dude', 'creepy', 'kinda', 'scary', 'wtf', 'joke', 'chill', 'hahahaha', 'bet', 'swear', 'yes', 'meh', 'weird', 'freakin', 'bad', 'annoying', 'hell', 'okay', 'dumb', 'fool']\n",
            "distance: 0.36183655 the next cluster is too wide and wont be replaced: ['simply', 'annoy', 'quicker', 'satisfied', 'irritate', 'sincerely', 'warn', 'beyond', 'expose', 'likely', 'however', 'normally', 'quite', 'suggest', 'disappoint', 'beware', 'clarify', 'therefore', 'unfortunately', 'disturb', 'perhaps', 'although', 'comfortable', 'truly', 'easily', 'otherwise', 'intend', 'hesitate', 'properly', 'accomplish', 'aware', 'seem', 'difficult', 'involve', 'advise', 'pronounce', 'certainly', 'entertain', 'distract', 'usually', 'personally', 'contain', 'grateful', 'necessary', 'whatsoever', 'refer', 'often', 'respond', 'mostly', 'possibly', 'badly']\n",
            "distance: 0.36224023 the next cluster is too wide and wont be replaced: ['visual', 'netflix', 'fantasy', 'channel', 'adventure', 'theater', 'dvr', 'vcr', 'novel', 'performance', 'comic', 'fps', 'dvds', 'ultimate', 'vhs', 'epic']\n",
            "distance: 0.38640735 the next cluster is too wide and wont be replaced: ['encounter', 'severe', 'emotion', 'brave', 'disappointment', 'childhood', 'excitement', 'purpose', 'romantic', 'lord', 'blessing', 'grace', 'pleasure', 'inspirational', 'saddest', 'mercy', 'happiness', 'sight', 'illness', 'imagination', 'discipline', 'nightmare', 'valuable', 'oxygen', 'goodness', 'creativity', 'damage', 'eternal', 'birth', 'extraordinary', 'tragedy', 'savior', 'condition', 'magical', 'prayer', 'joy', 'wicked', 'thrill']\n",
            "distance: 0.3674438 the next cluster is too wide and wont be replaced: ['knee', 'eye', 'dry', 'ring', 'stick', 'hair', 'brush', 'hand', 'hole', 'soft', 'bone', 'tighten', 'thin', 'thumb', 'burn', 'stiff', 'ear', 'grass', 'plain', 'tongue', 'scratch', 'wash', 'freeze', 'tree', 'tooth', 'door', 'knife', 'cheek', 'stink', 'shrink', 'gently']\n",
            "distance: 0.30635563 the next cluster is too wide and wont be replaced: ['baby', 'brother', 'nephew', 'cute', 'marry', 'child', 'friend', 'picture', 'boyfriend', 'sister', 'woman', 'mom', 'girl', 'husband', 'old', 'dad', 'mother', 'father', 'kid', 'wife', 'name', 'guy', 'daughter']\n",
            "distance: 0.40850243 the next cluster is too wide and wont be replaced: ['former', 'shia', 'city', 'blu', 'center', 'border', 'brooklyn', 'mexico', 'british', 'america', 'aviation', 'sf', 'egyptian', 'rebel', 'turkey', 'occupy', 'nevada', 'invasion', 'soldier', 'prime', 'thailand', 'birmingham', 'china', 'portuguese', 'state', 'hill', 'french', 'australian', 'region', 'western', 'south', 'german', 'coast', 'temple', 'country', 'chinese', 'southwest', 'colonial', 'area', 'india', 'iraqi', 'catholic', 'uk', 'american', 'hunt', 'houston']\n",
            "distance: 0.33091715 the next cluster is too wide and wont be replaced: ['stevie', 'tony', 'phillip', 'nelly', 'abraham', 'rip', 'cher', 'julie', 'reed', 'turner', 'keith', 'julia', 'johnson', 'james', 'captain', 'sung', 'ann', 'charlie', 'brown', 'thomas', 'mark', 'michael', 'shin', 'robert', 'clint', 'chandler', 'courtney', 'gabriel', 'duke', 'nick', 'romero', 'jefferson', 'saint', 'clifford', 'rebecca', 'elizabeth', 'kelly', 'joseph', 'miller', 'ray', 'paul', 'lisa', 'clark', 'prince', 'wendy', 'gilbert', 'ron', 'carter', 'joe', 'patrick', 'henry', 'perry', 'christine', 'jack', 'jordan', 'mario', 'mason', 'albert', 'mrs', 'quentin', 'duncan', 'mr', 'smith', 'wayne', 'john', 'usher']\n",
            "distance: 0.33163607 the next cluster is too wide and wont be replaced: ['horribly', 'socially', 'nicely', 'wonderfully', 'fairly', 'enjoyable', 'immensely', 'slightly', 'incredibly', 'highly', 'utterly', 'thoroughly', 'amazingly', 'poorly', 'surprisingly', 'ecstatic', 'somewhat', 'impressed', 'extremely', 'ridiculously', 'entirely']\n",
            "distance: 0.40212545 the next cluster is too wide and wont be replaced: ['awful', 'useless', 'acceptable', 'appropriate', 'reliable', 'relevant', 'upbeat', 'hyper', 'frustrating', 'absurd', 'competitive', 'inaccurate', 'worthless', 'decent', 'manner', 'peeve', 'unrealistic', 'energetic', 'disappointing', 'definite', 'useful', 'rubbish', 'profound', 'realistic', 'duper', 'overall', 'superb', 'awsome', 'intriguing', 'terrific', 'proper', 'behaviour', 'storyline', 'prediction', 'clever', 'pointless', 'fascinating', 'needless', 'crappy', 'catchy', 'accurate', 'indication', 'outstanding', 'loveit', 'consequence', 'impressive', 'insightful', 'typical', 'brilliant', 'helpful', 'informative', 'ridiculous', 'incredible', 'inexpensive', 'timely', 'irrelevant', 'fantastic', 'convenient', 'interesting', 'absolute', 'imaginative', 'nonsense', 'unbelievable', 'reasonable', 'magnificent']\n",
            "distance: 0.34779704 the next cluster is too wide and wont be replaced: ['video', 'album', 'concert', 'radio', 'version', 'band', 'style', 'dance', 'music', 'song', 'rock', 'film', 'show', 'ballet', 'mix', 'voice', 'live']\n",
            "distance: 0.30460927 the next cluster is too wide and wont be replaced: ['benefit', 'career', 'additional']\n",
            "distance: 0.4535201 the next cluster is too wide and wont be replaced: ['c', 'e', 'w', 'mari', 'k', 'ya', 'l', 'x', 'dr', \"'\", 'p', 'sg', 'dan', 'co', 'g', 'b', 'j', 'da', 'u', 'r', 'ms', 'mar', 'dd']\n",
            "distance: 0.33644465 the next cluster is too wide and wont be replaced: ['customer', 'agency', 'elementary', 'section', 'daily', 'medical', 'application', 'industry', 'service', 'library', 'research', 'leader', 'board', 'information', 'client', 'company', 'office', 'management', 'exchange', 'education', 'business', 'job', 'program', 'retail', 'development', 'group']\n",
            "distance: 0.37907487 the next cluster is too wide and wont be replaced: ['complicate', 'exaggerate', 'indicate', 'absorb', 'depress', 'firmly', 'anticipate', 'interpret', 'convey', 'degrade', 'spiritually', 'inability', 'steer', 'greatly', 'frequently', 'arise', 'virtually', 'carefully', 'portray', 'haunt', 'grasp', 'mislead', 'attach', 'stumble', 'accurately']\n",
            "distance: 0.27005252 \treplacing ['discuss', 'allow', 'manage', 'interested'] in consider\n",
            "distance: 0.337601 the next cluster is too wide and wont be replaced: ['today', 'til', 'month', 'far', 'nearly', 'early', 'start', 'rest', 'almost', 'ready', 'already', 'late', 'past', 'time', 'long', 'safe', 'hour', 'half', 'close', 'school', 'another', 'first', 'twice', 'year', 'nap', 'later', 'ago', 'finally', 'away', 'home', 'trip', 'th', 'yesterday', 'mood', 'week', 'since', 'last', 'next', 'whole']\n",
            "distance: 0.29303083 \treplacing ['fonda', 'dolly', 'mosby'] in genovia\n",
            "distance: 0.44782317 the next cluster is too wide and wont be replaced: ['laughoutloud', 'recomend', 'discontinue', 'disparage', 'transcribe', 'deliverd', 'fascinate', 'actionmovie', 'paraphrase', 'reaffirm', 'overprice', 'depict', 'annotate']\n",
            "distance: 0.2914026 \treplacing ['trust', 'unless', 'mind', 'except', 'much', 'remind', 'worse', 'someone', 'matter', 'understand', 'anyone', 'many', 'else', 'exactly', 'poor', 'something', 'truth', 'enough', 'either', 'lot', 'none', 'anything', 'person', 'shame', 'find', 'instead', 'wrong', 'whoever', 'happen', 'lose', 'people', 'different', 'especially', 'realize', 'without', 'true', 'nothing', 'sometimes', 'reason', 'everything', 'worth', 'alot'] in means\n",
            "distance: 0.4200181 the next cluster is too wide and wont be replaced: ['use', 'sign', 'buy', 'carry', 'ship', 'league', 'prepare', 'couple', 'reach', 'remove', 'surprise', 'third', 'player', 'forward', 'gain', 'record', 'support', 'replace', 'end', 'hockey', 'delete', 'victory', 'draw', 'date', 'st', 'free', 'mention', 'minute', 'race', 'second', 'save', 'spread', 'place', 'new', 'match', 'order', 'sell', 'point', 'chance', 'return', 'promote', 'fill', 'season', 'huge', 'deal', 'spare', 'check', 'figure', 'number', 'fair', 'lead']\n",
            "distance: 0.3318233 the next cluster is too wide and wont be replaced: ['morillo', 'coltrane', 'sherry', 'lightfoot', 'lore', 'sherryl', 'langston', 'quigley', 'gerson', 'karyn', 'ryu', 'paxton', 'caspian', 'caine', 'asimov', 'verne', 'carnegie', 'devlin', 'phelan', 'browne', 'bozo', 'kerouac', 'garwood', 'jonestown', 'cornwell', 'constantine', 'bunyan', 'boyer', 'wiley', 'myer']\n",
            "distance: 0.3932395 the next cluster is too wide and wont be replaced: ['congrat', 'waas', 'minn', 'zzzzzz', 'wep', 'feehan', 'jule', 'thia', 'aal', 'anake', 'iii', 'zelia', 'morrillo', 'zuk', 'agan', 'charle', 'dud', 'gad', 'wase', 'iti', 'muni', 'mog', 'addy', 'ime', 'tomcat', 'mule', 'rut', 'tbone']\n",
            "distance: 0.3030405 \treplacing ['cry', 'bring', 'quit', 'tell', 'still', 'put', 'know', 'talk', 'feel', 'keep', 'anyway', 'remember', 'let', 'listen', 'make', 'call', 'thing', 'laugh', 'cause', 'hear', 'mean', 'get', 'anymore', 'say', 'stop', 'want', 'right', 'try', 'ever', 'give', 'need', 'always', 'forget', 'everytime', 'leave', 'even', 'take'] in n't\n",
            "distance: 0.28150713 \treplacing ['act', 'treat', 'honest', 'speak', 'grow', 'choose'] in enough\n",
            "distance: 0.36116338 the next cluster is too wide and wont be replaced: ['guest', 'event', 'project', 'amazon', 'magazine', 'oct', 'quiz', 'kindle', 'review', 'chapter', 'script', 'nov', 'book', 'art', 'recording', 'dec', 'japan', 'feature', 'pdf', 'wikipedia']\n",
            "distance: 0.45011875 the next cluster is too wide and wont be replaced: ['belkin', 'gutenberg', 'backgammon', 'stargate', 'tuscan', 'apache', 'mandolin', 'inaug', 'cavalier', 'bose', 'storie', 'miniserie', 'lumix', 'laminator', 'docker', 'cq', 'sprinkler', 'reflector', 'fullscreen', 'supersonic', 'nomad', 'irobot', 'slog', 'monoxide', 'seti', 'emporio', 'rattle', 'psi', 'scarpetta', 'toxicity', 'moonstruck', 'dorman', 'pulitzer']\n",
            "distance: 0.42393816 the next cluster is too wide and wont be replaced: ['bookstore', 'usage', 'landscape', 'poetry', 'departure', 'timeless', 'mellow', 'alternate', 'avid', 'beginner', 'transaction', 'handbook', 'requirement', 'reader', 'intermediate', 'setup', 'installation', 'configuration', 'companion', 'retailer', 'surgical', 'illustration', 'photographed', 'outline', 'poem', 'description', 'literature', 'prologue', 'reviewer', 'vendor', 'practitioner', 'theory', 'bible', 'shipment', 'reference', 'textbook', 'phd', 'essence', 'interactive', 'historical', 'instructor', 'eclectic', 'buyer', 'soulful', 'digest', 'autobiography', 'scenery', 'programming', 'handy', 'bilingual', 'childcare', 'seller', 'masterpiece', 'goodwill', 'documentation', 'curiosity', 'chemistry', 'installment']\n",
            "distance: 0.38143578 the next cluster is too wide and wont be replaced: ['collect', 'redeem', 'paper', 'apply', 'grade']\n",
            "distance: 0.39024568 the next cluster is too wide and wont be replaced: ['bear', 'elephant', 'recipe', 'coffee', 'drink', 'tea', 'rabbit', 'henny', 'delicious', 'food', 'redhead', 'bomb', 'cat', 'taste', 'farm', 'candy', 'oreo', 'giant', 'cake', 'bean', 'dog', 'yum', 'cereal', 'flavor', 'meat', 'lamb', 'pet', 'puppy', 'plant', 'cook', 'rice', 'chocolate']\n",
            "distance: 0.26236087 \treplacing ['concept', 'professional', 'product'] in quality\n",
            "distance: 0.42040858 the next cluster is too wide and wont be replaced: ['undershirt', 'drippy', 'opend', 'fasten', 'lanyard', 'propoganda', 'earing', 'spanx', 'toenail', 'crumpet', 'scratcher', 'rotate', 'splint', 'accross', 'ehhh', 'handkerchief', 'wart', 'girdle', 'noose', 'seam', 'wasteof']\n",
            "distance: 0.3560874 the next cluster is too wide and wont be replaced: ['welcome', 'dear', 'birthday', 'luck', 'happy', 'meet', 'love', 'sweet', 'thank', 'cool', 'nice', 'yuck']\n",
            "distance: 0.3525391 the next cluster is too wide and wont be replaced: ['recommendable', 'fabu', 'generalization', 'implausible', 'foreshadow', 'autobot', 'producti', 'cheep', 'critism', 'insipid', 'waster', 'induce', 'unreadable', 'listenable', 'comprehensible', 'nonexistant', 'trite', 'verbose', 'talente', 'vacuous', 'capitalistic', 'myopic', 'disapointment', 'unimaginative', 'unsupported', 'flavorless', 'goodi']\n",
            "distance: 0.32336223 the next cluster is too wide and wont be replaced: ['tape', 'string', 'machine', 'stamp', 'penny', 'bug', 'twist', 'coin', 'resistant', 'cent']\n",
            "distance: 0.40030685 the next cluster is too wide and wont be replaced: ['toy', 'control', 'idea', 'ego', 'error', 'crack', 'terrible', 'plan', 'base', 'familiar', 'mental', 'total', 'produce', 'actual', 'humor', 'invisible', 'animal', 'moral', 'visible', 'antisocial', 'criminal', 'buff', 'simple', 'horrible', 'superficial']\n",
            "distance: 0.35212493 the next cluster is too wide and wont be replaced: ['experience', 'example', 'sentence', 'freedom', 'death', 'violence', 'false', 'suicide', 'majority', 'religion']\n",
            "distance: 0.35117114 the next cluster is too wide and wont be replaced: ['moon', 'ocean', 'inside', 'drag', 'breeze', 'head', 'room', 'near', 'train', 'shower', 'ride', 'house', 'outside', 'side', 'high', 'earth', 'around', 'light', 'dark', 'sunny', 'shine', 'deep', 'middle', 'fire', 'ground', 'across', 'rain', 'snow', 'sun', 'road', 'cold', 'front', 'beach', 'lane', 'walk', 'drive']\n",
            "distance: 0.36464432 the next cluster is too wide and wont be replaced: ['pattern', 'lamp', 'compression', 'length', 'holster', 'fireplace', 'necklace', 'polyester', 'shelf', 'drawer', 'charm', 'copper', 'frame', 'fabric', 'bead', 'factory']\n",
            "distance: 0.4063434 the next cluster is too wide and wont be replaced: ['subject', 'speech', 'lesson', 'generation', 'bizarre', 'recent', 'professor', 'english', 'teacher', 'congress', 'basis', 'algebra', 'math', 'society', 'essay', 'covering', 'talent', 'complaint', 'breakdown', 'topic', 'constitution', 'teaching', 'plot']\n",
            "distance: 0.36271766 the next cluster is too wide and wont be replaced: ['pajama', 'jacket', 'pair', 'bag', 'large', 'sweater', 'sand', 'mask', 'stud', 'cotton', 'boot', 'helmet', 'lightweight', 'dress', 'backpack', 'glass', 'dryer', 'purse', 'white', 'tank', 'shoe', 'blue', 'strap', 'paint', 'facial', 'gold', 'suit', 'spray', 'pocket', 'mold', 'shirt', 'wear', 'black', 'plastic', 'purple', 'hat']\n",
            "distance: 0.40255123 the next cluster is too wide and wont be replaced: ['headset', 'tablet', 'stylish', 'print', 'maker', 'xl', 'monitor', 'compatible', 'thread', 'desktop', 'waterproof', 'colorful', 'kit', 'custom', 'flashlight', 'adapter', 'printer', 'router', 'tent', 'ping', 'multi', 'compact', 'pad', 'item', 'bluetooth', 'headphone', 'authentic', 'durable']\n",
            "distance: 0.39904797 the next cluster is too wide and wont be replaced: ['informational', 'goer', 'consort', 'backorder', 'worshipper', 'writeup', 'verison', 'reveiw', 'abridge', 'indepth', 'purchaser', 'paranoiac', 'execpt', 'remastere', 'romanticism', 'endtime', 'neopet', 'propriety', 'softcover', 'discription', 'orchestration', 'purport', 'fodder', 'breakroom', 'almanac']\n",
            "distance: 0.30466744 the next cluster is too wide and wont be replaced: ['kick', 'run', 'play', 'lay', 'catch', 'skip', 'fall', 'sit', 'hit', 'handle', 'hold', 'thru', 'beat', 'turn', 'fight', 'fast']\n",
            "distance: 0.399195 the next cluster is too wide and wont be replaced: ['sense', 'important', 'pain', 'effort', 'create', 'resolve', 'attitude', 'define', 'opinion', 'friendly']\n",
            "distance: 0.3741465 the next cluster is too wide and wont be replaced: ['website', 'info', 'generic', 'stock', 'purchase', 'delivery', 'price', 'package', 'hike', 'online']\n",
            "distance: 0.36230716 the next cluster is too wide and wont be replaced: ['porn', 'ass', 'gay', 'dick', 'sex', 'hater', 'chick', 'freak']\n",
            "distance: 0.33393314 the next cluster is too wide and wont be replaced: ['producer', 'superstar', 'singer', 'musician', 'legendary', 'remake', 'sequel', 'trilogy', 'wwe', 'comedian', 'dancer', 'suspense']\n",
            "distance: 0.5031881 the next cluster is too wide and wont be replaced: ['pos', 'tenia', 'vista', 'dale', 'sale', 'primer', 'ti', 'va', 'al', 'son', 'senti', 'favor', 'mono', 'dice', 'vale', 'sea', 'uf', 'gane']\n",
            "distance: 0.34206498 the next cluster is too wide and wont be replaced: ['seek', 'caution', 'sensitive', 'establish', 'ease']\n",
            "distance: 0.3219991 the next cluster is too wide and wont be replaced: ['growth', 'value', 'opportunity', 'proof', 'potential']\n",
            "distance: 0.41956565 the next cluster is too wide and wont be replaced: ['reliance', 'picket', 'settler', 'recipient']\n",
            "distance: 0.42786586 the next cluster is too wide and wont be replaced: ['spirituality', 'fallen', 'expression', 'decade', 'improvement', 'christianity', 'conclusion']\n",
            "distance: 0.32193577 the next cluster is too wide and wont be replaced: ['bike', 'touch', 'short', 'clear', 'double', 'set', 'clock', 'seat', 'garbage']\n",
            "distance: 0.22118245 \treplacing ['moby', 'nightwish', 'jumanji'] in flo-rida\n",
            "distance: 0.27263272 \treplacing ['day', 'wonderful', 'dream', 'fun', 'christmas', 'amazing', 'awesome', 'perfect'] in great\n",
            "distance: 0.40603665 the next cluster is too wide and wont be replaced: ['hard', 'see', 'feeling', 'go', 'alone', 'wat']\n",
            "distance: 0.29760107 \treplacing ['cassette', 'nintendo', 'dvd', 'disk'] in playstation\n",
            "Final average Jaccard index: 0.22202398321077904\n",
            "CPU times: total: 9min 8s\n",
            "Wall time: 9min 19s\n"
          ]
        },
        {
          "data": {
            "image/png": "[encoded data removed]",
            "text/plain": [
              "<Figure size 640x480 with 1 Axes>"
            ]
          },
          "metadata": {},
          "output_type": "display_data"
        }
      ],
      "source": [
        "%%time\n",
        "df_4, word_dict_4 = nlp_utils.replace_words_in_df(df, cluster_dict_h, dist_dict_h, threshold, word_dict)"
      ]
    },
    {
      "cell_type": "code",
      "execution_count": null,
      "metadata": {
        "id": "UKAtcrYItss_",
        "outputId": "b855900e-9159-48b0-b03c-aa699ae9398d"
      },
      "outputs": [
        {
          "data": {
            "text/html": [
              "<div>\n",
              "<style scoped>\n",
              "    .dataframe tbody tr th:only-of-type {\n",
              "        vertical-align: middle;\n",
              "    }\n",
              "\n",
              "    .dataframe tbody tr th {\n",
              "        vertical-align: top;\n",
              "    }\n",
              "\n",
              "    .dataframe thead th {\n",
              "        text-align: right;\n",
              "    }\n",
              "</style>\n",
              "<table border=\"1\" class=\"dataframe\">\n",
              "  <thead>\n",
              "    <tr style=\"text-align: right;\">\n",
              "      <th></th>\n",
              "      <th>Unnamed: 0</th>\n",
              "      <th>txt</th>\n",
              "      <th>sentiment</th>\n",
              "      <th>num_of_words</th>\n",
              "      <th>anon_txt</th>\n",
              "      <th>anon_txt_history</th>\n",
              "      <th>num_replaced</th>\n",
              "      <th>num_lemmatized</th>\n",
              "      <th>num_protected</th>\n",
              "      <th>num_no_change</th>\n",
              "    </tr>\n",
              "  </thead>\n",
              "  <tbody>\n",
              "    <tr>\n",
              "      <th>0</th>\n",
              "      <td>99</td>\n",
              "      <td>caution!: these tracks are not the \"original\" ...</td>\n",
              "      <td>0</td>\n",
              "      <td>22</td>\n",
              "      <td>caution ! : these track are not the \" original...</td>\n",
              "      <td>caution!: (these) {track} (are) (not) (the) \"o...</td>\n",
              "      <td>0</td>\n",
              "      <td>6</td>\n",
              "      <td>11</td>\n",
              "      <td>5</td>\n",
              "    </tr>\n",
              "    <tr>\n",
              "      <th>1</th>\n",
              "      <td>461</td>\n",
              "      <td>just awful: this was possibly the worst book i...</td>\n",
              "      <td>0</td>\n",
              "      <td>25</td>\n",
              "      <td>just awful : this was possibly the bad book i ...</td>\n",
              "      <td>(just) [crap] (this) (was) possibly (the) {bad...</td>\n",
              "      <td>1</td>\n",
              "      <td>3</td>\n",
              "      <td>14</td>\n",
              "      <td>7</td>\n",
              "    </tr>\n",
              "    <tr>\n",
              "      <th>2</th>\n",
              "      <td>493</td>\n",
              "      <td>no lessons learned: this is one of the most di...</td>\n",
              "      <td>0</td>\n",
              "      <td>23</td>\n",
              "      <td>no lesson learn : this is one of the most disa...</td>\n",
              "      <td>(no) {lesson} {learn} (this) (is) one (of) (th...</td>\n",
              "      <td>2</td>\n",
              "      <td>4</td>\n",
              "      <td>10</td>\n",
              "      <td>7</td>\n",
              "    </tr>\n",
              "    <tr>\n",
              "      <th>3</th>\n",
              "      <td>578</td>\n",
              "      <td>squeem: i ordered according to the size chart ...</td>\n",
              "      <td>0</td>\n",
              "      <td>21</td>\n",
              "      <td>squeem : i order accord to the size chart for ...</td>\n",
              "      <td>squeem: (i) {order} {accord} (to) (the) size c...</td>\n",
              "      <td>0</td>\n",
              "      <td>4</td>\n",
              "      <td>10</td>\n",
              "      <td>7</td>\n",
              "    </tr>\n",
              "    <tr>\n",
              "      <th>4</th>\n",
              "      <td>595</td>\n",
              "      <td>pass: the sizes run really small, it flips up ...</td>\n",
              "      <td>0</td>\n",
              "      <td>25</td>\n",
              "      <td>pass : the size run really small , it flip up ...</td>\n",
              "      <td>pass: (the) {size} [down] really small, (it) {...</td>\n",
              "      <td>1</td>\n",
              "      <td>5</td>\n",
              "      <td>11</td>\n",
              "      <td>8</td>\n",
              "    </tr>\n",
              "    <tr>\n",
              "      <th>...</th>\n",
              "      <td>...</td>\n",
              "      <td>...</td>\n",
              "      <td>...</td>\n",
              "      <td>...</td>\n",
              "      <td>...</td>\n",
              "      <td>...</td>\n",
              "      <td>...</td>\n",
              "      <td>...</td>\n",
              "      <td>...</td>\n",
              "      <td>...</td>\n",
              "    </tr>\n",
              "    <tr>\n",
              "      <th>941</th>\n",
              "      <td>20710</td>\n",
              "      <td>excellent: prompt delivery. correct parts. you...</td>\n",
              "      <td>1</td>\n",
              "      <td>24</td>\n",
              "      <td>excellent : prompt delivery . correct part . y...</td>\n",
              "      <td>excellent: prompt delivery. correct {part} (yo...</td>\n",
              "      <td>1</td>\n",
              "      <td>5</td>\n",
              "      <td>9</td>\n",
              "      <td>9</td>\n",
              "    </tr>\n",
              "    <tr>\n",
              "      <th>942</th>\n",
              "      <td>20711</td>\n",
              "      <td>purchased minn kota mkp 3 prop from amazon.com...</td>\n",
              "      <td>1</td>\n",
              "      <td>25</td>\n",
              "      <td>purchase minn kota mkp 3 prop from amazon.com ...</td>\n",
              "      <td>{purchase} minn kota mkp 3 prop (from) amazon....</td>\n",
              "      <td>1</td>\n",
              "      <td>4</td>\n",
              "      <td>11</td>\n",
              "      <td>9</td>\n",
              "    </tr>\n",
              "    <tr>\n",
              "      <th>943</th>\n",
              "      <td>20738</td>\n",
              "      <td>plantronics bluetooth 665 charger: this charge...</td>\n",
              "      <td>1</td>\n",
              "      <td>28</td>\n",
              "      <td>plantronic bluetooth 665 charger : this charge...</td>\n",
              "      <td>{plantronic} bluetooth 665 charger: (this) cha...</td>\n",
              "      <td>0</td>\n",
              "      <td>2</td>\n",
              "      <td>13</td>\n",
              "      <td>13</td>\n",
              "    </tr>\n",
              "    <tr>\n",
              "      <th>944</th>\n",
              "      <td>20784</td>\n",
              "      <td>video purchase: like the movie so i bought it....</td>\n",
              "      <td>1</td>\n",
              "      <td>18</td>\n",
              "      <td>video purchase : like the movie so i buy it . ...</td>\n",
              "      <td>video purchase: like (the) movie (so) (i) {buy...</td>\n",
              "      <td>1</td>\n",
              "      <td>2</td>\n",
              "      <td>7</td>\n",
              "      <td>8</td>\n",
              "    </tr>\n",
              "    <tr>\n",
              "      <th>945</th>\n",
              "      <td>20790</td>\n",
              "      <td>freakin' funny!!!!!!!!!!!!!!!!!!!!!!!!: if you...</td>\n",
              "      <td>1</td>\n",
              "      <td>20</td>\n",
              "      <td>freakin ' funny ! ! ! ! ! ! ! ! ! ! ! ! ! ! ! ...</td>\n",
              "      <td>{freakin} funny!!!!!!!!!!!!!!!!!!!!!!!!: (if) ...</td>\n",
              "      <td>0</td>\n",
              "      <td>4</td>\n",
              "      <td>8</td>\n",
              "      <td>8</td>\n",
              "    </tr>\n",
              "  </tbody>\n",
              "</table>\n",
              "<p>946 rows × 10 columns</p>\n",
              "</div>"
            ],
            "text/plain": [
              "     Unnamed: 0                                                txt  sentiment   \n",
              "0            99  caution!: these tracks are not the \"original\" ...          0  \\\n",
              "1           461  just awful: this was possibly the worst book i...          0   \n",
              "2           493  no lessons learned: this is one of the most di...          0   \n",
              "3           578  squeem: i ordered according to the size chart ...          0   \n",
              "4           595  pass: the sizes run really small, it flips up ...          0   \n",
              "..          ...                                                ...        ...   \n",
              "941       20710  excellent: prompt delivery. correct parts. you...          1   \n",
              "942       20711  purchased minn kota mkp 3 prop from amazon.com...          1   \n",
              "943       20738  plantronics bluetooth 665 charger: this charge...          1   \n",
              "944       20784  video purchase: like the movie so i bought it....          1   \n",
              "945       20790  freakin' funny!!!!!!!!!!!!!!!!!!!!!!!!: if you...          1   \n",
              "\n",
              "     num_of_words                                           anon_txt   \n",
              "0              22  caution ! : these track are not the \" original...  \\\n",
              "1              25  just awful : this was possibly the bad book i ...   \n",
              "2              23  no lesson learn : this is one of the most disa...   \n",
              "3              21  squeem : i order accord to the size chart for ...   \n",
              "4              25  pass : the size run really small , it flip up ...   \n",
              "..            ...                                                ...   \n",
              "941            24  excellent : prompt delivery . correct part . y...   \n",
              "942            25  purchase minn kota mkp 3 prop from amazon.com ...   \n",
              "943            28  plantronic bluetooth 665 charger : this charge...   \n",
              "944            18  video purchase : like the movie so i buy it . ...   \n",
              "945            20  freakin ' funny ! ! ! ! ! ! ! ! ! ! ! ! ! ! ! ...   \n",
              "\n",
              "                                      anon_txt_history  num_replaced   \n",
              "0    caution!: (these) {track} (are) (not) (the) \"o...             0  \\\n",
              "1    (just) [crap] (this) (was) possibly (the) {bad...             1   \n",
              "2    (no) {lesson} {learn} (this) (is) one (of) (th...             2   \n",
              "3    squeem: (i) {order} {accord} (to) (the) size c...             0   \n",
              "4    pass: (the) {size} [down] really small, (it) {...             1   \n",
              "..                                                 ...           ...   \n",
              "941  excellent: prompt delivery. correct {part} (yo...             1   \n",
              "942  {purchase} minn kota mkp 3 prop (from) amazon....             1   \n",
              "943  {plantronic} bluetooth 665 charger: (this) cha...             0   \n",
              "944  video purchase: like (the) movie (so) (i) {buy...             1   \n",
              "945  {freakin} funny!!!!!!!!!!!!!!!!!!!!!!!!: (if) ...             0   \n",
              "\n",
              "     num_lemmatized  num_protected  num_no_change  \n",
              "0                 6             11              5  \n",
              "1                 3             14              7  \n",
              "2                 4             10              7  \n",
              "3                 4             10              7  \n",
              "4                 5             11              8  \n",
              "..              ...            ...            ...  \n",
              "941               5              9              9  \n",
              "942               4             11              9  \n",
              "943               2             13             13  \n",
              "944               2              7              8  \n",
              "945               4              8              8  \n",
              "\n",
              "[946 rows x 10 columns]"
            ]
          },
          "execution_count": 33,
          "metadata": {},
          "output_type": "execute_result"
        }
      ],
      "source": [
        "df_4"
      ]
    },
    {
      "cell_type": "markdown",
      "metadata": {
        "id": "o6f1biWDJcq_"
      },
      "source": [
        "Looking at the histogram again"
      ]
    },
    {
      "cell_type": "code",
      "execution_count": null,
      "metadata": {
        "colab": {
          "base_uri": "https://localhost:8080/"
        },
        "id": "RAwZ842fJNfH",
        "outputId": "d247f8f6-c906-4636-e12c-0f582fae9224"
      },
      "outputs": [
        {
          "data": {
            "image/png": "[encoded data removed]",
            "text/plain": [
              "<Figure size 640x480 with 1 Axes>"
            ]
          },
          "metadata": {},
          "output_type": "display_data"
        },
        {
          "name": "stdout",
          "output_type": "stream",
          "text": [
            "CPU times: total: 7.17 s\n",
            "Wall time: 7.21 s\n"
          ]
        }
      ],
      "source": [
        "%%time\n",
        "nlp_utils.plot_jaccard_hist(df_2, column='txt')"
      ]
    },
    {
      "cell_type": "code",
      "execution_count": null,
      "metadata": {
        "colab": {
          "base_uri": "https://localhost:8080/"
        },
        "id": "Zpd_DAgSJSIY",
        "outputId": "54e0ee94-7605-446f-81b9-a677475531c4"
      },
      "outputs": [
        {
          "data": {
            "image/png": "[encoded data removed]",
            "text/plain": [
              "<Figure size 640x480 with 1 Axes>"
            ]
          },
          "metadata": {},
          "output_type": "display_data"
        },
        {
          "name": "stdout",
          "output_type": "stream",
          "text": [
            "CPU times: total: 7.8 s\n",
            "Wall time: 7.83 s\n"
          ]
        }
      ],
      "source": [
        "%%time\n",
        "nlp_utils.plot_jaccard_hist(df_2, 'anon_txt')"
      ]
    },
    {
      "cell_type": "markdown",
      "metadata": {
        "id": "xUS6D8y3tstA"
      },
      "source": [
        "For eucledian distance"
      ]
    },
    {
      "cell_type": "code",
      "execution_count": null,
      "metadata": {
        "id": "GgUi4_ZxtstA",
        "outputId": "728a8726-772f-40f5-8847-21cce57d4ea5"
      },
      "outputs": [
        {
          "name": "stdout",
          "output_type": "stream",
          "text": [
            "Protected: 135\tLemmatized: 970\t Replaced: 386\t All: 3311\n"
          ]
        }
      ],
      "source": [
        "protected, lemma, replaced, all_words = nlp_utils.get_stat(word_dict_2)\n",
        "print(f'Protected: {protected}\\tLemmatized: {lemma}\\t Replaced: {replaced}\\t All: {all_words}')"
      ]
    },
    {
      "cell_type": "code",
      "execution_count": null,
      "metadata": {
        "id": "FwP4-igBtstA",
        "outputId": "43667c8b-7263-43fc-8844-bd6417143637"
      },
      "outputs": [
        {
          "data": {
            "image/png": "[encoded data removed]",
            "text/plain": [
              "<Figure size 640x480 with 1 Axes>"
            ]
          },
          "metadata": {},
          "output_type": "display_data"
        }
      ],
      "source": [
        "y = np.array([protected, lemma, replaced, (all_words - protected - lemma - replaced)])\n",
        "mylabels = ['protected', 'lemmatized', 'replaced', 'no change']\n",
        "\n",
        "plt.pie(y, labels = mylabels)\n",
        "plt.title('Words in voccabulary')\n",
        "plt.show()"
      ]
    },
    {
      "cell_type": "code",
      "execution_count": null,
      "metadata": {
        "id": "2FiHdJU9tstA",
        "outputId": "5c2dfff2-20d6-4a57-9812-d64402ba80e1"
      },
      "outputs": [
        {
          "data": {
            "image/png": "[encoded data removed]",
            "text/plain": [
              "<Figure size 640x480 with 1 Axes>"
            ]
          },
          "metadata": {},
          "output_type": "display_data"
        }
      ],
      "source": [
        "y = np.array([df_2['num_protected'].sum(), df_2['num_lemmatized'].sum(), df_2['num_replaced'].sum(), df_2['num_no_change'].sum()])\n",
        "mylabels = ['protected', 'lemmatized', 'replaced', 'no change']\n",
        "\n",
        "plt.pie(y, labels = mylabels)\n",
        "plt.title('Words in dataset')\n",
        "plt.show()"
      ]
    },
    {
      "cell_type": "markdown",
      "metadata": {
        "id": "fWT-DpIJtstB"
      },
      "source": [
        "## 4) Force anonymity"
      ]
    },
    {
      "cell_type": "markdown",
      "metadata": {
        "id": "_Sl7VXN0tstB"
      },
      "source": [
        "### Get anonymity degree"
      ]
    },
    {
      "cell_type": "markdown",
      "metadata": {
        "id": "vmZdd648tstB"
      },
      "source": [
        "Before replacement"
      ]
    },
    {
      "cell_type": "code",
      "execution_count": null,
      "metadata": {
        "id": "NJTRaebbtstB",
        "outputId": "9cd1d4ac-3fec-4653-aa70-e11d0171b4be"
      },
      "outputs": [
        {
          "name": "stdout",
          "output_type": "stream",
          "text": [
            "Current k: 1 \tnumber of un-anonym. documents: 944 \tnumber of all documents: 946\n"
          ]
        }
      ],
      "source": [
        "curr_k, non_anon_indexes = anonym_utils.get_anonym_degree(docs=df_2['txt'])\n",
        "print('Current k:', curr_k, '\\tnumber of un-anonym. documents:', len(non_anon_indexes), '\\tnumber of all documents:', len(df_2['txt']))"
      ]
    },
    {
      "cell_type": "markdown",
      "metadata": {
        "id": "CUq1fvM5tstB"
      },
      "source": [
        "After replacement"
      ]
    },
    {
      "cell_type": "code",
      "execution_count": null,
      "metadata": {
        "id": "P_6U3JSltstC",
        "outputId": "7f94257e-a6a0-4dda-f753-74247d35b511"
      },
      "outputs": [
        {
          "name": "stdout",
          "output_type": "stream",
          "text": [
            "Current k: 1 \tnumber of un-anonym. documents: 944 \tnumber of all documents: 946\n"
          ]
        }
      ],
      "source": [
        "curr_k, non_anon_indexes = anonym_utils.get_anonym_degree(docs=df_2['anon_txt'])\n",
        "print('Current k:', curr_k, '\\tnumber of un-anonym. documents:', len(non_anon_indexes), '\\tnumber of all documents:', len(df_2['anon_txt']))"
      ]
    },
    {
      "cell_type": "markdown",
      "metadata": {
        "id": "3EbJgo1HtstC"
      },
      "source": [
        "### Steps:\n",
        "1. Finding k nearest neighbors using approximate nearest neighbors\n",
        "2. Finding the different words between the neighbors\n",
        "2. Replacing the different words with *"
      ]
    },
    {
      "cell_type": "code",
      "execution_count": null,
      "metadata": {
        "id": "-Yy5SqfbtstC",
        "outputId": "90b936c1-c8c7-47bc-c5c8-a5e6f56db116"
      },
      "outputs": [
        {
          "data": {
            "text/plain": [
              "['I love *', 'I love *']"
            ]
          },
          "execution_count": 41,
          "metadata": {},
          "output_type": "execute_result"
        }
      ],
      "source": [
        "anonym_utils.delete_uncommon_words(['I love choco', 'I love banana'])\n"
      ]
    },
    {
      "cell_type": "code",
      "execution_count": null,
      "metadata": {
        "id": "M4gfXcATtstC",
        "outputId": "212e38f6-a862-4f4b-edf7-80dc0083015b"
      },
      "outputs": [
        {
          "name": "stdout",
          "output_type": "stream",
          "text": [
            "Start: get_anonym_degree: 1\n",
            "similar_doc_ind [0, 1]\n",
            "Breaking after moving over 2 of all 3 indexes.\n",
            "unused_indexes: [2]\n",
            "End: get_anonym_degree: 1\n"
          ]
        },
        {
          "data": {
            "text/plain": [
              "['I love *', 'I love *', '*']"
            ]
          },
          "execution_count": 42,
          "metadata": {},
          "output_type": "execute_result"
        }
      ],
      "source": [
        "anonym_utils.force_anonym_using_annoy(['I love choco', 'I love banana', 'lalala'], k=2)"
      ]
    },
    {
      "cell_type": "code",
      "execution_count": null,
      "metadata": {
        "id": "ZJjJnqgEtstD",
        "outputId": "c7446792-aeea-47db-d588-ddb1450176a7"
      },
      "outputs": [
        {
          "name": "stdout",
          "output_type": "stream",
          "text": [
            "Start: get_anonym_degree: 1\n",
            "similar_doc_ind [0, 298]\n",
            "similar_doc_ind [1, 265]\n",
            "similar_doc_ind [2, 754]\n",
            "similar_doc_ind [3, 246]\n",
            "similar_doc_ind [4, 534]\n",
            "similar_doc_ind [5, 876]\n",
            "similar_doc_ind [6, 228]\n",
            "similar_doc_ind [7, 424]\n",
            "similar_doc_ind [8, 220]\n",
            "similar_doc_ind [9, 771]\n",
            "similar_doc_ind [10, 12]\n",
            "similar_doc_ind [11, 369]\n",
            "similar_doc_ind [13, 384]\n",
            "similar_doc_ind [14, 158]\n",
            "similar_doc_ind [15, 314]\n",
            "similar_doc_ind [16, 231]\n",
            "similar_doc_ind [17, 374]\n",
            "similar_doc_ind [18, 385]\n",
            "similar_doc_ind [19, 370]\n",
            "similar_doc_ind [20, 213]\n",
            "similar_doc_ind [21, 355]\n",
            "similar_doc_ind [22, 581]\n",
            "similar_doc_ind [23, 784]\n",
            "similar_doc_ind [24, 728]\n",
            "similar_doc_ind [25, 372]\n",
            "similar_doc_ind [26, 140]\n",
            "similar_doc_ind [27, 653]\n",
            "similar_doc_ind [28, 143]\n",
            "similar_doc_ind [29, 77]\n",
            "similar_doc_ind [30, 516]\n",
            "similar_doc_ind [31, 159]\n",
            "similar_doc_ind [32, 34]\n",
            "similar_doc_ind [33, 436]\n",
            "similar_doc_ind [35, 40]\n",
            "similar_doc_ind [36, 615]\n",
            "similar_doc_ind [37, 590]\n",
            "similar_doc_ind [38, 501]\n",
            "similar_doc_ind [39, 287]\n",
            "similar_doc_ind [41, 196]\n",
            "similar_doc_ind [42, 236]\n",
            "similar_doc_ind [43, 84]\n",
            "similar_doc_ind [44, 161]\n",
            "similar_doc_ind [45, 284]\n",
            "similar_doc_ind [46, 138]\n",
            "similar_doc_ind [47, 354]\n",
            "similar_doc_ind [48, 269]\n",
            "similar_doc_ind [49, 509]\n",
            "similar_doc_ind [50, 248]\n",
            "similar_doc_ind [51, 94]\n",
            "similar_doc_ind [52, 792]\n",
            "similar_doc_ind [53, 388]\n",
            "similar_doc_ind [54, 154]\n",
            "similar_doc_ind [55, 801]\n",
            "similar_doc_ind [56, 571]\n",
            "similar_doc_ind [57, 685]\n",
            "similar_doc_ind [58, 539]\n",
            "similar_doc_ind [59, 776]\n",
            "similar_doc_ind [60, 667]\n",
            "similar_doc_ind [61, 898]\n",
            "similar_doc_ind [62, 498]\n",
            "similar_doc_ind [63, 185]\n",
            "similar_doc_ind [64, 924]\n",
            "similar_doc_ind [65, 83]\n",
            "similar_doc_ind [66, 646]\n",
            "similar_doc_ind [67, 192]\n",
            "similar_doc_ind [68, 219]\n",
            "similar_doc_ind [69, 194]\n",
            "similar_doc_ind [70, 303]\n",
            "similar_doc_ind [71, 74]\n",
            "similar_doc_ind [72, 557]\n",
            "similar_doc_ind [73, 243]\n",
            "similar_doc_ind [75, 439]\n",
            "similar_doc_ind [76, 203]\n",
            "similar_doc_ind [78, 555]\n",
            "similar_doc_ind [79, 645]\n",
            "similar_doc_ind [80, 888]\n",
            "similar_doc_ind [81, 190]\n",
            "similar_doc_ind [82, 855]\n",
            "similar_doc_ind [85, 227]\n",
            "similar_doc_ind [86, 895]\n",
            "similar_doc_ind [87, 515]\n",
            "similar_doc_ind [88, 576]\n",
            "similar_doc_ind [89, 268]\n",
            "similar_doc_ind [90, 98]\n",
            "similar_doc_ind [91, 429]\n",
            "similar_doc_ind [92, 244]\n",
            "similar_doc_ind [93, 930]\n",
            "similar_doc_ind [95, 151]\n",
            "similar_doc_ind [96, 400]\n",
            "similar_doc_ind [97, 207]\n",
            "similar_doc_ind [99, 391]\n",
            "similar_doc_ind [100, 403]\n",
            "similar_doc_ind [101, 320]\n",
            "similar_doc_ind [102, 311]\n",
            "similar_doc_ind [103, 115]\n",
            "similar_doc_ind [104, 907]\n",
            "similar_doc_ind [105, 425]\n",
            "similar_doc_ind [106, 755]\n",
            "similar_doc_ind [107, 266]\n",
            "similar_doc_ind [108, 395]\n",
            "similar_doc_ind [109, 730]\n",
            "similar_doc_ind [110, 165]\n",
            "similar_doc_ind [111, 417]\n",
            "similar_doc_ind [112, 525]\n",
            "similar_doc_ind [113, 839]\n",
            "similar_doc_ind [114, 441]\n",
            "similar_doc_ind [116, 184]\n",
            "similar_doc_ind [117, 218]\n",
            "similar_doc_ind [118, 183]\n",
            "similar_doc_ind [119, 318]\n",
            "similar_doc_ind [120, 136]\n",
            "similar_doc_ind [121, 817]\n",
            "similar_doc_ind [122, 532]\n",
            "similar_doc_ind [123, 150]\n",
            "similar_doc_ind [124, 393]\n",
            "similar_doc_ind [125, 640]\n",
            "similar_doc_ind [126, 703]\n",
            "similar_doc_ind [127, 302]\n",
            "similar_doc_ind [128, 193]\n",
            "similar_doc_ind [129, 214]\n",
            "similar_doc_ind [130, 861]\n",
            "similar_doc_ind [131, 132]\n",
            "similar_doc_ind [133, 702]\n",
            "similar_doc_ind [134, 698]\n",
            "similar_doc_ind [135, 697]\n",
            "similar_doc_ind [137, 908]\n",
            "similar_doc_ind [139, 402]\n",
            "similar_doc_ind [141, 274]\n",
            "similar_doc_ind [142, 191]\n",
            "similar_doc_ind [144, 174]\n",
            "similar_doc_ind [145, 255]\n",
            "similar_doc_ind [146, 254]\n",
            "similar_doc_ind [147, 363]\n",
            "similar_doc_ind [148, 474]\n",
            "similar_doc_ind [149, 478]\n",
            "similar_doc_ind [152, 153]\n",
            "similar_doc_ind [155, 433]\n",
            "similar_doc_ind [156, 736]\n",
            "similar_doc_ind [157, 738]\n",
            "similar_doc_ind [160, 252]\n",
            "similar_doc_ind [162, 257]\n",
            "similar_doc_ind [163, 459]\n",
            "similar_doc_ind [164, 808]\n",
            "similar_doc_ind [166, 880]\n",
            "similar_doc_ind [167, 860]\n",
            "similar_doc_ind [168, 782]\n",
            "similar_doc_ind [169, 612]\n",
            "similar_doc_ind [170, 378]\n",
            "similar_doc_ind [171, 204]\n",
            "similar_doc_ind [172, 816]\n",
            "similar_doc_ind [173, 587]\n",
            "similar_doc_ind [175, 347]\n",
            "similar_doc_ind [176, 241]\n",
            "similar_doc_ind [177, 599]\n",
            "similar_doc_ind [178, 625]\n",
            "similar_doc_ind [179, 879]\n",
            "similar_doc_ind [180, 396]\n",
            "similar_doc_ind [181, 416]\n",
            "similar_doc_ind [182, 264]\n",
            "similar_doc_ind [186, 671]\n",
            "similar_doc_ind [187, 554]\n",
            "similar_doc_ind [188, 722]\n",
            "similar_doc_ind [189, 659]\n",
            "similar_doc_ind [195, 337]\n",
            "similar_doc_ind [197, 829]\n",
            "similar_doc_ind [198, 449]\n",
            "similar_doc_ind [199, 931]\n",
            "similar_doc_ind [200, 211]\n",
            "similar_doc_ind [201, 331]\n",
            "similar_doc_ind [202, 313]\n",
            "similar_doc_ind [205, 249]\n",
            "similar_doc_ind [206, 352]\n",
            "similar_doc_ind [208, 304]\n",
            "similar_doc_ind [209, 253]\n",
            "similar_doc_ind [210, 578]\n",
            "similar_doc_ind [212, 239]\n",
            "similar_doc_ind [215, 277]\n",
            "similar_doc_ind [216, 682]\n",
            "similar_doc_ind [217, 766]\n",
            "similar_doc_ind [221, 604]\n",
            "similar_doc_ind [222, 825]\n",
            "similar_doc_ind [223, 819]\n",
            "similar_doc_ind [224, 413]\n",
            "similar_doc_ind [225, 626]\n",
            "similar_doc_ind [226, 629]\n",
            "similar_doc_ind [229, 230]\n",
            "similar_doc_ind [232, 715]\n",
            "similar_doc_ind [233, 333]\n",
            "similar_doc_ind [234, 408]\n",
            "similar_doc_ind [235, 276]\n",
            "similar_doc_ind [237, 779]\n",
            "similar_doc_ind [238, 329]\n",
            "similar_doc_ind [240, 316]\n",
            "similar_doc_ind [242, 364]\n",
            "similar_doc_ind [245, 346]\n",
            "similar_doc_ind [247, 334]\n",
            "similar_doc_ind [250, 877]\n",
            "similar_doc_ind [251, 595]\n",
            "similar_doc_ind [256, 462]\n",
            "similar_doc_ind [258, 379]\n",
            "similar_doc_ind [259, 639]\n",
            "similar_doc_ind [260, 812]\n",
            "similar_doc_ind [261, 710]\n",
            "similar_doc_ind [262, 660]\n",
            "similar_doc_ind [263, 398]\n",
            "similar_doc_ind [267, 622]\n",
            "similar_doc_ind [270, 271]\n",
            "similar_doc_ind [272, 708]\n",
            "similar_doc_ind [273, 411]\n",
            "similar_doc_ind [275, 368]\n",
            "similar_doc_ind [278, 672]\n",
            "similar_doc_ind [279, 650]\n",
            "similar_doc_ind [280, 886]\n",
            "similar_doc_ind [281, 883]\n",
            "similar_doc_ind [282, 324]\n",
            "similar_doc_ind [283, 448]\n",
            "similar_doc_ind [285, 568]\n",
            "similar_doc_ind [286, 847]\n",
            "similar_doc_ind [288, 764]\n",
            "similar_doc_ind [289, 375]\n",
            "similar_doc_ind [290, 414]\n",
            "similar_doc_ind [291, 438]\n",
            "similar_doc_ind [292, 431]\n",
            "similar_doc_ind [293, 600]\n",
            "similar_doc_ind [294, 297]\n",
            "similar_doc_ind [295, 467]\n",
            "similar_doc_ind [296, 741]\n",
            "similar_doc_ind [299, 445]\n",
            "similar_doc_ind [300, 938]\n",
            "similar_doc_ind [301, 529]\n",
            "similar_doc_ind [305, 837]\n",
            "similar_doc_ind [306, 319]\n",
            "similar_doc_ind [307, 585]\n",
            "similar_doc_ind [308, 749]\n",
            "similar_doc_ind [309, 933]\n",
            "similar_doc_ind [310, 637]\n",
            "similar_doc_ind [312, 361]\n",
            "similar_doc_ind [315, 665]\n",
            "similar_doc_ind [317, 356]\n",
            "similar_doc_ind [321, 654]\n",
            "similar_doc_ind [322, 406]\n",
            "similar_doc_ind [323, 828]\n",
            "similar_doc_ind [325, 928]\n",
            "similar_doc_ind [326, 418]\n",
            "similar_doc_ind [327, 502]\n",
            "similar_doc_ind [328, 432]\n",
            "similar_doc_ind [330, 442]\n",
            "similar_doc_ind [332, 681]\n",
            "similar_doc_ind [335, 527]\n",
            "similar_doc_ind [336, 357]\n",
            "similar_doc_ind [338, 773]\n",
            "similar_doc_ind [339, 594]\n",
            "similar_doc_ind [340, 690]\n",
            "similar_doc_ind [341, 717]\n",
            "similar_doc_ind [342, 495]\n",
            "similar_doc_ind [343, 491]\n",
            "similar_doc_ind [344, 815]\n",
            "similar_doc_ind [345, 679]\n",
            "similar_doc_ind [348, 536]\n",
            "similar_doc_ind [349, 553]\n",
            "similar_doc_ind [350, 377]\n",
            "similar_doc_ind [351, 897]\n",
            "similar_doc_ind [353, 592]\n",
            "similar_doc_ind [358, 422]\n",
            "similar_doc_ind [359, 360]\n",
            "similar_doc_ind [362, 875]\n",
            "similar_doc_ind [365, 542]\n",
            "similar_doc_ind [366, 862]\n",
            "similar_doc_ind [367, 811]\n",
            "similar_doc_ind [371, 896]\n",
            "similar_doc_ind [373, 868]\n",
            "similar_doc_ind [376, 421]\n",
            "similar_doc_ind [380, 870]\n",
            "similar_doc_ind [381, 382]\n",
            "similar_doc_ind [383, 611]\n",
            "similar_doc_ind [386, 937]\n",
            "similar_doc_ind [387, 664]\n",
            "similar_doc_ind [389, 740]\n",
            "similar_doc_ind [390, 437]\n",
            "similar_doc_ind [392, 762]\n",
            "similar_doc_ind [394, 602]\n",
            "similar_doc_ind [397, 689]\n",
            "similar_doc_ind [399, 489]\n",
            "similar_doc_ind [401, 867]\n",
            "similar_doc_ind [404, 564]\n",
            "similar_doc_ind [405, 891]\n",
            "similar_doc_ind [407, 480]\n",
            "similar_doc_ind [409, 589]\n",
            "similar_doc_ind [410, 451]\n",
            "similar_doc_ind [412, 641]\n",
            "similar_doc_ind [415, 606]\n",
            "similar_doc_ind [419, 488]\n",
            "similar_doc_ind [420, 753]\n",
            "similar_doc_ind [423, 457]\n",
            "similar_doc_ind [426, 447]\n",
            "similar_doc_ind [427, 597]\n",
            "similar_doc_ind [428, 572]\n",
            "similar_doc_ind [430, 476]\n",
            "similar_doc_ind [434, 508]\n",
            "similar_doc_ind [435, 668]\n",
            "similar_doc_ind [440, 850]\n",
            "similar_doc_ind [443, 854]\n",
            "similar_doc_ind [444, 466]\n",
            "similar_doc_ind [446, 911]\n",
            "similar_doc_ind [450, 652]\n",
            "similar_doc_ind [452, 619]\n",
            "similar_doc_ind [453, 632]\n",
            "similar_doc_ind [454, 841]\n",
            "similar_doc_ind [455, 620]\n",
            "similar_doc_ind [456, 807]\n",
            "similar_doc_ind [458, 623]\n",
            "similar_doc_ind [460, 887]\n",
            "similar_doc_ind [461, 506]\n",
            "similar_doc_ind [463, 739]\n",
            "similar_doc_ind [464, 535]\n",
            "similar_doc_ind [465, 470]\n",
            "similar_doc_ind [468, 680]\n",
            "similar_doc_ind [469, 772]\n",
            "similar_doc_ind [471, 593]\n",
            "similar_doc_ind [472, 475]\n",
            "similar_doc_ind [473, 523]\n",
            "similar_doc_ind [477, 725]\n",
            "similar_doc_ind [479, 573]\n",
            "similar_doc_ind [481, 583]\n",
            "similar_doc_ind [482, 575]\n",
            "similar_doc_ind [483, 618]\n",
            "similar_doc_ind [484, 582]\n",
            "similar_doc_ind [485, 729]\n",
            "similar_doc_ind [486, 830]\n",
            "similar_doc_ind [487, 790]\n",
            "similar_doc_ind [490, 791]\n",
            "similar_doc_ind [492, 607]\n",
            "similar_doc_ind [493, 760]\n",
            "similar_doc_ind [494, 510]\n",
            "similar_doc_ind [496, 533]\n",
            "similar_doc_ind [497, 866]\n",
            "similar_doc_ind [499, 932]\n",
            "similar_doc_ind [500, 548]\n",
            "similar_doc_ind [503, 649]\n",
            "similar_doc_ind [504, 842]\n",
            "similar_doc_ind [505, 550]\n",
            "similar_doc_ind [507, 795]\n",
            "similar_doc_ind [511, 656]\n",
            "similar_doc_ind [512, 713]\n",
            "similar_doc_ind [513, 810]\n",
            "similar_doc_ind [514, 628]\n",
            "similar_doc_ind [517, 635]\n",
            "similar_doc_ind [518, 737]\n",
            "similar_doc_ind [519, 648]\n",
            "similar_doc_ind [520, 726]\n",
            "similar_doc_ind [521, 865]\n",
            "similar_doc_ind [522, 834]\n",
            "similar_doc_ind [524, 673]\n",
            "similar_doc_ind [526, 647]\n",
            "similar_doc_ind [528, 864]\n",
            "similar_doc_ind [530, 780]\n",
            "similar_doc_ind [531, 601]\n",
            "similar_doc_ind [537, 840]\n",
            "similar_doc_ind [538, 871]\n",
            "similar_doc_ind [540, 756]\n",
            "similar_doc_ind [541, 676]\n",
            "similar_doc_ind [543, 691]\n",
            "similar_doc_ind [544, 633]\n",
            "similar_doc_ind [545, 758]\n",
            "similar_doc_ind [546, 707]\n",
            "similar_doc_ind [547, 644]\n",
            "similar_doc_ind [549, 863]\n",
            "similar_doc_ind [551, 569]\n",
            "similar_doc_ind [552, 574]\n",
            "similar_doc_ind [556, 591]\n",
            "similar_doc_ind [558, 922]\n",
            "similar_doc_ind [559, 630]\n",
            "similar_doc_ind [560, 889]\n",
            "similar_doc_ind [561, 767]\n",
            "similar_doc_ind [562, 820]\n",
            "similar_doc_ind [563, 893]\n",
            "similar_doc_ind [565, 670]\n",
            "similar_doc_ind [566, 789]\n",
            "similar_doc_ind [567, 613]\n",
            "similar_doc_ind [570, 919]\n",
            "similar_doc_ind [577, 614]\n",
            "similar_doc_ind [579, 742]\n",
            "similar_doc_ind [580, 936]\n",
            "similar_doc_ind [584, 925]\n",
            "similar_doc_ind [586, 909]\n",
            "similar_doc_ind [588, 761]\n",
            "similar_doc_ind [596, 699]\n",
            "similar_doc_ind [598, 882]\n",
            "similar_doc_ind [603, 605]\n",
            "similar_doc_ind [608, 759]\n",
            "similar_doc_ind [609, 827]\n",
            "similar_doc_ind [610, 785]\n",
            "similar_doc_ind [616, 768]\n",
            "similar_doc_ind [617, 885]\n",
            "similar_doc_ind [621, 890]\n",
            "similar_doc_ind [624, 662]\n",
            "similar_doc_ind [627, 727]\n",
            "similar_doc_ind [631, 901]\n",
            "similar_doc_ind [634, 858]\n",
            "similar_doc_ind [636, 844]\n",
            "similar_doc_ind [638, 750]\n",
            "similar_doc_ind [642, 724]\n",
            "similar_doc_ind [643, 800]\n",
            "similar_doc_ind [651, 814]\n",
            "similar_doc_ind [655, 813]\n",
            "similar_doc_ind [657, 941]\n",
            "similar_doc_ind [658, 904]\n",
            "similar_doc_ind [661, 836]\n",
            "similar_doc_ind [663, 939]\n",
            "similar_doc_ind [666, 806]\n",
            "similar_doc_ind [669, 809]\n",
            "similar_doc_ind [674, 915]\n",
            "similar_doc_ind [675, 695]\n",
            "similar_doc_ind [677, 687]\n",
            "similar_doc_ind [678, 743]\n",
            "similar_doc_ind [683, 788]\n",
            "similar_doc_ind [684, 918]\n",
            "similar_doc_ind [686, 783]\n",
            "similar_doc_ind [688, 903]\n",
            "similar_doc_ind [692, 923]\n",
            "similar_doc_ind [693, 705]\n",
            "similar_doc_ind [694, 823]\n",
            "similar_doc_ind [696, 940]\n",
            "similar_doc_ind [700, 744]\n",
            "similar_doc_ind [701, 934]\n",
            "similar_doc_ind [704, 914]\n",
            "similar_doc_ind [706, 802]\n",
            "similar_doc_ind [709, 906]\n",
            "similar_doc_ind [711, 714]\n",
            "similar_doc_ind [712, 843]\n",
            "similar_doc_ind [716, 803]\n",
            "similar_doc_ind [718, 832]\n",
            "similar_doc_ind [719, 822]\n",
            "similar_doc_ind [720, 793]\n",
            "similar_doc_ind [721, 852]\n",
            "similar_doc_ind [723, 944]\n",
            "similar_doc_ind [731, 805]\n",
            "similar_doc_ind [732, 733]\n",
            "similar_doc_ind [734, 851]\n",
            "similar_doc_ind [735, 752]\n",
            "similar_doc_ind [745, 799]\n",
            "similar_doc_ind [746, 787]\n",
            "similar_doc_ind [747, 835]\n",
            "similar_doc_ind [748, 821]\n",
            "similar_doc_ind [751, 831]\n",
            "similar_doc_ind [757, 905]\n",
            "similar_doc_ind [763, 778]\n",
            "similar_doc_ind [765, 920]\n",
            "similar_doc_ind [769, 774]\n",
            "similar_doc_ind [770, 797]\n",
            "similar_doc_ind [775, 845]\n",
            "similar_doc_ind [777, 818]\n",
            "similar_doc_ind [781, 833]\n",
            "similar_doc_ind [786, 894]\n",
            "similar_doc_ind [794, 929]\n",
            "similar_doc_ind [796, 913]\n",
            "similar_doc_ind [798, 849]\n",
            "similar_doc_ind [804, 856]\n",
            "similar_doc_ind [824, 874]\n",
            "similar_doc_ind [826, 869]\n",
            "similar_doc_ind [838, 942]\n",
            "similar_doc_ind [846, 935]\n",
            "similar_doc_ind [848, 878]\n",
            "similar_doc_ind [853, 943]\n",
            "similar_doc_ind [857, 859]\n",
            "similar_doc_ind [872, 910]\n",
            "similar_doc_ind [873, 917]\n",
            "similar_doc_ind [881, 884]\n",
            "similar_doc_ind [892, 900]\n",
            "similar_doc_ind [899, 902]\n",
            "similar_doc_ind [912, 916]\n",
            "similar_doc_ind [921, 926]\n",
            "similar_doc_ind [927, 945]\n",
            "Breaking after moving over 946 of all 946 indexes.\n",
            "unused_indexes: []\n",
            "End: get_anonym_degree: 1\n"
          ]
        },
        {
          "data": {
            "text/plain": [
              "(1, [[705], [693], [916], [134], [698], [133], [702]])"
            ]
          },
          "execution_count": 89,
          "metadata": {},
          "output_type": "execute_result"
        }
      ],
      "source": [
        "force_anon_txt_annoy, neighbor_list = anonym_utils.force_anonym_using_annoy(df_2['anon_txt'], k=2)\n",
        "anonym_utils.get_anonym_degree(force_anon_txt_annoy)"
      ]
    },
    {
      "cell_type": "code",
      "execution_count": null,
      "metadata": {
        "id": "U7DJJ_YntstD",
        "outputId": "9bac0034-fd6c-4a3b-e359-f7849220af5e"
      },
      "outputs": [
        {
          "name": "stdout",
          "output_type": "stream",
          "text": [
            "Current k: 1 \tnumber of un-anonym. documents: 7 \tnumber of all documents: 946\n"
          ]
        }
      ],
      "source": [
        "curr_k, non_anon_indexes = anonym_utils.get_anonym_degree(force_anon_txt_annoy)\n",
        "print('Current k:', curr_k, '\\tnumber of un-anonym. documents:', len(non_anon_indexes), '\\tnumber of all documents:', len(df_2['txt']))"
      ]
    },
    {
      "cell_type": "code",
      "execution_count": null,
      "metadata": {
        "id": "n1SAhMD2tstD"
      },
      "outputs": [],
      "source": [
        "df_2['force_anon_txt'] = force_anon_txt_annoy\n",
        "df_2 = anonym_utils.add_neighbor_list_to_df(df_2, neighbor_list)\n",
        "# Counting the number of words and *\n",
        "df_2['num_of_words_after_forcing'] = df_2['force_anon_txt'].apply(lambda x: len(re.findall(r'\\w+', x)))\n",
        "df_2['num_of_deleting_after_forcing'] = df_2['force_anon_txt'].apply(lambda x: len(re.findall(r'\\*', x)))\n"
      ]
    },
    {
      "cell_type": "code",
      "execution_count": null,
      "metadata": {
        "id": "hK-qcyvTtstE",
        "outputId": "a9c9195b-c4ef-48ee-a949-c1416c322759"
      },
      "outputs": [
        {
          "data": {
            "image/png": "[encoded data removed]",
            "text/plain": [
              "<Figure size 640x480 with 1 Axes>"
            ]
          },
          "metadata": {},
          "output_type": "display_data"
        }
      ],
      "source": [
        "y = np.array([df_2['num_of_words_after_forcing'].sum(), df_2['num_of_deleting_after_forcing'].sum()])\n",
        "mylabels = ['words kept', 'words masked']\n",
        "\n",
        "plt.pie(y, labels = mylabels)\n",
        "plt.title('Words in dataset')\n",
        "plt.show()"
      ]
    },
    {
      "cell_type": "code",
      "execution_count": null,
      "metadata": {
        "id": "5atVy4jhtstF",
        "outputId": "3d43a305-625a-477c-cfd3-129108c1d173"
      },
      "outputs": [
        {
          "data": {
            "image/png": "[encoded data removed]",
            "text/plain": [
              "<Figure size 640x480 with 1 Axes>"
            ]
          },
          "metadata": {},
          "output_type": "display_data"
        }
      ],
      "source": [
        "y = np.array([df_2['num_protected'].sum(), df_2['num_of_deleting_after_forcing'].sum(), (df_2['num_of_words_after_forcing'] - df_2['num_protected']).sum()])\n",
        "mylabels = ['protected', 'masked', 'no change']\n",
        "\n",
        "plt.pie(y, labels = mylabels)\n",
        "plt.title('Words in dataset')\n",
        "plt.show()"
      ]
    },
    {
      "cell_type": "code",
      "execution_count": null,
      "metadata": {
        "id": "v_R8s0UUtstF",
        "outputId": "b0b9f737-4e11-4ff4-fa72-504874ca4a8e"
      },
      "outputs": [
        {
          "name": "stdout",
          "output_type": "stream",
          "text": [
            "just awful: this was possibly the worst book i have ever read. i am amazed by the number of fans for this kind of rubbish.\n",
            "(just) [worse] (this) (was) possibly (the) {bad} book (i) (have) ever read. (i) (am) {amaze} (by) (the) number (of) {fan} (for) (this) kind (of) rubbish. \n",
            "just * : this was * the bad book i have ever read . i am * by the * of * for this * of * .\n"
          ]
        }
      ],
      "source": [
        "i = 1\n",
        "print(df_2['txt'][i])\n",
        "print(df_2['anon_txt_history'][i])\n",
        "print(df_2['force_anon_txt'][i])"
      ]
    },
    {
      "cell_type": "markdown",
      "metadata": {
        "id": "J6cL1IMPtstG"
      },
      "source": [
        "## 5) Utilization tests"
      ]
    },
    {
      "cell_type": "code",
      "execution_count": null,
      "metadata": {
        "id": "5lHd-mU6tstG",
        "outputId": "2953496e-272d-4c56-e9e5-bb51461ff58c"
      },
      "outputs": [
        {
          "data": {
            "text/html": [
              "<div>\n",
              "<style scoped>\n",
              "    .dataframe tbody tr th:only-of-type {\n",
              "        vertical-align: middle;\n",
              "    }\n",
              "\n",
              "    .dataframe tbody tr th {\n",
              "        vertical-align: top;\n",
              "    }\n",
              "\n",
              "    .dataframe thead th {\n",
              "        text-align: right;\n",
              "    }\n",
              "</style>\n",
              "<table border=\"1\" class=\"dataframe\">\n",
              "  <thead>\n",
              "    <tr style=\"text-align: right;\">\n",
              "      <th></th>\n",
              "      <th>Unnamed: 0</th>\n",
              "      <th>txt</th>\n",
              "      <th>sentiment</th>\n",
              "      <th>num_of_words</th>\n",
              "      <th>anon_txt</th>\n",
              "      <th>anon_txt_history</th>\n",
              "      <th>num_replaced</th>\n",
              "      <th>num_lemmatized</th>\n",
              "      <th>num_protected</th>\n",
              "      <th>num_no_change</th>\n",
              "      <th>force_anon_txt</th>\n",
              "      <th>num_of_words_after_forcing</th>\n",
              "      <th>num_of_deleting_after_forcing</th>\n",
              "      <th>txt_vader_sentiment_pred</th>\n",
              "      <th>anon_txt_vader_sentiment_pred</th>\n",
              "      <th>force_anon_txt_vader_sentiment_pred</th>\n",
              "    </tr>\n",
              "  </thead>\n",
              "  <tbody>\n",
              "    <tr>\n",
              "      <th>0</th>\n",
              "      <td>99</td>\n",
              "      <td>caution!: these tracks are not the \"original\" ...</td>\n",
              "      <td>0</td>\n",
              "      <td>22</td>\n",
              "      <td>caution ! : these track are not the \" original...</td>\n",
              "      <td>caution!: (these) {track} (are) (not) (the) \"o...</td>\n",
              "      <td>0</td>\n",
              "      <td>6</td>\n",
              "      <td>11</td>\n",
              "      <td>5</td>\n",
              "      <td>* ! : these * are not the \" original \" version...</td>\n",
              "      <td>17</td>\n",
              "      <td>6</td>\n",
              "      <td>0.0000</td>\n",
              "      <td>-0.1957</td>\n",
              "      <td>-0.1957</td>\n",
              "    </tr>\n",
              "    <tr>\n",
              "      <th>1</th>\n",
              "      <td>461</td>\n",
              "      <td>just awful: this was possibly the worst book i...</td>\n",
              "      <td>0</td>\n",
              "      <td>25</td>\n",
              "      <td>just worse : this was possibly the bad book i ...</td>\n",
              "      <td>(just) [worse] (this) (was) possibly (the) {ba...</td>\n",
              "      <td>1</td>\n",
              "      <td>3</td>\n",
              "      <td>14</td>\n",
              "      <td>7</td>\n",
              "      <td>just * : this was * the bad book i have ever r...</td>\n",
              "      <td>18</td>\n",
              "      <td>7</td>\n",
              "      <td>-0.5574</td>\n",
              "      <td>-0.2023</td>\n",
              "      <td>-0.5423</td>\n",
              "    </tr>\n",
              "    <tr>\n",
              "      <th>2</th>\n",
              "      <td>493</td>\n",
              "      <td>no lessons learned: this is one of the most di...</td>\n",
              "      <td>0</td>\n",
              "      <td>23</td>\n",
              "      <td>no lesson speak : this is one of the most pred...</td>\n",
              "      <td>(no) {lesson} {learn} (this) (is) one (of) (th...</td>\n",
              "      <td>2</td>\n",
              "      <td>4</td>\n",
              "      <td>10</td>\n",
              "      <td>7</td>\n",
              "      <td>no lesson * : this is one of * most * * i have...</td>\n",
              "      <td>13</td>\n",
              "      <td>11</td>\n",
              "      <td>-0.5563</td>\n",
              "      <td>-0.0258</td>\n",
              "      <td>-0.2960</td>\n",
              "    </tr>\n",
              "    <tr>\n",
              "      <th>3</th>\n",
              "      <td>578</td>\n",
              "      <td>squeem: i ordered according to the size chart ...</td>\n",
              "      <td>0</td>\n",
              "      <td>21</td>\n",
              "      <td>squeem : i order accord to the size chart for ...</td>\n",
              "      <td>squeem: (i) {order} {accord} (to) (the) size c...</td>\n",
              "      <td>0</td>\n",
              "      <td>4</td>\n",
              "      <td>10</td>\n",
              "      <td>7</td>\n",
              "      <td>* : i order * to the size * for my * and it wa...</td>\n",
              "      <td>16</td>\n",
              "      <td>6</td>\n",
              "      <td>0.0000</td>\n",
              "      <td>0.0000</td>\n",
              "      <td>0.0000</td>\n",
              "    </tr>\n",
              "    <tr>\n",
              "      <th>4</th>\n",
              "      <td>595</td>\n",
              "      <td>pass: the sizes run really small, it flips up ...</td>\n",
              "      <td>0</td>\n",
              "      <td>25</td>\n",
              "      <td>pass : the size run really small , it bag up e...</td>\n",
              "      <td>pass: (the) {size} run really small, (it) {fli...</td>\n",
              "      <td>0</td>\n",
              "      <td>5</td>\n",
              "      <td>11</td>\n",
              "      <td>9</td>\n",
              "      <td>* : the size * * * , it bag up * * , they * it...</td>\n",
              "      <td>16</td>\n",
              "      <td>10</td>\n",
              "      <td>0.0000</td>\n",
              "      <td>0.0000</td>\n",
              "      <td>0.0000</td>\n",
              "    </tr>\n",
              "    <tr>\n",
              "      <th>...</th>\n",
              "      <td>...</td>\n",
              "      <td>...</td>\n",
              "      <td>...</td>\n",
              "      <td>...</td>\n",
              "      <td>...</td>\n",
              "      <td>...</td>\n",
              "      <td>...</td>\n",
              "      <td>...</td>\n",
              "      <td>...</td>\n",
              "      <td>...</td>\n",
              "      <td>...</td>\n",
              "      <td>...</td>\n",
              "      <td>...</td>\n",
              "      <td>...</td>\n",
              "      <td>...</td>\n",
              "      <td>...</td>\n",
              "    </tr>\n",
              "    <tr>\n",
              "      <th>941</th>\n",
              "      <td>20710</td>\n",
              "      <td>excellent: prompt delivery. correct parts. you...</td>\n",
              "      <td>1</td>\n",
              "      <td>24</td>\n",
              "      <td>excellent : prompt delivery . correct secret ....</td>\n",
              "      <td>excellent: prompt delivery. correct {part} (yo...</td>\n",
              "      <td>1</td>\n",
              "      <td>5</td>\n",
              "      <td>9</td>\n",
              "      <td>9</td>\n",
              "      <td>excellent : * * . * * . you can not do * with ...</td>\n",
              "      <td>15</td>\n",
              "      <td>10</td>\n",
              "      <td>0.8622</td>\n",
              "      <td>0.8313</td>\n",
              "      <td>0.7712</td>\n",
              "    </tr>\n",
              "    <tr>\n",
              "      <th>942</th>\n",
              "      <td>20711</td>\n",
              "      <td>purchased minn kota mkp 3 prop from amazon.com...</td>\n",
              "      <td>1</td>\n",
              "      <td>25</td>\n",
              "      <td>purchase minn kota mkp 3 prop from amazon.com ...</td>\n",
              "      <td>{purchase} minn kota mkp 3 prop (from) amazon....</td>\n",
              "      <td>0</td>\n",
              "      <td>4</td>\n",
              "      <td>11</td>\n",
              "      <td>10</td>\n",
              "      <td>* * * * 3 * from *.* . : the * was * what i * ...</td>\n",
              "      <td>14</td>\n",
              "      <td>12</td>\n",
              "      <td>0.0000</td>\n",
              "      <td>0.0000</td>\n",
              "      <td>0.0000</td>\n",
              "    </tr>\n",
              "    <tr>\n",
              "      <th>943</th>\n",
              "      <td>20738</td>\n",
              "      <td>plantronics bluetooth 665 charger: this charge...</td>\n",
              "      <td>1</td>\n",
              "      <td>28</td>\n",
              "      <td>plantronic bluetooth 665 charger : this charge...</td>\n",
              "      <td>{plantronic} bluetooth 665 charger: (this) cha...</td>\n",
              "      <td>0</td>\n",
              "      <td>2</td>\n",
              "      <td>13</td>\n",
              "      <td>13</td>\n",
              "      <td>* * * * : this * is great for * when you do no...</td>\n",
              "      <td>19</td>\n",
              "      <td>10</td>\n",
              "      <td>0.7841</td>\n",
              "      <td>0.7841</td>\n",
              "      <td>0.7841</td>\n",
              "    </tr>\n",
              "    <tr>\n",
              "      <th>944</th>\n",
              "      <td>20784</td>\n",
              "      <td>video purchase: like the movie so i bought it....</td>\n",
              "      <td>1</td>\n",
              "      <td>18</td>\n",
              "      <td>video purchase : like the movie so i new it . ...</td>\n",
              "      <td>video purchase: like (the) movie (so) (i) {buy...</td>\n",
              "      <td>1</td>\n",
              "      <td>2</td>\n",
              "      <td>7</td>\n",
              "      <td>8</td>\n",
              "      <td>* purchase : * the * so i * it . * the * in gr...</td>\n",
              "      <td>10</td>\n",
              "      <td>8</td>\n",
              "      <td>0.8655</td>\n",
              "      <td>0.8655</td>\n",
              "      <td>0.6249</td>\n",
              "    </tr>\n",
              "    <tr>\n",
              "      <th>945</th>\n",
              "      <td>20790</td>\n",
              "      <td>freakin' funny!!!!!!!!!!!!!!!!!!!!!!!!: if you...</td>\n",
              "      <td>1</td>\n",
              "      <td>20</td>\n",
              "      <td>freakin ' funny ! ! ! ! ! ! ! ! ! ! ! ! ! ! ! ...</td>\n",
              "      <td>{freakin} funny!!!!!!!!!!!!!!!!!!!!!!!!: (if) ...</td>\n",
              "      <td>0</td>\n",
              "      <td>4</td>\n",
              "      <td>8</td>\n",
              "      <td>8</td>\n",
              "      <td>* ' * ! ! ! ! ! ! ! ! ! ! ! ! ! ! ! ! ! ! ! ! ...</td>\n",
              "      <td>10</td>\n",
              "      <td>11</td>\n",
              "      <td>-0.7946</td>\n",
              "      <td>-0.6876</td>\n",
              "      <td>0.0000</td>\n",
              "    </tr>\n",
              "  </tbody>\n",
              "</table>\n",
              "<p>946 rows × 16 columns</p>\n",
              "</div>"
            ],
            "text/plain": [
              "     Unnamed: 0                                                txt  sentiment   \n",
              "0            99  caution!: these tracks are not the \"original\" ...          0  \\\n",
              "1           461  just awful: this was possibly the worst book i...          0   \n",
              "2           493  no lessons learned: this is one of the most di...          0   \n",
              "3           578  squeem: i ordered according to the size chart ...          0   \n",
              "4           595  pass: the sizes run really small, it flips up ...          0   \n",
              "..          ...                                                ...        ...   \n",
              "941       20710  excellent: prompt delivery. correct parts. you...          1   \n",
              "942       20711  purchased minn kota mkp 3 prop from amazon.com...          1   \n",
              "943       20738  plantronics bluetooth 665 charger: this charge...          1   \n",
              "944       20784  video purchase: like the movie so i bought it....          1   \n",
              "945       20790  freakin' funny!!!!!!!!!!!!!!!!!!!!!!!!: if you...          1   \n",
              "\n",
              "     num_of_words                                           anon_txt   \n",
              "0              22  caution ! : these track are not the \" original...  \\\n",
              "1              25  just worse : this was possibly the bad book i ...   \n",
              "2              23  no lesson speak : this is one of the most pred...   \n",
              "3              21  squeem : i order accord to the size chart for ...   \n",
              "4              25  pass : the size run really small , it bag up e...   \n",
              "..            ...                                                ...   \n",
              "941            24  excellent : prompt delivery . correct secret ....   \n",
              "942            25  purchase minn kota mkp 3 prop from amazon.com ...   \n",
              "943            28  plantronic bluetooth 665 charger : this charge...   \n",
              "944            18  video purchase : like the movie so i new it . ...   \n",
              "945            20  freakin ' funny ! ! ! ! ! ! ! ! ! ! ! ! ! ! ! ...   \n",
              "\n",
              "                                      anon_txt_history  num_replaced   \n",
              "0    caution!: (these) {track} (are) (not) (the) \"o...             0  \\\n",
              "1    (just) [worse] (this) (was) possibly (the) {ba...             1   \n",
              "2    (no) {lesson} {learn} (this) (is) one (of) (th...             2   \n",
              "3    squeem: (i) {order} {accord} (to) (the) size c...             0   \n",
              "4    pass: (the) {size} run really small, (it) {fli...             0   \n",
              "..                                                 ...           ...   \n",
              "941  excellent: prompt delivery. correct {part} (yo...             1   \n",
              "942  {purchase} minn kota mkp 3 prop (from) amazon....             0   \n",
              "943  {plantronic} bluetooth 665 charger: (this) cha...             0   \n",
              "944  video purchase: like (the) movie (so) (i) {buy...             1   \n",
              "945  {freakin} funny!!!!!!!!!!!!!!!!!!!!!!!!: (if) ...             0   \n",
              "\n",
              "     num_lemmatized  num_protected  num_no_change   \n",
              "0                 6             11              5  \\\n",
              "1                 3             14              7   \n",
              "2                 4             10              7   \n",
              "3                 4             10              7   \n",
              "4                 5             11              9   \n",
              "..              ...            ...            ...   \n",
              "941               5              9              9   \n",
              "942               4             11             10   \n",
              "943               2             13             13   \n",
              "944               2              7              8   \n",
              "945               4              8              8   \n",
              "\n",
              "                                        force_anon_txt   \n",
              "0    * ! : these * are not the \" original \" version...  \\\n",
              "1    just * : this was * the bad book i have ever r...   \n",
              "2    no lesson * : this is one of * most * * i have...   \n",
              "3    * : i order * to the size * for my * and it wa...   \n",
              "4    * : the size * * * , it bag up * * , they * it...   \n",
              "..                                                 ...   \n",
              "941  excellent : * * . * * . you can not do * with ...   \n",
              "942  * * * * 3 * from *.* . : the * was * what i * ...   \n",
              "943  * * * * : this * is great for * when you do no...   \n",
              "944  * purchase : * the * so i * it . * the * in gr...   \n",
              "945  * ' * ! ! ! ! ! ! ! ! ! ! ! ! ! ! ! ! ! ! ! ! ...   \n",
              "\n",
              "     num_of_words_after_forcing  num_of_deleting_after_forcing   \n",
              "0                            17                              6  \\\n",
              "1                            18                              7   \n",
              "2                            13                             11   \n",
              "3                            16                              6   \n",
              "4                            16                             10   \n",
              "..                          ...                            ...   \n",
              "941                          15                             10   \n",
              "942                          14                             12   \n",
              "943                          19                             10   \n",
              "944                          10                              8   \n",
              "945                          10                             11   \n",
              "\n",
              "     txt_vader_sentiment_pred  anon_txt_vader_sentiment_pred   \n",
              "0                      0.0000                        -0.1957  \\\n",
              "1                     -0.5574                        -0.2023   \n",
              "2                     -0.5563                        -0.0258   \n",
              "3                      0.0000                         0.0000   \n",
              "4                      0.0000                         0.0000   \n",
              "..                        ...                            ...   \n",
              "941                    0.8622                         0.8313   \n",
              "942                    0.0000                         0.0000   \n",
              "943                    0.7841                         0.7841   \n",
              "944                    0.8655                         0.8655   \n",
              "945                   -0.7946                        -0.6876   \n",
              "\n",
              "     force_anon_txt_vader_sentiment_pred  \n",
              "0                                -0.1957  \n",
              "1                                -0.5423  \n",
              "2                                -0.2960  \n",
              "3                                 0.0000  \n",
              "4                                 0.0000  \n",
              "..                                   ...  \n",
              "941                               0.7712  \n",
              "942                               0.0000  \n",
              "943                               0.7841  \n",
              "944                               0.6249  \n",
              "945                               0.0000  \n",
              "\n",
              "[946 rows x 16 columns]"
            ]
          },
          "execution_count": 49,
          "metadata": {},
          "output_type": "execute_result"
        }
      ],
      "source": [
        "df_21 = utilization_utils.get_vader_sentiment_for_df(df_2, ['txt', 'anon_txt', 'force_anon_txt'])\n",
        "df_21"
      ]
    },
    {
      "cell_type": "code",
      "execution_count": null,
      "metadata": {
        "id": "7VkSNfpJtstH",
        "outputId": "f1c0e0b9-4119-47fb-eab3-210e0c926305"
      },
      "outputs": [
        {
          "data": {
            "image/png": "[encoded data removed]",
            "text/plain": [
              "<Figure size 640x480 with 1 Axes>"
            ]
          },
          "metadata": {},
          "output_type": "display_data"
        }
      ],
      "source": [
        "utilization_utils.plot_sentiment_scatter(df_21['txt_vader_sentiment_pred'], df_21['anon_txt_vader_sentiment_pred'])"
      ]
    },
    {
      "cell_type": "code",
      "execution_count": null,
      "metadata": {
        "id": "r5-iLJ6ytstI",
        "outputId": "8d019626-f452-434c-ef33-81f2c4ac0163"
      },
      "outputs": [
        {
          "data": {
            "image/png": "[encoded data removed]",
            "text/plain": [
              "<Figure size 640x480 with 1 Axes>"
            ]
          },
          "metadata": {},
          "output_type": "display_data"
        }
      ],
      "source": [
        "#plt.scatter(df_21['txt_vader_sentiment_pred'], df_21['force_anon_txt_vader_sentiment_pred'])\n",
        "utilization_utils.plot_sentiment_scatter(df_21['txt_vader_sentiment_pred'], df_21['force_anon_txt_vader_sentiment_pred'])\n"
      ]
    },
    {
      "cell_type": "markdown",
      "metadata": {
        "id": "t6FtB3n4tstJ"
      },
      "source": [
        "### Using Naive Bayes"
      ]
    },
    {
      "cell_type": "code",
      "execution_count": null,
      "metadata": {
        "id": "qx46_cB2tstM",
        "outputId": "2ae42fdf-9ef5-4ba3-da14-f7ca8466efd5"
      },
      "outputs": [
        {
          "data": {
            "text/plain": [
              "0.8858246688505911"
            ]
          },
          "execution_count": 52,
          "metadata": {},
          "output_type": "execute_result"
        }
      ],
      "source": [
        "utilization_utils.sentiment_test(df_2, 'txt')"
      ]
    },
    {
      "cell_type": "code",
      "execution_count": null,
      "metadata": {
        "id": "ly0-EolHtstN",
        "outputId": "31a1d3dc-0314-4204-b9c2-30d22bd93b38"
      },
      "outputs": [
        {
          "data": {
            "text/plain": [
              "0.8667835778379148"
            ]
          },
          "execution_count": 53,
          "metadata": {},
          "output_type": "execute_result"
        }
      ],
      "source": [
        "utilization_utils.sentiment_test(df_2, 'anon_txt')"
      ]
    },
    {
      "cell_type": "markdown",
      "metadata": {
        "id": "HW8Lop5jtstO"
      },
      "source": [
        "The fully anonymized text gets he highest accuracy score!"
      ]
    },
    {
      "cell_type": "code",
      "execution_count": null,
      "metadata": {
        "id": "f0ZvNenntstO",
        "outputId": "07c84bad-2211-438d-beae-7f57c5261fa9"
      },
      "outputs": [
        {
          "data": {
            "text/plain": [
              "0.7736433556473437"
            ]
          },
          "execution_count": 54,
          "metadata": {},
          "output_type": "execute_result"
        }
      ],
      "source": [
        "utilization_utils.sentiment_test(df_2, 'force_anon_txt')"
      ]
    },
    {
      "cell_type": "markdown",
      "metadata": {
        "id": "kZigKZ-XtstP"
      },
      "source": [
        "### Using XGBoost"
      ]
    },
    {
      "cell_type": "code",
      "execution_count": null,
      "metadata": {
        "id": "ALRmPVOytstP",
        "outputId": "b7a4115b-5784-4dd5-f62c-a4f7736b2b95"
      },
      "outputs": [
        {
          "data": {
            "text/plain": [
              "0.8858246688505911"
            ]
          },
          "execution_count": 55,
          "metadata": {},
          "output_type": "execute_result"
        }
      ],
      "source": [
        "utilization_utils.sentiment_test(df_2, 'txt')"
      ]
    },
    {
      "cell_type": "code",
      "execution_count": null,
      "metadata": {
        "id": "AEl746RjtstQ",
        "outputId": "68eb5210-0620-4c14-f8f1-9a5ce8a9910b"
      },
      "outputs": [
        {
          "data": {
            "text/plain": [
              "0.8667835778379148"
            ]
          },
          "execution_count": 56,
          "metadata": {},
          "output_type": "execute_result"
        }
      ],
      "source": [
        "utilization_utils.sentiment_test(df_2, 'anon_txt')"
      ]
    },
    {
      "cell_type": "code",
      "execution_count": null,
      "metadata": {
        "id": "34yi2pektstQ",
        "outputId": "a12eadf1-5945-42af-8714-20bb6a4d16b6"
      },
      "outputs": [
        {
          "data": {
            "text/plain": [
              "0.7736433556473437"
            ]
          },
          "execution_count": 57,
          "metadata": {},
          "output_type": "execute_result"
        }
      ],
      "source": [
        "utilization_utils.sentiment_test(df_2, 'force_anon_txt')"
      ]
    },
    {
      "cell_type": "markdown",
      "metadata": {
        "id": "0zOkx64rtstR"
      },
      "source": [
        "## Saving output"
      ]
    },
    {
      "cell_type": "code",
      "execution_count": null,
      "metadata": {
        "id": "fMCfzyBhtstS"
      },
      "outputs": [],
      "source": [
        "filename = 'outputs/' + output_name\n",
        "df_2.to_csv(filename, index=False)"
      ]
    },
    {
      "cell_type": "markdown",
      "metadata": {
        "id": "jWEyi08dtstS"
      },
      "source": [
        "### Temp and tries"
      ]
    },
    {
      "cell_type": "code",
      "execution_count": null,
      "metadata": {
        "id": "yBP1oADVtstT",
        "outputId": "b671e5e2-d1e5-4e46-d094-ac43791311c0"
      },
      "outputs": [
        {
          "name": "stdout",
          "output_type": "stream",
          "text": [
            "['i', 'me', 'my', 'myself', 'we', 'our', 'ours', 'ourselves', 'you', \"you're\", \"you've\", \"you'll\", \"you'd\", 'your', 'yours', 'yourself', 'yourselves', 'he', 'him', 'his', 'himself', 'she', \"she's\", 'her', 'hers', 'herself', 'it', \"it's\", 'its', 'itself', 'they', 'them', 'their', 'theirs', 'themselves', 'what', 'which', 'who', 'whom', 'this', 'that', \"that'll\", 'these', 'those', 'am', 'is', 'are', 'was', 'were', 'be', 'been', 'being', 'have', 'has', 'had', 'having', 'do', 'does', 'did', 'doing', 'a', 'an', 'the', 'and', 'but', 'if', 'or', 'because', 'as', 'until', 'while', 'of', 'at', 'by', 'for', 'with', 'about', 'against', 'between', 'into', 'through', 'during', 'before', 'after', 'above', 'below', 'to', 'from', 'up', 'down', 'in', 'out', 'on', 'off', 'over', 'under', 'again', 'further', 'then', 'once', 'here', 'there', 'when', 'where', 'why', 'how', 'all', 'any', 'both', 'each', 'few', 'more', 'most', 'other', 'some', 'such', 'no', 'nor', 'not', 'only', 'own', 'same', 'so', 'than', 'too', 'very', 's', 't', 'can', 'will', 'just', 'don', \"don't\", 'should', \"should've\", 'now', 'd', 'll', 'm', 'o', 're', 've', 'y', 'ain', 'aren', \"aren't\", 'couldn', \"couldn't\", 'didn', \"didn't\", 'doesn', \"doesn't\", 'hadn', \"hadn't\", 'hasn', \"hasn't\", 'haven', \"haven't\", 'isn', \"isn't\", 'ma', 'mightn', \"mightn't\", 'mustn', \"mustn't\", 'needn', \"needn't\", 'shan', \"shan't\", 'shouldn', \"shouldn't\", 'wasn', \"wasn't\", 'weren', \"weren't\", 'won', \"won't\", 'wouldn', \"wouldn't\"]\n"
          ]
        }
      ],
      "source": [
        "print(nlp_utils.stopwords.words('english'))"
      ]
    },
    {
      "cell_type": "code",
      "execution_count": null,
      "metadata": {
        "id": "fekEVZDZtstU",
        "outputId": "8b719d3e-f62c-4683-f0c8-71b1a0720b7d"
      },
      "outputs": [
        {
          "data": {
            "text/plain": [
              "179"
            ]
          },
          "execution_count": 60,
          "metadata": {},
          "output_type": "execute_result"
        }
      ],
      "source": [
        "len(nlp_utils.stopwords.words('english'))"
      ]
    },
    {
      "cell_type": "code",
      "execution_count": null,
      "metadata": {
        "id": "3jLuvstqtstU",
        "outputId": "c83acff3-81bb-4315-c48f-f74790f5d0df"
      },
      "outputs": [
        {
          "data": {
            "text/plain": [
              "179"
            ]
          },
          "execution_count": 61,
          "metadata": {},
          "output_type": "execute_result"
        }
      ],
      "source": [
        "len(nlp_utils.stopword_list)"
      ]
    },
    {
      "cell_type": "code",
      "execution_count": null,
      "metadata": {
        "id": "3G8gCfOCtstU",
        "outputId": "96cbbbc4-e9e8-43a1-d6a4-0ad0f9ec7ef7"
      },
      "outputs": [
        {
          "data": {
            "text/plain": [
              "1075"
            ]
          },
          "execution_count": 62,
          "metadata": {},
          "output_type": "execute_result"
        }
      ],
      "source": [
        "nlp_utils.add_word_list_to_stop_words('data/1000_most_common_words.txt')\n",
        "len(nlp_utils.stopword_list)"
      ]
    }
  ],
  "metadata": {
    "colab": {
      "provenance": [],
      "toc_visible": true
    },
    "kernelspec": {
      "display_name": "Python 3",
      "name": "python3"
    },
    "language_info": {
      "codemirror_mode": {
        "name": "ipython",
        "version": 3
      },
      "file_extension": ".py",
      "mimetype": "text/x-python",
      "name": "python",
      "nbconvert_exporter": "python",
      "pygments_lexer": "ipython3",
      "version": "3.10.11"
    }
  },
  "nbformat": 4,
  "nbformat_minor": 0
}