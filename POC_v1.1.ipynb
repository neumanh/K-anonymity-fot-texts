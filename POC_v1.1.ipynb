{
  "cells": [
    {
      "cell_type": "markdown",
      "metadata": {
        "id": "wxKOhnees1BN"
      },
      "source": [
        "# POC in a word perspective"
      ]
    },
    {
      "attachments": {},
      "cell_type": "markdown",
      "metadata": {
        "id": "Sws7PJd_sxzB"
      },
      "source": [
        "## Main Algorithm:\n",
        "\n",
        "1. Lemmatization\n",
        "\n",
        "2. Protect stop words\n",
        "\n",
        "\n",
        "3. // words (key phrases)   \n",
        "Do:   \n",
        "\tLook for similar words (DBSCAN)   \n",
        "Replace with centroid / one of the members   \n",
        "Until Embedding distance is too high or utilization is too low.   \n",
        "\n",
        "\n",
        "4. // sentences   \n",
        "While K-anonymity is not reached:   \n",
        "Find most similar sentences (Jaccard distance)   \n",
        "Force them to be similar   \n",
        "\n",
        "5. Do some utilization test / give some stats…\n"
      ]
    },
    {
      "cell_type": "code",
      "execution_count": 34,
      "metadata": {},
      "outputs": [],
      "source": [
        "# For VSCODE\n",
        "#%reload_ext autoreload\n",
        "#%autoreload 2"
      ]
    },
    {
      "cell_type": "markdown",
      "metadata": {
        "id": "SnmgebWytT2d"
      },
      "source": [
        "## 0) Upload data"
      ]
    },
    {
      "attachments": {},
      "cell_type": "markdown",
      "metadata": {},
      "source": [
        "Import libraries"
      ]
    },
    {
      "cell_type": "code",
      "execution_count": 35,
      "metadata": {
        "id": "u4-1wAP_sRSk"
      },
      "outputs": [],
      "source": [
        "import pandas as pd"
      ]
    },
    {
      "attachments": {},
      "cell_type": "markdown",
      "metadata": {},
      "source": [
        "Import project files"
      ]
    },
    {
      "cell_type": "code",
      "execution_count": 37,
      "metadata": {},
      "outputs": [],
      "source": [
        "from utils import nlp_utils, cluster_utils"
      ]
    },
    {
      "attachments": {},
      "cell_type": "markdown",
      "metadata": {
        "id": "xOgiwcJ-uX8i"
      },
      "source": [
        "Uploading data"
      ]
    },
    {
      "cell_type": "code",
      "execution_count": 38,
      "metadata": {},
      "outputs": [],
      "source": [
        "train_file = 'data/df_filtered.csv'"
      ]
    },
    {
      "cell_type": "markdown",
      "metadata": {
        "id": "su23TLv-XCw_"
      },
      "source": [
        "Getting dataframe"
      ]
    },
    {
      "cell_type": "code",
      "execution_count": 39,
      "metadata": {
        "colab": {
          "base_uri": "https://localhost:8080/"
        },
        "id": "EZGHAo6eWLPC",
        "outputId": "5570531f-1473-43b0-fd8c-dac191645a3d"
      },
      "outputs": [
        {
          "name": "stdout",
          "output_type": "stream",
          "text": [
            "CPU times: total: 15.6 ms\n",
            "Wall time: 24 ms\n"
          ]
        }
      ],
      "source": [
        "%%time\n",
        "# Getting the df\n",
        "#df = reading_bz_file(train_file)\n",
        "df = pd.read_csv(train_file)"
      ]
    },
    {
      "attachments": {},
      "cell_type": "markdown",
      "metadata": {
        "id": "vFyuIK-zJNfH"
      },
      "source": [
        "Defining the word dictionary"
      ]
    },
    {
      "cell_type": "code",
      "execution_count": 41,
      "metadata": {
        "colab": {
          "base_uri": "https://localhost:8080/"
        },
        "id": "_IXiIodhJNfH",
        "outputId": "3a52c9b7-562a-4d6c-9def-8c3eb2659f2d"
      },
      "outputs": [
        {
          "name": "stdout",
          "output_type": "stream",
          "text": [
            "CPU times: total: 38.5 s\n",
            "Wall time: 52.3 s\n"
          ]
        }
      ],
      "source": [
        "%%time\n",
        "word_dict = nlp_utils.create_word_dict(df['txt'])"
      ]
    },
    {
      "cell_type": "markdown",
      "metadata": {
        "id": "4tGEWgKFJE6n"
      },
      "source": [
        "Clustering"
      ]
    },
    {
      "cell_type": "code",
      "execution_count": 59,
      "metadata": {
        "colab": {
          "base_uri": "https://localhost:8080/"
        },
        "id": "G9WGiL4DJBja",
        "outputId": "9f140b41-66e4-4715-daa4-526c831f12a8"
      },
      "outputs": [
        {
          "name": "stdout",
          "output_type": "stream",
          "text": [
            "eps 1.8145278898835595\n",
            "CPU times: total: 30.4 s\n",
            "Wall time: 40.5 s\n"
          ]
        },
        {
          "data": {
            "image/png": "[encoded data removed]",
            "text/plain": [
              "<Figure size 640x480 with 1 Axes>"
            ]
          },
          "metadata": {},
          "output_type": "display_data"
        }
      ],
      "source": [
        "%%time\n",
        "word_list = cluster_utils.get_word_list_for_clustering(word_dict)\n",
        "embedded_dict = cluster_utils.embed_corpus(word_list)\n",
        "cluster_dict, dist_dict, dbscan = cluster_utils.run_clustering(embedded_dict)"
      ]
    },
    {
      "cell_type": "code",
      "execution_count": 60,
      "metadata": {},
      "outputs": [
        {
          "data": {
            "text/plain": [
              "107"
            ]
          },
          "execution_count": 60,
          "metadata": {},
          "output_type": "execute_result"
        }
      ],
      "source": [
        "len(cluster_dict)"
      ]
    },
    {
      "cell_type": "code",
      "execution_count": 61,
      "metadata": {},
      "outputs": [
        {
          "data": {
            "text/plain": [
              "107"
            ]
          },
          "execution_count": 61,
          "metadata": {},
          "output_type": "execute_result"
        }
      ],
      "source": [
        "len(dist_dict)"
      ]
    },
    {
      "cell_type": "code",
      "execution_count": 63,
      "metadata": {},
      "outputs": [
        {
          "data": {
            "text/plain": [
              "0.09503251314163208"
            ]
          },
          "execution_count": 63,
          "metadata": {},
          "output_type": "execute_result"
        }
      ],
      "source": [
        "dist_dict[9]"
      ]
    },
    {
      "cell_type": "markdown",
      "metadata": {
        "id": "VHMuIB_2JWAt"
      },
      "source": [
        "Plotting tSNE"
      ]
    },
    {
      "cell_type": "code",
      "execution_count": 64,
      "metadata": {
        "colab": {
          "base_uri": "https://localhost:8080/",
          "height": 465
        },
        "id": "sEamhf6VJNfG",
        "outputId": "866c4a96-df18-4fe1-b191-fedd039b1dfd"
      },
      "outputs": [
        {
          "name": "stdout",
          "output_type": "stream",
          "text": [
            "CPU times: total: 0 ns\n",
            "Wall time: 0 ns\n"
          ]
        }
      ],
      "source": [
        "%%time\n",
        "#cluster_utils.plot_tsne(embedded_dict, dbscan)"
      ]
    },
    {
      "cell_type": "markdown",
      "metadata": {
        "id": "A_lIFscJJNfG"
      },
      "source": [
        "Plotting Jaccard index histogram"
      ]
    },
    {
      "cell_type": "code",
      "execution_count": 65,
      "metadata": {
        "colab": {
          "base_uri": "https://localhost:8080/"
        },
        "id": "RAwZ842fJNfH",
        "outputId": "d247f8f6-c906-4636-e12c-0f582fae9224"
      },
      "outputs": [
        {
          "name": "stdout",
          "output_type": "stream",
          "text": [
            "CPU times: total: 0 ns\n",
            "Wall time: 0 ns\n"
          ]
        }
      ],
      "source": [
        "%%time\n",
        "#nlp_utils.plot_jaccard_hist(df)"
      ]
    },
    {
      "cell_type": "code",
      "execution_count": 67,
      "metadata": {},
      "outputs": [
        {
          "data": {
            "text/plain": [
              "['chocolate', 'banana', 'hi', 'cola', 'love']"
            ]
          },
          "execution_count": 67,
          "metadata": {},
          "output_type": "execute_result"
        }
      ],
      "source": [
        "test_dict = nlp_utils.create_word_dict(['hi, how are you?', 'I love chocolate', 'I love banana', 'he loves cola'])\n",
        "test_list = cluster_utils.get_word_list_for_clustering(test_dict)\n",
        "test_list"
      ]
    },
    {
      "attachments": {},
      "cell_type": "markdown",
      "metadata": {},
      "source": [
        "Getting distance threshold"
      ]
    },
    {
      "cell_type": "code",
      "execution_count": 68,
      "metadata": {},
      "outputs": [],
      "source": [
        "threshold = cluster_utils.define_max_threshold()"
      ]
    },
    {
      "cell_type": "code",
      "execution_count": 69,
      "metadata": {
        "colab": {
          "base_uri": "https://localhost:8080/",
          "height": 1000
        },
        "id": "JWUafBqmJNfH",
        "outputId": "514fa5ba-65d1-4609-e42b-ab3ab262bbfc"
      },
      "outputs": [
        {
          "name": "stdout",
          "output_type": "stream",
          "text": [
            "Starting average Jaccard index: 0.22417678771660815\n",
            "the next cluster is too wide and wont be replaced: ['though', 'let', 'enough', 'carry', 'fill', 'everything', 'hopefully', 'find', 'anybody', 'another', 'break', 'high', 'time', 'basically', 'anyway', 'barely', 'reason', 'already', 'understand', 'yet', 'much', 'hardly', 'jump', 'run', 'four', 'mess', 'make', 'unless', 'easy', 'twice', 'still', 'normally', 'rather', 'yesterday', 'last', 'less', 'see', 'need', 'exactly', 'next', 'away', 'dumb', 'listen', 'year', 'sure', 'catch', 'otherwise', 'second', 'go', 'nothing', 'yeah', 'think', 'get', 'whole', 'three', 'every', 'collect', 'guess', 'talk', 'actually', 'bring', 'two', 'matter', 'either', 'forget', 'expect', 'however', 'tell', 'since', 'ever', 'unfortunately', 'although', 'whether', 'straight', 'many', 'soon', 'five', 'hear', 'necessary', 'today', 'perhaps', 'apparently', 'absolutely', 'handle', 'stupid', 'fly', 'loose', 'well', 'always', 'least', 'far', 'hope', 'obviously', 'else', 'look', 'maybe', 'yes', 'side', 'lot', 'fact', 'call', 'stick', 'totally', 'surprised', 'throw', 'wow', 'impressed', 'hit', 'might', 'give', 'anything', 'doubt', 'definitely', 'finally', 'certainly', 'especially', 'take', 'leave', 'something', 'wonder', 'hold', 'thing', 'could', 'right', 'anyone', 'possibly', 'remember', 'first', 'know', 'life', 'happen', 'blow', 'probably', 'step', 'spare', 'able', 'wrong', 'way', 'almost', 'mind', 'turn', 'pretty', 'close', 'really', 'like', 'third']\n",
            "\treplacing ['buy', 'sell'] in free\n",
            "the next cluster is too wide and wont be replaced: ['thingamajig', 'enlightment', 'romanticism']\n",
            "the next cluster is too wide and wont be replaced: ['thomas', 'john', 'mark', 'sherry', 'keith', 'michael', 'clay', 'shirley', 'william', 'duncan', 'browne', 'kerouac', 'henry', 'robert', 'turner', 'kinsey', 'kelly', 'christopher', 'horton', 'bonnie', 'jr', 'david', 'mike', 'mason', 'sylvia', 'jim', 'alexander', 'smith', 'ray', 'paul', 'cornwell', 'matthew', 'davis', 'meyer', 'joseph', 'peggy']\n",
            "\treplacing ['comic', 'comedy'] in movie\n",
            "the next cluster is too wide and wont be replaced: ['desert', 'temple', 'cave', 'sand']\n",
            "\treplacing ['stay', 'keep'] in always\n",
            "the next cluster is too wide and wont be replaced: ['hole', 'tongue', 'body', 'head', 'bottom', 'eye', 'cut', 'thumb', 'ear']\n",
            "\treplacing ['everyday', 'together'] in all\n",
            "\treplacing ['batman', 'spiderman'] in superman\n",
            "\treplacing ['configuration', 'installation'] in automation\n",
            "\treplacing ['eight', 'thirty', 'twenty', 'twelve'] in nine\n",
            "\treplacing ['girlfriend', 'boyfriend'] in friend\n",
            "the next cluster is too wide and wont be replaced: ['translation', 'script', 'reference', 'dictionary']\n",
            "\treplacing ['office', 'library', 'board'] in building\n",
            "the next cluster is too wide and wont be replaced: ['mom', 'guy', 'crazy', 'sister', 'queen', 'brother', 'lady', 'dude', 'dad', 'old', 'friend', 'prince', 'baby', 'girl', 'princess', 'sick', 'bad', 'damn', 'kid', 'boy']\n",
            "\treplacing ['amaze', 'nevertheless'] in nonetheless\n",
            "\treplacing ['amazing', 'best', 'awesome'] in great\n",
            "\treplacing ['child', 'father', 'daughter', 'mother', 'husband', 'wife'] in woman\n",
            "\treplacing ['hip', 'hop'] in dope\n",
            "\treplacing ['august', 'december'] in october\n",
            "\treplacing ['l', 'r', 'b'] in f\n",
            "\treplacing ['usually', 'often'] in rarely\n",
            "\treplacing ['rock', 'mix', 'pop'] in dance\n",
            "\treplacing ['fairly', 'particularly'] in somewhat\n",
            "\treplacing ['poster', 'cover'] in album\n",
            "\treplacing ['client', 'development', 'management', 'application', 'customer'] in services\n",
            "\treplacing ['julia', 'barbara'] in nicole\n",
            "\treplacing ['fantasy', 'ultimate'] in epic\n",
            "\treplacing ['west', 'south', 'east'] in north\n",
            "\treplacing ['sign', 'deal'] in trade\n",
            "\treplacing ['house', 'home'] in at\n",
            "\treplacing ['waste', 'struggle'] in problems\n",
            "\treplacing ['wrap', 'nail'] in coat\n",
            "\treplacing ['box', 'pack'] in bag\n",
            "\treplacing ['part', 'story'] in secret\n",
            "\treplacing ['definatly', 'definetely', 'definitly', 'defenitely'] in definitley\n",
            "\treplacing ['provide', 'require'] in ensure\n",
            "\treplacing ['white', 'blue', 'black'] in red\n",
            "\treplacing ['favorite', 'favourite'] in fave\n",
            "\treplacing ['learn', 'teach'] in speak\n",
            "the next cluster is too wide and wont be replaced: ['outstanding', 'impressive', 'superb', 'brilliant', 'fantastic', 'overall', 'terrific', 'incredible']\n",
            "\treplacing ['lovely', 'fab', 'fabulous'] in gorgeous\n",
            "\treplacing ['cheap', 'expensive'] in cheaper\n",
            "\treplacing ['along', 'somewhere', 'walk', 'anywhere', 'outside', 'around'] in while\n",
            "\treplacing ['tool', 'product', 'quality'] in tools\n",
            "\treplacing ['tolkien', 'bradbury'] in gaiman\n",
            "\treplacing ['pet', 'dog', 'bear', 'cat'] in monkey\n",
            "\treplacing ['read', 'write'] in answer\n",
            "\treplacing ['digest', 'handbook'] in documentation\n",
            "\treplacing ['spell', 'explain'] in understand\n",
            "\treplacing ['store', 'shop'] in free\n",
            "\treplacing ['happy', 'birthday'] in thank\n",
            "\treplacing ['release', 'press'] in launch\n",
            "\treplacing ['wash', 'clean'] in dry\n",
            "\treplacing ['itit', 'enoy'] in vanie\n",
            "\treplacing ['swift', 'perry'] in taylor\n",
            "\treplacing ['fun', 'enjoy'] in good\n",
            "the next cluster is too wide and wont be replaced: ['influence', 'perspective', 'aspect', 'age', 'example']\n",
            "\treplacing ['fear', 'anger'] in enemy\n",
            "\treplacing ['grandson', 'fiance', 'granddaughter'] in fiancee\n",
            "\treplacing ['earth', 'universe'] in world\n",
            "\treplacing ['limerick', 'canterbury'] in gloucester\n",
            "the next cluster is too wide and wont be replaced: ['ink', 'pocket', 'paint', 'chain']\n",
            "\treplacing ['action', 'challenge', 'battle'] in release\n",
            "\treplacing ['unrealistic', 'realistic'] in insignificant\n",
            "\treplacing ['wave', 'zone'] in speed\n",
            "the next cluster is too wide and wont be replaced: ['golem', 'moby', 'nightwish']\n",
            "\treplacing ['package', 'purchase'] in includes\n",
            "\treplacing ['trash', 'nasty', 'dirty'] in ass\n",
            "\treplacing ['american', 'british', 'australian'] in canadian\n",
            "\treplacing ['helpful', 'useful'] in examples\n",
            "\treplacing ['defiantly', 'definately'] in definetly\n",
            "\treplacing ['niece', 'nephew'] in aunt\n",
            "\treplacing ['clasic', 'fasion'] in kumite\n",
            "\treplacing ['day', 'good', 'night', 'summer'] in fun\n",
            "\treplacing ['forward', 'ahead', 'return'] in starting\n",
            "\treplacing ['scenario', 'encounter'] in separation\n",
            "\treplacing ['remake', 'thriller'] in mashup\n",
            "\treplacing ['rain', 'snow'] in sun\n",
            "the next cluster is too wide and wont be replaced: ['awesomeness', 'exception']\n",
            "\treplacing ['brooklyn', 'nashville'] in l.a.\n",
            "\treplacing ['check', 'free'] in new\n",
            "\treplacing ['merlin', 'ncis', 'lotr', 'buffy'] in himym\n",
            "\treplacing ['ninety', 'sixty'] in seventy\n",
            "\treplacing ['interest', 'potential'] in significant\n",
            "\treplacing ['maker', 'machine'] in sample\n",
            "\treplacing ['plain', 'thin'] in soft\n",
            "\treplacing ['wayne', 'ross'] in rick\n",
            "\treplacing ['hour', 'early'] in hours\n",
            "\treplacing [\"'cause\", 'belong'] in wherever\n",
            "\treplacing ['author', 'writer'] in editor\n",
            "\treplacing ['laugh', 'cry'] in hear\n",
            "\treplacing ['nintendo', 'playstation'] in nexus\n",
            "\treplacing ['magnificent', 'spectacular'] in incredible\n",
            "\treplacing ['naval', 'colonial'] in imperial\n",
            "\treplacing ['anytime', 'buddy'] in soon\n",
            "\treplacing ['cd', 'dvd'] in hd\n",
            "\treplacing ['instead', 'without'] in while\n",
            "\treplacing ['excellant', 'exellent'] in brillaint\n",
            "\treplacing ['twist', 'flick'] in tattoo\n",
            "\treplacing ['actress', 'singer'] in superstar\n",
            "\treplacing ['horrible', 'terrible'] in cruel\n",
            "\treplacing ['bluray', 'vhs'] in borderlands\n",
            "\treplacing ['departure', 'arrival'] in returns\n",
            "\treplacing ['camera', 'screen'] in keyboard\n",
            "Final average Jaccard index: 0.24160018852687817\n",
            "CPU times: total: 19min 51s\n",
            "Wall time: 28min 25s\n"
          ]
        },
        {
          "data": {
            "image/png": "[encoded data removed]",
            "text/plain": [
              "<Figure size 640x480 with 1 Axes>"
            ]
          },
          "metadata": {},
          "output_type": "display_data"
        }
      ],
      "source": [
        "%%time\n",
        "df_2, word_dict_2 = nlp_utils.replace_words_in_df(df, cluster_dict, dist_dict, threshold, word_dict)"
      ]
    },
    {
      "cell_type": "code",
      "execution_count": 70,
      "metadata": {
        "colab": {
          "base_uri": "https://localhost:8080/",
          "height": 641
        },
        "id": "WBBkiCk4JNfH",
        "outputId": "e4a172b1-fd15-4516-a41b-dea8be990435"
      },
      "outputs": [
        {
          "data": {
            "text/html": [
              "<div>\n",
              "<style scoped>\n",
              "    .dataframe tbody tr th:only-of-type {\n",
              "        vertical-align: middle;\n",
              "    }\n",
              "\n",
              "    .dataframe tbody tr th {\n",
              "        vertical-align: top;\n",
              "    }\n",
              "\n",
              "    .dataframe thead th {\n",
              "        text-align: right;\n",
              "    }\n",
              "</style>\n",
              "<table border=\"1\" class=\"dataframe\">\n",
              "  <thead>\n",
              "    <tr style=\"text-align: right;\">\n",
              "      <th></th>\n",
              "      <th>Unnamed: 0</th>\n",
              "      <th>txt</th>\n",
              "      <th>sentiment</th>\n",
              "      <th>num_of_words</th>\n",
              "      <th>anon_txt</th>\n",
              "      <th>anon_txt_history</th>\n",
              "    </tr>\n",
              "  </thead>\n",
              "  <tbody>\n",
              "    <tr>\n",
              "      <th>0</th>\n",
              "      <td>84</td>\n",
              "      <td>voices from the farm: i have a copy of this bo...</td>\n",
              "      <td>1</td>\n",
              "      <td>27</td>\n",
              "      <td>voice from the farm : I have a copy of this bo...</td>\n",
              "      <td>{voice} (from) (the) farm : i (have) (a) copy ...</td>\n",
              "    </tr>\n",
              "    <tr>\n",
              "      <th>1</th>\n",
              "      <td>99</td>\n",
              "      <td>caution!: these tracks are not the \"original\" ...</td>\n",
              "      <td>0</td>\n",
              "      <td>22</td>\n",
              "      <td>caution ! : these track be not the \" original ...</td>\n",
              "      <td>caution ! : (these) track {be} (not) (the) \" o...</td>\n",
              "    </tr>\n",
              "    <tr>\n",
              "      <th>2</th>\n",
              "      <td>100</td>\n",
              "      <td>textbook: book shipped quickly and was in exce...</td>\n",
              "      <td>1</td>\n",
              "      <td>16</td>\n",
              "      <td>textbook : book ship quickly and be in excelle...</td>\n",
              "      <td>textbook : book ship quickly (and) {be} (in) e...</td>\n",
              "    </tr>\n",
              "    <tr>\n",
              "      <th>3</th>\n",
              "      <td>243</td>\n",
              "      <td>it was great!!!: i like it. it was very cool t...</td>\n",
              "      <td>1</td>\n",
              "      <td>21</td>\n",
              "      <td>it be great ! ! ! : I like it . it be very coo...</td>\n",
              "      <td>(it) {be} [great] ! ! ! : i like (it) . (it) {...</td>\n",
              "    </tr>\n",
              "    <tr>\n",
              "      <th>4</th>\n",
              "      <td>269</td>\n",
              "      <td>dockers do the job.: this product was just wha...</td>\n",
              "      <td>1</td>\n",
              "      <td>25</td>\n",
              "      <td>docker do the job . : this tools be just what ...</td>\n",
              "      <td>{docker} {do} (the) job . : (this) [tools] {be...</td>\n",
              "    </tr>\n",
              "    <tr>\n",
              "      <th>...</th>\n",
              "      <td>...</td>\n",
              "      <td>...</td>\n",
              "      <td>...</td>\n",
              "      <td>...</td>\n",
              "      <td>...</td>\n",
              "      <td>...</td>\n",
              "    </tr>\n",
              "    <tr>\n",
              "      <th>1002</th>\n",
              "      <td>41002</td>\n",
              "      <td>steer clear: steer clear of this blu-ray title...</td>\n",
              "      <td>0</td>\n",
              "      <td>27</td>\n",
              "      <td>steer clear : steer clear of this blu - ray ti...</td>\n",
              "      <td>steer clear : steer clear (of) (this) blu - ra...</td>\n",
              "    </tr>\n",
              "    <tr>\n",
              "      <th>1003</th>\n",
              "      <td>41045</td>\n",
              "      <td>i like movies: as someone who likes all kinds ...</td>\n",
              "      <td>1</td>\n",
              "      <td>24</td>\n",
              "      <td>I like movie : as someone who like all kind of...</td>\n",
              "      <td>i like [movie] : (as) {someone} (who) like [al...</td>\n",
              "    </tr>\n",
              "    <tr>\n",
              "      <th>1004</th>\n",
              "      <td>41149</td>\n",
              "      <td>sick and twisted is good...: this book is sick...</td>\n",
              "      <td>1</td>\n",
              "      <td>25</td>\n",
              "      <td>sick and twisted be fun ... : this book be sic...</td>\n",
              "      <td>sick (and) twisted {be} [fun] ... : (this) boo...</td>\n",
              "    </tr>\n",
              "    <tr>\n",
              "      <th>1005</th>\n",
              "      <td>41156</td>\n",
              "      <td>difficult for a lay person: i found this book ...</td>\n",
              "      <td>0</td>\n",
              "      <td>24</td>\n",
              "      <td>difficult for a lay person : I find this book ...</td>\n",
              "      <td>difficult (for) (a) lay person : i {find} (thi...</td>\n",
              "    </tr>\n",
              "    <tr>\n",
              "      <th>1006</th>\n",
              "      <td>41255</td>\n",
              "      <td>very funny book: i originally stumbled across ...</td>\n",
              "      <td>1</td>\n",
              "      <td>27</td>\n",
              "      <td>very funny book : I originally stumble across ...</td>\n",
              "      <td>(very) funny book : i originally {stumble} acr...</td>\n",
              "    </tr>\n",
              "  </tbody>\n",
              "</table>\n",
              "<p>1007 rows × 6 columns</p>\n",
              "</div>"
            ],
            "text/plain": [
              "      Unnamed: 0                                                txt   \n",
              "0             84  voices from the farm: i have a copy of this bo...  \\\n",
              "1             99  caution!: these tracks are not the \"original\" ...   \n",
              "2            100  textbook: book shipped quickly and was in exce...   \n",
              "3            243  it was great!!!: i like it. it was very cool t...   \n",
              "4            269  dockers do the job.: this product was just wha...   \n",
              "...          ...                                                ...   \n",
              "1002       41002  steer clear: steer clear of this blu-ray title...   \n",
              "1003       41045  i like movies: as someone who likes all kinds ...   \n",
              "1004       41149  sick and twisted is good...: this book is sick...   \n",
              "1005       41156  difficult for a lay person: i found this book ...   \n",
              "1006       41255  very funny book: i originally stumbled across ...   \n",
              "\n",
              "      sentiment  num_of_words   \n",
              "0             1            27  \\\n",
              "1             0            22   \n",
              "2             1            16   \n",
              "3             1            21   \n",
              "4             1            25   \n",
              "...         ...           ...   \n",
              "1002          0            27   \n",
              "1003          1            24   \n",
              "1004          1            25   \n",
              "1005          0            24   \n",
              "1006          1            27   \n",
              "\n",
              "                                               anon_txt   \n",
              "0     voice from the farm : I have a copy of this bo...  \\\n",
              "1     caution ! : these track be not the \" original ...   \n",
              "2     textbook : book ship quickly and be in excelle...   \n",
              "3     it be great ! ! ! : I like it . it be very coo...   \n",
              "4     docker do the job . : this tools be just what ...   \n",
              "...                                                 ...   \n",
              "1002  steer clear : steer clear of this blu - ray ti...   \n",
              "1003  I like movie : as someone who like all kind of...   \n",
              "1004  sick and twisted be fun ... : this book be sic...   \n",
              "1005  difficult for a lay person : I find this book ...   \n",
              "1006  very funny book : I originally stumble across ...   \n",
              "\n",
              "                                       anon_txt_history  \n",
              "0     {voice} (from) (the) farm : i (have) (a) copy ...  \n",
              "1     caution ! : (these) track {be} (not) (the) \" o...  \n",
              "2     textbook : book ship quickly (and) {be} (in) e...  \n",
              "3     (it) {be} [great] ! ! ! : i like (it) . (it) {...  \n",
              "4     {docker} {do} (the) job . : (this) [tools] {be...  \n",
              "...                                                 ...  \n",
              "1002  steer clear : steer clear (of) (this) blu - ra...  \n",
              "1003  i like [movie] : (as) {someone} (who) like [al...  \n",
              "1004  sick (and) twisted {be} [fun] ... : (this) boo...  \n",
              "1005  difficult (for) (a) lay person : i {find} (thi...  \n",
              "1006  (very) funny book : i originally {stumble} acr...  \n",
              "\n",
              "[1007 rows x 6 columns]"
            ]
          },
          "execution_count": 70,
          "metadata": {},
          "output_type": "execute_result"
        }
      ],
      "source": [
        "df_2"
      ]
    },
    {
      "attachments": {},
      "cell_type": "markdown",
      "metadata": {
        "id": "o6f1biWDJcq_"
      },
      "source": [
        "Looking at the histogram again"
      ]
    },
    {
      "cell_type": "code",
      "execution_count": null,
      "metadata": {
        "colab": {
          "base_uri": "https://localhost:8080/"
        },
        "id": "Zpd_DAgSJSIY",
        "outputId": "54e0ee94-7605-446f-81b9-a677475531c4"
      },
      "outputs": [
        {
          "data": {
            "image/png": "[encoded data removed]",
            "text/plain": [
              "<Figure size 640x480 with 1 Axes>"
            ]
          },
          "metadata": {},
          "output_type": "display_data"
        },
        {
          "name": "stdout",
          "output_type": "stream",
          "text": [
            "CPU times: total: 391 ms\n",
            "Wall time: 416 ms\n"
          ]
        }
      ],
      "source": [
        "%%time\n",
        "nlp_utils.plot_jaccard_hist(df_2)"
      ]
    }
  ],
  "metadata": {
    "colab": {
      "provenance": [],
      "toc_visible": true
    },
    "kernelspec": {
      "display_name": "Python 3",
      "name": "python3"
    },
    "language_info": {
      "codemirror_mode": {
        "name": "ipython",
        "version": 3
      },
      "file_extension": ".py",
      "mimetype": "text/x-python",
      "name": "python",
      "nbconvert_exporter": "python",
      "pygments_lexer": "ipython3",
      "version": "3.11.0"
    }
  },
  "nbformat": 4,
  "nbformat_minor": 0
}
