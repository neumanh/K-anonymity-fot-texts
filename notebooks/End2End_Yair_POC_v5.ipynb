{
  "nbformat": 4,
  "nbformat_minor": 0,
  "metadata": {
    "colab": {
      "provenance": [],
      "collapsed_sections": [
        "lCDVbH7IqMZK",
        "zNTwXSIgd-hQ",
        "f6nU_ptamwxS"
      ]
    },
    "kernelspec": {
      "name": "python3",
      "display_name": "Python 3"
    },
    "language_info": {
      "name": "python"
    }
  },
  "cells": [
    {
      "cell_type": "markdown",
      "source": [
        "# Suggested Algorithm:\n",
        "1) Choosing part of the data (sentences up to 20 words)\n",
        "\n",
        "2) Perform word embedding using glove\n",
        "\n",
        "3) Cluster all the words using dbscan\n",
        "\n",
        "4) Change all words in the Dict to a \"Centroid\" \n",
        "\n",
        "5) Check if we get K=2 anonymity \n",
        "\n",
        "6) If not yet - remove words that reduces k (put in parantesis)"
      ],
      "metadata": {
        "id": "I9Ti_dzxC-Sh"
      }
    },
    {
      "cell_type": "code",
      "source": [
        "# Imports\n",
        "import sklearn\n",
        "import pandas as pd\n",
        "import numpy as np\n",
        "import random\n",
        "import re\n",
        "from numpy.linalg import norm\n",
        "from sklearn.model_selection import train_test_split\n",
        "from itertools import islice\n",
        "from sklearn.feature_extraction.text import CountVectorizer\n"
      ],
      "metadata": {
        "id": "ShTKnGBKDI8q"
      },
      "execution_count": null,
      "outputs": []
    },
    {
      "cell_type": "markdown",
      "source": [
        "### 1) Choosing part of the data (sentences up to 20 words)\n"
      ],
      "metadata": {
        "id": "bdDZTHYrG1HP"
      }
    },
    {
      "cell_type": "code",
      "source": [
        "# Uploading the data\n",
        "COLAB = True\n",
        "first_run = True"
      ],
      "metadata": {
        "id": "S_C7Rov6G14h"
      },
      "execution_count": null,
      "outputs": []
    },
    {
      "cell_type": "code",
      "source": [
        "if COLAB:\n",
        "    from google.colab import drive\n",
        "    from os.path import exists\n",
        "\n",
        "    amazon_train_file = 'train.ft.txt.bz2'\n",
        "\n",
        "    if exists(amazon_train_file):\n",
        "        train_file = amazon_train_file\n",
        "    else:\n",
        "        drive.mount('/content/drive/')\n",
        "\n",
        "        # For Hadas' drive\n",
        "        #my_dir = 'drive/MyDrive/Y-data/Intuit-K-anonimity/'\n",
        "\n",
        "        # For Lior's drive\n",
        "        my_dir = 'drive/MyDrive/Y-data/Y-DATA_PROJECT/'\n",
        "\n",
        "        train_file = my_dir + '/train.ft.txt.bz2'\n",
        "else:\n",
        "    train_file = '../data/' + 'train.ft.txt.bz2'"
      ],
      "metadata": {
        "colab": {
          "base_uri": "https://localhost:8080/",
          "height": 381
        },
        "id": "Bd_4xukvJ0Jh",
        "outputId": "ffbe7edc-bf21-4a57-bdeb-f35fac6ac19f"
      },
      "execution_count": null,
      "outputs": [
        {
          "output_type": "error",
          "ename": "MessageError",
          "evalue": "ignored",
          "traceback": [
            "\u001b[0;31m---------------------------------------------------------------------------\u001b[0m",
            "\u001b[0;31mMessageError\u001b[0m                              Traceback (most recent call last)",
            "\u001b[0;32m<ipython-input-3-fdb3ed5ff81c>\u001b[0m in \u001b[0;36m<cell line: 1>\u001b[0;34m()\u001b[0m\n\u001b[1;32m      8\u001b[0m         \u001b[0mtrain_file\u001b[0m \u001b[0;34m=\u001b[0m \u001b[0mamazon_train_file\u001b[0m\u001b[0;34m\u001b[0m\u001b[0;34m\u001b[0m\u001b[0m\n\u001b[1;32m      9\u001b[0m     \u001b[0;32melse\u001b[0m\u001b[0;34m:\u001b[0m\u001b[0;34m\u001b[0m\u001b[0;34m\u001b[0m\u001b[0m\n\u001b[0;32m---> 10\u001b[0;31m         \u001b[0mdrive\u001b[0m\u001b[0;34m.\u001b[0m\u001b[0mmount\u001b[0m\u001b[0;34m(\u001b[0m\u001b[0;34m'/content/drive/'\u001b[0m\u001b[0;34m)\u001b[0m\u001b[0;34m\u001b[0m\u001b[0;34m\u001b[0m\u001b[0m\n\u001b[0m\u001b[1;32m     11\u001b[0m \u001b[0;34m\u001b[0m\u001b[0m\n\u001b[1;32m     12\u001b[0m         \u001b[0;31m# For Hadas' drive\u001b[0m\u001b[0;34m\u001b[0m\u001b[0;34m\u001b[0m\u001b[0m\n",
            "\u001b[0;32m/usr/local/lib/python3.9/dist-packages/google/colab/drive.py\u001b[0m in \u001b[0;36mmount\u001b[0;34m(mountpoint, force_remount, timeout_ms, readonly)\u001b[0m\n\u001b[1;32m    101\u001b[0m \u001b[0;32mdef\u001b[0m \u001b[0mmount\u001b[0m\u001b[0;34m(\u001b[0m\u001b[0mmountpoint\u001b[0m\u001b[0;34m,\u001b[0m \u001b[0mforce_remount\u001b[0m\u001b[0;34m=\u001b[0m\u001b[0;32mFalse\u001b[0m\u001b[0;34m,\u001b[0m \u001b[0mtimeout_ms\u001b[0m\u001b[0;34m=\u001b[0m\u001b[0;36m120000\u001b[0m\u001b[0;34m,\u001b[0m \u001b[0mreadonly\u001b[0m\u001b[0;34m=\u001b[0m\u001b[0;32mFalse\u001b[0m\u001b[0;34m)\u001b[0m\u001b[0;34m:\u001b[0m\u001b[0;34m\u001b[0m\u001b[0;34m\u001b[0m\u001b[0m\n\u001b[1;32m    102\u001b[0m   \u001b[0;34m\"\"\"Mount your Google Drive at the specified mountpoint path.\"\"\"\u001b[0m\u001b[0;34m\u001b[0m\u001b[0;34m\u001b[0m\u001b[0m\n\u001b[0;32m--> 103\u001b[0;31m   return _mount(\n\u001b[0m\u001b[1;32m    104\u001b[0m       \u001b[0mmountpoint\u001b[0m\u001b[0;34m,\u001b[0m\u001b[0;34m\u001b[0m\u001b[0;34m\u001b[0m\u001b[0m\n\u001b[1;32m    105\u001b[0m       \u001b[0mforce_remount\u001b[0m\u001b[0;34m=\u001b[0m\u001b[0mforce_remount\u001b[0m\u001b[0;34m,\u001b[0m\u001b[0;34m\u001b[0m\u001b[0;34m\u001b[0m\u001b[0m\n",
            "\u001b[0;32m/usr/local/lib/python3.9/dist-packages/google/colab/drive.py\u001b[0m in \u001b[0;36m_mount\u001b[0;34m(mountpoint, force_remount, timeout_ms, ephemeral, readonly)\u001b[0m\n\u001b[1;32m    130\u001b[0m   )\n\u001b[1;32m    131\u001b[0m   \u001b[0;32mif\u001b[0m \u001b[0mephemeral\u001b[0m\u001b[0;34m:\u001b[0m\u001b[0;34m\u001b[0m\u001b[0;34m\u001b[0m\u001b[0m\n\u001b[0;32m--> 132\u001b[0;31m     _message.blocking_request(\n\u001b[0m\u001b[1;32m    133\u001b[0m         \u001b[0;34m'request_auth'\u001b[0m\u001b[0;34m,\u001b[0m \u001b[0mrequest\u001b[0m\u001b[0;34m=\u001b[0m\u001b[0;34m{\u001b[0m\u001b[0;34m'authType'\u001b[0m\u001b[0;34m:\u001b[0m \u001b[0;34m'dfs_ephemeral'\u001b[0m\u001b[0;34m}\u001b[0m\u001b[0;34m,\u001b[0m \u001b[0mtimeout_sec\u001b[0m\u001b[0;34m=\u001b[0m\u001b[0;32mNone\u001b[0m\u001b[0;34m\u001b[0m\u001b[0;34m\u001b[0m\u001b[0m\n\u001b[1;32m    134\u001b[0m     )\n",
            "\u001b[0;32m/usr/local/lib/python3.9/dist-packages/google/colab/_message.py\u001b[0m in \u001b[0;36mblocking_request\u001b[0;34m(request_type, request, timeout_sec, parent)\u001b[0m\n\u001b[1;32m    175\u001b[0m       \u001b[0mrequest_type\u001b[0m\u001b[0;34m,\u001b[0m \u001b[0mrequest\u001b[0m\u001b[0;34m,\u001b[0m \u001b[0mparent\u001b[0m\u001b[0;34m=\u001b[0m\u001b[0mparent\u001b[0m\u001b[0;34m,\u001b[0m \u001b[0mexpect_reply\u001b[0m\u001b[0;34m=\u001b[0m\u001b[0;32mTrue\u001b[0m\u001b[0;34m\u001b[0m\u001b[0;34m\u001b[0m\u001b[0m\n\u001b[1;32m    176\u001b[0m   )\n\u001b[0;32m--> 177\u001b[0;31m   \u001b[0;32mreturn\u001b[0m \u001b[0mread_reply_from_input\u001b[0m\u001b[0;34m(\u001b[0m\u001b[0mrequest_id\u001b[0m\u001b[0;34m,\u001b[0m \u001b[0mtimeout_sec\u001b[0m\u001b[0;34m)\u001b[0m\u001b[0;34m\u001b[0m\u001b[0;34m\u001b[0m\u001b[0m\n\u001b[0m",
            "\u001b[0;32m/usr/local/lib/python3.9/dist-packages/google/colab/_message.py\u001b[0m in \u001b[0;36mread_reply_from_input\u001b[0;34m(message_id, timeout_sec)\u001b[0m\n\u001b[1;32m    102\u001b[0m     ):\n\u001b[1;32m    103\u001b[0m       \u001b[0;32mif\u001b[0m \u001b[0;34m'error'\u001b[0m \u001b[0;32min\u001b[0m \u001b[0mreply\u001b[0m\u001b[0;34m:\u001b[0m\u001b[0;34m\u001b[0m\u001b[0;34m\u001b[0m\u001b[0m\n\u001b[0;32m--> 104\u001b[0;31m         \u001b[0;32mraise\u001b[0m \u001b[0mMessageError\u001b[0m\u001b[0;34m(\u001b[0m\u001b[0mreply\u001b[0m\u001b[0;34m[\u001b[0m\u001b[0;34m'error'\u001b[0m\u001b[0;34m]\u001b[0m\u001b[0;34m)\u001b[0m\u001b[0;34m\u001b[0m\u001b[0;34m\u001b[0m\u001b[0m\n\u001b[0m\u001b[1;32m    105\u001b[0m       \u001b[0;32mreturn\u001b[0m \u001b[0mreply\u001b[0m\u001b[0;34m.\u001b[0m\u001b[0mget\u001b[0m\u001b[0;34m(\u001b[0m\u001b[0;34m'data'\u001b[0m\u001b[0;34m,\u001b[0m \u001b[0;32mNone\u001b[0m\u001b[0;34m)\u001b[0m\u001b[0;34m\u001b[0m\u001b[0;34m\u001b[0m\u001b[0m\n\u001b[1;32m    106\u001b[0m \u001b[0;34m\u001b[0m\u001b[0m\n",
            "\u001b[0;31mMessageError\u001b[0m: Error: credential propagation was unsuccessful"
          ]
        }
      ]
    },
    {
      "cell_type": "code",
      "source": [
        "# Credit https://www.kaggle.com/code/anshulrai/cudnnlstm-implementation-93-7-accuracy\n",
        "\n",
        "import bz2\n",
        "\n",
        "# Readling the file to list of comments\n",
        "train_file = bz2.BZ2File(train_file)\n",
        "train_file_lines = train_file.readlines()\n",
        "\n",
        "# Converting from raw binary strings to strings that can be parsed\n",
        "train_file_lines = [x.decode('utf-8') for x in train_file_lines]\n",
        "\n",
        "# Extracting the labels and sentences\n",
        "train_labels = [0 if x.split(' ')[0] == '__label__1' else 1 for x in train_file_lines]\n",
        "train_sentences = [x.split(' ', 1)[1][:-1].lower() for x in train_file_lines] # And converting to lower case"
      ],
      "metadata": {
        "id": "Cr1IAK-xJ0u9"
      },
      "execution_count": null,
      "outputs": []
    },
    {
      "cell_type": "code",
      "source": [
        "del(train_file_lines)  # Free RAM"
      ],
      "metadata": {
        "id": "iEUpyJgJA9AE"
      },
      "execution_count": null,
      "outputs": []
    },
    {
      "cell_type": "code",
      "source": [
        "# create a data frame from train data:\n",
        "df = pd.DataFrame(list(zip(train_sentences, train_labels)), columns =['txt', 'sentiment'])\n",
        "df.head()"
      ],
      "metadata": {
        "colab": {
          "base_uri": "https://localhost:8080/",
          "height": 206
        },
        "id": "sLORKsgEOpL4",
        "outputId": "85e0c073-5681-45fb-a102-2ef83dc0da2a"
      },
      "execution_count": null,
      "outputs": [
        {
          "output_type": "execute_result",
          "data": {
            "text/plain": [
              "                                                 txt  sentiment\n",
              "0  stuning even for the non-gamer: this sound tra...          1\n",
              "1  the best soundtrack ever to anything.: i'm rea...          1\n",
              "2  amazing!: this soundtrack is my favorite music...          1\n",
              "3  excellent soundtrack: i truly like this soundt...          1\n",
              "4  remember, pull your jaw off the floor after he...          1"
            ],
            "text/html": [
              "\n",
              "  <div id=\"df-69028d6b-3d0d-4a55-8ea2-0b0d31a403a0\">\n",
              "    <div class=\"colab-df-container\">\n",
              "      <div>\n",
              "<style scoped>\n",
              "    .dataframe tbody tr th:only-of-type {\n",
              "        vertical-align: middle;\n",
              "    }\n",
              "\n",
              "    .dataframe tbody tr th {\n",
              "        vertical-align: top;\n",
              "    }\n",
              "\n",
              "    .dataframe thead th {\n",
              "        text-align: right;\n",
              "    }\n",
              "</style>\n",
              "<table border=\"1\" class=\"dataframe\">\n",
              "  <thead>\n",
              "    <tr style=\"text-align: right;\">\n",
              "      <th></th>\n",
              "      <th>txt</th>\n",
              "      <th>sentiment</th>\n",
              "    </tr>\n",
              "  </thead>\n",
              "  <tbody>\n",
              "    <tr>\n",
              "      <th>0</th>\n",
              "      <td>stuning even for the non-gamer: this sound tra...</td>\n",
              "      <td>1</td>\n",
              "    </tr>\n",
              "    <tr>\n",
              "      <th>1</th>\n",
              "      <td>the best soundtrack ever to anything.: i'm rea...</td>\n",
              "      <td>1</td>\n",
              "    </tr>\n",
              "    <tr>\n",
              "      <th>2</th>\n",
              "      <td>amazing!: this soundtrack is my favorite music...</td>\n",
              "      <td>1</td>\n",
              "    </tr>\n",
              "    <tr>\n",
              "      <th>3</th>\n",
              "      <td>excellent soundtrack: i truly like this soundt...</td>\n",
              "      <td>1</td>\n",
              "    </tr>\n",
              "    <tr>\n",
              "      <th>4</th>\n",
              "      <td>remember, pull your jaw off the floor after he...</td>\n",
              "      <td>1</td>\n",
              "    </tr>\n",
              "  </tbody>\n",
              "</table>\n",
              "</div>\n",
              "      <button class=\"colab-df-convert\" onclick=\"convertToInteractive('df-69028d6b-3d0d-4a55-8ea2-0b0d31a403a0')\"\n",
              "              title=\"Convert this dataframe to an interactive table.\"\n",
              "              style=\"display:none;\">\n",
              "        \n",
              "  <svg xmlns=\"http://www.w3.org/2000/svg\" height=\"24px\"viewBox=\"0 0 24 24\"\n",
              "       width=\"24px\">\n",
              "    <path d=\"M0 0h24v24H0V0z\" fill=\"none\"/>\n",
              "    <path d=\"M18.56 5.44l.94 2.06.94-2.06 2.06-.94-2.06-.94-.94-2.06-.94 2.06-2.06.94zm-11 1L8.5 8.5l.94-2.06 2.06-.94-2.06-.94L8.5 2.5l-.94 2.06-2.06.94zm10 10l.94 2.06.94-2.06 2.06-.94-2.06-.94-.94-2.06-.94 2.06-2.06.94z\"/><path d=\"M17.41 7.96l-1.37-1.37c-.4-.4-.92-.59-1.43-.59-.52 0-1.04.2-1.43.59L10.3 9.45l-7.72 7.72c-.78.78-.78 2.05 0 2.83L4 21.41c.39.39.9.59 1.41.59.51 0 1.02-.2 1.41-.59l7.78-7.78 2.81-2.81c.8-.78.8-2.07 0-2.86zM5.41 20L4 18.59l7.72-7.72 1.47 1.35L5.41 20z\"/>\n",
              "  </svg>\n",
              "      </button>\n",
              "      \n",
              "  <style>\n",
              "    .colab-df-container {\n",
              "      display:flex;\n",
              "      flex-wrap:wrap;\n",
              "      gap: 12px;\n",
              "    }\n",
              "\n",
              "    .colab-df-convert {\n",
              "      background-color: #E8F0FE;\n",
              "      border: none;\n",
              "      border-radius: 50%;\n",
              "      cursor: pointer;\n",
              "      display: none;\n",
              "      fill: #1967D2;\n",
              "      height: 32px;\n",
              "      padding: 0 0 0 0;\n",
              "      width: 32px;\n",
              "    }\n",
              "\n",
              "    .colab-df-convert:hover {\n",
              "      background-color: #E2EBFA;\n",
              "      box-shadow: 0px 1px 2px rgba(60, 64, 67, 0.3), 0px 1px 3px 1px rgba(60, 64, 67, 0.15);\n",
              "      fill: #174EA6;\n",
              "    }\n",
              "\n",
              "    [theme=dark] .colab-df-convert {\n",
              "      background-color: #3B4455;\n",
              "      fill: #D2E3FC;\n",
              "    }\n",
              "\n",
              "    [theme=dark] .colab-df-convert:hover {\n",
              "      background-color: #434B5C;\n",
              "      box-shadow: 0px 1px 3px 1px rgba(0, 0, 0, 0.15);\n",
              "      filter: drop-shadow(0px 1px 2px rgba(0, 0, 0, 0.3));\n",
              "      fill: #FFFFFF;\n",
              "    }\n",
              "  </style>\n",
              "\n",
              "      <script>\n",
              "        const buttonEl =\n",
              "          document.querySelector('#df-69028d6b-3d0d-4a55-8ea2-0b0d31a403a0 button.colab-df-convert');\n",
              "        buttonEl.style.display =\n",
              "          google.colab.kernel.accessAllowed ? 'block' : 'none';\n",
              "\n",
              "        async function convertToInteractive(key) {\n",
              "          const element = document.querySelector('#df-69028d6b-3d0d-4a55-8ea2-0b0d31a403a0');\n",
              "          const dataTable =\n",
              "            await google.colab.kernel.invokeFunction('convertToInteractive',\n",
              "                                                     [key], {});\n",
              "          if (!dataTable) return;\n",
              "\n",
              "          const docLinkHtml = 'Like what you see? Visit the ' +\n",
              "            '<a target=\"_blank\" href=https://colab.research.google.com/notebooks/data_table.ipynb>data table notebook</a>'\n",
              "            + ' to learn more about interactive tables.';\n",
              "          element.innerHTML = '';\n",
              "          dataTable['output_type'] = 'display_data';\n",
              "          await google.colab.output.renderOutput(dataTable, element);\n",
              "          const docLink = document.createElement('div');\n",
              "          docLink.innerHTML = docLinkHtml;\n",
              "          element.appendChild(docLink);\n",
              "        }\n",
              "      </script>\n",
              "    </div>\n",
              "  </div>\n",
              "  "
            ]
          },
          "metadata": {},
          "execution_count": 8
        }
      ]
    },
    {
      "cell_type": "markdown",
      "source": [
        "Adding the number of words"
      ],
      "metadata": {
        "id": "WlGKHkNcBJQY"
      }
    },
    {
      "cell_type": "code",
      "source": [
        "df['num_of_words'] = df['txt'].apply(lambda x : len(x.split(' ')))"
      ],
      "metadata": {
        "id": "t_t55JxUBL_H"
      },
      "execution_count": null,
      "outputs": []
    },
    {
      "cell_type": "markdown",
      "source": [
        "Filtering only short sentences"
      ],
      "metadata": {
        "id": "ajzcfbq4BVZo"
      }
    },
    {
      "cell_type": "code",
      "source": [
        "max_len = 20\n",
        "df_short_sentences = df[df['num_of_words'] <= max_len] # Filtering using pandas is much faster\n",
        "#short_train_sentences_total = [x for x in train_sentences if len(x.split(' ')) <= max_len]  # Much slower\n",
        "print(df_short_sentences.shape)"
      ],
      "metadata": {
        "colab": {
          "base_uri": "https://localhost:8080/"
        },
        "id": "7WyYf7sFBUNf",
        "outputId": "92df9dc2-543d-40ee-92b5-03fb06563728"
      },
      "execution_count": null,
      "outputs": [
        {
          "output_type": "stream",
          "name": "stdout",
          "text": [
            "(43870, 3)\n"
          ]
        }
      ]
    },
    {
      "cell_type": "markdown",
      "source": [
        "To further filter the num of sentences we work on, and make our life easier for POC, we will use the Jaccard index and choose the sentences with highest score:"
      ],
      "metadata": {
        "id": "zI7JzlL-vkpg"
      }
    },
    {
      "cell_type": "code",
      "source": [
        "def jaccard_index(sentence1, sentence2):\n",
        "    \"\"\" Calc Jaccard index for each pair of sentences \"\"\"\n",
        "    words1 = set(sentence1.split())\n",
        "    words2 = set(sentence2.split())\n",
        "    intersection = len(words1.intersection(words2))\n",
        "    union = len(words1.union(words2))\n",
        "    jaccard = intersection / union\n",
        "    return jaccard"
      ],
      "metadata": {
        "id": "2uvup_9MwzFx"
      },
      "execution_count": null,
      "outputs": []
    },
    {
      "cell_type": "code",
      "source": [
        "jaccard_index('I love white choclate', 'I love love brown choclate') # Examples"
      ],
      "metadata": {
        "colab": {
          "base_uri": "https://localhost:8080/"
        },
        "id": "PSPY_muve33o",
        "outputId": "87a4b12b-fca9-4171-b636-807b02737242"
      },
      "execution_count": null,
      "outputs": [
        {
          "output_type": "execute_result",
          "data": {
            "text/plain": [
              "0.6"
            ]
          },
          "metadata": {},
          "execution_count": 12
        }
      ]
    },
    {
      "cell_type": "code",
      "source": [
        "jaccard_index('I love  choclate', 'I love love  choclate') # Example post anonymization"
      ],
      "metadata": {
        "id": "NmM4lxYxxjQL"
      },
      "execution_count": null,
      "outputs": []
    },
    {
      "cell_type": "code",
      "source": [
        "# get a list of index for df_short_sentences, to keep indces from original df:\n",
        "indices_list = list(df_short_sentences.index)\n",
        "# init Jaccard dict:\n",
        "jaccard_index_dict = {}"
      ],
      "metadata": {
        "id": "5zcdzd63w7TV"
      },
      "execution_count": null,
      "outputs": []
    },
    {
      "cell_type": "code",
      "source": [
        "indices_list_short = indices_list[1:1000] # take only 1000 for fast computation"
      ],
      "metadata": {
        "id": "RBnrbafwD7TX"
      },
      "execution_count": null,
      "outputs": []
    },
    {
      "cell_type": "code",
      "source": [
        "%%time\n",
        "# Create a list of sentence texts\n",
        "sentences = list(df_short_sentences.txt.loc[indices_list_short])"
      ],
      "metadata": {
        "colab": {
          "base_uri": "https://localhost:8080/"
        },
        "id": "tFTJ5jBJ9P9J",
        "outputId": "632d7269-acee-4027-bb97-f600414d771d"
      },
      "execution_count": null,
      "outputs": [
        {
          "output_type": "stream",
          "name": "stdout",
          "text": [
            "CPU times: user 2.77 ms, sys: 961 µs, total: 3.73 ms\n",
            "Wall time: 9.29 ms\n"
          ]
        }
      ]
    },
    {
      "cell_type": "code",
      "source": [
        "# Compute the Jaccard index for all pairs of sentences\n",
        "## more efficient code using ChatGPT:\n",
        "%%time\n",
        "jaccard_index_dict = {(indices_list_short[i],indices_list_short[j]): jaccard_index(sentences[i], sentences[j]) for i in range(len(sentences)) for j in range(i+1, len(sentences))}"
      ],
      "metadata": {
        "colab": {
          "base_uri": "https://localhost:8080/"
        },
        "id": "BnvBF_6HDm_o",
        "outputId": "71dd7240-c3dc-4a2b-81da-8c82db4f993a"
      },
      "execution_count": null,
      "outputs": [
        {
          "output_type": "stream",
          "name": "stdout",
          "text": [
            "CPU times: user 3.75 s, sys: 47.1 ms, total: 3.8 s\n",
            "Wall time: 3.82 s\n"
          ]
        }
      ]
    },
    {
      "cell_type": "code",
      "source": [
        "# Sort the dictionary by its values in descending order\n",
        "sorted_dict = dict(sorted(jaccard_index_dict.items(), key=lambda item: item[1], reverse=True))"
      ],
      "metadata": {
        "id": "3S6q47AzzTs7"
      },
      "execution_count": null,
      "outputs": []
    },
    {
      "cell_type": "code",
      "source": [
        "# first_n_items = dict(islice(sorted_dict.items(), 50)) # work with 50 sentences as a start\n",
        "# Hadas: Changed to 500 (no stopwords)\n",
        "n = 1000\n",
        "first_n_items = dict(islice(sorted_dict.items(), n)) # work with n=1000 sentences as a start"
      ],
      "metadata": {
        "id": "O1zlqSI2EoLu"
      },
      "execution_count": null,
      "outputs": []
    },
    {
      "cell_type": "markdown",
      "source": [
        "Print the two sentences with highest JAccard ~0.8"
      ],
      "metadata": {
        "id": "PbqL2wheSujF"
      }
    },
    {
      "cell_type": "code",
      "source": [
        "df_short_sentences.loc[23472,\"txt\"]"
      ],
      "metadata": {
        "colab": {
          "base_uri": "https://localhost:8080/",
          "height": 36
        },
        "id": "L0MeuzrwObxq",
        "outputId": "d6240c96-0851-460d-81f6-6706605c0046"
      },
      "execution_count": null,
      "outputs": [
        {
          "output_type": "execute_result",
          "data": {
            "text/plain": [
              "'poor quality: the seat covers started coming loose at the seams immediately upon putting them on the seats.'"
            ],
            "application/vnd.google.colaboratory.intrinsic+json": {
              "type": "string"
            }
          },
          "metadata": {},
          "execution_count": 68
        }
      ]
    },
    {
      "cell_type": "code",
      "source": [
        "df_short_sentences.loc[23473,\"txt\"]"
      ],
      "metadata": {
        "colab": {
          "base_uri": "https://localhost:8080/",
          "height": 36
        },
        "id": "Xy1ZEkvcSss3",
        "outputId": "29291376-1146-4752-e145-f8592afb372c"
      },
      "execution_count": null,
      "outputs": [
        {
          "output_type": "execute_result",
          "data": {
            "text/plain": [
              "'poor quality.: the seat covers started coming loose at the seams immediately upon putting them on the seats.'"
            ],
            "application/vnd.google.colaboratory.intrinsic+json": {
              "type": "string"
            }
          },
          "metadata": {},
          "execution_count": 69
        }
      ]
    },
    {
      "cell_type": "code",
      "source": [
        "# get a list of all index:\n",
        "unique_numbers = [num for tup in first_n_items.keys() for num in tup]  # list of indeces for sentences to work with"
      ],
      "metadata": {
        "id": "cLUy3M090b5W"
      },
      "execution_count": null,
      "outputs": []
    },
    {
      "cell_type": "markdown",
      "source": [
        "Filter the df to get the 50 chosen sentences\n"
      ],
      "metadata": {
        "id": "a4lLvuzU2pHx"
      }
    },
    {
      "cell_type": "code",
      "source": [
        "# filter the df to recive only these sentences and print df\n",
        "filtered_df = df_short_sentences.loc[df_short_sentences.index.isin(unique_numbers)]\n",
        "print(filtered_df.head())"
      ],
      "metadata": {
        "colab": {
          "base_uri": "https://localhost:8080/"
        },
        "id": "Pvu_9j-u2k7w",
        "outputId": "306ede61-c406-40d1-86b5-a1cbee6570ad"
      },
      "execution_count": null,
      "outputs": [
        {
          "output_type": "stream",
          "name": "stdout",
          "text": [
            "                                                    txt  sentiment  \\\n",
            "204   haven't found better yet...: this is the only ...          1   \n",
            "446   good value: i love curve and this is a large b...          1   \n",
            "669   janes all the worlds aircraft 1996-7: great to...          1   \n",
            "1806  ninnia: this monitor is great. the service i g...          1   \n",
            "1811  most informative: this is the most informative...          1   \n",
            "\n",
            "      num_of_words  \n",
            "204             20  \n",
            "446             20  \n",
            "669             18  \n",
            "1806            20  \n",
            "1811            20  \n"
          ]
        }
      ]
    },
    {
      "cell_type": "code",
      "source": [
        "## Working with a copy of the df:\n",
        "filtered_df_copy = filtered_df.copy()"
      ],
      "metadata": {
        "id": "wStkA6ppgi92"
      },
      "execution_count": null,
      "outputs": []
    },
    {
      "cell_type": "markdown",
      "source": [
        "## 2) Perform word embedding using glove"
      ],
      "metadata": {
        "id": "ytXUKrLbKLuf"
      }
    },
    {
      "cell_type": "markdown",
      "source": [
        "### 2.1) Load the model:\n"
      ],
      "metadata": {
        "id": "NU1ZQeUWKMNE"
      }
    },
    {
      "cell_type": "code",
      "source": [
        "import gensim.downloader as api\n",
        "glove_model = api.load('glove-twitter-25')"
      ],
      "metadata": {
        "id": "JZAUDGT9N4x9"
      },
      "execution_count": null,
      "outputs": []
    },
    {
      "cell_type": "code",
      "source": [
        "#https://blog.paperspace.com/pre-trained-word-embeddings-natural-language-processing/\n",
        "X = filtered_df_copy['txt']\n",
        "y = filtered_df_copy['sentiment']"
      ],
      "metadata": {
        "id": "EXlCE1mqN5AH"
      },
      "execution_count": null,
      "outputs": []
    },
    {
      "cell_type": "code",
      "source": [
        "from keras.preprocessing.text import Tokenizer\n",
        "vocab_size = 10000\n",
        "oov_token = \"<OOV>\"  # words OOV\n",
        "tokenizer = Tokenizer(num_words = vocab_size, oov_token=oov_token)\n",
        "tokenizer.fit_on_texts(X)"
      ],
      "metadata": {
        "id": "UbJh9nQ2N5We"
      },
      "execution_count": null,
      "outputs": []
    },
    {
      "cell_type": "code",
      "source": [
        "# mapping of the words to numbers\n",
        "word_index = tokenizer.word_index"
      ],
      "metadata": {
        "id": "o1xxoyiAN5ZK"
      },
      "execution_count": null,
      "outputs": []
    },
    {
      "cell_type": "markdown",
      "source": [
        "Removing stopwords before embedding "
      ],
      "metadata": {
        "id": "JPeAz8bTnzAB"
      }
    },
    {
      "cell_type": "code",
      "source": [
        "import nltk\n",
        "nltk.download('stopwords')\n",
        "from nltk.corpus import stopwords\n",
        "\n",
        "sw = stopwords.words('english')"
      ],
      "metadata": {
        "colab": {
          "base_uri": "https://localhost:8080/"
        },
        "id": "GOgCzGein4Lp",
        "outputId": "09c22573-590e-40e2-aa51-2352d66283af"
      },
      "execution_count": null,
      "outputs": [
        {
          "output_type": "stream",
          "name": "stderr",
          "text": [
            "[nltk_data] Downloading package stopwords to /root/nltk_data...\n",
            "[nltk_data]   Package stopwords is already up-to-date!\n"
          ]
        }
      ]
    },
    {
      "cell_type": "code",
      "source": [
        "# using CHATGPT\n",
        "# Iterate over your dictionary of words and embed them using GloVe\n",
        "embedded_dict = {}\n",
        "for word, idx in word_index.items():\n",
        "    if word not in sw: # do not embbed stop words\n",
        "        try:\n",
        "            embedded_dict[word] = glove_model[word]\n",
        "        except KeyError:\n",
        "            # If the word is not in the GloVe vocabulary, assign a default embedding or skip it\n",
        "            pass"
      ],
      "metadata": {
        "id": "r6u2XzM8m8C-"
      },
      "execution_count": null,
      "outputs": []
    },
    {
      "cell_type": "code",
      "source": [
        "# Print the embeddings for the first 5 words in your dictionary\n",
        "print(list(embedded_dict.items())[:5])\n",
        "#print( next(iter((embedded_dict.items())) ))"
      ],
      "metadata": {
        "colab": {
          "base_uri": "https://localhost:8080/"
        },
        "id": "75_zJwFDm8FP",
        "outputId": "972912b7-1a03-4e84-d9cc-a753a37d76f7"
      },
      "execution_count": null,
      "outputs": [
        {
          "output_type": "stream",
          "name": "stdout",
          "text": [
            "[('great', array([-8.4229e-01,  3.6512e-01, -3.8841e-01, -4.6118e-01,  2.4301e-01,\n",
            "        3.2412e-01,  1.9009e+00, -2.2630e-01, -3.1335e-01, -1.0970e+00,\n",
            "       -4.1494e-03,  6.2074e-01, -5.0964e+00,  6.7418e-01,  5.0080e-01,\n",
            "       -6.2119e-01,  5.1765e-01, -4.4122e-01, -1.4364e-01,  1.9130e-01,\n",
            "       -7.4608e-01, -2.5903e-01, -7.8010e-01,  1.1030e-01, -2.7928e-01],\n",
            "      dtype=float32)), ('book', array([ 0.21621 ,  0.056781,  0.82955 , -0.1424  ,  0.82832 , -0.87341 ,\n",
            "        1.699   , -0.25702 ,  0.65303 , -0.82435 ,  0.26496 ,  0.4612  ,\n",
            "       -4.0463  , -0.044556,  0.15648 , -0.083655,  0.72399 ,  0.20802 ,\n",
            "       -0.27561 , -0.024987, -0.83992 , -0.92536 , -0.95454 ,  0.42348 ,\n",
            "       -0.14709 ], dtype=float32)), ('movie', array([ 0.3569  , -0.24292 ,  1.5525  , -0.40293 ,  0.053246, -0.38882 ,\n",
            "        2.1696  ,  0.54185 ,  0.12384 , -0.88946 , -0.18272 ,  0.64263 ,\n",
            "       -3.8322  ,  0.12828 ,  0.38866 ,  0.9754  ,  0.56106 , -0.048216,\n",
            "       -0.47214 ,  0.58174 , -0.67981 ,  0.26981 , -0.50217 , -0.41104 ,\n",
            "        0.59677 ], dtype=float32)), ('good', array([-0.54403 ,  0.60274 , -0.14543 , -0.023398, -0.13771 ,  0.60137 ,\n",
            "        2.192   ,  0.20804 , -0.51536 , -0.23101 , -0.80387 ,  0.56901 ,\n",
            "       -5.0234  ,  0.26507 ,  0.47891 , -0.59854 ,  0.56132 , -1.0905  ,\n",
            "       -0.52587 ,  0.12506 , -0.22624 ,  0.24529 , -0.45767 ,  0.92619 ,\n",
            "        0.022125], dtype=float32)), ('product', array([ 0.027117,  0.35083 , -1.0022  , -0.42271 ,  1.5923  , -0.018244,\n",
            "        0.35073 , -0.94451 ,  0.89686 , -0.5146  ,  0.96727 ,  0.37354 ,\n",
            "       -3.5125  , -0.36552 ,  0.36877 , -0.16236 ,  0.89165 ,  0.089227,\n",
            "        0.46898 ,  0.36467 , -0.93915 , -1.2832  , -1.0007  ,  0.34401 ,\n",
            "       -0.71511 ], dtype=float32))]\n"
          ]
        }
      ]
    },
    {
      "cell_type": "code",
      "source": [
        "### using ChatGPT for the following clustering steps:"
      ],
      "metadata": {
        "id": "OzbygH5Pm8H4"
      },
      "execution_count": null,
      "outputs": []
    },
    {
      "cell_type": "markdown",
      "source": [
        "## 3) Cluster all the words using dbscan\n",
        "\n",
        "*Import* the necessary libraries:\n"
      ],
      "metadata": {
        "id": "fA-1bGi1pgXK"
      }
    },
    {
      "cell_type": "code",
      "source": [
        "from sklearn.cluster import DBSCAN\n",
        "import numpy as np"
      ],
      "metadata": {
        "id": "38Q1NWE7pi-C"
      },
      "execution_count": null,
      "outputs": []
    },
    {
      "cell_type": "markdown",
      "source": [
        "Extract the embeddings from the embedded_dict and store them in a numpy array:"
      ],
      "metadata": {
        "id": "7gDDX7tUpnby"
      }
    },
    {
      "cell_type": "code",
      "source": [
        "embeddings = np.array(list(embedded_dict.values()))"
      ],
      "metadata": {
        "id": "xnDjo9NZpjAr"
      },
      "execution_count": null,
      "outputs": []
    },
    {
      "cell_type": "markdown",
      "source": [
        "Find the best epsilon using the elbow method"
      ],
      "metadata": {
        "id": "eYVP_oosYeOV"
      }
    },
    {
      "cell_type": "markdown",
      "source": [
        "\"k-distance graph\", and the elbow point in the graph can be used to estimate a reasonable value of eps. The elbow point is the point where the curve changes from steep to shallow."
      ],
      "metadata": {
        "id": "MxGRoHDQrC5W"
      }
    },
    {
      "cell_type": "code",
      "source": [
        "!pip install --upgrade kneed"
      ],
      "metadata": {
        "colab": {
          "base_uri": "https://localhost:8080/"
        },
        "id": "fBIYztH3PZk6",
        "outputId": "743b0801-0c56-40e6-d1bc-ed4c3b12659c"
      },
      "execution_count": null,
      "outputs": [
        {
          "output_type": "stream",
          "name": "stdout",
          "text": [
            "Looking in indexes: https://pypi.org/simple, https://us-python.pkg.dev/colab-wheels/public/simple/\n",
            "Requirement already satisfied: kneed in /usr/local/lib/python3.9/dist-packages (0.8.2)\n",
            "Requirement already satisfied: numpy>=1.14.2 in /usr/local/lib/python3.9/dist-packages (from kneed) (1.22.4)\n",
            "Requirement already satisfied: scipy>=1.0.0 in /usr/local/lib/python3.9/dist-packages (from kneed) (1.10.1)\n"
          ]
        }
      ]
    },
    {
      "cell_type": "code",
      "source": [
        "## CODE USED TO FINED EPS VALUE == NO NEED TO RUN THIS AGAIN\n",
        "if True: \n",
        "    from kneed import KneeLocator\n",
        "    from sklearn.neighbors import NearestNeighbors\n",
        "\n",
        "    # Compute the k-distances for each point\n",
        "    k = 10\n",
        "    neigh = NearestNeighbors(n_neighbors=k)\n",
        "    neigh.fit(embeddings)\n",
        "    distances, indices = neigh.kneighbors(embeddings)\n",
        "\n",
        "    # Sort the distances and flatten them into a 1D array\n",
        "    sorted_distances = np.sort(distances[:,k-1], axis=None)\n",
        "\n",
        "    # Plot the k-distance graph\n",
        "    import matplotlib.pyplot as plt\n",
        "    plt.plot(sorted_distances)\n",
        "    plt.xlable('iteration')\n",
        "    plt.ylabel('epsilon-value')\n",
        "\n",
        "    # Find the elbow point\n",
        "    kneedle = KneeLocator(range(len(sorted_distances)), sorted_distances, S=1.0, curve='concave', direction='increasing')\n",
        "    eps = sorted_distances[kneedle.elbow]\n",
        "\n",
        "    print(f\"Estimated eps value: {eps}\")\n",
        "\n",
        "    first_run=False"
      ],
      "metadata": {
        "colab": {
          "base_uri": "https://localhost:8080/",
          "height": 448
        },
        "id": "EW7LsLXPrCVl",
        "outputId": "55d52db5-f944-4474-a98f-c9527655211d"
      },
      "execution_count": null,
      "outputs": [
        {
          "output_type": "stream",
          "name": "stdout",
          "text": [
            "Estimated eps value: 1.8968880063762676\n"
          ]
        },
        {
          "output_type": "display_data",
          "data": {
            "text/plain": [
              "<Figure size 640x480 with 1 Axes>"
            ],
            "image/png": "[encoded data removed]"
          },
          "metadata": {}
        }
      ]
    },
    {
      "cell_type": "markdown",
      "source": [
        "Initialize the DBSCAN object with the desired parameters:\n"
      ],
      "metadata": {
        "id": "7MINx0wAppRE"
      }
    },
    {
      "cell_type": "code",
      "source": [
        "dbscan = DBSCAN(eps=eps, min_samples=2)  #  Chose 2 a min words per cluster (Maybe according to k)"
      ],
      "metadata": {
        "id": "6b72bnSfpjDB"
      },
      "execution_count": null,
      "outputs": []
    },
    {
      "cell_type": "markdown",
      "source": [
        "Fit the DBSCAN model to the embeddings:\n"
      ],
      "metadata": {
        "id": "E1hhL6NCptRJ"
      }
    },
    {
      "cell_type": "code",
      "source": [
        "dbscan.fit(embeddings)\n"
      ],
      "metadata": {
        "colab": {
          "base_uri": "https://localhost:8080/",
          "height": 74
        },
        "id": "Hy5m9bLXpjFC",
        "outputId": "6fda6be7-c0cc-4ca6-f0ec-6930f1f61976"
      },
      "execution_count": null,
      "outputs": [
        {
          "output_type": "execute_result",
          "data": {
            "text/plain": [
              "DBSCAN(eps=1.8968880063762676, min_samples=2)"
            ],
            "text/html": [
              "<style>#sk-container-id-2 {color: black;background-color: white;}#sk-container-id-2 pre{padding: 0;}#sk-container-id-2 div.sk-toggleable {background-color: white;}#sk-container-id-2 label.sk-toggleable__label {cursor: pointer;display: block;width: 100%;margin-bottom: 0;padding: 0.3em;box-sizing: border-box;text-align: center;}#sk-container-id-2 label.sk-toggleable__label-arrow:before {content: \"▸\";float: left;margin-right: 0.25em;color: #696969;}#sk-container-id-2 label.sk-toggleable__label-arrow:hover:before {color: black;}#sk-container-id-2 div.sk-estimator:hover label.sk-toggleable__label-arrow:before {color: black;}#sk-container-id-2 div.sk-toggleable__content {max-height: 0;max-width: 0;overflow: hidden;text-align: left;background-color: #f0f8ff;}#sk-container-id-2 div.sk-toggleable__content pre {margin: 0.2em;color: black;border-radius: 0.25em;background-color: #f0f8ff;}#sk-container-id-2 input.sk-toggleable__control:checked~div.sk-toggleable__content {max-height: 200px;max-width: 100%;overflow: auto;}#sk-container-id-2 input.sk-toggleable__control:checked~label.sk-toggleable__label-arrow:before {content: \"▾\";}#sk-container-id-2 div.sk-estimator input.sk-toggleable__control:checked~label.sk-toggleable__label {background-color: #d4ebff;}#sk-container-id-2 div.sk-label input.sk-toggleable__control:checked~label.sk-toggleable__label {background-color: #d4ebff;}#sk-container-id-2 input.sk-hidden--visually {border: 0;clip: rect(1px 1px 1px 1px);clip: rect(1px, 1px, 1px, 1px);height: 1px;margin: -1px;overflow: hidden;padding: 0;position: absolute;width: 1px;}#sk-container-id-2 div.sk-estimator {font-family: monospace;background-color: #f0f8ff;border: 1px dotted black;border-radius: 0.25em;box-sizing: border-box;margin-bottom: 0.5em;}#sk-container-id-2 div.sk-estimator:hover {background-color: #d4ebff;}#sk-container-id-2 div.sk-parallel-item::after {content: \"\";width: 100%;border-bottom: 1px solid gray;flex-grow: 1;}#sk-container-id-2 div.sk-label:hover label.sk-toggleable__label {background-color: #d4ebff;}#sk-container-id-2 div.sk-serial::before {content: \"\";position: absolute;border-left: 1px solid gray;box-sizing: border-box;top: 0;bottom: 0;left: 50%;z-index: 0;}#sk-container-id-2 div.sk-serial {display: flex;flex-direction: column;align-items: center;background-color: white;padding-right: 0.2em;padding-left: 0.2em;position: relative;}#sk-container-id-2 div.sk-item {position: relative;z-index: 1;}#sk-container-id-2 div.sk-parallel {display: flex;align-items: stretch;justify-content: center;background-color: white;position: relative;}#sk-container-id-2 div.sk-item::before, #sk-container-id-2 div.sk-parallel-item::before {content: \"\";position: absolute;border-left: 1px solid gray;box-sizing: border-box;top: 0;bottom: 0;left: 50%;z-index: -1;}#sk-container-id-2 div.sk-parallel-item {display: flex;flex-direction: column;z-index: 1;position: relative;background-color: white;}#sk-container-id-2 div.sk-parallel-item:first-child::after {align-self: flex-end;width: 50%;}#sk-container-id-2 div.sk-parallel-item:last-child::after {align-self: flex-start;width: 50%;}#sk-container-id-2 div.sk-parallel-item:only-child::after {width: 0;}#sk-container-id-2 div.sk-dashed-wrapped {border: 1px dashed gray;margin: 0 0.4em 0.5em 0.4em;box-sizing: border-box;padding-bottom: 0.4em;background-color: white;}#sk-container-id-2 div.sk-label label {font-family: monospace;font-weight: bold;display: inline-block;line-height: 1.2em;}#sk-container-id-2 div.sk-label-container {text-align: center;}#sk-container-id-2 div.sk-container {/* jupyter's `normalize.less` sets `[hidden] { display: none; }` but bootstrap.min.css set `[hidden] { display: none !important; }` so we also need the `!important` here to be able to override the default hidden behavior on the sphinx rendered scikit-learn.org. See: https://github.com/scikit-learn/scikit-learn/issues/21755 */display: inline-block !important;position: relative;}#sk-container-id-2 div.sk-text-repr-fallback {display: none;}</style><div id=\"sk-container-id-2\" class=\"sk-top-container\"><div class=\"sk-text-repr-fallback\"><pre>DBSCAN(eps=1.8968880063762676, min_samples=2)</pre><b>In a Jupyter environment, please rerun this cell to show the HTML representation or trust the notebook. <br />On GitHub, the HTML representation is unable to render, please try loading this page with nbviewer.org.</b></div><div class=\"sk-container\" hidden><div class=\"sk-item\"><div class=\"sk-estimator sk-toggleable\"><input class=\"sk-toggleable__control sk-hidden--visually\" id=\"sk-estimator-id-2\" type=\"checkbox\" checked><label for=\"sk-estimator-id-2\" class=\"sk-toggleable__label sk-toggleable__label-arrow\">DBSCAN</label><div class=\"sk-toggleable__content\"><pre>DBSCAN(eps=1.8968880063762676, min_samples=2)</pre></div></div></div></div></div>"
            ]
          },
          "metadata": {},
          "execution_count": 87
        }
      ]
    },
    {
      "cell_type": "markdown",
      "source": [
        "Get the cluster labels assigned by DBSCAN:\n"
      ],
      "metadata": {
        "id": "X-UdJ_y_pxBH"
      }
    },
    {
      "cell_type": "code",
      "source": [
        "labels = dbscan.labels_\n",
        "labels # print matrix of labels"
      ],
      "metadata": {
        "colab": {
          "base_uri": "https://localhost:8080/"
        },
        "id": "oaEp-SMtpy9y",
        "outputId": "ef8674e8-677c-4b9a-e65d-090c0f9ace01"
      },
      "execution_count": null,
      "outputs": [
        {
          "output_type": "execute_result",
          "data": {
            "text/plain": [
              "array([-1,  0,  1, ..., -1, -1, -1])"
            ]
          },
          "metadata": {},
          "execution_count": 88
        }
      ]
    },
    {
      "cell_type": "markdown",
      "source": [
        "Finally, associate the cluster labels with the corresponding keys in the embedded_dict:\n"
      ],
      "metadata": {
        "id": "s4VtseSMp05Q"
      }
    },
    {
      "cell_type": "code",
      "source": [
        "clusters = {}\n",
        "for i, key in enumerate(embedded_dict.keys()):\n",
        "    cluster = labels[i]\n",
        "    if cluster not in clusters:\n",
        "        clusters[cluster] = []\n",
        "    clusters[cluster].append(key)"
      ],
      "metadata": {
        "id": "x5j7HEh1pzAN"
      },
      "execution_count": null,
      "outputs": []
    },
    {
      "cell_type": "markdown",
      "source": [
        "We get many clusters with 2 words which is good for k=2"
      ],
      "metadata": {
        "id": "wxDeaW3Tyc0i"
      }
    },
    {
      "cell_type": "code",
      "source": [
        "for key, val in clusters.items():\n",
        "    print(f'Cluster {key} includes {len(val)} words')"
      ],
      "metadata": {
        "colab": {
          "base_uri": "https://localhost:8080/"
        },
        "id": "2k9YwHzSkuhd",
        "outputId": "553942b7-28a3-4c3c-df4a-2d912395aefe"
      },
      "execution_count": null,
      "outputs": [
        {
          "output_type": "stream",
          "name": "stdout",
          "text": [
            "Cluster -1 includes 1343 words\n",
            "Cluster 0 includes 2 words\n",
            "Cluster 1 includes 5 words\n",
            "Cluster 2 includes 172 words\n",
            "Cluster 3 includes 3 words\n",
            "Cluster 4 includes 2 words\n",
            "Cluster 5 includes 14 words\n",
            "Cluster 6 includes 2 words\n",
            "Cluster 7 includes 3 words\n",
            "Cluster 8 includes 2 words\n",
            "Cluster 9 includes 2 words\n",
            "Cluster 10 includes 2 words\n",
            "Cluster 11 includes 2 words\n",
            "Cluster 12 includes 3 words\n",
            "Cluster 13 includes 2 words\n",
            "Cluster 14 includes 9 words\n",
            "Cluster 15 includes 2 words\n",
            "Cluster 16 includes 2 words\n",
            "Cluster 17 includes 2 words\n",
            "Cluster 18 includes 2 words\n",
            "Cluster 19 includes 2 words\n",
            "Cluster 20 includes 4 words\n",
            "Cluster 21 includes 2 words\n",
            "Cluster 22 includes 3 words\n",
            "Cluster 23 includes 2 words\n",
            "Cluster 24 includes 2 words\n",
            "Cluster 25 includes 2 words\n",
            "Cluster 26 includes 2 words\n",
            "Cluster 27 includes 4 words\n",
            "Cluster 28 includes 2 words\n",
            "Cluster 29 includes 3 words\n",
            "Cluster 30 includes 3 words\n",
            "Cluster 31 includes 4 words\n",
            "Cluster 32 includes 2 words\n",
            "Cluster 33 includes 28 words\n",
            "Cluster 34 includes 2 words\n",
            "Cluster 35 includes 2 words\n",
            "Cluster 36 includes 3 words\n",
            "Cluster 37 includes 2 words\n",
            "Cluster 38 includes 2 words\n",
            "Cluster 39 includes 2 words\n",
            "Cluster 40 includes 2 words\n",
            "Cluster 41 includes 4 words\n",
            "Cluster 42 includes 2 words\n",
            "Cluster 43 includes 3 words\n",
            "Cluster 44 includes 3 words\n",
            "Cluster 45 includes 8 words\n",
            "Cluster 46 includes 2 words\n",
            "Cluster 47 includes 5 words\n",
            "Cluster 48 includes 2 words\n",
            "Cluster 49 includes 2 words\n",
            "Cluster 50 includes 2 words\n",
            "Cluster 51 includes 2 words\n",
            "Cluster 52 includes 3 words\n",
            "Cluster 53 includes 2 words\n",
            "Cluster 54 includes 2 words\n",
            "Cluster 55 includes 2 words\n",
            "Cluster 56 includes 2 words\n",
            "Cluster 57 includes 2 words\n",
            "Cluster 58 includes 3 words\n",
            "Cluster 59 includes 2 words\n",
            "Cluster 60 includes 2 words\n",
            "Cluster 61 includes 2 words\n",
            "Cluster 62 includes 2 words\n",
            "Cluster 63 includes 5 words\n",
            "Cluster 64 includes 2 words\n",
            "Cluster 65 includes 3 words\n",
            "Cluster 66 includes 2 words\n",
            "Cluster 67 includes 3 words\n",
            "Cluster 68 includes 3 words\n",
            "Cluster 69 includes 3 words\n",
            "Cluster 70 includes 3 words\n",
            "Cluster 71 includes 2 words\n",
            "Cluster 72 includes 4 words\n",
            "Cluster 73 includes 2 words\n",
            "Cluster 74 includes 3 words\n",
            "Cluster 75 includes 2 words\n",
            "Cluster 76 includes 2 words\n",
            "Cluster 77 includes 3 words\n",
            "Cluster 78 includes 2 words\n",
            "Cluster 79 includes 2 words\n",
            "Cluster 80 includes 2 words\n",
            "Cluster 81 includes 2 words\n",
            "Cluster 82 includes 2 words\n",
            "Cluster 83 includes 2 words\n",
            "Cluster 84 includes 3 words\n",
            "Cluster 85 includes 2 words\n",
            "Cluster 86 includes 2 words\n",
            "Cluster 87 includes 2 words\n",
            "Cluster 88 includes 2 words\n",
            "Cluster 89 includes 2 words\n",
            "Cluster 90 includes 2 words\n",
            "Cluster 91 includes 2 words\n",
            "Cluster 92 includes 2 words\n",
            "Cluster 93 includes 2 words\n",
            "Cluster 94 includes 2 words\n",
            "Cluster 95 includes 2 words\n",
            "Cluster 96 includes 4 words\n",
            "Cluster 97 includes 2 words\n",
            "Cluster 98 includes 2 words\n",
            "Cluster 99 includes 2 words\n",
            "Cluster 100 includes 2 words\n",
            "Cluster 101 includes 2 words\n",
            "Cluster 102 includes 2 words\n",
            "Cluster 103 includes 2 words\n"
          ]
        }
      ]
    },
    {
      "cell_type": "markdown",
      "source": [
        "**What does it means if the key is -1 ?**  - > NO FRIENDS"
      ],
      "metadata": {
        "id": "famf0XxjlHkx"
      }
    },
    {
      "cell_type": "code",
      "source": [
        "type(clusters)\n"
      ],
      "metadata": {
        "colab": {
          "base_uri": "https://localhost:8080/"
        },
        "id": "-_yx0maJZ51c",
        "outputId": "ff435cc6-73dc-4949-ffc1-564f3bc953a8"
      },
      "execution_count": null,
      "outputs": [
        {
          "output_type": "execute_result",
          "data": {
            "text/plain": [
              "dict"
            ]
          },
          "metadata": {},
          "execution_count": 91
        }
      ]
    },
    {
      "cell_type": "markdown",
      "source": [
        "## 3.5) Calculate average Jaccard distance"
      ],
      "metadata": {
        "id": "eKu3pRYrQ9aC"
      }
    },
    {
      "cell_type": "markdown",
      "source": [
        "### 3.5.1) Create a BoW represntation"
      ],
      "metadata": {
        "id": "9XyzeFmtcNzh"
      }
    },
    {
      "cell_type": "markdown",
      "source": [
        "Lemmatizign"
      ],
      "metadata": {
        "id": "j2zaWNarcWQM"
      }
    },
    {
      "cell_type": "code",
      "source": [
        "# Credit: https://www.kaggle.com/code/pierremegret/gensim-word2vec-tutorial \n",
        "\n",
        "import spacy\n",
        "\n",
        "nlp = spacy.load('en_core_web_sm', disable=['ner', 'parser']) # disabling Named Entity Recognition for speed\n",
        "\n",
        "def cleaning(doc):\n",
        "    # Defining the document\n",
        "    doc = nlp(doc) \n",
        "\n",
        "    # Lemmatizes and removes stopwords\n",
        "    # doc needs to be a spacy Doc object\n",
        "    txt = [token.lemma_ for token in doc if not token.is_stop]\n",
        "    \n",
        "    # Word2Vec uses context words to learn the vector representation of a target word,\n",
        "    # if a sentence is only one or two words long,\n",
        "    # the benefit for the training is very small\n",
        "    #if len(txt) > 2:\n",
        "    #    return ' '.join(txt)\n",
        "    clean_doc = ' '.join(txt)\n",
        "    return clean_doc"
      ],
      "metadata": {
        "id": "_zg30mDacT0z"
      },
      "execution_count": null,
      "outputs": []
    },
    {
      "cell_type": "markdown",
      "source": [
        "Run on corpus"
      ],
      "metadata": {
        "id": "xJ231ILlci7Q"
      }
    },
    {
      "cell_type": "code",
      "source": [
        "import re\n",
        "\n",
        "def clean_corpus(corpus):\n",
        "    \"\"\" Cleans the corpus \"\"\"\n",
        "    brief_cleaning = (re.sub(\"[^A-Za-z']+\", ' ', str(row)).lower() for row in corpus)\n",
        "    corpus_lemmas = [cleaning(doc) for doc in nlp.pipe(brief_cleaning, batch_size=5000)]\n",
        "    return corpus_lemmas"
      ],
      "metadata": {
        "id": "FVTF9tppcv5E"
      },
      "execution_count": null,
      "outputs": []
    },
    {
      "cell_type": "markdown",
      "source": [
        "Vectorizing"
      ],
      "metadata": {
        "id": "j_65-hDxdZ6L"
      }
    },
    {
      "cell_type": "code",
      "source": [
        "############# NOT IN USE ###############\n",
        "\n",
        "from sklearn.feature_extraction.text import CountVectorizer\n",
        "\n",
        "def get_bow(corpus, create_df = False):\n",
        "    \"\"\" Vectorizes the corpus using CountVectorizer \"\"\"\n",
        "\n",
        "    cc = clean_corpus(corpus)\n",
        "\n",
        "    vectorizer = CountVectorizer(ngram_range=(1,1), # to use bigrams ngram_range=(2,2)\n",
        "                              stop_words='english')\n",
        "\n",
        "    count_data = vectorizer.fit_transform(cc)\n",
        "\n",
        "    if create_df:\n",
        "        #create dataframe\n",
        "        bow_dataframe = pd.DataFrame(count_data.toarray(),columns=vectorizer.get_feature_names_out())\n",
        "    else:\n",
        "        bow_dataframe = None\n",
        "    return count_data, bow_dataframe"
      ],
      "metadata": {
        "id": "7AMl7LbKdcA-"
      },
      "execution_count": null,
      "outputs": []
    },
    {
      "cell_type": "markdown",
      "source": [
        "#### Calculate average Jaccard index\n",
        "Done by calculating the Jaccard index of each documents to its k neighbors and averaging the results"
      ],
      "metadata": {
        "id": "q8wtdcI0bnh3"
      }
    },
    {
      "cell_type": "code",
      "source": [
        "def get_average_jaccard(corpus, k=1):\n",
        "    \"\"\" Calculates the avergae Jaccard index by averaging each documents k nearest neighbors \"\"\"\n",
        "\n",
        "    cc = clean_corpus(corpus)\n",
        "\n",
        "    all_neighbors = []\n",
        "    for idx1, doc1 in enumerate(cc):\n",
        "        doc1_neighbors = []\n",
        "        for idx2, doc2 in enumerate(cc):\n",
        "            # Avod repeated comparisons\n",
        "            if idx2 > idx1:\n",
        "                doc1_neighbors.append(jaccard_index(doc1, doc2))\n",
        "        doc1_neighbors.sort(reverse=True)\n",
        "        all_neighbors += doc1_neighbors[:k]\n",
        "    avg = np.average(all_neighbors)\n",
        "    return avg"
      ],
      "metadata": {
        "id": "pXz_JRnFd1VR"
      },
      "execution_count": null,
      "outputs": []
    },
    {
      "cell_type": "code",
      "source": [
        "get_average_jaccard(['I love choclate', 'she loves choclate', 'I love Hummus'])  # testing the function"
      ],
      "metadata": {
        "colab": {
          "base_uri": "https://localhost:8080/"
        },
        "id": "z8LFyUcigRwt",
        "outputId": "643473f8-9f3d-43f3-b5a7-468f6ecd98c8"
      },
      "execution_count": null,
      "outputs": [
        {
          "output_type": "execute_result",
          "data": {
            "text/plain": [
              "0.6666666666666666"
            ]
          },
          "metadata": {},
          "execution_count": 97
        }
      ]
    },
    {
      "cell_type": "markdown",
      "source": [
        "##"
      ],
      "metadata": {
        "id": "EjxHDNQgcUzp"
      }
    },
    {
      "cell_type": "code",
      "source": [],
      "metadata": {
        "id": "jm5nTt8MRGtk"
      },
      "execution_count": null,
      "outputs": []
    },
    {
      "cell_type": "markdown",
      "source": [
        "## 4) Change all words in the Dict to the first word in the clustion (very initial change)"
      ],
      "metadata": {
        "id": "Cet5xrc-YW10"
      }
    },
    {
      "cell_type": "code",
      "source": [
        "# for each cluster take the words in cluster and replace with first word of the cluster list:"
      ],
      "metadata": {
        "id": "1q5sLRslZd7l"
      },
      "execution_count": null,
      "outputs": []
    },
    {
      "cell_type": "code",
      "source": [
        "## create a new colum in the df to contian the anonymized sentences:\n",
        "filtered_df_copy['anon_txt'] = filtered_df_copy['txt']"
      ],
      "metadata": {
        "id": "y6ZluwDLjTmM"
      },
      "execution_count": null,
      "outputs": []
    },
    {
      "cell_type": "code",
      "source": [
        "filtered_df_copy.head()"
      ],
      "metadata": {
        "colab": {
          "base_uri": "https://localhost:8080/",
          "height": 206
        },
        "id": "GLMIeMLbjhyi",
        "outputId": "2dc80724-051e-4c4a-84cc-793cc16bb996"
      },
      "execution_count": null,
      "outputs": [
        {
          "output_type": "execute_result",
          "data": {
            "text/plain": [
              "                                                    txt  sentiment  \\\n",
              "204   haven't found better yet...: this is the only ...          1   \n",
              "446   good value: i love curve and this is a large b...          1   \n",
              "669   janes all the worlds aircraft 1996-7: great to...          1   \n",
              "1806  ninnia: this monitor is great. the service i g...          1   \n",
              "1811  most informative: this is the most informative...          1   \n",
              "\n",
              "      num_of_words                                           anon_txt  \n",
              "204             20  haven't found better yet...: this is the only ...  \n",
              "446             20  good value: i love curve and this is a large b...  \n",
              "669             18  janes all the worlds aircraft 1996-7: great to...  \n",
              "1806            20  ninnia: this monitor is great. the service i g...  \n",
              "1811            20  most informative: this is the most informative...  "
            ],
            "text/html": [
              "\n",
              "  <div id=\"df-794d6767-bce6-48bf-bb15-82ba10787aee\">\n",
              "    <div class=\"colab-df-container\">\n",
              "      <div>\n",
              "<style scoped>\n",
              "    .dataframe tbody tr th:only-of-type {\n",
              "        vertical-align: middle;\n",
              "    }\n",
              "\n",
              "    .dataframe tbody tr th {\n",
              "        vertical-align: top;\n",
              "    }\n",
              "\n",
              "    .dataframe thead th {\n",
              "        text-align: right;\n",
              "    }\n",
              "</style>\n",
              "<table border=\"1\" class=\"dataframe\">\n",
              "  <thead>\n",
              "    <tr style=\"text-align: right;\">\n",
              "      <th></th>\n",
              "      <th>txt</th>\n",
              "      <th>sentiment</th>\n",
              "      <th>num_of_words</th>\n",
              "      <th>anon_txt</th>\n",
              "    </tr>\n",
              "  </thead>\n",
              "  <tbody>\n",
              "    <tr>\n",
              "      <th>204</th>\n",
              "      <td>haven't found better yet...: this is the only ...</td>\n",
              "      <td>1</td>\n",
              "      <td>20</td>\n",
              "      <td>haven't found better yet...: this is the only ...</td>\n",
              "    </tr>\n",
              "    <tr>\n",
              "      <th>446</th>\n",
              "      <td>good value: i love curve and this is a large b...</td>\n",
              "      <td>1</td>\n",
              "      <td>20</td>\n",
              "      <td>good value: i love curve and this is a large b...</td>\n",
              "    </tr>\n",
              "    <tr>\n",
              "      <th>669</th>\n",
              "      <td>janes all the worlds aircraft 1996-7: great to...</td>\n",
              "      <td>1</td>\n",
              "      <td>18</td>\n",
              "      <td>janes all the worlds aircraft 1996-7: great to...</td>\n",
              "    </tr>\n",
              "    <tr>\n",
              "      <th>1806</th>\n",
              "      <td>ninnia: this monitor is great. the service i g...</td>\n",
              "      <td>1</td>\n",
              "      <td>20</td>\n",
              "      <td>ninnia: this monitor is great. the service i g...</td>\n",
              "    </tr>\n",
              "    <tr>\n",
              "      <th>1811</th>\n",
              "      <td>most informative: this is the most informative...</td>\n",
              "      <td>1</td>\n",
              "      <td>20</td>\n",
              "      <td>most informative: this is the most informative...</td>\n",
              "    </tr>\n",
              "  </tbody>\n",
              "</table>\n",
              "</div>\n",
              "      <button class=\"colab-df-convert\" onclick=\"convertToInteractive('df-794d6767-bce6-48bf-bb15-82ba10787aee')\"\n",
              "              title=\"Convert this dataframe to an interactive table.\"\n",
              "              style=\"display:none;\">\n",
              "        \n",
              "  <svg xmlns=\"http://www.w3.org/2000/svg\" height=\"24px\"viewBox=\"0 0 24 24\"\n",
              "       width=\"24px\">\n",
              "    <path d=\"M0 0h24v24H0V0z\" fill=\"none\"/>\n",
              "    <path d=\"M18.56 5.44l.94 2.06.94-2.06 2.06-.94-2.06-.94-.94-2.06-.94 2.06-2.06.94zm-11 1L8.5 8.5l.94-2.06 2.06-.94-2.06-.94L8.5 2.5l-.94 2.06-2.06.94zm10 10l.94 2.06.94-2.06 2.06-.94-2.06-.94-.94-2.06-.94 2.06-2.06.94z\"/><path d=\"M17.41 7.96l-1.37-1.37c-.4-.4-.92-.59-1.43-.59-.52 0-1.04.2-1.43.59L10.3 9.45l-7.72 7.72c-.78.78-.78 2.05 0 2.83L4 21.41c.39.39.9.59 1.41.59.51 0 1.02-.2 1.41-.59l7.78-7.78 2.81-2.81c.8-.78.8-2.07 0-2.86zM5.41 20L4 18.59l7.72-7.72 1.47 1.35L5.41 20z\"/>\n",
              "  </svg>\n",
              "      </button>\n",
              "      \n",
              "  <style>\n",
              "    .colab-df-container {\n",
              "      display:flex;\n",
              "      flex-wrap:wrap;\n",
              "      gap: 12px;\n",
              "    }\n",
              "\n",
              "    .colab-df-convert {\n",
              "      background-color: #E8F0FE;\n",
              "      border: none;\n",
              "      border-radius: 50%;\n",
              "      cursor: pointer;\n",
              "      display: none;\n",
              "      fill: #1967D2;\n",
              "      height: 32px;\n",
              "      padding: 0 0 0 0;\n",
              "      width: 32px;\n",
              "    }\n",
              "\n",
              "    .colab-df-convert:hover {\n",
              "      background-color: #E2EBFA;\n",
              "      box-shadow: 0px 1px 2px rgba(60, 64, 67, 0.3), 0px 1px 3px 1px rgba(60, 64, 67, 0.15);\n",
              "      fill: #174EA6;\n",
              "    }\n",
              "\n",
              "    [theme=dark] .colab-df-convert {\n",
              "      background-color: #3B4455;\n",
              "      fill: #D2E3FC;\n",
              "    }\n",
              "\n",
              "    [theme=dark] .colab-df-convert:hover {\n",
              "      background-color: #434B5C;\n",
              "      box-shadow: 0px 1px 3px 1px rgba(0, 0, 0, 0.15);\n",
              "      filter: drop-shadow(0px 1px 2px rgba(0, 0, 0, 0.3));\n",
              "      fill: #FFFFFF;\n",
              "    }\n",
              "  </style>\n",
              "\n",
              "      <script>\n",
              "        const buttonEl =\n",
              "          document.querySelector('#df-794d6767-bce6-48bf-bb15-82ba10787aee button.colab-df-convert');\n",
              "        buttonEl.style.display =\n",
              "          google.colab.kernel.accessAllowed ? 'block' : 'none';\n",
              "\n",
              "        async function convertToInteractive(key) {\n",
              "          const element = document.querySelector('#df-794d6767-bce6-48bf-bb15-82ba10787aee');\n",
              "          const dataTable =\n",
              "            await google.colab.kernel.invokeFunction('convertToInteractive',\n",
              "                                                     [key], {});\n",
              "          if (!dataTable) return;\n",
              "\n",
              "          const docLinkHtml = 'Like what you see? Visit the ' +\n",
              "            '<a target=\"_blank\" href=https://colab.research.google.com/notebooks/data_table.ipynb>data table notebook</a>'\n",
              "            + ' to learn more about interactive tables.';\n",
              "          element.innerHTML = '';\n",
              "          dataTable['output_type'] = 'display_data';\n",
              "          await google.colab.output.renderOutput(dataTable, element);\n",
              "          const docLink = document.createElement('div');\n",
              "          docLink.innerHTML = docLinkHtml;\n",
              "          element.appendChild(docLink);\n",
              "        }\n",
              "      </script>\n",
              "    </div>\n",
              "  </div>\n",
              "  "
            ]
          },
          "metadata": {},
          "execution_count": 102
        }
      ]
    },
    {
      "cell_type": "code",
      "source": [
        "# for cluster in clusters: # later skip on cluster[-1] - need to add\n",
        "words = clusters[3] # list of words from each cluster\n",
        "\n",
        "for word in words:\n",
        "    word = \" \" + word # add blank space before the word\n",
        "    words_0 = \" \" + word[0] # add blank space before the word\n",
        "    print('words:\\t\\t', words)\n",
        "    print('original word:\\t', word)\n",
        "    print('centroid:\\t\\t', words_0)\n",
        "    #filtered_df_copy['anon_txt'] = filtered_df_copy['txt'].apply(lambda x: x.replace(word, words_0))"
      ],
      "metadata": {
        "colab": {
          "base_uri": "https://localhost:8080/"
        },
        "id": "7NnDLJ_viSoK",
        "outputId": "00feb706-d67a-436f-b113-b17e56fc0328"
      },
      "execution_count": null,
      "outputs": [
        {
          "output_type": "stream",
          "name": "stdout",
          "text": [
            "words:\t\t ['product', 'quality', 'tool']\n",
            "original word:\t  product\n",
            "centroid:\t\t   \n",
            "words:\t\t ['product', 'quality', 'tool']\n",
            "original word:\t  quality\n",
            "centroid:\t\t   \n",
            "words:\t\t ['product', 'quality', 'tool']\n",
            "original word:\t  tool\n",
            "centroid:\t\t   \n"
          ]
        }
      ]
    },
    {
      "cell_type": "markdown",
      "source": [
        "Defininig a function that find the general word using word embedding\n"
      ],
      "metadata": {
        "id": "Q-NlkALidqKQ"
      }
    },
    {
      "cell_type": "code",
      "source": [
        "def get_general_word_from_cluster(word_list, we_model):\n",
        "    \"\"\" Finds the most similar words usind word embedding\"\"\"\n",
        "    glove_words = list(we_model.index_to_key)\n",
        "    known_words = [w for w in word_list if w in glove_words]\n",
        "    if len(known_words) > 0:\n",
        "        we_word = we_model.most_similar(known_words, topn=1)[0][0]\n",
        "    else:\n",
        "        we_word = None\n",
        "    return we_word"
      ],
      "metadata": {
        "id": "fOCJ8PDhf6o8"
      },
      "execution_count": null,
      "outputs": []
    },
    {
      "cell_type": "markdown",
      "source": [
        "## 4.5) Change all words in cluster into a general word"
      ],
      "metadata": {
        "id": "WrXchlM2QsAC"
      }
    },
    {
      "cell_type": "markdown",
      "source": [
        "Replacing the words in the dataframe"
      ],
      "metadata": {
        "id": "0z4B3B5EenCQ"
      }
    },
    {
      "cell_type": "code",
      "source": [
        "all_words = embedded_dict.keys()"
      ],
      "metadata": {
        "id": "_QUe-KnFfZCM"
      },
      "execution_count": null,
      "outputs": []
    },
    {
      "cell_type": "code",
      "source": [
        "# for cluster in clusters: # later skip on cluster[-1] - need to add\n",
        "filtered_df_copy['anon_txt'] = filtered_df_copy['txt']\n",
        "\n",
        "k = 1\n",
        "\n",
        "start_jacc_index = get_average_jaccard(filtered_df_copy['anon_txt'], k=k)\n",
        "print('Starting average Jaccard index:', start_jacc_index)\n",
        "\n",
        "word_rep_len = []\n",
        "jacc_indeces = []\n",
        "i = 0\n",
        "\n",
        "for key, words in clusters.items(): \n",
        "    if key >= 0:  # Ignoring the -1 label\n",
        "        general_word = get_general_word_from_cluster(words, glove_model)\n",
        "        print(i, '\\treplacing', words, 'in', general_word)\n",
        "        for word in words:\n",
        "            filtered_df_copy['anon_txt'] = filtered_df_copy['anon_txt'].apply(lambda x: x.replace(word, general_word))\n",
        "        curr_jacc_index = get_average_jaccard(filtered_df_copy['anon_txt'], k=k)\n",
        "        word_rep_len.append(len(words))\n",
        "        jacc_indeces.append(curr_jacc_index)\n",
        "    i += 1\n",
        "print('Final average Jaccard index:', get_average_jaccard(filtered_df_copy['anon_txt'], k=k))"
      ],
      "metadata": {
        "colab": {
          "base_uri": "https://localhost:8080/"
        },
        "id": "gklsAosBfoCR",
        "outputId": "8e36e9e9-ea0a-413f-a622-21118cf124ff"
      },
      "execution_count": null,
      "outputs": [
        {
          "output_type": "stream",
          "name": "stdout",
          "text": [
            "Starting average Jaccard index: 0.16645809883892929\n",
            "1 \treplacing ['book', 'books'] in script\n",
            "2 \treplacing ['movie', 'songs', 'song', 'lyrics', 'episode'] in movies\n",
            "3 \treplacing ['good', 'time', 'would', 'ever', 'really', 'well', 'like', 'better', 'get', 'much', 'never', 'easy', 'seen', 'exactly', 'many', 'first', 'definitely', 'came', 'bad', 'see', 'thought', 'think', 'every', 'another', 'nothing', 'way', 'make', 'absolutely', 'makes', 'enough', 'always', 'things', 'pretty', 'know', 'though', 'find', 'need', 'wrong', 'look', 'heard', 'made', 'right', 'far', 'could', 'anyone', 'everything', 'today', 'totally', 'yet', 'without', 'got', 'say', 'next', 'second', 'lot', 'old', 'two', 'stupid', 'life', 'early', 'go', 'making', 'missing', 'going', 'something', 'hit', 'rather', 'wonder', 'last', 'years', 'almost', 'thing', 'four', 'times', 'longer', 'doesnt', 'especially', 'night', 'worked', 'day', 'anything', 'still', 'girl', 'otherwise', 'close', 'anybody', 'coming', 'days', 'mostly', 'called', 'left', 'hours', 'unfortunately', 'unless', 'guy', 'dont', 'rush', 'already', 'different', 'happened', 'late', 'finally', 'long', 'trying', 'turns', 'gives', 'run', 'breaks', 'third', 'takes', 'five', 'fourth', 'annoying', 'seeing', 'trust', 'seems', 'six', 'expect', 'goes', 'yes', 'giving', 'cant', 'explain', 'technically', 'sick', 'supposed', 'instead', 'try', 'guess', 'able', 'bring', 'return', 'prepared', 'listen', 'shake', 'year', 'maybe', 'roll', 'moves', 'possibly', 'matter', 'probably', 'twice', 'perhaps', 'away', 'realized', 'crazy', 'self', 'months', 'however', 'hour', 'honestly', 'stand', 'hardly', 'fact', 'kid', 'let', 'seemed', 'actually', 'turn', 'seriously', 'whole', 'ahead', 'forget', 'mean', 'tell', 'dumb', 'wow', 'hear', 'understand', 'besides', 'mind'] in there\n",
            "4 \treplacing ['product', 'quality', 'tool'] in tools\n",
            "5 \treplacing ['buy', 'sell'] in free\n",
            "6 \treplacing ['best', 'awesome', 'fun', 'fantastic', 'amazing', 'enjoy', 'outstanding', 'addition', 'brilliant', 'superb', 'terrific', 'exceptional', 'stellar', 'incredible'] in great\n",
            "7 \treplacing ['read', 'write'] in answer\n",
            "8 \treplacing ['wonderful', 'fabulous', 'lovely'] in beautiful\n",
            "9 \treplacing ['dvd', 'cd'] in hd\n",
            "10 \treplacing ['story', 'part'] in secret\n",
            "11 \treplacing ['seller', 'recommended'] in product\n",
            "12 \treplacing ['reading', 'writing'] in write\n",
            "13 \treplacing ['waste', 'problems', 'struggle'] in unless\n",
            "14 \treplacing ['worst', 'worse'] in crap\n",
            "15 \treplacing ['purchase', 'discount', 'maker', 'selection', 'card', 'deals', 'machine', 'sample', 'package'] in includes\n",
            "16 \treplacing ['described', 'stated'] in spoke\n",
            "17 \treplacing ['thank', 'thanks'] in welcome\n",
            "18 \treplacing ['timely', 'prompt'] in in-depth\n",
            "19 \treplacing ['favorite', 'favourite'] in fave\n",
            "20 \treplacing ['enjoyed', 'enjoying'] in wishing\n",
            "21 \treplacing ['pleased', 'disappointed', 'shocked', 'impressed'] in surprised\n",
            "22 \treplacing ['work', 'working'] in doing\n",
            "23 \treplacing ['found', 'brought', 'gave'] in took\n",
            "24 \treplacing ['informative', 'insightful'] in thought-provoking\n",
            "25 \treplacing ['quickly', 'faster'] in easier\n",
            "26 \treplacing ['horrible', 'terrible'] in cruel\n",
            "27 \treplacing ['looks', 'looked'] in turned\n",
            "28 \treplacing ['interested', 'involved', 'personally', 'consider'] in helped\n",
            "29 \treplacing ['stay', 'keep'] in always\n",
            "30 \treplacing ['friends', 'guys', 'family'] in all\n",
            "31 \treplacing ['shoes', 'shirts', 'pair'] in boots\n",
            "32 \treplacing ['customer', 'management', 'client', 'development'] in services\n",
            "33 \treplacing ['useful', 'helpful'] in examples\n",
            "34 \treplacing ['ray', 'michael', 'joseph', 'turner', 'clay', 'mark', 'andy', 'jackson', 'steve', 'mcqueen', 'james', 'smith', 'christopher', 'meyers', 'andrews', 'elvis', 'moore', 'hudson', 'billy', 'roberts', 'troy', 'george', 'blake', 'jack', 'nicholson', 'hardy', 'davis', 'king'] in bruce\n",
            "35 \treplacing ['recipes', 'recipe'] in vegan\n",
            "36 \treplacing ['page', 'post'] in check\n",
            "37 \treplacing ['trash', 'garbage', 'dirty'] in ass\n",
            "38 \treplacing ['said', 'told'] in asked\n",
            "39 \treplacing ['screen', 'camera'] in keyboard\n",
            "40 \treplacing ['excellant', 'exellent'] in brillaint\n",
            "41 \treplacing ['several', 'multiple'] in numerous\n",
            "42 \treplacing ['parts', 'connection', 'lines', 'space'] in duty\n",
            "43 \treplacing ['buying', 'selling'] in sell\n",
            "44 \treplacing ['plain', 'thin', 'soft'] in skin\n",
            "45 \treplacing ['artist', 'hero', 'singer'] in superstar\n",
            "46 \treplacing ['black', 'white', 'orange', 'red', 'blue', 'green', 'purple', 'pink'] in yellow\n",
            "47 \treplacing ['refund', 'deposit'] in payment\n",
            "48 \treplacing ['clear', 'speed', 'edge', 'heavy', 'wide'] in light\n",
            "49 \treplacing ['unrealistic', 'realistic'] in insignificant\n",
            "50 \treplacing ['dancing', 'singing'] in watching\n",
            "51 \treplacing ['awful', 'ridiculous'] in crap\n",
            "52 \treplacing ['reference', 'script'] in feature\n",
            "53 \treplacing ['potter', 'batman', 'hobbit'] in thor\n",
            "54 \treplacing ['letting', 'wanting'] in trying\n",
            "55 \treplacing ['aerosmith', 'nirvana'] in metallica\n",
            "56 \treplacing ['slow', 'serious'] in mess\n",
            "57 \treplacing ['bag', 'glasses'] in shoes\n",
            "58 \treplacing ['stop', 'quit'] in talk\n",
            "59 \treplacing ['plug', 'chain', 'pocket'] in wheel\n",
            "60 \treplacing ['exception', 'awesomeness'] in perspective\n",
            "61 \treplacing ['sister', 'friend'] in mom\n",
            "62 \treplacing ['soccer', 'football'] in basketball\n",
            "63 \treplacing ['r', 'f'] in b\n",
            "64 \treplacing ['loose', 'bottom', 'head', 'cut', 'eye'] in hands\n",
            "65 \treplacing ['hardcover', 'paperback'] in excerpt\n",
            "66 \treplacing ['implausible', 'disappointingly', 'contrived'] in bewildering\n",
            "67 \treplacing ['jennifer', 'emma'] in danielle\n",
            "68 \treplacing ['age', 'human', 'common'] in example\n",
            "69 \treplacing ['performance', 'fantasy', 'ultimate'] in epic\n",
            "70 \treplacing ['disappointing', 'unbelievable', 'unreal'] in awful\n",
            "71 \treplacing ['cross', 'steal', 'carry'] in stick\n",
            "72 \treplacing ['returned', 'placed'] in reached\n",
            "73 \treplacing ['clockwork', 'moby', 'melodies', 'pulp'] in voodoo\n",
            "74 \treplacing ['fair', 'course'] in today\n",
            "75 \treplacing ['husband', 'daughter', 'wife'] in father\n",
            "76 \treplacing ['bits', 'pieces'] in filled\n",
            "77 \treplacing ['comedy', 'comic'] in movie\n",
            "78 \treplacing ['extremely', 'amazingly', 'incredibly'] in insanely\n",
            "79 \treplacing ['point', 'end'] in long\n",
            "80 \treplacing ['resource', 'educational'] in resources\n",
            "81 \treplacing ['features', 'graphic'] in feature\n",
            "82 \treplacing ['kept', 'keeps'] in stopped\n",
            "83 \treplacing ['liking', 'everyones'] in tweeting\n",
            "84 \treplacing ['authors', 'writers'] in readers\n",
            "85 \treplacing ['provided', 'included', 'listed'] in offers\n",
            "86 \treplacing ['belongs', 'belong'] in 'cause\n",
            "87 \treplacing ['everytime', 'knock'] in somebody\n",
            "88 \treplacing ['ncis', 'anarchy'] in grimm\n",
            "89 \treplacing ['child', 'woman'] in mother\n",
            "90 \treplacing ['hollywood', 'urban'] in american\n",
            "91 \treplacing ['chiefs', 'eagles'] in raiders\n",
            "92 \treplacing ['showed', 'fault'] in knew\n",
            "93 \treplacing ['julie', 'sarah'] in anna\n",
            "94 \treplacing ['fili', 'kili'] in potpot\n",
            "95 \treplacing ['bombur', 'eowyn'] in bofur\n",
            "96 \treplacing ['jacket', 'coat'] in tank\n",
            "97 \treplacing ['definitly', 'defenetly', 'defently', 'defenitely'] in defenitly\n",
            "98 \treplacing ['disappoint', 'sooner'] in happen\n",
            "99 \treplacing ['battle', 'action'] in challenge\n",
            "100 \treplacing ['glenn', 'patrick'] in dean\n",
            "101 \treplacing ['button', 'touch'] in screen\n",
            "102 \treplacing ['north', 'south'] in east\n",
            "103 \treplacing ['particularly', 'fairly'] in somewhat\n",
            "104 \treplacing ['hello', 'welcome'] in thanks\n",
            "Final average Jaccard index: 0.2332433732748983\n"
          ]
        }
      ]
    },
    {
      "cell_type": "code",
      "source": [
        "# this plot shows how the Jaccard index changes after each cluster was updated in the corpus.\n",
        "# but why there are drops in the Jaccard? maybe the \"partenrs\" were changed in each iteration\n",
        "plt.plot(jacc_indeces)\n",
        "plt.xlabel('Iteration')\n",
        "plt.ylabel('Average Jaccard index');"
      ],
      "metadata": {
        "colab": {
          "base_uri": "https://localhost:8080/",
          "height": 449
        },
        "id": "_sLVURpCj8EM",
        "outputId": "63de6df8-9de7-4784-9fb1-b8cbf35615a2"
      },
      "execution_count": null,
      "outputs": [
        {
          "output_type": "display_data",
          "data": {
            "text/plain": [
              "<Figure size 640x480 with 1 Axes>"
            ],
            "image/png": "[encoded data removed]"
          },
          "metadata": {}
        }
      ]
    },
    {
      "cell_type": "code",
      "source": [
        "jacc_indeces[60:70]"
      ],
      "metadata": {
        "colab": {
          "base_uri": "https://localhost:8080/"
        },
        "id": "zKsWui-2tbL-",
        "outputId": "038c7e1a-e983-4da2-ef10-5b4efd359206"
      },
      "execution_count": null,
      "outputs": [
        {
          "output_type": "execute_result",
          "data": {
            "text/plain": [
              "[0.1888145944257966,\n",
              " 0.1888145944257966,\n",
              " 0.2332922208631538,\n",
              " 0.23311066676003112,\n",
              " 0.23311066676003112,\n",
              " 0.23311066676003112,\n",
              " 0.23311066676003112,\n",
              " 0.23311066676003112,\n",
              " 0.23311066676003112,\n",
              " 0.23311066676003112]"
            ]
          },
          "metadata": {},
          "execution_count": 147
        }
      ]
    },
    {
      "cell_type": "code",
      "source": [
        "filtered_df_copy.head()  #sanity check - how the sentences changed after the switching"
      ],
      "metadata": {
        "colab": {
          "base_uri": "https://localhost:8080/",
          "height": 206
        },
        "id": "YV7NwhTCjpjU",
        "outputId": "6deb2f53-8e33-4908-e6b6-d3c13effafa9"
      },
      "execution_count": null,
      "outputs": [
        {
          "output_type": "execute_result",
          "data": {
            "text/plain": [
              "                                                    txt  sentiment  \\\n",
              "204   haven't found better yet...: this is the only ...          1   \n",
              "446   good value: i love curve and this is a large b...          1   \n",
              "669   janes all the worlds aircraft 1996-7: great to...          1   \n",
              "1806  ninnia: this monitor is great. the service i g...          1   \n",
              "1811  most informative: this is the most informative...          1   \n",
              "\n",
              "      num_of_words                                           anon_txt  \n",
              "204             20  haven't took thebe thebe...: this is the only ...  \n",
              "446             20  thebe value: i love cubve and this is a labge ...  \n",
              "669             18  janes all the woblds aibcbabt 1996-7: gbeat to...  \n",
              "1806            20  ninnia: this monitob is gbeat. the sebvice i t...  \n",
              "1811            20  most thought-pbovobbuce: this is the most thou...  "
            ],
            "text/html": [
              "\n",
              "  <div id=\"df-4b83bc98-d6f4-43fd-893c-d12f27c4e64f\">\n",
              "    <div class=\"colab-df-container\">\n",
              "      <div>\n",
              "<style scoped>\n",
              "    .dataframe tbody tr th:only-of-type {\n",
              "        vertical-align: middle;\n",
              "    }\n",
              "\n",
              "    .dataframe tbody tr th {\n",
              "        vertical-align: top;\n",
              "    }\n",
              "\n",
              "    .dataframe thead th {\n",
              "        text-align: right;\n",
              "    }\n",
              "</style>\n",
              "<table border=\"1\" class=\"dataframe\">\n",
              "  <thead>\n",
              "    <tr style=\"text-align: right;\">\n",
              "      <th></th>\n",
              "      <th>txt</th>\n",
              "      <th>sentiment</th>\n",
              "      <th>num_of_words</th>\n",
              "      <th>anon_txt</th>\n",
              "    </tr>\n",
              "  </thead>\n",
              "  <tbody>\n",
              "    <tr>\n",
              "      <th>204</th>\n",
              "      <td>haven't found better yet...: this is the only ...</td>\n",
              "      <td>1</td>\n",
              "      <td>20</td>\n",
              "      <td>haven't took thebe thebe...: this is the only ...</td>\n",
              "    </tr>\n",
              "    <tr>\n",
              "      <th>446</th>\n",
              "      <td>good value: i love curve and this is a large b...</td>\n",
              "      <td>1</td>\n",
              "      <td>20</td>\n",
              "      <td>thebe value: i love cubve and this is a labge ...</td>\n",
              "    </tr>\n",
              "    <tr>\n",
              "      <th>669</th>\n",
              "      <td>janes all the worlds aircraft 1996-7: great to...</td>\n",
              "      <td>1</td>\n",
              "      <td>18</td>\n",
              "      <td>janes all the woblds aibcbabt 1996-7: gbeat to...</td>\n",
              "    </tr>\n",
              "    <tr>\n",
              "      <th>1806</th>\n",
              "      <td>ninnia: this monitor is great. the service i g...</td>\n",
              "      <td>1</td>\n",
              "      <td>20</td>\n",
              "      <td>ninnia: this monitob is gbeat. the sebvice i t...</td>\n",
              "    </tr>\n",
              "    <tr>\n",
              "      <th>1811</th>\n",
              "      <td>most informative: this is the most informative...</td>\n",
              "      <td>1</td>\n",
              "      <td>20</td>\n",
              "      <td>most thought-pbovobbuce: this is the most thou...</td>\n",
              "    </tr>\n",
              "  </tbody>\n",
              "</table>\n",
              "</div>\n",
              "      <button class=\"colab-df-convert\" onclick=\"convertToInteractive('df-4b83bc98-d6f4-43fd-893c-d12f27c4e64f')\"\n",
              "              title=\"Convert this dataframe to an interactive table.\"\n",
              "              style=\"display:none;\">\n",
              "        \n",
              "  <svg xmlns=\"http://www.w3.org/2000/svg\" height=\"24px\"viewBox=\"0 0 24 24\"\n",
              "       width=\"24px\">\n",
              "    <path d=\"M0 0h24v24H0V0z\" fill=\"none\"/>\n",
              "    <path d=\"M18.56 5.44l.94 2.06.94-2.06 2.06-.94-2.06-.94-.94-2.06-.94 2.06-2.06.94zm-11 1L8.5 8.5l.94-2.06 2.06-.94-2.06-.94L8.5 2.5l-.94 2.06-2.06.94zm10 10l.94 2.06.94-2.06 2.06-.94-2.06-.94-.94-2.06-.94 2.06-2.06.94z\"/><path d=\"M17.41 7.96l-1.37-1.37c-.4-.4-.92-.59-1.43-.59-.52 0-1.04.2-1.43.59L10.3 9.45l-7.72 7.72c-.78.78-.78 2.05 0 2.83L4 21.41c.39.39.9.59 1.41.59.51 0 1.02-.2 1.41-.59l7.78-7.78 2.81-2.81c.8-.78.8-2.07 0-2.86zM5.41 20L4 18.59l7.72-7.72 1.47 1.35L5.41 20z\"/>\n",
              "  </svg>\n",
              "      </button>\n",
              "      \n",
              "  <style>\n",
              "    .colab-df-container {\n",
              "      display:flex;\n",
              "      flex-wrap:wrap;\n",
              "      gap: 12px;\n",
              "    }\n",
              "\n",
              "    .colab-df-convert {\n",
              "      background-color: #E8F0FE;\n",
              "      border: none;\n",
              "      border-radius: 50%;\n",
              "      cursor: pointer;\n",
              "      display: none;\n",
              "      fill: #1967D2;\n",
              "      height: 32px;\n",
              "      padding: 0 0 0 0;\n",
              "      width: 32px;\n",
              "    }\n",
              "\n",
              "    .colab-df-convert:hover {\n",
              "      background-color: #E2EBFA;\n",
              "      box-shadow: 0px 1px 2px rgba(60, 64, 67, 0.3), 0px 1px 3px 1px rgba(60, 64, 67, 0.15);\n",
              "      fill: #174EA6;\n",
              "    }\n",
              "\n",
              "    [theme=dark] .colab-df-convert {\n",
              "      background-color: #3B4455;\n",
              "      fill: #D2E3FC;\n",
              "    }\n",
              "\n",
              "    [theme=dark] .colab-df-convert:hover {\n",
              "      background-color: #434B5C;\n",
              "      box-shadow: 0px 1px 3px 1px rgba(0, 0, 0, 0.15);\n",
              "      filter: drop-shadow(0px 1px 2px rgba(0, 0, 0, 0.3));\n",
              "      fill: #FFFFFF;\n",
              "    }\n",
              "  </style>\n",
              "\n",
              "      <script>\n",
              "        const buttonEl =\n",
              "          document.querySelector('#df-4b83bc98-d6f4-43fd-893c-d12f27c4e64f button.colab-df-convert');\n",
              "        buttonEl.style.display =\n",
              "          google.colab.kernel.accessAllowed ? 'block' : 'none';\n",
              "\n",
              "        async function convertToInteractive(key) {\n",
              "          const element = document.querySelector('#df-4b83bc98-d6f4-43fd-893c-d12f27c4e64f');\n",
              "          const dataTable =\n",
              "            await google.colab.kernel.invokeFunction('convertToInteractive',\n",
              "                                                     [key], {});\n",
              "          if (!dataTable) return;\n",
              "\n",
              "          const docLinkHtml = 'Like what you see? Visit the ' +\n",
              "            '<a target=\"_blank\" href=https://colab.research.google.com/notebooks/data_table.ipynb>data table notebook</a>'\n",
              "            + ' to learn more about interactive tables.';\n",
              "          element.innerHTML = '';\n",
              "          dataTable['output_type'] = 'display_data';\n",
              "          await google.colab.output.renderOutput(dataTable, element);\n",
              "          const docLink = document.createElement('div');\n",
              "          docLink.innerHTML = docLinkHtml;\n",
              "          element.appendChild(docLink);\n",
              "        }\n",
              "      </script>\n",
              "    </div>\n",
              "  </div>\n",
              "  "
            ]
          },
          "metadata": {},
          "execution_count": 145
        }
      ]
    },
    {
      "cell_type": "markdown",
      "source": [
        "### 4.5.1) Check anonymity"
      ],
      "metadata": {
        "id": "ZWZn1DvfYdXQ"
      }
    },
    {
      "cell_type": "code",
      "source": [
        "# CountVectorizer is defined only once\n",
        "vectorizer = CountVectorizer(ngram_range=(1,1), # to use bigrams ngram_range=(2,2)\n",
        "                           stop_words='english')\n",
        "\n",
        "def get_pesonal_docs(docs, min_k = None):\n",
        "    \"\"\" If K not given, returns the minimal current k and the corresponding documents.\n",
        "        If k is given, return the documents with k or less neighbohrs  \"\"\"\n",
        "    \n",
        "    # Lemmatizing the documents\n",
        "    ldocs = clean_corpus(docs)\n",
        "\n",
        "    # Vectorizing\n",
        "    count_data = vectorizer.fit_transform(ldocs)\n",
        "    \n",
        "    # Counting unique values\n",
        "    uniq_arr, uniq_cnt = np.unique(count_data.toarray(), axis=0, return_counts=True)\n",
        "    if not min_k:\n",
        "        min_k = min(uniq_cnt)\n",
        "    \n",
        "    # All the unique vectors\n",
        "    un_anon = uniq_arr[uniq_cnt <= min_k]\n",
        "\n",
        "    # Getting the unique vectore indeces\n",
        "    indeces_list = []\n",
        "    for row in un_anon:\n",
        "        # Get the similar rows\n",
        "        similar_vals = np.where((count_data.toarray() == (row)).all(axis=1))\n",
        "        indeces_list.append(similar_vals[0].tolist())\n",
        "\n",
        "    return min_k, indeces_list"
      ],
      "metadata": {
        "id": "41O1cyQrYbtl"
      },
      "execution_count": null,
      "outputs": []
    },
    {
      "cell_type": "code",
      "source": [
        "get_pesonal_docs(['I love choclate' , 'she loves choclate', 'we love Bamba', 'Bamba we love', 'Hummus'])"
      ],
      "metadata": {
        "colab": {
          "base_uri": "https://localhost:8080/"
        },
        "id": "IL7SwHnRfRuw",
        "outputId": "64787fb4-9d1d-4a3e-ed71-87130bfa42d1"
      },
      "execution_count": null,
      "outputs": [
        {
          "output_type": "execute_result",
          "data": {
            "text/plain": [
              "(1, [[4]])"
            ]
          },
          "metadata": {},
          "execution_count": 112
        }
      ]
    },
    {
      "cell_type": "code",
      "source": [
        "min_k, indeces_list = get_pesonal_docs(filtered_df_copy['anon_txt'])\n",
        "print('min k:', min_k)\n",
        "print('indices list:', indeces_list[:10])"
      ],
      "metadata": {
        "colab": {
          "base_uri": "https://localhost:8080/"
        },
        "id": "GOS_75dBY30i",
        "outputId": "cfd8ec85-3737-4721-e36e-f57d502124ee"
      },
      "execution_count": null,
      "outputs": [
        {
          "output_type": "stream",
          "name": "stdout",
          "text": [
            "min k: 1\n",
            "indices list: [[332], [110], [133], [300], [0], [217], [393], [437], [68], [318]]\n"
          ]
        }
      ]
    },
    {
      "cell_type": "code",
      "source": [
        "!find / -name \"End2End*\" -ls\n"
      ],
      "metadata": {
        "colab": {
          "base_uri": "https://localhost:8080/"
        },
        "id": "yJGYOKqxbTKW",
        "outputId": "5197d781-7cc8-40f4-f336-e4a322e2b2e2"
      },
      "execution_count": null,
      "outputs": [
        {
          "output_type": "stream",
          "name": "stdout",
          "text": [
            "find: ‘/proc/60/task/60/net’: Invalid argument\n",
            "find: ‘/proc/60/net’: Invalid argument\n",
            "find: ‘/proc/566/task/566/net’: Invalid argument\n",
            "find: ‘/proc/566/net’: Invalid argument\n",
            "     1200    261 -rw-------   1 root     root       266803 Mar 29 18:37 /content/drive/MyDrive/Y-data/Intuit-K-anonimity/Jupyter_Notebooks/End2End_Yair_POC_v5.ipynb\n"
          ]
        }
      ]
    },
    {
      "cell_type": "markdown",
      "source": [
        "# -----------------------------------------------------------------------"
      ],
      "metadata": {
        "id": "lCDVbH7IqMZK"
      }
    },
    {
      "cell_type": "code",
      "source": [
        "!git"
      ],
      "metadata": {
        "colab": {
          "base_uri": "https://localhost:8080/"
        },
        "id": "gU7c-P04cDKf",
        "outputId": "58919c4c-f7d5-4a53-99fd-cefefcac63fc"
      },
      "execution_count": null,
      "outputs": [
        {
          "output_type": "stream",
          "name": "stdout",
          "text": [
            "usage: git [--version] [--help] [-C <path>] [-c <name>=<value>]\n",
            "           [--exec-path[=<path>]] [--html-path] [--man-path] [--info-path]\n",
            "           [-p | --paginate | -P | --no-pager] [--no-replace-objects] [--bare]\n",
            "           [--git-dir=<path>] [--work-tree=<path>] [--namespace=<name>]\n",
            "           <command> [<args>]\n",
            "\n",
            "These are common Git commands used in various situations:\n",
            "\n",
            "start a working area (see also: git help tutorial)\n",
            "   clone             Clone a repository into a new directory\n",
            "   init              Create an empty Git repository or reinitialize an existing one\n",
            "\n",
            "work on the current change (see also: git help everyday)\n",
            "   add               Add file contents to the index\n",
            "   mv                Move or rename a file, a directory, or a symlink\n",
            "   restore           Restore working tree files\n",
            "   rm                Remove files from the working tree and from the index\n",
            "   sparse-checkout   Initialize and modify the sparse-checkout\n",
            "\n",
            "examine the history and state (see also: git help revisions)\n",
            "   bisect            Use binary search to find the commit that introduced a bug\n",
            "   diff              Show changes between commits, commit and working tree, etc\n",
            "   grep              Print lines matching a pattern\n",
            "   log               Show commit logs\n",
            "   show              Show various types of objects\n",
            "   status            Show the working tree status\n",
            "\n",
            "grow, mark and tweak your common history\n",
            "   branch            List, create, or delete branches\n",
            "   commit            Record changes to the repository\n",
            "   merge             Join two or more development histories together\n",
            "   rebase            Reapply commits on top of another base tip\n",
            "   reset             Reset current HEAD to the specified state\n",
            "   switch            Switch branches\n",
            "   tag               Create, list, delete or verify a tag object signed with GPG\n",
            "\n",
            "collaborate (see also: git help workflows)\n",
            "   fetch             Download objects and refs from another repository\n",
            "   pull              Fetch from and integrate with another repository or a local branch\n",
            "   push              Update remote refs along with associated objects\n",
            "\n",
            "'git help -a' and 'git help -g' list available subcommands and some\n",
            "concept guides. See 'git help <command>' or 'git help <concept>'\n",
            "to read about a specific subcommand or concept.\n",
            "See 'git help git' for an overview of the system.\n"
          ]
        }
      ]
    },
    {
      "cell_type": "code",
      "source": [
        "### NEED TO CHECK THIS\n",
        "words = ['i', 'great', 'in', 'condition', 'very', 'arrived', 'a', 'for', 'ever', 'excellent', 'to', 'time', 'best', 'recommend', 'movie', 'as', 'seller', 'on', 'my', 'order', 'described', 'perfect', 'easy', 'price', 'promised', 'buy', 'them', 'read', 'wonderful', 'poor', 'service', 'fast', 'ordered', 'even', 'by', 'works', 'needed', 'at', 'expected', 'scanner', 'delivery', 'love', 'chocolate', 'bar', 'far', 'favorite', 'interesting', 'highly', 'install', 'so', 'tragedy', 'customer', 'r', 'album', 'found', 'seat', 'covers', 'started', 'loose', 'seams', 'immediately', 'putting', 'seats', 'looking', 'small', 'useful', 'do', 'business', 'greatest', 'pay', 'manner', 'fantastic', 'rush', 'advertised', 'packaging', 'terrible', 'horror', 'class', 'monitor', 'recent', 'appropriate', 'we', 'live', 'fashion', 'near', 'film', 'absorbing', 'hypnotising', 'single', 'recieved', 'eaten', 'yum', 'masterpiece', 'recipes', 'follow', 'cake', 'bible', 'companion', 'most', 'higly', 'clay', 'aiken', 'ears', 'documentary', 'documentation', 'peoples', 'temple', 'jonestown', 'shipment', 'source', 'nuff', 'said', 'traveller', 'beautiful', 'cover', 'designs', 'deal', 'teacher', 'these', 'students', 'spoke', 'directly', 'situation', 'presentation', 'compaired', 'stage', 'performance', 'which', 'cb', 'radio', 'spaces', 'conditions', 'phrases', 'concise', 'accurately', 'translate', 'stop', 'playing', 'tugs', 'emotion', 'funny', 'technical', 'information', 'future', 'items', 'julie', 'julia', 'thin', 'towels', 'camping', 'pool', 'etc', 'appreciated', 'work', 'daycare', 'children', 'enjoyed', 'eragon', 'paolini', 'item', 'use', 'story', 'biography', 'packaged', 'no', 'complaints', 'transaction', 'edinburgh', 'lectures', 'obtain', 'happy', 'santa', 'fuzzy', 'classic', 'print', 'purchasing', 'below', 'stores', 'review', 'wash', 'publication', 'zero', 'reprint', 'original', 'outstanding', 'footage', 'anytime', 'over', 'rated', 'finally', 'watched', 'acting', 'plot', 'rediculous', 'sooner', 'estimated', 'silly', 'boring', 'juvenile', 'hase', 'flick', 'budget', 'fan', 'tao', 'pooh', 'period', 'shape', 'job', 'statistics', 'response', 'turn', 'around', 'discount', 'early', 'semester', 'professional', 'fulfillment', 'parameters', 'disc', 'set', 'anticipated', 'concept', 'mint', 'bargain', 'decent', 'sound', 'friends', 'music', 'cutest', 'reccord', 'done', 'received', 'ahead', 'schedule', 'disgusting', 'shakespeare', 'may', 'genius', 'cmon', 'worst', 'reading', 'material', 'exact', 'listed', 'experience', 'sharpest', 'user', 'friendly', 'fastest', 'flat', 'bed', 'used', 'high', 'nicer']\n",
        "\n",
        "for word in words:\n",
        "        filtered_df['anon_txt'] = filtered_df['txt'].apply(lambda x: x.replace(word, \"i\"))\n",
        "\n"
      ],
      "metadata": {
        "colab": {
          "base_uri": "https://localhost:8080/"
        },
        "id": "k3dr5Umilb6r",
        "outputId": "5be5a0db-de03-4161-f39f-5c15cbc89446"
      },
      "execution_count": null,
      "outputs": [
        {
          "output_type": "stream",
          "name": "stderr",
          "text": [
            "<ipython-input-116-4ff550a0a811>:5: SettingWithCopyWarning: \n",
            "A value is trying to be set on a copy of a slice from a DataFrame.\n",
            "Try using .loc[row_indexer,col_indexer] = value instead\n",
            "\n",
            "See the caveats in the documentation: https://pandas.pydata.org/pandas-docs/stable/user_guide/indexing.html#returning-a-view-versus-a-copy\n",
            "  filtered_df['anon_txt'] = filtered_df['txt'].apply(lambda x: x.replace(word, \"i\"))\n"
          ]
        }
      ]
    },
    {
      "cell_type": "code",
      "source": [
        "### NEED TO CHECK THIS\n",
        "words = ['this', 'it', 'would', 'good', 'you', 'again', 'have', 'what', 'one', 'exactly', 'well', 'than', 'if', 'like', 'anyone', 'any', 'just', 'not', 'get', 'but', 'will', 'really', 'coming', 'got', 'when', 'came', 'completely', 'definitely', 'another', 'does', 'about', 'must', 'seems', 'all', 'every', 'unless', 'better', 'still', 'before', 'much', 'out', 'rather', 'totally', 'everything', 'that', 'they', 'be', 'right', 'then']\n",
        "\n",
        "\n",
        "for word in words:\n",
        "        filtered_df['anon_txt'] = filtered_df['txt'].apply(lambda x: x.replace(word, \"this\"))"
      ],
      "metadata": {
        "colab": {
          "base_uri": "https://localhost:8080/"
        },
        "id": "6ahnN4eAlmZS",
        "outputId": "19a48c25-247e-4d0e-861e-8f211b647f89"
      },
      "execution_count": null,
      "outputs": [
        {
          "output_type": "stream",
          "name": "stderr",
          "text": [
            "<ipython-input-117-024ebf3a37bb>:6: SettingWithCopyWarning: \n",
            "A value is trying to be set on a copy of a slice from a DataFrame.\n",
            "Try using .loc[row_indexer,col_indexer] = value instead\n",
            "\n",
            "See the caveats in the documentation: https://pandas.pydata.org/pandas-docs/stable/user_guide/indexing.html#returning-a-view-versus-a-copy\n",
            "  filtered_df['anon_txt'] = filtered_df['txt'].apply(lambda x: x.replace(word, \"this\"))\n"
          ]
        }
      ]
    },
    {
      "cell_type": "code",
      "source": [
        "### NEED TO CHECK THIS #####\n",
        "\n",
        "for cluster in clusters: # later skip on cluster[-1]\n",
        "    for word in clusters[cluster]:\n",
        "      filtered_df['anon_txt'] = filtered_df['txt'].apply(lambda x: x.replace(word, clusters[cluster][0]))\n",
        "      #print(word)\n",
        "      #print(clusters[cluster][0])"
      ],
      "metadata": {
        "colab": {
          "base_uri": "https://localhost:8080/"
        },
        "id": "mnAA14OMZkJg",
        "outputId": "e5d14637-baf3-4ea9-d995-b6f004de11d1"
      },
      "execution_count": null,
      "outputs": [
        {
          "output_type": "stream",
          "name": "stderr",
          "text": [
            "<ipython-input-118-c4649c6cc468>:5: SettingWithCopyWarning: \n",
            "A value is trying to be set on a copy of a slice from a DataFrame.\n",
            "Try using .loc[row_indexer,col_indexer] = value instead\n",
            "\n",
            "See the caveats in the documentation: https://pandas.pydata.org/pandas-docs/stable/user_guide/indexing.html#returning-a-view-versus-a-copy\n",
            "  filtered_df['anon_txt'] = filtered_df['txt'].apply(lambda x: x.replace(word, clusters[cluster][0]))\n"
          ]
        }
      ]
    },
    {
      "cell_type": "code",
      "source": [
        "### NEED TO CHECK THIS #####\n",
        "\n",
        "for cluster in clusters: # later skip on cluster[-1]\n",
        "    for words in clusters[cluster]:\n",
        "      for word in words:\n",
        "        filtered_df['anon_txt'] = filtered_df['txt'].apply(lambda x: x.replace(word, clusters[cluster][0]))\n",
        "        #print(word)\n",
        "        #print(clusters[cluster][0])"
      ],
      "metadata": {
        "colab": {
          "base_uri": "https://localhost:8080/"
        },
        "id": "CHMHwY4Lh032",
        "outputId": "1d18eae5-31f1-425c-8185-41385aae149b"
      },
      "execution_count": null,
      "outputs": [
        {
          "output_type": "stream",
          "name": "stderr",
          "text": [
            "<ipython-input-119-3b6830136c67>:6: SettingWithCopyWarning: \n",
            "A value is trying to be set on a copy of a slice from a DataFrame.\n",
            "Try using .loc[row_indexer,col_indexer] = value instead\n",
            "\n",
            "See the caveats in the documentation: https://pandas.pydata.org/pandas-docs/stable/user_guide/indexing.html#returning-a-view-versus-a-copy\n",
            "  filtered_df['anon_txt'] = filtered_df['txt'].apply(lambda x: x.replace(word, clusters[cluster][0]))\n"
          ]
        }
      ]
    },
    {
      "cell_type": "code",
      "source": [
        "### CHATGPTS CODE :\n",
        "\"\"\"This code creates a dictionary called word_to_cluster that maps \n",
        "each word to its corresponding cluster's first word. Then it uses \n",
        "the map method to replace each word in df_short_sentences['txt'] with\n",
        " its corresponding cluster's first word. This is much more efficient\n",
        "  than using the apply method for each word in each cluster.\n",
        "\"\"\"\n",
        "# create a dictionary to map each word to its corresponding cluster\n",
        "word_to_cluster = {}\n",
        "for cluster in clusters:\n",
        "    for word in clusters[cluster]:\n",
        "        word_to_cluster[word] = clusters[cluster][0]\n",
        "\n",
        "# use the map method to replace each word with its corresponding cluster's first word\n",
        "df_short_sentences['anon_txt'] = df_short_sentences['txt'].str.replace('|'.join(word_to_cluster.keys()), lambda x: word_to_cluster[x.group(0)], regex=True)"
      ],
      "metadata": {
        "colab": {
          "base_uri": "https://localhost:8080/"
        },
        "id": "AbDTtJRNiRGH",
        "outputId": "57e1efa1-8973-482b-9cf9-6fede493b2ea"
      },
      "execution_count": null,
      "outputs": [
        {
          "output_type": "stream",
          "name": "stderr",
          "text": [
            "<ipython-input-120-acc82c70d5d9>:15: SettingWithCopyWarning: \n",
            "A value is trying to be set on a copy of a slice from a DataFrame.\n",
            "Try using .loc[row_indexer,col_indexer] = value instead\n",
            "\n",
            "See the caveats in the documentation: https://pandas.pydata.org/pandas-docs/stable/user_guide/indexing.html#returning-a-view-versus-a-copy\n",
            "  df_short_sentences['anon_txt'] = df_short_sentences['txt'].str.replace('|'.join(word_to_cluster.keys()), lambda x: word_to_cluster[x.group(0)], regex=True)\n"
          ]
        }
      ]
    },
    {
      "cell_type": "code",
      "source": [
        "      ## TRY - need to make automatic\n",
        "df_short_sentences['anon_txt'] = df_short_sentences['txt'].apply(lambda x: x.replace( 'quickly', \"faster\"))\n",
        "df_short_sentences['anon_txt'] = df_short_sentences['txt'].apply(lambda x: x.replace( 'thanks', \"thank\"))\n",
        "df_short_sentences['anon_txt'] = df_short_sentences['txt'].apply(lambda x: x.replace( 'christopher', \"joseph\"))\n",
        "df_short_sentences['anon_txt'] = df_short_sentences['txt'].apply(lambda x: x.replace( 'the', \"and\"))\n",
        "df_short_sentences['anon_txt'] = df_short_sentences['txt'].apply(lambda x: x.replace( 'the', \"of\"))\n",
        "df_short_sentences['anon_txt'] = df_short_sentences['txt'].apply(lambda x: x.replace( 'the', \"from\"))\n",
        "df_short_sentences['anon_txt'] = df_short_sentences['txt'].apply(lambda x: x.replace( 'the', \"with\"))\n",
        "df_short_sentences['anon_txt'] = df_short_sentences['txt'].apply(lambda x: x.replace( 'within', \"upon\")) #['upon', 'within']\n",
        "df_short_sentences['anon_txt'] = df_short_sentences['txt'].apply(lambda x: x.replace( 'is', \"was\")) #['was', 'is', 'had']\n",
        "df_short_sentences['anon_txt'] = df_short_sentences['txt'].apply(lambda x: x.replace( 'had', \"was\")) #['was', 'is', 'had']\n",
        "\n",
        "\n"
      ],
      "metadata": {
        "colab": {
          "base_uri": "https://localhost:8080/"
        },
        "id": "VmI32L7EhCHb",
        "outputId": "590d5a4f-65fe-4fe9-de1b-456989c1784c"
      },
      "execution_count": null,
      "outputs": [
        {
          "output_type": "stream",
          "name": "stderr",
          "text": [
            "<ipython-input-121-d6595a6cb70c>:2: SettingWithCopyWarning: \n",
            "A value is trying to be set on a copy of a slice from a DataFrame.\n",
            "Try using .loc[row_indexer,col_indexer] = value instead\n",
            "\n",
            "See the caveats in the documentation: https://pandas.pydata.org/pandas-docs/stable/user_guide/indexing.html#returning-a-view-versus-a-copy\n",
            "  df_short_sentences['anon_txt'] = df_short_sentences['txt'].apply(lambda x: x.replace( 'quickly', \"faster\"))\n",
            "<ipython-input-121-d6595a6cb70c>:3: SettingWithCopyWarning: \n",
            "A value is trying to be set on a copy of a slice from a DataFrame.\n",
            "Try using .loc[row_indexer,col_indexer] = value instead\n",
            "\n",
            "See the caveats in the documentation: https://pandas.pydata.org/pandas-docs/stable/user_guide/indexing.html#returning-a-view-versus-a-copy\n",
            "  df_short_sentences['anon_txt'] = df_short_sentences['txt'].apply(lambda x: x.replace( 'thanks', \"thank\"))\n",
            "<ipython-input-121-d6595a6cb70c>:4: SettingWithCopyWarning: \n",
            "A value is trying to be set on a copy of a slice from a DataFrame.\n",
            "Try using .loc[row_indexer,col_indexer] = value instead\n",
            "\n",
            "See the caveats in the documentation: https://pandas.pydata.org/pandas-docs/stable/user_guide/indexing.html#returning-a-view-versus-a-copy\n",
            "  df_short_sentences['anon_txt'] = df_short_sentences['txt'].apply(lambda x: x.replace( 'christopher', \"joseph\"))\n",
            "<ipython-input-121-d6595a6cb70c>:5: SettingWithCopyWarning: \n",
            "A value is trying to be set on a copy of a slice from a DataFrame.\n",
            "Try using .loc[row_indexer,col_indexer] = value instead\n",
            "\n",
            "See the caveats in the documentation: https://pandas.pydata.org/pandas-docs/stable/user_guide/indexing.html#returning-a-view-versus-a-copy\n",
            "  df_short_sentences['anon_txt'] = df_short_sentences['txt'].apply(lambda x: x.replace( 'the', \"and\"))\n",
            "<ipython-input-121-d6595a6cb70c>:6: SettingWithCopyWarning: \n",
            "A value is trying to be set on a copy of a slice from a DataFrame.\n",
            "Try using .loc[row_indexer,col_indexer] = value instead\n",
            "\n",
            "See the caveats in the documentation: https://pandas.pydata.org/pandas-docs/stable/user_guide/indexing.html#returning-a-view-versus-a-copy\n",
            "  df_short_sentences['anon_txt'] = df_short_sentences['txt'].apply(lambda x: x.replace( 'the', \"of\"))\n",
            "<ipython-input-121-d6595a6cb70c>:7: SettingWithCopyWarning: \n",
            "A value is trying to be set on a copy of a slice from a DataFrame.\n",
            "Try using .loc[row_indexer,col_indexer] = value instead\n",
            "\n",
            "See the caveats in the documentation: https://pandas.pydata.org/pandas-docs/stable/user_guide/indexing.html#returning-a-view-versus-a-copy\n",
            "  df_short_sentences['anon_txt'] = df_short_sentences['txt'].apply(lambda x: x.replace( 'the', \"from\"))\n",
            "<ipython-input-121-d6595a6cb70c>:8: SettingWithCopyWarning: \n",
            "A value is trying to be set on a copy of a slice from a DataFrame.\n",
            "Try using .loc[row_indexer,col_indexer] = value instead\n",
            "\n",
            "See the caveats in the documentation: https://pandas.pydata.org/pandas-docs/stable/user_guide/indexing.html#returning-a-view-versus-a-copy\n",
            "  df_short_sentences['anon_txt'] = df_short_sentences['txt'].apply(lambda x: x.replace( 'the', \"with\"))\n",
            "<ipython-input-121-d6595a6cb70c>:9: SettingWithCopyWarning: \n",
            "A value is trying to be set on a copy of a slice from a DataFrame.\n",
            "Try using .loc[row_indexer,col_indexer] = value instead\n",
            "\n",
            "See the caveats in the documentation: https://pandas.pydata.org/pandas-docs/stable/user_guide/indexing.html#returning-a-view-versus-a-copy\n",
            "  df_short_sentences['anon_txt'] = df_short_sentences['txt'].apply(lambda x: x.replace( 'within', \"upon\")) #['upon', 'within']\n",
            "<ipython-input-121-d6595a6cb70c>:10: SettingWithCopyWarning: \n",
            "A value is trying to be set on a copy of a slice from a DataFrame.\n",
            "Try using .loc[row_indexer,col_indexer] = value instead\n",
            "\n",
            "See the caveats in the documentation: https://pandas.pydata.org/pandas-docs/stable/user_guide/indexing.html#returning-a-view-versus-a-copy\n",
            "  df_short_sentences['anon_txt'] = df_short_sentences['txt'].apply(lambda x: x.replace( 'is', \"was\")) #['was', 'is', 'had']\n",
            "<ipython-input-121-d6595a6cb70c>:11: SettingWithCopyWarning: \n",
            "A value is trying to be set on a copy of a slice from a DataFrame.\n",
            "Try using .loc[row_indexer,col_indexer] = value instead\n",
            "\n",
            "See the caveats in the documentation: https://pandas.pydata.org/pandas-docs/stable/user_guide/indexing.html#returning-a-view-versus-a-copy\n",
            "  df_short_sentences['anon_txt'] = df_short_sentences['txt'].apply(lambda x: x.replace( 'had', \"was\")) #['was', 'is', 'had']\n"
          ]
        }
      ]
    },
    {
      "cell_type": "code",
      "source": [],
      "metadata": {
        "id": "CSTbe9RGhCKA"
      },
      "execution_count": null,
      "outputs": []
    },
    {
      "cell_type": "code",
      "source": [],
      "metadata": {
        "id": "Z1bM1kq7hCPD"
      },
      "execution_count": null,
      "outputs": []
    },
    {
      "cell_type": "code",
      "source": [
        "df_short_sentences.loc[100,'txt']"
      ],
      "metadata": {
        "colab": {
          "base_uri": "https://localhost:8080/"
        },
        "id": "ShqfIKi1bdOY",
        "outputId": "59f38071-53b7-4d33-a7fa-ca6ad202ea74"
      },
      "execution_count": null,
      "outputs": [
        {
          "output_type": "execute_result",
          "data": {
            "text/plain": [
              "'textbook: book shipped quickly and was in excellent condition as stated. easy transaction would buy again'"
            ],
            "application/vnd.google.colaboratory.intrinsic+json": {
              "type": "string"
            }
          },
          "metadata": {},
          "execution_count": 122
        }
      ]
    },
    {
      "cell_type": "code",
      "source": [
        "df_short_sentences.loc[100,'anon_txt']"
      ],
      "metadata": {
        "colab": {
          "base_uri": "https://localhost:8080/"
        },
        "id": "uPBvRl2pf96k",
        "outputId": "625420a4-1ba6-4073-c534-d589e2434fb7"
      },
      "execution_count": null,
      "outputs": [
        {
          "output_type": "execute_result",
          "data": {
            "text/plain": [
              "'textbook: book shipped quickly and was in excellent condition as stated. easy transaction would buy again'"
            ],
            "application/vnd.google.colaboratory.intrinsic+json": {
              "type": "string"
            }
          },
          "metadata": {},
          "execution_count": 123
        }
      ]
    },
    {
      "cell_type": "markdown",
      "source": [
        "## 5) Check if we get K=2 anonymity if not repeat  2-5"
      ],
      "metadata": {
        "id": "zNTwXSIgd-hQ"
      }
    },
    {
      "cell_type": "code",
      "source": [
        "### TRY JACCARD INDEX FOR THIS:\n",
        "## work on \"replace\" columns"
      ],
      "metadata": {
        "id": "5n2LQ8y_YaIK"
      },
      "execution_count": null,
      "outputs": []
    },
    {
      "cell_type": "code",
      "source": [
        "filtered_df"
      ],
      "metadata": {
        "colab": {
          "base_uri": "https://localhost:8080/"
        },
        "id": "HwjGkZihnzcy",
        "outputId": "8376de97-69a2-43e5-9012-b557e2349331"
      },
      "execution_count": null,
      "outputs": [
        {
          "output_type": "execute_result",
          "data": {
            "text/plain": [
              "                                                     txt  sentiment  \\\n",
              "204    haven't found better yet...: this is the only ...          1   \n",
              "446    good value: i love curve and this is a large b...          1   \n",
              "669    janes all the worlds aircraft 1996-7: great to...          1   \n",
              "1806   ninnia: this monitor is great. the service i g...          1   \n",
              "1811   most informative: this is the most informative...          1   \n",
              "...                                                  ...        ...   \n",
              "81942  boring....: this is a boring album from common...          0   \n",
              "82156  quality: i am very happy with the m881. it is ...          1   \n",
              "82490  too \"jazzed-up\": i wanted a fairly straight re...          0   \n",
              "82512  delightful: it is a delightful book, full of f...          1   \n",
              "82992  shrimpboy: buy a cheap curved knife from the d...          0   \n",
              "\n",
              "       num_of_words                                           anon_txt  \n",
              "204              20  havhellon't found bhellotthellor yhellot...: t...  \n",
              "446              20  good valuhello: i lovhello curvhello and this ...  \n",
              "669              18  janhellos all thhello worlds aircraft 1996-7: ...  \n",
              "1806             20  ninnia: this monitor is grhelloat. thhello she...  \n",
              "1811             20  most informativhello: this is thhello most inf...  \n",
              "...             ...                                                ...  \n",
              "81942            20  boring....: this is a boring album from common...  \n",
              "82156            18  quality: i am vhellory happy with thhello m881...  \n",
              "82490            18  too \"jazzhellod-up\": i wanthellod a fairly str...  \n",
              "82512            19  dhellolightful: it is a dhellolightful book, f...  \n",
              "82992            20  shrimpboy: buy a chhelloap curvhellod knifhell...  \n",
              "\n",
              "[460 rows x 4 columns]"
            ],
            "text/html": [
              "\n",
              "  <div id=\"df-3a300944-02b4-4015-a864-9573e603e105\">\n",
              "    <div class=\"colab-df-container\">\n",
              "      <div>\n",
              "<style scoped>\n",
              "    .dataframe tbody tr th:only-of-type {\n",
              "        vertical-align: middle;\n",
              "    }\n",
              "\n",
              "    .dataframe tbody tr th {\n",
              "        vertical-align: top;\n",
              "    }\n",
              "\n",
              "    .dataframe thead th {\n",
              "        text-align: right;\n",
              "    }\n",
              "</style>\n",
              "<table border=\"1\" class=\"dataframe\">\n",
              "  <thead>\n",
              "    <tr style=\"text-align: right;\">\n",
              "      <th></th>\n",
              "      <th>txt</th>\n",
              "      <th>sentiment</th>\n",
              "      <th>num_of_words</th>\n",
              "      <th>anon_txt</th>\n",
              "    </tr>\n",
              "  </thead>\n",
              "  <tbody>\n",
              "    <tr>\n",
              "      <th>204</th>\n",
              "      <td>haven't found better yet...: this is the only ...</td>\n",
              "      <td>1</td>\n",
              "      <td>20</td>\n",
              "      <td>havhellon't found bhellotthellor yhellot...: t...</td>\n",
              "    </tr>\n",
              "    <tr>\n",
              "      <th>446</th>\n",
              "      <td>good value: i love curve and this is a large b...</td>\n",
              "      <td>1</td>\n",
              "      <td>20</td>\n",
              "      <td>good valuhello: i lovhello curvhello and this ...</td>\n",
              "    </tr>\n",
              "    <tr>\n",
              "      <th>669</th>\n",
              "      <td>janes all the worlds aircraft 1996-7: great to...</td>\n",
              "      <td>1</td>\n",
              "      <td>18</td>\n",
              "      <td>janhellos all thhello worlds aircraft 1996-7: ...</td>\n",
              "    </tr>\n",
              "    <tr>\n",
              "      <th>1806</th>\n",
              "      <td>ninnia: this monitor is great. the service i g...</td>\n",
              "      <td>1</td>\n",
              "      <td>20</td>\n",
              "      <td>ninnia: this monitor is grhelloat. thhello she...</td>\n",
              "    </tr>\n",
              "    <tr>\n",
              "      <th>1811</th>\n",
              "      <td>most informative: this is the most informative...</td>\n",
              "      <td>1</td>\n",
              "      <td>20</td>\n",
              "      <td>most informativhello: this is thhello most inf...</td>\n",
              "    </tr>\n",
              "    <tr>\n",
              "      <th>...</th>\n",
              "      <td>...</td>\n",
              "      <td>...</td>\n",
              "      <td>...</td>\n",
              "      <td>...</td>\n",
              "    </tr>\n",
              "    <tr>\n",
              "      <th>81942</th>\n",
              "      <td>boring....: this is a boring album from common...</td>\n",
              "      <td>0</td>\n",
              "      <td>20</td>\n",
              "      <td>boring....: this is a boring album from common...</td>\n",
              "    </tr>\n",
              "    <tr>\n",
              "      <th>82156</th>\n",
              "      <td>quality: i am very happy with the m881. it is ...</td>\n",
              "      <td>1</td>\n",
              "      <td>18</td>\n",
              "      <td>quality: i am vhellory happy with thhello m881...</td>\n",
              "    </tr>\n",
              "    <tr>\n",
              "      <th>82490</th>\n",
              "      <td>too \"jazzed-up\": i wanted a fairly straight re...</td>\n",
              "      <td>0</td>\n",
              "      <td>18</td>\n",
              "      <td>too \"jazzhellod-up\": i wanthellod a fairly str...</td>\n",
              "    </tr>\n",
              "    <tr>\n",
              "      <th>82512</th>\n",
              "      <td>delightful: it is a delightful book, full of f...</td>\n",
              "      <td>1</td>\n",
              "      <td>19</td>\n",
              "      <td>dhellolightful: it is a dhellolightful book, f...</td>\n",
              "    </tr>\n",
              "    <tr>\n",
              "      <th>82992</th>\n",
              "      <td>shrimpboy: buy a cheap curved knife from the d...</td>\n",
              "      <td>0</td>\n",
              "      <td>20</td>\n",
              "      <td>shrimpboy: buy a chhelloap curvhellod knifhell...</td>\n",
              "    </tr>\n",
              "  </tbody>\n",
              "</table>\n",
              "<p>460 rows × 4 columns</p>\n",
              "</div>\n",
              "      <button class=\"colab-df-convert\" onclick=\"convertToInteractive('df-3a300944-02b4-4015-a864-9573e603e105')\"\n",
              "              title=\"Convert this dataframe to an interactive table.\"\n",
              "              style=\"display:none;\">\n",
              "        \n",
              "  <svg xmlns=\"http://www.w3.org/2000/svg\" height=\"24px\"viewBox=\"0 0 24 24\"\n",
              "       width=\"24px\">\n",
              "    <path d=\"M0 0h24v24H0V0z\" fill=\"none\"/>\n",
              "    <path d=\"M18.56 5.44l.94 2.06.94-2.06 2.06-.94-2.06-.94-.94-2.06-.94 2.06-2.06.94zm-11 1L8.5 8.5l.94-2.06 2.06-.94-2.06-.94L8.5 2.5l-.94 2.06-2.06.94zm10 10l.94 2.06.94-2.06 2.06-.94-2.06-.94-.94-2.06-.94 2.06-2.06.94z\"/><path d=\"M17.41 7.96l-1.37-1.37c-.4-.4-.92-.59-1.43-.59-.52 0-1.04.2-1.43.59L10.3 9.45l-7.72 7.72c-.78.78-.78 2.05 0 2.83L4 21.41c.39.39.9.59 1.41.59.51 0 1.02-.2 1.41-.59l7.78-7.78 2.81-2.81c.8-.78.8-2.07 0-2.86zM5.41 20L4 18.59l7.72-7.72 1.47 1.35L5.41 20z\"/>\n",
              "  </svg>\n",
              "      </button>\n",
              "      \n",
              "  <style>\n",
              "    .colab-df-container {\n",
              "      display:flex;\n",
              "      flex-wrap:wrap;\n",
              "      gap: 12px;\n",
              "    }\n",
              "\n",
              "    .colab-df-convert {\n",
              "      background-color: #E8F0FE;\n",
              "      border: none;\n",
              "      border-radius: 50%;\n",
              "      cursor: pointer;\n",
              "      display: none;\n",
              "      fill: #1967D2;\n",
              "      height: 32px;\n",
              "      padding: 0 0 0 0;\n",
              "      width: 32px;\n",
              "    }\n",
              "\n",
              "    .colab-df-convert:hover {\n",
              "      background-color: #E2EBFA;\n",
              "      box-shadow: 0px 1px 2px rgba(60, 64, 67, 0.3), 0px 1px 3px 1px rgba(60, 64, 67, 0.15);\n",
              "      fill: #174EA6;\n",
              "    }\n",
              "\n",
              "    [theme=dark] .colab-df-convert {\n",
              "      background-color: #3B4455;\n",
              "      fill: #D2E3FC;\n",
              "    }\n",
              "\n",
              "    [theme=dark] .colab-df-convert:hover {\n",
              "      background-color: #434B5C;\n",
              "      box-shadow: 0px 1px 3px 1px rgba(0, 0, 0, 0.15);\n",
              "      filter: drop-shadow(0px 1px 2px rgba(0, 0, 0, 0.3));\n",
              "      fill: #FFFFFF;\n",
              "    }\n",
              "  </style>\n",
              "\n",
              "      <script>\n",
              "        const buttonEl =\n",
              "          document.querySelector('#df-3a300944-02b4-4015-a864-9573e603e105 button.colab-df-convert');\n",
              "        buttonEl.style.display =\n",
              "          google.colab.kernel.accessAllowed ? 'block' : 'none';\n",
              "\n",
              "        async function convertToInteractive(key) {\n",
              "          const element = document.querySelector('#df-3a300944-02b4-4015-a864-9573e603e105');\n",
              "          const dataTable =\n",
              "            await google.colab.kernel.invokeFunction('convertToInteractive',\n",
              "                                                     [key], {});\n",
              "          if (!dataTable) return;\n",
              "\n",
              "          const docLinkHtml = 'Like what you see? Visit the ' +\n",
              "            '<a target=\"_blank\" href=https://colab.research.google.com/notebooks/data_table.ipynb>data table notebook</a>'\n",
              "            + ' to learn more about interactive tables.';\n",
              "          element.innerHTML = '';\n",
              "          dataTable['output_type'] = 'display_data';\n",
              "          await google.colab.output.renderOutput(dataTable, element);\n",
              "          const docLink = document.createElement('div');\n",
              "          docLink.innerHTML = docLinkHtml;\n",
              "          element.appendChild(docLink);\n",
              "        }\n",
              "      </script>\n",
              "    </div>\n",
              "  </div>\n",
              "  "
            ]
          },
          "metadata": {},
          "execution_count": 125
        }
      ]
    },
    {
      "cell_type": "code",
      "source": [
        "indices_list = list(filtered_df.index)  # get a list of index for df_short_sentences, to keep indces from original df:\n",
        "jaccard_index_dict = {} # init Jaccard dict:"
      ],
      "metadata": {
        "id": "8QLcwDGXYaK3"
      },
      "execution_count": null,
      "outputs": []
    },
    {
      "cell_type": "code",
      "source": [
        "%%time\n",
        "# Create a list of sentence texts\n",
        "sentences = list(filtered_df.anon_txt.loc[indices_list_short])"
      ],
      "metadata": {
        "colab": {
          "base_uri": "https://localhost:8080/"
        },
        "id": "oyUg3WUqYaNr",
        "outputId": "66a5859d-544b-4ce5-beb7-927da471c02d"
      },
      "execution_count": null,
      "outputs": [
        {
          "output_type": "error",
          "ename": "KeyError",
          "evalue": "ignored",
          "traceback": [
            "\u001b[0;31m---------------------------------------------------------------------------\u001b[0m",
            "\u001b[0;31mKeyError\u001b[0m                                  Traceback (most recent call last)",
            "\u001b[0;32m<timed exec>\u001b[0m in \u001b[0;36m<module>\u001b[0;34m\u001b[0m\n",
            "\u001b[0;32m/usr/local/lib/python3.9/dist-packages/pandas/core/indexing.py\u001b[0m in \u001b[0;36m__getitem__\u001b[0;34m(self, key)\u001b[0m\n\u001b[1;32m    965\u001b[0m \u001b[0;34m\u001b[0m\u001b[0m\n\u001b[1;32m    966\u001b[0m             \u001b[0mmaybe_callable\u001b[0m \u001b[0;34m=\u001b[0m \u001b[0mcom\u001b[0m\u001b[0;34m.\u001b[0m\u001b[0mapply_if_callable\u001b[0m\u001b[0;34m(\u001b[0m\u001b[0mkey\u001b[0m\u001b[0;34m,\u001b[0m \u001b[0mself\u001b[0m\u001b[0;34m.\u001b[0m\u001b[0mobj\u001b[0m\u001b[0;34m)\u001b[0m\u001b[0;34m\u001b[0m\u001b[0;34m\u001b[0m\u001b[0m\n\u001b[0;32m--> 967\u001b[0;31m             \u001b[0;32mreturn\u001b[0m \u001b[0mself\u001b[0m\u001b[0;34m.\u001b[0m\u001b[0m_getitem_axis\u001b[0m\u001b[0;34m(\u001b[0m\u001b[0mmaybe_callable\u001b[0m\u001b[0;34m,\u001b[0m \u001b[0maxis\u001b[0m\u001b[0;34m=\u001b[0m\u001b[0maxis\u001b[0m\u001b[0;34m)\u001b[0m\u001b[0;34m\u001b[0m\u001b[0;34m\u001b[0m\u001b[0m\n\u001b[0m\u001b[1;32m    968\u001b[0m \u001b[0;34m\u001b[0m\u001b[0m\n\u001b[1;32m    969\u001b[0m     \u001b[0;32mdef\u001b[0m \u001b[0m_is_scalar_access\u001b[0m\u001b[0;34m(\u001b[0m\u001b[0mself\u001b[0m\u001b[0;34m,\u001b[0m \u001b[0mkey\u001b[0m\u001b[0;34m:\u001b[0m \u001b[0mtuple\u001b[0m\u001b[0;34m)\u001b[0m\u001b[0;34m:\u001b[0m\u001b[0;34m\u001b[0m\u001b[0;34m\u001b[0m\u001b[0m\n",
            "\u001b[0;32m/usr/local/lib/python3.9/dist-packages/pandas/core/indexing.py\u001b[0m in \u001b[0;36m_getitem_axis\u001b[0;34m(self, key, axis)\u001b[0m\n\u001b[1;32m   1192\u001b[0m                     \u001b[0;32mraise\u001b[0m \u001b[0mValueError\u001b[0m\u001b[0;34m(\u001b[0m\u001b[0;34m\"Cannot index with multidimensional key\"\u001b[0m\u001b[0;34m)\u001b[0m\u001b[0;34m\u001b[0m\u001b[0;34m\u001b[0m\u001b[0m\n\u001b[1;32m   1193\u001b[0m \u001b[0;34m\u001b[0m\u001b[0m\n\u001b[0;32m-> 1194\u001b[0;31m                 \u001b[0;32mreturn\u001b[0m \u001b[0mself\u001b[0m\u001b[0;34m.\u001b[0m\u001b[0m_getitem_iterable\u001b[0m\u001b[0;34m(\u001b[0m\u001b[0mkey\u001b[0m\u001b[0;34m,\u001b[0m \u001b[0maxis\u001b[0m\u001b[0;34m=\u001b[0m\u001b[0maxis\u001b[0m\u001b[0;34m)\u001b[0m\u001b[0;34m\u001b[0m\u001b[0;34m\u001b[0m\u001b[0m\n\u001b[0m\u001b[1;32m   1195\u001b[0m \u001b[0;34m\u001b[0m\u001b[0m\n\u001b[1;32m   1196\u001b[0m             \u001b[0;31m# nested tuple slicing\u001b[0m\u001b[0;34m\u001b[0m\u001b[0;34m\u001b[0m\u001b[0m\n",
            "\u001b[0;32m/usr/local/lib/python3.9/dist-packages/pandas/core/indexing.py\u001b[0m in \u001b[0;36m_getitem_iterable\u001b[0;34m(self, key, axis)\u001b[0m\n\u001b[1;32m   1130\u001b[0m \u001b[0;34m\u001b[0m\u001b[0m\n\u001b[1;32m   1131\u001b[0m         \u001b[0;31m# A collection of keys\u001b[0m\u001b[0;34m\u001b[0m\u001b[0;34m\u001b[0m\u001b[0m\n\u001b[0;32m-> 1132\u001b[0;31m         \u001b[0mkeyarr\u001b[0m\u001b[0;34m,\u001b[0m \u001b[0mindexer\u001b[0m \u001b[0;34m=\u001b[0m \u001b[0mself\u001b[0m\u001b[0;34m.\u001b[0m\u001b[0m_get_listlike_indexer\u001b[0m\u001b[0;34m(\u001b[0m\u001b[0mkey\u001b[0m\u001b[0;34m,\u001b[0m \u001b[0maxis\u001b[0m\u001b[0;34m)\u001b[0m\u001b[0;34m\u001b[0m\u001b[0;34m\u001b[0m\u001b[0m\n\u001b[0m\u001b[1;32m   1133\u001b[0m         return self.obj._reindex_with_indexers(\n\u001b[1;32m   1134\u001b[0m             \u001b[0;34m{\u001b[0m\u001b[0maxis\u001b[0m\u001b[0;34m:\u001b[0m \u001b[0;34m[\u001b[0m\u001b[0mkeyarr\u001b[0m\u001b[0;34m,\u001b[0m \u001b[0mindexer\u001b[0m\u001b[0;34m]\u001b[0m\u001b[0;34m}\u001b[0m\u001b[0;34m,\u001b[0m \u001b[0mcopy\u001b[0m\u001b[0;34m=\u001b[0m\u001b[0;32mTrue\u001b[0m\u001b[0;34m,\u001b[0m \u001b[0mallow_dups\u001b[0m\u001b[0;34m=\u001b[0m\u001b[0;32mTrue\u001b[0m\u001b[0;34m\u001b[0m\u001b[0;34m\u001b[0m\u001b[0m\n",
            "\u001b[0;32m/usr/local/lib/python3.9/dist-packages/pandas/core/indexing.py\u001b[0m in \u001b[0;36m_get_listlike_indexer\u001b[0;34m(self, key, axis)\u001b[0m\n\u001b[1;32m   1328\u001b[0m         \u001b[0maxis_name\u001b[0m \u001b[0;34m=\u001b[0m \u001b[0mself\u001b[0m\u001b[0;34m.\u001b[0m\u001b[0mobj\u001b[0m\u001b[0;34m.\u001b[0m\u001b[0m_get_axis_name\u001b[0m\u001b[0;34m(\u001b[0m\u001b[0maxis\u001b[0m\u001b[0;34m)\u001b[0m\u001b[0;34m\u001b[0m\u001b[0;34m\u001b[0m\u001b[0m\n\u001b[1;32m   1329\u001b[0m \u001b[0;34m\u001b[0m\u001b[0m\n\u001b[0;32m-> 1330\u001b[0;31m         \u001b[0mkeyarr\u001b[0m\u001b[0;34m,\u001b[0m \u001b[0mindexer\u001b[0m \u001b[0;34m=\u001b[0m \u001b[0max\u001b[0m\u001b[0;34m.\u001b[0m\u001b[0m_get_indexer_strict\u001b[0m\u001b[0;34m(\u001b[0m\u001b[0mkey\u001b[0m\u001b[0;34m,\u001b[0m \u001b[0maxis_name\u001b[0m\u001b[0;34m)\u001b[0m\u001b[0;34m\u001b[0m\u001b[0;34m\u001b[0m\u001b[0m\n\u001b[0m\u001b[1;32m   1331\u001b[0m \u001b[0;34m\u001b[0m\u001b[0m\n\u001b[1;32m   1332\u001b[0m         \u001b[0;32mreturn\u001b[0m \u001b[0mkeyarr\u001b[0m\u001b[0;34m,\u001b[0m \u001b[0mindexer\u001b[0m\u001b[0;34m\u001b[0m\u001b[0;34m\u001b[0m\u001b[0m\n",
            "\u001b[0;32m/usr/local/lib/python3.9/dist-packages/pandas/core/indexes/base.py\u001b[0m in \u001b[0;36m_get_indexer_strict\u001b[0;34m(self, key, axis_name)\u001b[0m\n\u001b[1;32m   5794\u001b[0m             \u001b[0mkeyarr\u001b[0m\u001b[0;34m,\u001b[0m \u001b[0mindexer\u001b[0m\u001b[0;34m,\u001b[0m \u001b[0mnew_indexer\u001b[0m \u001b[0;34m=\u001b[0m \u001b[0mself\u001b[0m\u001b[0;34m.\u001b[0m\u001b[0m_reindex_non_unique\u001b[0m\u001b[0;34m(\u001b[0m\u001b[0mkeyarr\u001b[0m\u001b[0;34m)\u001b[0m\u001b[0;34m\u001b[0m\u001b[0;34m\u001b[0m\u001b[0m\n\u001b[1;32m   5795\u001b[0m \u001b[0;34m\u001b[0m\u001b[0m\n\u001b[0;32m-> 5796\u001b[0;31m         \u001b[0mself\u001b[0m\u001b[0;34m.\u001b[0m\u001b[0m_raise_if_missing\u001b[0m\u001b[0;34m(\u001b[0m\u001b[0mkeyarr\u001b[0m\u001b[0;34m,\u001b[0m \u001b[0mindexer\u001b[0m\u001b[0;34m,\u001b[0m \u001b[0maxis_name\u001b[0m\u001b[0;34m)\u001b[0m\u001b[0;34m\u001b[0m\u001b[0;34m\u001b[0m\u001b[0m\n\u001b[0m\u001b[1;32m   5797\u001b[0m \u001b[0;34m\u001b[0m\u001b[0m\n\u001b[1;32m   5798\u001b[0m         \u001b[0mkeyarr\u001b[0m \u001b[0;34m=\u001b[0m \u001b[0mself\u001b[0m\u001b[0;34m.\u001b[0m\u001b[0mtake\u001b[0m\u001b[0;34m(\u001b[0m\u001b[0mindexer\u001b[0m\u001b[0;34m)\u001b[0m\u001b[0;34m\u001b[0m\u001b[0;34m\u001b[0m\u001b[0m\n",
            "\u001b[0;32m/usr/local/lib/python3.9/dist-packages/pandas/core/indexes/base.py\u001b[0m in \u001b[0;36m_raise_if_missing\u001b[0;34m(self, key, indexer, axis_name)\u001b[0m\n\u001b[1;32m   5857\u001b[0m \u001b[0;34m\u001b[0m\u001b[0m\n\u001b[1;32m   5858\u001b[0m             \u001b[0mnot_found\u001b[0m \u001b[0;34m=\u001b[0m \u001b[0mlist\u001b[0m\u001b[0;34m(\u001b[0m\u001b[0mensure_index\u001b[0m\u001b[0;34m(\u001b[0m\u001b[0mkey\u001b[0m\u001b[0;34m)\u001b[0m\u001b[0;34m[\u001b[0m\u001b[0mmissing_mask\u001b[0m\u001b[0;34m.\u001b[0m\u001b[0mnonzero\u001b[0m\u001b[0;34m(\u001b[0m\u001b[0;34m)\u001b[0m\u001b[0;34m[\u001b[0m\u001b[0;36m0\u001b[0m\u001b[0;34m]\u001b[0m\u001b[0;34m]\u001b[0m\u001b[0;34m.\u001b[0m\u001b[0munique\u001b[0m\u001b[0;34m(\u001b[0m\u001b[0;34m)\u001b[0m\u001b[0;34m)\u001b[0m\u001b[0;34m\u001b[0m\u001b[0;34m\u001b[0m\u001b[0m\n\u001b[0;32m-> 5859\u001b[0;31m             \u001b[0;32mraise\u001b[0m \u001b[0mKeyError\u001b[0m\u001b[0;34m(\u001b[0m\u001b[0;34mf\"{not_found} not in index\"\u001b[0m\u001b[0;34m)\u001b[0m\u001b[0;34m\u001b[0m\u001b[0;34m\u001b[0m\u001b[0m\n\u001b[0m\u001b[1;32m   5860\u001b[0m \u001b[0;34m\u001b[0m\u001b[0m\n\u001b[1;32m   5861\u001b[0m     \u001b[0;34m@\u001b[0m\u001b[0moverload\u001b[0m\u001b[0;34m\u001b[0m\u001b[0;34m\u001b[0m\u001b[0m\n",
            "\u001b[0;31mKeyError\u001b[0m: '[332, 686, 725, 1232, 1436, 2185, 2255, 2297, 2309, 2601, 2658, 2760, 3102, 3153, 3175, 3375, 3507, 3661, 3685, 3827, 3887, 4158, 4371, 4786, 4796, 4800, 4869, 4959, 4994, 5374, 5415, 5466, 5642, 5721, 5914, 6086, 6135, 6550, 6610, 6716, 7307, 7654, 7699, 7735, 7951, 8160, 8592, 8873, 8887, 9050, 9252, 9255, 9315, 9541, 9599, 9941, 10281, 10415, 10416, 10472, 10574, 11169, 11263, 11835, 11860, 11950, 11959, 12351, 12559, 12615, 12898, 12909, 12956, 13060, 13223, 13254, 13265, 13387, 13441, 13451, 13802, 13852, 13888, 14048, 14290, 14630, 14871, 14878, 14928, 15161, 15327, 15539, 15706, 15886, 15960, 16220, 16292, 16411, 16425, 16431, 16873, 16958, 16988, 17107, 17271, 17527, 17535, 17626, 17833, 17980, 18098, 18224, 18327, 18742, 18773, 18827, 18853, 19402, 19822, 19918, 20099, 20268, 20421, 20546, 20579, 21020, 21049, 21051, 21139, 21207, 21283, 21326, 21912, 22063, 22098, 22224, 22258, 22293, 22326, 22344, 22364, 22452, 22474, 22626, 22971, 23150, 23247, 23420, 23576, 23586, 23981, 24196, 24321, 24345, 24348, 24390, 24398, 24480, 24604, 24699, 25078, 25109, 25119, 25330, 25373, 25696, 25924, 25977, 26609, 26774, 26854, 27267, 27268, 27534, 27536, 27577, 28141, 28177, 28318, 28386, 28457, 28785, 28868, 29185, 29807, 30080, 30245, 30273, 30907, 30970, 31023, 31103, 31243, 31482, 31498, 31582, 31961, 32069, 32531, 32590, 32697, 32766, 32834, 33331, 33379, 33505, 33659, 33862, 33899, 34100, 34265, 34273, 34310, 34380, 34397, 34482, 34561, 34729, 34877, ..."
          ]
        }
      ]
    },
    {
      "cell_type": "code",
      "source": [
        "indices_list[1:4]"
      ],
      "metadata": {
        "colab": {
          "base_uri": "https://localhost:8080/"
        },
        "id": "fngVSrYSiocG",
        "outputId": "be29f900-06ff-4f17-9b0f-bb701ab902b4"
      },
      "execution_count": null,
      "outputs": [
        {
          "output_type": "execute_result",
          "data": {
            "text/plain": [
              "[446, 669, 1806]"
            ]
          },
          "metadata": {},
          "execution_count": 128
        }
      ]
    },
    {
      "cell_type": "code",
      "source": [
        "# Compute the Jaccard index for all pairs of sentences\n",
        "## more efficient code using ChatGPT:\n",
        "%%time\n",
        "jaccard_index_dict = {(indices_list_short[i],indices_list_short[j]): jaccard_index(sentences[i], sentences[j]) for i in range(len(sentences)) for j in range(i+1, len(sentences))}"
      ],
      "metadata": {
        "colab": {
          "base_uri": "https://localhost:8080/"
        },
        "id": "n-FgZimlYaQB",
        "outputId": "9b04b76d-84ec-4e78-82cf-5abfaeabf149"
      },
      "execution_count": null,
      "outputs": [
        {
          "output_type": "stream",
          "name": "stdout",
          "text": [
            "CPU times: user 3.74 s, sys: 70.9 ms, total: 3.81 s\n",
            "Wall time: 3.83 s\n"
          ]
        }
      ]
    },
    {
      "cell_type": "code",
      "source": [
        "# Sort the dictionary by its values in descending order\n",
        "sorted_dict = dict(sorted(jaccard_index_dict.items(), key=lambda item: item[1], reverse=True))"
      ],
      "metadata": {
        "id": "4MJijPb8ed-U"
      },
      "execution_count": null,
      "outputs": []
    },
    {
      "cell_type": "code",
      "source": [
        "sorted_dict"
      ],
      "metadata": {
        "colab": {
          "base_uri": "https://localhost:8080/"
        },
        "id": "r7M49N1CikIG",
        "outputId": "6e37c630-6a0d-426f-ff31-c3c7743217b8"
      },
      "execution_count": null,
      "outputs": [
        {
          "output_type": "execute_result",
          "data": {
            "text/plain": [
              "{(23472, 23473): 0.8823529411764706,\n",
              " (33139, 76450): 0.4,\n",
              " (43561, 57499): 0.34615384615384615,\n",
              " (66810, 76450): 0.34615384615384615,\n",
              " (43561, 76450): 0.3333333333333333,\n",
              " (21174, 33789): 0.32,\n",
              " (49960, 76450): 0.32,\n",
              " (33050, 76450): 0.3103448275862069,\n",
              " (76450, 79602): 0.3103448275862069,\n",
              " (1806, 76450): 0.3076923076923077,\n",
              " (7936, 9069): 0.3076923076923077,\n",
              " (7936, 74700): 0.3076923076923077,\n",
              " (9069, 74700): 0.3076923076923077,\n",
              " (50794, 53483): 0.3076923076923077,\n",
              " (9069, 18389): 0.30434782608695654,\n",
              " (7936, 75122): 0.2962962962962963,\n",
              " (8621, 33050): 0.2962962962962963,\n",
              " (18123, 76450): 0.2962962962962963,\n",
              " (23383, 32071): 0.2962962962962963,\n",
              " (33050, 49960): 0.2962962962962963,\n",
              " (33139, 62478): 0.2962962962962963,\n",
              " (50794, 75066): 0.2962962962962963,\n",
              " (57499, 76450): 0.2962962962962963,\n",
              " (70446, 72226): 0.2962962962962963,\n",
              " (7247, 66810): 0.2857142857142857,\n",
              " (13317, 81072): 0.2857142857142857,\n",
              " (14069, 67509): 0.2857142857142857,\n",
              " (22101, 72226): 0.2857142857142857,\n",
              " (62478, 76450): 0.2857142857142857,\n",
              " (6818, 73103): 0.28,\n",
              " (9069, 14759): 0.28,\n",
              " (9069, 37353): 0.28,\n",
              " (44781, 57800): 0.28,\n",
              " (55147, 57075): 0.28,\n",
              " (57075, 69356): 0.28,\n",
              " (7247, 76450): 0.27586206896551724,\n",
              " (13127, 32539): 0.27586206896551724,\n",
              " (33050, 57499): 0.27586206896551724,\n",
              " (36483, 73997): 0.27586206896551724,\n",
              " (50794, 73218): 0.27586206896551724,\n",
              " (55147, 79602): 0.27586206896551724,\n",
              " (55293, 62478): 0.27586206896551724,\n",
              " (6750, 33139): 0.2692307692307692,\n",
              " (7936, 67089): 0.2692307692307692,\n",
              " (7936, 79759): 0.2692307692307692,\n",
              " (9069, 79759): 0.2692307692307692,\n",
              " (11713, 46767): 0.2692307692307692,\n",
              " (21137, 30285): 0.2692307692307692,\n",
              " (29417, 53483): 0.2692307692307692,\n",
              " (36611, 62554): 0.2692307692307692,\n",
              " (41466, 53483): 0.2692307692307692,\n",
              " (50794, 57075): 0.2692307692307692,\n",
              " (63077, 76450): 0.2692307692307692,\n",
              " (74700, 79759): 0.2692307692307692,\n",
              " (13127, 81072): 0.26666666666666666,\n",
              " (33050, 62478): 0.26666666666666666,\n",
              " (50304, 68306): 0.26666666666666666,\n",
              " (21174, 59270): 0.2608695652173913,\n",
              " (4788, 46986): 0.25925925925925924,\n",
              " (13317, 30320): 0.25925925925925924,\n",
              " (14069, 18445): 0.25925925925925924,\n",
              " (27209, 50304): 0.25925925925925924,\n",
              " (31613, 55147): 0.25925925925925924,\n",
              " (33789, 73103): 0.25925925925925924,\n",
              " (49960, 73218): 0.25925925925925924,\n",
              " (55274, 63077): 0.25925925925925924,\n",
              " (57499, 66810): 0.25925925925925924,\n",
              " (62478, 62554): 0.25925925925925924,\n",
              " (67089, 68136): 0.25925925925925924,\n",
              " (7657, 79602): 0.25806451612903225,\n",
              " (53826, 72095): 0.25806451612903225,\n",
              " (2396, 51076): 0.25,\n",
              " (6750, 12872): 0.25,\n",
              " (8621, 49960): 0.25,\n",
              " (10500, 34536): 0.25,\n",
              " (13317, 59593): 0.25,\n",
              " (20784, 50794): 0.25,\n",
              " (21174, 49960): 0.25,\n",
              " (25490, 69485): 0.25,\n",
              " (27223, 59593): 0.25,\n",
              " (30320, 39109): 0.25,\n",
              " (31613, 50794): 0.25,\n",
              " (31613, 58301): 0.25,\n",
              " (33050, 63077): 0.25,\n",
              " (34156, 43561): 0.25,\n",
              " (36611, 62478): 0.25,\n",
              " (43561, 54414): 0.25,\n",
              " (49960, 61179): 0.25,\n",
              " (49960, 79602): 0.25,\n",
              " (50794, 80521): 0.25,\n",
              " (59270, 73103): 0.25,\n",
              " (59593, 70610): 0.25,\n",
              " (66810, 81632): 0.25,\n",
              " (7936, 62160): 0.2413793103448276,\n",
              " (14069, 55063): 0.2413793103448276,\n",
              " (23383, 49244): 0.2413793103448276,\n",
              " (29421, 29465): 0.2413793103448276,\n",
              " (29421, 55147): 0.2413793103448276,\n",
              " (30320, 81072): 0.2413793103448276,\n",
              " (30998, 55063): 0.2413793103448276,\n",
              " (33789, 50794): 0.2413793103448276,\n",
              " (36611, 55293): 0.2413793103448276,\n",
              " (39109, 59593): 0.2413793103448276,\n",
              " (40724, 53552): 0.2413793103448276,\n",
              " (50794, 76450): 0.2413793103448276,\n",
              " (58024, 73294): 0.2413793103448276,\n",
              " (59593, 67509): 0.2413793103448276,\n",
              " (68136, 80293): 0.2413793103448276,\n",
              " (7158, 27638): 0.24,\n",
              " (9194, 57075): 0.24,\n",
              " (14759, 38316): 0.24,\n",
              " (21174, 73103): 0.24,\n",
              " (28873, 57075): 0.24,\n",
              " (31613, 59270): 0.24,\n",
              " (34156, 59270): 0.24,\n",
              " (40427, 75066): 0.24,\n",
              " (55147, 59270): 0.24,\n",
              " (59270, 80521): 0.24,\n",
              " (2478, 75122): 0.23333333333333334,\n",
              " (7247, 43561): 0.23333333333333334,\n",
              " (7325, 60686): 0.23333333333333334,\n",
              " (7657, 60686): 0.23333333333333334,\n",
              " (13127, 80293): 0.23333333333333334,\n",
              " (14069, 24233): 0.23333333333333334,\n",
              " (14069, 44242): 0.23333333333333334,\n",
              " (17520, 30815): 0.23333333333333334,\n",
              " (18092, 33050): 0.23333333333333334,\n",
              " (20737, 58301): 0.23333333333333334,\n",
              " (22151, 28290): 0.23333333333333334,\n",
              " (23529, 68252): 0.23333333333333334,\n",
              " (29421, 58301): 0.23333333333333334,\n",
              " (31613, 33050): 0.23333333333333334,\n",
              " (32071, 53079): 0.23333333333333334,\n",
              " (33050, 36611): 0.23333333333333334,\n",
              " (33050, 66810): 0.23333333333333334,\n",
              " (33139, 79602): 0.23333333333333334,\n",
              " (33789, 73218): 0.23333333333333334,\n",
              " (39109, 81072): 0.23333333333333334,\n",
              " (44242, 73294): 0.23333333333333334,\n",
              " (48360, 56026): 0.23333333333333334,\n",
              " (55293, 67509): 0.23333333333333334,\n",
              " (59000, 67881): 0.23333333333333334,\n",
              " (59593, 81072): 0.23333333333333334,\n",
              " (74751, 76450): 0.23333333333333334,\n",
              " (75066, 79602): 0.23333333333333334,\n",
              " (7936, 37353): 0.23076923076923078,\n",
              " (7936, 44781): 0.23076923076923078,\n",
              " (9350, 37353): 0.23076923076923078,\n",
              " (12118, 59270): 0.23076923076923078,\n",
              " (12833, 61179): 0.23076923076923078,\n",
              " (13317, 80666): 0.23076923076923078,\n",
              " (18092, 27587): 0.23076923076923078,\n",
              " (18092, 49960): 0.23076923076923078,\n",
              " (18445, 78089): 0.23076923076923078,\n",
              " (27587, 51548): 0.23076923076923078,\n",
              " (27587, 55147): 0.23076923076923078,\n",
              " (27587, 75066): 0.23076923076923078,\n",
              " (31613, 57075): 0.23076923076923078,\n",
              " (31613, 62738): 0.23076923076923078,\n",
              " (33789, 59270): 0.23076923076923078,\n",
              " (34156, 63077): 0.23076923076923078,\n",
              " (37353, 74700): 0.23076923076923078,\n",
              " (41356, 59270): 0.23076923076923078,\n",
              " (41498, 64438): 0.23076923076923078,\n",
              " (49960, 55147): 0.23076923076923078,\n",
              " (49960, 75066): 0.23076923076923078,\n",
              " (53483, 70333): 0.23076923076923078,\n",
              " (12915, 27223): 0.22727272727272727,\n",
              " (25646, 57075): 0.22727272727272727,\n",
              " (41146, 44781): 0.22727272727272727,\n",
              " (7247, 66537): 0.22580645161290322,\n",
              " (11713, 31379): 0.22580645161290322,\n",
              " (21137, 25271): 0.22580645161290322,\n",
              " (21137, 56026): 0.22580645161290322,\n",
              " (28400, 68229): 0.22580645161290322,\n",
              " (28532, 44794): 0.22580645161290322,\n",
              " (29873, 40724): 0.22580645161290322,\n",
              " (31379, 77233): 0.22580645161290322,\n",
              " (33050, 43561): 0.22580645161290322,\n",
              " (33050, 50794): 0.22580645161290322,\n",
              " (39330, 56026): 0.22580645161290322,\n",
              " (50794, 79602): 0.22580645161290322,\n",
              " (63729, 65862): 0.22580645161290322,\n",
              " (72226, 79602): 0.22580645161290322,\n",
              " (1806, 18123): 0.2222222222222222,\n",
              " (1806, 33139): 0.2222222222222222,\n",
              " (7936, 78456): 0.2222222222222222,\n",
              " (7946, 11789): 0.2222222222222222,\n",
              " (7946, 46848): 0.2222222222222222,\n",
              " (8621, 33789): 0.2222222222222222,\n",
              " (9194, 25136): 0.2222222222222222,\n",
              " (9194, 31613): 0.2222222222222222,\n",
              " (9194, 34156): 0.2222222222222222,\n",
              " (9194, 34844): 0.2222222222222222,\n",
              " (9194, 75066): 0.2222222222222222,\n",
              " (9194, 80521): 0.2222222222222222,\n",
              " (10543, 52624): 0.2222222222222222,\n",
              " (11347, 30320): 0.2222222222222222,\n",
              " (18445, 32071): 0.2222222222222222,\n",
              " (18445, 38056): 0.2222222222222222,\n",
              " (19585, 37659): 0.2222222222222222,\n",
              " (20143, 63746): 0.2222222222222222,\n",
              " (20743, 76450): 0.2222222222222222,\n",
              " (20817, 67089): 0.2222222222222222,\n",
              " (21137, 25282): 0.2222222222222222,\n",
              " (21137, 25632): 0.2222222222222222,\n",
              " (21174, 76450): 0.2222222222222222,\n",
              " (25282, 56941): 0.2222222222222222,\n",
              " (25282, 73294): 0.2222222222222222,\n",
              " (27587, 50794): 0.2222222222222222,\n",
              " (27587, 76450): 0.2222222222222222,\n",
              " (28873, 69356): 0.2222222222222222,\n",
              " (31385, 69741): 0.2222222222222222,\n",
              " (31613, 53483): 0.2222222222222222,\n",
              " (31916, 46767): 0.2222222222222222,\n",
              " (32071, 78089): 0.2222222222222222,\n",
              " (33789, 37353): 0.2222222222222222,\n",
              " (33789, 49960): 0.2222222222222222,\n",
              " (34156, 82156): 0.2222222222222222,\n",
              " (43561, 63077): 0.2222222222222222,\n",
              " (44781, 75122): 0.2222222222222222,\n",
              " (44878, 57499): 0.2222222222222222,\n",
              " (49960, 50794): 0.2222222222222222,\n",
              " (50794, 63077): 0.2222222222222222,\n",
              " (55489, 58419): 0.2222222222222222,\n",
              " (69356, 73103): 0.2222222222222222,\n",
              " (70357, 82156): 0.2222222222222222,\n",
              " (80521, 82156): 0.2222222222222222,\n",
              " (6760, 7325): 0.21875,\n",
              " (9535, 19911): 0.21875,\n",
              " (13127, 40724): 0.21875,\n",
              " (13127, 56026): 0.21875,\n",
              " (20790, 31379): 0.21875,\n",
              " (25271, 30992): 0.21875,\n",
              " (25490, 31379): 0.21875,\n",
              " (28290, 44794): 0.21875,\n",
              " (33050, 73218): 0.21875,\n",
              " (73218, 79602): 0.21875,\n",
              " (14759, 18389): 0.21739130434782608,\n",
              " (446, 47908): 0.21428571428571427,\n",
              " (1806, 62478): 0.21428571428571427,\n",
              " (7936, 9350): 0.21428571428571427,\n",
              " (7936, 36611): 0.21428571428571427,\n",
              " (7936, 51762): 0.21428571428571427,\n",
              " (8621, 73218): 0.21428571428571427,\n",
              " (9069, 9350): 0.21428571428571427,\n",
              " (9350, 74700): 0.21428571428571427,\n",
              " (10533, 53483): 0.21428571428571427,\n",
              " (11347, 39109): 0.21428571428571427,\n",
              " (12833, 55147): 0.21428571428571427,\n",
              " (13127, 37353): 0.21428571428571427,\n",
              " (13317, 22151): 0.21428571428571427,\n",
              " (13317, 32071): 0.21428571428571427,\n",
              " (13317, 74429): 0.21428571428571427,\n",
              " (13317, 75066): 0.21428571428571427,\n",
              " (14022, 14069): 0.21428571428571427,\n",
              " (14022, 19637): 0.21428571428571427,\n",
              " (14759, 24233): 0.21428571428571427,\n",
              " (18092, 66810): 0.21428571428571427,\n",
              " (18445, 67509): 0.21428571428571427,\n",
              " (18445, 73294): 0.21428571428571427,\n",
              " (20784, 31613): 0.21428571428571427,\n",
              " (20784, 34156): 0.21428571428571427,\n",
              " (20784, 36611): 0.21428571428571427,\n",
              " (20784, 75066): 0.21428571428571427,\n",
              " (21174, 73218): 0.21428571428571427,\n",
              " (22151, 80186): 0.21428571428571427,\n",
              " (25136, 34156): 0.21428571428571427,\n",
              " (25136, 70610): 0.21428571428571427,\n",
              " (27288, 30320): 0.21428571428571427,\n",
              " (27288, 33139): 0.21428571428571427,\n",
              " (27288, 75066): 0.21428571428571427,\n",
              " (27587, 73218): 0.21428571428571427,\n",
              " (28856, 52066): 0.21428571428571427,\n",
              " (28873, 50794): 0.21428571428571427,\n",
              " (31613, 34156): 0.21428571428571427,\n",
              " (31613, 36611): 0.21428571428571427,\n",
              " (31613, 80521): 0.21428571428571427,\n",
              " (33050, 59270): 0.21428571428571427,\n",
              " (33789, 53483): 0.21428571428571427,\n",
              " (34156, 36611): 0.21428571428571427,\n",
              " (34156, 57499): 0.21428571428571427,\n",
              " (34156, 75066): 0.21428571428571427,\n",
              " (34156, 80521): 0.21428571428571427,\n",
              " (36611, 49724): 0.21428571428571427,\n",
              " (36611, 70610): 0.21428571428571427,\n",
              " (37353, 62160): 0.21428571428571427,\n",
              " (37659, 70809): 0.21428571428571427,\n",
              " (41478, 55063): 0.21428571428571427,\n",
              " (42668, 53483): 0.21428571428571427,\n",
              " (44878, 76450): 0.21428571428571427,\n",
              " (49164, 49244): 0.21428571428571427,\n",
              " (50304, 78089): 0.21428571428571427,\n",
              " (50794, 58111): 0.21428571428571427,\n",
              " (52363, 64987): 0.21428571428571427,\n",
              " (52363, 73997): 0.21428571428571427,\n",
              " (53483, 56017): 0.21428571428571427,\n",
              " (53483, 76450): 0.21428571428571427,\n",
              " (55063, 82156): 0.21428571428571427,\n",
              " (55147, 75066): 0.21428571428571427,\n",
              " (55274, 57075): 0.21428571428571427,\n",
              " (57292, 67089): 0.21428571428571427,\n",
              " (59379, 73294): 0.21428571428571427,\n",
              " (61560, 75542): 0.21428571428571427,\n",
              " (67089, 75122): 0.21428571428571427,\n",
              " (75122, 79759): 0.21428571428571427,\n",
              " (80666, 81072): 0.21428571428571427,\n",
              " (6639, 15938): 0.21212121212121213,\n",
              " (30815, 40893): 0.21212121212121213,\n",
              " (33050, 79602): 0.21212121212121213,\n",
              " (40724, 56026): 0.21212121212121213,\n",
              " (18389, 38316): 0.20833333333333334,\n",
              " (25646, 46986): 0.20833333333333334,\n",
              " (25646, 63746): 0.20833333333333334,\n",
              " (27223, 36611): 0.20833333333333334,\n",
              " (27223, 70610): 0.20833333333333334,\n",
              " (41146, 53788): 0.20833333333333334,\n",
              " (56522, 56538): 0.20833333333333334,\n",
              " (57075, 59270): 0.20833333333333334,\n",
              " (59270, 63077): 0.20833333333333334,\n",
              " (446, 16038): 0.20689655172413793,\n",
              " (1806, 28287): 0.20689655172413793,\n",
              " (1806, 55293): 0.20689655172413793,\n",
              " (1811, 66981): 0.20689655172413793,\n",
              " (2478, 67089): 0.20689655172413793,\n",
              " (2478, 79759): 0.20689655172413793,\n",
              " (6750, 7247): 0.20689655172413793,\n",
              " (7158, 82490): 0.20689655172413793,\n",
              " (7325, 29178): 0.20689655172413793,\n",
              " (7936, 68776): 0.20689655172413793,\n",
              " (7946, 31379): 0.20689655172413793,\n",
              " (7946, 55293): 0.20689655172413793,\n",
              " (9069, 70337): 0.20689655172413793,\n",
              " (9069, 75122): 0.20689655172413793,\n",
              " (9194, 78684): 0.20689655172413793,\n",
              " (9350, 32539): 0.20689655172413793,\n",
              " (11347, 38280): 0.20689655172413793,\n",
              " (12541, 17520): 0.20689655172413793,\n",
              " (13317, 21137): 0.20689655172413793,\n",
              " (13317, 23383): 0.20689655172413793,\n",
              " (13317, 30998): 0.20689655172413793,\n",
              " (13317, 39109): 0.20689655172413793,\n",
              " (14069, 19601): 0.20689655172413793,\n",
              " (16107, 32539): 0.20689655172413793,\n",
              " (16675, 57499): 0.20689655172413793,\n",
              " (18092, 43561): 0.20689655172413793,\n",
              " (18092, 76450): 0.20689655172413793,\n",
              " (18424, 72226): 0.20689655172413793,\n",
              " (18445, 24233): 0.20689655172413793,\n",
              " (18445, 44242): 0.20689655172413793,\n",
              " (18690, 34156): 0.20689655172413793,\n",
              " (18690, 70610): 0.20689655172413793,\n",
              " (19585, 44794): 0.20689655172413793,\n",
              " (19601, 55063): 0.20689655172413793,\n",
              " (19601, 68776): 0.20689655172413793,\n",
              " (19601, 73294): 0.20689655172413793,\n",
              " (20784, 64382): 0.20689655172413793,\n",
              " (21137, 73558): 0.20689655172413793,\n",
              " (21174, 33050): 0.20689655172413793,\n",
              " (22101, 70446): 0.20689655172413793,\n",
              " (22853, 31154): 0.20689655172413793,\n",
              " (24195, 34329): 0.20689655172413793,\n",
              " (25136, 59593): 0.20689655172413793,\n",
              " (26592, 69741): 0.20689655172413793,\n",
              " (27137, 57499): 0.20689655172413793,\n",
              " (27288, 62478): 0.20689655172413793,\n",
              " (27288, 76450): 0.20689655172413793,\n",
              " (27347, 38056): 0.20689655172413793,\n",
              " (27587, 79602): 0.20689655172413793,\n",
              " (29417, 42668): 0.20689655172413793,\n",
              " (29955, 67089): 0.20689655172413793,\n",
              " (30320, 59593): 0.20689655172413793,\n",
              " (31379, 78456): 0.20689655172413793,\n",
              " (31613, 62478): 0.20689655172413793,\n",
              " (31613, 76450): 0.20689655172413793,\n",
              " (32071, 42668): 0.20689655172413793,\n",
              " (32071, 49244): 0.20689655172413793,\n",
              " (32071, 59593): 0.20689655172413793,\n",
              " (33139, 43561): 0.20689655172413793,\n",
              " (33360, 47902): 0.20689655172413793,\n",
              " (33789, 69356): 0.20689655172413793,\n",
              " (34156, 50794): 0.20689655172413793,\n",
              " (34156, 58301): 0.20689655172413793,\n",
              " (34156, 76450): 0.20689655172413793,\n",
              " (34156, 76579): 0.20689655172413793,\n",
              " (34284, 56327): 0.20689655172413793,\n",
              " (34844, 62478): 0.20689655172413793,\n",
              " (34844, 76450): 0.20689655172413793,\n",
              " (36611, 42668): 0.20689655172413793,\n",
              " (36611, 45736): 0.20689655172413793,\n",
              " (36611, 50794): 0.20689655172413793,\n",
              " (36611, 58024): 0.20689655172413793,\n",
              " (36611, 58301): 0.20689655172413793,\n",
              " (36611, 68776): 0.20689655172413793,\n",
              " (36611, 76450): 0.20689655172413793,\n",
              " (38056, 56941): 0.20689655172413793,\n",
              " (38316, 75515): 0.20689655172413793,\n",
              " (38913, 70560): 0.20689655172413793,\n",
              " (39330, 48360): 0.20689655172413793,\n",
              " (39694, 50304): 0.20689655172413793,\n",
              " (40893, 77920): 0.20689655172413793,\n",
              " (41356, 55147): 0.20689655172413793,\n",
              " (41478, 55293): 0.20689655172413793,\n",
              " (43561, 66810): 0.20689655172413793,\n",
              " (44290, 51244): 0.20689655172413793,\n",
              " (44290, 63796): 0.20689655172413793,\n",
              " (44588, 81942): 0.20689655172413793,\n",
              " (45736, 70809): 0.20689655172413793,\n",
              " (48360, 72526): 0.20689655172413793,\n",
              " (50304, 51428): 0.20689655172413793,\n",
              " (50794, 55147): 0.20689655172413793,\n",
              " (50794, 66810): 0.20689655172413793,\n",
              " (50794, 69356): 0.20689655172413793,\n",
              " (50794, 70610): 0.20689655172413793,\n",
              " (51428, 75542): 0.20689655172413793,\n",
              " (51762, 69576): 0.20689655172413793,\n",
              " (53483, 73218): 0.20689655172413793,\n",
              " (53483, 74751): 0.20689655172413793,\n",
              " (53826, 67089): 0.20689655172413793,\n",
              " (54414, 76450): 0.20689655172413793,\n",
              " (55147, 58301): 0.20689655172413793,\n",
              " (55147, 76450): 0.20689655172413793,\n",
              " (55293, 62554): 0.20689655172413793,\n",
              " (56327, 74700): 0.20689655172413793,\n",
              " (57075, 79602): 0.20689655172413793,\n",
              " (59000, 59342): 0.20689655172413793,\n",
              " (60230, 63746): 0.20689655172413793,\n",
              " (61765, 76450): 0.20689655172413793,\n",
              " (61789, 72526): 0.20689655172413793,\n",
              " (62160, 67089): 0.20689655172413793,\n",
              " (62176, 68776): 0.20689655172413793,\n",
              " (62478, 69741): 0.20689655172413793,\n",
              " (70610, 76450): 0.20689655172413793,\n",
              " (71959, 79602): 0.20689655172413793,\n",
              " (72014, 82156): 0.20689655172413793,\n",
              " (73103, 73218): 0.20689655172413793,\n",
              " (74700, 75122): 0.20689655172413793,\n",
              " (75066, 76450): 0.20689655172413793,\n",
              " (76450, 80186): 0.20689655172413793,\n",
              " (669, 21570): 0.2,\n",
              " (2478, 7936): 0.2,\n",
              " (2478, 9069): 0.2,\n",
              " (2478, 20817): 0.2,\n",
              " (2478, 74700): 0.2,\n",
              " (4788, 53361): 0.2,\n",
              " (6155, 66537): 0.2,\n",
              " (6760, 82156): 0.2,\n",
              " (7114, 44781): 0.2,\n",
              " (7158, 20615): 0.2,\n",
              " (7158, 44723): 0.2,\n",
              " (7247, 18123): 0.2,\n",
              " (7247, 33139): 0.2,\n",
              " (7247, 34156): 0.2,\n",
              " (7247, 57499): 0.2,\n",
              " (7247, 66571): 0.2,\n",
              " (7463, 42806): 0.2,\n",
              " (7657, 37659): 0.2,\n",
              " (7936, 13127): 0.2,\n",
              " (7936, 18389): 0.2,\n",
              " (7936, 29955): 0.2,\n",
              " (7936, 55293): 0.2,\n",
              " (8621, 21174): 0.2,\n",
              " (8621, 80666): 0.2,\n",
              " (8687, 58244): 0.2,\n",
              " (9069, 13127): 0.2,\n",
              " (9069, 29955): 0.2,\n",
              " (9069, 62160): 0.2,\n",
              " (9194, 28290): 0.2,\n",
              " (9350, 13127): 0.2,\n",
              " (10543, 53826): 0.2,\n",
              " (10543, 73077): 0.2,\n",
              " (11713, 36022): 0.2,\n",
              " (12042, 22101): 0.2,\n",
              " (12118, 50794): 0.2,\n",
              " (12872, 33139): 0.2,\n",
              " (13127, 30320): 0.2,\n",
              " (13127, 33360): 0.2,\n",
              " (13127, 48360): 0.2,\n",
              " (13127, 74700): 0.2,\n",
              " (13127, 75066): 0.2,\n",
              " (13317, 46030): 0.2,\n",
              " (13317, 60619): 0.2,\n",
              " (13574, 31379): 0.2,\n",
              " (13732, 23608): 0.2,\n",
              " (14069, 19637): 0.2,\n",
              " (14069, 21137): 0.2,\n",
              " (14069, 68776): 0.2,\n",
              " (14069, 73294): 0.2,\n",
              " (14069, 75062): 0.2,\n",
              " (14759, 44781): 0.2,\n",
              " (15283, 68776): 0.2,\n",
              " (16469, 32071): 0.2,\n",
              " (17097, 34844): 0.2,\n",
              " (17520, 68999): 0.2,\n",
              " (18389, 18424): 0.2,\n",
              " (18389, 74700): 0.2,\n",
              " (19434, 59342): 0.2,\n",
              " (19585, 28290): 0.2,\n",
              " (20784, 55274): 0.2,\n",
              " (20817, 29955): 0.2,\n",
              " (20817, 53826): 0.2,\n",
              " (20932, 23529): 0.2,\n",
              " (20932, 23652): 0.2,\n",
              " (21137, 42873): 0.2,\n",
              " (21137, 56941): 0.2,\n",
              " (21137, 72226): 0.2,\n",
              " (21137, 73294): 0.2,\n",
              " (21174, 63077): 0.2,\n",
              " (22338, 59270): 0.2,\n",
              " (23383, 42668): 0.2,\n",
              " (23413, 41604): 0.2,\n",
              " (23413, 75542): 0.2,\n",
              " (23647, 76080): 0.2,\n",
              " (24218, 80666): 0.2,\n",
              " (25271, 66981): 0.2,\n",
              " (25646, 76450): 0.2,\n",
              " (27223, 42668): 0.2,\n",
              " (27288, 81072): 0.2,\n",
              " (27347, 56941): 0.2,\n",
              " (27347, 58024): 0.2,\n",
              " (27587, 49960): 0.2,\n",
              " (27587, 57075): 0.2,\n",
              " (27587, 67144): 0.2,\n",
              " (28290, 62554): 0.2,\n",
              " (28856, 45736): 0.2,\n",
              " (28873, 59270): 0.2,\n",
              " (29417, 48535): 0.2,\n",
              " (29417, 55293): 0.2,\n",
              " (29421, 31613): 0.2,\n",
              " (29421, 34156): 0.2,\n",
              " (29421, 75066): 0.2,\n",
              " (29955, 74700): 0.2,\n",
              " (29955, 77619): 0.2,\n",
              " (30815, 50874): 0.2,\n",
              " (31154, 59593): 0.2,\n",
              " (31154, 68776): 0.2,\n",
              " (31228, 31379): 0.2,\n",
              " (31379, 41262): 0.2,\n",
              " (31379, 46848): 0.2,\n",
              " (31613, 72014): 0.2,\n",
              " (31613, 76414): 0.2,\n",
              " (32071, 37042): 0.2,\n",
              " (32071, 46030): 0.2,\n",
              " (32539, 80293): 0.2,\n",
              " (33050, 62554): 0.2,\n",
              " (33139, 78305): 0.2,\n",
              " (33139, 81072): 0.2,\n",
              " (33789, 76450): 0.2,\n",
              " (34156, 55274): 0.2,\n",
              " (34156, 66537): 0.2,\n",
              " (34329, 55293): 0.2,\n",
              " (34844, 72014): 0.2,\n",
              " (36611, 69003): 0.2,\n",
              " (37353, 44781): 0.2,\n",
              " (37383, 68976): 0.2,\n",
              " (37659, 44794): 0.2,\n",
              " (39330, 45399): 0.2,\n",
              " (39330, 55063): 0.2,\n",
              " (40327, 69741): 0.2,\n",
              " (40728, 53826): 0.2,\n",
              " (41146, 62231): 0.2,\n",
              " (41207, 41262): 0.2,\n",
              " (42668, 49244): 0.2,\n",
              " (42668, 50794): 0.2,\n",
              " (42873, 56941): 0.2,\n",
              " (44242, 44588): 0.2,\n",
              " (44242, 48791): 0.2,\n",
              " (45399, 55063): 0.2,\n",
              " (45661, 46848): 0.2,\n",
              " (46030, 74429): 0.2,\n",
              " (46426, 53826): 0.2,\n",
              " (46762, 68229): 0.2,\n",
              " (49244, 66015): 0.2,\n",
              " (49244, 74126): 0.2,\n",
              " (49724, 66537): 0.2,\n",
              " (49960, 63077): 0.2,\n",
              " (50304, 75542): 0.2,\n",
              " (50794, 69347): 0.2,\n",
              " (51632, 77988): 0.2,\n",
              " (52716, 78438): 0.2,\n",
              " (53483, 79602): 0.2,\n",
              " (54436, 76422): 0.2,\n",
              " (54527, 66015): 0.2,\n",
              " (55063, 58024): 0.2,\n",
              " (55147, 73218): 0.2,\n",
              " (55274, 69356): 0.2,\n",
              " (56941, 73294): 0.2,\n",
              " (57075, 63077): 0.2,\n",
              " (58024, 67509): 0.2,\n",
              " (58024, 74126): 0.2,\n",
              " (58304, 63729): 0.2,\n",
              " (59270, 82156): 0.2,\n",
              " (59593, 62478): 0.2,\n",
              " (59593, 69347): 0.2,\n",
              " (59593, 76450): 0.2,\n",
              " (60230, 79789): 0.2,\n",
              " (60686, 63359): 0.2,\n",
              " (62160, 74700): 0.2,\n",
              " (63729, 68776): 0.2,\n",
              " (63770, 69748): 0.2,\n",
              " (66537, 75066): 0.2,\n",
              " (68776, 73294): 0.2,\n",
              " (69003, 70610): 0.2,\n",
              " (69356, 73218): 0.2,\n",
              " (70333, 79602): 0.2,\n",
              " (70337, 74126): 0.2,\n",
              " (70410, 77233): 0.2,\n",
              " (70410, 78684): 0.2,\n",
              " (70560, 80103): 0.2,\n",
              " (72047, 81452): 0.2,\n",
              " (73218, 75066): 0.2,\n",
              " (75066, 81072): 0.2,\n",
              " (75122, 80293): 0.2,\n",
              " (204, 59342): 0.1935483870967742,\n",
              " (2478, 32539): 0.1935483870967742,\n",
              " (2478, 57292): 0.1935483870967742,\n",
              " (2478, 80293): 0.1935483870967742,\n",
              " (4895, 13317): 0.1935483870967742,\n",
              " (5544, 21525): 0.1935483870967742,\n",
              " (5936, 7657): 0.1935483870967742,\n",
              " (6602, 67262): 0.1935483870967742,\n",
              " (6602, 70560): 0.1935483870967742,\n",
              " (6760, 31613): 0.1935483870967742,\n",
              " (7247, 50794): 0.1935483870967742,\n",
              " (7247, 81632): 0.1935483870967742,\n",
              " (7325, 21525): 0.1935483870967742,\n",
              " (7325, 39109): 0.1935483870967742,\n",
              " (7325, 59593): 0.1935483870967742,\n",
              " (7325, 72526): 0.1935483870967742,\n",
              " (7936, 15938): 0.1935483870967742,\n",
              " (7936, 28290): 0.1935483870967742,\n",
              " (7936, 40724): 0.1935483870967742,\n",
              " (8687, 28287): 0.1935483870967742,\n",
              " (8794, 42668): 0.1935483870967742,\n",
              " (8794, 70560): 0.1935483870967742,\n",
              " (8794, 75062): 0.1935483870967742,\n",
              " (9631, 41207): 0.1935483870967742,\n",
              " (10975, 59000): 0.1935483870967742,\n",
              " (12872, 43561): 0.1935483870967742,\n",
              " (13127, 14069): 0.1935483870967742,\n",
              " (13317, 28290): 0.1935483870967742,\n",
              " (13894, 58304): 0.1935483870967742,\n",
              " (13894, 63729): 0.1935483870967742,\n",
              " (15001, 50304): 0.1935483870967742,\n",
              " (15938, 41262): 0.1935483870967742,\n",
              " (15938, 74700): 0.1935483870967742,\n",
              " (16469, 23383): 0.1935483870967742,\n",
              " (16675, 74751): 0.1935483870967742,\n",
              " (16675, 78292): 0.1935483870967742,\n",
              " (19601, 32092): 0.1935483870967742,\n",
              " (20744, 73218): 0.1935483870967742,\n",
              " (20784, 33050): 0.1935483870967742,\n",
              " (21017, 51076): 0.1935483870967742,\n",
              " (21137, 44242): 0.1935483870967742,\n",
              " (21525, 28532): 0.1935483870967742,\n",
              " (24233, 55063): 0.1935483870967742,\n",
              " (24233, 68776): 0.1935483870967742,\n",
              " (24601, 27347): 0.1935483870967742,\n",
              " (27288, 68229): 0.1935483870967742,\n",
              " (27288, 79602): 0.1935483870967742,\n",
              " (28290, 30320): 0.1935483870967742,\n",
              " (28290, 36611): 0.1935483870967742,\n",
              " (28290, 37659): 0.1935483870967742,\n",
              " (28290, 51762): 0.1935483870967742,\n",
              " (28290, 69741): 0.1935483870967742,\n",
              " (28290, 75066): 0.1935483870967742,\n",
              " (29421, 50794): 0.1935483870967742,\n",
              " (29955, 32539): 0.1935483870967742,\n",
              " (30815, 31228): 0.1935483870967742,\n",
              " (31228, 40893): 0.1935483870967742,\n",
              " (31379, 70741): 0.1935483870967742,\n",
              " (31916, 56539): 0.1935483870967742,\n",
              " (33050, 47138): 0.1935483870967742,\n",
              " (33050, 55147): 0.1935483870967742,\n",
              " (33050, 80186): 0.1935483870967742,\n",
              " (33050, 80521): 0.1935483870967742,\n",
              " (33789, 50479): 0.1935483870967742,\n",
              " (36022, 53079): 0.1935483870967742,\n",
              " (36611, 79602): 0.1935483870967742,\n",
              " (36611, 82992): 0.1935483870967742,\n",
              " (37872, 41604): 0.1935483870967742,\n",
              " (39608, 45399): 0.1935483870967742,\n",
              " (40724, 41510): 0.1935483870967742,\n",
              " (40724, 48360): 0.1935483870967742,\n",
              " (41207, 56776): 0.1935483870967742,\n",
              " (41207, 75542): 0.1935483870967742,\n",
              " (44242, 68776): 0.1935483870967742,\n",
              " (44679, 54527): 0.1935483870967742,\n",
              " (44939, 75066): 0.1935483870967742,\n",
              " (46631, 75515): 0.1935483870967742,\n",
              " (48535, 56097): 0.1935483870967742,\n",
              " (48535, 59000): 0.1935483870967742,\n",
              " (48976, 59593): 0.1935483870967742,\n",
              " (49098, 74700): 0.1935483870967742,\n",
              " (49372, 50235): 0.1935483870967742,\n",
              " (50794, 55274): 0.1935483870967742,\n",
              " (50794, 57400): 0.1935483870967742,\n",
              " (50794, 66537): 0.1935483870967742,\n",
              " (50794, 74751): 0.1935483870967742,\n",
              " (50794, 78305): 0.1935483870967742,\n",
              " (51428, 68306): 0.1935483870967742,\n",
              " (51886, 68136): 0.1935483870967742,\n",
              " (52716, 59000): 0.1935483870967742,\n",
              " (53826, 57292): 0.1935483870967742,\n",
              " (53826, 75542): 0.1935483870967742,\n",
              " (55063, 55293): 0.1935483870967742,\n",
              " (55274, 76450): 0.1935483870967742,\n",
              " (55293, 59593): 0.1935483870967742,\n",
              " (56539, 66537): 0.1935483870967742,\n",
              " (57292, 62160): 0.1935483870967742,\n",
              " (57466, 59642): 0.1935483870967742,\n",
              " (62160, 75122): 0.1935483870967742,\n",
              " (62478, 72014): 0.1935483870967742,\n",
              " (62478, 76414): 0.1935483870967742,\n",
              " (62478, 81072): 0.1935483870967742,\n",
              " (63166, 67909): 0.1935483870967742,\n",
              " (63729, 65684): 0.1935483870967742,\n",
              " (63796, 70374): 0.1935483870967742,\n",
              " (65684, 74126): 0.1935483870967742,\n",
              " (66322, 82490): 0.1935483870967742,\n",
              " (67509, 81072): 0.1935483870967742,\n",
              " (68229, 75066): 0.1935483870967742,\n",
              " (68999, 77552): 0.1935483870967742,\n",
              " (70560, 75515): 0.1935483870967742,\n",
              " (72843, 82512): 0.1935483870967742,\n",
              " (73218, 76450): 0.1935483870967742,\n",
              " (76450, 78305): 0.1935483870967742,\n",
              " (76450, 81072): 0.1935483870967742,\n",
              " (79602, 80186): 0.1935483870967742,\n",
              " (1806, 20743): 0.19230769230769232,\n",
              " (7114, 77614): 0.19230769230769232,\n",
              " (7657, 27223): 0.19230769230769232,\n",
              " (8621, 43592): 0.19230769230769232,\n",
              " (9194, 27587): 0.19230769230769232,\n",
              " (9350, 27687): 0.19230769230769232,\n",
              " (9478, 27223): 0.19230769230769232,\n",
              " (11347, 24218): 0.19230769230769232,\n",
              " (11347, 80666): 0.19230769230769232,\n",
              " (12134, 25632): 0.19230769230769232,\n",
              " (18389, 59000): 0.19230769230769232,\n",
              " (18389, 70337): 0.19230769230769232,\n",
              " (18445, 25282): 0.19230769230769232,\n",
              " (18445, 30285): 0.19230769230769232,\n",
              " (18445, 44781): 0.19230769230769232,\n",
              " (21137, 22301): 0.19230769230769232,\n",
              " (21174, 28873): 0.19230769230769232,\n",
              " (21174, 44878): 0.19230769230769232,\n",
              " (22301, 72226): 0.19230769230769232,\n",
              " (24218, 78089): 0.19230769230769232,\n",
              " (25632, 52066): 0.19230769230769232,\n",
              " (25632, 79759): 0.19230769230769232,\n",
              " (27223, 38280): 0.19230769230769232,\n",
              " (27223, 48976): 0.19230769230769232,\n",
              " (27223, 69003): 0.19230769230769232,\n",
              " (27587, 28873): 0.19230769230769232,\n",
              " (27587, 44878): 0.19230769230769232,\n",
              " (27638, 40728): 0.19230769230769232,\n",
              " (28365, 51775): 0.19230769230769232,\n",
              " (28873, 63077): 0.19230769230769232,\n",
              " (30285, 59379): 0.19230769230769232,\n",
              " (34156, 38530): 0.19230769230769232,\n",
              " (37353, 79759): 0.19230769230769232,\n",
              " (44781, 58685): 0.19230769230769232,\n",
              " (44781, 72441): 0.19230769230769232,\n",
              " (44878, 49960): 0.19230769230769232,\n",
              " (44878, 63077): 0.19230769230769232,\n",
              " (46767, 57379): 0.19230769230769232,\n",
              " (50874, 71959): 0.19230769230769232,\n",
              " (54545, 55489): 0.19230769230769232,\n",
              " (56784, 71959): 0.19230769230769232,\n",
              " (57075, 73103): 0.19230769230769232,\n",
              " (57499, 59270): 0.19230769230769232,\n",
              " (58685, 64399): 0.19230769230769232,\n",
              " (70333, 71959): 0.19230769230769232,\n",
              " (1811, 6151): 0.1875,\n",
              " (1811, 30992): 0.1875,\n",
              " (1811, 41207): 0.1875,\n",
              " (1811, 75515): 0.1875,\n",
              " (2253, 49098): 0.1875,\n",
              " (2478, 29955): 0.1875,\n",
              " (2478, 53826): 0.1875,\n",
              " (4895, 29873): 0.1875,\n",
              " (4895, 46600): 0.1875,\n",
              " (5936, 79602): 0.1875,\n",
              " (6151, 8794): 0.1875,\n",
              " (6639, 21525): 0.1875,\n",
              " (6760, 55063): 0.1875,\n",
              " (6760, 62478): 0.1875,\n",
              " (7325, 7657): 0.1875,\n",
              " (7325, 55293): 0.1875,\n",
              " (7657, 9478): 0.1875,\n",
              " (7657, 17097): 0.1875,\n",
              " (7657, 76414): 0.1875,\n",
              " (8687, 49098): 0.1875,\n",
              " (9478, 60619): 0.1875,\n",
              " (11713, 31916): 0.1875,\n",
              " (11713, 75515): 0.1875,\n",
              " (12976, 56026): 0.1875,\n",
              " (13127, 24233): 0.1875,\n",
              " (13127, 29955): 0.1875,\n",
              " (13127, 68252): 0.1875,\n",
              " (13809, 75542): 0.1875,\n",
              " (14069, 32092): 0.1875,\n",
              " (14069, 40724): 0.1875,\n",
              " (14704, 65862): 0.1875,\n",
              " (15631, 35930): 0.1875,\n",
              " (15938, 21525): 0.1875,\n",
              " (15938, 31154): 0.1875,\n",
              " (15938, 55063): 0.1875,\n",
              " (15938, 68776): 0.1875,\n",
              " (15938, 75122): 0.1875,\n",
              " (15938, 75542): 0.1875,\n",
              " (16038, 25271): 0.1875,\n",
              " (17097, 44794): 0.1875,\n",
              " (19784, 49372): 0.1875,\n",
              " (20991, 81895): 0.1875,\n",
              " (21137, 40724): 0.1875,\n",
              " (22101, 80961): 0.1875,\n",
              " (24233, 44242): 0.1875,\n",
              " (25271, 56941): 0.1875,\n",
              " (25490, 47902): 0.1875,\n",
              " (25490, 52375): 0.1875,\n",
              " (25490, 55063): 0.1875,\n",
              " (28290, 62478): 0.1875,\n",
              " (28290, 63359): 0.1875,\n",
              " (28290, 69748): 0.1875,\n",
              " (29873, 79602): 0.1875,\n",
              " (29955, 45661): 0.1875,\n",
              " (30992, 31916): 0.1875,\n",
              " (31379, 45661): 0.1875,\n",
              " (31379, 78832): 0.1875,\n",
              " (31916, 44723): 0.1875,\n",
              " (31916, 77049): 0.1875,\n",
              " (33050, 33789): 0.1875,\n",
              " (34315, 58419): 0.1875,\n",
              " (40724, 70560): 0.1875,\n",
              " (40724, 72047): 0.1875,\n",
              " (40724, 80103): 0.1875,\n",
              " (40850, 44794): 0.1875,\n",
              " (41207, 75515): 0.1875,\n",
              " (41604, 63677): 0.1875,\n",
              " (44939, 50794): 0.1875,\n",
              " (50235, 52051): 0.1875,\n",
              " (51632, 79602): 0.1875,\n",
              " (51873, 75515): 0.1875,\n",
              " (55293, 81072): 0.1875,\n",
              " (56941, 82992): 0.1875,\n",
              " (57292, 72095): 0.1875,\n",
              " (58419, 70513): 0.1875,\n",
              " (59000, 68306): 0.1875,\n",
              " (65684, 66537): 0.1875,\n",
              " (68007, 70560): 0.1875,\n",
              " (68306, 75542): 0.1875,\n",
              " (73218, 74751): 0.1875,\n",
              " (81942, 82992): 0.1875,\n",
              " (446, 24218): 0.18518518518518517,\n",
              " (1806, 13087): 0.18518518518518517,\n",
              " (1806, 62554): 0.18518518518518517,\n",
              " (1806, 79759): 0.18518518518518517,\n",
              " (4829, 9631): 0.18518518518518517,\n",
              " (4829, 75542): 0.18518518518518517,\n",
              " (6750, 9194): 0.18518518518518517,\n",
              " (6750, 31385): 0.18518518518518517,\n",
              " (6750, 53483): 0.18518518518518517,\n",
              " (6750, 70333): 0.18518518518518517,\n",
              " (6830, 38316): 0.18518518518518517,\n",
              " (7114, 8243): 0.18518518518518517,\n",
              " (7114, 57800): 0.18518518518518517,\n",
              " (7158, 24218): 0.18518518518518517,\n",
              " (7936, 14759): 0.18518518518518517,\n",
              " (7936, 25632): 0.18518518518518517,\n",
              " (7946, 62554): 0.18518518518518517,\n",
              " (8243, 14759): 0.18518518518518517,\n",
              " (8604, 41262): 0.18518518518518517,\n",
              " (8621, 13317): 0.18518518518518517,\n",
              " (8621, 18092): 0.18518518518518517,\n",
              " (8621, 25136): 0.18518518518518517,\n",
              " (8621, 66810): 0.18518518518518517,\n",
              " (8621, 70610): 0.18518518518518517,\n",
              " (8621, 80521): 0.18518518518518517,\n",
              " (9069, 25632): 0.18518518518518517,\n",
              " (9069, 44781): 0.18518518518518517,\n",
              " (9194, 13087): 0.18518518518518517,\n",
              " (9194, 82156): 0.18518518518518517,\n",
              " (9350, 25632): 0.18518518518518517,\n",
              " (9350, 44781): 0.18518518518518517,\n",
              " (10500, 54549): 0.18518518518518517,\n",
              " (10522, 14759): 0.18518518518518517,\n",
              " (10975, 18389): 0.18518518518518517,\n",
              " (11789, 14759): 0.18518518518518517,\n",
              " (12134, 43592): 0.18518518518518517,\n",
              " (12134, 49164): 0.18518518518518517,\n",
              " (12134, 72797): 0.18518518518518517,\n",
              " (13087, 37727): 0.18518518518518517,\n",
              " (13317, 49960): 0.18518518518518517,\n",
              " (14664, 18445): 0.18518518518518517,\n",
              " (14759, 27288): 0.18518518518518517,\n",
              " (14759, 34284): 0.18518518518518517,\n",
              " (14759, 44588): 0.18518518518518517,\n",
              " (14759, 74700): 0.18518518518518517,\n",
              " (15283, 46767): 0.18518518518518517,\n",
              " (18092, 21174): 0.18518518518518517,\n",
              " (18123, 20743): 0.18518518518518517,\n",
              " (18389, 52716): 0.18518518518518517,\n",
              " (18389, 75515): 0.18518518518518517,\n",
              " (18445, 27209): 0.18518518518518517,\n",
              " (18445, 59379): 0.18518518518518517,\n",
              " (19601, 25282): 0.18518518518518517,\n",
              " (20143, 29178): 0.18518518518518517,\n",
              " (20143, 46762): 0.18518518518518517,\n",
              " (20743, 66810): 0.18518518518518517,\n",
              " (20784, 27587): 0.18518518518518517,\n",
              " (20784, 57075): 0.18518518518518517,\n",
              " (20817, 77551): 0.18518518518518517,\n",
              " (21174, 34156): 0.18518518518518517,\n",
              " (21174, 57499): 0.18518518518518517,\n",
              " (21174, 66810): 0.18518518518518517,\n",
              " (21174, 69356): 0.18518518518518517,\n",
              " (21525, 27687): 0.18518518518518517,\n",
              " (22283, 55489): 0.18518518518518517,\n",
              " (22338, 82156): 0.18518518518518517,\n",
              " (22853, 57075): 0.18518518518518517,\n",
              " (23608, 79759): 0.18518518518518517,\n",
              " (23646, 69356): 0.18518518518518517,\n",
              " (23646, 75066): 0.18518518518518517,\n",
              " (23647, 41604): 0.18518518518518517,\n",
              " (23647, 77552): 0.18518518518518517,\n",
              " (24450, 62554): 0.18518518518518517,\n",
              " (25347, 44781): 0.18518518518518517,\n",
              " (25612, 41478): 0.18518518518518517,\n",
              " (25632, 32071): 0.18518518518518517,\n",
              " (25632, 74429): 0.18518518518518517,\n",
              " (25632, 74700): 0.18518518518518517,\n",
              " (25808, 50304): 0.18518518518518517,\n",
              " (27209, 78089): 0.18518518518518517,\n",
              " (27288, 27587): 0.18518518518518517,\n",
              " (27587, 31613): 0.18518518518518517,\n",
              " (27587, 57499): 0.18518518518518517,\n",
              " (27587, 66810): 0.18518518518518517,\n",
              " (28873, 73103): 0.18518518518518517,\n",
              " (29141, 36611): 0.18518518518518517,\n",
              " (30285, 59367): 0.18518518518518517,\n",
              " (31228, 70780): 0.18518518518518517,\n",
              " (31385, 62554): 0.18518518518518517,\n",
              " (31613, 63077): 0.18518518518518517,\n",
              " (33139, 71959): 0.18518518518518517,\n",
              " (34076, 78456): 0.18518518518518517,\n",
              " (34156, 57075): 0.18518518518518517,\n",
              " (36611, 57075): 0.18518518518518517,\n",
              " (36611, 81572): 0.18518518518518517,\n",
              " (39694, 44781): 0.18518518518518517,\n",
              " (41262, 44781): 0.18518518518518517,\n",
              " (41262, 51454): 0.18518518518518517,\n",
              " (41466, 49960): 0.18518518518518517,\n",
              " (44555, 71959): 0.18518518518518517,\n",
              " (44781, 53788): 0.18518518518518517,\n",
              " (44781, 74700): 0.18518518518518517,\n",
              " (44781, 81323): 0.18518518518518517,\n",
              " (47908, 57075): 0.18518518518518517,\n",
              " (48960, 62079): 0.18518518518518517,\n",
              " (49960, 57499): 0.18518518518518517,\n",
              " (49960, 66810): 0.18518518518518517,\n",
              " (50794, 59270): 0.18518518518518517,\n",
              " (53483, 56784): 0.18518518518518517,\n",
              " (54545, 66981): 0.18518518518518517,\n",
              " (55147, 61179): 0.18518518518518517,\n",
              " (55147, 62738): 0.18518518518518517,\n",
              " (55147, 71959): 0.18518518518518517,\n",
              " (55147, 78268): 0.18518518518518517,\n",
              " (57075, 75066): 0.18518518518518517,\n",
              " (57075, 80521): 0.18518518518518517,\n",
              " (57499, 63077): 0.18518518518518517,\n",
              " (57499, 78268): 0.18518518518518517,\n",
              " (57558, 62554): 0.18518518518518517,\n",
              " (59270, 76450): 0.18518518518518517,\n",
              " (60230, 76422): 0.18518518518518517,\n",
              " (61179, 75066): 0.18518518518518517,\n",
              " (62738, 80521): 0.18518518518518517,\n",
              " (67089, 78456): 0.18518518518518517,\n",
              " (67089, 79759): 0.18518518518518517,\n",
              " (71959, 75066): 0.18518518518518517,\n",
              " (204, 10975): 0.18181818181818182,\n",
              " (5544, 6639): 0.18181818181818182,\n",
              " (6602, 30815): 0.18181818181818182,\n",
              " (6602, 65862): 0.18181818181818182,\n",
              " (6760, 55293): 0.18181818181818182,\n",
              " (7247, 79602): 0.18181818181818182,\n",
              " (7443, 47723): 0.18181818181818182,\n",
              " (13127, 28290): 0.18181818181818182,\n",
              " (15001, 68306): 0.18181818181818182,\n",
              " (20790, 81895): 0.18181818181818182,\n",
              " (24233, 25490): 0.18181818181818182,\n",
              " (24233, 40724): 0.18181818181818182,\n",
              " (24233, 68229): 0.18181818181818182,\n",
              " (24601, 65862): 0.18181818181818182,\n",
              " (25271, 26546): 0.18181818181818182,\n",
              " (25271, 41207): 0.18181818181818182,\n",
              " (25490, 55293): 0.18181818181818182,\n",
              " (28287, 79602): 0.18181818181818182,\n",
              " (28290, 81072): 0.18181818181818182,\n",
              " ...}"
            ]
          },
          "metadata": {},
          "execution_count": 131
        }
      ]
    },
    {
      "cell_type": "code",
      "source": [
        "first_50_items = dict(islice(sorted_dict.items(), 50)) # work with 50 sentences as a start"
      ],
      "metadata": {
        "id": "lpey9YHFeeAz"
      },
      "execution_count": null,
      "outputs": []
    },
    {
      "cell_type": "code",
      "source": [
        "first_50_items"
      ],
      "metadata": {
        "colab": {
          "base_uri": "https://localhost:8080/"
        },
        "id": "jPjRWEGAeeDa",
        "outputId": "49e19153-6eb2-4759-ac58-697fa1129d38"
      },
      "execution_count": null,
      "outputs": [
        {
          "output_type": "execute_result",
          "data": {
            "text/plain": [
              "{(23472, 23473): 0.8823529411764706,\n",
              " (33139, 76450): 0.4,\n",
              " (43561, 57499): 0.34615384615384615,\n",
              " (66810, 76450): 0.34615384615384615,\n",
              " (43561, 76450): 0.3333333333333333,\n",
              " (21174, 33789): 0.32,\n",
              " (49960, 76450): 0.32,\n",
              " (33050, 76450): 0.3103448275862069,\n",
              " (76450, 79602): 0.3103448275862069,\n",
              " (1806, 76450): 0.3076923076923077,\n",
              " (7936, 9069): 0.3076923076923077,\n",
              " (7936, 74700): 0.3076923076923077,\n",
              " (9069, 74700): 0.3076923076923077,\n",
              " (50794, 53483): 0.3076923076923077,\n",
              " (9069, 18389): 0.30434782608695654,\n",
              " (7936, 75122): 0.2962962962962963,\n",
              " (8621, 33050): 0.2962962962962963,\n",
              " (18123, 76450): 0.2962962962962963,\n",
              " (23383, 32071): 0.2962962962962963,\n",
              " (33050, 49960): 0.2962962962962963,\n",
              " (33139, 62478): 0.2962962962962963,\n",
              " (50794, 75066): 0.2962962962962963,\n",
              " (57499, 76450): 0.2962962962962963,\n",
              " (70446, 72226): 0.2962962962962963,\n",
              " (7247, 66810): 0.2857142857142857,\n",
              " (13317, 81072): 0.2857142857142857,\n",
              " (14069, 67509): 0.2857142857142857,\n",
              " (22101, 72226): 0.2857142857142857,\n",
              " (62478, 76450): 0.2857142857142857,\n",
              " (6818, 73103): 0.28,\n",
              " (9069, 14759): 0.28,\n",
              " (9069, 37353): 0.28,\n",
              " (44781, 57800): 0.28,\n",
              " (55147, 57075): 0.28,\n",
              " (57075, 69356): 0.28,\n",
              " (7247, 76450): 0.27586206896551724,\n",
              " (13127, 32539): 0.27586206896551724,\n",
              " (33050, 57499): 0.27586206896551724,\n",
              " (36483, 73997): 0.27586206896551724,\n",
              " (50794, 73218): 0.27586206896551724,\n",
              " (55147, 79602): 0.27586206896551724,\n",
              " (55293, 62478): 0.27586206896551724,\n",
              " (6750, 33139): 0.2692307692307692,\n",
              " (7936, 67089): 0.2692307692307692,\n",
              " (7936, 79759): 0.2692307692307692,\n",
              " (9069, 79759): 0.2692307692307692,\n",
              " (11713, 46767): 0.2692307692307692,\n",
              " (21137, 30285): 0.2692307692307692,\n",
              " (29417, 53483): 0.2692307692307692,\n",
              " (36611, 62554): 0.2692307692307692}"
            ]
          },
          "metadata": {},
          "execution_count": 133
        }
      ]
    },
    {
      "cell_type": "code",
      "source": [
        "import statistics\n",
        "\n",
        "\n",
        "values = list(first_50_items.values())\n",
        "mean_value = statistics.mean(values)\n",
        "mean_value"
      ],
      "metadata": {
        "colab": {
          "base_uri": "https://localhost:8080/"
        },
        "id": "8EVnHdqXgv1l",
        "outputId": "d3a07d86-950f-4a66-8372-4db1aacd01d5"
      },
      "execution_count": null,
      "outputs": [
        {
          "output_type": "execute_result",
          "data": {
            "text/plain": [
              "0.3054322343676255"
            ]
          },
          "metadata": {},
          "execution_count": 134
        }
      ]
    },
    {
      "cell_type": "code",
      "source": [
        "import statistics\n",
        "\n",
        "\n",
        "values = list(first_50_items.values())\n",
        "mean_value = statistics.mean(values)\n",
        "mean_value"
      ],
      "metadata": {
        "colab": {
          "base_uri": "https://localhost:8080/"
        },
        "id": "-8q3rIjLeeF3",
        "outputId": "5b677f15-0e2b-49a4-92f8-a0725525c184"
      },
      "execution_count": null,
      "outputs": [
        {
          "output_type": "execute_result",
          "data": {
            "text/plain": [
              "0.3054322343676255"
            ]
          },
          "metadata": {},
          "execution_count": 135
        }
      ]
    },
    {
      "cell_type": "markdown",
      "source": [
        "# REPEAT PROCESS:\n"
      ],
      "metadata": {
        "id": "f6nU_ptamwxS"
      }
    },
    {
      "cell_type": "code",
      "source": [
        "X = filtered_df['txt']\n",
        "y = filtered_df['sentiment']"
      ],
      "metadata": {
        "id": "CfF1dBfymyLX"
      },
      "execution_count": null,
      "outputs": []
    },
    {
      "cell_type": "code",
      "source": [
        "df_short_sentences.head(10)"
      ],
      "metadata": {
        "colab": {
          "base_uri": "https://localhost:8080/",
          "height": 363
        },
        "id": "3hEZQGf1l5w4",
        "outputId": "7c4b4569-be68-4e3b-b94e-6c0ea1993467"
      },
      "execution_count": null,
      "outputs": [
        {
          "output_type": "execute_result",
          "data": {
            "text/plain": [
              "                                                    txt  sentiment  \\\n",
              "100   textbook: book shipped quickly and was in exce...          1   \n",
              "204   haven't found better yet...: this is the only ...          1   \n",
              "332   god's zoo: wonderful video, very comical and l...          1   \n",
              "446   good value: i love curve and this is a large b...          1   \n",
              "669   janes all the worlds aircraft 1996-7: great to...          1   \n",
              "686   edge of danger: 1 star - only because that's t...          0   \n",
              "725   needs $$ upgrade: only has limited access to o...          0   \n",
              "1232  a disappointment: maeve's forte is character d...          0   \n",
              "1436  frida's more attractive soundtrack sister: utt...          0   \n",
              "1806  ninnia: this monitor is great. the service i g...          1   \n",
              "\n",
              "      num_of_words                                           anon_txt  \n",
              "100             16  textbook: book shipped quickly and was in exce...  \n",
              "204             20  haven't found better yet...: this is the only ...  \n",
              "332             20  god's zoo: wonderful video, very comical and l...  \n",
              "446             20  good value: i love curve and this is a large b...  \n",
              "669             18  janes all the worlds aircraft 1996-7: great to...  \n",
              "686             18  edge of danger: 1 star - only because that's t...  \n",
              "725             20  needs $$ upgrade: only has limited access to o...  \n",
              "1232            19  a disappointment: maeve's forte is character d...  \n",
              "1436            15  frida's more attractive soundtrack sister: utt...  \n",
              "1806            20  ninnia: this monitor is great. the service i g...  "
            ],
            "text/html": [
              "\n",
              "  <div id=\"df-d2998951-57fb-455e-895c-7d529b3f0a5c\">\n",
              "    <div class=\"colab-df-container\">\n",
              "      <div>\n",
              "<style scoped>\n",
              "    .dataframe tbody tr th:only-of-type {\n",
              "        vertical-align: middle;\n",
              "    }\n",
              "\n",
              "    .dataframe tbody tr th {\n",
              "        vertical-align: top;\n",
              "    }\n",
              "\n",
              "    .dataframe thead th {\n",
              "        text-align: right;\n",
              "    }\n",
              "</style>\n",
              "<table border=\"1\" class=\"dataframe\">\n",
              "  <thead>\n",
              "    <tr style=\"text-align: right;\">\n",
              "      <th></th>\n",
              "      <th>txt</th>\n",
              "      <th>sentiment</th>\n",
              "      <th>num_of_words</th>\n",
              "      <th>anon_txt</th>\n",
              "    </tr>\n",
              "  </thead>\n",
              "  <tbody>\n",
              "    <tr>\n",
              "      <th>100</th>\n",
              "      <td>textbook: book shipped quickly and was in exce...</td>\n",
              "      <td>1</td>\n",
              "      <td>16</td>\n",
              "      <td>textbook: book shipped quickly and was in exce...</td>\n",
              "    </tr>\n",
              "    <tr>\n",
              "      <th>204</th>\n",
              "      <td>haven't found better yet...: this is the only ...</td>\n",
              "      <td>1</td>\n",
              "      <td>20</td>\n",
              "      <td>haven't found better yet...: this is the only ...</td>\n",
              "    </tr>\n",
              "    <tr>\n",
              "      <th>332</th>\n",
              "      <td>god's zoo: wonderful video, very comical and l...</td>\n",
              "      <td>1</td>\n",
              "      <td>20</td>\n",
              "      <td>god's zoo: wonderful video, very comical and l...</td>\n",
              "    </tr>\n",
              "    <tr>\n",
              "      <th>446</th>\n",
              "      <td>good value: i love curve and this is a large b...</td>\n",
              "      <td>1</td>\n",
              "      <td>20</td>\n",
              "      <td>good value: i love curve and this is a large b...</td>\n",
              "    </tr>\n",
              "    <tr>\n",
              "      <th>669</th>\n",
              "      <td>janes all the worlds aircraft 1996-7: great to...</td>\n",
              "      <td>1</td>\n",
              "      <td>18</td>\n",
              "      <td>janes all the worlds aircraft 1996-7: great to...</td>\n",
              "    </tr>\n",
              "    <tr>\n",
              "      <th>686</th>\n",
              "      <td>edge of danger: 1 star - only because that's t...</td>\n",
              "      <td>0</td>\n",
              "      <td>18</td>\n",
              "      <td>edge of danger: 1 star - only because that's t...</td>\n",
              "    </tr>\n",
              "    <tr>\n",
              "      <th>725</th>\n",
              "      <td>needs $$ upgrade: only has limited access to o...</td>\n",
              "      <td>0</td>\n",
              "      <td>20</td>\n",
              "      <td>needs $$ upgrade: only has limited access to o...</td>\n",
              "    </tr>\n",
              "    <tr>\n",
              "      <th>1232</th>\n",
              "      <td>a disappointment: maeve's forte is character d...</td>\n",
              "      <td>0</td>\n",
              "      <td>19</td>\n",
              "      <td>a disappointment: maeve's forte is character d...</td>\n",
              "    </tr>\n",
              "    <tr>\n",
              "      <th>1436</th>\n",
              "      <td>frida's more attractive soundtrack sister: utt...</td>\n",
              "      <td>0</td>\n",
              "      <td>15</td>\n",
              "      <td>frida's more attractive soundtrack sister: utt...</td>\n",
              "    </tr>\n",
              "    <tr>\n",
              "      <th>1806</th>\n",
              "      <td>ninnia: this monitor is great. the service i g...</td>\n",
              "      <td>1</td>\n",
              "      <td>20</td>\n",
              "      <td>ninnia: this monitor is great. the service i g...</td>\n",
              "    </tr>\n",
              "  </tbody>\n",
              "</table>\n",
              "</div>\n",
              "      <button class=\"colab-df-convert\" onclick=\"convertToInteractive('df-d2998951-57fb-455e-895c-7d529b3f0a5c')\"\n",
              "              title=\"Convert this dataframe to an interactive table.\"\n",
              "              style=\"display:none;\">\n",
              "        \n",
              "  <svg xmlns=\"http://www.w3.org/2000/svg\" height=\"24px\"viewBox=\"0 0 24 24\"\n",
              "       width=\"24px\">\n",
              "    <path d=\"M0 0h24v24H0V0z\" fill=\"none\"/>\n",
              "    <path d=\"M18.56 5.44l.94 2.06.94-2.06 2.06-.94-2.06-.94-.94-2.06-.94 2.06-2.06.94zm-11 1L8.5 8.5l.94-2.06 2.06-.94-2.06-.94L8.5 2.5l-.94 2.06-2.06.94zm10 10l.94 2.06.94-2.06 2.06-.94-2.06-.94-.94-2.06-.94 2.06-2.06.94z\"/><path d=\"M17.41 7.96l-1.37-1.37c-.4-.4-.92-.59-1.43-.59-.52 0-1.04.2-1.43.59L10.3 9.45l-7.72 7.72c-.78.78-.78 2.05 0 2.83L4 21.41c.39.39.9.59 1.41.59.51 0 1.02-.2 1.41-.59l7.78-7.78 2.81-2.81c.8-.78.8-2.07 0-2.86zM5.41 20L4 18.59l7.72-7.72 1.47 1.35L5.41 20z\"/>\n",
              "  </svg>\n",
              "      </button>\n",
              "      \n",
              "  <style>\n",
              "    .colab-df-container {\n",
              "      display:flex;\n",
              "      flex-wrap:wrap;\n",
              "      gap: 12px;\n",
              "    }\n",
              "\n",
              "    .colab-df-convert {\n",
              "      background-color: #E8F0FE;\n",
              "      border: none;\n",
              "      border-radius: 50%;\n",
              "      cursor: pointer;\n",
              "      display: none;\n",
              "      fill: #1967D2;\n",
              "      height: 32px;\n",
              "      padding: 0 0 0 0;\n",
              "      width: 32px;\n",
              "    }\n",
              "\n",
              "    .colab-df-convert:hover {\n",
              "      background-color: #E2EBFA;\n",
              "      box-shadow: 0px 1px 2px rgba(60, 64, 67, 0.3), 0px 1px 3px 1px rgba(60, 64, 67, 0.15);\n",
              "      fill: #174EA6;\n",
              "    }\n",
              "\n",
              "    [theme=dark] .colab-df-convert {\n",
              "      background-color: #3B4455;\n",
              "      fill: #D2E3FC;\n",
              "    }\n",
              "\n",
              "    [theme=dark] .colab-df-convert:hover {\n",
              "      background-color: #434B5C;\n",
              "      box-shadow: 0px 1px 3px 1px rgba(0, 0, 0, 0.15);\n",
              "      filter: drop-shadow(0px 1px 2px rgba(0, 0, 0, 0.3));\n",
              "      fill: #FFFFFF;\n",
              "    }\n",
              "  </style>\n",
              "\n",
              "      <script>\n",
              "        const buttonEl =\n",
              "          document.querySelector('#df-d2998951-57fb-455e-895c-7d529b3f0a5c button.colab-df-convert');\n",
              "        buttonEl.style.display =\n",
              "          google.colab.kernel.accessAllowed ? 'block' : 'none';\n",
              "\n",
              "        async function convertToInteractive(key) {\n",
              "          const element = document.querySelector('#df-d2998951-57fb-455e-895c-7d529b3f0a5c');\n",
              "          const dataTable =\n",
              "            await google.colab.kernel.invokeFunction('convertToInteractive',\n",
              "                                                     [key], {});\n",
              "          if (!dataTable) return;\n",
              "\n",
              "          const docLinkHtml = 'Like what you see? Visit the ' +\n",
              "            '<a target=\"_blank\" href=https://colab.research.google.com/notebooks/data_table.ipynb>data table notebook</a>'\n",
              "            + ' to learn more about interactive tables.';\n",
              "          element.innerHTML = '';\n",
              "          dataTable['output_type'] = 'display_data';\n",
              "          await google.colab.output.renderOutput(dataTable, element);\n",
              "          const docLink = document.createElement('div');\n",
              "          docLink.innerHTML = docLinkHtml;\n",
              "          element.appendChild(docLink);\n",
              "        }\n",
              "      </script>\n",
              "    </div>\n",
              "  </div>\n",
              "  "
            ]
          },
          "metadata": {},
          "execution_count": 137
        }
      ]
    },
    {
      "cell_type": "markdown",
      "source": [
        "## CHECK K ANONYMITY:"
      ],
      "metadata": {
        "id": "7IGUcR3Ej3A_"
      }
    },
    {
      "cell_type": "code",
      "source": [
        "# CountVectorizer is defined only once\n",
        "vectorizer = CountVectorizer(ngram_range=(1,1), # to use bigrams ngram_range=(2,2)\n",
        "                           stop_words='english')\n",
        "\n",
        "def get_pesonal_docs(docs, min_k = 2):\n",
        "    \"\"\" If K not given, returns the minimal current k and the corresponding documents.\n",
        "        If k is given, return the documents with k or less neighbohrs  \"\"\"\n",
        "    \n",
        "    # Lemmatizing the documents\n",
        "    ldocs = lemmatize_docs(docs)\n",
        "\n",
        "    # Vectorizing\n",
        "    count_data = vectorizer.fit_transform(ldocs)\n",
        "    \n",
        "    # Counting unique values\n",
        "    uniq_arr, uniq_cnt = np.unique(count_data.toarray(), axis=0, return_counts=True)\n",
        "    if not min_k:\n",
        "        min_k = min(uniq_cnt)\n",
        "    \n",
        "    # All the unique vectors\n",
        "    un_anon = uniq_arr[uniq_cnt <= min_k]\n",
        "\n",
        "    # Getting the unique vectore indeces\n",
        "    indeces_arr = None\n",
        "    for row in un_anon:\n",
        "        similar_vals = np.where((count_data.toarray() == (row)).all(axis=1))\n",
        "        similar_vals_arr = np.expand_dims(similar_vals[0], axis=0)\n",
        "        if indeces_arr is None:  # First iteration\n",
        "            indeces_arr = similar_vals_arr\n",
        "        else:\n",
        "            indeces_arr = np.concatenate((indeces_arr, similar_vals_arr), axis=0)\n",
        "    \n",
        "    # Getting the unique indeces\n",
        "    indeces_arr = np.unique(indeces_arr, axis=0).astype(int)\n",
        "    #print(np.where(count_data.toarray() == un_anon[range(un_anon.shape[0]),:]))\n",
        "    return min_k, un_anon, indeces_arr"
      ],
      "metadata": {
        "id": "9LBhzs9VeeIE"
      },
      "execution_count": null,
      "outputs": []
    },
    {
      "cell_type": "markdown",
      "source": [],
      "metadata": {
        "id": "ZjVTSldKkLSa"
      }
    },
    {
      "cell_type": "code",
      "source": [
        "corpus = df_short_sentences.anon_txt.iloc[0:10]\n",
        "corpus"
      ],
      "metadata": {
        "colab": {
          "base_uri": "https://localhost:8080/"
        },
        "id": "MrYWKS7dkg1N",
        "outputId": "01c5fae2-8a18-4498-aa4d-8c368a0c8a4d"
      },
      "execution_count": null,
      "outputs": [
        {
          "output_type": "execute_result",
          "data": {
            "text/plain": [
              "100     textbook: book shipped quickly and was in exce...\n",
              "204     haven't found better yet...: this is the only ...\n",
              "332     god's zoo: wonderful video, very comical and l...\n",
              "446     good value: i love curve and this is a large b...\n",
              "669     janes all the worlds aircraft 1996-7: great to...\n",
              "686     edge of danger: 1 star - only because that's t...\n",
              "725     needs $$ upgrade: only has limited access to o...\n",
              "1232    a disappointment: maeve's forte is character d...\n",
              "1436    frida's more attractive soundtrack sister: utt...\n",
              "1806    ninnia: this monitor is great. the service i g...\n",
              "Name: anon_txt, dtype: object"
            ]
          },
          "metadata": {},
          "execution_count": 139
        }
      ]
    },
    {
      "cell_type": "code",
      "source": [
        "min_k, un_anon, indeces_arr = get_pesonal_docs(corpus)\n",
        "print(indeces_arr)\n",
        "for row in indeces_arr:\n",
        "    docs = []\n",
        "    for i in row:\n",
        "        docs.append(corpus[i])\n",
        "    print(docs)\n",
        "\n",
        "        \n",
        "#print([corpus[i] for i in indeces_arr])"
      ],
      "metadata": {
        "colab": {
          "base_uri": "https://localhost:8080/",
          "height": 372
        },
        "id": "hP4FIrCckLoe",
        "outputId": "b87d8a63-05b9-4440-9110-057c14279b5a"
      },
      "execution_count": null,
      "outputs": [
        {
          "output_type": "error",
          "ename": "NameError",
          "evalue": "ignored",
          "traceback": [
            "\u001b[0;31m---------------------------------------------------------------------------\u001b[0m",
            "\u001b[0;31mNameError\u001b[0m                                 Traceback (most recent call last)",
            "\u001b[0;32m<ipython-input-140-5ea685393ac3>\u001b[0m in \u001b[0;36m<cell line: 1>\u001b[0;34m()\u001b[0m\n\u001b[0;32m----> 1\u001b[0;31m \u001b[0mmin_k\u001b[0m\u001b[0;34m,\u001b[0m \u001b[0mun_anon\u001b[0m\u001b[0;34m,\u001b[0m \u001b[0mindeces_arr\u001b[0m \u001b[0;34m=\u001b[0m \u001b[0mget_pesonal_docs\u001b[0m\u001b[0;34m(\u001b[0m\u001b[0mcorpus\u001b[0m\u001b[0;34m)\u001b[0m\u001b[0;34m\u001b[0m\u001b[0;34m\u001b[0m\u001b[0m\n\u001b[0m\u001b[1;32m      2\u001b[0m \u001b[0mprint\u001b[0m\u001b[0;34m(\u001b[0m\u001b[0mindeces_arr\u001b[0m\u001b[0;34m)\u001b[0m\u001b[0;34m\u001b[0m\u001b[0;34m\u001b[0m\u001b[0m\n\u001b[1;32m      3\u001b[0m \u001b[0;32mfor\u001b[0m \u001b[0mrow\u001b[0m \u001b[0;32min\u001b[0m \u001b[0mindeces_arr\u001b[0m\u001b[0;34m:\u001b[0m\u001b[0;34m\u001b[0m\u001b[0;34m\u001b[0m\u001b[0m\n\u001b[1;32m      4\u001b[0m     \u001b[0mdocs\u001b[0m \u001b[0;34m=\u001b[0m \u001b[0;34m[\u001b[0m\u001b[0;34m]\u001b[0m\u001b[0;34m\u001b[0m\u001b[0;34m\u001b[0m\u001b[0m\n\u001b[1;32m      5\u001b[0m     \u001b[0;32mfor\u001b[0m \u001b[0mi\u001b[0m \u001b[0;32min\u001b[0m \u001b[0mrow\u001b[0m\u001b[0;34m:\u001b[0m\u001b[0;34m\u001b[0m\u001b[0;34m\u001b[0m\u001b[0m\n",
            "\u001b[0;32m<ipython-input-138-a5bb3e7a869e>\u001b[0m in \u001b[0;36mget_pesonal_docs\u001b[0;34m(docs, min_k)\u001b[0m\n\u001b[1;32m      8\u001b[0m \u001b[0;34m\u001b[0m\u001b[0m\n\u001b[1;32m      9\u001b[0m     \u001b[0;31m# Lemmatizing the documents\u001b[0m\u001b[0;34m\u001b[0m\u001b[0;34m\u001b[0m\u001b[0m\n\u001b[0;32m---> 10\u001b[0;31m     \u001b[0mldocs\u001b[0m \u001b[0;34m=\u001b[0m \u001b[0mlemmatize_docs\u001b[0m\u001b[0;34m(\u001b[0m\u001b[0mdocs\u001b[0m\u001b[0;34m)\u001b[0m\u001b[0;34m\u001b[0m\u001b[0;34m\u001b[0m\u001b[0m\n\u001b[0m\u001b[1;32m     11\u001b[0m \u001b[0;34m\u001b[0m\u001b[0m\n\u001b[1;32m     12\u001b[0m     \u001b[0;31m# Vectorizing\u001b[0m\u001b[0;34m\u001b[0m\u001b[0;34m\u001b[0m\u001b[0m\n",
            "\u001b[0;31mNameError\u001b[0m: name 'lemmatize_docs' is not defined"
          ]
        }
      ]
    },
    {
      "cell_type": "markdown",
      "source": [
        "5) repeat  2-5\n"
      ],
      "metadata": {
        "id": "uvb4iagqj6AG"
      }
    },
    {
      "cell_type": "markdown",
      "source": [],
      "metadata": {
        "id": "1B2TI08Fjyjr"
      }
    },
    {
      "cell_type": "markdown",
      "source": [
        " PCA - ploting the clusters using"
      ],
      "metadata": {
        "id": "SZGxY52nu3KY"
      }
    },
    {
      "cell_type": "code",
      "source": [
        "# Import the necessary libraries\n",
        "from sklearn.decomposition import PCA\n",
        "import matplotlib.pyplot as plt\n",
        "\n",
        "# Extract the embeddings from the embedded_dict and store them in a numpy array\n",
        "embeddings = np.array(list(embedded_dict.values()))\n",
        "\n",
        "# Perform PCA on the embeddings to reduce their dimensionality to 2\n",
        "pca = PCA(n_components=2)\n",
        "embeddings_2d = pca.fit_transform(embeddings)\n",
        "\n",
        "# Get the cluster labels assigned by DBSCAN\n",
        "labels = dbscan.labels_\n",
        "\n",
        "# Plot the 2D embeddings with different colors for each cluster\n",
        "plt.scatter(embeddings_2d[:, 0], embeddings_2d[:, 1], c=labels)\n",
        "plt.show()"
      ],
      "metadata": {
        "id": "-o6tBMA8uxFC"
      },
      "execution_count": null,
      "outputs": []
    },
    {
      "cell_type": "markdown",
      "source": [
        "T-SNE - plotting the clusters"
      ],
      "metadata": {
        "id": "mHFcKBGAu6UY"
      }
    },
    {
      "cell_type": "code",
      "source": [
        "# Import the necessary libraries\n",
        "from sklearn.manifold import TSNE\n",
        "import matplotlib.pyplot as plt\n",
        "\n",
        "# Extract the embeddings from the embedded_dict and store them in a numpy array\n",
        "embeddings = np.array(list(embedded_dict.values()))\n",
        "\n",
        "# Perform t-SNE on the embeddings to reduce their dimensionality to 2\n",
        "tsne = TSNE(n_components=2, perplexity=30, n_iter=1000, random_state=42)\n",
        "embeddings_2d = tsne.fit_transform(embeddings)\n",
        "\n",
        "# Get the cluster labels assigned by DBSCAN\n",
        "labels = dbscan.labels_\n",
        "\n",
        "# Plot the 2D embeddings with different colors for each cluster\n",
        "plt.scatter(embeddings_2d[:, 0], embeddings_2d[:, 1], c=labels)\n",
        "plt.show()"
      ],
      "metadata": {
        "id": "-vpf6cu5u2nx"
      },
      "execution_count": null,
      "outputs": []
    },
    {
      "cell_type": "markdown",
      "source": [
        "## 5) Change all words in the Dict to \"Centroid\" or choose a new words of our own.\n",
        "replace it in the original text of the dataframe.\n"
      ],
      "metadata": {
        "id": "433O6DVIuBND"
      }
    },
    {
      "cell_type": "code",
      "source": [
        "#TBD"
      ],
      "metadata": {
        "id": "64J4qbUruPef"
      },
      "execution_count": null,
      "outputs": []
    },
    {
      "cell_type": "markdown",
      "source": [
        "## 6) Check if we get k=2"
      ],
      "metadata": {
        "id": "B3tLtCv0uPu3"
      }
    },
    {
      "cell_type": "markdown",
      "source": [
        "### 6.1) Create BoW representation"
      ],
      "metadata": {
        "id": "sYGND8zYGnji"
      }
    },
    {
      "cell_type": "markdown",
      "source": [
        "Lemmatizing"
      ],
      "metadata": {
        "id": "SIZVpptwHHKW"
      }
    },
    {
      "cell_type": "code",
      "source": [
        "# Credit: https://www.kaggle.com/code/pierremegret/gensim-word2vec-tutorial \n",
        "\n",
        "import spacy\n",
        "\n",
        "nlp = spacy.load('en_core_web_sm', disable=['ner', 'parser']) # disabling Named Entity Recognition for speed\n",
        "\n",
        "def cleaning(doc):\n",
        "    # Defining the document\n",
        "    doc = nlp(doc) \n",
        "\n",
        "    # Lemmatizes and removes stopwords\n",
        "    # doc needs to be a spacy Doc object\n",
        "    txt = [token.lemma_ for token in doc if not token.is_stop]\n",
        "    \n",
        "    # Word2Vec uses context words to learn the vector representation of a target word,\n",
        "    # if a sentence is only one or two words long,\n",
        "    # the benefit for the training is very small\n",
        "    #if len(txt) > 2:\n",
        "    #    return ' '.join(txt)\n",
        "    return ' '.join(txt)"
      ],
      "metadata": {
        "id": "hiAl_U-7GxIs"
      },
      "execution_count": null,
      "outputs": []
    },
    {
      "cell_type": "code",
      "source": [
        "import re\n",
        "\n",
        "brief_cleaning = (re.sub(\"[^A-Za-z']+\", ' ', str(row)).lower() for row in df_short_sentences['txt'])"
      ],
      "metadata": {
        "id": "pLT-WnCaG2Yi"
      },
      "execution_count": null,
      "outputs": []
    },
    {
      "cell_type": "code",
      "source": [
        "train_sentences_lemmas = [cleaning(doc) for doc in nlp.pipe(brief_cleaning, batch_size=5000)]"
      ],
      "metadata": {
        "id": "HtN8gGBzHJ08"
      },
      "execution_count": null,
      "outputs": []
    },
    {
      "cell_type": "markdown",
      "source": [
        "Removing documents with None"
      ],
      "metadata": {
        "id": "tH6sd8iVMegF"
      }
    },
    {
      "cell_type": "code",
      "source": [
        "train_sentences_lemmas = [d for d in train_sentences_lemmas if d ]"
      ],
      "metadata": {
        "id": "CTkhjuHk3ss3"
      },
      "execution_count": null,
      "outputs": []
    },
    {
      "cell_type": "markdown",
      "source": [
        "Before and after cleaning:"
      ],
      "metadata": {
        "id": "nLk4BTW6HSkL"
      }
    },
    {
      "cell_type": "code",
      "source": [
        "print('Before:\\t', df_short_sentences['txt'][6])\n",
        "print('After:\\t',train_sentences_lemmas[6])"
      ],
      "metadata": {
        "id": "vAA0fku_HRZF"
      },
      "execution_count": null,
      "outputs": []
    },
    {
      "cell_type": "markdown",
      "source": [
        "Vectorizing"
      ],
      "metadata": {
        "id": "ZsIIqdPGGuVf"
      }
    },
    {
      "cell_type": "code",
      "source": [
        "from sklearn.feature_extraction.text import CountVectorizer\n",
        "\n",
        "vectorizer = CountVectorizer(ngram_range=(1,1), # to use bigrams ngram_range=(2,2)\n",
        "                           stop_words='english')\n",
        "\n",
        "count_data = vectorizer.fit_transform(train_sentences_lemmas)\n",
        "\n",
        "#create dataframe\n",
        "bow_dataframe = pd.DataFrame(count_data.toarray(),columns=vectorizer.get_feature_names_out())\n",
        "bow_dataframe"
      ],
      "metadata": {
        "id": "gQ-hsQWhuAlj"
      },
      "execution_count": null,
      "outputs": []
    },
    {
      "cell_type": "markdown",
      "source": [
        "Find sentences with low anonymity"
      ],
      "metadata": {
        "id": "nbOYloQrNibn"
      }
    },
    {
      "cell_type": "code",
      "source": [
        "uniq_arr, uniq_cnt = np.unique(count_data.toarray(), axis=0, return_counts=True)"
      ],
      "metadata": {
        "id": "HTLNgGG_NoQh"
      },
      "execution_count": null,
      "outputs": []
    },
    {
      "cell_type": "code",
      "source": [
        "print('The current k value is', min(uniq_cnt))"
      ],
      "metadata": {
        "id": "8yUCY94WuAn9"
      },
      "execution_count": null,
      "outputs": []
    },
    {
      "cell_type": "code",
      "source": [
        "# Testing\n",
        "arr = [[4, 4, 5], [4, 4, 5], [7, 7, 7]]\n",
        "np.unique(arr, axis=0, return_counts=True)"
      ],
      "metadata": {
        "id": "In4tr5L-O309"
      },
      "execution_count": null,
      "outputs": []
    },
    {
      "cell_type": "markdown",
      "source": [
        "### 6.2) Collecting the above code into one anonimity test function"
      ],
      "metadata": {
        "id": "PXqJG9A3QJ-I"
      }
    },
    {
      "cell_type": "code",
      "source": [
        "def lemmatize_docs(docs):\n",
        "    \"\"\" Lemmatizes documents using spacy \"\"\"\n",
        "    brief_cleaning = (re.sub(\"[^A-Za-z']+\", ' ', str(row)).lower() for row in docs)\n",
        "    clean_docs = [cleaning(doc) for doc in nlp.pipe(brief_cleaning, batch_size=5000)]\n",
        "    clean_docs = [d for d in clean_docs if d]\n",
        "    return clean_docs"
      ],
      "metadata": {
        "id": "YQ61ZewD3eYx"
      },
      "execution_count": null,
      "outputs": []
    },
    {
      "cell_type": "code",
      "source": [
        "# CountVectorizer is defined only once\n",
        "vectorizer = CountVectorizer(ngram_range=(1,1), # to use bigrams ngram_range=(2,2)\n",
        "                           stop_words='english')\n",
        "\n",
        "def get_pesonal_docs(docs, min_k = None):\n",
        "    \"\"\" If K not given, returns the minimal current k and the corresponding documents.\n",
        "        If k is given, return the documents with k or less neighbohrs  \"\"\"\n",
        "    \n",
        "    # Lemmatizing the documents\n",
        "    ldocs = lemmatize_docs(docs)\n",
        "\n",
        "    # Vectorizing\n",
        "    count_data = vectorizer.fit_transform(ldocs)\n",
        "    \n",
        "    # Counting unique values\n",
        "    uniq_arr, uniq_cnt = np.unique(count_data.toarray(), axis=0, return_counts=True)\n",
        "    if not min_k:\n",
        "        min_k = min(uniq_cnt)\n",
        "    \n",
        "    # All the unique vectors\n",
        "    un_anon = uniq_arr[uniq_cnt <= min_k]\n",
        "\n",
        "    # Getting the unique vectore indeces\n",
        "    indeces_arr = None\n",
        "    for row in un_anon:\n",
        "        similar_vals = np.where((count_data.toarray() == (row)).all(axis=1))\n",
        "        similar_vals_arr = np.expand_dims(similar_vals[0], axis=0)\n",
        "        if indeces_arr is None:  # First iteration\n",
        "            indeces_arr = similar_vals_arr\n",
        "        else:\n",
        "            indeces_arr = np.concatenate((indeces_arr, similar_vals_arr), axis=0)\n",
        "    \n",
        "    # Getting the unique indeces\n",
        "    indeces_arr = np.unique(indeces_arr, axis=0).astype(int)\n",
        "    #print(np.where(count_data.toarray() == un_anon[range(un_anon.shape[0]),:]))\n",
        "    return min_k, un_anon, indeces_arr\n"
      ],
      "metadata": {
        "id": "QEtERZ3OPr-P"
      },
      "execution_count": null,
      "outputs": []
    },
    {
      "cell_type": "code",
      "source": [
        "corpus = ['I love banana', 'banana I love', 'orange big', 'big orange', 'big orange']\n",
        "min_k, un_anon, indeces_arr = get_pesonal_docs(corpus)\n",
        "print(indeces_arr)\n",
        "for row in indeces_arr:\n",
        "    docs = []\n",
        "    for i in row:\n",
        "        docs.append(corpus[i])\n",
        "    print(docs)\n",
        "\n",
        "        \n",
        "#print([corpus[i] for i in indeces_arr])"
      ],
      "metadata": {
        "id": "PFWznvajSjPH"
      },
      "execution_count": null,
      "outputs": []
    },
    {
      "cell_type": "markdown",
      "source": [
        "## 7) Finding neighboring words"
      ],
      "metadata": {
        "id": "xOfFv75CiZ2M"
      }
    },
    {
      "cell_type": "markdown",
      "source": [
        "Defining a function to find the neihboring words from the same cluster"
      ],
      "metadata": {
        "id": "kuGQKgbchc3Q"
      }
    },
    {
      "cell_type": "code",
      "source": [
        "def get_neighbors_words(cluster_dic, word):\n",
        "    \"\"\" Gets the other words in the cluster\"\"\"\n",
        "    ret_list = []\n",
        "    for key, vals in cluster_dic.items():\n",
        "        if word in vals:\n",
        "            ret_list += vals\n",
        "    return ret_list"
      ],
      "metadata": {
        "id": "Y3zkY9PTctFm"
      },
      "execution_count": null,
      "outputs": []
    },
    {
      "cell_type": "markdown",
      "source": [
        "Defininig a function that gets a words, find the neighboring words and returns the general word using word embedding"
      ],
      "metadata": {
        "id": "_3FKB7xMxBSl"
      }
    },
    {
      "cell_type": "code",
      "source": [
        "def get_general_word(cluster_dic, we_model, word):\n",
        "    \"\"\" Find the nearest words by clusters and \n",
        "    returns the most similar words usind word embedding\"\"\"\n",
        "    neighbors_words = get_neighbors_words(cluster_dic, word)\n",
        "    if neighbors_words:\n",
        "        we_word = we_model.most_similar(neighbors_words, topn=1)[0][0]\n",
        "    else:\n",
        "        we_word = None\n",
        "    return we_word"
      ],
      "metadata": {
        "id": "m6l8qLAbf6-K"
      },
      "execution_count": null,
      "outputs": []
    },
    {
      "cell_type": "markdown",
      "source": [
        "Testing"
      ],
      "metadata": {
        "id": "cg_eg_T-xQ9u"
      }
    },
    {
      "cell_type": "code",
      "source": [
        "get_general_word(clusters, glove_model, 'four')"
      ],
      "metadata": {
        "id": "PypkcyrXdXcL"
      },
      "execution_count": null,
      "outputs": []
    },
    {
      "cell_type": "code",
      "source": [
        "get_general_word(clusters, glove_model, 'red')"
      ],
      "metadata": {
        "id": "dQ0yqnn9mC7g"
      },
      "execution_count": null,
      "outputs": []
    },
    {
      "cell_type": "code",
      "source": [
        "get_general_word(clusters, glove_model, 'hello')"
      ],
      "metadata": {
        "id": "dXJU4dF3mMrP"
      },
      "execution_count": null,
      "outputs": []
    },
    {
      "cell_type": "markdown",
      "source": [
        "### 8) Changing unique words"
      ],
      "metadata": {
        "id": "3BkfBqP8xVdN"
      }
    },
    {
      "cell_type": "markdown",
      "source": [
        "Defining the protected words"
      ],
      "metadata": {
        "id": "pdDprmOFxpFz"
      }
    },
    {
      "cell_type": "code",
      "source": [
        "import nltk\n",
        "\n",
        "nltk.download('stopwords')\n",
        "\n",
        "from nltk.corpus import stopwords\n",
        "\n",
        "sw = stopwords.words('english')\n",
        "\n",
        "protected_words = sw + []"
      ],
      "metadata": {
        "id": "-iIp4V77S97p"
      },
      "execution_count": null,
      "outputs": []
    },
    {
      "cell_type": "markdown",
      "source": [
        "In order to ignore protected words in the unique documents count, we will create an alternative document list, in which we will remove the proected words from the word list"
      ],
      "metadata": {
        "id": "Ma4PsUdoyqwX"
      }
    },
    {
      "cell_type": "code",
      "source": [
        "def remove_from_docs(docs, prot_word_list):\n",
        "    \"\"\" Removes words from documen \"\"\"\n",
        "    new_docs = []\n",
        "    for d in docs:\n",
        "        one_doc = ''\n",
        "        for w in d.split(' '):\n",
        "            if w not in prot_word_list:\n",
        "                one_doc = f'{one_doc} {w}'\n",
        "        new_docs.append(one_doc)\n",
        "    return new_docs\n",
        "\n",
        "#train_sentences_lemmas\n",
        "remove_from_docs(['is not great', 'hi hi is', 'orange'], protected_words)"
      ],
      "metadata": {
        "id": "Jxk2fSUqzM8d"
      },
      "execution_count": null,
      "outputs": []
    },
    {
      "cell_type": "code",
      "source": [
        "df_short_no_prot = remove_from_docs(df_short_sentences['txt'], protected_words)\n",
        "min_k, un_anon, indeces_arr = get_pesonal_docs(df_short_no_prot)"
      ],
      "metadata": {
        "id": "w6ZCCC1S3MPA"
      },
      "execution_count": null,
      "outputs": []
    },
    {
      "cell_type": "code",
      "source": [
        "min_k"
      ],
      "metadata": {
        "id": "MF1K-Cckn932"
      },
      "execution_count": null,
      "outputs": []
    },
    {
      "cell_type": "code",
      "source": [
        "un_anon"
      ],
      "metadata": {
        "id": "B-_SKy5uwzfy"
      },
      "execution_count": null,
      "outputs": []
    },
    {
      "cell_type": "code",
      "source": [
        "indeces_arr"
      ],
      "metadata": {
        "id": "GClerHlzPmoH"
      },
      "execution_count": null,
      "outputs": []
    },
    {
      "cell_type": "code",
      "source": [
        "for row in indeces_arr:\n",
        "    docs = []\n",
        "    for i in row:\n",
        "        docs.append(df_short_no_prot[i])\n",
        "    print(docs)"
      ],
      "metadata": {
        "id": "9HCYO8dPuAq1"
      },
      "execution_count": null,
      "outputs": []
    },
    {
      "cell_type": "code",
      "source": [],
      "metadata": {
        "id": "l_wB4_NfuAtO"
      },
      "execution_count": null,
      "outputs": []
    },
    {
      "cell_type": "code",
      "source": [],
      "metadata": {
        "id": "GDaFFsVRuAwK"
      },
      "execution_count": null,
      "outputs": []
    },
    {
      "cell_type": "code",
      "source": [],
      "metadata": {
        "id": "ltxwchGkgZZ3"
      },
      "execution_count": null,
      "outputs": []
    },
    {
      "cell_type": "code",
      "source": [],
      "metadata": {
        "id": "UGnADJM3gZcY"
      },
      "execution_count": null,
      "outputs": []
    }
  ]
}