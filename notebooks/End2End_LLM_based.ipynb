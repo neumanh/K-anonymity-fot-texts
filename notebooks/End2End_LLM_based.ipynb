{
  "cells": [
    {
      "cell_type": "markdown",
      "metadata": {
        "id": "BV1PFH6Jf1_i"
      },
      "source": [
        "# End-to-End LLM based solution\n",
        "Using sentence semantic symilarity and summaring models"
      ]
    },
    {
      "cell_type": "markdown",
      "source": [
        "## Tests and Tries"
      ],
      "metadata": {
        "id": "VDF2wk-xUbdS"
      }
    },
    {
      "cell_type": "code",
      "execution_count": 1,
      "metadata": {
        "id": "9WTf-xQ5hwfX"
      },
      "outputs": [],
      "source": [
        "import numpy as np"
      ]
    },
    {
      "cell_type": "code",
      "execution_count": 2,
      "metadata": {
        "id": "9mppF9O0fp_D"
      },
      "outputs": [],
      "source": [
        "COLAB = True"
      ]
    },
    {
      "cell_type": "code",
      "execution_count": 3,
      "metadata": {
        "colab": {
          "base_uri": "https://localhost:8080/"
        },
        "id": "ZHAc5GlkgJas",
        "outputId": "f47abc35-42a6-44a0-ca01-0d2379f39ebc"
      },
      "outputs": [
        {
          "output_type": "stream",
          "name": "stdout",
          "text": [
            "Mounted at /content/drive/\n"
          ]
        }
      ],
      "source": [
        "if COLAB:\n",
        "    from google.colab import drive\n",
        "    from os.path import exists\n",
        "\n",
        "    amazon_train_file = 'train.ft.txt.bz2'\n",
        "\n",
        "    if exists(amazon_train_file):\n",
        "        train_file = amazon_train_file\n",
        "    else:\n",
        "        drive.mount('/content/drive/')\n",
        "\n",
        "        # For Hadas' drive\n",
        "        my_dir = 'drive/MyDrive/Y-data/Intuit-K-anonimity/'\n",
        "\n",
        "        # For Lior's drive\n",
        "        #my_dir = 'drive/MyDrive/Y-data/Y-DATA_PROJECT/'\n",
        "\n",
        "        train_file = my_dir + '/train.ft.txt.bz2'\n",
        "else:\n",
        "    train_file = '../data/' + 'train.ft.txt.bz2'\n"
      ]
    },
    {
      "cell_type": "code",
      "execution_count": 4,
      "metadata": {
        "id": "kvd3SEkEgNNA"
      },
      "outputs": [],
      "source": [
        "# Credit https://www.kaggle.com/code/anshulrai/cudnnlstm-implementation-93-7-accuracy\n",
        "\n",
        "import bz2\n",
        "\n",
        "# Readling the file to list of comments\n",
        "train_file = bz2.BZ2File(train_file)\n",
        "train_file_lines = train_file.readlines()\n",
        "\n",
        "# Converting from raw binary strings to strings that can be parsed\n",
        "train_file_lines = [x.decode('utf-8') for x in train_file_lines]\n",
        "\n",
        "# Extracting the labels and sentences\n",
        "#train_labels = [0 if x.split(' ')[0] == '__label__1' else 1 for x in train_file_lines]\n",
        "train_sentences = [x.split(' ', 1)[1][:-1].lower() for x in train_file_lines] # And converting to lower case\n",
        "\n",
        "del(train_file_lines)  # Free RAM\n"
      ]
    },
    {
      "cell_type": "code",
      "execution_count": 5,
      "metadata": {
        "colab": {
          "base_uri": "https://localhost:8080/"
        },
        "id": "SlIuiP2cgQ_t",
        "outputId": "cdbcb235-c803-45fc-e947-a4692534adcc"
      },
      "outputs": [
        {
          "output_type": "execute_result",
          "data": {
            "text/plain": [
              "3600000"
            ]
          },
          "metadata": {},
          "execution_count": 5
        }
      ],
      "source": [
        "len(train_sentences)"
      ]
    },
    {
      "cell_type": "markdown",
      "metadata": {
        "id": "1aTCQGFkgjti"
      },
      "source": [
        "### Working with short sentences - temporarly"
      ]
    },
    {
      "cell_type": "code",
      "execution_count": 6,
      "metadata": {
        "colab": {
          "base_uri": "https://localhost:8080/"
        },
        "id": "eNSnYyBOgo-9",
        "outputId": "6125d1ae-a0ce-4530-d9c1-fc5c563fb25e"
      },
      "outputs": [
        {
          "output_type": "execute_result",
          "data": {
            "text/plain": [
              "28005"
            ]
          },
          "metadata": {},
          "execution_count": 6
        }
      ],
      "source": [
        "short_train_sentences = [x for x in train_sentences if len(x.split(' ')) < 20]\n",
        "len(short_train_sentences)"
      ]
    },
    {
      "cell_type": "code",
      "execution_count": 7,
      "metadata": {
        "id": "5vGg5XGUg3I9"
      },
      "outputs": [],
      "source": [
        "train_sentences, all_sentences = short_train_sentences, train_sentences"
      ]
    },
    {
      "cell_type": "markdown",
      "metadata": {
        "id": "rfHyLIe1gWYD"
      },
      "source": [
        "### Sentences similarity"
      ]
    },
    {
      "cell_type": "code",
      "execution_count": 8,
      "metadata": {
        "id": "hohLiUvTgY2Y",
        "colab": {
          "base_uri": "https://localhost:8080/"
        },
        "outputId": "246c1f5e-9575-4134-b729-6bee097e2c3d"
      },
      "outputs": [
        {
          "output_type": "stream",
          "name": "stdout",
          "text": [
            "\u001b[?25l     \u001b[90m━━━━━━━━━━━━━━━━━━━━━━━━━━━━━━━━━━━━━━━━\u001b[0m \u001b[32m0.0/86.0 kB\u001b[0m \u001b[31m?\u001b[0m eta \u001b[36m-:--:--\u001b[0m\r\u001b[2K     \u001b[90m━━━━━━━━━━━━━━━━━━━━━━━━━━━━━━━━━━━━━━━━\u001b[0m \u001b[32m86.0/86.0 kB\u001b[0m \u001b[31m3.4 MB/s\u001b[0m eta \u001b[36m0:00:00\u001b[0m\n",
            "\u001b[?25h  Preparing metadata (setup.py) ... \u001b[?25l\u001b[?25hdone\n",
            "\u001b[2K     \u001b[90m━━━━━━━━━━━━━━━━━━━━━━━━━━━━━━━━━━━━━━━━\u001b[0m \u001b[32m7.0/7.0 MB\u001b[0m \u001b[31m57.9 MB/s\u001b[0m eta \u001b[36m0:00:00\u001b[0m\n",
            "\u001b[2K     \u001b[90m━━━━━━━━━━━━━━━━━━━━━━━━━━━━━━━━━━━━━━━━\u001b[0m \u001b[32m1.3/1.3 MB\u001b[0m \u001b[31m68.6 MB/s\u001b[0m eta \u001b[36m0:00:00\u001b[0m\n",
            "\u001b[2K     \u001b[90m━━━━━━━━━━━━━━━━━━━━━━━━━━━━━━━━━━━━━━\u001b[0m \u001b[32m224.5/224.5 kB\u001b[0m \u001b[31m24.0 MB/s\u001b[0m eta \u001b[36m0:00:00\u001b[0m\n",
            "\u001b[2K     \u001b[90m━━━━━━━━━━━━━━━━━━━━━━━━━━━━━━━━━━━━━━━━\u001b[0m \u001b[32m7.8/7.8 MB\u001b[0m \u001b[31m94.1 MB/s\u001b[0m eta \u001b[36m0:00:00\u001b[0m\n",
            "\u001b[?25h  Building wheel for sentence_transformers (setup.py) ... \u001b[?25l\u001b[?25hdone\n"
          ]
        }
      ],
      "source": [
        "!pip install sentence_transformers -q"
      ]
    },
    {
      "cell_type": "code",
      "execution_count": 9,
      "metadata": {
        "id": "0kp9Zk4RgePd"
      },
      "outputs": [],
      "source": [
        "from sentence_transformers import SentenceTransformer"
      ]
    },
    {
      "cell_type": "markdown",
      "metadata": {
        "id": "HCLoD8lKhcP_"
      },
      "source": [
        "Embedding"
      ]
    },
    {
      "cell_type": "code",
      "execution_count": 10,
      "metadata": {
        "colab": {
          "base_uri": "https://localhost:8080/",
          "height": 500,
          "referenced_widgets": [
            "9409cf8223184412a21d97eb8ee8a765",
            "6a9080f9a41f4acb805a75e0f654af40",
            "978958414e71420b987fd0c3087e8c2a",
            "e21e3e8a355d42ca9335afc3c94d4fc2",
            "c6407f0efd66401aaeaf584eb5b5aa55",
            "a10e7016cb074c45bd7d39d68ac26463",
            "772c70ee5bc844c8939802ba228ed214",
            "5c0a8b03445d47c89020a318b991e460",
            "05c105dc84ed43a0ad4589e7aef1f439",
            "e4b0955ad37945f1a1b5f47634f0ee50",
            "21fcb1df7ac147e482102bca0ad64199",
            "81989931eef04a85be339d457029ee50",
            "b36318d3885547e68b9c1c67da7445fb",
            "144993b14cf9489aadeb715843103823",
            "715f1b0753244924b430b5fff2c6470a",
            "45f6fb9ff1454618bd77c9dcc4a28c5e",
            "95eea9c167c24d4fbfec56cfea92e014",
            "e41548fe70924fde99a7a7632daa4a8d",
            "b747d121df664daea87e842b8a75717e",
            "6d0d91fdc05941b6bfc49d3bdc762c9c",
            "0914e8bee9a44392a6378b37b6b7738b",
            "8cad1f74bd3d407e972b92b0542a1d73",
            "0dc98243ee63443baffb57e8af0cb4cb",
            "7b288e958ba241509a0a3cfe86cb42c3",
            "6960220b3b3a43c98096f826ef5bace1",
            "047f3428579e400a8b321ab9399ac2e5",
            "5bb62fcf9dbd4f389c216286f0df6fb4",
            "55ef238e95d4464b90345e7d11cce1e6",
            "0ec1524fc4a945e294ea0654c137d44d",
            "8c3916d2d53b42d98a3c86446d9882e4",
            "41aad2ab95844434b9783f82338ecd1c",
            "bbbd7aa77137471a9389fd4e558f888d",
            "7821d251460c46fa871b87d509c6f416",
            "052dbaa53e9a40ed9167f3b2df07f1d3",
            "5bd85965a1284bde90655a5100a18754",
            "7aa6713583af4e46b14356ab3844c901",
            "925ab592c23e4451bbacc9568b54ddc9",
            "e9b093ad56aa41d4991f0d3ca34c8fa5",
            "786d64deb24244fdb9b65f2bae7b65c9",
            "40696f9e0d2e4096af001cb25bcfb0d2",
            "16375322788e43a68cdae97917424d88",
            "a2735aeaaa95482c91e930bc4cadac66",
            "b9fa392e56d14a77a8389d8d6ac0af81",
            "6f130df6e83e4bc1b4c06a3b2e13029d",
            "f1a5784718ca4ffcae6960316badf434",
            "65414e93cbbd4e6abcb29fc53efc4a13",
            "a75ba38355e6440fbc5f10e39566b8b8",
            "1b34d824124a4e48b26a80a2cec8b289",
            "41ba758df2fa47eeb808c76057950f40",
            "6114f5928f3145fe961002db75b7be5b",
            "05e9cd5f79364395807c24ad6c63fd86",
            "7cf908ba8f954339a14e005a85bd4fbf",
            "8e5c18480f8b4931920d703acfaf54be",
            "f30601ebfe55433d9ee045e4a5e657e9",
            "8adb5e08afc14c2b89a148ea158615fa",
            "d9097747d2ef467080bdc027d54ca2d3",
            "e368633b4a8640cdaa3f8e7bba5f27fc",
            "419839afb26a493ba979b4fc4b832d26",
            "6f1e0c758691482dbb32c61262ec4478",
            "e869d1c161444ee0953d66914475f1b9",
            "b646092aa5c54e6180dd747ce12f8de6",
            "d5c97cb94ae547a3b8166952979d4ab4",
            "aba154b4839848208a15b25bf5ac0710",
            "b2c0804180aa48abbd43334231a661e9",
            "f9a43f5233a6409d8fca1760b8bab10b",
            "d43b05a58bec47c0a92b1da429b26367",
            "ecc10facf26243f886e04531b42964a7",
            "92d7be9951d240d4bf54c0d272add41f",
            "5001878c269448bca176f752bac1a22f",
            "3860eec3363e426dba132a79315f5f42",
            "40c3ac389e2346bd8820f4c990b083d9",
            "912c2bfd2fb1476cbf1e1cfd6d3dca20",
            "e525c8c63d31492a9d0fad679b8d28c1",
            "662510dcfb854afd8b75509ff6a7ded1",
            "09817a6e607e4aafb460220404dd5b82",
            "38a33e60b74c4a428198ffe9caa20d63",
            "c529b5e908bc4dfe8ff9b479a7007ea7",
            "b59985affbe94df9ad40726f17155120",
            "382f64b90d3b4a85ac962b3db5dbf19f",
            "3ce3eeb7e1154a318feb8a4e63ef6b72",
            "91954c04f2ee4622ad6a514fc3316d9d",
            "fa461e210f5e4643b77cae8d93218a3e",
            "0a85cdb9d52f4407ad542d30f76a2faf",
            "76e212764eac43138435fbb2be3eb2b1",
            "2eb87af4f5eb49d5bd76e71936c2376d",
            "b7cf3adb0e7b407e9d6b9b684bd7ac3e",
            "4593891764e74333a3c4ac285a3f687d",
            "8cfa5cf8ea0d4ab09b69042bc3b36957",
            "8a265a1881fe4aeb9861c3183f28cac9",
            "6b6e3ec3ec74428d8dd3c131b12f620b",
            "4ba7ad9f11424fa2bb531b596caaed80",
            "147142589a6b432dbf5ce50837d849cd",
            "99583040ca084c6d84690844c24e2d77",
            "7cda7695dc8c441e951a0dcdff4d7fed",
            "230f3ac81b324bf595e7aa4ac9c351ed",
            "cce08c8a1486420a862bc1de8cc496d7",
            "d456aed7a19f4e7fbeb43b8244d686d8",
            "8530b0612aa9493d95c274b2f48b8062",
            "172f917ad9e14900ad4b4d1dfd71bc36",
            "76f9f1b260a74bc085026fcf6009da6e",
            "9782ca6e3c6140c3afb586b88745cbea",
            "b6e79ca48f534047ba6fb29d8e5e6fb7",
            "f8f48ca6cce64b7580966e83c9b6893d",
            "0388172f70414d879fd3eafc42b5832f",
            "f89951ae12974886b2f55acdc7107213",
            "0daaaae2e69e4e159064e78737d7f0ad",
            "b5de172eba944eeea3133ecada533c0e",
            "7f05211212754fc4a3e13b6e5974a627",
            "78cf0cff20ab4121b8cd4953914e9e71",
            "72d2f278291940fea7850a22941205d7",
            "dbc2ec5e1d2c4e42867ec055ce2ea6b4",
            "29ea60030a614e7fa6bfbb64e6befc80",
            "081a1129c371408ea662725a2ba698b3",
            "9575d5954e70481887c030cecea50629",
            "2310b8a05fce40d8bc4157c0013a135a",
            "096711df79fa4c788920a2741934d15f",
            "d6e980c84dab482ab06e37c9db94b326",
            "e19ab3ee4fbb4bf6b0a239cb7a70ee89",
            "a8a39ae1c80a480482fd215916999ffb",
            "98d76229370743eab15fcd9d22398467",
            "3e577ebd32554102bcc3220264cddd79",
            "ddadbf5487dd4aab8bc95cc3a4a030e9",
            "725fe3f29cab4a71a018b4e5dba960e1",
            "98f0a0fe6a144ac39e7155e646fd0774",
            "d88d81ff596a4366a38988d21a258e09",
            "9fc44dbc3c974ebf9137b75c60a23d97",
            "443ffa0a7c6b45a187cb709fa01d48ad",
            "e0f07600eef74dd59b2a77f2e2f40e1f",
            "b64bf44cffe346d98ec3c88e32e9ddae",
            "1f334dcc1c724f518cb2dbe6dcd5f903",
            "d49485e417f4494faab34c44399db83a",
            "79f265a3131c4734bb9195b82b1f6fd2",
            "de6dfe314dc24ef58204c3cb8b3b0fbd",
            "20a4187ebecd4f0eba328c7a0dfa2e06",
            "a4e2719cd9e54628a52636d40197c34d",
            "af0bfd9e71a74039aa8b78dc86297bba",
            "3f0ac3befd884069a99ab9ae49e00210",
            "c3e6542b11644caab78d2470d3213d09",
            "2a49928b007d4da3a16f42b19f6a046e",
            "60638b685ed74f8c9a8cff9183ae23fd",
            "662b94d07ee1488aa6e0ce1a07159cda",
            "a8a6ace725af46daaae2b7c287f94be3",
            "01f4c47f20fd433cb26e810241d70967",
            "40b1e15535a048c78fcb77ca4c8e1185",
            "305ec680c8f440cdad1903ec18fddf0a",
            "7e08051d10484548aca956c454af4fa4",
            "32dc8979ca5144979ec2cc9cebfc0f62",
            "a798b8c1f2b84a598d8cf1fa776e826a",
            "d75b002412ea46e2b5f65eb60a032019",
            "438393587e8b44e681b6784af5cde857",
            "849e008104cf4c459177d97096ff146f",
            "a3cef0db491f44f19d6461dc1c982c41",
            "f63bfa96712343b68e1d6c75e434deb3",
            "bfd709c99bae47a48cf6189886185f8c"
          ]
        },
        "id": "J7s-i1iEge_x",
        "outputId": "7dbdab4f-173e-4163-83c7-08d0d290db26"
      },
      "outputs": [
        {
          "output_type": "display_data",
          "data": {
            "text/plain": [
              "Downloading (…)c926f/.gitattributes:   0%|          | 0.00/737 [00:00<?, ?B/s]"
            ],
            "application/vnd.jupyter.widget-view+json": {
              "version_major": 2,
              "version_minor": 0,
              "model_id": "9409cf8223184412a21d97eb8ee8a765"
            }
          },
          "metadata": {}
        },
        {
          "output_type": "display_data",
          "data": {
            "text/plain": [
              "Downloading (…)_Pooling/config.json:   0%|          | 0.00/190 [00:00<?, ?B/s]"
            ],
            "application/vnd.jupyter.widget-view+json": {
              "version_major": 2,
              "version_minor": 0,
              "model_id": "81989931eef04a85be339d457029ee50"
            }
          },
          "metadata": {}
        },
        {
          "output_type": "display_data",
          "data": {
            "text/plain": [
              "Downloading (…)8101fc926f/README.md:   0%|          | 0.00/9.90k [00:00<?, ?B/s]"
            ],
            "application/vnd.jupyter.widget-view+json": {
              "version_major": 2,
              "version_minor": 0,
              "model_id": "0dc98243ee63443baffb57e8af0cb4cb"
            }
          },
          "metadata": {}
        },
        {
          "output_type": "display_data",
          "data": {
            "text/plain": [
              "Downloading (…)01fc926f/config.json:   0%|          | 0.00/573 [00:00<?, ?B/s]"
            ],
            "application/vnd.jupyter.widget-view+json": {
              "version_major": 2,
              "version_minor": 0,
              "model_id": "052dbaa53e9a40ed9167f3b2df07f1d3"
            }
          },
          "metadata": {}
        },
        {
          "output_type": "display_data",
          "data": {
            "text/plain": [
              "Downloading (…)ce_transformers.json:   0%|          | 0.00/116 [00:00<?, ?B/s]"
            ],
            "application/vnd.jupyter.widget-view+json": {
              "version_major": 2,
              "version_minor": 0,
              "model_id": "f1a5784718ca4ffcae6960316badf434"
            }
          },
          "metadata": {}
        },
        {
          "output_type": "display_data",
          "data": {
            "text/plain": [
              "Downloading (…)26f/data_config.json:   0%|          | 0.00/15.7k [00:00<?, ?B/s]"
            ],
            "application/vnd.jupyter.widget-view+json": {
              "version_major": 2,
              "version_minor": 0,
              "model_id": "d9097747d2ef467080bdc027d54ca2d3"
            }
          },
          "metadata": {}
        },
        {
          "output_type": "display_data",
          "data": {
            "text/plain": [
              "Downloading pytorch_model.bin:   0%|          | 0.00/134M [00:00<?, ?B/s]"
            ],
            "application/vnd.jupyter.widget-view+json": {
              "version_major": 2,
              "version_minor": 0,
              "model_id": "ecc10facf26243f886e04531b42964a7"
            }
          },
          "metadata": {}
        },
        {
          "output_type": "display_data",
          "data": {
            "text/plain": [
              "Downloading (…)nce_bert_config.json:   0%|          | 0.00/53.0 [00:00<?, ?B/s]"
            ],
            "application/vnd.jupyter.widget-view+json": {
              "version_major": 2,
              "version_minor": 0,
              "model_id": "b59985affbe94df9ad40726f17155120"
            }
          },
          "metadata": {}
        },
        {
          "output_type": "display_data",
          "data": {
            "text/plain": [
              "Downloading (…)cial_tokens_map.json:   0%|          | 0.00/112 [00:00<?, ?B/s]"
            ],
            "application/vnd.jupyter.widget-view+json": {
              "version_major": 2,
              "version_minor": 0,
              "model_id": "8a265a1881fe4aeb9861c3183f28cac9"
            }
          },
          "metadata": {}
        },
        {
          "output_type": "display_data",
          "data": {
            "text/plain": [
              "Downloading (…)c926f/tokenizer.json:   0%|          | 0.00/466k [00:00<?, ?B/s]"
            ],
            "application/vnd.jupyter.widget-view+json": {
              "version_major": 2,
              "version_minor": 0,
              "model_id": "76f9f1b260a74bc085026fcf6009da6e"
            }
          },
          "metadata": {}
        },
        {
          "output_type": "display_data",
          "data": {
            "text/plain": [
              "Downloading (…)okenizer_config.json:   0%|          | 0.00/352 [00:00<?, ?B/s]"
            ],
            "application/vnd.jupyter.widget-view+json": {
              "version_major": 2,
              "version_minor": 0,
              "model_id": "dbc2ec5e1d2c4e42867ec055ce2ea6b4"
            }
          },
          "metadata": {}
        },
        {
          "output_type": "display_data",
          "data": {
            "text/plain": [
              "Downloading (…)926f/train_script.py:   0%|          | 0.00/13.2k [00:00<?, ?B/s]"
            ],
            "application/vnd.jupyter.widget-view+json": {
              "version_major": 2,
              "version_minor": 0,
              "model_id": "ddadbf5487dd4aab8bc95cc3a4a030e9"
            }
          },
          "metadata": {}
        },
        {
          "output_type": "display_data",
          "data": {
            "text/plain": [
              "Downloading (…)8101fc926f/vocab.txt:   0%|          | 0.00/232k [00:00<?, ?B/s]"
            ],
            "application/vnd.jupyter.widget-view+json": {
              "version_major": 2,
              "version_minor": 0,
              "model_id": "de6dfe314dc24ef58204c3cb8b3b0fbd"
            }
          },
          "metadata": {}
        },
        {
          "output_type": "display_data",
          "data": {
            "text/plain": [
              "Downloading (…)1fc926f/modules.json:   0%|          | 0.00/349 [00:00<?, ?B/s]"
            ],
            "application/vnd.jupyter.widget-view+json": {
              "version_major": 2,
              "version_minor": 0,
              "model_id": "40b1e15535a048c78fcb77ca4c8e1185"
            }
          },
          "metadata": {}
        },
        {
          "output_type": "stream",
          "name": "stdout",
          "text": [
            "CPU times: user 8.79 s, sys: 362 ms, total: 9.15 s\n",
            "Wall time: 9.43 s\n"
          ]
        }
      ],
      "source": [
        "%%time\n",
        "model = SentenceTransformer('sentence-transformers/all-MiniLM-L12-v1')\n",
        "embeddings = model.encode(train_sentences[:100])\n"
      ]
    },
    {
      "cell_type": "markdown",
      "metadata": {
        "id": "-arNL6H0hnYy"
      },
      "source": [
        "Finding the most similar sentences to the first sentence"
      ]
    },
    {
      "cell_type": "code",
      "execution_count": 11,
      "metadata": {
        "colab": {
          "base_uri": "https://localhost:8080/"
        },
        "id": "xh8ybzY9hdcz",
        "outputId": "bacbfeb7-acae-4bd3-93f6-b0b81be89af4"
      },
      "outputs": [
        {
          "output_type": "execute_result",
          "data": {
            "text/plain": [
              "[(1.0000001, 0), (0.6311436, 32), (0.55656093, 45), (0.46512488, 67)]"
            ]
          },
          "metadata": {},
          "execution_count": 11
        }
      ],
      "source": [
        "one_sent = embeddings[0]\n",
        "sim = []\n",
        "idx, max_idx = 1, 1\n",
        "for idx, e in enumerate(embeddings[:]):\n",
        "    cos_sim = np.dot(e, one_sent)/(np.linalg.norm(e)*np.linalg.norm(one_sent))\n",
        "    sim.append((cos_sim, idx))\n",
        "\n",
        "sim.sort(reverse=True)\n",
        "sim[0:4]"
      ]
    },
    {
      "cell_type": "code",
      "execution_count": 12,
      "metadata": {
        "colab": {
          "base_uri": "https://localhost:8080/",
          "height": 36
        },
        "id": "QR186GDaitWt",
        "outputId": "8cfd441d-375e-4ba5-aebc-081438a3b1d9"
      },
      "outputs": [
        {
          "output_type": "execute_result",
          "data": {
            "text/plain": [
              "'textbook: book shipped quickly and was in excellent condition as stated. easy transaction would buy again'"
            ],
            "application/vnd.google.colaboratory.intrinsic+json": {
              "type": "string"
            }
          },
          "metadata": {},
          "execution_count": 12
        }
      ],
      "source": [
        "train_sentences[0]"
      ]
    },
    {
      "cell_type": "code",
      "execution_count": 13,
      "metadata": {
        "colab": {
          "base_uri": "https://localhost:8080/",
          "height": 36
        },
        "id": "u5zCoYsOixqH",
        "outputId": "2dcf8c8c-409e-422b-956d-8829b7ebadf5"
      },
      "outputs": [
        {
          "output_type": "execute_result",
          "data": {
            "text/plain": [
              "'recent purchase: the book i ordered was exactly as described and delivery was even faster than promised.'"
            ],
            "application/vnd.google.colaboratory.intrinsic+json": {
              "type": "string"
            }
          },
          "metadata": {},
          "execution_count": 13
        }
      ],
      "source": [
        "train_sentences[32]"
      ]
    },
    {
      "cell_type": "markdown",
      "metadata": {
        "id": "b62zjzERjX7p"
      },
      "source": [
        "Finding K nearest neighbors using Annoy"
      ]
    },
    {
      "cell_type": "code",
      "execution_count": 14,
      "metadata": {
        "colab": {
          "base_uri": "https://localhost:8080/"
        },
        "id": "D8clGb05j7Lx",
        "outputId": "308b492b-41e9-4641-d5e2-9b005002622f"
      },
      "outputs": [
        {
          "output_type": "stream",
          "name": "stdout",
          "text": [
            "Looking in indexes: https://pypi.org/simple, https://us-python.pkg.dev/colab-wheels/public/simple/\n",
            "Collecting annoy\n",
            "  Downloading annoy-1.17.2.tar.gz (647 kB)\n",
            "\u001b[2K     \u001b[90m━━━━━━━━━━━━━━━━━━━━━━━━━━━━━━━━━━━━━━━\u001b[0m \u001b[32m647.4/647.4 kB\u001b[0m \u001b[31m9.3 MB/s\u001b[0m eta \u001b[36m0:00:00\u001b[0m\n",
            "\u001b[?25h  Preparing metadata (setup.py) ... \u001b[?25l\u001b[?25hdone\n",
            "Building wheels for collected packages: annoy\n",
            "  Building wheel for annoy (setup.py) ... \u001b[?25l\u001b[?25hdone\n",
            "  Created wheel for annoy: filename=annoy-1.17.2-cp310-cp310-linux_x86_64.whl size=582735 sha256=7bbc17a18c3b7d30399eef4f6ffaf862913f17f4374412a606b85a032ec92a83\n",
            "  Stored in directory: /root/.cache/pip/wheels/7a/d9/59/473fa56df8e39430eeda369500b4e7127f5b243ba24c3c4297\n",
            "Successfully built annoy\n",
            "Installing collected packages: annoy\n",
            "Successfully installed annoy-1.17.2\n"
          ]
        }
      ],
      "source": [
        "!pip install annoy"
      ]
    },
    {
      "cell_type": "code",
      "execution_count": 15,
      "metadata": {
        "id": "xi0j_zjSjqQW"
      },
      "outputs": [],
      "source": [
        "k = 3"
      ]
    },
    {
      "cell_type": "code",
      "execution_count": 16,
      "metadata": {
        "colab": {
          "base_uri": "https://localhost:8080/"
        },
        "id": "XiugQns5iz_m",
        "outputId": "899e3373-e775-4686-f377-455b87f000dd"
      },
      "outputs": [
        {
          "output_type": "stream",
          "name": "stdout",
          "text": [
            "Nearest neighbors: [0, 32, 45]\n"
          ]
        }
      ],
      "source": [
        "from annoy import AnnoyIndex\n",
        "\n",
        "# Build an Annoy index with 10 trees. angular = cosine similarity\n",
        "annoy_index = AnnoyIndex(embeddings.shape[1], metric='angular')\n",
        "for i, x in enumerate(embeddings):\n",
        "    annoy_index.add_item(i, x)\n",
        "annoy_index.build(10)\n",
        "\n",
        "# Find the k nearest neighbors to the first sentence\n",
        "nearest_neighbors = annoy_index.get_nns_by_vector(embeddings[0], k)\n",
        "\n",
        "print('Nearest neighbors:', nearest_neighbors)\n"
      ]
    },
    {
      "cell_type": "code",
      "source": [
        "embeddings"
      ],
      "metadata": {
        "colab": {
          "base_uri": "https://localhost:8080/"
        },
        "id": "Tp69SWVOkeDq",
        "outputId": "8e23d067-9501-40b6-8e25-9bb0d19bb877"
      },
      "execution_count": 17,
      "outputs": [
        {
          "output_type": "execute_result",
          "data": {
            "text/plain": [
              "array([[-0.0036093 ,  0.05210925, -0.12970327, ..., -0.02006356,\n",
              "        -0.04063172,  0.02199112],\n",
              "       [-0.0052765 ,  0.06117417, -0.03607288, ..., -0.00327409,\n",
              "         0.02298493,  0.00951664],\n",
              "       [ 0.05052014,  0.05758742, -0.08671991, ..., -0.03691006,\n",
              "         0.05248274,  0.05065772],\n",
              "       ...,\n",
              "       [-0.0529007 , -0.02020332,  0.01042636, ...,  0.01338089,\n",
              "         0.01423867,  0.01405939],\n",
              "       [ 0.04678291, -0.04269627,  0.12175517, ..., -0.01851123,\n",
              "         0.04590768, -0.03081301],\n",
              "       [-0.04308654, -0.05753473, -0.03191447, ..., -0.02193826,\n",
              "         0.0352149 ,  0.03438053]], dtype=float32)"
            ]
          },
          "metadata": {},
          "execution_count": 17
        }
      ]
    },
    {
      "cell_type": "code",
      "execution_count": 18,
      "metadata": {
        "colab": {
          "base_uri": "https://localhost:8080/"
        },
        "id": "D9dfedCUkbi1",
        "outputId": "019e95d1-07ec-459a-dc4e-7fd1920ef597"
      },
      "outputs": [
        {
          "output_type": "stream",
          "name": "stdout",
          "text": [
            "textbook: book shipped quickly and was in excellent condition as stated. easy transaction would buy again\n",
            "recent purchase: the book i ordered was exactly as described and delivery was even faster than promised.\n",
            "recommend this seller: i recieved this book on time and in excellent condition. i'd definitely recommend this seller.\n"
          ]
        }
      ],
      "source": [
        "print(train_sentences[0])\n",
        "print(train_sentences[32])\n",
        "print(train_sentences[45])"
      ]
    },
    {
      "cell_type": "markdown",
      "metadata": {
        "id": "gQDNKaefk65r"
      },
      "source": [
        "### Summaring multiple sentences into one"
      ]
    },
    {
      "cell_type": "code",
      "execution_count": 19,
      "metadata": {
        "id": "xFqOedVKlAOy"
      },
      "outputs": [],
      "source": [
        "# from transformers import AutoModelForSeq2SeqLM, AutoTokenizer\n",
        "\n",
        "# model_name = \"snrspeaks/t5-one-line-summary\"\n",
        "# sum_model = AutoModelForSeq2SeqLM.from_pretrained(model_name)\n",
        "# tokenizer = AutoTokenizer.from_pretrained(model_name)"
      ]
    },
    {
      "cell_type": "code",
      "execution_count": 20,
      "metadata": {
        "id": "lhmWvgK_lMqt"
      },
      "outputs": [],
      "source": [
        "#sum_text([train_sentences[0], train_sentences[32], train_sentences[45]], sum_model, tokenizer)"
      ]
    },
    {
      "cell_type": "markdown",
      "metadata": {
        "id": "obI_MRRvlbkY"
      },
      "source": [
        "## Putting it all together - function definition"
      ]
    },
    {
      "cell_type": "code",
      "execution_count": 21,
      "metadata": {
        "colab": {
          "base_uri": "https://localhost:8080/"
        },
        "id": "MUAQMIUOmi_-",
        "outputId": "7b204ad9-6fd8-401e-c3d8-2290fffbad8b"
      },
      "outputs": [
        {
          "output_type": "stream",
          "name": "stdout",
          "text": [
            "CPU times: user 377 ms, sys: 42.1 ms, total: 419 ms\n",
            "Wall time: 375 ms\n"
          ]
        }
      ],
      "source": [
        "%%time\n",
        "emb_model = SentenceTransformer('sentence-transformers/all-MiniLM-L12-v1')"
      ]
    },
    {
      "cell_type": "code",
      "execution_count": 79,
      "metadata": {
        "id": "h_LXxYUY0w9F"
      },
      "outputs": [],
      "source": [
        "def print_example(indexes, origina_docs, new_docs):\n",
        "    print('Before:')\n",
        "    for i in indexes:\n",
        "        print(origina_docs[i])\n",
        "    print('\\nAfter:')\n",
        "    for i in indexes:\n",
        "        print(new_docs[i])\n",
        "    "
      ]
    },
    {
      "cell_type": "code",
      "execution_count": 23,
      "metadata": {
        "id": "-GdlQExPmCiq"
      },
      "outputs": [],
      "source": [
        "def find_k_nearesr_neighbors(emb, emb_list, k):\n",
        "    \"\"\" Find the K nearest neighbors using Annoy package \"\"\"\n",
        "\n",
        "    # Build an Annoy index with 10 trees. angular = cosine similarity\n",
        "    annoy_index = AnnoyIndex(emb_list.shape[1], metric='angular')\n",
        "    for i, x in enumerate(emb_list):\n",
        "        annoy_index.add_item(i, x)\n",
        "    annoy_index.build(10)\n",
        "\n",
        "    # Find the k nearest neighbors to the first sentence\n",
        "    nearest_neighbors = annoy_index.get_nns_by_vector(emb, k)\n",
        "\n",
        "    return nearest_neighbors"
      ]
    },
    {
      "cell_type": "code",
      "source": [
        "from transformers import AutoTokenizer, AutoModelForSeq2SeqLM\n",
        "\n",
        "tokenizer = AutoTokenizer.from_pretrained(\"t5-large\")\n",
        "model = AutoModelForSeq2SeqLM.from_pretrained(\"t5-large\")\n",
        "\n",
        "def sum_text(doc_list):\n",
        "    # define the input sentences\n",
        "    #input_text = '. '.join(doc_list)\n",
        "    input_text = ''\n",
        "    i = 1\n",
        "    for doc in doc_list:\n",
        "       input_text = f'{input_text}{i}: {doc}. ' \n",
        "       i += 1\n",
        "\n",
        "    # preprocess the input sentences\n",
        "    input_ids = tokenizer.encode(f'summarize:' + input_text, return_tensors=\"pt\")\n",
        "\n",
        "    # generate the summary sentence\n",
        "    output_ids = model.generate(input_ids=input_ids, max_length=32, num_beams=4, early_stopping=True)\n",
        "    output = tokenizer.decode(output_ids[0], skip_special_tokens=True)\n",
        "\n",
        "    return output"
      ],
      "metadata": {
        "id": "4t-Oh4BsJqZC"
      },
      "execution_count": 68,
      "outputs": []
    },
    {
      "cell_type": "code",
      "execution_count": 76,
      "metadata": {
        "id": "9aVhh-X1m2Jq"
      },
      "outputs": [],
      "source": [
        "def run_anonymization_on_txt(docs, k):\n",
        "    \"\"\" Finding K nearest neighbors and summarize them \"\"\"\n",
        "    annon_docs = docs.copy()\n",
        "    used_indexes = set([])\n",
        "    \n",
        "    # Embedding\n",
        "    docs_emb = emb_model.encode(docs)\n",
        "    temp_docs_emb = docs_emb.copy()\n",
        "\n",
        "    for i, d in enumerate(docs):\n",
        "        #print('i:', i, '\\t', used_indexes)\n",
        "        # To prevent redandent\n",
        "        if i not in used_indexes:\n",
        "            #used_indexes.add(i)  # Adding to the used items\n",
        "            similar_doc_ind = find_k_nearesr_neighbors(temp_docs_emb[i], temp_docs_emb, k)\n",
        "            \n",
        "            curr_docs = []\n",
        "            for sd in similar_doc_ind:\n",
        "                if sd in used_indexes:\n",
        "                    print('Error: the index', sd, 'was already used')\n",
        "                # Adding the document to the similar doc list\n",
        "                curr_docs.append(docs[sd])\n",
        "                # Adding the index to the used items\n",
        "                used_indexes.add(sd)  \n",
        "                # Prevent repeating comparison by changing the vector\n",
        "                temp_docs_emb[sd] = 1000 * np.random.randint(10, size=len(temp_docs_emb[sd]))\n",
        "                #temp_docs_emb[sd] = [1000] * len(temp_docs_emb[sd])\n",
        "            sum_doc = sum_text(curr_docs)\n",
        "            print('similar_doc_ind', similar_doc_ind, '\\tSummary:', sum_doc)\n",
        "            #print('sum_doc:', sum_doc)\n",
        "            for sd in similar_doc_ind:\n",
        "                annon_docs[sd] = sum_doc\n",
        "        if  len(used_indexes) > (len(docs) - k):\n",
        "            print('Breaking! \\tlen(used_indexes)', len(used_indexes), '\\tlen(docs)', len(docs), '\\tlen(docs)-k', (len(docs) - k))\n",
        "            break\n",
        "    return annon_docs\n",
        "\n"
      ]
    },
    {
      "cell_type": "markdown",
      "metadata": {
        "id": "M7JgzJm-UxDx"
      },
      "source": [
        "## Running on 100 examples"
      ]
    },
    {
      "cell_type": "code",
      "execution_count": 77,
      "metadata": {
        "colab": {
          "base_uri": "https://localhost:8080/"
        },
        "id": "4WaKKrwmpGqb",
        "outputId": "49ff9408-a4df-499a-cd7d-e754f50e9308"
      },
      "outputs": [
        {
          "output_type": "stream",
          "name": "stdout",
          "text": [
            "similar_doc_ind [0, 32, 45] \tSummary: the book shipped quickly and was in excellent condition as stated. i'd definitely recommend this seller.\n",
            "similar_doc_ind [1, 72, 73] \tSummary: janes all the worlds aircraft 1996-7: great deal, very quick delivery. when i received the bike, the packing board was broken.\n",
            "similar_doc_ind [2, 63, 41] \tSummary: edge of danger: 1 star - only because that's the minimum. the write-up was not good. this is definitely a children\n",
            "similar_doc_ind [3, 49, 56] \tSummary: maeve's forte is character development, dialogue, and interaction. there wasn't enough romance though. great performances by all of the\n",
            "similar_doc_ind [4, 35, 47] \tSummary: frida's more attractive soundtrack sister: utterly amazing and unique sound. america the beautiful: this book works great for teaching the\n",
            "similar_doc_ind [5, 6, 80] \tSummary: wishmaster is a fantastic album, that should grace everyone's music collection. innovating and always refreshing. truly a masterpiece.\n",
            "similar_doc_ind [7, 36, 37] \tSummary: the book was great. i can't wait for the next one. definitely captivating. disappointing. does not deserve to be a '\n",
            "similar_doc_ind [8, 50, 12] \tSummary: the program looks fun but the software recieved was corupt it wont load on any machine. the camcorder worked only \n",
            "similar_doc_ind [9, 92, 86] \tSummary: half of the book is ruined because the spine has come unglued...false product description! horrible book: boring and bland. he even\n",
            "similar_doc_ind [10, 26, 70] \tSummary: porcupine tree is amazing! essential for anyone who likes rock and roll. anesthetize (dvd + blu-ray\n",
            "similar_doc_ind [11, 54, 40] \tSummary: lots of action, but totally unbelievable, just like watching wrestling. amusing enough to watch but not to own. a near-perfect film\n",
            "similar_doc_ind [13, 88, 82] \tSummary: this is not the triumvirat i grew up with. no original members. sucks!!!\n",
            "similar_doc_ind [14, 69, 29] \tSummary: horrible lieutenant is the worst nicholas cage movie ever made. this being mario i thought this would be good. \n",
            "similar_doc_ind [15, 30, 24] \tSummary: gene: dated. doesn't tell \"how to beat the democrats...\" save your money and buy something else.\n",
            "similar_doc_ind [16, 85, 94] \tSummary: 38.39 is a ridiculous price for 12 red bull. especially considering they cost 2.09 in a store. shirts of average quality\n",
            "similar_doc_ind [17, 34, 98] \tSummary: dr. eby claimed jesus did not return in his (eby's) lifetime. contrary to dr.\n",
            "similar_doc_ind [18, 59, 83] \tSummary: m. mead's research explains many issues that remain current topics of contention. outstanding history from robert e.\n",
            "similar_doc_ind [19, 78, 87] \tSummary: beach boys and the satan: a totally off and enjoyable movie. one of adams best films along side the wedding singer\n",
            "similar_doc_ind [20, 90, 28] \tSummary: toefl book is the second-best book on toefl after educational testing services' (ets) toefl book\n",
            "similar_doc_ind [21, 33, 25] \tSummary: sea runners will etch the coastline of british columbia in your mind. love the book, very appropriate for the time we\n",
            "similar_doc_ind [22, 64, 39] \tSummary: this halti collar worked well at controlling my great dane. he learned not to pull very quickly.\n",
            "similar_doc_ind [23, 99, 55] \tSummary: under the tuscan sun was such an enjoyable movie. it's another one of smallville's excellent seasons.\n",
            "similar_doc_ind [27, 42, 95] \tSummary: this blu ray is horrible!!!the quality video is terrible!! is better an old whs!!!\n",
            "similar_doc_ind [31, 96, 43] \tSummary: i absolutely love spongebob,and a movie would be awesome!hooray for patrick! :).\n",
            "similar_doc_ind [38, 76, 58] \tSummary: nietzsche criticizes ramana maharshi's philosophicaland ethical system of thought. long sentences that are extremely confusing \n",
            "similar_doc_ind [44, 57, 79] \tSummary: the authors have provided the quintessential study guide to the canterbury tales. if you like the cake bible this is \n",
            "similar_doc_ind [46, 93, 66] \tSummary: xtreme white plus bulbs are much brighter and whiter than oem bulbs. hp photosmart 2575 all\n",
            "similar_doc_ind [48, 61, 74] \tSummary: worst magazine ever!! i paid for a subscription for my boyfriend and he only received 2 issues!!!. couldn't get the device to\n",
            "similar_doc_ind [51, 53, 52] \tSummary: very cryptic details: not suited for beginner's should have qiute lucid explationsi dont recommend for new comme\n",
            "similar_doc_ind [60, 67, 75] \tSummary: discription says 2-2pound wrist weights. product received was 2-1pound wrist weights. a deceptive rip-off!\n",
            "similar_doc_ind [62, 81, 91] \tSummary: the high ceilings is a great band, max heinegg is a musical genius. silly, syrupy lyrics throughout and, \n",
            "similar_doc_ind [65, 97, 68] \tSummary: i just love michael caine: clever acting...and just superb! now...when is this movie going to be on dvd?????\n",
            "Error: the index 20 was already used\n",
            "similar_doc_ind [71, 77, 20] \tSummary: kodak digital camera: easy to use and takes great shots. 4 ingredient dinner: good book to give to someone starting out in their\n",
            "Breaking! \tlen(used_indexes) 98 \tlen(docs) 100 \tlen(docs)-k 97\n",
            "CPU times: user 12min 4s, sys: 2.37 s, total: 12min 6s\n",
            "Wall time: 6min 7s\n"
          ]
        }
      ],
      "source": [
        "%%time\n",
        "annon_sents_100 = run_anonymization_on_txt(train_sentences[:100], k=3)"
      ]
    },
    {
      "cell_type": "code",
      "source": [
        "\n"
      ],
      "metadata": {
        "id": "4A77H5M3jeyT"
      },
      "execution_count": 52,
      "outputs": []
    },
    {
      "cell_type": "markdown",
      "metadata": {
        "id": "OUPuf_x30qfB"
      },
      "source": [
        "Output examples"
      ]
    },
    {
      "cell_type": "code",
      "execution_count": 80,
      "metadata": {
        "colab": {
          "base_uri": "https://localhost:8080/"
        },
        "id": "FbNOQjiJ1JAW",
        "outputId": "b870709e-8426-49aa-800a-8555093293fb"
      },
      "outputs": [
        {
          "output_type": "stream",
          "name": "stdout",
          "text": [
            "Before:\n",
            "textbook: book shipped quickly and was in excellent condition as stated. easy transaction would buy again\n",
            "recent purchase: the book i ordered was exactly as described and delivery was even faster than promised.\n",
            "recommend this seller: i recieved this book on time and in excellent condition. i'd definitely recommend this seller.\n",
            "\n",
            "After:\n",
            "the book shipped quickly and was in excellent condition as stated. i'd definitely recommend this seller.\n",
            "the book shipped quickly and was in excellent condition as stated. i'd definitely recommend this seller.\n",
            "the book shipped quickly and was in excellent condition as stated. i'd definitely recommend this seller.\n"
          ]
        }
      ],
      "source": [
        "print_example([0, 32, 45], train_sentences, annon_sents_100)"
      ]
    },
    {
      "cell_type": "code",
      "execution_count": 82,
      "metadata": {
        "colab": {
          "base_uri": "https://localhost:8080/"
        },
        "id": "ysQRIvcP1Kop",
        "outputId": "ebe48a71-80bc-4c01-f7a2-d8a46be2f6a3"
      },
      "outputs": [
        {
          "output_type": "stream",
          "name": "stdout",
          "text": [
            "Before:\n",
            "janes all the worlds aircraft 1996-7: great to deal with. very quick delivery. very highly recommended. thank you.\n",
            "good bike, bad packing: when i received the bike, the packing board was broken.the bike quality is good.\n",
            "great purchase: installed in seconds. great performance. excellent to eliminate phone line dependency.\n",
            "\n",
            "After:\n",
            "janes all the worlds aircraft 1996-7: great deal, very quick delivery. when i received the bike, the packing board was broken.\n",
            "janes all the worlds aircraft 1996-7: great deal, very quick delivery. when i received the bike, the packing board was broken.\n",
            "janes all the worlds aircraft 1996-7: great deal, very quick delivery. when i received the bike, the packing board was broken.\n"
          ]
        }
      ],
      "source": [
        "print_example([1, 72, 73], train_sentences, annon_sents_100)"
      ]
    },
    {
      "cell_type": "code",
      "execution_count": 83,
      "metadata": {
        "colab": {
          "base_uri": "https://localhost:8080/"
        },
        "id": "jk3D3gfa1MWA",
        "outputId": "4dcf0cca-f1fa-4daf-ac7e-2d643db343d3"
      },
      "outputs": [
        {
          "output_type": "stream",
          "name": "stdout",
          "text": [
            "Before:\n",
            "beach boys and the satan: a totally off and enjoyable movie. all brian wilson fans should see this movie.\n",
            "great: one of adams best films along side the wedding singer and mr. deeds. funny movie. worth buying\n",
            "solid follow up: very good movie. for children 7 and up...any younger they may not grasp the concept.\n",
            "\n",
            "After:\n",
            "beach boys and the satan: a totally off and enjoyable movie. one of adams best films along side the wedding singer\n",
            "beach boys and the satan: a totally off and enjoyable movie. one of adams best films along side the wedding singer\n",
            "beach boys and the satan: a totally off and enjoyable movie. one of adams best films along side the wedding singer\n"
          ]
        }
      ],
      "source": [
        "print_example([19, 78, 87], train_sentences, annon_sents_100)"
      ]
    },
    {
      "cell_type": "markdown",
      "metadata": {
        "id": "yWI7fR0n9A4h"
      },
      "source": [
        "Test anonymity"
      ]
    },
    {
      "cell_type": "code",
      "execution_count": 56,
      "metadata": {
        "id": "ZAJSYWbH8_c2"
      },
      "outputs": [],
      "source": [
        "#get_pesonal_docs(annon_sents)"
      ]
    },
    {
      "cell_type": "markdown",
      "metadata": {
        "id": "tr-5cyohqTsE"
      },
      "source": [
        "## Running on 1000 examples"
      ]
    },
    {
      "cell_type": "code",
      "execution_count": 86,
      "metadata": {
        "colab": {
          "base_uri": "https://localhost:8080/"
        },
        "id": "uJ09ur7goPcu",
        "outputId": "a882b017-d6a4-4689-885f-c4872d5b2a37"
      },
      "outputs": [
        {
          "output_type": "stream",
          "name": "stdout",
          "text": [
            "similar_doc_ind [0, 546, 933] \tSummary: used library book, but still in good condition. book came quickly and was cheap. overall good deal!\n",
            "similar_doc_ind [1, 200, 713] \tSummary: janes all the worlds aircraft 1996-7: great to deal with. very quick delivery. very highly recommended.\n",
            "similar_doc_ind [2, 526, 934] \tSummary: this claptrap would have never been published had the author not been black and female. the plot lines are distinctly implausible \n",
            "similar_doc_ind [3, 367, 989] \tSummary: the movie has a very weak storyline, loosely linked chapters, total disappointment from a good cast. it was definitely not a classic\n",
            "similar_doc_ind [4, 243, 285] \tSummary: i love enya's work and this cd is exceptional. my son is thoroughly enjoying this audio version of the music found\n",
            "similar_doc_ind [5, 518, 126] \tSummary: the things this man can do is amazing. this cd is incredible. exciting the whole way through.\n",
            "similar_doc_ind [6, 312, 773] \tSummary: wishmaster is a fantastic album, that should grace everyone's music collection. innovating and always refreshing. truly a masterpiece.\n",
            "similar_doc_ind [7, 884, 264] \tSummary: schlossstein has made a compelling and truly thought provoking thriller given the times we are in!!\n",
            "similar_doc_ind [8, 410, 895] \tSummary: the program looks fun but the software i recieved was corupt it wont load on any machine.\n",
            "similar_doc_ind [9, 136, 116] \tSummary: bad cover. half of the book is ruined because the spine has come unglued...false product description! beautiful books arrived in good time and\n",
            "similar_doc_ind [10, 573, 811] \tSummary: the last selection is out of this world. francais de colorado meets stephen stills and manassas\n",
            "similar_doc_ind [11, 802, 817] \tSummary: action: lots of action, but totally unbelievable, just like watching wrestling. amusing enough to watch but not to own. formulaic. dull. in\n",
            "similar_doc_ind [12, 218, 584] \tSummary: the camcorder worked only a couple of times.then the playback picture was totally........\n",
            "similar_doc_ind [13, 590, 834] \tSummary: the overall appearance of gluten free bread was poor. it lacked proper shape and texture.\n",
            "similar_doc_ind [14, 646, 601] \tSummary: horrible lieutenant: worst nicholas cage movie ever made. poorly acted, filmed, edited, and scripted.\n",
            "similar_doc_ind [15, 857, 579] \tSummary: if you worry about how much you pay for gas, read this book! end. ccie prep.com's book is waste of money\n",
            "similar_doc_ind [16, 30, 803] \tSummary: 38.39 is a ridiculous price for 12 red bull, especially considering they cost 2.09 in a store. thomas the train\n",
            "similar_doc_ind [17, 890, 146] \tSummary: dr. eby's claim that jesus did not return in his (eby's) lifetime is false prophet alert \n",
            "similar_doc_ind [18, 995, 729] \tSummary: joyce's work explains many issues that remain current topics of contention. in 2008 can be considered a little old. but still good \n",
            "similar_doc_ind [19, 370, 721] \tSummary: beach boys and the satan: a totally off and enjoyable movie. all brian wilson fans should see this movie.\n",
            "similar_doc_ind [20, 809, 513] \tSummary: this book is the second-best book on toefl after educational testing services' (ets) toefl book. practice\n",
            "similar_doc_ind [21, 152, 352] \tSummary: sea runners will etch the coastline of british columbia in your mind. without goals or objectives we can all sink without \n",
            "similar_doc_ind [22, 683, 838] \tSummary: a must have if you were recently diagnosed with partial seizures..\n",
            "similar_doc_ind [23, 366, 888] \tSummary: under the tuscan sun was such an enjoyable movie. keanu reeves and charlize theron are\n",
            "similar_doc_ind [24, 641, 474] \tSummary: while the look is dated it is wonderful, fun to watch, classic old-style sci-fi...could hardly ask for better\n",
            "similar_doc_ind [25, 163, 798] \tSummary: rollerbomb: stupid, vapid, anemic remake of the 1975 film. the blob: excellent scifi movie.\n",
            "similar_doc_ind [26, 940, 719] \tSummary: the translation from the original language (german) is unbelievably poor. i don't know if i can even finish\n",
            "similar_doc_ind [27, 640, 293] \tSummary: the blu ray version is barely superior to the dvd...it is very grainy.not worth the upgrade.\n",
            "similar_doc_ind [28, 680, 747] \tSummary: story of the yardbirds: excellant dvd. had a lot of info i didn't know about the band. high valley c\n",
            "similar_doc_ind [29, 992, 470] \tSummary: some good action and scenery, but otherwise pretty low budget movie. a great film for adults & children...dark but with lots of humor\n",
            "similar_doc_ind [31, 731, 368] \tSummary: sega sports rules is best basketball game out there...most realistic, challenging and fun...street games are a great addition. live 07 is\n",
            "similar_doc_ind [32, 654, 109] \tSummary: the book i ordered was exactly as described. delivery was even faster than promised. prompt shipment and book is as ordered.\n",
            "similar_doc_ind [33, 954, 237] \tSummary: 1984: love the book, very appropriate for the time we live in. julie & julia: not the greatest book\n",
            "similar_doc_ind [34, 36, 220] \tSummary: one of the best and prophetic novels ever written about the descent into dehumanizing socialism. a wonderful feminist novel, one of my\n",
            "similar_doc_ind [35, 779, 816] \tSummary: this book works great for teaching the song. the hardback cover is great for multiple uses.\n",
            "similar_doc_ind [37, 274, 958] \tSummary: i was disappointed in the content of this book. i would not recommend it to anayone.\n",
            "similar_doc_ind [38, 1000, 665] \tSummary: nietzsche criticizes ramana maharshi's philosophical and ethical system of thought. garbage, and it was terribly\n",
            "similar_doc_ind [39, 75, 987] \tSummary: halti collar worked well at controlling my great dane. sturdy construction, padded and adjustable.\n",
            "similar_doc_ind [40, 131, 460] \tSummary: 'this is the single best movie i have ever seen' 'one of the greatest masterpieces of our time'\n",
            "similar_doc_ind [41, 235, 193] \tSummary: the write-up was not good. this is definitely a children's book(?) very disappointed. i thought this was a very\n",
            "similar_doc_ind [42, 644, 205] \tSummary: sony a100h: great subsitute for sony memory stick. cost less, same quality. dualdisc contains no enhanced audio\n",
            "similar_doc_ind [43, 603, 975] \tSummary: move were impossible to follow -- way too complicated. don't waste your time or money. notice the 1 minute run time on this...i didn'\n",
            "similar_doc_ind [44, 604, 653] \tSummary: the authors have provided the quintessential study guide to the canterbury tales. this book offers beautiful writing, a deep spirituality\n",
            "similar_doc_ind [45, 100, 427] \tSummary: i recieved this book on time and in excellent condition. i'd definitely recommend this seller.\n",
            "similar_doc_ind [46, 466, 255] \tSummary: piaa bulbs are much brighter and whiter than oem bulbs. i bought these for my wife, and she loves them\n",
            "similar_doc_ind [47, 487, 452] \tSummary: i was very impressed with the packaging, movie and footage. i would recommend purchaasing from this seller anytime.\n",
            "similar_doc_ind [48, 385, 417] \tSummary: awful service: worst magazine ever!! i paid for a subscription for my boyfriend and he only received 2 issues!!!\n",
            "similar_doc_ind [49, 291, 437] \tSummary: this book was very good i loved the suspense: there wasn't enough romance though.i wish her books were longer. as with\n",
            "similar_doc_ind [50, 73, 309] \tSummary: good product, works just as described. easy to install. have not had any problems thus far. great purchase: installed in seconds. great performance. excellent\n",
            "similar_doc_ind [51, 523, 795] \tSummary: not suited for beginner's should have qiute lucid explationsi dont recommend for new commers to java.\n",
            "similar_doc_ind [52, 396, 280] \tSummary: keepin' that java warm! keeps the mug warm while i'm on the computor! buy it!!!\n",
            "similar_doc_ind [53, 259, 685] \tSummary: boring, speaker very unenthusiastic, not enough sewing information. falling apart after one washing!: not very good quality. kind of scratch\n",
            "similar_doc_ind [54, 750, 324] \tSummary: i purchased all 7 and gave them away. hard to watch/listen: waste of money. i found myself not caring about the main character and\n",
            "similar_doc_ind [55, 869, 929] \tSummary: it's another one of smallville's excellent seasons. an incredible originally-on-television miniseries.\n",
            "similar_doc_ind [56, 477, 720] \tSummary: i loved batman returns. such a classic. great solid performances by michelle pheifer and danny devito.\n",
            "similar_doc_ind [57, 256, 112] \tSummary: this is my fourth-grade son's favorite book. he loves cooking and this book is fun with great recipes.\n",
            "similar_doc_ind [58, 939, 423] \tSummary: this case offers very little protection, and most of the phone is exposed. not worth it....\n",
            "similar_doc_ind [59, 920, 825] \tSummary: outstanding history from robert e. lee's most important aide. tremendously insightful into lee and the anva \n",
            "similar_doc_ind [60, 793, 718] \tSummary: discription says 2-2pound wrist weights. product received was 2-1pound wrist weights. a deceptive rip-off!\n",
            "similar_doc_ind [61, 482, 234] \tSummary: shipping and dvd itself was great...the story and acting was not that great...very disappointing. mediocre performances, and most of the songs have nothing\n",
            "similar_doc_ind [62, 864, 961] \tSummary: the high ceilings is a great band. max heinegg is a musical genius. the band has it all; playing,s\n",
            "similar_doc_ind [63, 595, 737] \tSummary: the third secret is a fast read...well researched and edge of your seat. everyone should attempt this book-hint stick with it for 150\n",
            "similar_doc_ind [64, 157, 828] \tSummary: i have always been interested in weird things and this fills my need. i found this book facsinating and spoke so directly to\n",
            "similar_doc_ind [65, 748, 671] \tSummary: the five pennies is a childhood favourite of mine and my partners. i can't wait for the sequel which is in pre-production\n",
            "similar_doc_ind [66, 539, 444] \tSummary: hp photosmart 2575 all-in-one printer was received as promised and it worked perfectly. however, it was shipped with wrong\n",
            "similar_doc_ind [67, 457, 346] \tSummary: the item was delivered earlier than expected, arrived exactly as described (new) seller had good communication and shipment was fast. item arrived in good condition. very\n",
            "similar_doc_ind [68, 69, 486] \tSummary: this being mario i thought this would be good.i was very, very, very wrong. very wrong. this is one of the stupidi\n",
            "similar_doc_ind [70, 831, 471] \tSummary: the sound of music - anniversary edition is a true classic. many extras that you won't find on dvd.\n",
            "similar_doc_ind [71, 674, 739] \tSummary: kodak digital camera: easy to use and takes great shots. sony cybershot dscw90 8.1mp digital\n",
            "similar_doc_ind [72, 712, 159] \tSummary: when i received the bike, the packing board was broken. the seat covers started coming loose at the seams immediately upon putting them on \n",
            "similar_doc_ind [74, 503, 143] \tSummary: ordered this charger and was told it was 1 month on backorder then, i never received it.\n",
            "similar_doc_ind [76, 575, 577] \tSummary: bad book overall, only interesting about the themes of discrimination. long sentences that are extremely confusing.\n",
            "similar_doc_ind [77, 682, 862] \tSummary: 4 ingredient dinner: good book to give to someone starting out in their own place. mountains of spices: easy to read christian book,\n",
            "similar_doc_ind [78, 672, 248] \tSummary: one of adams best films along side the wedding singer and mr. deeds. like modern day shakespere but\n",
            "similar_doc_ind [79, 244, 206] \tSummary: temporary residence ceases to amaze me with each release. there is not perfect harmony throughout the cd. can be shocking during chill time.\n",
            "similar_doc_ind [80, 687, 393] \tSummary: wheeler is the best contemporary song writer and singer of our day! absolutely great!\n",
            "similar_doc_ind [81, 356, 783] \tSummary: surprisingly, the vocals are completely uninspired. the recording quality was not very good.\n",
            "similar_doc_ind [82, 223, 973] \tSummary: this is not the triumvirat i grew up with. no original members. disco at it's worse. suck\n",
            "similar_doc_ind [83, 283, 326] \tSummary: this is by far the best documentation of the peoples temple and the jonestown tragedy!\n",
            "similar_doc_ind [84, 228, 351] \tSummary: this book is very concise and useful! i found it very easy to accurately translate quickly. should be required reading in every school (if it is\n",
            "similar_doc_ind [85, 161, 717] \tSummary: shirts of average quality...worth about what i paid for them, $10.00. fake - not real leather!: synthetic leather looking belt\n",
            "similar_doc_ind [86, 349, 117] \tSummary: horrible book: boring and bland. he even spent two pages listing sponges. don't waste your time by reading this.\n",
            "similar_doc_ind [87, 249, 182] \tSummary: recipent was thrilled while watching this movie. i feel it is child friendly and quite entertaining.\n",
            "similar_doc_ind [88, 832, 472] \tSummary: this is a great light weight facial sunscreenand day time moisturizer. it refreshes my skin and smell wonderful!\n",
            "similar_doc_ind [89, 436, 147] \tSummary: boettner either lies or he's incredibly naive. ask him for his sources. sources which do not exist\n",
            "similar_doc_ind [90, 819, 716] \tSummary: the cannabis grow bible is the perfect book for all growers. great tips tricks and tweakings for all growers. definitely highly recommend.\n",
            "similar_doc_ind [91, 251, 496] \tSummary: this is an outstanding book, documenting the quickly-decreasing generation of those who lived through wwii. it is\n",
            "similar_doc_ind [92, 279, 522] \tSummary: the story was awful. don't spend your money on this one. borrow it from the library.\n",
            "similar_doc_ind [93, 630, 292] \tSummary: a hybrid between a ricer & the old \"wavy-wire\" tool your mother used. hard to believe it was used.\n",
            "similar_doc_ind [94, 454, 538] \tSummary: price: goodsize: very goodrange: fair (some noise when there i'm in another room) battery life: good. long standing charge\n",
            "similar_doc_ind [95, 741, 964] \tSummary: sony cd-r's are extremely unreliable!\n",
            "similar_doc_ind [96, 815, 362] \tSummary: i absolutely love spongebob,and a movie would be awesome! i can't wait!hooray for patrick! \n",
            "similar_doc_ind [97, 512, 562] \tSummary: i see dis movie in dis theter it blew chunks spongbob an his friends are gay. i can't believe\n",
            "similar_doc_ind [98, 139, 176] \tSummary: spongebob is great he doesn't do anything bad he's optimistic. burt most have needed the $$.: great actor\n",
            "similar_doc_ind [99, 549, 971] \tSummary: product arrived safe and sound and in a timely manner. we have enjoyed the movie many times without any problems.\n",
            "similar_doc_ind [101, 213, 151] \tSummary: i do not recommend this book is so unsubstantiated, vague, and unscientifically presented, nothing new. the book was verb\n",
            "similar_doc_ind [102, 191, 298] \tSummary: this had no effect on pet hair. personally, masking tape wrapped around your hand works better.\n",
            "similar_doc_ind [103, 813, 104] \tSummary: batman begins! was awesome!!! but is the deluxe edition going to be available for full-screen?????????????????????????????\n",
            "similar_doc_ind [105, 676, 537] \tSummary: this was a pretty effective exercise video. the routines on this video are realistic.\n",
            "similar_doc_ind [106, 749, 329] \tSummary: good movie fun and entertaining. lots of fun if your into the simple comedy. good effects and all that but the plot overall was pretty stupid.\n",
            "similar_doc_ind [107, 655, 478] \tSummary: i love this chain, it's not to big but def not small either, it's just enough...really cute. \n",
            "similar_doc_ind [108, 797, 533] \tSummary: product arrived in expected time, and in excellent condition. will use this service again if need arises.\n",
            "similar_doc_ind [110, 597, 636] \tSummary: detecto 339: excellent. assembly easy, works perfectly and is made in usa.highly recommmed detecto products.\n",
            "similar_doc_ind [111, 230, 229] \tSummary: this is the best and my favorite r. kelly's album! it tugs at every emotion.\n",
            "similar_doc_ind [113, 494, 880] \tSummary: i am absolutely hooked on the anita blake series. i love janet dailey's \"calder\" series\n",
            "similar_doc_ind [114, 115, 118] \tSummary: toxicity--system of a down music cd is a compilation of great songs performed poorly by one quartet.\n",
            "similar_doc_ind [119, 453, 308] \tSummary: cake craft & decoration, begin by march 2006 issue.thanksdiana.\n",
            "similar_doc_ind [120, 662, 976] \tSummary: turkish bellydance is essential to have a listening sample - one cannot make an educated decision without it. shost\n",
            "similar_doc_ind [121, 241, 743] \tSummary: the lanyards and whistles were purchased for a christmas gift which was well received. i received the item in a timely fashion\n",
            "similar_doc_ind [122, 415, 231] \tSummary: old standards that have been great for almost fifty years. well worth having in one's collection.\n",
            "similar_doc_ind [123, 542, 388] \tSummary: casablanca was bought as a christmas present for someone who loves old movies. she enjoyed this very much.\n",
            "similar_doc_ind [124, 430, 239] \tSummary: these diapers are great for active toddlers. no leaks, no rashes, no problems. excellent diapers!\n",
            "similar_doc_ind [125, 968, 197] \tSummary: this album so very soulful in a truly heartful kinda way. it makes your soul sing out loud. this is a terrific movie\n",
            "similar_doc_ind [127, 128, 233] \tSummary: plantronics oem order received in a timely fashion. great product; does the job. inexpensive. great shipping.\n",
            "similar_doc_ind [129, 623, 310] \tSummary: the lid on the spinner arrived cracked. the mailing package was intact, i question the sellers quality control.\n",
            "similar_doc_ind [130, 363, 164] \tSummary: like the movie so i bought it. received the dvd in great condition. was very satisfied.\n",
            "similar_doc_ind [132, 960, 760] \tSummary: signature collection handkerchiefs,13-pk white, are of excellent quality. good steak knives, sharp-stylish design\n",
            "similar_doc_ind [133, 709, 707] \tSummary: re foster, new jersey: found to have very good clear sound. reception excellent. would purchase again. small but powerful.\n",
            "similar_doc_ind [134, 666, 406] \tSummary: the language of letting go: never received the books. second time this has happened.\n",
            "similar_doc_ind [135, 184, 195] \tSummary: great masterpiece: deliciously skewers liberalism. hands down the best and most comprehensive etymological work ever produced by an\n",
            "similar_doc_ind [137, 440, 706] \tSummary: book was supposed to be gently used. came in with pieces tornof the front and back covers.\n",
            "similar_doc_ind [138, 194, 708] \tSummary: metaphors preferred over definitions, equivocations, unsupported premises, logical fallacies... and this is only in chapter one\n",
            "similar_doc_ind [140, 853, 605] \tSummary: i highly recommend this product and this seller!\n",
            "similar_doc_ind [141, 847, 516] \tSummary: this story was seriously depressing, and was in no way a book that i would call enjoyable.\n",
            "similar_doc_ind [142, 403, 610] \tSummary: mannheim steamroller's unique sound lends itself perfectly to the \"mouse\" fantastic music for all who love disney!\n",
            "similar_doc_ind [144, 288, 909] \tSummary: amercian thocracy: a magnificent and scholarly work. entertaining, but historicaly inaccurate and sometimes silly.\n",
            "similar_doc_ind [145, 919, 432] \tSummary: this book of puritan prayers is very moving and beautiful. the prayers are especially pertinant today.\n",
            "similar_doc_ind [148, 840, 982] \tSummary: this documentary rocks. great for budding entrepreneurs, and entertaining for just about anybody. the director has some interesting theories in this documentary but presents them in\n",
            "similar_doc_ind [149, 168, 411] \tSummary: farberware is a name you can trust. anolon makes awesome kitchenware, and this saucepan is no exception.\n",
            "similar_doc_ind [150, 614, 930] \tSummary: handles fall off with long use, they don't cook evenly. i too have experienced the plastic cracking and breaking. would not buy another\n",
            "similar_doc_ind [153, 660, 885] \tSummary: i have never been disappointed with a barbaradelinsky book. enjoyable! good book, moves along well, goes over the information that you\n",
            "similar_doc_ind [154, 927, 852] \tSummary: this book has an interesting plot, but the typos and inconsistencies are very distracting. i found the plot predictable; the characters\n",
            "similar_doc_ind [155, 528, 178] \tSummary: school required book was delivered a month later. book arrived early and is just what i needed for my class.\n",
            "similar_doc_ind [156, 967, 824] \tSummary: i found the movie to be a \"cult\" wanna-be production. predictable ending. a little boring.\n",
            "similar_doc_ind [158, 357, 962] \tSummary: if ever a book deserved an 11...: absolutely wonderful...surely one of the greatest novels to come out from america.\n",
            "similar_doc_ind [160, 892, 659] \tSummary: the seat covers started coming loose at the seams immediately upon putting them on the seats. the label should have been molded into the plastic \n",
            "similar_doc_ind [162, 499, 332] \tSummary: amazing voice! sounds like a young rod stewart, but better :)did not find one bad track on this album!\n",
            "similar_doc_ind [165, 695, 735] \tSummary: this show is amazing, from the cast to the script everything is done unbelievable well. the script stunk, and the ending was worse \n",
            "similar_doc_ind [166, 495, 303] \tSummary: i haven't spent much time with this product. it's very boring. mengele: the complete story was hard to stay\n",
            "similar_doc_ind [167, 582, 294] \tSummary: instant immersion american sign language deluxe came without instructions. nice product, but it's not even dubbed in spanish. dvd is\n",
            "similar_doc_ind [169, 638, 751] \tSummary: save your money, these bracelets are almost impossible to put together. these are really tiny, not very impressive in real life, and not worth the\n",
            "similar_doc_ind [170, 429, 907] \tSummary: extended life replacement battery does not last as long as the old battery it replaced. rechargable battery life is getting shorter and shorter quickly \n",
            "similar_doc_ind [171, 330, 335] \tSummary: switched from fusion blades to these, very impressed. gives more irritation than the mach 3 turbo, and doesn't shave as\n",
            "similar_doc_ind [172, 299, 268] \tSummary: ordered size 32, received size 52. when returned the item i initially ordered was no longer available.\n",
            "similar_doc_ind [173, 965, 823] \tSummary: the very first disk was defective and i called the company and they told me \"tough\" this package includes 50 discs and over 30 discs\n",
            "similar_doc_ind [174, 814, 181] \tSummary: spongebob dvd's first season: excellent transaction. very smooth. no problems. highly recommended book, my favorite of castaneda'\n",
            "similar_doc_ind [175, 177, 915] \tSummary: transformers rulz: non-stop action,great soundtrack,best cartoon movie ever. grwst: excellent in 3d, love\n",
            "similar_doc_ind [179, 517, 540] \tSummary: this is a great thriller about 2 ladies seeking justice and revenge!!it's a must see!!!!\n",
            "similar_doc_ind [180, 810, 950] \tSummary: i could not finish reading this story. nothing happens. it's philosophy disguised as science fiction. dull. i find it very suspicious that\n",
            "similar_doc_ind [183, 565, 609] \tSummary: the picture and the sound were soooooooooooooooooooooooooooooooooooooooooooooooooooooooooooooooooooooooooooooooooooooooooooo\n",
            "similar_doc_ind [185, 365, 361] \tSummary: utter rubbish: don't waste your money. boring and needlessly graphic gay sex.totally unsympathetic characters.\n",
            "similar_doc_ind [186, 469, 442] \tSummary: unimaginative recording: ok so its dvd-audio dts etc. the acutal recording is boring and not worth the price\n",
            "similar_doc_ind [187, 480, 787] \tSummary: 'french powder mystery' is one of my favorite mystery novels. through the book i gained a lot of insight about e\n",
            "similar_doc_ind [188, 996, 593] \tSummary: besides being absolutely disgusting,this is the worst movie ever made.check out jaws 4 too.\n",
            "similar_doc_ind [189, 260, 426] \tSummary: the mummy returns: another dvd for my grand daughter's collection. she loved it. emperor and the nightingale:\n",
            "similar_doc_ind [190, 433, 675] \tSummary: the book is well written but many crucial concepts are weakly communicated. the book should be compulsory reading for every corporate board of directors and all ce\n",
            "similar_doc_ind [192, 796, 414] \tSummary: review: didn't like the product but my money was happily refunded. product arrived in a timely manner and in good condition.\n",
            "similar_doc_ind [196, 578, 269] \tSummary: sonicx/chaos:emerald chaos/seasons2 was of great quality. harry potter disc set\n",
            "similar_doc_ind [198, 210, 435] \tSummary: great movie all women will appreciate - so typical of men and the games they play. for every skier and boarder a must buy \n",
            "similar_doc_ind [199, 886, 209] \tSummary: hugh jackman and ashley judd are so funny, you will love this movie. perfectly cast and well-acted, this\n",
            "similar_doc_ind [201, 763, 916] \tSummary: this version is missing songs...the best ones, too! don't buy it, look for the full version.\n",
            "similar_doc_ind [202, 272, 289] \tSummary: i ordered before july 4th.still not receivedemails never answeredno credit giveni just want the 2 dvd's \n",
            "similar_doc_ind [203, 822, 505] \tSummary: the movie was boring,slow paced,unrealistic,stupid,and a total waste of time and money. the\n",
            "similar_doc_ind [204, 714, 661] \tSummary: jeanthe bomba factorynina laresllayalilina santiagogerardogruv stationel guero\n",
            "similar_doc_ind [207, 997, 328] \tSummary: maurice: beautiful story, beautiful people. loved the movie though i have problems with english accents. hackman's french connection: \n",
            "similar_doc_ind [208, 725, 360] \tSummary: teenmo lumbers under its own limitations in feeble attempts at melodic engagement. generic plot, hokey final confrontation and woodener-\n",
            "similar_doc_ind [211, 266, 345] \tSummary: if you like musicals, then you'll love this movie. jennifer hudson definitely stole the show \n",
            "similar_doc_ind [212, 979, 509] \tSummary: this movie start well but it gets boring and uninspiring afterward. i found this movie excruciatingly painful & extremely\n",
            "similar_doc_ind [214, 215, 910] \tSummary: joseph: very disappointed in the presentation compaired to the stage performance which is what i was looking for. sounds like something recorded\n",
            "similar_doc_ind [216, 727, 314] \tSummary: not really all that good. and, the language used could be better. thought provoking although not easy to read due to \"old english\" style\n",
            "similar_doc_ind [217, 265, 870] \tSummary: the goblin cleaver is pure gold, end of story, a must have for any dvd collection of fantasy fun...dillholes\n",
            "similar_doc_ind [219, 221, 622] \tSummary: i am very happy with the m881 because it is lightweight, and very comfortable. good support and stability.\n",
            "similar_doc_ind [222, 626, 378] \tSummary: i love reading it to my daughter and she loves listening to it. it is a delightful book, full of fun and laughter.\n",
            "similar_doc_ind [224, 402, 493] \tSummary: this movie was awful, nothing like the first movie and even worse than the second. even elizabeth berkley's\n",
            "similar_doc_ind [225, 942, 891] \tSummary: lucy maud montgomery turned over in her grave. i heard this book read at a grief workshop.\n",
            "similar_doc_ind [226, 483, 766] \tSummary: i was very pleased with my last purchase. the delivery was very prompt and shipped in perfect condition. i would purchase from them again.\n",
            "similar_doc_ind [227, 545, 399] \tSummary: i ordered this camera for my son's birthday present - he's captured some great pictures thus far!\n",
            "similar_doc_ind [232, 507, 873] \tSummary: the worst of john grisham: is it one story or a bunch of mini-stories totally un-related. huge disappointment.\n",
            "similar_doc_ind [236, 290, 506] \tSummary: i expected recipes and...none!made a donation to a senior center and donated...julie & juli\n",
            "similar_doc_ind [238, 628, 645] \tSummary: love the swaddle-me- however, note that the cotton stretches a lot faster then the microfleece versions \n",
            "similar_doc_ind [240, 398, 479] \tSummary: i was given the fullscreen version...what a disappointment! buy the widescreen if you can.\n",
            "similar_doc_ind [242, 951, 893] \tSummary: this is a great cd for meditation reflection or relaxing. constant peaceful mood throughout.\n",
            "similar_doc_ind [245, 504, 339] \tSummary: i don't recommend a friend this product. it's a very poor quality. 0 satisfaction for the client.\n",
            "similar_doc_ind [246, 754, 770] \tSummary: a&a; sucks,blink-182 sucks,for real music, listen to the almighty....dream theater\n",
            "similar_doc_ind [247, 941, 764] \tSummary: this philosophical text was interesting. bought for a school project. price was bit high, has a good font-typeset.satisfied\n",
            "similar_doc_ind [250, 921, 333] \tSummary: chuck norris does his usual dry one liners while kicking butt style of movie. good depiction of the gettysburg\n",
            "similar_doc_ind [252, 759, 868] \tSummary: the best of the entire catalog! great music great show, great quality dvd!\n",
            "similar_doc_ind [253, 635, 382] \tSummary: hard drive upgrade kit worked perfectly. process took less than 30 minutes from start to finish. seller shipped it fast.\n",
            "similar_doc_ind [254, 722, 658] \tSummary: earings are too big...no way of knowing they were as big...nothing i will wear.....\n",
            "similar_doc_ind [257, 389, 343] \tSummary: ivan's childhood: another tarkovsky masterpiece presented with care and precision by criterion classics. tora to\n",
            "similar_doc_ind [258, 844, 710] \tSummary: very poor instructions and tedious assembly. requires multiple tools and really 2 people to accomplish this. a great grill accessory, used it to fix pancake\n",
            "similar_doc_ind [261, 928, 926] \tSummary: cannery row is about a very strange community. steinbeck uses wonrderful plot lines.\n",
            "similar_doc_ind [262, 686, 600] \tSummary: shaver was defective and had to be returned to seller. ordered this spider, never came in the mail...contacted seller and said one was\n",
            "similar_doc_ind [263, 287, 271] \tSummary: the book eragon by christopher paolini is the best book i've ever read. it's sooooooooo\n",
            "similar_doc_ind [267, 794, 848] \tSummary: i liked this book better when it was called dragonriders of pern/star wars/lord of the rings. i'\n",
            "similar_doc_ind [270, 589, 286] \tSummary: splatiador: awful movie! why did it win best picture? crouching tiger, hidden dragon was definitey \n",
            "similar_doc_ind [273, 491, 882] \tSummary: a misandristic selection of \"solutions\" masquerading as a self-help guide for women. informative, eye-open\n",
            "similar_doc_ind [275, 631, 730] \tSummary: gaslight was a classic suspense tale written by mary shelley. smouldering fires was a classic\n",
            "similar_doc_ind [276, 837, 521] \tSummary: this moving is awful: boring, depressing and pointless! i'm sorry i wasted my time watching it. :(.\n",
            "similar_doc_ind [277, 319, 755] \tSummary: lee ann womak cd arrived within two days of my placing my order.\n",
            "similar_doc_ind [278, 767, 531] \tSummary: compact houses book came fairly quickly and as described, in very good condition. it's small...but great things always come in small packages.\n",
            "similar_doc_ind [281, 448, 535] \tSummary: blade runner - director's cut: stay away from this piece of garbage; try the original version if available.\n",
            "similar_doc_ind [282, 983, 854] \tSummary: 1: why did they make this film: no donald pleasence,no michael myers,no point at all.\n",
            "similar_doc_ind [284, 558, 957] \tSummary: cornwell's last two books are really terrible.read evanovitch.great series!!!!\n",
            "similar_doc_ind [295, 372, 937] \tSummary: i bought 2 sets, both taps broke while trying to tap aluminum! terrible quality, never again..\n",
            "similar_doc_ind [296, 647, 629] \tSummary: pastry cutter: heavier than expected. very good when chopping/dicing vegetables to transfer them to pot from cutting board. cheap: don'\n",
            "similar_doc_ind [297, 508, 377] \tSummary: i don't get it: it's actually a common sense...get muscular, be handsome....have a lot of money....bla\n",
            "similar_doc_ind [300, 525, 510] \tSummary: repetitious and disappointing for someone who bought all santana records lp's cd's and dvd's \n",
            "similar_doc_ind [301, 771, 692] \tSummary: saunders-garcia combo doesn't work. bass work, guessin' by phil lesh, is the highlight \n",
            "similar_doc_ind [302, 842, 806] \tSummary: if you are looking for spiritual enlightenment, this isn't the book for you. excellent book by thomas\n",
            "similar_doc_ind [304, 481, 473] \tSummary: collector toy meets expectations: liked first one so much. bought second. will raffle second at charity auction near future. book was in great shape\n",
            "similar_doc_ind [305, 875, 874] \tSummary: this is clancy's most involved and boring book.do not buy it. as mr. clancy ages \n",
            "similar_doc_ind [306, 711, 781] \tSummary: the figures arms cannot be lowered, limiting the available poses to waving gestures. great choreography, terrific gwen, \n",
            "similar_doc_ind [307, 439, 416] \tSummary: emanuelle around the world: acting was poor and contrived. much of the plot centered around violence towards women.\n",
            "similar_doc_ind [311, 619, 413] \tSummary: i'm interested in early flight and this book gave an eyewitness account which i enjoyed. the night before christmas: excellent book.\n",
            "similar_doc_ind [313, 515, 424] \tSummary: the music of thomas tallis is destined to a favourite for many years. morgenstern's genius: florinese\n",
            "similar_doc_ind [315, 617, 905] \tSummary: if this is what is currently being billed as enlightened or envisioned research then empiricism is dead. unless\n",
            "similar_doc_ind [316, 576, 616] \tSummary: fast delivery and great conditions would defenetly recommend to guy from them. far superior than fabreeze and cheaper in price.\n",
            "similar_doc_ind [317, 808, 497] \tSummary: this book was sold by wrox to apress. the code download is available directly from apress at http://support.apress\n",
            "similar_doc_ind [318, 804, 394] \tSummary: i like listening to this in the car while driving. swinging band - great rhythm section! all the way billy cobham: \n",
            "similar_doc_ind [320, 550, 972] \tSummary: shakespeare may be a genius, but cmon, this is the worst reading material i have ever seen. anne of green\n",
            "similar_doc_ind [321, 450, 826] \tSummary: i love these wall hangings. it adds a little extra to help bring it together. the removable table is awesome and definitely meets the\n",
            "similar_doc_ind [322, 348, 419] \tSummary: o'reilly should offer refunds on this book. it is unreadable. buy martin fowler's uml\n",
            "similar_doc_ind [323, 520, 404] \tSummary: i really enjoyed this video. it is a smart idea. his roller disco song was really catchy too.\n",
            "similar_doc_ind [325, 899, 615] \tSummary: du maurier is the best at this genre. i really enjoyed this trilogy and plan to read cornwell's entire works.\n",
            "similar_doc_ind [327, 923, 701] \tSummary: amazon says this is a volume of poe's complete works, but it's only the poetry. it would be much better to \n",
            "similar_doc_ind [331, 588, 859] \tSummary: this cd truly is awful. the lyrics are lame! it must have been written by some speds!!\n",
            "similar_doc_ind [334, 788, 728] \tSummary: this product is good for the one who wants deep clean shave. performance is good for sure. good quality, so it won't crack\n",
            "similar_doc_ind [336, 849, 643] \tSummary: shocking sneakers: beautiful design, very nice choice of colours (white/ green/ gold), very confortable, 10 points. black suede enzo\n",
            "similar_doc_ind [337, 338, 883] \tSummary: i love this album. great covers, and in mandy's voice sound amazing. i was so disappointed. this is not the\n",
            "similar_doc_ind [340, 746, 839] \tSummary: i almost bought this one!: thought it was anamorphic! now when will we get the anamorphic version?. \n",
            "similar_doc_ind [341, 409, 765] \tSummary: the joystick is too sensitive, overall the worst excuse for a flight sim. the superb timer is wonderful. i use it to\n",
            "similar_doc_ind [342, 845, 871] \tSummary: i really enjoyed this seires, i really think anyone who likes modern fanatasy should watch it..\n",
            "similar_doc_ind [344, 908, 451] \tSummary: if you are looking to get into security as a career, read infosec career hacking. good book!!\n",
            "similar_doc_ind [347, 447, 744] \tSummary: two cats removed the collar immediately. the third collar remained intact but the powder came off immediately. some of the clasps were misaligned\n",
            "similar_doc_ind [350, 843, 611] \tSummary: product has little information about even major metro areas, let alone less populated ones. added nothing, no single new inforamtion can be found in\n",
            "similar_doc_ind [353, 534, 556] \tSummary: caribou hunting, by larry bartlett: authoritative and complete. answered questions nobody else even discussed. nothing really special about australian\n",
            "similar_doc_ind [354, 606, 993] \tSummary: mariachi from mexico - best music for my restaurant\"hacienda\".\n",
            "similar_doc_ind [355, 625, 917] \tSummary: disappointing poppish sound. like elliot doing more bob dylan/van morisson style. too \"jazze\n",
            "similar_doc_ind [358, 985, 598] \tSummary: i would gve it zero: stupid,dum,cheesy,boring.plese dont buy this video.\n",
            "similar_doc_ind [359, 663, 889] \tSummary: i recently received these bags. great product at a great price...i hope they become available once again...i hope they become available once again.\n",
            "similar_doc_ind [364, 446, 441] \tSummary: base arrived when promised and works just like it should. suspicious how every negative comment on this guys products is immediately contradicted by a glowing 5\n",
            "similar_doc_ind [369, 475, 984] \tSummary: george carlin shows a lot of sincerity and frankness in this interview with larry wilde. the\n",
            "similar_doc_ind [371, 980, 581] \tSummary: fantastic movie, you'll love it, mixing new world music with old world settings works very well. some really good special effects. lots of action\n",
            "similar_doc_ind [373, 564, 690] \tSummary: stellar performances throughout, this movie really makes you wonder...possibly my favorite movie! a monumental film. a must-see for movie lovers\n",
            "similar_doc_ind [374, 544, 428] \tSummary: authur miller creates such a ridicus story and so many stupid characters. without the elemental heroes, this is not fun.\n",
            "similar_doc_ind [375, 807, 591] \tSummary: best wmi book yet: perhaps the best wmi book currently available. includes source code for all samples.\n",
            "similar_doc_ind [376, 757, 756] \tSummary: the edinburgh lectures arrived in perfect condition. price was excellent and received it in a timely manner.\n",
            "similar_doc_ind [379, 827, 865] \tSummary: i ordered the penguin classics version of this book, and the seller shipped me the signet classics version of this book. \n",
            "similar_doc_ind [380, 860, 492] \tSummary: depressing but hopeful book about recovery from drug and alcolhol addiction and return to normal, sober life. follow the drinking gourd\n",
            "similar_doc_ind [381, 561, 801] \tSummary: stay away this movie is a joke and shows hollywoods lack of creativity and good actors!\n",
            "similar_doc_ind [383, 896, 778] \tSummary: i swear there are now more moths than before!!! i highly recommend this book for people who want to hear the truth about\n",
            "similar_doc_ind [384, 740, 944] \tSummary: disapointed: sammy hagar....r u kidding?he never belonged with van halen.quite the\n",
            "similar_doc_ind [386, 652, 679] \tSummary: would buy again from this seller. item arrived quickly, and in condition described.thanks so much!\n",
            "similar_doc_ind [387, 670, 488] \tSummary: inherit the wind: the movie is just a small sample that proves bible is a bunch of baloneyivan- brazil \n",
            "similar_doc_ind [390, 977, 914] \tSummary: casablanca has been beautifully restored and the extras only enhance the movie experience. i expected a little more from tim burton\n",
            "similar_doc_ind [391, 918, 688] \tSummary: drek is drek: not well written and hardly anything new. kim is a good. though dated.\n",
            "similar_doc_ind [392, 902, 667] \tSummary: yellowbird 2000 watt professional is one of the best hairblowers i have ever owned.\n",
            "similar_doc_ind [395, 903, 867] \tSummary: stay away from dlink if you expect ease of use or have mixed operating systems (xp and mac) dvd will not play in neither my\n",
            "similar_doc_ind [397, 530, 613] \tSummary: after owning one for 10 months, my coolpad stopped working after daily use. after only a few uses, the plastic started cracking and\n",
            "similar_doc_ind [400, 634, 974] \tSummary: panasonic's customer service is atrocious, i would not buy any product from them. tried to contact seller several times. was\n",
            "similar_doc_ind [401, 557, 418] \tSummary: awsome plasma. razor sharp and crystal clear picture. superb set.\n",
            "similar_doc_ind [405, 501, 948] \tSummary: the language of letting go (hazelden meditation series) is a wonderful intro to eastern thought!\n",
            "similar_doc_ind [407, 799, 988] \tSummary: banco's music is deeply influenced by classical music. great old italian classics that i remember listening to as a kid with my\n",
            "similar_doc_ind [408, 913, 624] \tSummary: naruto wristband is exactly as advertised. very disappointing compared to other elmo singing toys. not honest with\n",
            "similar_doc_ind [412, 800, 527] \tSummary: do not watch!!!! disgusting.it is a waste of money.: whoever made this, kill yourself.\n",
            "similar_doc_ind [420, 945, 567] \tSummary: not as advertised: not chew sticks but simply tooth picks so they should definitely change this listing. works just like one would expect a non-\n",
            "similar_doc_ind [421, 587, 463] \tSummary: comedy critic: disappointed. listening to a \"few\" of his skits is preferable to having to watch an entire performance.\n",
            "similar_doc_ind [422, 877, 458] \tSummary: this game is just plain awesome with 2 disks and awesome missions, its better than age of empires. nothin like the old one...s\n",
            "similar_doc_ind [425, 551, 462] \tSummary: this movie is hardly a movie, just a lot of singing and dancing with no actual storyline.\n",
            "similar_doc_ind [431, 726, 602] \tSummary: book arrived quickly and in shape described. i am very satisfied with the seller.\n",
            "similar_doc_ind [434, 599, 821] \tSummary: pistoulet dishes: my wife absolutely loves the plates. i could really care less one way or the other! pizza slicer: the\n",
            "similar_doc_ind [438, 476, 900] \tSummary: dramtic danny devito's performance as the villianous penguin is outstanding. where's nosso am\n",
            "similar_doc_ind [443, 970, 911] \tSummary: fawlty towers - if you are a john cleese fan - you won't\n",
            "similar_doc_ind [445, 552, 922] \tSummary: this live cd sounds pretty much like their studio recordings, but there's nothing wrong with that! the glass harmonica adds a special\n",
            "similar_doc_ind [449, 946, 500] \tSummary: this dvd is really coooooooooooooooooooooooooooooooooooooooooooooooooooooooooooool and i likebitchny spears\n",
            "similar_doc_ind [455, 618, 608] \tSummary: this is still the wrong mix of this album. hopefully, shout! factory will find the correct master.\n",
            "similar_doc_ind [456, 698, 999] \tSummary: omron hem 629 aauto inflate wrist blood pressure monitor was send to me in not working condishions \n",
            "similar_doc_ind [459, 863, 724] \tSummary: the picture shows pillow cases and another sheet but this only comes with 1 fitted sheet. i'm disappointed there are no color photos of quilts\n",
            "similar_doc_ind [461, 574, 678] \tSummary: tommy lee jones: wonderful, wonderful movie. especially the friendship between jones' & jackson's characters,\n",
            "similar_doc_ind [464, 949, 700] \tSummary: i like the positive message of this song. it has inspired me on countless occassions. anyone remotely serious about black history,\n",
            "similar_doc_ind [465, 861, 650] \tSummary: i love these knives and would recommend them to anybody. oxo flour sifter: perfect sifter. works great\n",
            "similar_doc_ind [467, 872, 925] \tSummary: char-broil 4754960 patio caddie gas grill is super great grill. ngk spark plugs arrived very soon after order\n",
            "similar_doc_ind [468, 752, 866] \tSummary: tim burton's genius is truly one of a kind. state-of-the-art dts 5.1 sound\n",
            "similar_doc_ind [484, 524, 969] \tSummary: this album is unnecessary -- the covers are uninteresting because they add nothing to the originals.\n",
            "similar_doc_ind [485, 490, 723] \tSummary: the best of baltimore: great patterns for baltimore album applique lovers.\n",
            "similar_doc_ind [489, 769, 532] \tSummary: mccutcheon's songs are entertaining and diverse.\n",
            "similar_doc_ind [498, 691, 947] \tSummary: brideshead revisited: a great american classic well worth re-reading. \"northanger abbey\" will delight\n",
            "similar_doc_ind [502, 586, 689] \tSummary: maher is a pompous jerk that is as arrogant as the conservatives he condemns. why should anybody want to\n",
            "similar_doc_ind [511, 554, 938] \tSummary: a perfect bag for my sony sr-300, it's enough to keep and carry all the accessories. the most comprehensive hits\n",
            "similar_doc_ind [514, 677, 894] \tSummary: \"cage\" is fantastic. well worth the energy and time. \"saw\" was kind of boring, not as unique and creative as the first\n",
            "similar_doc_ind [519, 959, 990] \tSummary: midlife mavericks: well written...author develops a good position on opening ones opportunities...both the positive and negative are explored.\n",
            "similar_doc_ind [529, 732, 668] \tSummary: this is a great review material for mri registry exam. prettymuch covers more than enough.\n",
            "similar_doc_ind [536, 594, 697] \tSummary: i use this base coat every time i apply my polish. it works great to prevent chipping.\n",
            "similar_doc_ind [541, 592, 785] \tSummary: these mirrors are great because they are removable, adjustable & will fit on any sized bars. fogged up within a week.\n",
            "similar_doc_ind [543, 733, 560] \tSummary: kelly clarkson has an amazing voice, and i'm so glad that her cd finally came out! if you like\n",
            "similar_doc_ind [547, 639, 669] \tSummary: viewers should be aware that this film contains scenes in which animals are slaughtered and hurt. regular frichik is delicious. this is not \n",
            "similar_doc_ind [548, 818, 994] \tSummary: where eagles dare is one of eastwoods best action movies. harry flashman is horatio hornblo\n",
            "similar_doc_ind [553, 568, 953] \tSummary: the side pocket zipper doesn't close!good size fits dsc hx1 and all his acessories.\n",
            "similar_doc_ind [555, 805, 912] \tSummary: this book is just a generic dog book with very little information on the aussie. there are other more informative books out there costing definitely less\n",
            "similar_doc_ind [559, 734, 876] \tSummary: season five the funny started slipping. this season stinks. not funny!\n",
            "similar_doc_ind [563, 642, 776] \tSummary: never received item just a refund with no explanation.r.i.p. danny gans you will be missed.\n",
            "similar_doc_ind [566, 887, 696] \tSummary: laurel and hardy rare home movies (1923-england) very poornot enough of the good old boyssorry i bought\n",
            "similar_doc_ind [569, 841, 762] \tSummary: this is not a documentary. moore should be ashamed for profiting off of this tragedy. steer clear. stick with anything from the decca\n",
            "similar_doc_ind [570, 585, 753] \tSummary: logitech noise-canceling headphonesa very good product especially at amazon's low price!!. headphone jack adapter is\n",
            "similar_doc_ind [571, 651, 596] \tSummary: this is the one that matters: it has the original ewok song (y'know, 'yub-yub'\n",
            "similar_doc_ind [572, 580, 738] \tSummary: this book has it all for developers deploying oracle solutions on the web. oracle8i data warehousing: you\n",
            "similar_doc_ind [583, 761, 901] \tSummary: grease is a hit.if you dont see this movie i consider you weird.its great!!!!!!!!!!!!!!!!!!!!!!!!!!!!!!!!!\n",
            "similar_doc_ind [607, 684, 833] \tSummary: i finally gave up on uncle tom's cabin. dialogue written in vernacular drove me nuts. slow.slow.s\n",
            "similar_doc_ind [612, 656, 703] \tSummary: stephen king's novel was written with his left hand -- no suspense whatsoever. no one said stephen king is a\n",
            "similar_doc_ind [620, 694, 924] \tSummary: the lyrics, the production and the singing are nothing less than the very best. i love tangerine dream, but this album is not\n",
            "similar_doc_ind [621, 777, 715] \tSummary: zenergy chimes: thanks for the speedy transaction. outlook: good 'ole outlook at several locations & love what it\n",
            "similar_doc_ind [627, 935, 846] \tSummary: my daughter loved this story and is asking for the whole laura wilder book series. the writing was not really better than that of a romance\n",
            "similar_doc_ind [632, 932, 931] \tSummary: white mountain electric ice cream maker does a great job in a very short time. some of the best tea i've ever \n",
            "similar_doc_ind [633, 812, 904] \tSummary: 3: does not work with a multi-function printer: check this site to see if it is compatible:http://support.dlink.\n",
            "similar_doc_ind [637, 774, 704] \tSummary: carrie book review: it was very good enjoyable and i liked it. stephen king used his imagination a lot.\n",
            "similar_doc_ind [648, 786, 693] \tSummary: oxo's tour de force is a tour de force! but these glases are too big for practical use.\n",
            "similar_doc_ind [649, 681, 830] \tSummary: the koran: best translation of koran i have read, but others should be consulted too. alternate history: poorly researched and\n",
            "similar_doc_ind [657, 705, 991] \tSummary: history characters were fun.good concept.gotta love keanu, but the acting was horrible.movie was better in the 80's.\n",
            "similar_doc_ind [664, 858, 955] \tSummary: +44 - +88/100 - surprisingly literate.angels and airwaves - +44/100 - un\n",
            "similar_doc_ind [673, 986, 745] \tSummary: the eye candy-look wears off when the first sentence is uttered. monster magnet suck barnyard animals.\n",
            "similar_doc_ind [699, 850, 836] \tSummary: book was very good but seemed like a hit piece on steve wynn. no stand-out track, non-professional performances,\n",
            "similar_doc_ind [702, 780, 956] \tSummary: gold-plated?optical cables do not use electricity.gold-plated?what phenominal ripoff artists these cables companies are becoming\n",
            "similar_doc_ind [736, 835, 966] \tSummary: berg's exquisite style never fails, but this trite and irritating story doesn't live up to it. this is one movie \n",
            "similar_doc_ind [742, 998, 790] \tSummary: encyclopedia britannica 2000: good graphics--poor tech support, hard to load, locks up machines, custom version has\n",
            "similar_doc_ind [758, 851, 820] \tSummary: works fine: works as expected. directions are sorely lacking though. would have been rated 5 stars otherwise.\n",
            "similar_doc_ind [768, 829, 855] \tSummary: save your money: empty square boxes; cold and modern. lots of ho-hum ideas about motivating employees. the sponge ends come loose immediately\n",
            "similar_doc_ind [772, 963, 898] \tSummary: maiden rocks, but not in this album: this cd can give you especific details of the weak dickinson voic.\n",
            "similar_doc_ind [775, 784, 936] \tSummary: trap doesn't trigger when chipmonk enters cage. can reach bait without going over the trigger mechanism.\n",
            "similar_doc_ind [782, 792, 878] \tSummary: this paper shredder is poorly constructed and already broke. very cheap. do not buy. this album is worse than their previous release. don'\n",
            "similar_doc_ind [789, 952, 791] \tSummary: i have come to the conclusion that buchanan is right.very right.ultra right!!get it (yuk! yuk\n",
            "similar_doc_ind [856, 897, 906] \tSummary: \"greed is good\" from the movie wallstreet, said by gordon gekko. nickelback: curb: cd\n",
            "Error: the index 819 was already used\n",
            "similar_doc_ind [879, 978, 819] \tSummary: the shipping of this product was very fastthe film on blueray is excellent. the beautifulst book that i have never read, simple and\n",
            "similar_doc_ind [881, 981, 943] \tSummary: la pavoni appears and specifications are quite similar to the $29.95 lello ariete.are they the same unit? my granddaughter loved the musical\n",
            "Breaking! \tlen(used_indexes) 1001 \tlen(docs) 1001 \tlen(docs)-k 998\n",
            "CPU times: user 1h 49min 8s, sys: 18.4 s, total: 1h 49min 26s\n",
            "Wall time: 54min 49s\n"
          ]
        }
      ],
      "source": [
        "%%time\n",
        "annon_sents_1000 = run_anonymization_on_txt(train_sentences[:1001], k=3)"
      ]
    },
    {
      "cell_type": "code",
      "source": [
        "# For running on 1000 documents\n",
        "print_example([54, 750, 324], train_sentences, annon_sents_1000)"
      ],
      "metadata": {
        "colab": {
          "base_uri": "https://localhost:8080/"
        },
        "id": "n1qTgDmy9y0R",
        "outputId": "f360b455-7bbf-4adb-f36c-45acbda9cd7c"
      },
      "execution_count": 99,
      "outputs": [
        {
          "output_type": "stream",
          "name": "stdout",
          "text": [
            "Before:\n",
            "boring and hard to watch/listen: waste of money. i purchased all 7 and gave them away. hard to watch.\n",
            "boring: i found myself not caring about the main character and i didn't find the musings very entertaining.\n",
            "waste of time: what a disappointment. nothing like my favorite, the green mile. dont waste your time. boring.\n",
            "\n",
            "After:\n",
            "i purchased all 7 and gave them away. hard to watch/listen: waste of money. i found myself not caring about the main character and\n",
            "i purchased all 7 and gave them away. hard to watch/listen: waste of money. i found myself not caring about the main character and\n",
            "i purchased all 7 and gave them away. hard to watch/listen: waste of money. i found myself not caring about the main character and\n"
          ]
        }
      ]
    },
    {
      "cell_type": "code",
      "source": [
        "print_example([1, 619, 200], train_sentences, annon_sents_1000)"
      ],
      "metadata": {
        "colab": {
          "base_uri": "https://localhost:8080/"
        },
        "id": "aGzPIZCIkleo",
        "outputId": "5a71c97e-4389-4749-bfd4-be61e722b74c"
      },
      "execution_count": 92,
      "outputs": [
        {
          "output_type": "stream",
          "name": "stdout",
          "text": [
            "Before:\n",
            "janes all the worlds aircraft 1996-7: great to deal with. very quick delivery. very highly recommended. thank you.\n",
            "multi-engine flying: great book for multi-pilots, also includes all necessary info for oral and practical tests.\n",
            "great service: great customer service and shipping was quick product in great condition. love the movie. thanks.\n",
            "\n",
            "After:\n",
            "janes all the worlds aircraft 1996-7: great to deal with. very quick delivery. very highly recommended.\n",
            "i'm interested in early flight and this book gave an eyewitness account which i enjoyed. the night before christmas: excellent book.\n",
            "janes all the worlds aircraft 1996-7: great to deal with. very quick delivery. very highly recommended.\n"
          ]
        }
      ]
    },
    {
      "cell_type": "code",
      "source": [
        "print_example([2, 526, 934], train_sentences, annon_sents_1000)"
      ],
      "metadata": {
        "colab": {
          "base_uri": "https://localhost:8080/"
        },
        "id": "NZ2MKGXAoqQp",
        "outputId": "d31a4591-d804-453d-bace-570376d40ea6"
      },
      "execution_count": 88,
      "outputs": [
        {
          "output_type": "stream",
          "name": "stdout",
          "text": [
            "Before:\n",
            "edge of danger: 1 star - only because that's the minimum.this book proves the famous can publish anything.\n",
            "one star too many: this claptrap would have never been published had the author not been black and female.\n",
            "implausible ...: this author writes well enough ... but the plot lines are distinctly implausible ... a disappointment.\n",
            "\n",
            "After:\n",
            "this claptrap would have never been published had the author not been black and female. the plot lines are distinctly implausible \n",
            "this claptrap would have never been published had the author not been black and female. the plot lines are distinctly implausible \n",
            "this claptrap would have never been published had the author not been black and female. the plot lines are distinctly implausible \n"
          ]
        }
      ]
    },
    {
      "cell_type": "code",
      "source": [
        "print_example([3, 367, 989], train_sentences, annon_sents_1000)"
      ],
      "metadata": {
        "colab": {
          "base_uri": "https://localhost:8080/"
        },
        "id": "Njj-fqZL01Ds",
        "outputId": "80cbe5fe-2446-48c6-9673-3a2247948d3a"
      },
      "execution_count": 89,
      "outputs": [
        {
          "output_type": "stream",
          "name": "stdout",
          "text": [
            "Before:\n",
            "a disappointment: maeve's forte is character development, dialogue, and interaction, and silver wedding was far below her usual standard.\n",
            "a disappointment: the movie has a very weak storyline, loosely linked chapters, total disappointment from a good cast.\n",
            "disappointment: this movie was a disappointment compared to babe. it was definitely not a classic sort of movie!\n",
            "\n",
            "After:\n",
            "the movie has a very weak storyline, loosely linked chapters, total disappointment from a good cast. it was definitely not a classic\n",
            "the movie has a very weak storyline, loosely linked chapters, total disappointment from a good cast. it was definitely not a classic\n",
            "the movie has a very weak storyline, loosely linked chapters, total disappointment from a good cast. it was definitely not a classic\n"
          ]
        }
      ]
    },
    {
      "cell_type": "code",
      "source": [
        "print_example([5, 518, 126], train_sentences, annon_sents_1000)"
      ],
      "metadata": {
        "colab": {
          "base_uri": "https://localhost:8080/"
        },
        "id": "pinqURcpI919",
        "outputId": "9370b972-a807-4414-ef92-71393d962e4b"
      },
      "execution_count": 90,
      "outputs": [
        {
          "output_type": "stream",
          "name": "stdout",
          "text": [
            "Before:\n",
            "awesome.: what can i say about this album that hasn't already been said? nothing. awesome album on every level.\n",
            "excellent: the things this man can do is amazing. this cd is incredible. exciting the whole way through.\n",
            "another hit: nothing like anything moby has done before, it is a great album still, i highly recommend it.\n",
            "\n",
            "After:\n",
            "the things this man can do is amazing. this cd is incredible. exciting the whole way through.\n",
            "the things this man can do is amazing. this cd is incredible. exciting the whole way through.\n",
            "the things this man can do is amazing. this cd is incredible. exciting the whole way through.\n"
          ]
        }
      ]
    },
    {
      "cell_type": "code",
      "source": [
        "print_example([72, 712, 159], train_sentences, annon_sents_1000)"
      ],
      "metadata": {
        "colab": {
          "base_uri": "https://localhost:8080/"
        },
        "id": "BecNYvI_I7bR",
        "outputId": "b22e5426-a2f6-43dd-9e22-32a2704cc3ee"
      },
      "execution_count": 94,
      "outputs": [
        {
          "output_type": "stream",
          "name": "stdout",
          "text": [
            "Before:\n",
            "good bike, bad packing: when i received the bike, the packing board was broken.the bike quality is good.\n",
            "terrible bag: i purchased this bag and returned it. it is very disappointing in appearance, materials and workmanship.\n",
            "poor quality: the seat covers started coming loose at the seams immediately upon putting them on the seats.\n",
            "\n",
            "After:\n",
            "when i received the bike, the packing board was broken. the seat covers started coming loose at the seams immediately upon putting them on \n",
            "when i received the bike, the packing board was broken. the seat covers started coming loose at the seams immediately upon putting them on \n",
            "when i received the bike, the packing board was broken. the seat covers started coming loose at the seams immediately upon putting them on \n"
          ]
        }
      ]
    },
    {
      "cell_type": "code",
      "source": [
        "print_example([86, 349, 117], train_sentences, annon_sents_1000)"
      ],
      "metadata": {
        "colab": {
          "base_uri": "https://localhost:8080/"
        },
        "id": "7aEbc10fM9qf",
        "outputId": "92832d58-8243-46f2-dbec-00372e5ffad3"
      },
      "execution_count": 93,
      "outputs": [
        {
          "output_type": "stream",
          "name": "stdout",
          "text": [
            "Before:\n",
            "horrible book: boring and bland. he even spent two pages listing sponges. don't waste your time by reading this.\n",
            "average and plain.: this book is boring not funny and defenitely no worth to read. don't waste your time\n",
            "boring: this book was totally boring. even though it was 1 of the greatest books i've read.hahahahaha\n",
            "\n",
            "After:\n",
            "horrible book: boring and bland. he even spent two pages listing sponges. don't waste your time by reading this.\n",
            "horrible book: boring and bland. he even spent two pages listing sponges. don't waste your time by reading this.\n",
            "horrible book: boring and bland. he even spent two pages listing sponges. don't waste your time by reading this.\n"
          ]
        }
      ]
    },
    {
      "cell_type": "code",
      "source": [],
      "metadata": {
        "id": "8sImedmFNG01"
      },
      "execution_count": null,
      "outputs": []
    },
    {
      "cell_type": "markdown",
      "source": [
        "### Another example for summary"
      ],
      "metadata": {
        "id": "dNiGRhMzFMYG"
      }
    },
    {
      "cell_type": "code",
      "source": [
        "from transformers import AutoTokenizer, AutoModelForSeq2SeqLM\n",
        "\n",
        "tokenizer = AutoTokenizer.from_pretrained(\"t5-large\")\n",
        "model = AutoModelForSeq2SeqLM.from_pretrained(\"t5-large\")"
      ],
      "metadata": {
        "id": "cwOCflupU2yc"
      },
      "execution_count": 65,
      "outputs": []
    },
    {
      "cell_type": "code",
      "source": [
        "# define the input sentences\n",
        "input_text = \"1: textbook: book shipped quickly and was in excellent condition as stated. easy transaction would buy again. 2: recent purchase: the book i ordered was exactly as described and delivery was even faster than promised. 3: recommend this seller: i received this book on time and in excellent condition. i'd definitely recommend this seller.\"\n",
        "#input_text = \"disappointed: this is what happens when artists get too ambitious, ohh man i'm gonna miss the old nelly. curious, so i bought it: another trying hard wannabe dance diva. she should stick to singing ballads. tangerine dream is great.: i love tangerine dream, but this album is not my favorite. still worth owning though.\"\n",
        "input_text = \"1: janes all the worlds aircraft 1996-7: great to deal with. very quick delivery. very highly recommended. thank you. 2: good bike, bad packing: when i received the bike, the packing board was broken.the bike quality is good. 3: great purchase: installed in seconds. great performance. excellent to eliminate phone line dependency.\"\n",
        "\n",
        "# preprocess the input sentences\n",
        "input_ids = tokenizer.encode(\"summarize:\" + input_text, return_tensors=\"pt\")\n",
        "\n",
        "# generate the summary sentence\n",
        "output_ids = model.generate(input_ids=input_ids, max_length=32, num_beams=4, early_stopping=True)\n",
        "output = tokenizer.decode(output_ids[0], skip_special_tokens=True)\n",
        "\n",
        "print(output)\n"
      ],
      "metadata": {
        "colab": {
          "base_uri": "https://localhost:8080/"
        },
        "id": "lX4-9NxhFL5M",
        "outputId": "c15bc2e9-e758-47e5-e9cb-24bd8f84e439"
      },
      "execution_count": 67,
      "outputs": [
        {
          "output_type": "stream",
          "name": "stdout",
          "text": [
            "janes all the worlds aircraft 1996-7: great deal, very quick delivery. when i received the bike, the packing board was broken.\n"
          ]
        }
      ]
    },
    {
      "cell_type": "markdown",
      "metadata": {
        "id": "1cYOu21HzQpA"
      },
      "source": [
        "## Test anonymity"
      ]
    },
    {
      "cell_type": "markdown",
      "source": [
        "### Define functions"
      ],
      "metadata": {
        "id": "hCWOUcFh3Y-f"
      }
    },
    {
      "cell_type": "code",
      "execution_count": null,
      "metadata": {
        "id": "uwQGT-mfzB3-"
      },
      "outputs": [],
      "source": [
        "# Credit: https://www.kaggle.com/code/pierremegret/gensim-word2vec-tutorial \n",
        "\n",
        "import spacy\n",
        "\n",
        "nlp = spacy.load('en_core_web_sm', disable=['ner', 'parser']) # disabling Named Entity Recognition for speed\n",
        "\n",
        "def cleaning(doc):\n",
        "    # Defining the document\n",
        "    doc = nlp(doc) \n",
        "\n",
        "    # Lemmatizes and removes stopwords\n",
        "    # doc needs to be a spacy Doc object\n",
        "    txt = [token.lemma_ for token in doc if not token.is_stop]\n",
        "    \n",
        "    # Word2Vec uses context words to learn the vector representation of a target word,\n",
        "    # if a sentence is only one or two words long,\n",
        "    # the benefit for the training is very small\n",
        "    #if len(txt) > 2:\n",
        "    #    return ' '.join(txt)\n",
        "    clean_doc = ' '.join(txt)\n",
        "    return clean_doc"
      ]
    },
    {
      "cell_type": "code",
      "execution_count": null,
      "metadata": {
        "id": "m97680_5y50Z"
      },
      "outputs": [],
      "source": [
        "import re\n",
        "\n",
        "def clean_corpus(corpus):\n",
        "    \"\"\" Cleans the corpus \"\"\"\n",
        "    brief_cleaning = (re.sub(\"[^A-Za-z']+\", ' ', str(row)).lower() for row in corpus)\n",
        "    corpus_lemmas = [cleaning(doc) for doc in nlp.pipe(brief_cleaning, batch_size=5000)]\n",
        "    return corpus_lemmas"
      ]
    },
    {
      "cell_type": "code",
      "source": [
        "from sklearn.feature_extraction.text import CountVectorizer\n",
        "\n",
        "# CountVectorizer is defined only once\n",
        "vectorizer = CountVectorizer(ngram_range=(1,1), # to use bigrams ngram_range=(2,2)\n",
        "                           stop_words='english')\n",
        "\n",
        "def get_anonym_degree(docs, min_k = None):\n",
        "    \"\"\" If K not given, returns the minimal current k and the corresponding documents.\n",
        "        If k is given, return the documents with k or less neighbohrs  \"\"\"\n",
        "    \n",
        "    # Lemmatizing the documents\n",
        "    ldocs = clean_corpus(docs)\n",
        "\n",
        "    # Vectorizing\n",
        "    count_data = vectorizer.fit_transform(ldocs)\n",
        "    count_data = count_data.toarray()\n",
        "    # Converting any number larger than 1 into 1\n",
        "    count_data[count_data > 1] = 1\n",
        "    # Counting unique values\n",
        "    uniq_arr, uniq_cnt = np.unique(count_data, axis=0, return_counts=True)\n",
        "    if not min_k:\n",
        "        min_k = min(uniq_cnt)\n",
        "        # All the unique vectors\n",
        "        un_anon = uniq_arr[uniq_cnt <= min_k]\n",
        "    else:\n",
        "        # All the unique vectors\n",
        "        un_anon = uniq_arr[uniq_cnt < min_k]\n",
        "        min_k = min(uniq_cnt) # For the return value\n",
        "\n",
        "    # Getting the unique vectore indeces\n",
        "    indeces_list = []\n",
        "    for row in un_anon:\n",
        "        # Get the similar rows\n",
        "        similar_vals = np.where((count_data == (row)).all(axis=1))\n",
        "        indeces_list.append(similar_vals[0].tolist())\n",
        "\n",
        "    return min_k, indeces_list"
      ],
      "metadata": {
        "id": "pDlq8sz9nkZM"
      },
      "execution_count": null,
      "outputs": []
    },
    {
      "cell_type": "markdown",
      "metadata": {
        "id": "bqMzTqzSck75"
      },
      "source": [
        "### Running"
      ]
    },
    {
      "cell_type": "code",
      "execution_count": null,
      "metadata": {
        "id": "o8--ZiClzGtE"
      },
      "outputs": [],
      "source": [
        "get_anonym_degree(annon_sents)"
      ]
    },
    {
      "cell_type": "code",
      "source": [
        "get_anonym_degree(annon_sents, min_k=3)"
      ],
      "metadata": {
        "id": "_hxBQ6A369EY"
      },
      "execution_count": null,
      "outputs": []
    },
    {
      "cell_type": "markdown",
      "metadata": {
        "id": "1sR5uqmTNX-x"
      },
      "source": [
        "## GPT-Chat output"
      ]
    },
    {
      "cell_type": "markdown",
      "metadata": {
        "id": "3lW3zww4NaY-"
      },
      "source": [
        "**Input**:   \n",
        "* janes all the worlds aircraft 1996-7: great to deal with. very quick delivery. very highly recommended. thank you.\n",
        "* good bike, bad packing: when i received the bike, the packing board was broken.the bike quality is good.\n",
        "* great purchase: installed in seconds. great performance. excellent to eliminate phone line dependency.\n",
        "\n",
        "**Output**:   \n",
        "\"The reviews indicate positive experiences with quick delivery and great performance of the products, but with some issues in packaging.\"\n",
        "\n",
        "____\n",
        "\n",
        "**Input**:   \n",
        "* textbook: book shipped quickly and was in excellent condition as stated. easy transaction would buy again\n",
        "* recent purchase: the book i ordered was exactly as described and delivery was even faster than promised.\n",
        "* recommend this seller: i recieved this book on time and in excellent condition. i'd definitely recommend this seller.\n",
        "\n",
        "**Output**:   \n",
        "\"The reviews are positive and recommend the seller for their fast shipping and excellent condition of the books.\"\n",
        "____\n",
        "\n",
        "**Input**:   \n",
        "* beach boys and the satan: a totally off and enjoyable movie. all brian wilson fans should see this movie.\n",
        "* great: one of adams best films along side the wedding singer and mr. deeds. funny movie. worth buying\n",
        "* solid follow up: very good movie. for children 7 and up...any younger they may not grasp the concept.\n",
        "\n",
        "**Output**:   \n",
        "\"The reviews are positive and recommend the movies for their enjoyable and entertaining qualities.\"\t\t"
      ]
    }
  ],
  "metadata": {
    "colab": {
      "provenance": [],
      "machine_shape": "hm"
    },
    "kernelspec": {
      "display_name": "Python 3",
      "name": "python3"
    },
    "language_info": {
      "name": "python"
    },
    "widgets": {
      "application/vnd.jupyter.widget-state+json": {
        "9409cf8223184412a21d97eb8ee8a765": {
          "model_module": "@jupyter-widgets/controls",
          "model_name": "HBoxModel",
          "model_module_version": "1.5.0",
          "state": {
            "_dom_classes": [],
            "_model_module": "@jupyter-widgets/controls",
            "_model_module_version": "1.5.0",
            "_model_name": "HBoxModel",
            "_view_count": null,
            "_view_module": "@jupyter-widgets/controls",
            "_view_module_version": "1.5.0",
            "_view_name": "HBoxView",
            "box_style": "",
            "children": [
              "IPY_MODEL_6a9080f9a41f4acb805a75e0f654af40",
              "IPY_MODEL_978958414e71420b987fd0c3087e8c2a",
              "IPY_MODEL_e21e3e8a355d42ca9335afc3c94d4fc2"
            ],
            "layout": "IPY_MODEL_c6407f0efd66401aaeaf584eb5b5aa55"
          }
        },
        "6a9080f9a41f4acb805a75e0f654af40": {
          "model_module": "@jupyter-widgets/controls",
          "model_name": "HTMLModel",
          "model_module_version": "1.5.0",
          "state": {
            "_dom_classes": [],
            "_model_module": "@jupyter-widgets/controls",
            "_model_module_version": "1.5.0",
            "_model_name": "HTMLModel",
            "_view_count": null,
            "_view_module": "@jupyter-widgets/controls",
            "_view_module_version": "1.5.0",
            "_view_name": "HTMLView",
            "description": "",
            "description_tooltip": null,
            "layout": "IPY_MODEL_a10e7016cb074c45bd7d39d68ac26463",
            "placeholder": "​",
            "style": "IPY_MODEL_772c70ee5bc844c8939802ba228ed214",
            "value": "Downloading (…)c926f/.gitattributes: 100%"
          }
        },
        "978958414e71420b987fd0c3087e8c2a": {
          "model_module": "@jupyter-widgets/controls",
          "model_name": "FloatProgressModel",
          "model_module_version": "1.5.0",
          "state": {
            "_dom_classes": [],
            "_model_module": "@jupyter-widgets/controls",
            "_model_module_version": "1.5.0",
            "_model_name": "FloatProgressModel",
            "_view_count": null,
            "_view_module": "@jupyter-widgets/controls",
            "_view_module_version": "1.5.0",
            "_view_name": "ProgressView",
            "bar_style": "success",
            "description": "",
            "description_tooltip": null,
            "layout": "IPY_MODEL_5c0a8b03445d47c89020a318b991e460",
            "max": 737,
            "min": 0,
            "orientation": "horizontal",
            "style": "IPY_MODEL_05c105dc84ed43a0ad4589e7aef1f439",
            "value": 737
          }
        },
        "e21e3e8a355d42ca9335afc3c94d4fc2": {
          "model_module": "@jupyter-widgets/controls",
          "model_name": "HTMLModel",
          "model_module_version": "1.5.0",
          "state": {
            "_dom_classes": [],
            "_model_module": "@jupyter-widgets/controls",
            "_model_module_version": "1.5.0",
            "_model_name": "HTMLModel",
            "_view_count": null,
            "_view_module": "@jupyter-widgets/controls",
            "_view_module_version": "1.5.0",
            "_view_name": "HTMLView",
            "description": "",
            "description_tooltip": null,
            "layout": "IPY_MODEL_e4b0955ad37945f1a1b5f47634f0ee50",
            "placeholder": "​",
            "style": "IPY_MODEL_21fcb1df7ac147e482102bca0ad64199",
            "value": " 737/737 [00:00&lt;00:00, 37.1kB/s]"
          }
        },
        "c6407f0efd66401aaeaf584eb5b5aa55": {
          "model_module": "@jupyter-widgets/base",
          "model_name": "LayoutModel",
          "model_module_version": "1.2.0",
          "state": {
            "_model_module": "@jupyter-widgets/base",
            "_model_module_version": "1.2.0",
            "_model_name": "LayoutModel",
            "_view_count": null,
            "_view_module": "@jupyter-widgets/base",
            "_view_module_version": "1.2.0",
            "_view_name": "LayoutView",
            "align_content": null,
            "align_items": null,
            "align_self": null,
            "border": null,
            "bottom": null,
            "display": null,
            "flex": null,
            "flex_flow": null,
            "grid_area": null,
            "grid_auto_columns": null,
            "grid_auto_flow": null,
            "grid_auto_rows": null,
            "grid_column": null,
            "grid_gap": null,
            "grid_row": null,
            "grid_template_areas": null,
            "grid_template_columns": null,
            "grid_template_rows": null,
            "height": null,
            "justify_content": null,
            "justify_items": null,
            "left": null,
            "margin": null,
            "max_height": null,
            "max_width": null,
            "min_height": null,
            "min_width": null,
            "object_fit": null,
            "object_position": null,
            "order": null,
            "overflow": null,
            "overflow_x": null,
            "overflow_y": null,
            "padding": null,
            "right": null,
            "top": null,
            "visibility": null,
            "width": null
          }
        },
        "a10e7016cb074c45bd7d39d68ac26463": {
          "model_module": "@jupyter-widgets/base",
          "model_name": "LayoutModel",
          "model_module_version": "1.2.0",
          "state": {
            "_model_module": "@jupyter-widgets/base",
            "_model_module_version": "1.2.0",
            "_model_name": "LayoutModel",
            "_view_count": null,
            "_view_module": "@jupyter-widgets/base",
            "_view_module_version": "1.2.0",
            "_view_name": "LayoutView",
            "align_content": null,
            "align_items": null,
            "align_self": null,
            "border": null,
            "bottom": null,
            "display": null,
            "flex": null,
            "flex_flow": null,
            "grid_area": null,
            "grid_auto_columns": null,
            "grid_auto_flow": null,
            "grid_auto_rows": null,
            "grid_column": null,
            "grid_gap": null,
            "grid_row": null,
            "grid_template_areas": null,
            "grid_template_columns": null,
            "grid_template_rows": null,
            "height": null,
            "justify_content": null,
            "justify_items": null,
            "left": null,
            "margin": null,
            "max_height": null,
            "max_width": null,
            "min_height": null,
            "min_width": null,
            "object_fit": null,
            "object_position": null,
            "order": null,
            "overflow": null,
            "overflow_x": null,
            "overflow_y": null,
            "padding": null,
            "right": null,
            "top": null,
            "visibility": null,
            "width": null
          }
        },
        "772c70ee5bc844c8939802ba228ed214": {
          "model_module": "@jupyter-widgets/controls",
          "model_name": "DescriptionStyleModel",
          "model_module_version": "1.5.0",
          "state": {
            "_model_module": "@jupyter-widgets/controls",
            "_model_module_version": "1.5.0",
            "_model_name": "DescriptionStyleModel",
            "_view_count": null,
            "_view_module": "@jupyter-widgets/base",
            "_view_module_version": "1.2.0",
            "_view_name": "StyleView",
            "description_width": ""
          }
        },
        "5c0a8b03445d47c89020a318b991e460": {
          "model_module": "@jupyter-widgets/base",
          "model_name": "LayoutModel",
          "model_module_version": "1.2.0",
          "state": {
            "_model_module": "@jupyter-widgets/base",
            "_model_module_version": "1.2.0",
            "_model_name": "LayoutModel",
            "_view_count": null,
            "_view_module": "@jupyter-widgets/base",
            "_view_module_version": "1.2.0",
            "_view_name": "LayoutView",
            "align_content": null,
            "align_items": null,
            "align_self": null,
            "border": null,
            "bottom": null,
            "display": null,
            "flex": null,
            "flex_flow": null,
            "grid_area": null,
            "grid_auto_columns": null,
            "grid_auto_flow": null,
            "grid_auto_rows": null,
            "grid_column": null,
            "grid_gap": null,
            "grid_row": null,
            "grid_template_areas": null,
            "grid_template_columns": null,
            "grid_template_rows": null,
            "height": null,
            "justify_content": null,
            "justify_items": null,
            "left": null,
            "margin": null,
            "max_height": null,
            "max_width": null,
            "min_height": null,
            "min_width": null,
            "object_fit": null,
            "object_position": null,
            "order": null,
            "overflow": null,
            "overflow_x": null,
            "overflow_y": null,
            "padding": null,
            "right": null,
            "top": null,
            "visibility": null,
            "width": null
          }
        },
        "05c105dc84ed43a0ad4589e7aef1f439": {
          "model_module": "@jupyter-widgets/controls",
          "model_name": "ProgressStyleModel",
          "model_module_version": "1.5.0",
          "state": {
            "_model_module": "@jupyter-widgets/controls",
            "_model_module_version": "1.5.0",
            "_model_name": "ProgressStyleModel",
            "_view_count": null,
            "_view_module": "@jupyter-widgets/base",
            "_view_module_version": "1.2.0",
            "_view_name": "StyleView",
            "bar_color": null,
            "description_width": ""
          }
        },
        "e4b0955ad37945f1a1b5f47634f0ee50": {
          "model_module": "@jupyter-widgets/base",
          "model_name": "LayoutModel",
          "model_module_version": "1.2.0",
          "state": {
            "_model_module": "@jupyter-widgets/base",
            "_model_module_version": "1.2.0",
            "_model_name": "LayoutModel",
            "_view_count": null,
            "_view_module": "@jupyter-widgets/base",
            "_view_module_version": "1.2.0",
            "_view_name": "LayoutView",
            "align_content": null,
            "align_items": null,
            "align_self": null,
            "border": null,
            "bottom": null,
            "display": null,
            "flex": null,
            "flex_flow": null,
            "grid_area": null,
            "grid_auto_columns": null,
            "grid_auto_flow": null,
            "grid_auto_rows": null,
            "grid_column": null,
            "grid_gap": null,
            "grid_row": null,
            "grid_template_areas": null,
            "grid_template_columns": null,
            "grid_template_rows": null,
            "height": null,
            "justify_content": null,
            "justify_items": null,
            "left": null,
            "margin": null,
            "max_height": null,
            "max_width": null,
            "min_height": null,
            "min_width": null,
            "object_fit": null,
            "object_position": null,
            "order": null,
            "overflow": null,
            "overflow_x": null,
            "overflow_y": null,
            "padding": null,
            "right": null,
            "top": null,
            "visibility": null,
            "width": null
          }
        },
        "21fcb1df7ac147e482102bca0ad64199": {
          "model_module": "@jupyter-widgets/controls",
          "model_name": "DescriptionStyleModel",
          "model_module_version": "1.5.0",
          "state": {
            "_model_module": "@jupyter-widgets/controls",
            "_model_module_version": "1.5.0",
            "_model_name": "DescriptionStyleModel",
            "_view_count": null,
            "_view_module": "@jupyter-widgets/base",
            "_view_module_version": "1.2.0",
            "_view_name": "StyleView",
            "description_width": ""
          }
        },
        "81989931eef04a85be339d457029ee50": {
          "model_module": "@jupyter-widgets/controls",
          "model_name": "HBoxModel",
          "model_module_version": "1.5.0",
          "state": {
            "_dom_classes": [],
            "_model_module": "@jupyter-widgets/controls",
            "_model_module_version": "1.5.0",
            "_model_name": "HBoxModel",
            "_view_count": null,
            "_view_module": "@jupyter-widgets/controls",
            "_view_module_version": "1.5.0",
            "_view_name": "HBoxView",
            "box_style": "",
            "children": [
              "IPY_MODEL_b36318d3885547e68b9c1c67da7445fb",
              "IPY_MODEL_144993b14cf9489aadeb715843103823",
              "IPY_MODEL_715f1b0753244924b430b5fff2c6470a"
            ],
            "layout": "IPY_MODEL_45f6fb9ff1454618bd77c9dcc4a28c5e"
          }
        },
        "b36318d3885547e68b9c1c67da7445fb": {
          "model_module": "@jupyter-widgets/controls",
          "model_name": "HTMLModel",
          "model_module_version": "1.5.0",
          "state": {
            "_dom_classes": [],
            "_model_module": "@jupyter-widgets/controls",
            "_model_module_version": "1.5.0",
            "_model_name": "HTMLModel",
            "_view_count": null,
            "_view_module": "@jupyter-widgets/controls",
            "_view_module_version": "1.5.0",
            "_view_name": "HTMLView",
            "description": "",
            "description_tooltip": null,
            "layout": "IPY_MODEL_95eea9c167c24d4fbfec56cfea92e014",
            "placeholder": "​",
            "style": "IPY_MODEL_e41548fe70924fde99a7a7632daa4a8d",
            "value": "Downloading (…)_Pooling/config.json: 100%"
          }
        },
        "144993b14cf9489aadeb715843103823": {
          "model_module": "@jupyter-widgets/controls",
          "model_name": "FloatProgressModel",
          "model_module_version": "1.5.0",
          "state": {
            "_dom_classes": [],
            "_model_module": "@jupyter-widgets/controls",
            "_model_module_version": "1.5.0",
            "_model_name": "FloatProgressModel",
            "_view_count": null,
            "_view_module": "@jupyter-widgets/controls",
            "_view_module_version": "1.5.0",
            "_view_name": "ProgressView",
            "bar_style": "success",
            "description": "",
            "description_tooltip": null,
            "layout": "IPY_MODEL_b747d121df664daea87e842b8a75717e",
            "max": 190,
            "min": 0,
            "orientation": "horizontal",
            "style": "IPY_MODEL_6d0d91fdc05941b6bfc49d3bdc762c9c",
            "value": 190
          }
        },
        "715f1b0753244924b430b5fff2c6470a": {
          "model_module": "@jupyter-widgets/controls",
          "model_name": "HTMLModel",
          "model_module_version": "1.5.0",
          "state": {
            "_dom_classes": [],
            "_model_module": "@jupyter-widgets/controls",
            "_model_module_version": "1.5.0",
            "_model_name": "HTMLModel",
            "_view_count": null,
            "_view_module": "@jupyter-widgets/controls",
            "_view_module_version": "1.5.0",
            "_view_name": "HTMLView",
            "description": "",
            "description_tooltip": null,
            "layout": "IPY_MODEL_0914e8bee9a44392a6378b37b6b7738b",
            "placeholder": "​",
            "style": "IPY_MODEL_8cad1f74bd3d407e972b92b0542a1d73",
            "value": " 190/190 [00:00&lt;00:00, 14.5kB/s]"
          }
        },
        "45f6fb9ff1454618bd77c9dcc4a28c5e": {
          "model_module": "@jupyter-widgets/base",
          "model_name": "LayoutModel",
          "model_module_version": "1.2.0",
          "state": {
            "_model_module": "@jupyter-widgets/base",
            "_model_module_version": "1.2.0",
            "_model_name": "LayoutModel",
            "_view_count": null,
            "_view_module": "@jupyter-widgets/base",
            "_view_module_version": "1.2.0",
            "_view_name": "LayoutView",
            "align_content": null,
            "align_items": null,
            "align_self": null,
            "border": null,
            "bottom": null,
            "display": null,
            "flex": null,
            "flex_flow": null,
            "grid_area": null,
            "grid_auto_columns": null,
            "grid_auto_flow": null,
            "grid_auto_rows": null,
            "grid_column": null,
            "grid_gap": null,
            "grid_row": null,
            "grid_template_areas": null,
            "grid_template_columns": null,
            "grid_template_rows": null,
            "height": null,
            "justify_content": null,
            "justify_items": null,
            "left": null,
            "margin": null,
            "max_height": null,
            "max_width": null,
            "min_height": null,
            "min_width": null,
            "object_fit": null,
            "object_position": null,
            "order": null,
            "overflow": null,
            "overflow_x": null,
            "overflow_y": null,
            "padding": null,
            "right": null,
            "top": null,
            "visibility": null,
            "width": null
          }
        },
        "95eea9c167c24d4fbfec56cfea92e014": {
          "model_module": "@jupyter-widgets/base",
          "model_name": "LayoutModel",
          "model_module_version": "1.2.0",
          "state": {
            "_model_module": "@jupyter-widgets/base",
            "_model_module_version": "1.2.0",
            "_model_name": "LayoutModel",
            "_view_count": null,
            "_view_module": "@jupyter-widgets/base",
            "_view_module_version": "1.2.0",
            "_view_name": "LayoutView",
            "align_content": null,
            "align_items": null,
            "align_self": null,
            "border": null,
            "bottom": null,
            "display": null,
            "flex": null,
            "flex_flow": null,
            "grid_area": null,
            "grid_auto_columns": null,
            "grid_auto_flow": null,
            "grid_auto_rows": null,
            "grid_column": null,
            "grid_gap": null,
            "grid_row": null,
            "grid_template_areas": null,
            "grid_template_columns": null,
            "grid_template_rows": null,
            "height": null,
            "justify_content": null,
            "justify_items": null,
            "left": null,
            "margin": null,
            "max_height": null,
            "max_width": null,
            "min_height": null,
            "min_width": null,
            "object_fit": null,
            "object_position": null,
            "order": null,
            "overflow": null,
            "overflow_x": null,
            "overflow_y": null,
            "padding": null,
            "right": null,
            "top": null,
            "visibility": null,
            "width": null
          }
        },
        "e41548fe70924fde99a7a7632daa4a8d": {
          "model_module": "@jupyter-widgets/controls",
          "model_name": "DescriptionStyleModel",
          "model_module_version": "1.5.0",
          "state": {
            "_model_module": "@jupyter-widgets/controls",
            "_model_module_version": "1.5.0",
            "_model_name": "DescriptionStyleModel",
            "_view_count": null,
            "_view_module": "@jupyter-widgets/base",
            "_view_module_version": "1.2.0",
            "_view_name": "StyleView",
            "description_width": ""
          }
        },
        "b747d121df664daea87e842b8a75717e": {
          "model_module": "@jupyter-widgets/base",
          "model_name": "LayoutModel",
          "model_module_version": "1.2.0",
          "state": {
            "_model_module": "@jupyter-widgets/base",
            "_model_module_version": "1.2.0",
            "_model_name": "LayoutModel",
            "_view_count": null,
            "_view_module": "@jupyter-widgets/base",
            "_view_module_version": "1.2.0",
            "_view_name": "LayoutView",
            "align_content": null,
            "align_items": null,
            "align_self": null,
            "border": null,
            "bottom": null,
            "display": null,
            "flex": null,
            "flex_flow": null,
            "grid_area": null,
            "grid_auto_columns": null,
            "grid_auto_flow": null,
            "grid_auto_rows": null,
            "grid_column": null,
            "grid_gap": null,
            "grid_row": null,
            "grid_template_areas": null,
            "grid_template_columns": null,
            "grid_template_rows": null,
            "height": null,
            "justify_content": null,
            "justify_items": null,
            "left": null,
            "margin": null,
            "max_height": null,
            "max_width": null,
            "min_height": null,
            "min_width": null,
            "object_fit": null,
            "object_position": null,
            "order": null,
            "overflow": null,
            "overflow_x": null,
            "overflow_y": null,
            "padding": null,
            "right": null,
            "top": null,
            "visibility": null,
            "width": null
          }
        },
        "6d0d91fdc05941b6bfc49d3bdc762c9c": {
          "model_module": "@jupyter-widgets/controls",
          "model_name": "ProgressStyleModel",
          "model_module_version": "1.5.0",
          "state": {
            "_model_module": "@jupyter-widgets/controls",
            "_model_module_version": "1.5.0",
            "_model_name": "ProgressStyleModel",
            "_view_count": null,
            "_view_module": "@jupyter-widgets/base",
            "_view_module_version": "1.2.0",
            "_view_name": "StyleView",
            "bar_color": null,
            "description_width": ""
          }
        },
        "0914e8bee9a44392a6378b37b6b7738b": {
          "model_module": "@jupyter-widgets/base",
          "model_name": "LayoutModel",
          "model_module_version": "1.2.0",
          "state": {
            "_model_module": "@jupyter-widgets/base",
            "_model_module_version": "1.2.0",
            "_model_name": "LayoutModel",
            "_view_count": null,
            "_view_module": "@jupyter-widgets/base",
            "_view_module_version": "1.2.0",
            "_view_name": "LayoutView",
            "align_content": null,
            "align_items": null,
            "align_self": null,
            "border": null,
            "bottom": null,
            "display": null,
            "flex": null,
            "flex_flow": null,
            "grid_area": null,
            "grid_auto_columns": null,
            "grid_auto_flow": null,
            "grid_auto_rows": null,
            "grid_column": null,
            "grid_gap": null,
            "grid_row": null,
            "grid_template_areas": null,
            "grid_template_columns": null,
            "grid_template_rows": null,
            "height": null,
            "justify_content": null,
            "justify_items": null,
            "left": null,
            "margin": null,
            "max_height": null,
            "max_width": null,
            "min_height": null,
            "min_width": null,
            "object_fit": null,
            "object_position": null,
            "order": null,
            "overflow": null,
            "overflow_x": null,
            "overflow_y": null,
            "padding": null,
            "right": null,
            "top": null,
            "visibility": null,
            "width": null
          }
        },
        "8cad1f74bd3d407e972b92b0542a1d73": {
          "model_module": "@jupyter-widgets/controls",
          "model_name": "DescriptionStyleModel",
          "model_module_version": "1.5.0",
          "state": {
            "_model_module": "@jupyter-widgets/controls",
            "_model_module_version": "1.5.0",
            "_model_name": "DescriptionStyleModel",
            "_view_count": null,
            "_view_module": "@jupyter-widgets/base",
            "_view_module_version": "1.2.0",
            "_view_name": "StyleView",
            "description_width": ""
          }
        },
        "0dc98243ee63443baffb57e8af0cb4cb": {
          "model_module": "@jupyter-widgets/controls",
          "model_name": "HBoxModel",
          "model_module_version": "1.5.0",
          "state": {
            "_dom_classes": [],
            "_model_module": "@jupyter-widgets/controls",
            "_model_module_version": "1.5.0",
            "_model_name": "HBoxModel",
            "_view_count": null,
            "_view_module": "@jupyter-widgets/controls",
            "_view_module_version": "1.5.0",
            "_view_name": "HBoxView",
            "box_style": "",
            "children": [
              "IPY_MODEL_7b288e958ba241509a0a3cfe86cb42c3",
              "IPY_MODEL_6960220b3b3a43c98096f826ef5bace1",
              "IPY_MODEL_047f3428579e400a8b321ab9399ac2e5"
            ],
            "layout": "IPY_MODEL_5bb62fcf9dbd4f389c216286f0df6fb4"
          }
        },
        "7b288e958ba241509a0a3cfe86cb42c3": {
          "model_module": "@jupyter-widgets/controls",
          "model_name": "HTMLModel",
          "model_module_version": "1.5.0",
          "state": {
            "_dom_classes": [],
            "_model_module": "@jupyter-widgets/controls",
            "_model_module_version": "1.5.0",
            "_model_name": "HTMLModel",
            "_view_count": null,
            "_view_module": "@jupyter-widgets/controls",
            "_view_module_version": "1.5.0",
            "_view_name": "HTMLView",
            "description": "",
            "description_tooltip": null,
            "layout": "IPY_MODEL_55ef238e95d4464b90345e7d11cce1e6",
            "placeholder": "​",
            "style": "IPY_MODEL_0ec1524fc4a945e294ea0654c137d44d",
            "value": "Downloading (…)8101fc926f/README.md: 100%"
          }
        },
        "6960220b3b3a43c98096f826ef5bace1": {
          "model_module": "@jupyter-widgets/controls",
          "model_name": "FloatProgressModel",
          "model_module_version": "1.5.0",
          "state": {
            "_dom_classes": [],
            "_model_module": "@jupyter-widgets/controls",
            "_model_module_version": "1.5.0",
            "_model_name": "FloatProgressModel",
            "_view_count": null,
            "_view_module": "@jupyter-widgets/controls",
            "_view_module_version": "1.5.0",
            "_view_name": "ProgressView",
            "bar_style": "success",
            "description": "",
            "description_tooltip": null,
            "layout": "IPY_MODEL_8c3916d2d53b42d98a3c86446d9882e4",
            "max": 9905,
            "min": 0,
            "orientation": "horizontal",
            "style": "IPY_MODEL_41aad2ab95844434b9783f82338ecd1c",
            "value": 9905
          }
        },
        "047f3428579e400a8b321ab9399ac2e5": {
          "model_module": "@jupyter-widgets/controls",
          "model_name": "HTMLModel",
          "model_module_version": "1.5.0",
          "state": {
            "_dom_classes": [],
            "_model_module": "@jupyter-widgets/controls",
            "_model_module_version": "1.5.0",
            "_model_name": "HTMLModel",
            "_view_count": null,
            "_view_module": "@jupyter-widgets/controls",
            "_view_module_version": "1.5.0",
            "_view_name": "HTMLView",
            "description": "",
            "description_tooltip": null,
            "layout": "IPY_MODEL_bbbd7aa77137471a9389fd4e558f888d",
            "placeholder": "​",
            "style": "IPY_MODEL_7821d251460c46fa871b87d509c6f416",
            "value": " 9.90k/9.90k [00:00&lt;00:00, 643kB/s]"
          }
        },
        "5bb62fcf9dbd4f389c216286f0df6fb4": {
          "model_module": "@jupyter-widgets/base",
          "model_name": "LayoutModel",
          "model_module_version": "1.2.0",
          "state": {
            "_model_module": "@jupyter-widgets/base",
            "_model_module_version": "1.2.0",
            "_model_name": "LayoutModel",
            "_view_count": null,
            "_view_module": "@jupyter-widgets/base",
            "_view_module_version": "1.2.0",
            "_view_name": "LayoutView",
            "align_content": null,
            "align_items": null,
            "align_self": null,
            "border": null,
            "bottom": null,
            "display": null,
            "flex": null,
            "flex_flow": null,
            "grid_area": null,
            "grid_auto_columns": null,
            "grid_auto_flow": null,
            "grid_auto_rows": null,
            "grid_column": null,
            "grid_gap": null,
            "grid_row": null,
            "grid_template_areas": null,
            "grid_template_columns": null,
            "grid_template_rows": null,
            "height": null,
            "justify_content": null,
            "justify_items": null,
            "left": null,
            "margin": null,
            "max_height": null,
            "max_width": null,
            "min_height": null,
            "min_width": null,
            "object_fit": null,
            "object_position": null,
            "order": null,
            "overflow": null,
            "overflow_x": null,
            "overflow_y": null,
            "padding": null,
            "right": null,
            "top": null,
            "visibility": null,
            "width": null
          }
        },
        "55ef238e95d4464b90345e7d11cce1e6": {
          "model_module": "@jupyter-widgets/base",
          "model_name": "LayoutModel",
          "model_module_version": "1.2.0",
          "state": {
            "_model_module": "@jupyter-widgets/base",
            "_model_module_version": "1.2.0",
            "_model_name": "LayoutModel",
            "_view_count": null,
            "_view_module": "@jupyter-widgets/base",
            "_view_module_version": "1.2.0",
            "_view_name": "LayoutView",
            "align_content": null,
            "align_items": null,
            "align_self": null,
            "border": null,
            "bottom": null,
            "display": null,
            "flex": null,
            "flex_flow": null,
            "grid_area": null,
            "grid_auto_columns": null,
            "grid_auto_flow": null,
            "grid_auto_rows": null,
            "grid_column": null,
            "grid_gap": null,
            "grid_row": null,
            "grid_template_areas": null,
            "grid_template_columns": null,
            "grid_template_rows": null,
            "height": null,
            "justify_content": null,
            "justify_items": null,
            "left": null,
            "margin": null,
            "max_height": null,
            "max_width": null,
            "min_height": null,
            "min_width": null,
            "object_fit": null,
            "object_position": null,
            "order": null,
            "overflow": null,
            "overflow_x": null,
            "overflow_y": null,
            "padding": null,
            "right": null,
            "top": null,
            "visibility": null,
            "width": null
          }
        },
        "0ec1524fc4a945e294ea0654c137d44d": {
          "model_module": "@jupyter-widgets/controls",
          "model_name": "DescriptionStyleModel",
          "model_module_version": "1.5.0",
          "state": {
            "_model_module": "@jupyter-widgets/controls",
            "_model_module_version": "1.5.0",
            "_model_name": "DescriptionStyleModel",
            "_view_count": null,
            "_view_module": "@jupyter-widgets/base",
            "_view_module_version": "1.2.0",
            "_view_name": "StyleView",
            "description_width": ""
          }
        },
        "8c3916d2d53b42d98a3c86446d9882e4": {
          "model_module": "@jupyter-widgets/base",
          "model_name": "LayoutModel",
          "model_module_version": "1.2.0",
          "state": {
            "_model_module": "@jupyter-widgets/base",
            "_model_module_version": "1.2.0",
            "_model_name": "LayoutModel",
            "_view_count": null,
            "_view_module": "@jupyter-widgets/base",
            "_view_module_version": "1.2.0",
            "_view_name": "LayoutView",
            "align_content": null,
            "align_items": null,
            "align_self": null,
            "border": null,
            "bottom": null,
            "display": null,
            "flex": null,
            "flex_flow": null,
            "grid_area": null,
            "grid_auto_columns": null,
            "grid_auto_flow": null,
            "grid_auto_rows": null,
            "grid_column": null,
            "grid_gap": null,
            "grid_row": null,
            "grid_template_areas": null,
            "grid_template_columns": null,
            "grid_template_rows": null,
            "height": null,
            "justify_content": null,
            "justify_items": null,
            "left": null,
            "margin": null,
            "max_height": null,
            "max_width": null,
            "min_height": null,
            "min_width": null,
            "object_fit": null,
            "object_position": null,
            "order": null,
            "overflow": null,
            "overflow_x": null,
            "overflow_y": null,
            "padding": null,
            "right": null,
            "top": null,
            "visibility": null,
            "width": null
          }
        },
        "41aad2ab95844434b9783f82338ecd1c": {
          "model_module": "@jupyter-widgets/controls",
          "model_name": "ProgressStyleModel",
          "model_module_version": "1.5.0",
          "state": {
            "_model_module": "@jupyter-widgets/controls",
            "_model_module_version": "1.5.0",
            "_model_name": "ProgressStyleModel",
            "_view_count": null,
            "_view_module": "@jupyter-widgets/base",
            "_view_module_version": "1.2.0",
            "_view_name": "StyleView",
            "bar_color": null,
            "description_width": ""
          }
        },
        "bbbd7aa77137471a9389fd4e558f888d": {
          "model_module": "@jupyter-widgets/base",
          "model_name": "LayoutModel",
          "model_module_version": "1.2.0",
          "state": {
            "_model_module": "@jupyter-widgets/base",
            "_model_module_version": "1.2.0",
            "_model_name": "LayoutModel",
            "_view_count": null,
            "_view_module": "@jupyter-widgets/base",
            "_view_module_version": "1.2.0",
            "_view_name": "LayoutView",
            "align_content": null,
            "align_items": null,
            "align_self": null,
            "border": null,
            "bottom": null,
            "display": null,
            "flex": null,
            "flex_flow": null,
            "grid_area": null,
            "grid_auto_columns": null,
            "grid_auto_flow": null,
            "grid_auto_rows": null,
            "grid_column": null,
            "grid_gap": null,
            "grid_row": null,
            "grid_template_areas": null,
            "grid_template_columns": null,
            "grid_template_rows": null,
            "height": null,
            "justify_content": null,
            "justify_items": null,
            "left": null,
            "margin": null,
            "max_height": null,
            "max_width": null,
            "min_height": null,
            "min_width": null,
            "object_fit": null,
            "object_position": null,
            "order": null,
            "overflow": null,
            "overflow_x": null,
            "overflow_y": null,
            "padding": null,
            "right": null,
            "top": null,
            "visibility": null,
            "width": null
          }
        },
        "7821d251460c46fa871b87d509c6f416": {
          "model_module": "@jupyter-widgets/controls",
          "model_name": "DescriptionStyleModel",
          "model_module_version": "1.5.0",
          "state": {
            "_model_module": "@jupyter-widgets/controls",
            "_model_module_version": "1.5.0",
            "_model_name": "DescriptionStyleModel",
            "_view_count": null,
            "_view_module": "@jupyter-widgets/base",
            "_view_module_version": "1.2.0",
            "_view_name": "StyleView",
            "description_width": ""
          }
        },
        "052dbaa53e9a40ed9167f3b2df07f1d3": {
          "model_module": "@jupyter-widgets/controls",
          "model_name": "HBoxModel",
          "model_module_version": "1.5.0",
          "state": {
            "_dom_classes": [],
            "_model_module": "@jupyter-widgets/controls",
            "_model_module_version": "1.5.0",
            "_model_name": "HBoxModel",
            "_view_count": null,
            "_view_module": "@jupyter-widgets/controls",
            "_view_module_version": "1.5.0",
            "_view_name": "HBoxView",
            "box_style": "",
            "children": [
              "IPY_MODEL_5bd85965a1284bde90655a5100a18754",
              "IPY_MODEL_7aa6713583af4e46b14356ab3844c901",
              "IPY_MODEL_925ab592c23e4451bbacc9568b54ddc9"
            ],
            "layout": "IPY_MODEL_e9b093ad56aa41d4991f0d3ca34c8fa5"
          }
        },
        "5bd85965a1284bde90655a5100a18754": {
          "model_module": "@jupyter-widgets/controls",
          "model_name": "HTMLModel",
          "model_module_version": "1.5.0",
          "state": {
            "_dom_classes": [],
            "_model_module": "@jupyter-widgets/controls",
            "_model_module_version": "1.5.0",
            "_model_name": "HTMLModel",
            "_view_count": null,
            "_view_module": "@jupyter-widgets/controls",
            "_view_module_version": "1.5.0",
            "_view_name": "HTMLView",
            "description": "",
            "description_tooltip": null,
            "layout": "IPY_MODEL_786d64deb24244fdb9b65f2bae7b65c9",
            "placeholder": "​",
            "style": "IPY_MODEL_40696f9e0d2e4096af001cb25bcfb0d2",
            "value": "Downloading (…)01fc926f/config.json: 100%"
          }
        },
        "7aa6713583af4e46b14356ab3844c901": {
          "model_module": "@jupyter-widgets/controls",
          "model_name": "FloatProgressModel",
          "model_module_version": "1.5.0",
          "state": {
            "_dom_classes": [],
            "_model_module": "@jupyter-widgets/controls",
            "_model_module_version": "1.5.0",
            "_model_name": "FloatProgressModel",
            "_view_count": null,
            "_view_module": "@jupyter-widgets/controls",
            "_view_module_version": "1.5.0",
            "_view_name": "ProgressView",
            "bar_style": "success",
            "description": "",
            "description_tooltip": null,
            "layout": "IPY_MODEL_16375322788e43a68cdae97917424d88",
            "max": 573,
            "min": 0,
            "orientation": "horizontal",
            "style": "IPY_MODEL_a2735aeaaa95482c91e930bc4cadac66",
            "value": 573
          }
        },
        "925ab592c23e4451bbacc9568b54ddc9": {
          "model_module": "@jupyter-widgets/controls",
          "model_name": "HTMLModel",
          "model_module_version": "1.5.0",
          "state": {
            "_dom_classes": [],
            "_model_module": "@jupyter-widgets/controls",
            "_model_module_version": "1.5.0",
            "_model_name": "HTMLModel",
            "_view_count": null,
            "_view_module": "@jupyter-widgets/controls",
            "_view_module_version": "1.5.0",
            "_view_name": "HTMLView",
            "description": "",
            "description_tooltip": null,
            "layout": "IPY_MODEL_b9fa392e56d14a77a8389d8d6ac0af81",
            "placeholder": "​",
            "style": "IPY_MODEL_6f130df6e83e4bc1b4c06a3b2e13029d",
            "value": " 573/573 [00:00&lt;00:00, 43.1kB/s]"
          }
        },
        "e9b093ad56aa41d4991f0d3ca34c8fa5": {
          "model_module": "@jupyter-widgets/base",
          "model_name": "LayoutModel",
          "model_module_version": "1.2.0",
          "state": {
            "_model_module": "@jupyter-widgets/base",
            "_model_module_version": "1.2.0",
            "_model_name": "LayoutModel",
            "_view_count": null,
            "_view_module": "@jupyter-widgets/base",
            "_view_module_version": "1.2.0",
            "_view_name": "LayoutView",
            "align_content": null,
            "align_items": null,
            "align_self": null,
            "border": null,
            "bottom": null,
            "display": null,
            "flex": null,
            "flex_flow": null,
            "grid_area": null,
            "grid_auto_columns": null,
            "grid_auto_flow": null,
            "grid_auto_rows": null,
            "grid_column": null,
            "grid_gap": null,
            "grid_row": null,
            "grid_template_areas": null,
            "grid_template_columns": null,
            "grid_template_rows": null,
            "height": null,
            "justify_content": null,
            "justify_items": null,
            "left": null,
            "margin": null,
            "max_height": null,
            "max_width": null,
            "min_height": null,
            "min_width": null,
            "object_fit": null,
            "object_position": null,
            "order": null,
            "overflow": null,
            "overflow_x": null,
            "overflow_y": null,
            "padding": null,
            "right": null,
            "top": null,
            "visibility": null,
            "width": null
          }
        },
        "786d64deb24244fdb9b65f2bae7b65c9": {
          "model_module": "@jupyter-widgets/base",
          "model_name": "LayoutModel",
          "model_module_version": "1.2.0",
          "state": {
            "_model_module": "@jupyter-widgets/base",
            "_model_module_version": "1.2.0",
            "_model_name": "LayoutModel",
            "_view_count": null,
            "_view_module": "@jupyter-widgets/base",
            "_view_module_version": "1.2.0",
            "_view_name": "LayoutView",
            "align_content": null,
            "align_items": null,
            "align_self": null,
            "border": null,
            "bottom": null,
            "display": null,
            "flex": null,
            "flex_flow": null,
            "grid_area": null,
            "grid_auto_columns": null,
            "grid_auto_flow": null,
            "grid_auto_rows": null,
            "grid_column": null,
            "grid_gap": null,
            "grid_row": null,
            "grid_template_areas": null,
            "grid_template_columns": null,
            "grid_template_rows": null,
            "height": null,
            "justify_content": null,
            "justify_items": null,
            "left": null,
            "margin": null,
            "max_height": null,
            "max_width": null,
            "min_height": null,
            "min_width": null,
            "object_fit": null,
            "object_position": null,
            "order": null,
            "overflow": null,
            "overflow_x": null,
            "overflow_y": null,
            "padding": null,
            "right": null,
            "top": null,
            "visibility": null,
            "width": null
          }
        },
        "40696f9e0d2e4096af001cb25bcfb0d2": {
          "model_module": "@jupyter-widgets/controls",
          "model_name": "DescriptionStyleModel",
          "model_module_version": "1.5.0",
          "state": {
            "_model_module": "@jupyter-widgets/controls",
            "_model_module_version": "1.5.0",
            "_model_name": "DescriptionStyleModel",
            "_view_count": null,
            "_view_module": "@jupyter-widgets/base",
            "_view_module_version": "1.2.0",
            "_view_name": "StyleView",
            "description_width": ""
          }
        },
        "16375322788e43a68cdae97917424d88": {
          "model_module": "@jupyter-widgets/base",
          "model_name": "LayoutModel",
          "model_module_version": "1.2.0",
          "state": {
            "_model_module": "@jupyter-widgets/base",
            "_model_module_version": "1.2.0",
            "_model_name": "LayoutModel",
            "_view_count": null,
            "_view_module": "@jupyter-widgets/base",
            "_view_module_version": "1.2.0",
            "_view_name": "LayoutView",
            "align_content": null,
            "align_items": null,
            "align_self": null,
            "border": null,
            "bottom": null,
            "display": null,
            "flex": null,
            "flex_flow": null,
            "grid_area": null,
            "grid_auto_columns": null,
            "grid_auto_flow": null,
            "grid_auto_rows": null,
            "grid_column": null,
            "grid_gap": null,
            "grid_row": null,
            "grid_template_areas": null,
            "grid_template_columns": null,
            "grid_template_rows": null,
            "height": null,
            "justify_content": null,
            "justify_items": null,
            "left": null,
            "margin": null,
            "max_height": null,
            "max_width": null,
            "min_height": null,
            "min_width": null,
            "object_fit": null,
            "object_position": null,
            "order": null,
            "overflow": null,
            "overflow_x": null,
            "overflow_y": null,
            "padding": null,
            "right": null,
            "top": null,
            "visibility": null,
            "width": null
          }
        },
        "a2735aeaaa95482c91e930bc4cadac66": {
          "model_module": "@jupyter-widgets/controls",
          "model_name": "ProgressStyleModel",
          "model_module_version": "1.5.0",
          "state": {
            "_model_module": "@jupyter-widgets/controls",
            "_model_module_version": "1.5.0",
            "_model_name": "ProgressStyleModel",
            "_view_count": null,
            "_view_module": "@jupyter-widgets/base",
            "_view_module_version": "1.2.0",
            "_view_name": "StyleView",
            "bar_color": null,
            "description_width": ""
          }
        },
        "b9fa392e56d14a77a8389d8d6ac0af81": {
          "model_module": "@jupyter-widgets/base",
          "model_name": "LayoutModel",
          "model_module_version": "1.2.0",
          "state": {
            "_model_module": "@jupyter-widgets/base",
            "_model_module_version": "1.2.0",
            "_model_name": "LayoutModel",
            "_view_count": null,
            "_view_module": "@jupyter-widgets/base",
            "_view_module_version": "1.2.0",
            "_view_name": "LayoutView",
            "align_content": null,
            "align_items": null,
            "align_self": null,
            "border": null,
            "bottom": null,
            "display": null,
            "flex": null,
            "flex_flow": null,
            "grid_area": null,
            "grid_auto_columns": null,
            "grid_auto_flow": null,
            "grid_auto_rows": null,
            "grid_column": null,
            "grid_gap": null,
            "grid_row": null,
            "grid_template_areas": null,
            "grid_template_columns": null,
            "grid_template_rows": null,
            "height": null,
            "justify_content": null,
            "justify_items": null,
            "left": null,
            "margin": null,
            "max_height": null,
            "max_width": null,
            "min_height": null,
            "min_width": null,
            "object_fit": null,
            "object_position": null,
            "order": null,
            "overflow": null,
            "overflow_x": null,
            "overflow_y": null,
            "padding": null,
            "right": null,
            "top": null,
            "visibility": null,
            "width": null
          }
        },
        "6f130df6e83e4bc1b4c06a3b2e13029d": {
          "model_module": "@jupyter-widgets/controls",
          "model_name": "DescriptionStyleModel",
          "model_module_version": "1.5.0",
          "state": {
            "_model_module": "@jupyter-widgets/controls",
            "_model_module_version": "1.5.0",
            "_model_name": "DescriptionStyleModel",
            "_view_count": null,
            "_view_module": "@jupyter-widgets/base",
            "_view_module_version": "1.2.0",
            "_view_name": "StyleView",
            "description_width": ""
          }
        },
        "f1a5784718ca4ffcae6960316badf434": {
          "model_module": "@jupyter-widgets/controls",
          "model_name": "HBoxModel",
          "model_module_version": "1.5.0",
          "state": {
            "_dom_classes": [],
            "_model_module": "@jupyter-widgets/controls",
            "_model_module_version": "1.5.0",
            "_model_name": "HBoxModel",
            "_view_count": null,
            "_view_module": "@jupyter-widgets/controls",
            "_view_module_version": "1.5.0",
            "_view_name": "HBoxView",
            "box_style": "",
            "children": [
              "IPY_MODEL_65414e93cbbd4e6abcb29fc53efc4a13",
              "IPY_MODEL_a75ba38355e6440fbc5f10e39566b8b8",
              "IPY_MODEL_1b34d824124a4e48b26a80a2cec8b289"
            ],
            "layout": "IPY_MODEL_41ba758df2fa47eeb808c76057950f40"
          }
        },
        "65414e93cbbd4e6abcb29fc53efc4a13": {
          "model_module": "@jupyter-widgets/controls",
          "model_name": "HTMLModel",
          "model_module_version": "1.5.0",
          "state": {
            "_dom_classes": [],
            "_model_module": "@jupyter-widgets/controls",
            "_model_module_version": "1.5.0",
            "_model_name": "HTMLModel",
            "_view_count": null,
            "_view_module": "@jupyter-widgets/controls",
            "_view_module_version": "1.5.0",
            "_view_name": "HTMLView",
            "description": "",
            "description_tooltip": null,
            "layout": "IPY_MODEL_6114f5928f3145fe961002db75b7be5b",
            "placeholder": "​",
            "style": "IPY_MODEL_05e9cd5f79364395807c24ad6c63fd86",
            "value": "Downloading (…)ce_transformers.json: 100%"
          }
        },
        "a75ba38355e6440fbc5f10e39566b8b8": {
          "model_module": "@jupyter-widgets/controls",
          "model_name": "FloatProgressModel",
          "model_module_version": "1.5.0",
          "state": {
            "_dom_classes": [],
            "_model_module": "@jupyter-widgets/controls",
            "_model_module_version": "1.5.0",
            "_model_name": "FloatProgressModel",
            "_view_count": null,
            "_view_module": "@jupyter-widgets/controls",
            "_view_module_version": "1.5.0",
            "_view_name": "ProgressView",
            "bar_style": "success",
            "description": "",
            "description_tooltip": null,
            "layout": "IPY_MODEL_7cf908ba8f954339a14e005a85bd4fbf",
            "max": 116,
            "min": 0,
            "orientation": "horizontal",
            "style": "IPY_MODEL_8e5c18480f8b4931920d703acfaf54be",
            "value": 116
          }
        },
        "1b34d824124a4e48b26a80a2cec8b289": {
          "model_module": "@jupyter-widgets/controls",
          "model_name": "HTMLModel",
          "model_module_version": "1.5.0",
          "state": {
            "_dom_classes": [],
            "_model_module": "@jupyter-widgets/controls",
            "_model_module_version": "1.5.0",
            "_model_name": "HTMLModel",
            "_view_count": null,
            "_view_module": "@jupyter-widgets/controls",
            "_view_module_version": "1.5.0",
            "_view_name": "HTMLView",
            "description": "",
            "description_tooltip": null,
            "layout": "IPY_MODEL_f30601ebfe55433d9ee045e4a5e657e9",
            "placeholder": "​",
            "style": "IPY_MODEL_8adb5e08afc14c2b89a148ea158615fa",
            "value": " 116/116 [00:00&lt;00:00, 7.76kB/s]"
          }
        },
        "41ba758df2fa47eeb808c76057950f40": {
          "model_module": "@jupyter-widgets/base",
          "model_name": "LayoutModel",
          "model_module_version": "1.2.0",
          "state": {
            "_model_module": "@jupyter-widgets/base",
            "_model_module_version": "1.2.0",
            "_model_name": "LayoutModel",
            "_view_count": null,
            "_view_module": "@jupyter-widgets/base",
            "_view_module_version": "1.2.0",
            "_view_name": "LayoutView",
            "align_content": null,
            "align_items": null,
            "align_self": null,
            "border": null,
            "bottom": null,
            "display": null,
            "flex": null,
            "flex_flow": null,
            "grid_area": null,
            "grid_auto_columns": null,
            "grid_auto_flow": null,
            "grid_auto_rows": null,
            "grid_column": null,
            "grid_gap": null,
            "grid_row": null,
            "grid_template_areas": null,
            "grid_template_columns": null,
            "grid_template_rows": null,
            "height": null,
            "justify_content": null,
            "justify_items": null,
            "left": null,
            "margin": null,
            "max_height": null,
            "max_width": null,
            "min_height": null,
            "min_width": null,
            "object_fit": null,
            "object_position": null,
            "order": null,
            "overflow": null,
            "overflow_x": null,
            "overflow_y": null,
            "padding": null,
            "right": null,
            "top": null,
            "visibility": null,
            "width": null
          }
        },
        "6114f5928f3145fe961002db75b7be5b": {
          "model_module": "@jupyter-widgets/base",
          "model_name": "LayoutModel",
          "model_module_version": "1.2.0",
          "state": {
            "_model_module": "@jupyter-widgets/base",
            "_model_module_version": "1.2.0",
            "_model_name": "LayoutModel",
            "_view_count": null,
            "_view_module": "@jupyter-widgets/base",
            "_view_module_version": "1.2.0",
            "_view_name": "LayoutView",
            "align_content": null,
            "align_items": null,
            "align_self": null,
            "border": null,
            "bottom": null,
            "display": null,
            "flex": null,
            "flex_flow": null,
            "grid_area": null,
            "grid_auto_columns": null,
            "grid_auto_flow": null,
            "grid_auto_rows": null,
            "grid_column": null,
            "grid_gap": null,
            "grid_row": null,
            "grid_template_areas": null,
            "grid_template_columns": null,
            "grid_template_rows": null,
            "height": null,
            "justify_content": null,
            "justify_items": null,
            "left": null,
            "margin": null,
            "max_height": null,
            "max_width": null,
            "min_height": null,
            "min_width": null,
            "object_fit": null,
            "object_position": null,
            "order": null,
            "overflow": null,
            "overflow_x": null,
            "overflow_y": null,
            "padding": null,
            "right": null,
            "top": null,
            "visibility": null,
            "width": null
          }
        },
        "05e9cd5f79364395807c24ad6c63fd86": {
          "model_module": "@jupyter-widgets/controls",
          "model_name": "DescriptionStyleModel",
          "model_module_version": "1.5.0",
          "state": {
            "_model_module": "@jupyter-widgets/controls",
            "_model_module_version": "1.5.0",
            "_model_name": "DescriptionStyleModel",
            "_view_count": null,
            "_view_module": "@jupyter-widgets/base",
            "_view_module_version": "1.2.0",
            "_view_name": "StyleView",
            "description_width": ""
          }
        },
        "7cf908ba8f954339a14e005a85bd4fbf": {
          "model_module": "@jupyter-widgets/base",
          "model_name": "LayoutModel",
          "model_module_version": "1.2.0",
          "state": {
            "_model_module": "@jupyter-widgets/base",
            "_model_module_version": "1.2.0",
            "_model_name": "LayoutModel",
            "_view_count": null,
            "_view_module": "@jupyter-widgets/base",
            "_view_module_version": "1.2.0",
            "_view_name": "LayoutView",
            "align_content": null,
            "align_items": null,
            "align_self": null,
            "border": null,
            "bottom": null,
            "display": null,
            "flex": null,
            "flex_flow": null,
            "grid_area": null,
            "grid_auto_columns": null,
            "grid_auto_flow": null,
            "grid_auto_rows": null,
            "grid_column": null,
            "grid_gap": null,
            "grid_row": null,
            "grid_template_areas": null,
            "grid_template_columns": null,
            "grid_template_rows": null,
            "height": null,
            "justify_content": null,
            "justify_items": null,
            "left": null,
            "margin": null,
            "max_height": null,
            "max_width": null,
            "min_height": null,
            "min_width": null,
            "object_fit": null,
            "object_position": null,
            "order": null,
            "overflow": null,
            "overflow_x": null,
            "overflow_y": null,
            "padding": null,
            "right": null,
            "top": null,
            "visibility": null,
            "width": null
          }
        },
        "8e5c18480f8b4931920d703acfaf54be": {
          "model_module": "@jupyter-widgets/controls",
          "model_name": "ProgressStyleModel",
          "model_module_version": "1.5.0",
          "state": {
            "_model_module": "@jupyter-widgets/controls",
            "_model_module_version": "1.5.0",
            "_model_name": "ProgressStyleModel",
            "_view_count": null,
            "_view_module": "@jupyter-widgets/base",
            "_view_module_version": "1.2.0",
            "_view_name": "StyleView",
            "bar_color": null,
            "description_width": ""
          }
        },
        "f30601ebfe55433d9ee045e4a5e657e9": {
          "model_module": "@jupyter-widgets/base",
          "model_name": "LayoutModel",
          "model_module_version": "1.2.0",
          "state": {
            "_model_module": "@jupyter-widgets/base",
            "_model_module_version": "1.2.0",
            "_model_name": "LayoutModel",
            "_view_count": null,
            "_view_module": "@jupyter-widgets/base",
            "_view_module_version": "1.2.0",
            "_view_name": "LayoutView",
            "align_content": null,
            "align_items": null,
            "align_self": null,
            "border": null,
            "bottom": null,
            "display": null,
            "flex": null,
            "flex_flow": null,
            "grid_area": null,
            "grid_auto_columns": null,
            "grid_auto_flow": null,
            "grid_auto_rows": null,
            "grid_column": null,
            "grid_gap": null,
            "grid_row": null,
            "grid_template_areas": null,
            "grid_template_columns": null,
            "grid_template_rows": null,
            "height": null,
            "justify_content": null,
            "justify_items": null,
            "left": null,
            "margin": null,
            "max_height": null,
            "max_width": null,
            "min_height": null,
            "min_width": null,
            "object_fit": null,
            "object_position": null,
            "order": null,
            "overflow": null,
            "overflow_x": null,
            "overflow_y": null,
            "padding": null,
            "right": null,
            "top": null,
            "visibility": null,
            "width": null
          }
        },
        "8adb5e08afc14c2b89a148ea158615fa": {
          "model_module": "@jupyter-widgets/controls",
          "model_name": "DescriptionStyleModel",
          "model_module_version": "1.5.0",
          "state": {
            "_model_module": "@jupyter-widgets/controls",
            "_model_module_version": "1.5.0",
            "_model_name": "DescriptionStyleModel",
            "_view_count": null,
            "_view_module": "@jupyter-widgets/base",
            "_view_module_version": "1.2.0",
            "_view_name": "StyleView",
            "description_width": ""
          }
        },
        "d9097747d2ef467080bdc027d54ca2d3": {
          "model_module": "@jupyter-widgets/controls",
          "model_name": "HBoxModel",
          "model_module_version": "1.5.0",
          "state": {
            "_dom_classes": [],
            "_model_module": "@jupyter-widgets/controls",
            "_model_module_version": "1.5.0",
            "_model_name": "HBoxModel",
            "_view_count": null,
            "_view_module": "@jupyter-widgets/controls",
            "_view_module_version": "1.5.0",
            "_view_name": "HBoxView",
            "box_style": "",
            "children": [
              "IPY_MODEL_e368633b4a8640cdaa3f8e7bba5f27fc",
              "IPY_MODEL_419839afb26a493ba979b4fc4b832d26",
              "IPY_MODEL_6f1e0c758691482dbb32c61262ec4478"
            ],
            "layout": "IPY_MODEL_e869d1c161444ee0953d66914475f1b9"
          }
        },
        "e368633b4a8640cdaa3f8e7bba5f27fc": {
          "model_module": "@jupyter-widgets/controls",
          "model_name": "HTMLModel",
          "model_module_version": "1.5.0",
          "state": {
            "_dom_classes": [],
            "_model_module": "@jupyter-widgets/controls",
            "_model_module_version": "1.5.0",
            "_model_name": "HTMLModel",
            "_view_count": null,
            "_view_module": "@jupyter-widgets/controls",
            "_view_module_version": "1.5.0",
            "_view_name": "HTMLView",
            "description": "",
            "description_tooltip": null,
            "layout": "IPY_MODEL_b646092aa5c54e6180dd747ce12f8de6",
            "placeholder": "​",
            "style": "IPY_MODEL_d5c97cb94ae547a3b8166952979d4ab4",
            "value": "Downloading (…)26f/data_config.json: 100%"
          }
        },
        "419839afb26a493ba979b4fc4b832d26": {
          "model_module": "@jupyter-widgets/controls",
          "model_name": "FloatProgressModel",
          "model_module_version": "1.5.0",
          "state": {
            "_dom_classes": [],
            "_model_module": "@jupyter-widgets/controls",
            "_model_module_version": "1.5.0",
            "_model_name": "FloatProgressModel",
            "_view_count": null,
            "_view_module": "@jupyter-widgets/controls",
            "_view_module_version": "1.5.0",
            "_view_name": "ProgressView",
            "bar_style": "success",
            "description": "",
            "description_tooltip": null,
            "layout": "IPY_MODEL_aba154b4839848208a15b25bf5ac0710",
            "max": 15679,
            "min": 0,
            "orientation": "horizontal",
            "style": "IPY_MODEL_b2c0804180aa48abbd43334231a661e9",
            "value": 15679
          }
        },
        "6f1e0c758691482dbb32c61262ec4478": {
          "model_module": "@jupyter-widgets/controls",
          "model_name": "HTMLModel",
          "model_module_version": "1.5.0",
          "state": {
            "_dom_classes": [],
            "_model_module": "@jupyter-widgets/controls",
            "_model_module_version": "1.5.0",
            "_model_name": "HTMLModel",
            "_view_count": null,
            "_view_module": "@jupyter-widgets/controls",
            "_view_module_version": "1.5.0",
            "_view_name": "HTMLView",
            "description": "",
            "description_tooltip": null,
            "layout": "IPY_MODEL_f9a43f5233a6409d8fca1760b8bab10b",
            "placeholder": "​",
            "style": "IPY_MODEL_d43b05a58bec47c0a92b1da429b26367",
            "value": " 15.7k/15.7k [00:00&lt;00:00, 989kB/s]"
          }
        },
        "e869d1c161444ee0953d66914475f1b9": {
          "model_module": "@jupyter-widgets/base",
          "model_name": "LayoutModel",
          "model_module_version": "1.2.0",
          "state": {
            "_model_module": "@jupyter-widgets/base",
            "_model_module_version": "1.2.0",
            "_model_name": "LayoutModel",
            "_view_count": null,
            "_view_module": "@jupyter-widgets/base",
            "_view_module_version": "1.2.0",
            "_view_name": "LayoutView",
            "align_content": null,
            "align_items": null,
            "align_self": null,
            "border": null,
            "bottom": null,
            "display": null,
            "flex": null,
            "flex_flow": null,
            "grid_area": null,
            "grid_auto_columns": null,
            "grid_auto_flow": null,
            "grid_auto_rows": null,
            "grid_column": null,
            "grid_gap": null,
            "grid_row": null,
            "grid_template_areas": null,
            "grid_template_columns": null,
            "grid_template_rows": null,
            "height": null,
            "justify_content": null,
            "justify_items": null,
            "left": null,
            "margin": null,
            "max_height": null,
            "max_width": null,
            "min_height": null,
            "min_width": null,
            "object_fit": null,
            "object_position": null,
            "order": null,
            "overflow": null,
            "overflow_x": null,
            "overflow_y": null,
            "padding": null,
            "right": null,
            "top": null,
            "visibility": null,
            "width": null
          }
        },
        "b646092aa5c54e6180dd747ce12f8de6": {
          "model_module": "@jupyter-widgets/base",
          "model_name": "LayoutModel",
          "model_module_version": "1.2.0",
          "state": {
            "_model_module": "@jupyter-widgets/base",
            "_model_module_version": "1.2.0",
            "_model_name": "LayoutModel",
            "_view_count": null,
            "_view_module": "@jupyter-widgets/base",
            "_view_module_version": "1.2.0",
            "_view_name": "LayoutView",
            "align_content": null,
            "align_items": null,
            "align_self": null,
            "border": null,
            "bottom": null,
            "display": null,
            "flex": null,
            "flex_flow": null,
            "grid_area": null,
            "grid_auto_columns": null,
            "grid_auto_flow": null,
            "grid_auto_rows": null,
            "grid_column": null,
            "grid_gap": null,
            "grid_row": null,
            "grid_template_areas": null,
            "grid_template_columns": null,
            "grid_template_rows": null,
            "height": null,
            "justify_content": null,
            "justify_items": null,
            "left": null,
            "margin": null,
            "max_height": null,
            "max_width": null,
            "min_height": null,
            "min_width": null,
            "object_fit": null,
            "object_position": null,
            "order": null,
            "overflow": null,
            "overflow_x": null,
            "overflow_y": null,
            "padding": null,
            "right": null,
            "top": null,
            "visibility": null,
            "width": null
          }
        },
        "d5c97cb94ae547a3b8166952979d4ab4": {
          "model_module": "@jupyter-widgets/controls",
          "model_name": "DescriptionStyleModel",
          "model_module_version": "1.5.0",
          "state": {
            "_model_module": "@jupyter-widgets/controls",
            "_model_module_version": "1.5.0",
            "_model_name": "DescriptionStyleModel",
            "_view_count": null,
            "_view_module": "@jupyter-widgets/base",
            "_view_module_version": "1.2.0",
            "_view_name": "StyleView",
            "description_width": ""
          }
        },
        "aba154b4839848208a15b25bf5ac0710": {
          "model_module": "@jupyter-widgets/base",
          "model_name": "LayoutModel",
          "model_module_version": "1.2.0",
          "state": {
            "_model_module": "@jupyter-widgets/base",
            "_model_module_version": "1.2.0",
            "_model_name": "LayoutModel",
            "_view_count": null,
            "_view_module": "@jupyter-widgets/base",
            "_view_module_version": "1.2.0",
            "_view_name": "LayoutView",
            "align_content": null,
            "align_items": null,
            "align_self": null,
            "border": null,
            "bottom": null,
            "display": null,
            "flex": null,
            "flex_flow": null,
            "grid_area": null,
            "grid_auto_columns": null,
            "grid_auto_flow": null,
            "grid_auto_rows": null,
            "grid_column": null,
            "grid_gap": null,
            "grid_row": null,
            "grid_template_areas": null,
            "grid_template_columns": null,
            "grid_template_rows": null,
            "height": null,
            "justify_content": null,
            "justify_items": null,
            "left": null,
            "margin": null,
            "max_height": null,
            "max_width": null,
            "min_height": null,
            "min_width": null,
            "object_fit": null,
            "object_position": null,
            "order": null,
            "overflow": null,
            "overflow_x": null,
            "overflow_y": null,
            "padding": null,
            "right": null,
            "top": null,
            "visibility": null,
            "width": null
          }
        },
        "b2c0804180aa48abbd43334231a661e9": {
          "model_module": "@jupyter-widgets/controls",
          "model_name": "ProgressStyleModel",
          "model_module_version": "1.5.0",
          "state": {
            "_model_module": "@jupyter-widgets/controls",
            "_model_module_version": "1.5.0",
            "_model_name": "ProgressStyleModel",
            "_view_count": null,
            "_view_module": "@jupyter-widgets/base",
            "_view_module_version": "1.2.0",
            "_view_name": "StyleView",
            "bar_color": null,
            "description_width": ""
          }
        },
        "f9a43f5233a6409d8fca1760b8bab10b": {
          "model_module": "@jupyter-widgets/base",
          "model_name": "LayoutModel",
          "model_module_version": "1.2.0",
          "state": {
            "_model_module": "@jupyter-widgets/base",
            "_model_module_version": "1.2.0",
            "_model_name": "LayoutModel",
            "_view_count": null,
            "_view_module": "@jupyter-widgets/base",
            "_view_module_version": "1.2.0",
            "_view_name": "LayoutView",
            "align_content": null,
            "align_items": null,
            "align_self": null,
            "border": null,
            "bottom": null,
            "display": null,
            "flex": null,
            "flex_flow": null,
            "grid_area": null,
            "grid_auto_columns": null,
            "grid_auto_flow": null,
            "grid_auto_rows": null,
            "grid_column": null,
            "grid_gap": null,
            "grid_row": null,
            "grid_template_areas": null,
            "grid_template_columns": null,
            "grid_template_rows": null,
            "height": null,
            "justify_content": null,
            "justify_items": null,
            "left": null,
            "margin": null,
            "max_height": null,
            "max_width": null,
            "min_height": null,
            "min_width": null,
            "object_fit": null,
            "object_position": null,
            "order": null,
            "overflow": null,
            "overflow_x": null,
            "overflow_y": null,
            "padding": null,
            "right": null,
            "top": null,
            "visibility": null,
            "width": null
          }
        },
        "d43b05a58bec47c0a92b1da429b26367": {
          "model_module": "@jupyter-widgets/controls",
          "model_name": "DescriptionStyleModel",
          "model_module_version": "1.5.0",
          "state": {
            "_model_module": "@jupyter-widgets/controls",
            "_model_module_version": "1.5.0",
            "_model_name": "DescriptionStyleModel",
            "_view_count": null,
            "_view_module": "@jupyter-widgets/base",
            "_view_module_version": "1.2.0",
            "_view_name": "StyleView",
            "description_width": ""
          }
        },
        "ecc10facf26243f886e04531b42964a7": {
          "model_module": "@jupyter-widgets/controls",
          "model_name": "HBoxModel",
          "model_module_version": "1.5.0",
          "state": {
            "_dom_classes": [],
            "_model_module": "@jupyter-widgets/controls",
            "_model_module_version": "1.5.0",
            "_model_name": "HBoxModel",
            "_view_count": null,
            "_view_module": "@jupyter-widgets/controls",
            "_view_module_version": "1.5.0",
            "_view_name": "HBoxView",
            "box_style": "",
            "children": [
              "IPY_MODEL_92d7be9951d240d4bf54c0d272add41f",
              "IPY_MODEL_5001878c269448bca176f752bac1a22f",
              "IPY_MODEL_3860eec3363e426dba132a79315f5f42"
            ],
            "layout": "IPY_MODEL_40c3ac389e2346bd8820f4c990b083d9"
          }
        },
        "92d7be9951d240d4bf54c0d272add41f": {
          "model_module": "@jupyter-widgets/controls",
          "model_name": "HTMLModel",
          "model_module_version": "1.5.0",
          "state": {
            "_dom_classes": [],
            "_model_module": "@jupyter-widgets/controls",
            "_model_module_version": "1.5.0",
            "_model_name": "HTMLModel",
            "_view_count": null,
            "_view_module": "@jupyter-widgets/controls",
            "_view_module_version": "1.5.0",
            "_view_name": "HTMLView",
            "description": "",
            "description_tooltip": null,
            "layout": "IPY_MODEL_912c2bfd2fb1476cbf1e1cfd6d3dca20",
            "placeholder": "​",
            "style": "IPY_MODEL_e525c8c63d31492a9d0fad679b8d28c1",
            "value": "Downloading pytorch_model.bin: 100%"
          }
        },
        "5001878c269448bca176f752bac1a22f": {
          "model_module": "@jupyter-widgets/controls",
          "model_name": "FloatProgressModel",
          "model_module_version": "1.5.0",
          "state": {
            "_dom_classes": [],
            "_model_module": "@jupyter-widgets/controls",
            "_model_module_version": "1.5.0",
            "_model_name": "FloatProgressModel",
            "_view_count": null,
            "_view_module": "@jupyter-widgets/controls",
            "_view_module_version": "1.5.0",
            "_view_name": "ProgressView",
            "bar_style": "success",
            "description": "",
            "description_tooltip": null,
            "layout": "IPY_MODEL_662510dcfb854afd8b75509ff6a7ded1",
            "max": 133506609,
            "min": 0,
            "orientation": "horizontal",
            "style": "IPY_MODEL_09817a6e607e4aafb460220404dd5b82",
            "value": 133506609
          }
        },
        "3860eec3363e426dba132a79315f5f42": {
          "model_module": "@jupyter-widgets/controls",
          "model_name": "HTMLModel",
          "model_module_version": "1.5.0",
          "state": {
            "_dom_classes": [],
            "_model_module": "@jupyter-widgets/controls",
            "_model_module_version": "1.5.0",
            "_model_name": "HTMLModel",
            "_view_count": null,
            "_view_module": "@jupyter-widgets/controls",
            "_view_module_version": "1.5.0",
            "_view_name": "HTMLView",
            "description": "",
            "description_tooltip": null,
            "layout": "IPY_MODEL_38a33e60b74c4a428198ffe9caa20d63",
            "placeholder": "​",
            "style": "IPY_MODEL_c529b5e908bc4dfe8ff9b479a7007ea7",
            "value": " 134M/134M [00:01&lt;00:00, 108MB/s]"
          }
        },
        "40c3ac389e2346bd8820f4c990b083d9": {
          "model_module": "@jupyter-widgets/base",
          "model_name": "LayoutModel",
          "model_module_version": "1.2.0",
          "state": {
            "_model_module": "@jupyter-widgets/base",
            "_model_module_version": "1.2.0",
            "_model_name": "LayoutModel",
            "_view_count": null,
            "_view_module": "@jupyter-widgets/base",
            "_view_module_version": "1.2.0",
            "_view_name": "LayoutView",
            "align_content": null,
            "align_items": null,
            "align_self": null,
            "border": null,
            "bottom": null,
            "display": null,
            "flex": null,
            "flex_flow": null,
            "grid_area": null,
            "grid_auto_columns": null,
            "grid_auto_flow": null,
            "grid_auto_rows": null,
            "grid_column": null,
            "grid_gap": null,
            "grid_row": null,
            "grid_template_areas": null,
            "grid_template_columns": null,
            "grid_template_rows": null,
            "height": null,
            "justify_content": null,
            "justify_items": null,
            "left": null,
            "margin": null,
            "max_height": null,
            "max_width": null,
            "min_height": null,
            "min_width": null,
            "object_fit": null,
            "object_position": null,
            "order": null,
            "overflow": null,
            "overflow_x": null,
            "overflow_y": null,
            "padding": null,
            "right": null,
            "top": null,
            "visibility": null,
            "width": null
          }
        },
        "912c2bfd2fb1476cbf1e1cfd6d3dca20": {
          "model_module": "@jupyter-widgets/base",
          "model_name": "LayoutModel",
          "model_module_version": "1.2.0",
          "state": {
            "_model_module": "@jupyter-widgets/base",
            "_model_module_version": "1.2.0",
            "_model_name": "LayoutModel",
            "_view_count": null,
            "_view_module": "@jupyter-widgets/base",
            "_view_module_version": "1.2.0",
            "_view_name": "LayoutView",
            "align_content": null,
            "align_items": null,
            "align_self": null,
            "border": null,
            "bottom": null,
            "display": null,
            "flex": null,
            "flex_flow": null,
            "grid_area": null,
            "grid_auto_columns": null,
            "grid_auto_flow": null,
            "grid_auto_rows": null,
            "grid_column": null,
            "grid_gap": null,
            "grid_row": null,
            "grid_template_areas": null,
            "grid_template_columns": null,
            "grid_template_rows": null,
            "height": null,
            "justify_content": null,
            "justify_items": null,
            "left": null,
            "margin": null,
            "max_height": null,
            "max_width": null,
            "min_height": null,
            "min_width": null,
            "object_fit": null,
            "object_position": null,
            "order": null,
            "overflow": null,
            "overflow_x": null,
            "overflow_y": null,
            "padding": null,
            "right": null,
            "top": null,
            "visibility": null,
            "width": null
          }
        },
        "e525c8c63d31492a9d0fad679b8d28c1": {
          "model_module": "@jupyter-widgets/controls",
          "model_name": "DescriptionStyleModel",
          "model_module_version": "1.5.0",
          "state": {
            "_model_module": "@jupyter-widgets/controls",
            "_model_module_version": "1.5.0",
            "_model_name": "DescriptionStyleModel",
            "_view_count": null,
            "_view_module": "@jupyter-widgets/base",
            "_view_module_version": "1.2.0",
            "_view_name": "StyleView",
            "description_width": ""
          }
        },
        "662510dcfb854afd8b75509ff6a7ded1": {
          "model_module": "@jupyter-widgets/base",
          "model_name": "LayoutModel",
          "model_module_version": "1.2.0",
          "state": {
            "_model_module": "@jupyter-widgets/base",
            "_model_module_version": "1.2.0",
            "_model_name": "LayoutModel",
            "_view_count": null,
            "_view_module": "@jupyter-widgets/base",
            "_view_module_version": "1.2.0",
            "_view_name": "LayoutView",
            "align_content": null,
            "align_items": null,
            "align_self": null,
            "border": null,
            "bottom": null,
            "display": null,
            "flex": null,
            "flex_flow": null,
            "grid_area": null,
            "grid_auto_columns": null,
            "grid_auto_flow": null,
            "grid_auto_rows": null,
            "grid_column": null,
            "grid_gap": null,
            "grid_row": null,
            "grid_template_areas": null,
            "grid_template_columns": null,
            "grid_template_rows": null,
            "height": null,
            "justify_content": null,
            "justify_items": null,
            "left": null,
            "margin": null,
            "max_height": null,
            "max_width": null,
            "min_height": null,
            "min_width": null,
            "object_fit": null,
            "object_position": null,
            "order": null,
            "overflow": null,
            "overflow_x": null,
            "overflow_y": null,
            "padding": null,
            "right": null,
            "top": null,
            "visibility": null,
            "width": null
          }
        },
        "09817a6e607e4aafb460220404dd5b82": {
          "model_module": "@jupyter-widgets/controls",
          "model_name": "ProgressStyleModel",
          "model_module_version": "1.5.0",
          "state": {
            "_model_module": "@jupyter-widgets/controls",
            "_model_module_version": "1.5.0",
            "_model_name": "ProgressStyleModel",
            "_view_count": null,
            "_view_module": "@jupyter-widgets/base",
            "_view_module_version": "1.2.0",
            "_view_name": "StyleView",
            "bar_color": null,
            "description_width": ""
          }
        },
        "38a33e60b74c4a428198ffe9caa20d63": {
          "model_module": "@jupyter-widgets/base",
          "model_name": "LayoutModel",
          "model_module_version": "1.2.0",
          "state": {
            "_model_module": "@jupyter-widgets/base",
            "_model_module_version": "1.2.0",
            "_model_name": "LayoutModel",
            "_view_count": null,
            "_view_module": "@jupyter-widgets/base",
            "_view_module_version": "1.2.0",
            "_view_name": "LayoutView",
            "align_content": null,
            "align_items": null,
            "align_self": null,
            "border": null,
            "bottom": null,
            "display": null,
            "flex": null,
            "flex_flow": null,
            "grid_area": null,
            "grid_auto_columns": null,
            "grid_auto_flow": null,
            "grid_auto_rows": null,
            "grid_column": null,
            "grid_gap": null,
            "grid_row": null,
            "grid_template_areas": null,
            "grid_template_columns": null,
            "grid_template_rows": null,
            "height": null,
            "justify_content": null,
            "justify_items": null,
            "left": null,
            "margin": null,
            "max_height": null,
            "max_width": null,
            "min_height": null,
            "min_width": null,
            "object_fit": null,
            "object_position": null,
            "order": null,
            "overflow": null,
            "overflow_x": null,
            "overflow_y": null,
            "padding": null,
            "right": null,
            "top": null,
            "visibility": null,
            "width": null
          }
        },
        "c529b5e908bc4dfe8ff9b479a7007ea7": {
          "model_module": "@jupyter-widgets/controls",
          "model_name": "DescriptionStyleModel",
          "model_module_version": "1.5.0",
          "state": {
            "_model_module": "@jupyter-widgets/controls",
            "_model_module_version": "1.5.0",
            "_model_name": "DescriptionStyleModel",
            "_view_count": null,
            "_view_module": "@jupyter-widgets/base",
            "_view_module_version": "1.2.0",
            "_view_name": "StyleView",
            "description_width": ""
          }
        },
        "b59985affbe94df9ad40726f17155120": {
          "model_module": "@jupyter-widgets/controls",
          "model_name": "HBoxModel",
          "model_module_version": "1.5.0",
          "state": {
            "_dom_classes": [],
            "_model_module": "@jupyter-widgets/controls",
            "_model_module_version": "1.5.0",
            "_model_name": "HBoxModel",
            "_view_count": null,
            "_view_module": "@jupyter-widgets/controls",
            "_view_module_version": "1.5.0",
            "_view_name": "HBoxView",
            "box_style": "",
            "children": [
              "IPY_MODEL_382f64b90d3b4a85ac962b3db5dbf19f",
              "IPY_MODEL_3ce3eeb7e1154a318feb8a4e63ef6b72",
              "IPY_MODEL_91954c04f2ee4622ad6a514fc3316d9d"
            ],
            "layout": "IPY_MODEL_fa461e210f5e4643b77cae8d93218a3e"
          }
        },
        "382f64b90d3b4a85ac962b3db5dbf19f": {
          "model_module": "@jupyter-widgets/controls",
          "model_name": "HTMLModel",
          "model_module_version": "1.5.0",
          "state": {
            "_dom_classes": [],
            "_model_module": "@jupyter-widgets/controls",
            "_model_module_version": "1.5.0",
            "_model_name": "HTMLModel",
            "_view_count": null,
            "_view_module": "@jupyter-widgets/controls",
            "_view_module_version": "1.5.0",
            "_view_name": "HTMLView",
            "description": "",
            "description_tooltip": null,
            "layout": "IPY_MODEL_0a85cdb9d52f4407ad542d30f76a2faf",
            "placeholder": "​",
            "style": "IPY_MODEL_76e212764eac43138435fbb2be3eb2b1",
            "value": "Downloading (…)nce_bert_config.json: 100%"
          }
        },
        "3ce3eeb7e1154a318feb8a4e63ef6b72": {
          "model_module": "@jupyter-widgets/controls",
          "model_name": "FloatProgressModel",
          "model_module_version": "1.5.0",
          "state": {
            "_dom_classes": [],
            "_model_module": "@jupyter-widgets/controls",
            "_model_module_version": "1.5.0",
            "_model_name": "FloatProgressModel",
            "_view_count": null,
            "_view_module": "@jupyter-widgets/controls",
            "_view_module_version": "1.5.0",
            "_view_name": "ProgressView",
            "bar_style": "success",
            "description": "",
            "description_tooltip": null,
            "layout": "IPY_MODEL_2eb87af4f5eb49d5bd76e71936c2376d",
            "max": 53,
            "min": 0,
            "orientation": "horizontal",
            "style": "IPY_MODEL_b7cf3adb0e7b407e9d6b9b684bd7ac3e",
            "value": 53
          }
        },
        "91954c04f2ee4622ad6a514fc3316d9d": {
          "model_module": "@jupyter-widgets/controls",
          "model_name": "HTMLModel",
          "model_module_version": "1.5.0",
          "state": {
            "_dom_classes": [],
            "_model_module": "@jupyter-widgets/controls",
            "_model_module_version": "1.5.0",
            "_model_name": "HTMLModel",
            "_view_count": null,
            "_view_module": "@jupyter-widgets/controls",
            "_view_module_version": "1.5.0",
            "_view_name": "HTMLView",
            "description": "",
            "description_tooltip": null,
            "layout": "IPY_MODEL_4593891764e74333a3c4ac285a3f687d",
            "placeholder": "​",
            "style": "IPY_MODEL_8cfa5cf8ea0d4ab09b69042bc3b36957",
            "value": " 53.0/53.0 [00:00&lt;00:00, 2.71kB/s]"
          }
        },
        "fa461e210f5e4643b77cae8d93218a3e": {
          "model_module": "@jupyter-widgets/base",
          "model_name": "LayoutModel",
          "model_module_version": "1.2.0",
          "state": {
            "_model_module": "@jupyter-widgets/base",
            "_model_module_version": "1.2.0",
            "_model_name": "LayoutModel",
            "_view_count": null,
            "_view_module": "@jupyter-widgets/base",
            "_view_module_version": "1.2.0",
            "_view_name": "LayoutView",
            "align_content": null,
            "align_items": null,
            "align_self": null,
            "border": null,
            "bottom": null,
            "display": null,
            "flex": null,
            "flex_flow": null,
            "grid_area": null,
            "grid_auto_columns": null,
            "grid_auto_flow": null,
            "grid_auto_rows": null,
            "grid_column": null,
            "grid_gap": null,
            "grid_row": null,
            "grid_template_areas": null,
            "grid_template_columns": null,
            "grid_template_rows": null,
            "height": null,
            "justify_content": null,
            "justify_items": null,
            "left": null,
            "margin": null,
            "max_height": null,
            "max_width": null,
            "min_height": null,
            "min_width": null,
            "object_fit": null,
            "object_position": null,
            "order": null,
            "overflow": null,
            "overflow_x": null,
            "overflow_y": null,
            "padding": null,
            "right": null,
            "top": null,
            "visibility": null,
            "width": null
          }
        },
        "0a85cdb9d52f4407ad542d30f76a2faf": {
          "model_module": "@jupyter-widgets/base",
          "model_name": "LayoutModel",
          "model_module_version": "1.2.0",
          "state": {
            "_model_module": "@jupyter-widgets/base",
            "_model_module_version": "1.2.0",
            "_model_name": "LayoutModel",
            "_view_count": null,
            "_view_module": "@jupyter-widgets/base",
            "_view_module_version": "1.2.0",
            "_view_name": "LayoutView",
            "align_content": null,
            "align_items": null,
            "align_self": null,
            "border": null,
            "bottom": null,
            "display": null,
            "flex": null,
            "flex_flow": null,
            "grid_area": null,
            "grid_auto_columns": null,
            "grid_auto_flow": null,
            "grid_auto_rows": null,
            "grid_column": null,
            "grid_gap": null,
            "grid_row": null,
            "grid_template_areas": null,
            "grid_template_columns": null,
            "grid_template_rows": null,
            "height": null,
            "justify_content": null,
            "justify_items": null,
            "left": null,
            "margin": null,
            "max_height": null,
            "max_width": null,
            "min_height": null,
            "min_width": null,
            "object_fit": null,
            "object_position": null,
            "order": null,
            "overflow": null,
            "overflow_x": null,
            "overflow_y": null,
            "padding": null,
            "right": null,
            "top": null,
            "visibility": null,
            "width": null
          }
        },
        "76e212764eac43138435fbb2be3eb2b1": {
          "model_module": "@jupyter-widgets/controls",
          "model_name": "DescriptionStyleModel",
          "model_module_version": "1.5.0",
          "state": {
            "_model_module": "@jupyter-widgets/controls",
            "_model_module_version": "1.5.0",
            "_model_name": "DescriptionStyleModel",
            "_view_count": null,
            "_view_module": "@jupyter-widgets/base",
            "_view_module_version": "1.2.0",
            "_view_name": "StyleView",
            "description_width": ""
          }
        },
        "2eb87af4f5eb49d5bd76e71936c2376d": {
          "model_module": "@jupyter-widgets/base",
          "model_name": "LayoutModel",
          "model_module_version": "1.2.0",
          "state": {
            "_model_module": "@jupyter-widgets/base",
            "_model_module_version": "1.2.0",
            "_model_name": "LayoutModel",
            "_view_count": null,
            "_view_module": "@jupyter-widgets/base",
            "_view_module_version": "1.2.0",
            "_view_name": "LayoutView",
            "align_content": null,
            "align_items": null,
            "align_self": null,
            "border": null,
            "bottom": null,
            "display": null,
            "flex": null,
            "flex_flow": null,
            "grid_area": null,
            "grid_auto_columns": null,
            "grid_auto_flow": null,
            "grid_auto_rows": null,
            "grid_column": null,
            "grid_gap": null,
            "grid_row": null,
            "grid_template_areas": null,
            "grid_template_columns": null,
            "grid_template_rows": null,
            "height": null,
            "justify_content": null,
            "justify_items": null,
            "left": null,
            "margin": null,
            "max_height": null,
            "max_width": null,
            "min_height": null,
            "min_width": null,
            "object_fit": null,
            "object_position": null,
            "order": null,
            "overflow": null,
            "overflow_x": null,
            "overflow_y": null,
            "padding": null,
            "right": null,
            "top": null,
            "visibility": null,
            "width": null
          }
        },
        "b7cf3adb0e7b407e9d6b9b684bd7ac3e": {
          "model_module": "@jupyter-widgets/controls",
          "model_name": "ProgressStyleModel",
          "model_module_version": "1.5.0",
          "state": {
            "_model_module": "@jupyter-widgets/controls",
            "_model_module_version": "1.5.0",
            "_model_name": "ProgressStyleModel",
            "_view_count": null,
            "_view_module": "@jupyter-widgets/base",
            "_view_module_version": "1.2.0",
            "_view_name": "StyleView",
            "bar_color": null,
            "description_width": ""
          }
        },
        "4593891764e74333a3c4ac285a3f687d": {
          "model_module": "@jupyter-widgets/base",
          "model_name": "LayoutModel",
          "model_module_version": "1.2.0",
          "state": {
            "_model_module": "@jupyter-widgets/base",
            "_model_module_version": "1.2.0",
            "_model_name": "LayoutModel",
            "_view_count": null,
            "_view_module": "@jupyter-widgets/base",
            "_view_module_version": "1.2.0",
            "_view_name": "LayoutView",
            "align_content": null,
            "align_items": null,
            "align_self": null,
            "border": null,
            "bottom": null,
            "display": null,
            "flex": null,
            "flex_flow": null,
            "grid_area": null,
            "grid_auto_columns": null,
            "grid_auto_flow": null,
            "grid_auto_rows": null,
            "grid_column": null,
            "grid_gap": null,
            "grid_row": null,
            "grid_template_areas": null,
            "grid_template_columns": null,
            "grid_template_rows": null,
            "height": null,
            "justify_content": null,
            "justify_items": null,
            "left": null,
            "margin": null,
            "max_height": null,
            "max_width": null,
            "min_height": null,
            "min_width": null,
            "object_fit": null,
            "object_position": null,
            "order": null,
            "overflow": null,
            "overflow_x": null,
            "overflow_y": null,
            "padding": null,
            "right": null,
            "top": null,
            "visibility": null,
            "width": null
          }
        },
        "8cfa5cf8ea0d4ab09b69042bc3b36957": {
          "model_module": "@jupyter-widgets/controls",
          "model_name": "DescriptionStyleModel",
          "model_module_version": "1.5.0",
          "state": {
            "_model_module": "@jupyter-widgets/controls",
            "_model_module_version": "1.5.0",
            "_model_name": "DescriptionStyleModel",
            "_view_count": null,
            "_view_module": "@jupyter-widgets/base",
            "_view_module_version": "1.2.0",
            "_view_name": "StyleView",
            "description_width": ""
          }
        },
        "8a265a1881fe4aeb9861c3183f28cac9": {
          "model_module": "@jupyter-widgets/controls",
          "model_name": "HBoxModel",
          "model_module_version": "1.5.0",
          "state": {
            "_dom_classes": [],
            "_model_module": "@jupyter-widgets/controls",
            "_model_module_version": "1.5.0",
            "_model_name": "HBoxModel",
            "_view_count": null,
            "_view_module": "@jupyter-widgets/controls",
            "_view_module_version": "1.5.0",
            "_view_name": "HBoxView",
            "box_style": "",
            "children": [
              "IPY_MODEL_6b6e3ec3ec74428d8dd3c131b12f620b",
              "IPY_MODEL_4ba7ad9f11424fa2bb531b596caaed80",
              "IPY_MODEL_147142589a6b432dbf5ce50837d849cd"
            ],
            "layout": "IPY_MODEL_99583040ca084c6d84690844c24e2d77"
          }
        },
        "6b6e3ec3ec74428d8dd3c131b12f620b": {
          "model_module": "@jupyter-widgets/controls",
          "model_name": "HTMLModel",
          "model_module_version": "1.5.0",
          "state": {
            "_dom_classes": [],
            "_model_module": "@jupyter-widgets/controls",
            "_model_module_version": "1.5.0",
            "_model_name": "HTMLModel",
            "_view_count": null,
            "_view_module": "@jupyter-widgets/controls",
            "_view_module_version": "1.5.0",
            "_view_name": "HTMLView",
            "description": "",
            "description_tooltip": null,
            "layout": "IPY_MODEL_7cda7695dc8c441e951a0dcdff4d7fed",
            "placeholder": "​",
            "style": "IPY_MODEL_230f3ac81b324bf595e7aa4ac9c351ed",
            "value": "Downloading (…)cial_tokens_map.json: 100%"
          }
        },
        "4ba7ad9f11424fa2bb531b596caaed80": {
          "model_module": "@jupyter-widgets/controls",
          "model_name": "FloatProgressModel",
          "model_module_version": "1.5.0",
          "state": {
            "_dom_classes": [],
            "_model_module": "@jupyter-widgets/controls",
            "_model_module_version": "1.5.0",
            "_model_name": "FloatProgressModel",
            "_view_count": null,
            "_view_module": "@jupyter-widgets/controls",
            "_view_module_version": "1.5.0",
            "_view_name": "ProgressView",
            "bar_style": "success",
            "description": "",
            "description_tooltip": null,
            "layout": "IPY_MODEL_cce08c8a1486420a862bc1de8cc496d7",
            "max": 112,
            "min": 0,
            "orientation": "horizontal",
            "style": "IPY_MODEL_d456aed7a19f4e7fbeb43b8244d686d8",
            "value": 112
          }
        },
        "147142589a6b432dbf5ce50837d849cd": {
          "model_module": "@jupyter-widgets/controls",
          "model_name": "HTMLModel",
          "model_module_version": "1.5.0",
          "state": {
            "_dom_classes": [],
            "_model_module": "@jupyter-widgets/controls",
            "_model_module_version": "1.5.0",
            "_model_name": "HTMLModel",
            "_view_count": null,
            "_view_module": "@jupyter-widgets/controls",
            "_view_module_version": "1.5.0",
            "_view_name": "HTMLView",
            "description": "",
            "description_tooltip": null,
            "layout": "IPY_MODEL_8530b0612aa9493d95c274b2f48b8062",
            "placeholder": "​",
            "style": "IPY_MODEL_172f917ad9e14900ad4b4d1dfd71bc36",
            "value": " 112/112 [00:00&lt;00:00, 5.95kB/s]"
          }
        },
        "99583040ca084c6d84690844c24e2d77": {
          "model_module": "@jupyter-widgets/base",
          "model_name": "LayoutModel",
          "model_module_version": "1.2.0",
          "state": {
            "_model_module": "@jupyter-widgets/base",
            "_model_module_version": "1.2.0",
            "_model_name": "LayoutModel",
            "_view_count": null,
            "_view_module": "@jupyter-widgets/base",
            "_view_module_version": "1.2.0",
            "_view_name": "LayoutView",
            "align_content": null,
            "align_items": null,
            "align_self": null,
            "border": null,
            "bottom": null,
            "display": null,
            "flex": null,
            "flex_flow": null,
            "grid_area": null,
            "grid_auto_columns": null,
            "grid_auto_flow": null,
            "grid_auto_rows": null,
            "grid_column": null,
            "grid_gap": null,
            "grid_row": null,
            "grid_template_areas": null,
            "grid_template_columns": null,
            "grid_template_rows": null,
            "height": null,
            "justify_content": null,
            "justify_items": null,
            "left": null,
            "margin": null,
            "max_height": null,
            "max_width": null,
            "min_height": null,
            "min_width": null,
            "object_fit": null,
            "object_position": null,
            "order": null,
            "overflow": null,
            "overflow_x": null,
            "overflow_y": null,
            "padding": null,
            "right": null,
            "top": null,
            "visibility": null,
            "width": null
          }
        },
        "7cda7695dc8c441e951a0dcdff4d7fed": {
          "model_module": "@jupyter-widgets/base",
          "model_name": "LayoutModel",
          "model_module_version": "1.2.0",
          "state": {
            "_model_module": "@jupyter-widgets/base",
            "_model_module_version": "1.2.0",
            "_model_name": "LayoutModel",
            "_view_count": null,
            "_view_module": "@jupyter-widgets/base",
            "_view_module_version": "1.2.0",
            "_view_name": "LayoutView",
            "align_content": null,
            "align_items": null,
            "align_self": null,
            "border": null,
            "bottom": null,
            "display": null,
            "flex": null,
            "flex_flow": null,
            "grid_area": null,
            "grid_auto_columns": null,
            "grid_auto_flow": null,
            "grid_auto_rows": null,
            "grid_column": null,
            "grid_gap": null,
            "grid_row": null,
            "grid_template_areas": null,
            "grid_template_columns": null,
            "grid_template_rows": null,
            "height": null,
            "justify_content": null,
            "justify_items": null,
            "left": null,
            "margin": null,
            "max_height": null,
            "max_width": null,
            "min_height": null,
            "min_width": null,
            "object_fit": null,
            "object_position": null,
            "order": null,
            "overflow": null,
            "overflow_x": null,
            "overflow_y": null,
            "padding": null,
            "right": null,
            "top": null,
            "visibility": null,
            "width": null
          }
        },
        "230f3ac81b324bf595e7aa4ac9c351ed": {
          "model_module": "@jupyter-widgets/controls",
          "model_name": "DescriptionStyleModel",
          "model_module_version": "1.5.0",
          "state": {
            "_model_module": "@jupyter-widgets/controls",
            "_model_module_version": "1.5.0",
            "_model_name": "DescriptionStyleModel",
            "_view_count": null,
            "_view_module": "@jupyter-widgets/base",
            "_view_module_version": "1.2.0",
            "_view_name": "StyleView",
            "description_width": ""
          }
        },
        "cce08c8a1486420a862bc1de8cc496d7": {
          "model_module": "@jupyter-widgets/base",
          "model_name": "LayoutModel",
          "model_module_version": "1.2.0",
          "state": {
            "_model_module": "@jupyter-widgets/base",
            "_model_module_version": "1.2.0",
            "_model_name": "LayoutModel",
            "_view_count": null,
            "_view_module": "@jupyter-widgets/base",
            "_view_module_version": "1.2.0",
            "_view_name": "LayoutView",
            "align_content": null,
            "align_items": null,
            "align_self": null,
            "border": null,
            "bottom": null,
            "display": null,
            "flex": null,
            "flex_flow": null,
            "grid_area": null,
            "grid_auto_columns": null,
            "grid_auto_flow": null,
            "grid_auto_rows": null,
            "grid_column": null,
            "grid_gap": null,
            "grid_row": null,
            "grid_template_areas": null,
            "grid_template_columns": null,
            "grid_template_rows": null,
            "height": null,
            "justify_content": null,
            "justify_items": null,
            "left": null,
            "margin": null,
            "max_height": null,
            "max_width": null,
            "min_height": null,
            "min_width": null,
            "object_fit": null,
            "object_position": null,
            "order": null,
            "overflow": null,
            "overflow_x": null,
            "overflow_y": null,
            "padding": null,
            "right": null,
            "top": null,
            "visibility": null,
            "width": null
          }
        },
        "d456aed7a19f4e7fbeb43b8244d686d8": {
          "model_module": "@jupyter-widgets/controls",
          "model_name": "ProgressStyleModel",
          "model_module_version": "1.5.0",
          "state": {
            "_model_module": "@jupyter-widgets/controls",
            "_model_module_version": "1.5.0",
            "_model_name": "ProgressStyleModel",
            "_view_count": null,
            "_view_module": "@jupyter-widgets/base",
            "_view_module_version": "1.2.0",
            "_view_name": "StyleView",
            "bar_color": null,
            "description_width": ""
          }
        },
        "8530b0612aa9493d95c274b2f48b8062": {
          "model_module": "@jupyter-widgets/base",
          "model_name": "LayoutModel",
          "model_module_version": "1.2.0",
          "state": {
            "_model_module": "@jupyter-widgets/base",
            "_model_module_version": "1.2.0",
            "_model_name": "LayoutModel",
            "_view_count": null,
            "_view_module": "@jupyter-widgets/base",
            "_view_module_version": "1.2.0",
            "_view_name": "LayoutView",
            "align_content": null,
            "align_items": null,
            "align_self": null,
            "border": null,
            "bottom": null,
            "display": null,
            "flex": null,
            "flex_flow": null,
            "grid_area": null,
            "grid_auto_columns": null,
            "grid_auto_flow": null,
            "grid_auto_rows": null,
            "grid_column": null,
            "grid_gap": null,
            "grid_row": null,
            "grid_template_areas": null,
            "grid_template_columns": null,
            "grid_template_rows": null,
            "height": null,
            "justify_content": null,
            "justify_items": null,
            "left": null,
            "margin": null,
            "max_height": null,
            "max_width": null,
            "min_height": null,
            "min_width": null,
            "object_fit": null,
            "object_position": null,
            "order": null,
            "overflow": null,
            "overflow_x": null,
            "overflow_y": null,
            "padding": null,
            "right": null,
            "top": null,
            "visibility": null,
            "width": null
          }
        },
        "172f917ad9e14900ad4b4d1dfd71bc36": {
          "model_module": "@jupyter-widgets/controls",
          "model_name": "DescriptionStyleModel",
          "model_module_version": "1.5.0",
          "state": {
            "_model_module": "@jupyter-widgets/controls",
            "_model_module_version": "1.5.0",
            "_model_name": "DescriptionStyleModel",
            "_view_count": null,
            "_view_module": "@jupyter-widgets/base",
            "_view_module_version": "1.2.0",
            "_view_name": "StyleView",
            "description_width": ""
          }
        },
        "76f9f1b260a74bc085026fcf6009da6e": {
          "model_module": "@jupyter-widgets/controls",
          "model_name": "HBoxModel",
          "model_module_version": "1.5.0",
          "state": {
            "_dom_classes": [],
            "_model_module": "@jupyter-widgets/controls",
            "_model_module_version": "1.5.0",
            "_model_name": "HBoxModel",
            "_view_count": null,
            "_view_module": "@jupyter-widgets/controls",
            "_view_module_version": "1.5.0",
            "_view_name": "HBoxView",
            "box_style": "",
            "children": [
              "IPY_MODEL_9782ca6e3c6140c3afb586b88745cbea",
              "IPY_MODEL_b6e79ca48f534047ba6fb29d8e5e6fb7",
              "IPY_MODEL_f8f48ca6cce64b7580966e83c9b6893d"
            ],
            "layout": "IPY_MODEL_0388172f70414d879fd3eafc42b5832f"
          }
        },
        "9782ca6e3c6140c3afb586b88745cbea": {
          "model_module": "@jupyter-widgets/controls",
          "model_name": "HTMLModel",
          "model_module_version": "1.5.0",
          "state": {
            "_dom_classes": [],
            "_model_module": "@jupyter-widgets/controls",
            "_model_module_version": "1.5.0",
            "_model_name": "HTMLModel",
            "_view_count": null,
            "_view_module": "@jupyter-widgets/controls",
            "_view_module_version": "1.5.0",
            "_view_name": "HTMLView",
            "description": "",
            "description_tooltip": null,
            "layout": "IPY_MODEL_f89951ae12974886b2f55acdc7107213",
            "placeholder": "​",
            "style": "IPY_MODEL_0daaaae2e69e4e159064e78737d7f0ad",
            "value": "Downloading (…)c926f/tokenizer.json: 100%"
          }
        },
        "b6e79ca48f534047ba6fb29d8e5e6fb7": {
          "model_module": "@jupyter-widgets/controls",
          "model_name": "FloatProgressModel",
          "model_module_version": "1.5.0",
          "state": {
            "_dom_classes": [],
            "_model_module": "@jupyter-widgets/controls",
            "_model_module_version": "1.5.0",
            "_model_name": "FloatProgressModel",
            "_view_count": null,
            "_view_module": "@jupyter-widgets/controls",
            "_view_module_version": "1.5.0",
            "_view_name": "ProgressView",
            "bar_style": "success",
            "description": "",
            "description_tooltip": null,
            "layout": "IPY_MODEL_b5de172eba944eeea3133ecada533c0e",
            "max": 466247,
            "min": 0,
            "orientation": "horizontal",
            "style": "IPY_MODEL_7f05211212754fc4a3e13b6e5974a627",
            "value": 466247
          }
        },
        "f8f48ca6cce64b7580966e83c9b6893d": {
          "model_module": "@jupyter-widgets/controls",
          "model_name": "HTMLModel",
          "model_module_version": "1.5.0",
          "state": {
            "_dom_classes": [],
            "_model_module": "@jupyter-widgets/controls",
            "_model_module_version": "1.5.0",
            "_model_name": "HTMLModel",
            "_view_count": null,
            "_view_module": "@jupyter-widgets/controls",
            "_view_module_version": "1.5.0",
            "_view_name": "HTMLView",
            "description": "",
            "description_tooltip": null,
            "layout": "IPY_MODEL_78cf0cff20ab4121b8cd4953914e9e71",
            "placeholder": "​",
            "style": "IPY_MODEL_72d2f278291940fea7850a22941205d7",
            "value": " 466k/466k [00:00&lt;00:00, 5.34MB/s]"
          }
        },
        "0388172f70414d879fd3eafc42b5832f": {
          "model_module": "@jupyter-widgets/base",
          "model_name": "LayoutModel",
          "model_module_version": "1.2.0",
          "state": {
            "_model_module": "@jupyter-widgets/base",
            "_model_module_version": "1.2.0",
            "_model_name": "LayoutModel",
            "_view_count": null,
            "_view_module": "@jupyter-widgets/base",
            "_view_module_version": "1.2.0",
            "_view_name": "LayoutView",
            "align_content": null,
            "align_items": null,
            "align_self": null,
            "border": null,
            "bottom": null,
            "display": null,
            "flex": null,
            "flex_flow": null,
            "grid_area": null,
            "grid_auto_columns": null,
            "grid_auto_flow": null,
            "grid_auto_rows": null,
            "grid_column": null,
            "grid_gap": null,
            "grid_row": null,
            "grid_template_areas": null,
            "grid_template_columns": null,
            "grid_template_rows": null,
            "height": null,
            "justify_content": null,
            "justify_items": null,
            "left": null,
            "margin": null,
            "max_height": null,
            "max_width": null,
            "min_height": null,
            "min_width": null,
            "object_fit": null,
            "object_position": null,
            "order": null,
            "overflow": null,
            "overflow_x": null,
            "overflow_y": null,
            "padding": null,
            "right": null,
            "top": null,
            "visibility": null,
            "width": null
          }
        },
        "f89951ae12974886b2f55acdc7107213": {
          "model_module": "@jupyter-widgets/base",
          "model_name": "LayoutModel",
          "model_module_version": "1.2.0",
          "state": {
            "_model_module": "@jupyter-widgets/base",
            "_model_module_version": "1.2.0",
            "_model_name": "LayoutModel",
            "_view_count": null,
            "_view_module": "@jupyter-widgets/base",
            "_view_module_version": "1.2.0",
            "_view_name": "LayoutView",
            "align_content": null,
            "align_items": null,
            "align_self": null,
            "border": null,
            "bottom": null,
            "display": null,
            "flex": null,
            "flex_flow": null,
            "grid_area": null,
            "grid_auto_columns": null,
            "grid_auto_flow": null,
            "grid_auto_rows": null,
            "grid_column": null,
            "grid_gap": null,
            "grid_row": null,
            "grid_template_areas": null,
            "grid_template_columns": null,
            "grid_template_rows": null,
            "height": null,
            "justify_content": null,
            "justify_items": null,
            "left": null,
            "margin": null,
            "max_height": null,
            "max_width": null,
            "min_height": null,
            "min_width": null,
            "object_fit": null,
            "object_position": null,
            "order": null,
            "overflow": null,
            "overflow_x": null,
            "overflow_y": null,
            "padding": null,
            "right": null,
            "top": null,
            "visibility": null,
            "width": null
          }
        },
        "0daaaae2e69e4e159064e78737d7f0ad": {
          "model_module": "@jupyter-widgets/controls",
          "model_name": "DescriptionStyleModel",
          "model_module_version": "1.5.0",
          "state": {
            "_model_module": "@jupyter-widgets/controls",
            "_model_module_version": "1.5.0",
            "_model_name": "DescriptionStyleModel",
            "_view_count": null,
            "_view_module": "@jupyter-widgets/base",
            "_view_module_version": "1.2.0",
            "_view_name": "StyleView",
            "description_width": ""
          }
        },
        "b5de172eba944eeea3133ecada533c0e": {
          "model_module": "@jupyter-widgets/base",
          "model_name": "LayoutModel",
          "model_module_version": "1.2.0",
          "state": {
            "_model_module": "@jupyter-widgets/base",
            "_model_module_version": "1.2.0",
            "_model_name": "LayoutModel",
            "_view_count": null,
            "_view_module": "@jupyter-widgets/base",
            "_view_module_version": "1.2.0",
            "_view_name": "LayoutView",
            "align_content": null,
            "align_items": null,
            "align_self": null,
            "border": null,
            "bottom": null,
            "display": null,
            "flex": null,
            "flex_flow": null,
            "grid_area": null,
            "grid_auto_columns": null,
            "grid_auto_flow": null,
            "grid_auto_rows": null,
            "grid_column": null,
            "grid_gap": null,
            "grid_row": null,
            "grid_template_areas": null,
            "grid_template_columns": null,
            "grid_template_rows": null,
            "height": null,
            "justify_content": null,
            "justify_items": null,
            "left": null,
            "margin": null,
            "max_height": null,
            "max_width": null,
            "min_height": null,
            "min_width": null,
            "object_fit": null,
            "object_position": null,
            "order": null,
            "overflow": null,
            "overflow_x": null,
            "overflow_y": null,
            "padding": null,
            "right": null,
            "top": null,
            "visibility": null,
            "width": null
          }
        },
        "7f05211212754fc4a3e13b6e5974a627": {
          "model_module": "@jupyter-widgets/controls",
          "model_name": "ProgressStyleModel",
          "model_module_version": "1.5.0",
          "state": {
            "_model_module": "@jupyter-widgets/controls",
            "_model_module_version": "1.5.0",
            "_model_name": "ProgressStyleModel",
            "_view_count": null,
            "_view_module": "@jupyter-widgets/base",
            "_view_module_version": "1.2.0",
            "_view_name": "StyleView",
            "bar_color": null,
            "description_width": ""
          }
        },
        "78cf0cff20ab4121b8cd4953914e9e71": {
          "model_module": "@jupyter-widgets/base",
          "model_name": "LayoutModel",
          "model_module_version": "1.2.0",
          "state": {
            "_model_module": "@jupyter-widgets/base",
            "_model_module_version": "1.2.0",
            "_model_name": "LayoutModel",
            "_view_count": null,
            "_view_module": "@jupyter-widgets/base",
            "_view_module_version": "1.2.0",
            "_view_name": "LayoutView",
            "align_content": null,
            "align_items": null,
            "align_self": null,
            "border": null,
            "bottom": null,
            "display": null,
            "flex": null,
            "flex_flow": null,
            "grid_area": null,
            "grid_auto_columns": null,
            "grid_auto_flow": null,
            "grid_auto_rows": null,
            "grid_column": null,
            "grid_gap": null,
            "grid_row": null,
            "grid_template_areas": null,
            "grid_template_columns": null,
            "grid_template_rows": null,
            "height": null,
            "justify_content": null,
            "justify_items": null,
            "left": null,
            "margin": null,
            "max_height": null,
            "max_width": null,
            "min_height": null,
            "min_width": null,
            "object_fit": null,
            "object_position": null,
            "order": null,
            "overflow": null,
            "overflow_x": null,
            "overflow_y": null,
            "padding": null,
            "right": null,
            "top": null,
            "visibility": null,
            "width": null
          }
        },
        "72d2f278291940fea7850a22941205d7": {
          "model_module": "@jupyter-widgets/controls",
          "model_name": "DescriptionStyleModel",
          "model_module_version": "1.5.0",
          "state": {
            "_model_module": "@jupyter-widgets/controls",
            "_model_module_version": "1.5.0",
            "_model_name": "DescriptionStyleModel",
            "_view_count": null,
            "_view_module": "@jupyter-widgets/base",
            "_view_module_version": "1.2.0",
            "_view_name": "StyleView",
            "description_width": ""
          }
        },
        "dbc2ec5e1d2c4e42867ec055ce2ea6b4": {
          "model_module": "@jupyter-widgets/controls",
          "model_name": "HBoxModel",
          "model_module_version": "1.5.0",
          "state": {
            "_dom_classes": [],
            "_model_module": "@jupyter-widgets/controls",
            "_model_module_version": "1.5.0",
            "_model_name": "HBoxModel",
            "_view_count": null,
            "_view_module": "@jupyter-widgets/controls",
            "_view_module_version": "1.5.0",
            "_view_name": "HBoxView",
            "box_style": "",
            "children": [
              "IPY_MODEL_29ea60030a614e7fa6bfbb64e6befc80",
              "IPY_MODEL_081a1129c371408ea662725a2ba698b3",
              "IPY_MODEL_9575d5954e70481887c030cecea50629"
            ],
            "layout": "IPY_MODEL_2310b8a05fce40d8bc4157c0013a135a"
          }
        },
        "29ea60030a614e7fa6bfbb64e6befc80": {
          "model_module": "@jupyter-widgets/controls",
          "model_name": "HTMLModel",
          "model_module_version": "1.5.0",
          "state": {
            "_dom_classes": [],
            "_model_module": "@jupyter-widgets/controls",
            "_model_module_version": "1.5.0",
            "_model_name": "HTMLModel",
            "_view_count": null,
            "_view_module": "@jupyter-widgets/controls",
            "_view_module_version": "1.5.0",
            "_view_name": "HTMLView",
            "description": "",
            "description_tooltip": null,
            "layout": "IPY_MODEL_096711df79fa4c788920a2741934d15f",
            "placeholder": "​",
            "style": "IPY_MODEL_d6e980c84dab482ab06e37c9db94b326",
            "value": "Downloading (…)okenizer_config.json: 100%"
          }
        },
        "081a1129c371408ea662725a2ba698b3": {
          "model_module": "@jupyter-widgets/controls",
          "model_name": "FloatProgressModel",
          "model_module_version": "1.5.0",
          "state": {
            "_dom_classes": [],
            "_model_module": "@jupyter-widgets/controls",
            "_model_module_version": "1.5.0",
            "_model_name": "FloatProgressModel",
            "_view_count": null,
            "_view_module": "@jupyter-widgets/controls",
            "_view_module_version": "1.5.0",
            "_view_name": "ProgressView",
            "bar_style": "success",
            "description": "",
            "description_tooltip": null,
            "layout": "IPY_MODEL_e19ab3ee4fbb4bf6b0a239cb7a70ee89",
            "max": 352,
            "min": 0,
            "orientation": "horizontal",
            "style": "IPY_MODEL_a8a39ae1c80a480482fd215916999ffb",
            "value": 352
          }
        },
        "9575d5954e70481887c030cecea50629": {
          "model_module": "@jupyter-widgets/controls",
          "model_name": "HTMLModel",
          "model_module_version": "1.5.0",
          "state": {
            "_dom_classes": [],
            "_model_module": "@jupyter-widgets/controls",
            "_model_module_version": "1.5.0",
            "_model_name": "HTMLModel",
            "_view_count": null,
            "_view_module": "@jupyter-widgets/controls",
            "_view_module_version": "1.5.0",
            "_view_name": "HTMLView",
            "description": "",
            "description_tooltip": null,
            "layout": "IPY_MODEL_98d76229370743eab15fcd9d22398467",
            "placeholder": "​",
            "style": "IPY_MODEL_3e577ebd32554102bcc3220264cddd79",
            "value": " 352/352 [00:00&lt;00:00, 20.9kB/s]"
          }
        },
        "2310b8a05fce40d8bc4157c0013a135a": {
          "model_module": "@jupyter-widgets/base",
          "model_name": "LayoutModel",
          "model_module_version": "1.2.0",
          "state": {
            "_model_module": "@jupyter-widgets/base",
            "_model_module_version": "1.2.0",
            "_model_name": "LayoutModel",
            "_view_count": null,
            "_view_module": "@jupyter-widgets/base",
            "_view_module_version": "1.2.0",
            "_view_name": "LayoutView",
            "align_content": null,
            "align_items": null,
            "align_self": null,
            "border": null,
            "bottom": null,
            "display": null,
            "flex": null,
            "flex_flow": null,
            "grid_area": null,
            "grid_auto_columns": null,
            "grid_auto_flow": null,
            "grid_auto_rows": null,
            "grid_column": null,
            "grid_gap": null,
            "grid_row": null,
            "grid_template_areas": null,
            "grid_template_columns": null,
            "grid_template_rows": null,
            "height": null,
            "justify_content": null,
            "justify_items": null,
            "left": null,
            "margin": null,
            "max_height": null,
            "max_width": null,
            "min_height": null,
            "min_width": null,
            "object_fit": null,
            "object_position": null,
            "order": null,
            "overflow": null,
            "overflow_x": null,
            "overflow_y": null,
            "padding": null,
            "right": null,
            "top": null,
            "visibility": null,
            "width": null
          }
        },
        "096711df79fa4c788920a2741934d15f": {
          "model_module": "@jupyter-widgets/base",
          "model_name": "LayoutModel",
          "model_module_version": "1.2.0",
          "state": {
            "_model_module": "@jupyter-widgets/base",
            "_model_module_version": "1.2.0",
            "_model_name": "LayoutModel",
            "_view_count": null,
            "_view_module": "@jupyter-widgets/base",
            "_view_module_version": "1.2.0",
            "_view_name": "LayoutView",
            "align_content": null,
            "align_items": null,
            "align_self": null,
            "border": null,
            "bottom": null,
            "display": null,
            "flex": null,
            "flex_flow": null,
            "grid_area": null,
            "grid_auto_columns": null,
            "grid_auto_flow": null,
            "grid_auto_rows": null,
            "grid_column": null,
            "grid_gap": null,
            "grid_row": null,
            "grid_template_areas": null,
            "grid_template_columns": null,
            "grid_template_rows": null,
            "height": null,
            "justify_content": null,
            "justify_items": null,
            "left": null,
            "margin": null,
            "max_height": null,
            "max_width": null,
            "min_height": null,
            "min_width": null,
            "object_fit": null,
            "object_position": null,
            "order": null,
            "overflow": null,
            "overflow_x": null,
            "overflow_y": null,
            "padding": null,
            "right": null,
            "top": null,
            "visibility": null,
            "width": null
          }
        },
        "d6e980c84dab482ab06e37c9db94b326": {
          "model_module": "@jupyter-widgets/controls",
          "model_name": "DescriptionStyleModel",
          "model_module_version": "1.5.0",
          "state": {
            "_model_module": "@jupyter-widgets/controls",
            "_model_module_version": "1.5.0",
            "_model_name": "DescriptionStyleModel",
            "_view_count": null,
            "_view_module": "@jupyter-widgets/base",
            "_view_module_version": "1.2.0",
            "_view_name": "StyleView",
            "description_width": ""
          }
        },
        "e19ab3ee4fbb4bf6b0a239cb7a70ee89": {
          "model_module": "@jupyter-widgets/base",
          "model_name": "LayoutModel",
          "model_module_version": "1.2.0",
          "state": {
            "_model_module": "@jupyter-widgets/base",
            "_model_module_version": "1.2.0",
            "_model_name": "LayoutModel",
            "_view_count": null,
            "_view_module": "@jupyter-widgets/base",
            "_view_module_version": "1.2.0",
            "_view_name": "LayoutView",
            "align_content": null,
            "align_items": null,
            "align_self": null,
            "border": null,
            "bottom": null,
            "display": null,
            "flex": null,
            "flex_flow": null,
            "grid_area": null,
            "grid_auto_columns": null,
            "grid_auto_flow": null,
            "grid_auto_rows": null,
            "grid_column": null,
            "grid_gap": null,
            "grid_row": null,
            "grid_template_areas": null,
            "grid_template_columns": null,
            "grid_template_rows": null,
            "height": null,
            "justify_content": null,
            "justify_items": null,
            "left": null,
            "margin": null,
            "max_height": null,
            "max_width": null,
            "min_height": null,
            "min_width": null,
            "object_fit": null,
            "object_position": null,
            "order": null,
            "overflow": null,
            "overflow_x": null,
            "overflow_y": null,
            "padding": null,
            "right": null,
            "top": null,
            "visibility": null,
            "width": null
          }
        },
        "a8a39ae1c80a480482fd215916999ffb": {
          "model_module": "@jupyter-widgets/controls",
          "model_name": "ProgressStyleModel",
          "model_module_version": "1.5.0",
          "state": {
            "_model_module": "@jupyter-widgets/controls",
            "_model_module_version": "1.5.0",
            "_model_name": "ProgressStyleModel",
            "_view_count": null,
            "_view_module": "@jupyter-widgets/base",
            "_view_module_version": "1.2.0",
            "_view_name": "StyleView",
            "bar_color": null,
            "description_width": ""
          }
        },
        "98d76229370743eab15fcd9d22398467": {
          "model_module": "@jupyter-widgets/base",
          "model_name": "LayoutModel",
          "model_module_version": "1.2.0",
          "state": {
            "_model_module": "@jupyter-widgets/base",
            "_model_module_version": "1.2.0",
            "_model_name": "LayoutModel",
            "_view_count": null,
            "_view_module": "@jupyter-widgets/base",
            "_view_module_version": "1.2.0",
            "_view_name": "LayoutView",
            "align_content": null,
            "align_items": null,
            "align_self": null,
            "border": null,
            "bottom": null,
            "display": null,
            "flex": null,
            "flex_flow": null,
            "grid_area": null,
            "grid_auto_columns": null,
            "grid_auto_flow": null,
            "grid_auto_rows": null,
            "grid_column": null,
            "grid_gap": null,
            "grid_row": null,
            "grid_template_areas": null,
            "grid_template_columns": null,
            "grid_template_rows": null,
            "height": null,
            "justify_content": null,
            "justify_items": null,
            "left": null,
            "margin": null,
            "max_height": null,
            "max_width": null,
            "min_height": null,
            "min_width": null,
            "object_fit": null,
            "object_position": null,
            "order": null,
            "overflow": null,
            "overflow_x": null,
            "overflow_y": null,
            "padding": null,
            "right": null,
            "top": null,
            "visibility": null,
            "width": null
          }
        },
        "3e577ebd32554102bcc3220264cddd79": {
          "model_module": "@jupyter-widgets/controls",
          "model_name": "DescriptionStyleModel",
          "model_module_version": "1.5.0",
          "state": {
            "_model_module": "@jupyter-widgets/controls",
            "_model_module_version": "1.5.0",
            "_model_name": "DescriptionStyleModel",
            "_view_count": null,
            "_view_module": "@jupyter-widgets/base",
            "_view_module_version": "1.2.0",
            "_view_name": "StyleView",
            "description_width": ""
          }
        },
        "ddadbf5487dd4aab8bc95cc3a4a030e9": {
          "model_module": "@jupyter-widgets/controls",
          "model_name": "HBoxModel",
          "model_module_version": "1.5.0",
          "state": {
            "_dom_classes": [],
            "_model_module": "@jupyter-widgets/controls",
            "_model_module_version": "1.5.0",
            "_model_name": "HBoxModel",
            "_view_count": null,
            "_view_module": "@jupyter-widgets/controls",
            "_view_module_version": "1.5.0",
            "_view_name": "HBoxView",
            "box_style": "",
            "children": [
              "IPY_MODEL_725fe3f29cab4a71a018b4e5dba960e1",
              "IPY_MODEL_98f0a0fe6a144ac39e7155e646fd0774",
              "IPY_MODEL_d88d81ff596a4366a38988d21a258e09"
            ],
            "layout": "IPY_MODEL_9fc44dbc3c974ebf9137b75c60a23d97"
          }
        },
        "725fe3f29cab4a71a018b4e5dba960e1": {
          "model_module": "@jupyter-widgets/controls",
          "model_name": "HTMLModel",
          "model_module_version": "1.5.0",
          "state": {
            "_dom_classes": [],
            "_model_module": "@jupyter-widgets/controls",
            "_model_module_version": "1.5.0",
            "_model_name": "HTMLModel",
            "_view_count": null,
            "_view_module": "@jupyter-widgets/controls",
            "_view_module_version": "1.5.0",
            "_view_name": "HTMLView",
            "description": "",
            "description_tooltip": null,
            "layout": "IPY_MODEL_443ffa0a7c6b45a187cb709fa01d48ad",
            "placeholder": "​",
            "style": "IPY_MODEL_e0f07600eef74dd59b2a77f2e2f40e1f",
            "value": "Downloading (…)926f/train_script.py: 100%"
          }
        },
        "98f0a0fe6a144ac39e7155e646fd0774": {
          "model_module": "@jupyter-widgets/controls",
          "model_name": "FloatProgressModel",
          "model_module_version": "1.5.0",
          "state": {
            "_dom_classes": [],
            "_model_module": "@jupyter-widgets/controls",
            "_model_module_version": "1.5.0",
            "_model_name": "FloatProgressModel",
            "_view_count": null,
            "_view_module": "@jupyter-widgets/controls",
            "_view_module_version": "1.5.0",
            "_view_name": "ProgressView",
            "bar_style": "success",
            "description": "",
            "description_tooltip": null,
            "layout": "IPY_MODEL_b64bf44cffe346d98ec3c88e32e9ddae",
            "max": 13159,
            "min": 0,
            "orientation": "horizontal",
            "style": "IPY_MODEL_1f334dcc1c724f518cb2dbe6dcd5f903",
            "value": 13159
          }
        },
        "d88d81ff596a4366a38988d21a258e09": {
          "model_module": "@jupyter-widgets/controls",
          "model_name": "HTMLModel",
          "model_module_version": "1.5.0",
          "state": {
            "_dom_classes": [],
            "_model_module": "@jupyter-widgets/controls",
            "_model_module_version": "1.5.0",
            "_model_name": "HTMLModel",
            "_view_count": null,
            "_view_module": "@jupyter-widgets/controls",
            "_view_module_version": "1.5.0",
            "_view_name": "HTMLView",
            "description": "",
            "description_tooltip": null,
            "layout": "IPY_MODEL_d49485e417f4494faab34c44399db83a",
            "placeholder": "​",
            "style": "IPY_MODEL_79f265a3131c4734bb9195b82b1f6fd2",
            "value": " 13.2k/13.2k [00:00&lt;00:00, 687kB/s]"
          }
        },
        "9fc44dbc3c974ebf9137b75c60a23d97": {
          "model_module": "@jupyter-widgets/base",
          "model_name": "LayoutModel",
          "model_module_version": "1.2.0",
          "state": {
            "_model_module": "@jupyter-widgets/base",
            "_model_module_version": "1.2.0",
            "_model_name": "LayoutModel",
            "_view_count": null,
            "_view_module": "@jupyter-widgets/base",
            "_view_module_version": "1.2.0",
            "_view_name": "LayoutView",
            "align_content": null,
            "align_items": null,
            "align_self": null,
            "border": null,
            "bottom": null,
            "display": null,
            "flex": null,
            "flex_flow": null,
            "grid_area": null,
            "grid_auto_columns": null,
            "grid_auto_flow": null,
            "grid_auto_rows": null,
            "grid_column": null,
            "grid_gap": null,
            "grid_row": null,
            "grid_template_areas": null,
            "grid_template_columns": null,
            "grid_template_rows": null,
            "height": null,
            "justify_content": null,
            "justify_items": null,
            "left": null,
            "margin": null,
            "max_height": null,
            "max_width": null,
            "min_height": null,
            "min_width": null,
            "object_fit": null,
            "object_position": null,
            "order": null,
            "overflow": null,
            "overflow_x": null,
            "overflow_y": null,
            "padding": null,
            "right": null,
            "top": null,
            "visibility": null,
            "width": null
          }
        },
        "443ffa0a7c6b45a187cb709fa01d48ad": {
          "model_module": "@jupyter-widgets/base",
          "model_name": "LayoutModel",
          "model_module_version": "1.2.0",
          "state": {
            "_model_module": "@jupyter-widgets/base",
            "_model_module_version": "1.2.0",
            "_model_name": "LayoutModel",
            "_view_count": null,
            "_view_module": "@jupyter-widgets/base",
            "_view_module_version": "1.2.0",
            "_view_name": "LayoutView",
            "align_content": null,
            "align_items": null,
            "align_self": null,
            "border": null,
            "bottom": null,
            "display": null,
            "flex": null,
            "flex_flow": null,
            "grid_area": null,
            "grid_auto_columns": null,
            "grid_auto_flow": null,
            "grid_auto_rows": null,
            "grid_column": null,
            "grid_gap": null,
            "grid_row": null,
            "grid_template_areas": null,
            "grid_template_columns": null,
            "grid_template_rows": null,
            "height": null,
            "justify_content": null,
            "justify_items": null,
            "left": null,
            "margin": null,
            "max_height": null,
            "max_width": null,
            "min_height": null,
            "min_width": null,
            "object_fit": null,
            "object_position": null,
            "order": null,
            "overflow": null,
            "overflow_x": null,
            "overflow_y": null,
            "padding": null,
            "right": null,
            "top": null,
            "visibility": null,
            "width": null
          }
        },
        "e0f07600eef74dd59b2a77f2e2f40e1f": {
          "model_module": "@jupyter-widgets/controls",
          "model_name": "DescriptionStyleModel",
          "model_module_version": "1.5.0",
          "state": {
            "_model_module": "@jupyter-widgets/controls",
            "_model_module_version": "1.5.0",
            "_model_name": "DescriptionStyleModel",
            "_view_count": null,
            "_view_module": "@jupyter-widgets/base",
            "_view_module_version": "1.2.0",
            "_view_name": "StyleView",
            "description_width": ""
          }
        },
        "b64bf44cffe346d98ec3c88e32e9ddae": {
          "model_module": "@jupyter-widgets/base",
          "model_name": "LayoutModel",
          "model_module_version": "1.2.0",
          "state": {
            "_model_module": "@jupyter-widgets/base",
            "_model_module_version": "1.2.0",
            "_model_name": "LayoutModel",
            "_view_count": null,
            "_view_module": "@jupyter-widgets/base",
            "_view_module_version": "1.2.0",
            "_view_name": "LayoutView",
            "align_content": null,
            "align_items": null,
            "align_self": null,
            "border": null,
            "bottom": null,
            "display": null,
            "flex": null,
            "flex_flow": null,
            "grid_area": null,
            "grid_auto_columns": null,
            "grid_auto_flow": null,
            "grid_auto_rows": null,
            "grid_column": null,
            "grid_gap": null,
            "grid_row": null,
            "grid_template_areas": null,
            "grid_template_columns": null,
            "grid_template_rows": null,
            "height": null,
            "justify_content": null,
            "justify_items": null,
            "left": null,
            "margin": null,
            "max_height": null,
            "max_width": null,
            "min_height": null,
            "min_width": null,
            "object_fit": null,
            "object_position": null,
            "order": null,
            "overflow": null,
            "overflow_x": null,
            "overflow_y": null,
            "padding": null,
            "right": null,
            "top": null,
            "visibility": null,
            "width": null
          }
        },
        "1f334dcc1c724f518cb2dbe6dcd5f903": {
          "model_module": "@jupyter-widgets/controls",
          "model_name": "ProgressStyleModel",
          "model_module_version": "1.5.0",
          "state": {
            "_model_module": "@jupyter-widgets/controls",
            "_model_module_version": "1.5.0",
            "_model_name": "ProgressStyleModel",
            "_view_count": null,
            "_view_module": "@jupyter-widgets/base",
            "_view_module_version": "1.2.0",
            "_view_name": "StyleView",
            "bar_color": null,
            "description_width": ""
          }
        },
        "d49485e417f4494faab34c44399db83a": {
          "model_module": "@jupyter-widgets/base",
          "model_name": "LayoutModel",
          "model_module_version": "1.2.0",
          "state": {
            "_model_module": "@jupyter-widgets/base",
            "_model_module_version": "1.2.0",
            "_model_name": "LayoutModel",
            "_view_count": null,
            "_view_module": "@jupyter-widgets/base",
            "_view_module_version": "1.2.0",
            "_view_name": "LayoutView",
            "align_content": null,
            "align_items": null,
            "align_self": null,
            "border": null,
            "bottom": null,
            "display": null,
            "flex": null,
            "flex_flow": null,
            "grid_area": null,
            "grid_auto_columns": null,
            "grid_auto_flow": null,
            "grid_auto_rows": null,
            "grid_column": null,
            "grid_gap": null,
            "grid_row": null,
            "grid_template_areas": null,
            "grid_template_columns": null,
            "grid_template_rows": null,
            "height": null,
            "justify_content": null,
            "justify_items": null,
            "left": null,
            "margin": null,
            "max_height": null,
            "max_width": null,
            "min_height": null,
            "min_width": null,
            "object_fit": null,
            "object_position": null,
            "order": null,
            "overflow": null,
            "overflow_x": null,
            "overflow_y": null,
            "padding": null,
            "right": null,
            "top": null,
            "visibility": null,
            "width": null
          }
        },
        "79f265a3131c4734bb9195b82b1f6fd2": {
          "model_module": "@jupyter-widgets/controls",
          "model_name": "DescriptionStyleModel",
          "model_module_version": "1.5.0",
          "state": {
            "_model_module": "@jupyter-widgets/controls",
            "_model_module_version": "1.5.0",
            "_model_name": "DescriptionStyleModel",
            "_view_count": null,
            "_view_module": "@jupyter-widgets/base",
            "_view_module_version": "1.2.0",
            "_view_name": "StyleView",
            "description_width": ""
          }
        },
        "de6dfe314dc24ef58204c3cb8b3b0fbd": {
          "model_module": "@jupyter-widgets/controls",
          "model_name": "HBoxModel",
          "model_module_version": "1.5.0",
          "state": {
            "_dom_classes": [],
            "_model_module": "@jupyter-widgets/controls",
            "_model_module_version": "1.5.0",
            "_model_name": "HBoxModel",
            "_view_count": null,
            "_view_module": "@jupyter-widgets/controls",
            "_view_module_version": "1.5.0",
            "_view_name": "HBoxView",
            "box_style": "",
            "children": [
              "IPY_MODEL_20a4187ebecd4f0eba328c7a0dfa2e06",
              "IPY_MODEL_a4e2719cd9e54628a52636d40197c34d",
              "IPY_MODEL_af0bfd9e71a74039aa8b78dc86297bba"
            ],
            "layout": "IPY_MODEL_3f0ac3befd884069a99ab9ae49e00210"
          }
        },
        "20a4187ebecd4f0eba328c7a0dfa2e06": {
          "model_module": "@jupyter-widgets/controls",
          "model_name": "HTMLModel",
          "model_module_version": "1.5.0",
          "state": {
            "_dom_classes": [],
            "_model_module": "@jupyter-widgets/controls",
            "_model_module_version": "1.5.0",
            "_model_name": "HTMLModel",
            "_view_count": null,
            "_view_module": "@jupyter-widgets/controls",
            "_view_module_version": "1.5.0",
            "_view_name": "HTMLView",
            "description": "",
            "description_tooltip": null,
            "layout": "IPY_MODEL_c3e6542b11644caab78d2470d3213d09",
            "placeholder": "​",
            "style": "IPY_MODEL_2a49928b007d4da3a16f42b19f6a046e",
            "value": "Downloading (…)8101fc926f/vocab.txt: 100%"
          }
        },
        "a4e2719cd9e54628a52636d40197c34d": {
          "model_module": "@jupyter-widgets/controls",
          "model_name": "FloatProgressModel",
          "model_module_version": "1.5.0",
          "state": {
            "_dom_classes": [],
            "_model_module": "@jupyter-widgets/controls",
            "_model_module_version": "1.5.0",
            "_model_name": "FloatProgressModel",
            "_view_count": null,
            "_view_module": "@jupyter-widgets/controls",
            "_view_module_version": "1.5.0",
            "_view_name": "ProgressView",
            "bar_style": "success",
            "description": "",
            "description_tooltip": null,
            "layout": "IPY_MODEL_60638b685ed74f8c9a8cff9183ae23fd",
            "max": 231508,
            "min": 0,
            "orientation": "horizontal",
            "style": "IPY_MODEL_662b94d07ee1488aa6e0ce1a07159cda",
            "value": 231508
          }
        },
        "af0bfd9e71a74039aa8b78dc86297bba": {
          "model_module": "@jupyter-widgets/controls",
          "model_name": "HTMLModel",
          "model_module_version": "1.5.0",
          "state": {
            "_dom_classes": [],
            "_model_module": "@jupyter-widgets/controls",
            "_model_module_version": "1.5.0",
            "_model_name": "HTMLModel",
            "_view_count": null,
            "_view_module": "@jupyter-widgets/controls",
            "_view_module_version": "1.5.0",
            "_view_name": "HTMLView",
            "description": "",
            "description_tooltip": null,
            "layout": "IPY_MODEL_a8a6ace725af46daaae2b7c287f94be3",
            "placeholder": "​",
            "style": "IPY_MODEL_01f4c47f20fd433cb26e810241d70967",
            "value": " 232k/232k [00:00&lt;00:00, 4.35MB/s]"
          }
        },
        "3f0ac3befd884069a99ab9ae49e00210": {
          "model_module": "@jupyter-widgets/base",
          "model_name": "LayoutModel",
          "model_module_version": "1.2.0",
          "state": {
            "_model_module": "@jupyter-widgets/base",
            "_model_module_version": "1.2.0",
            "_model_name": "LayoutModel",
            "_view_count": null,
            "_view_module": "@jupyter-widgets/base",
            "_view_module_version": "1.2.0",
            "_view_name": "LayoutView",
            "align_content": null,
            "align_items": null,
            "align_self": null,
            "border": null,
            "bottom": null,
            "display": null,
            "flex": null,
            "flex_flow": null,
            "grid_area": null,
            "grid_auto_columns": null,
            "grid_auto_flow": null,
            "grid_auto_rows": null,
            "grid_column": null,
            "grid_gap": null,
            "grid_row": null,
            "grid_template_areas": null,
            "grid_template_columns": null,
            "grid_template_rows": null,
            "height": null,
            "justify_content": null,
            "justify_items": null,
            "left": null,
            "margin": null,
            "max_height": null,
            "max_width": null,
            "min_height": null,
            "min_width": null,
            "object_fit": null,
            "object_position": null,
            "order": null,
            "overflow": null,
            "overflow_x": null,
            "overflow_y": null,
            "padding": null,
            "right": null,
            "top": null,
            "visibility": null,
            "width": null
          }
        },
        "c3e6542b11644caab78d2470d3213d09": {
          "model_module": "@jupyter-widgets/base",
          "model_name": "LayoutModel",
          "model_module_version": "1.2.0",
          "state": {
            "_model_module": "@jupyter-widgets/base",
            "_model_module_version": "1.2.0",
            "_model_name": "LayoutModel",
            "_view_count": null,
            "_view_module": "@jupyter-widgets/base",
            "_view_module_version": "1.2.0",
            "_view_name": "LayoutView",
            "align_content": null,
            "align_items": null,
            "align_self": null,
            "border": null,
            "bottom": null,
            "display": null,
            "flex": null,
            "flex_flow": null,
            "grid_area": null,
            "grid_auto_columns": null,
            "grid_auto_flow": null,
            "grid_auto_rows": null,
            "grid_column": null,
            "grid_gap": null,
            "grid_row": null,
            "grid_template_areas": null,
            "grid_template_columns": null,
            "grid_template_rows": null,
            "height": null,
            "justify_content": null,
            "justify_items": null,
            "left": null,
            "margin": null,
            "max_height": null,
            "max_width": null,
            "min_height": null,
            "min_width": null,
            "object_fit": null,
            "object_position": null,
            "order": null,
            "overflow": null,
            "overflow_x": null,
            "overflow_y": null,
            "padding": null,
            "right": null,
            "top": null,
            "visibility": null,
            "width": null
          }
        },
        "2a49928b007d4da3a16f42b19f6a046e": {
          "model_module": "@jupyter-widgets/controls",
          "model_name": "DescriptionStyleModel",
          "model_module_version": "1.5.0",
          "state": {
            "_model_module": "@jupyter-widgets/controls",
            "_model_module_version": "1.5.0",
            "_model_name": "DescriptionStyleModel",
            "_view_count": null,
            "_view_module": "@jupyter-widgets/base",
            "_view_module_version": "1.2.0",
            "_view_name": "StyleView",
            "description_width": ""
          }
        },
        "60638b685ed74f8c9a8cff9183ae23fd": {
          "model_module": "@jupyter-widgets/base",
          "model_name": "LayoutModel",
          "model_module_version": "1.2.0",
          "state": {
            "_model_module": "@jupyter-widgets/base",
            "_model_module_version": "1.2.0",
            "_model_name": "LayoutModel",
            "_view_count": null,
            "_view_module": "@jupyter-widgets/base",
            "_view_module_version": "1.2.0",
            "_view_name": "LayoutView",
            "align_content": null,
            "align_items": null,
            "align_self": null,
            "border": null,
            "bottom": null,
            "display": null,
            "flex": null,
            "flex_flow": null,
            "grid_area": null,
            "grid_auto_columns": null,
            "grid_auto_flow": null,
            "grid_auto_rows": null,
            "grid_column": null,
            "grid_gap": null,
            "grid_row": null,
            "grid_template_areas": null,
            "grid_template_columns": null,
            "grid_template_rows": null,
            "height": null,
            "justify_content": null,
            "justify_items": null,
            "left": null,
            "margin": null,
            "max_height": null,
            "max_width": null,
            "min_height": null,
            "min_width": null,
            "object_fit": null,
            "object_position": null,
            "order": null,
            "overflow": null,
            "overflow_x": null,
            "overflow_y": null,
            "padding": null,
            "right": null,
            "top": null,
            "visibility": null,
            "width": null
          }
        },
        "662b94d07ee1488aa6e0ce1a07159cda": {
          "model_module": "@jupyter-widgets/controls",
          "model_name": "ProgressStyleModel",
          "model_module_version": "1.5.0",
          "state": {
            "_model_module": "@jupyter-widgets/controls",
            "_model_module_version": "1.5.0",
            "_model_name": "ProgressStyleModel",
            "_view_count": null,
            "_view_module": "@jupyter-widgets/base",
            "_view_module_version": "1.2.0",
            "_view_name": "StyleView",
            "bar_color": null,
            "description_width": ""
          }
        },
        "a8a6ace725af46daaae2b7c287f94be3": {
          "model_module": "@jupyter-widgets/base",
          "model_name": "LayoutModel",
          "model_module_version": "1.2.0",
          "state": {
            "_model_module": "@jupyter-widgets/base",
            "_model_module_version": "1.2.0",
            "_model_name": "LayoutModel",
            "_view_count": null,
            "_view_module": "@jupyter-widgets/base",
            "_view_module_version": "1.2.0",
            "_view_name": "LayoutView",
            "align_content": null,
            "align_items": null,
            "align_self": null,
            "border": null,
            "bottom": null,
            "display": null,
            "flex": null,
            "flex_flow": null,
            "grid_area": null,
            "grid_auto_columns": null,
            "grid_auto_flow": null,
            "grid_auto_rows": null,
            "grid_column": null,
            "grid_gap": null,
            "grid_row": null,
            "grid_template_areas": null,
            "grid_template_columns": null,
            "grid_template_rows": null,
            "height": null,
            "justify_content": null,
            "justify_items": null,
            "left": null,
            "margin": null,
            "max_height": null,
            "max_width": null,
            "min_height": null,
            "min_width": null,
            "object_fit": null,
            "object_position": null,
            "order": null,
            "overflow": null,
            "overflow_x": null,
            "overflow_y": null,
            "padding": null,
            "right": null,
            "top": null,
            "visibility": null,
            "width": null
          }
        },
        "01f4c47f20fd433cb26e810241d70967": {
          "model_module": "@jupyter-widgets/controls",
          "model_name": "DescriptionStyleModel",
          "model_module_version": "1.5.0",
          "state": {
            "_model_module": "@jupyter-widgets/controls",
            "_model_module_version": "1.5.0",
            "_model_name": "DescriptionStyleModel",
            "_view_count": null,
            "_view_module": "@jupyter-widgets/base",
            "_view_module_version": "1.2.0",
            "_view_name": "StyleView",
            "description_width": ""
          }
        },
        "40b1e15535a048c78fcb77ca4c8e1185": {
          "model_module": "@jupyter-widgets/controls",
          "model_name": "HBoxModel",
          "model_module_version": "1.5.0",
          "state": {
            "_dom_classes": [],
            "_model_module": "@jupyter-widgets/controls",
            "_model_module_version": "1.5.0",
            "_model_name": "HBoxModel",
            "_view_count": null,
            "_view_module": "@jupyter-widgets/controls",
            "_view_module_version": "1.5.0",
            "_view_name": "HBoxView",
            "box_style": "",
            "children": [
              "IPY_MODEL_305ec680c8f440cdad1903ec18fddf0a",
              "IPY_MODEL_7e08051d10484548aca956c454af4fa4",
              "IPY_MODEL_32dc8979ca5144979ec2cc9cebfc0f62"
            ],
            "layout": "IPY_MODEL_a798b8c1f2b84a598d8cf1fa776e826a"
          }
        },
        "305ec680c8f440cdad1903ec18fddf0a": {
          "model_module": "@jupyter-widgets/controls",
          "model_name": "HTMLModel",
          "model_module_version": "1.5.0",
          "state": {
            "_dom_classes": [],
            "_model_module": "@jupyter-widgets/controls",
            "_model_module_version": "1.5.0",
            "_model_name": "HTMLModel",
            "_view_count": null,
            "_view_module": "@jupyter-widgets/controls",
            "_view_module_version": "1.5.0",
            "_view_name": "HTMLView",
            "description": "",
            "description_tooltip": null,
            "layout": "IPY_MODEL_d75b002412ea46e2b5f65eb60a032019",
            "placeholder": "​",
            "style": "IPY_MODEL_438393587e8b44e681b6784af5cde857",
            "value": "Downloading (…)1fc926f/modules.json: 100%"
          }
        },
        "7e08051d10484548aca956c454af4fa4": {
          "model_module": "@jupyter-widgets/controls",
          "model_name": "FloatProgressModel",
          "model_module_version": "1.5.0",
          "state": {
            "_dom_classes": [],
            "_model_module": "@jupyter-widgets/controls",
            "_model_module_version": "1.5.0",
            "_model_name": "FloatProgressModel",
            "_view_count": null,
            "_view_module": "@jupyter-widgets/controls",
            "_view_module_version": "1.5.0",
            "_view_name": "ProgressView",
            "bar_style": "success",
            "description": "",
            "description_tooltip": null,
            "layout": "IPY_MODEL_849e008104cf4c459177d97096ff146f",
            "max": 349,
            "min": 0,
            "orientation": "horizontal",
            "style": "IPY_MODEL_a3cef0db491f44f19d6461dc1c982c41",
            "value": 349
          }
        },
        "32dc8979ca5144979ec2cc9cebfc0f62": {
          "model_module": "@jupyter-widgets/controls",
          "model_name": "HTMLModel",
          "model_module_version": "1.5.0",
          "state": {
            "_dom_classes": [],
            "_model_module": "@jupyter-widgets/controls",
            "_model_module_version": "1.5.0",
            "_model_name": "HTMLModel",
            "_view_count": null,
            "_view_module": "@jupyter-widgets/controls",
            "_view_module_version": "1.5.0",
            "_view_name": "HTMLView",
            "description": "",
            "description_tooltip": null,
            "layout": "IPY_MODEL_f63bfa96712343b68e1d6c75e434deb3",
            "placeholder": "​",
            "style": "IPY_MODEL_bfd709c99bae47a48cf6189886185f8c",
            "value": " 349/349 [00:00&lt;00:00, 19.1kB/s]"
          }
        },
        "a798b8c1f2b84a598d8cf1fa776e826a": {
          "model_module": "@jupyter-widgets/base",
          "model_name": "LayoutModel",
          "model_module_version": "1.2.0",
          "state": {
            "_model_module": "@jupyter-widgets/base",
            "_model_module_version": "1.2.0",
            "_model_name": "LayoutModel",
            "_view_count": null,
            "_view_module": "@jupyter-widgets/base",
            "_view_module_version": "1.2.0",
            "_view_name": "LayoutView",
            "align_content": null,
            "align_items": null,
            "align_self": null,
            "border": null,
            "bottom": null,
            "display": null,
            "flex": null,
            "flex_flow": null,
            "grid_area": null,
            "grid_auto_columns": null,
            "grid_auto_flow": null,
            "grid_auto_rows": null,
            "grid_column": null,
            "grid_gap": null,
            "grid_row": null,
            "grid_template_areas": null,
            "grid_template_columns": null,
            "grid_template_rows": null,
            "height": null,
            "justify_content": null,
            "justify_items": null,
            "left": null,
            "margin": null,
            "max_height": null,
            "max_width": null,
            "min_height": null,
            "min_width": null,
            "object_fit": null,
            "object_position": null,
            "order": null,
            "overflow": null,
            "overflow_x": null,
            "overflow_y": null,
            "padding": null,
            "right": null,
            "top": null,
            "visibility": null,
            "width": null
          }
        },
        "d75b002412ea46e2b5f65eb60a032019": {
          "model_module": "@jupyter-widgets/base",
          "model_name": "LayoutModel",
          "model_module_version": "1.2.0",
          "state": {
            "_model_module": "@jupyter-widgets/base",
            "_model_module_version": "1.2.0",
            "_model_name": "LayoutModel",
            "_view_count": null,
            "_view_module": "@jupyter-widgets/base",
            "_view_module_version": "1.2.0",
            "_view_name": "LayoutView",
            "align_content": null,
            "align_items": null,
            "align_self": null,
            "border": null,
            "bottom": null,
            "display": null,
            "flex": null,
            "flex_flow": null,
            "grid_area": null,
            "grid_auto_columns": null,
            "grid_auto_flow": null,
            "grid_auto_rows": null,
            "grid_column": null,
            "grid_gap": null,
            "grid_row": null,
            "grid_template_areas": null,
            "grid_template_columns": null,
            "grid_template_rows": null,
            "height": null,
            "justify_content": null,
            "justify_items": null,
            "left": null,
            "margin": null,
            "max_height": null,
            "max_width": null,
            "min_height": null,
            "min_width": null,
            "object_fit": null,
            "object_position": null,
            "order": null,
            "overflow": null,
            "overflow_x": null,
            "overflow_y": null,
            "padding": null,
            "right": null,
            "top": null,
            "visibility": null,
            "width": null
          }
        },
        "438393587e8b44e681b6784af5cde857": {
          "model_module": "@jupyter-widgets/controls",
          "model_name": "DescriptionStyleModel",
          "model_module_version": "1.5.0",
          "state": {
            "_model_module": "@jupyter-widgets/controls",
            "_model_module_version": "1.5.0",
            "_model_name": "DescriptionStyleModel",
            "_view_count": null,
            "_view_module": "@jupyter-widgets/base",
            "_view_module_version": "1.2.0",
            "_view_name": "StyleView",
            "description_width": ""
          }
        },
        "849e008104cf4c459177d97096ff146f": {
          "model_module": "@jupyter-widgets/base",
          "model_name": "LayoutModel",
          "model_module_version": "1.2.0",
          "state": {
            "_model_module": "@jupyter-widgets/base",
            "_model_module_version": "1.2.0",
            "_model_name": "LayoutModel",
            "_view_count": null,
            "_view_module": "@jupyter-widgets/base",
            "_view_module_version": "1.2.0",
            "_view_name": "LayoutView",
            "align_content": null,
            "align_items": null,
            "align_self": null,
            "border": null,
            "bottom": null,
            "display": null,
            "flex": null,
            "flex_flow": null,
            "grid_area": null,
            "grid_auto_columns": null,
            "grid_auto_flow": null,
            "grid_auto_rows": null,
            "grid_column": null,
            "grid_gap": null,
            "grid_row": null,
            "grid_template_areas": null,
            "grid_template_columns": null,
            "grid_template_rows": null,
            "height": null,
            "justify_content": null,
            "justify_items": null,
            "left": null,
            "margin": null,
            "max_height": null,
            "max_width": null,
            "min_height": null,
            "min_width": null,
            "object_fit": null,
            "object_position": null,
            "order": null,
            "overflow": null,
            "overflow_x": null,
            "overflow_y": null,
            "padding": null,
            "right": null,
            "top": null,
            "visibility": null,
            "width": null
          }
        },
        "a3cef0db491f44f19d6461dc1c982c41": {
          "model_module": "@jupyter-widgets/controls",
          "model_name": "ProgressStyleModel",
          "model_module_version": "1.5.0",
          "state": {
            "_model_module": "@jupyter-widgets/controls",
            "_model_module_version": "1.5.0",
            "_model_name": "ProgressStyleModel",
            "_view_count": null,
            "_view_module": "@jupyter-widgets/base",
            "_view_module_version": "1.2.0",
            "_view_name": "StyleView",
            "bar_color": null,
            "description_width": ""
          }
        },
        "f63bfa96712343b68e1d6c75e434deb3": {
          "model_module": "@jupyter-widgets/base",
          "model_name": "LayoutModel",
          "model_module_version": "1.2.0",
          "state": {
            "_model_module": "@jupyter-widgets/base",
            "_model_module_version": "1.2.0",
            "_model_name": "LayoutModel",
            "_view_count": null,
            "_view_module": "@jupyter-widgets/base",
            "_view_module_version": "1.2.0",
            "_view_name": "LayoutView",
            "align_content": null,
            "align_items": null,
            "align_self": null,
            "border": null,
            "bottom": null,
            "display": null,
            "flex": null,
            "flex_flow": null,
            "grid_area": null,
            "grid_auto_columns": null,
            "grid_auto_flow": null,
            "grid_auto_rows": null,
            "grid_column": null,
            "grid_gap": null,
            "grid_row": null,
            "grid_template_areas": null,
            "grid_template_columns": null,
            "grid_template_rows": null,
            "height": null,
            "justify_content": null,
            "justify_items": null,
            "left": null,
            "margin": null,
            "max_height": null,
            "max_width": null,
            "min_height": null,
            "min_width": null,
            "object_fit": null,
            "object_position": null,
            "order": null,
            "overflow": null,
            "overflow_x": null,
            "overflow_y": null,
            "padding": null,
            "right": null,
            "top": null,
            "visibility": null,
            "width": null
          }
        },
        "bfd709c99bae47a48cf6189886185f8c": {
          "model_module": "@jupyter-widgets/controls",
          "model_name": "DescriptionStyleModel",
          "model_module_version": "1.5.0",
          "state": {
            "_model_module": "@jupyter-widgets/controls",
            "_model_module_version": "1.5.0",
            "_model_name": "DescriptionStyleModel",
            "_view_count": null,
            "_view_module": "@jupyter-widgets/base",
            "_view_module_version": "1.2.0",
            "_view_name": "StyleView",
            "description_width": ""
          }
        }
      }
    },
    "gpuClass": "standard"
  },
  "nbformat": 4,
  "nbformat_minor": 0
}