{
  "cells": [
    {
      "cell_type": "markdown",
      "source": [
        "https://www.kaggle.com/datasets/bittlingmayer/amazonreviews - link to dataset"
      ],
      "metadata": {
        "id": "jm8Qqk5Q70KG"
      }
    },
    {
      "cell_type": "markdown",
      "source": [
        "## EDA Goals:\n",
        "### 1. Get to know the data\n",
        "### 2. Experiment with NLP techniques\n",
        "### 3. Understand how hard the k-anonimyty task is going to be:)\n",
        "__________________________________________________________________"
      ],
      "metadata": {
        "id": "SIU5h4h6MsLm"
      }
    },
    {
      "cell_type": "markdown",
      "source": [
        "\n",
        "\n",
        "## EDA questions:\n",
        "### 1. How many different words in the dataset?\n",
        "### 2. What are the most similar documents?\n",
        "### 3. Experiment with txt pre-processing\n",
        "### 4. Experiment with seq2seq\n",
        "### 5. Experiment with sentiment analysis\n",
        "### 6. Experiment with BOW \n",
        "### 7. Experiment with Key-phrases extraction\n",
        "### 8. check if we have any k repetittions of key-phrases. - TBD\n",
        "### 9. Check if all documents are in English? - TBD\n",
        "__________________________________________________________________"
      ],
      "metadata": {
        "id": "_IBAz9yEAsNI"
      }
    },
    {
      "cell_type": "markdown",
      "metadata": {
        "id": "ZIA0zx4gVeDe"
      },
      "source": [
        "Uploading the data"
      ]
    },
    {
      "cell_type": "code",
      "source": [
        "import numpy as np\n",
        "import pandas as pd\n",
        "import matplotlib.pyplot as plt # For visualizations\n",
        "import re # For regular expressions\n",
        "import string # For handling string\n",
        "import math # For performing mathematical operations"
      ],
      "metadata": {
        "id": "_hIeI354aYVH"
      },
      "execution_count": 1,
      "outputs": []
    },
    {
      "cell_type": "code",
      "source": [
        "COLAB = True\n",
        "first_run = True"
      ],
      "metadata": {
        "id": "VgCPX8AU7BaT"
      },
      "execution_count": 2,
      "outputs": []
    },
    {
      "cell_type": "code",
      "execution_count": 3,
      "metadata": {
        "colab": {
          "base_uri": "https://localhost:8080/"
        },
        "id": "KTlseunTgCfl",
        "outputId": "b8884ca9-6a6e-4f2d-be18-fd2100369678"
      },
      "outputs": [
        {
          "output_type": "stream",
          "name": "stdout",
          "text": [
            "Drive already mounted at /content/drive/; to attempt to forcibly remount, call drive.mount(\"/content/drive/\", force_remount=True).\n"
          ]
        }
      ],
      "source": [
        "if COLAB:\n",
        "    from google.colab import drive\n",
        "    from os.path import exists\n",
        "\n",
        "    amazon_train_file = 'train.ft.txt.bz2'\n",
        "\n",
        "    if exists(amazon_train_file):\n",
        "        train_file = amazon_train_file\n",
        "    else:\n",
        "        drive.mount('/content/drive/')\n",
        "\n",
        "        # For Hadas' drive\n",
        "        #my_dir = 'drive/MyDrive/Y-data/Intuit-K-anonimity/'\n",
        "\n",
        "        # For Lior's drive\n",
        "        my_dir = 'drive/MyDrive/Y-data/Y-DATA_PROJECT/'\n",
        "\n",
        "        train_file = my_dir + '/train.ft.txt.bz2'\n",
        "else:\n",
        "    train_file = '../data/' + 'train.ft.txt.bz2'"
      ]
    },
    {
      "cell_type": "markdown",
      "metadata": {
        "id": "EIFxQ1n3W8Yd"
      },
      "source": [
        "Definig the labels and the sentences"
      ]
    },
    {
      "cell_type": "code",
      "execution_count": 4,
      "metadata": {
        "id": "1hNFX1xRpa4f"
      },
      "outputs": [],
      "source": [
        "# Credit https://www.kaggle.com/code/anshulrai/cudnnlstm-implementation-93-7-accuracy\n",
        "\n",
        "import bz2\n",
        "\n",
        "# Readling the file to list of comments\n",
        "train_file = bz2.BZ2File(train_file)\n",
        "train_file_lines = train_file.readlines()\n",
        "\n",
        "# Converting from raw binary strings to strings that can be parsed\n",
        "train_file_lines = [x.decode('utf-8') for x in train_file_lines]\n",
        "\n",
        "# Extracting the labels and sentences\n",
        "train_labels = [0 if x.split(' ')[0] == '__label__1' else 1 for x in train_file_lines]\n",
        "train_sentences = [x.split(' ', 1)[1][:-1].lower() for x in train_file_lines] # And converting to lower case\n"
      ]
    },
    {
      "cell_type": "markdown",
      "metadata": {
        "id": "wypxJ4sTyljW"
      },
      "source": [
        "Defining the dataframe"
      ]
    },
    {
      "cell_type": "code",
      "execution_count": 5,
      "metadata": {
        "id": "LvN2zmu0ykzM"
      },
      "outputs": [],
      "source": [
        "df = pd.DataFrame(list(zip(train_sentences, train_labels)), columns =['txt', 'sentiment'])"
      ]
    },
    {
      "cell_type": "markdown",
      "source": [
        "Initial Data Exploration"
      ],
      "metadata": {
        "id": "SX5mb7K45aXA"
      }
    },
    {
      "cell_type": "code",
      "source": [
        "df.info()"
      ],
      "metadata": {
        "colab": {
          "base_uri": "https://localhost:8080/"
        },
        "id": "hymFV0-F46k3",
        "outputId": "bb1fee5b-37db-44ac-b126-ac95cd8b7f8e"
      },
      "execution_count": 7,
      "outputs": [
        {
          "output_type": "stream",
          "name": "stdout",
          "text": [
            "<class 'pandas.core.frame.DataFrame'>\n",
            "RangeIndex: 3600000 entries, 0 to 3599999\n",
            "Data columns (total 2 columns):\n",
            " #   Column     Dtype \n",
            "---  ------     ----- \n",
            " 0   txt        object\n",
            " 1   sentiment  int64 \n",
            "dtypes: int64(1), object(1)\n",
            "memory usage: 54.9+ MB\n"
          ]
        }
      ]
    },
    {
      "cell_type": "code",
      "source": [
        "df.head()"
      ],
      "metadata": {
        "colab": {
          "base_uri": "https://localhost:8080/",
          "height": 206
        },
        "id": "F7gr-KA64g11",
        "outputId": "83f7a318-31f8-4cb3-dce1-a2742ff1996f"
      },
      "execution_count": 8,
      "outputs": [
        {
          "output_type": "execute_result",
          "data": {
            "text/plain": [
              "                                                 txt  sentiment\n",
              "0  stuning even for the non-gamer: this sound tra...          1\n",
              "1  the best soundtrack ever to anything.: i'm rea...          1\n",
              "2  amazing!: this soundtrack is my favorite music...          1\n",
              "3  excellent soundtrack: i truly like this soundt...          1\n",
              "4  remember, pull your jaw off the floor after he...          1"
            ],
            "text/html": [
              "\n",
              "  <div id=\"df-760f13b6-f376-4332-922e-55a853152d48\">\n",
              "    <div class=\"colab-df-container\">\n",
              "      <div>\n",
              "<style scoped>\n",
              "    .dataframe tbody tr th:only-of-type {\n",
              "        vertical-align: middle;\n",
              "    }\n",
              "\n",
              "    .dataframe tbody tr th {\n",
              "        vertical-align: top;\n",
              "    }\n",
              "\n",
              "    .dataframe thead th {\n",
              "        text-align: right;\n",
              "    }\n",
              "</style>\n",
              "<table border=\"1\" class=\"dataframe\">\n",
              "  <thead>\n",
              "    <tr style=\"text-align: right;\">\n",
              "      <th></th>\n",
              "      <th>txt</th>\n",
              "      <th>sentiment</th>\n",
              "    </tr>\n",
              "  </thead>\n",
              "  <tbody>\n",
              "    <tr>\n",
              "      <th>0</th>\n",
              "      <td>stuning even for the non-gamer: this sound tra...</td>\n",
              "      <td>1</td>\n",
              "    </tr>\n",
              "    <tr>\n",
              "      <th>1</th>\n",
              "      <td>the best soundtrack ever to anything.: i'm rea...</td>\n",
              "      <td>1</td>\n",
              "    </tr>\n",
              "    <tr>\n",
              "      <th>2</th>\n",
              "      <td>amazing!: this soundtrack is my favorite music...</td>\n",
              "      <td>1</td>\n",
              "    </tr>\n",
              "    <tr>\n",
              "      <th>3</th>\n",
              "      <td>excellent soundtrack: i truly like this soundt...</td>\n",
              "      <td>1</td>\n",
              "    </tr>\n",
              "    <tr>\n",
              "      <th>4</th>\n",
              "      <td>remember, pull your jaw off the floor after he...</td>\n",
              "      <td>1</td>\n",
              "    </tr>\n",
              "  </tbody>\n",
              "</table>\n",
              "</div>\n",
              "      <button class=\"colab-df-convert\" onclick=\"convertToInteractive('df-760f13b6-f376-4332-922e-55a853152d48')\"\n",
              "              title=\"Convert this dataframe to an interactive table.\"\n",
              "              style=\"display:none;\">\n",
              "        \n",
              "  <svg xmlns=\"http://www.w3.org/2000/svg\" height=\"24px\"viewBox=\"0 0 24 24\"\n",
              "       width=\"24px\">\n",
              "    <path d=\"M0 0h24v24H0V0z\" fill=\"none\"/>\n",
              "    <path d=\"M18.56 5.44l.94 2.06.94-2.06 2.06-.94-2.06-.94-.94-2.06-.94 2.06-2.06.94zm-11 1L8.5 8.5l.94-2.06 2.06-.94-2.06-.94L8.5 2.5l-.94 2.06-2.06.94zm10 10l.94 2.06.94-2.06 2.06-.94-2.06-.94-.94-2.06-.94 2.06-2.06.94z\"/><path d=\"M17.41 7.96l-1.37-1.37c-.4-.4-.92-.59-1.43-.59-.52 0-1.04.2-1.43.59L10.3 9.45l-7.72 7.72c-.78.78-.78 2.05 0 2.83L4 21.41c.39.39.9.59 1.41.59.51 0 1.02-.2 1.41-.59l7.78-7.78 2.81-2.81c.8-.78.8-2.07 0-2.86zM5.41 20L4 18.59l7.72-7.72 1.47 1.35L5.41 20z\"/>\n",
              "  </svg>\n",
              "      </button>\n",
              "      \n",
              "  <style>\n",
              "    .colab-df-container {\n",
              "      display:flex;\n",
              "      flex-wrap:wrap;\n",
              "      gap: 12px;\n",
              "    }\n",
              "\n",
              "    .colab-df-convert {\n",
              "      background-color: #E8F0FE;\n",
              "      border: none;\n",
              "      border-radius: 50%;\n",
              "      cursor: pointer;\n",
              "      display: none;\n",
              "      fill: #1967D2;\n",
              "      height: 32px;\n",
              "      padding: 0 0 0 0;\n",
              "      width: 32px;\n",
              "    }\n",
              "\n",
              "    .colab-df-convert:hover {\n",
              "      background-color: #E2EBFA;\n",
              "      box-shadow: 0px 1px 2px rgba(60, 64, 67, 0.3), 0px 1px 3px 1px rgba(60, 64, 67, 0.15);\n",
              "      fill: #174EA6;\n",
              "    }\n",
              "\n",
              "    [theme=dark] .colab-df-convert {\n",
              "      background-color: #3B4455;\n",
              "      fill: #D2E3FC;\n",
              "    }\n",
              "\n",
              "    [theme=dark] .colab-df-convert:hover {\n",
              "      background-color: #434B5C;\n",
              "      box-shadow: 0px 1px 3px 1px rgba(0, 0, 0, 0.15);\n",
              "      filter: drop-shadow(0px 1px 2px rgba(0, 0, 0, 0.3));\n",
              "      fill: #FFFFFF;\n",
              "    }\n",
              "  </style>\n",
              "\n",
              "      <script>\n",
              "        const buttonEl =\n",
              "          document.querySelector('#df-760f13b6-f376-4332-922e-55a853152d48 button.colab-df-convert');\n",
              "        buttonEl.style.display =\n",
              "          google.colab.kernel.accessAllowed ? 'block' : 'none';\n",
              "\n",
              "        async function convertToInteractive(key) {\n",
              "          const element = document.querySelector('#df-760f13b6-f376-4332-922e-55a853152d48');\n",
              "          const dataTable =\n",
              "            await google.colab.kernel.invokeFunction('convertToInteractive',\n",
              "                                                     [key], {});\n",
              "          if (!dataTable) return;\n",
              "\n",
              "          const docLinkHtml = 'Like what you see? Visit the ' +\n",
              "            '<a target=\"_blank\" href=https://colab.research.google.com/notebooks/data_table.ipynb>data table notebook</a>'\n",
              "            + ' to learn more about interactive tables.';\n",
              "          element.innerHTML = '';\n",
              "          dataTable['output_type'] = 'display_data';\n",
              "          await google.colab.output.renderOutput(dataTable, element);\n",
              "          const docLink = document.createElement('div');\n",
              "          docLink.innerHTML = docLinkHtml;\n",
              "          element.appendChild(docLink);\n",
              "        }\n",
              "      </script>\n",
              "    </div>\n",
              "  </div>\n",
              "  "
            ]
          },
          "metadata": {},
          "execution_count": 8
        }
      ]
    },
    {
      "cell_type": "code",
      "source": [
        "df.describe(include='all')"
      ],
      "metadata": {
        "colab": {
          "base_uri": "https://localhost:8080/",
          "height": 394
        },
        "id": "kmYOdh0f4ePc",
        "outputId": "69e4bf46-2135-4607-874e-4434044e5ce2"
      },
      "execution_count": 9,
      "outputs": [
        {
          "output_type": "execute_result",
          "data": {
            "text/plain": [
              "                                                      txt  sentiment\n",
              "count                                             3600000  3600000.0\n",
              "unique                                            3599662        NaN\n",
              "top     fram is trash: fram is trash. i have removed s...        NaN\n",
              "freq                                                    4        NaN\n",
              "mean                                                  NaN        0.5\n",
              "std                                                   NaN        0.5\n",
              "min                                                   NaN        0.0\n",
              "25%                                                   NaN        0.0\n",
              "50%                                                   NaN        0.5\n",
              "75%                                                   NaN        1.0\n",
              "max                                                   NaN        1.0"
            ],
            "text/html": [
              "\n",
              "  <div id=\"df-66e487e5-e504-43c6-838c-2689b80cbbb9\">\n",
              "    <div class=\"colab-df-container\">\n",
              "      <div>\n",
              "<style scoped>\n",
              "    .dataframe tbody tr th:only-of-type {\n",
              "        vertical-align: middle;\n",
              "    }\n",
              "\n",
              "    .dataframe tbody tr th {\n",
              "        vertical-align: top;\n",
              "    }\n",
              "\n",
              "    .dataframe thead th {\n",
              "        text-align: right;\n",
              "    }\n",
              "</style>\n",
              "<table border=\"1\" class=\"dataframe\">\n",
              "  <thead>\n",
              "    <tr style=\"text-align: right;\">\n",
              "      <th></th>\n",
              "      <th>txt</th>\n",
              "      <th>sentiment</th>\n",
              "    </tr>\n",
              "  </thead>\n",
              "  <tbody>\n",
              "    <tr>\n",
              "      <th>count</th>\n",
              "      <td>3600000</td>\n",
              "      <td>3600000.0</td>\n",
              "    </tr>\n",
              "    <tr>\n",
              "      <th>unique</th>\n",
              "      <td>3599662</td>\n",
              "      <td>NaN</td>\n",
              "    </tr>\n",
              "    <tr>\n",
              "      <th>top</th>\n",
              "      <td>fram is trash: fram is trash. i have removed s...</td>\n",
              "      <td>NaN</td>\n",
              "    </tr>\n",
              "    <tr>\n",
              "      <th>freq</th>\n",
              "      <td>4</td>\n",
              "      <td>NaN</td>\n",
              "    </tr>\n",
              "    <tr>\n",
              "      <th>mean</th>\n",
              "      <td>NaN</td>\n",
              "      <td>0.5</td>\n",
              "    </tr>\n",
              "    <tr>\n",
              "      <th>std</th>\n",
              "      <td>NaN</td>\n",
              "      <td>0.5</td>\n",
              "    </tr>\n",
              "    <tr>\n",
              "      <th>min</th>\n",
              "      <td>NaN</td>\n",
              "      <td>0.0</td>\n",
              "    </tr>\n",
              "    <tr>\n",
              "      <th>25%</th>\n",
              "      <td>NaN</td>\n",
              "      <td>0.0</td>\n",
              "    </tr>\n",
              "    <tr>\n",
              "      <th>50%</th>\n",
              "      <td>NaN</td>\n",
              "      <td>0.5</td>\n",
              "    </tr>\n",
              "    <tr>\n",
              "      <th>75%</th>\n",
              "      <td>NaN</td>\n",
              "      <td>1.0</td>\n",
              "    </tr>\n",
              "    <tr>\n",
              "      <th>max</th>\n",
              "      <td>NaN</td>\n",
              "      <td>1.0</td>\n",
              "    </tr>\n",
              "  </tbody>\n",
              "</table>\n",
              "</div>\n",
              "      <button class=\"colab-df-convert\" onclick=\"convertToInteractive('df-66e487e5-e504-43c6-838c-2689b80cbbb9')\"\n",
              "              title=\"Convert this dataframe to an interactive table.\"\n",
              "              style=\"display:none;\">\n",
              "        \n",
              "  <svg xmlns=\"http://www.w3.org/2000/svg\" height=\"24px\"viewBox=\"0 0 24 24\"\n",
              "       width=\"24px\">\n",
              "    <path d=\"M0 0h24v24H0V0z\" fill=\"none\"/>\n",
              "    <path d=\"M18.56 5.44l.94 2.06.94-2.06 2.06-.94-2.06-.94-.94-2.06-.94 2.06-2.06.94zm-11 1L8.5 8.5l.94-2.06 2.06-.94-2.06-.94L8.5 2.5l-.94 2.06-2.06.94zm10 10l.94 2.06.94-2.06 2.06-.94-2.06-.94-.94-2.06-.94 2.06-2.06.94z\"/><path d=\"M17.41 7.96l-1.37-1.37c-.4-.4-.92-.59-1.43-.59-.52 0-1.04.2-1.43.59L10.3 9.45l-7.72 7.72c-.78.78-.78 2.05 0 2.83L4 21.41c.39.39.9.59 1.41.59.51 0 1.02-.2 1.41-.59l7.78-7.78 2.81-2.81c.8-.78.8-2.07 0-2.86zM5.41 20L4 18.59l7.72-7.72 1.47 1.35L5.41 20z\"/>\n",
              "  </svg>\n",
              "      </button>\n",
              "      \n",
              "  <style>\n",
              "    .colab-df-container {\n",
              "      display:flex;\n",
              "      flex-wrap:wrap;\n",
              "      gap: 12px;\n",
              "    }\n",
              "\n",
              "    .colab-df-convert {\n",
              "      background-color: #E8F0FE;\n",
              "      border: none;\n",
              "      border-radius: 50%;\n",
              "      cursor: pointer;\n",
              "      display: none;\n",
              "      fill: #1967D2;\n",
              "      height: 32px;\n",
              "      padding: 0 0 0 0;\n",
              "      width: 32px;\n",
              "    }\n",
              "\n",
              "    .colab-df-convert:hover {\n",
              "      background-color: #E2EBFA;\n",
              "      box-shadow: 0px 1px 2px rgba(60, 64, 67, 0.3), 0px 1px 3px 1px rgba(60, 64, 67, 0.15);\n",
              "      fill: #174EA6;\n",
              "    }\n",
              "\n",
              "    [theme=dark] .colab-df-convert {\n",
              "      background-color: #3B4455;\n",
              "      fill: #D2E3FC;\n",
              "    }\n",
              "\n",
              "    [theme=dark] .colab-df-convert:hover {\n",
              "      background-color: #434B5C;\n",
              "      box-shadow: 0px 1px 3px 1px rgba(0, 0, 0, 0.15);\n",
              "      filter: drop-shadow(0px 1px 2px rgba(0, 0, 0, 0.3));\n",
              "      fill: #FFFFFF;\n",
              "    }\n",
              "  </style>\n",
              "\n",
              "      <script>\n",
              "        const buttonEl =\n",
              "          document.querySelector('#df-66e487e5-e504-43c6-838c-2689b80cbbb9 button.colab-df-convert');\n",
              "        buttonEl.style.display =\n",
              "          google.colab.kernel.accessAllowed ? 'block' : 'none';\n",
              "\n",
              "        async function convertToInteractive(key) {\n",
              "          const element = document.querySelector('#df-66e487e5-e504-43c6-838c-2689b80cbbb9');\n",
              "          const dataTable =\n",
              "            await google.colab.kernel.invokeFunction('convertToInteractive',\n",
              "                                                     [key], {});\n",
              "          if (!dataTable) return;\n",
              "\n",
              "          const docLinkHtml = 'Like what you see? Visit the ' +\n",
              "            '<a target=\"_blank\" href=https://colab.research.google.com/notebooks/data_table.ipynb>data table notebook</a>'\n",
              "            + ' to learn more about interactive tables.';\n",
              "          element.innerHTML = '';\n",
              "          dataTable['output_type'] = 'display_data';\n",
              "          await google.colab.output.renderOutput(dataTable, element);\n",
              "          const docLink = document.createElement('div');\n",
              "          docLink.innerHTML = docLinkHtml;\n",
              "          element.appendChild(docLink);\n",
              "        }\n",
              "      </script>\n",
              "    </div>\n",
              "  </div>\n",
              "  "
            ]
          },
          "metadata": {},
          "execution_count": 9
        }
      ]
    },
    {
      "cell_type": "markdown",
      "source": [
        "Initial Insights:\n",
        "* data includes 3.6 milion documents\n",
        "* the labels are balanced (sentiment score  0/1)\n",
        "* does the data includes any duplicates?"
      ],
      "metadata": {
        "id": "9IKyGL194tbC"
      }
    },
    {
      "cell_type": "code",
      "source": [
        "# Print the duplicate rows\n",
        "df_duplicates = df.loc[df.duplicated(keep=False), :]\n",
        "df_duplicates.head()"
      ],
      "metadata": {
        "colab": {
          "base_uri": "https://localhost:8080/",
          "height": 206
        },
        "id": "Oj4JO0Ym8av6",
        "outputId": "b35b6b44-c311-4574-ecd1-d76081acb321"
      },
      "execution_count": 12,
      "outputs": [
        {
          "output_type": "execute_result",
          "data": {
            "text/plain": [
              "                                                     txt  sentiment\n",
              "15115  no audio output from blu-ray version: warning ...          0\n",
              "15725  poor quality & service: my panasonic over-the-...          0\n",
              "30483  french garbage: this review may sound pretenti...          0\n",
              "33086  very small and only 8 pictures: this coloring ...          0\n",
              "38511  collectors beware: ok so the world is a big pl...          0"
            ],
            "text/html": [
              "\n",
              "  <div id=\"df-46dffe90-571f-4392-8e78-e5c153186033\">\n",
              "    <div class=\"colab-df-container\">\n",
              "      <div>\n",
              "<style scoped>\n",
              "    .dataframe tbody tr th:only-of-type {\n",
              "        vertical-align: middle;\n",
              "    }\n",
              "\n",
              "    .dataframe tbody tr th {\n",
              "        vertical-align: top;\n",
              "    }\n",
              "\n",
              "    .dataframe thead th {\n",
              "        text-align: right;\n",
              "    }\n",
              "</style>\n",
              "<table border=\"1\" class=\"dataframe\">\n",
              "  <thead>\n",
              "    <tr style=\"text-align: right;\">\n",
              "      <th></th>\n",
              "      <th>txt</th>\n",
              "      <th>sentiment</th>\n",
              "    </tr>\n",
              "  </thead>\n",
              "  <tbody>\n",
              "    <tr>\n",
              "      <th>15115</th>\n",
              "      <td>no audio output from blu-ray version: warning ...</td>\n",
              "      <td>0</td>\n",
              "    </tr>\n",
              "    <tr>\n",
              "      <th>15725</th>\n",
              "      <td>poor quality &amp; service: my panasonic over-the-...</td>\n",
              "      <td>0</td>\n",
              "    </tr>\n",
              "    <tr>\n",
              "      <th>30483</th>\n",
              "      <td>french garbage: this review may sound pretenti...</td>\n",
              "      <td>0</td>\n",
              "    </tr>\n",
              "    <tr>\n",
              "      <th>33086</th>\n",
              "      <td>very small and only 8 pictures: this coloring ...</td>\n",
              "      <td>0</td>\n",
              "    </tr>\n",
              "    <tr>\n",
              "      <th>38511</th>\n",
              "      <td>collectors beware: ok so the world is a big pl...</td>\n",
              "      <td>0</td>\n",
              "    </tr>\n",
              "  </tbody>\n",
              "</table>\n",
              "</div>\n",
              "      <button class=\"colab-df-convert\" onclick=\"convertToInteractive('df-46dffe90-571f-4392-8e78-e5c153186033')\"\n",
              "              title=\"Convert this dataframe to an interactive table.\"\n",
              "              style=\"display:none;\">\n",
              "        \n",
              "  <svg xmlns=\"http://www.w3.org/2000/svg\" height=\"24px\"viewBox=\"0 0 24 24\"\n",
              "       width=\"24px\">\n",
              "    <path d=\"M0 0h24v24H0V0z\" fill=\"none\"/>\n",
              "    <path d=\"M18.56 5.44l.94 2.06.94-2.06 2.06-.94-2.06-.94-.94-2.06-.94 2.06-2.06.94zm-11 1L8.5 8.5l.94-2.06 2.06-.94-2.06-.94L8.5 2.5l-.94 2.06-2.06.94zm10 10l.94 2.06.94-2.06 2.06-.94-2.06-.94-.94-2.06-.94 2.06-2.06.94z\"/><path d=\"M17.41 7.96l-1.37-1.37c-.4-.4-.92-.59-1.43-.59-.52 0-1.04.2-1.43.59L10.3 9.45l-7.72 7.72c-.78.78-.78 2.05 0 2.83L4 21.41c.39.39.9.59 1.41.59.51 0 1.02-.2 1.41-.59l7.78-7.78 2.81-2.81c.8-.78.8-2.07 0-2.86zM5.41 20L4 18.59l7.72-7.72 1.47 1.35L5.41 20z\"/>\n",
              "  </svg>\n",
              "      </button>\n",
              "      \n",
              "  <style>\n",
              "    .colab-df-container {\n",
              "      display:flex;\n",
              "      flex-wrap:wrap;\n",
              "      gap: 12px;\n",
              "    }\n",
              "\n",
              "    .colab-df-convert {\n",
              "      background-color: #E8F0FE;\n",
              "      border: none;\n",
              "      border-radius: 50%;\n",
              "      cursor: pointer;\n",
              "      display: none;\n",
              "      fill: #1967D2;\n",
              "      height: 32px;\n",
              "      padding: 0 0 0 0;\n",
              "      width: 32px;\n",
              "    }\n",
              "\n",
              "    .colab-df-convert:hover {\n",
              "      background-color: #E2EBFA;\n",
              "      box-shadow: 0px 1px 2px rgba(60, 64, 67, 0.3), 0px 1px 3px 1px rgba(60, 64, 67, 0.15);\n",
              "      fill: #174EA6;\n",
              "    }\n",
              "\n",
              "    [theme=dark] .colab-df-convert {\n",
              "      background-color: #3B4455;\n",
              "      fill: #D2E3FC;\n",
              "    }\n",
              "\n",
              "    [theme=dark] .colab-df-convert:hover {\n",
              "      background-color: #434B5C;\n",
              "      box-shadow: 0px 1px 3px 1px rgba(0, 0, 0, 0.15);\n",
              "      filter: drop-shadow(0px 1px 2px rgba(0, 0, 0, 0.3));\n",
              "      fill: #FFFFFF;\n",
              "    }\n",
              "  </style>\n",
              "\n",
              "      <script>\n",
              "        const buttonEl =\n",
              "          document.querySelector('#df-46dffe90-571f-4392-8e78-e5c153186033 button.colab-df-convert');\n",
              "        buttonEl.style.display =\n",
              "          google.colab.kernel.accessAllowed ? 'block' : 'none';\n",
              "\n",
              "        async function convertToInteractive(key) {\n",
              "          const element = document.querySelector('#df-46dffe90-571f-4392-8e78-e5c153186033');\n",
              "          const dataTable =\n",
              "            await google.colab.kernel.invokeFunction('convertToInteractive',\n",
              "                                                     [key], {});\n",
              "          if (!dataTable) return;\n",
              "\n",
              "          const docLinkHtml = 'Like what you see? Visit the ' +\n",
              "            '<a target=\"_blank\" href=https://colab.research.google.com/notebooks/data_table.ipynb>data table notebook</a>'\n",
              "            + ' to learn more about interactive tables.';\n",
              "          element.innerHTML = '';\n",
              "          dataTable['output_type'] = 'display_data';\n",
              "          await google.colab.output.renderOutput(dataTable, element);\n",
              "          const docLink = document.createElement('div');\n",
              "          docLink.innerHTML = docLinkHtml;\n",
              "          element.appendChild(docLink);\n",
              "        }\n",
              "      </script>\n",
              "    </div>\n",
              "  </div>\n",
              "  "
            ]
          },
          "metadata": {},
          "execution_count": 12
        }
      ]
    },
    {
      "cell_type": "code",
      "source": [
        "# sort the DataFrame by a specific column\n",
        "df_sorted = df_duplicates.sort_values(by='txt', ascending=True)\n",
        "\n",
        "# print the sorted DataFrame\n",
        "print(df_sorted)"
      ],
      "metadata": {
        "colab": {
          "base_uri": "https://localhost:8080/"
        },
        "id": "9kugt3EOCvON",
        "outputId": "c3436e7c-c931-4540-be63-f4e9a96907d3"
      },
      "execution_count": 13,
      "outputs": [
        {
          "output_type": "stream",
          "name": "stdout",
          "text": [
            "                                                       txt  sentiment\n",
            "3232463  1 word, 1 star: horrible: one of my friends ow...          0\n",
            "3026954  1 word, 1 star: horrible: one of my friends ow...          0\n",
            "2047008  2.5 stars: neon golden it aint: first of all, ...          0\n",
            "2047009  2.5 stars: neon golden it aint: first of all, ...          0\n",
            "2721066  a better ballad than you expected: the fourth ...          1\n",
            "...                                                    ...        ...\n",
            "2119725  yawn! played out!: although this game is being...          0\n",
            "1446496  yeah: as advertised: items were shipped quickl...          1\n",
            "1326996  yeah: as advertised: items were shipped quickl...          1\n",
            "1428400  zatoichi: i will write the same comment on eac...          0\n",
            "762739   zatoichi: i will write the same comment on eac...          0\n",
            "\n",
            "[669 rows x 2 columns]\n"
          ]
        }
      ]
    },
    {
      "cell_type": "code",
      "source": [
        "df_duplicates.info()"
      ],
      "metadata": {
        "colab": {
          "base_uri": "https://localhost:8080/"
        },
        "id": "B_Fyk_IHDUM9",
        "outputId": "8e4699ca-6a4a-44bd-ceb2-22116e1a8012"
      },
      "execution_count": 15,
      "outputs": [
        {
          "output_type": "stream",
          "name": "stdout",
          "text": [
            "<class 'pandas.core.frame.DataFrame'>\n",
            "Int64Index: 669 entries, 15115 to 3583185\n",
            "Data columns (total 2 columns):\n",
            " #   Column     Non-Null Count  Dtype \n",
            "---  ------     --------------  ----- \n",
            " 0   txt        669 non-null    object\n",
            " 1   sentiment  669 non-null    int64 \n",
            "dtypes: int64(1), object(1)\n",
            "memory usage: 15.7+ KB\n"
          ]
        }
      ]
    },
    {
      "cell_type": "code",
      "source": [
        "# count the number of unique rows in the DataFrame\n",
        "num_unique_rows = df_duplicates.nunique()\n",
        "\n",
        "# print the number of unique rows\n",
        "print(num_unique_rows)"
      ],
      "metadata": {
        "colab": {
          "base_uri": "https://localhost:8080/"
        },
        "id": "FDrqGqWBDk5V",
        "outputId": "78de2cf6-dff4-4cf2-8891-0425c3599654"
      },
      "execution_count": 16,
      "outputs": [
        {
          "output_type": "stream",
          "name": "stdout",
          "text": [
            "txt          332\n",
            "sentiment      2\n",
            "dtype: int64\n"
          ]
        }
      ]
    },
    {
      "cell_type": "markdown",
      "source": [
        "some documents has more than 1 duplicate, let's identify them:"
      ],
      "metadata": {
        "id": "-Fzz9KM3D-2_"
      }
    },
    {
      "cell_type": "code",
      "source": [
        "# Identify rows with 3 or more duplicates using boolean indexing\n",
        "duplicates = df[df.duplicated(keep=False)].groupby(list(df.columns)).size().reset_index(name='counts')\n",
        "duplicates = duplicates[duplicates['counts'] >= 3]\n",
        "\n"
      ],
      "metadata": {
        "id": "YseU3isdEDZW"
      },
      "execution_count": 21,
      "outputs": []
    },
    {
      "cell_type": "code",
      "source": [
        "# Print the rows with 3 or more duplicates\n",
        "if len(duplicates) > 0:\n",
        "    print(duplicates.sort_values(by='counts',ascending=False))  # df.sort_values(by='col_name')\n",
        "else:\n",
        "    print(\"No rows have three or more duplicates.\")"
      ],
      "metadata": {
        "colab": {
          "base_uri": "https://localhost:8080/"
        },
        "id": "PqcF9bYDEqMl",
        "outputId": "399676ff-7f06-4257-a446-d57827ac3651"
      },
      "execution_count": 22,
      "outputs": [
        {
          "output_type": "stream",
          "name": "stdout",
          "text": [
            "                                                   txt  sentiment  counts\n",
            "101  fram is trash: fram is trash. i have removed s...          0       4\n",
            "20   another stones sacd ripoff: yeah, the music is...          0       3\n",
            "50   cable only looks secure: 11/28/08 - buyer bewa...          0       3\n",
            "211  piece of junk: this pepper mill is a nothing b...          0       3\n"
          ]
        }
      ]
    },
    {
      "cell_type": "code",
      "source": [
        "# printing two duplicates - how should we handle duplicates in the dataset?\n",
        "print(df.loc[3581764, 'txt'])\n",
        "print(df.loc[3583185, 'txt'])"
      ],
      "metadata": {
        "colab": {
          "base_uri": "https://localhost:8080/"
        },
        "id": "CQGepua48tas",
        "outputId": "0292a18f-5b31-4782-d127-5644d1e86b6f"
      },
      "execution_count": null,
      "outputs": [
        {
          "output_type": "stream",
          "name": "stdout",
          "text": [
            "customer service is an oxymoron: bought the 3pack for home use. installed it on two pc's and then had defective a defective new pc that it was installed on and removed. now, it won't let me activate on the new computer - their system is flawed!!!! they want me to mail in original invoice, unlock code and disk and then they'll see what they want to do. this will all take at least 2 to 3 weeks, in the meantime there is no protection on this computer. haaaaa!they really need to have a specific code for each activation so that it updates to the active computer it is being used on - they really could figure this out. they're taking the easy way out and getting more $$$ in the process.this combined with all other slow down issues, i'm switching to zone suite, as i've used zone alarm for years and it is great.best of luck.\n",
            "customer service is an oxymoron: bought the 3pack for home use. installed it on two pc's and then had defective a defective new pc that it was installed on and removed. now, it won't let me activate on the new computer - their system is flawed!!!! they want me to mail in original invoice, unlock code and disk and then they'll see what they want to do. this will all take at least 2 to 3 weeks, in the meantime there is no protection on this computer. haaaaa!they really need to have a specific code for each activation so that it updates to the active computer it is being used on - they really could figure this out. they're taking the easy way out and getting more $$$ in the process.this combined with all other slow down issues, i'm switching to zone suite, as i've used zone alarm for years and it is great.best of luck.\n"
          ]
        }
      ]
    },
    {
      "cell_type": "markdown",
      "source": [
        "Remove duplicates, check if the data is still balanced"
      ],
      "metadata": {
        "id": "7jlptv0F-Tef"
      }
    },
    {
      "cell_type": "code",
      "source": [
        "# Remove duplicates\n",
        "df = df.drop_duplicates()"
      ],
      "metadata": {
        "id": "i_VLzMte-S_w"
      },
      "execution_count": 23,
      "outputs": []
    },
    {
      "cell_type": "code",
      "execution_count": 24,
      "metadata": {
        "id": "0mSHDMy-1lON",
        "colab": {
          "base_uri": "https://localhost:8080/"
        },
        "outputId": "23f3d8e6-f819-45ae-eec5-2d40606c7941"
      },
      "outputs": [
        {
          "output_type": "execute_result",
          "data": {
            "text/plain": [
              "1    1799940\n",
              "0    1799723\n",
              "Name: sentiment, dtype: int64"
            ]
          },
          "metadata": {},
          "execution_count": 24
        }
      ],
      "source": [
        "df.sentiment.value_counts() # pretty balanced but more negative sentiments had duplicates"
      ]
    },
    {
      "cell_type": "code",
      "source": [
        "df.describe()"
      ],
      "metadata": {
        "colab": {
          "base_uri": "https://localhost:8080/",
          "height": 300
        },
        "id": "238N7V1P-bxg",
        "outputId": "fdba08ab-e4fb-44cf-936a-e6e43592765d"
      },
      "execution_count": 25,
      "outputs": [
        {
          "output_type": "execute_result",
          "data": {
            "text/plain": [
              "          sentiment\n",
              "count  3.599663e+06\n",
              "mean   5.000301e-01\n",
              "std    5.000001e-01\n",
              "min    0.000000e+00\n",
              "25%    0.000000e+00\n",
              "50%    1.000000e+00\n",
              "75%    1.000000e+00\n",
              "max    1.000000e+00"
            ],
            "text/html": [
              "\n",
              "  <div id=\"df-c0943ce0-13a4-4d9a-8af1-6ceec55e8c03\">\n",
              "    <div class=\"colab-df-container\">\n",
              "      <div>\n",
              "<style scoped>\n",
              "    .dataframe tbody tr th:only-of-type {\n",
              "        vertical-align: middle;\n",
              "    }\n",
              "\n",
              "    .dataframe tbody tr th {\n",
              "        vertical-align: top;\n",
              "    }\n",
              "\n",
              "    .dataframe thead th {\n",
              "        text-align: right;\n",
              "    }\n",
              "</style>\n",
              "<table border=\"1\" class=\"dataframe\">\n",
              "  <thead>\n",
              "    <tr style=\"text-align: right;\">\n",
              "      <th></th>\n",
              "      <th>sentiment</th>\n",
              "    </tr>\n",
              "  </thead>\n",
              "  <tbody>\n",
              "    <tr>\n",
              "      <th>count</th>\n",
              "      <td>3.599663e+06</td>\n",
              "    </tr>\n",
              "    <tr>\n",
              "      <th>mean</th>\n",
              "      <td>5.000301e-01</td>\n",
              "    </tr>\n",
              "    <tr>\n",
              "      <th>std</th>\n",
              "      <td>5.000001e-01</td>\n",
              "    </tr>\n",
              "    <tr>\n",
              "      <th>min</th>\n",
              "      <td>0.000000e+00</td>\n",
              "    </tr>\n",
              "    <tr>\n",
              "      <th>25%</th>\n",
              "      <td>0.000000e+00</td>\n",
              "    </tr>\n",
              "    <tr>\n",
              "      <th>50%</th>\n",
              "      <td>1.000000e+00</td>\n",
              "    </tr>\n",
              "    <tr>\n",
              "      <th>75%</th>\n",
              "      <td>1.000000e+00</td>\n",
              "    </tr>\n",
              "    <tr>\n",
              "      <th>max</th>\n",
              "      <td>1.000000e+00</td>\n",
              "    </tr>\n",
              "  </tbody>\n",
              "</table>\n",
              "</div>\n",
              "      <button class=\"colab-df-convert\" onclick=\"convertToInteractive('df-c0943ce0-13a4-4d9a-8af1-6ceec55e8c03')\"\n",
              "              title=\"Convert this dataframe to an interactive table.\"\n",
              "              style=\"display:none;\">\n",
              "        \n",
              "  <svg xmlns=\"http://www.w3.org/2000/svg\" height=\"24px\"viewBox=\"0 0 24 24\"\n",
              "       width=\"24px\">\n",
              "    <path d=\"M0 0h24v24H0V0z\" fill=\"none\"/>\n",
              "    <path d=\"M18.56 5.44l.94 2.06.94-2.06 2.06-.94-2.06-.94-.94-2.06-.94 2.06-2.06.94zm-11 1L8.5 8.5l.94-2.06 2.06-.94-2.06-.94L8.5 2.5l-.94 2.06-2.06.94zm10 10l.94 2.06.94-2.06 2.06-.94-2.06-.94-.94-2.06-.94 2.06-2.06.94z\"/><path d=\"M17.41 7.96l-1.37-1.37c-.4-.4-.92-.59-1.43-.59-.52 0-1.04.2-1.43.59L10.3 9.45l-7.72 7.72c-.78.78-.78 2.05 0 2.83L4 21.41c.39.39.9.59 1.41.59.51 0 1.02-.2 1.41-.59l7.78-7.78 2.81-2.81c.8-.78.8-2.07 0-2.86zM5.41 20L4 18.59l7.72-7.72 1.47 1.35L5.41 20z\"/>\n",
              "  </svg>\n",
              "      </button>\n",
              "      \n",
              "  <style>\n",
              "    .colab-df-container {\n",
              "      display:flex;\n",
              "      flex-wrap:wrap;\n",
              "      gap: 12px;\n",
              "    }\n",
              "\n",
              "    .colab-df-convert {\n",
              "      background-color: #E8F0FE;\n",
              "      border: none;\n",
              "      border-radius: 50%;\n",
              "      cursor: pointer;\n",
              "      display: none;\n",
              "      fill: #1967D2;\n",
              "      height: 32px;\n",
              "      padding: 0 0 0 0;\n",
              "      width: 32px;\n",
              "    }\n",
              "\n",
              "    .colab-df-convert:hover {\n",
              "      background-color: #E2EBFA;\n",
              "      box-shadow: 0px 1px 2px rgba(60, 64, 67, 0.3), 0px 1px 3px 1px rgba(60, 64, 67, 0.15);\n",
              "      fill: #174EA6;\n",
              "    }\n",
              "\n",
              "    [theme=dark] .colab-df-convert {\n",
              "      background-color: #3B4455;\n",
              "      fill: #D2E3FC;\n",
              "    }\n",
              "\n",
              "    [theme=dark] .colab-df-convert:hover {\n",
              "      background-color: #434B5C;\n",
              "      box-shadow: 0px 1px 3px 1px rgba(0, 0, 0, 0.15);\n",
              "      filter: drop-shadow(0px 1px 2px rgba(0, 0, 0, 0.3));\n",
              "      fill: #FFFFFF;\n",
              "    }\n",
              "  </style>\n",
              "\n",
              "      <script>\n",
              "        const buttonEl =\n",
              "          document.querySelector('#df-c0943ce0-13a4-4d9a-8af1-6ceec55e8c03 button.colab-df-convert');\n",
              "        buttonEl.style.display =\n",
              "          google.colab.kernel.accessAllowed ? 'block' : 'none';\n",
              "\n",
              "        async function convertToInteractive(key) {\n",
              "          const element = document.querySelector('#df-c0943ce0-13a4-4d9a-8af1-6ceec55e8c03');\n",
              "          const dataTable =\n",
              "            await google.colab.kernel.invokeFunction('convertToInteractive',\n",
              "                                                     [key], {});\n",
              "          if (!dataTable) return;\n",
              "\n",
              "          const docLinkHtml = 'Like what you see? Visit the ' +\n",
              "            '<a target=\"_blank\" href=https://colab.research.google.com/notebooks/data_table.ipynb>data table notebook</a>'\n",
              "            + ' to learn more about interactive tables.';\n",
              "          element.innerHTML = '';\n",
              "          dataTable['output_type'] = 'display_data';\n",
              "          await google.colab.output.renderOutput(dataTable, element);\n",
              "          const docLink = document.createElement('div');\n",
              "          docLink.innerHTML = docLinkHtml;\n",
              "          element.appendChild(docLink);\n",
              "        }\n",
              "      </script>\n",
              "    </div>\n",
              "  </div>\n",
              "  "
            ]
          },
          "metadata": {},
          "execution_count": 25
        }
      ]
    },
    {
      "cell_type": "code",
      "source": [
        "df.isnull().sum() # check if any null's in the dataset"
      ],
      "metadata": {
        "id": "LeGERHItbPRW",
        "colab": {
          "base_uri": "https://localhost:8080/"
        },
        "outputId": "538b8022-c171-4649-baf9-800f86e82ac1"
      },
      "execution_count": 26,
      "outputs": [
        {
          "output_type": "execute_result",
          "data": {
            "text/plain": [
              "txt          0\n",
              "sentiment    0\n",
              "dtype: int64"
            ]
          },
          "metadata": {},
          "execution_count": 26
        }
      ]
    },
    {
      "cell_type": "markdown",
      "metadata": {
        "id": "Yx3MfMpxx9ct"
      },
      "source": [
        "Word Count Distribution:"
      ]
    },
    {
      "cell_type": "code",
      "execution_count": 28,
      "metadata": {
        "colab": {
          "base_uri": "https://localhost:8080/",
          "height": 206
        },
        "id": "G9InDKE6x4X2",
        "outputId": "ac84ebe1-b3c3-41ac-d916-b5fa46fd9b4e"
      },
      "outputs": [
        {
          "output_type": "execute_result",
          "data": {
            "text/plain": [
              "                                                       txt  sentiment  \\\n",
              "1079220  miles' own favorite recording: this was miles'...          1   \n",
              "3162594  register of all arms: the book is a good sourc...          1   \n",
              "104631   not an undergraduage text: this book was used ...          0   \n",
              "2867708  not the same as the old chocolate fudge browni...          0   \n",
              "1059023  oh yeah....: five stars aren't enough for this...          1   \n",
              "\n",
              "         num_of_words  \n",
              "1079220            64  \n",
              "3162594            32  \n",
              "104631            112  \n",
              "2867708            37  \n",
              "1059023            63  "
            ],
            "text/html": [
              "\n",
              "  <div id=\"df-420787c4-0281-48da-88fb-51e880a2071f\">\n",
              "    <div class=\"colab-df-container\">\n",
              "      <div>\n",
              "<style scoped>\n",
              "    .dataframe tbody tr th:only-of-type {\n",
              "        vertical-align: middle;\n",
              "    }\n",
              "\n",
              "    .dataframe tbody tr th {\n",
              "        vertical-align: top;\n",
              "    }\n",
              "\n",
              "    .dataframe thead th {\n",
              "        text-align: right;\n",
              "    }\n",
              "</style>\n",
              "<table border=\"1\" class=\"dataframe\">\n",
              "  <thead>\n",
              "    <tr style=\"text-align: right;\">\n",
              "      <th></th>\n",
              "      <th>txt</th>\n",
              "      <th>sentiment</th>\n",
              "      <th>num_of_words</th>\n",
              "    </tr>\n",
              "  </thead>\n",
              "  <tbody>\n",
              "    <tr>\n",
              "      <th>1079220</th>\n",
              "      <td>miles' own favorite recording: this was miles'...</td>\n",
              "      <td>1</td>\n",
              "      <td>64</td>\n",
              "    </tr>\n",
              "    <tr>\n",
              "      <th>3162594</th>\n",
              "      <td>register of all arms: the book is a good sourc...</td>\n",
              "      <td>1</td>\n",
              "      <td>32</td>\n",
              "    </tr>\n",
              "    <tr>\n",
              "      <th>104631</th>\n",
              "      <td>not an undergraduage text: this book was used ...</td>\n",
              "      <td>0</td>\n",
              "      <td>112</td>\n",
              "    </tr>\n",
              "    <tr>\n",
              "      <th>2867708</th>\n",
              "      <td>not the same as the old chocolate fudge browni...</td>\n",
              "      <td>0</td>\n",
              "      <td>37</td>\n",
              "    </tr>\n",
              "    <tr>\n",
              "      <th>1059023</th>\n",
              "      <td>oh yeah....: five stars aren't enough for this...</td>\n",
              "      <td>1</td>\n",
              "      <td>63</td>\n",
              "    </tr>\n",
              "  </tbody>\n",
              "</table>\n",
              "</div>\n",
              "      <button class=\"colab-df-convert\" onclick=\"convertToInteractive('df-420787c4-0281-48da-88fb-51e880a2071f')\"\n",
              "              title=\"Convert this dataframe to an interactive table.\"\n",
              "              style=\"display:none;\">\n",
              "        \n",
              "  <svg xmlns=\"http://www.w3.org/2000/svg\" height=\"24px\"viewBox=\"0 0 24 24\"\n",
              "       width=\"24px\">\n",
              "    <path d=\"M0 0h24v24H0V0z\" fill=\"none\"/>\n",
              "    <path d=\"M18.56 5.44l.94 2.06.94-2.06 2.06-.94-2.06-.94-.94-2.06-.94 2.06-2.06.94zm-11 1L8.5 8.5l.94-2.06 2.06-.94-2.06-.94L8.5 2.5l-.94 2.06-2.06.94zm10 10l.94 2.06.94-2.06 2.06-.94-2.06-.94-.94-2.06-.94 2.06-2.06.94z\"/><path d=\"M17.41 7.96l-1.37-1.37c-.4-.4-.92-.59-1.43-.59-.52 0-1.04.2-1.43.59L10.3 9.45l-7.72 7.72c-.78.78-.78 2.05 0 2.83L4 21.41c.39.39.9.59 1.41.59.51 0 1.02-.2 1.41-.59l7.78-7.78 2.81-2.81c.8-.78.8-2.07 0-2.86zM5.41 20L4 18.59l7.72-7.72 1.47 1.35L5.41 20z\"/>\n",
              "  </svg>\n",
              "      </button>\n",
              "      \n",
              "  <style>\n",
              "    .colab-df-container {\n",
              "      display:flex;\n",
              "      flex-wrap:wrap;\n",
              "      gap: 12px;\n",
              "    }\n",
              "\n",
              "    .colab-df-convert {\n",
              "      background-color: #E8F0FE;\n",
              "      border: none;\n",
              "      border-radius: 50%;\n",
              "      cursor: pointer;\n",
              "      display: none;\n",
              "      fill: #1967D2;\n",
              "      height: 32px;\n",
              "      padding: 0 0 0 0;\n",
              "      width: 32px;\n",
              "    }\n",
              "\n",
              "    .colab-df-convert:hover {\n",
              "      background-color: #E2EBFA;\n",
              "      box-shadow: 0px 1px 2px rgba(60, 64, 67, 0.3), 0px 1px 3px 1px rgba(60, 64, 67, 0.15);\n",
              "      fill: #174EA6;\n",
              "    }\n",
              "\n",
              "    [theme=dark] .colab-df-convert {\n",
              "      background-color: #3B4455;\n",
              "      fill: #D2E3FC;\n",
              "    }\n",
              "\n",
              "    [theme=dark] .colab-df-convert:hover {\n",
              "      background-color: #434B5C;\n",
              "      box-shadow: 0px 1px 3px 1px rgba(0, 0, 0, 0.15);\n",
              "      filter: drop-shadow(0px 1px 2px rgba(0, 0, 0, 0.3));\n",
              "      fill: #FFFFFF;\n",
              "    }\n",
              "  </style>\n",
              "\n",
              "      <script>\n",
              "        const buttonEl =\n",
              "          document.querySelector('#df-420787c4-0281-48da-88fb-51e880a2071f button.colab-df-convert');\n",
              "        buttonEl.style.display =\n",
              "          google.colab.kernel.accessAllowed ? 'block' : 'none';\n",
              "\n",
              "        async function convertToInteractive(key) {\n",
              "          const element = document.querySelector('#df-420787c4-0281-48da-88fb-51e880a2071f');\n",
              "          const dataTable =\n",
              "            await google.colab.kernel.invokeFunction('convertToInteractive',\n",
              "                                                     [key], {});\n",
              "          if (!dataTable) return;\n",
              "\n",
              "          const docLinkHtml = 'Like what you see? Visit the ' +\n",
              "            '<a target=\"_blank\" href=https://colab.research.google.com/notebooks/data_table.ipynb>data table notebook</a>'\n",
              "            + ' to learn more about interactive tables.';\n",
              "          element.innerHTML = '';\n",
              "          dataTable['output_type'] = 'display_data';\n",
              "          await google.colab.output.renderOutput(dataTable, element);\n",
              "          const docLink = document.createElement('div');\n",
              "          docLink.innerHTML = docLinkHtml;\n",
              "          element.appendChild(docLink);\n",
              "        }\n",
              "      </script>\n",
              "    </div>\n",
              "  </div>\n",
              "  "
            ]
          },
          "metadata": {},
          "execution_count": 28
        }
      ],
      "source": [
        "# add a colum of number of words per document (prior to any pre-processing of text)\n",
        "df['num_of_words'] = df['txt'].apply(lambda x : len(x.split(' ')))\n",
        "df.sample(5)"
      ]
    },
    {
      "cell_type": "code",
      "execution_count": 29,
      "metadata": {
        "colab": {
          "base_uri": "https://localhost:8080/"
        },
        "id": "_NldlRbGwoTZ",
        "outputId": "435c9e7a-3f22-4c9e-b7a5-635577979dbb"
      },
      "outputs": [
        {
          "output_type": "stream",
          "name": "stdout",
          "text": [
            "Minimum num of words per document 2 words\n",
            "Minimum num of words per document 257 words\n",
            "In average, each document contains 78 words\n"
          ]
        }
      ],
      "source": [
        "# print the max min\n",
        "print(f'Minimum num of words per document {int(np.round(df[\"num_of_words\"].min()))} words')\n",
        "print(f'Minimum num of words per document {int(np.round(df[\"num_of_words\"].max()))} words')\n",
        "print(f'In average, each document contains {int(np.round(df[\"num_of_words\"].mean()))} words')"
      ]
    },
    {
      "cell_type": "code",
      "source": [
        "df.describe()"
      ],
      "metadata": {
        "colab": {
          "base_uri": "https://localhost:8080/",
          "height": 300
        },
        "id": "Fks-d_T66xAo",
        "outputId": "c37c2368-71c5-4dfb-ce65-72c057a20492"
      },
      "execution_count": 30,
      "outputs": [
        {
          "output_type": "execute_result",
          "data": {
            "text/plain": [
              "          sentiment  num_of_words\n",
              "count  3.599663e+06  3.599663e+06\n",
              "mean   5.000301e-01  7.848158e+01\n",
              "std    5.000001e-01  4.283219e+01\n",
              "min    0.000000e+00  2.000000e+00\n",
              "25%    0.000000e+00  4.200000e+01\n",
              "50%    1.000000e+00  7.000000e+01\n",
              "75%    1.000000e+00  1.080000e+02\n",
              "max    1.000000e+00  2.570000e+02"
            ],
            "text/html": [
              "\n",
              "  <div id=\"df-5e4f2ae1-39c5-42de-8583-7996b9ea5ea5\">\n",
              "    <div class=\"colab-df-container\">\n",
              "      <div>\n",
              "<style scoped>\n",
              "    .dataframe tbody tr th:only-of-type {\n",
              "        vertical-align: middle;\n",
              "    }\n",
              "\n",
              "    .dataframe tbody tr th {\n",
              "        vertical-align: top;\n",
              "    }\n",
              "\n",
              "    .dataframe thead th {\n",
              "        text-align: right;\n",
              "    }\n",
              "</style>\n",
              "<table border=\"1\" class=\"dataframe\">\n",
              "  <thead>\n",
              "    <tr style=\"text-align: right;\">\n",
              "      <th></th>\n",
              "      <th>sentiment</th>\n",
              "      <th>num_of_words</th>\n",
              "    </tr>\n",
              "  </thead>\n",
              "  <tbody>\n",
              "    <tr>\n",
              "      <th>count</th>\n",
              "      <td>3.599663e+06</td>\n",
              "      <td>3.599663e+06</td>\n",
              "    </tr>\n",
              "    <tr>\n",
              "      <th>mean</th>\n",
              "      <td>5.000301e-01</td>\n",
              "      <td>7.848158e+01</td>\n",
              "    </tr>\n",
              "    <tr>\n",
              "      <th>std</th>\n",
              "      <td>5.000001e-01</td>\n",
              "      <td>4.283219e+01</td>\n",
              "    </tr>\n",
              "    <tr>\n",
              "      <th>min</th>\n",
              "      <td>0.000000e+00</td>\n",
              "      <td>2.000000e+00</td>\n",
              "    </tr>\n",
              "    <tr>\n",
              "      <th>25%</th>\n",
              "      <td>0.000000e+00</td>\n",
              "      <td>4.200000e+01</td>\n",
              "    </tr>\n",
              "    <tr>\n",
              "      <th>50%</th>\n",
              "      <td>1.000000e+00</td>\n",
              "      <td>7.000000e+01</td>\n",
              "    </tr>\n",
              "    <tr>\n",
              "      <th>75%</th>\n",
              "      <td>1.000000e+00</td>\n",
              "      <td>1.080000e+02</td>\n",
              "    </tr>\n",
              "    <tr>\n",
              "      <th>max</th>\n",
              "      <td>1.000000e+00</td>\n",
              "      <td>2.570000e+02</td>\n",
              "    </tr>\n",
              "  </tbody>\n",
              "</table>\n",
              "</div>\n",
              "      <button class=\"colab-df-convert\" onclick=\"convertToInteractive('df-5e4f2ae1-39c5-42de-8583-7996b9ea5ea5')\"\n",
              "              title=\"Convert this dataframe to an interactive table.\"\n",
              "              style=\"display:none;\">\n",
              "        \n",
              "  <svg xmlns=\"http://www.w3.org/2000/svg\" height=\"24px\"viewBox=\"0 0 24 24\"\n",
              "       width=\"24px\">\n",
              "    <path d=\"M0 0h24v24H0V0z\" fill=\"none\"/>\n",
              "    <path d=\"M18.56 5.44l.94 2.06.94-2.06 2.06-.94-2.06-.94-.94-2.06-.94 2.06-2.06.94zm-11 1L8.5 8.5l.94-2.06 2.06-.94-2.06-.94L8.5 2.5l-.94 2.06-2.06.94zm10 10l.94 2.06.94-2.06 2.06-.94-2.06-.94-.94-2.06-.94 2.06-2.06.94z\"/><path d=\"M17.41 7.96l-1.37-1.37c-.4-.4-.92-.59-1.43-.59-.52 0-1.04.2-1.43.59L10.3 9.45l-7.72 7.72c-.78.78-.78 2.05 0 2.83L4 21.41c.39.39.9.59 1.41.59.51 0 1.02-.2 1.41-.59l7.78-7.78 2.81-2.81c.8-.78.8-2.07 0-2.86zM5.41 20L4 18.59l7.72-7.72 1.47 1.35L5.41 20z\"/>\n",
              "  </svg>\n",
              "      </button>\n",
              "      \n",
              "  <style>\n",
              "    .colab-df-container {\n",
              "      display:flex;\n",
              "      flex-wrap:wrap;\n",
              "      gap: 12px;\n",
              "    }\n",
              "\n",
              "    .colab-df-convert {\n",
              "      background-color: #E8F0FE;\n",
              "      border: none;\n",
              "      border-radius: 50%;\n",
              "      cursor: pointer;\n",
              "      display: none;\n",
              "      fill: #1967D2;\n",
              "      height: 32px;\n",
              "      padding: 0 0 0 0;\n",
              "      width: 32px;\n",
              "    }\n",
              "\n",
              "    .colab-df-convert:hover {\n",
              "      background-color: #E2EBFA;\n",
              "      box-shadow: 0px 1px 2px rgba(60, 64, 67, 0.3), 0px 1px 3px 1px rgba(60, 64, 67, 0.15);\n",
              "      fill: #174EA6;\n",
              "    }\n",
              "\n",
              "    [theme=dark] .colab-df-convert {\n",
              "      background-color: #3B4455;\n",
              "      fill: #D2E3FC;\n",
              "    }\n",
              "\n",
              "    [theme=dark] .colab-df-convert:hover {\n",
              "      background-color: #434B5C;\n",
              "      box-shadow: 0px 1px 3px 1px rgba(0, 0, 0, 0.15);\n",
              "      filter: drop-shadow(0px 1px 2px rgba(0, 0, 0, 0.3));\n",
              "      fill: #FFFFFF;\n",
              "    }\n",
              "  </style>\n",
              "\n",
              "      <script>\n",
              "        const buttonEl =\n",
              "          document.querySelector('#df-5e4f2ae1-39c5-42de-8583-7996b9ea5ea5 button.colab-df-convert');\n",
              "        buttonEl.style.display =\n",
              "          google.colab.kernel.accessAllowed ? 'block' : 'none';\n",
              "\n",
              "        async function convertToInteractive(key) {\n",
              "          const element = document.querySelector('#df-5e4f2ae1-39c5-42de-8583-7996b9ea5ea5');\n",
              "          const dataTable =\n",
              "            await google.colab.kernel.invokeFunction('convertToInteractive',\n",
              "                                                     [key], {});\n",
              "          if (!dataTable) return;\n",
              "\n",
              "          const docLinkHtml = 'Like what you see? Visit the ' +\n",
              "            '<a target=\"_blank\" href=https://colab.research.google.com/notebooks/data_table.ipynb>data table notebook</a>'\n",
              "            + ' to learn more about interactive tables.';\n",
              "          element.innerHTML = '';\n",
              "          dataTable['output_type'] = 'display_data';\n",
              "          await google.colab.output.renderOutput(dataTable, element);\n",
              "          const docLink = document.createElement('div');\n",
              "          docLink.innerHTML = docLinkHtml;\n",
              "          element.appendChild(docLink);\n",
              "        }\n",
              "      </script>\n",
              "    </div>\n",
              "  </div>\n",
              "  "
            ]
          },
          "metadata": {},
          "execution_count": 30
        }
      ]
    },
    {
      "cell_type": "markdown",
      "metadata": {
        "id": "v6nLVPQkc9Ab"
      },
      "source": [
        "Print the longest and the shortest documents"
      ]
    },
    {
      "cell_type": "code",
      "execution_count": 31,
      "metadata": {
        "colab": {
          "base_uri": "https://localhost:8080/",
          "height": 112
        },
        "id": "xjV3XjMoc7_s",
        "outputId": "95a0019f-2f3d-4d86-dfc5-c996e6fe2dbb"
      },
      "outputs": [
        {
          "output_type": "execute_result",
          "data": {
            "text/plain": [
              "                                                       txt  sentiment  \\\n",
              "567147   great: teterriffic!terriffic!terriffic!terriff...          1   \n",
              "1373977  booo: booooooooooooooooooooooooooooooooooooooo...          0   \n",
              "\n",
              "         num_of_words  \n",
              "567147              2  \n",
              "1373977             2  "
            ],
            "text/html": [
              "\n",
              "  <div id=\"df-e8a0adda-586c-41bc-b90e-fb7c8093254c\">\n",
              "    <div class=\"colab-df-container\">\n",
              "      <div>\n",
              "<style scoped>\n",
              "    .dataframe tbody tr th:only-of-type {\n",
              "        vertical-align: middle;\n",
              "    }\n",
              "\n",
              "    .dataframe tbody tr th {\n",
              "        vertical-align: top;\n",
              "    }\n",
              "\n",
              "    .dataframe thead th {\n",
              "        text-align: right;\n",
              "    }\n",
              "</style>\n",
              "<table border=\"1\" class=\"dataframe\">\n",
              "  <thead>\n",
              "    <tr style=\"text-align: right;\">\n",
              "      <th></th>\n",
              "      <th>txt</th>\n",
              "      <th>sentiment</th>\n",
              "      <th>num_of_words</th>\n",
              "    </tr>\n",
              "  </thead>\n",
              "  <tbody>\n",
              "    <tr>\n",
              "      <th>567147</th>\n",
              "      <td>great: teterriffic!terriffic!terriffic!terriff...</td>\n",
              "      <td>1</td>\n",
              "      <td>2</td>\n",
              "    </tr>\n",
              "    <tr>\n",
              "      <th>1373977</th>\n",
              "      <td>booo: booooooooooooooooooooooooooooooooooooooo...</td>\n",
              "      <td>0</td>\n",
              "      <td>2</td>\n",
              "    </tr>\n",
              "  </tbody>\n",
              "</table>\n",
              "</div>\n",
              "      <button class=\"colab-df-convert\" onclick=\"convertToInteractive('df-e8a0adda-586c-41bc-b90e-fb7c8093254c')\"\n",
              "              title=\"Convert this dataframe to an interactive table.\"\n",
              "              style=\"display:none;\">\n",
              "        \n",
              "  <svg xmlns=\"http://www.w3.org/2000/svg\" height=\"24px\"viewBox=\"0 0 24 24\"\n",
              "       width=\"24px\">\n",
              "    <path d=\"M0 0h24v24H0V0z\" fill=\"none\"/>\n",
              "    <path d=\"M18.56 5.44l.94 2.06.94-2.06 2.06-.94-2.06-.94-.94-2.06-.94 2.06-2.06.94zm-11 1L8.5 8.5l.94-2.06 2.06-.94-2.06-.94L8.5 2.5l-.94 2.06-2.06.94zm10 10l.94 2.06.94-2.06 2.06-.94-2.06-.94-.94-2.06-.94 2.06-2.06.94z\"/><path d=\"M17.41 7.96l-1.37-1.37c-.4-.4-.92-.59-1.43-.59-.52 0-1.04.2-1.43.59L10.3 9.45l-7.72 7.72c-.78.78-.78 2.05 0 2.83L4 21.41c.39.39.9.59 1.41.59.51 0 1.02-.2 1.41-.59l7.78-7.78 2.81-2.81c.8-.78.8-2.07 0-2.86zM5.41 20L4 18.59l7.72-7.72 1.47 1.35L5.41 20z\"/>\n",
              "  </svg>\n",
              "      </button>\n",
              "      \n",
              "  <style>\n",
              "    .colab-df-container {\n",
              "      display:flex;\n",
              "      flex-wrap:wrap;\n",
              "      gap: 12px;\n",
              "    }\n",
              "\n",
              "    .colab-df-convert {\n",
              "      background-color: #E8F0FE;\n",
              "      border: none;\n",
              "      border-radius: 50%;\n",
              "      cursor: pointer;\n",
              "      display: none;\n",
              "      fill: #1967D2;\n",
              "      height: 32px;\n",
              "      padding: 0 0 0 0;\n",
              "      width: 32px;\n",
              "    }\n",
              "\n",
              "    .colab-df-convert:hover {\n",
              "      background-color: #E2EBFA;\n",
              "      box-shadow: 0px 1px 2px rgba(60, 64, 67, 0.3), 0px 1px 3px 1px rgba(60, 64, 67, 0.15);\n",
              "      fill: #174EA6;\n",
              "    }\n",
              "\n",
              "    [theme=dark] .colab-df-convert {\n",
              "      background-color: #3B4455;\n",
              "      fill: #D2E3FC;\n",
              "    }\n",
              "\n",
              "    [theme=dark] .colab-df-convert:hover {\n",
              "      background-color: #434B5C;\n",
              "      box-shadow: 0px 1px 3px 1px rgba(0, 0, 0, 0.15);\n",
              "      filter: drop-shadow(0px 1px 2px rgba(0, 0, 0, 0.3));\n",
              "      fill: #FFFFFF;\n",
              "    }\n",
              "  </style>\n",
              "\n",
              "      <script>\n",
              "        const buttonEl =\n",
              "          document.querySelector('#df-e8a0adda-586c-41bc-b90e-fb7c8093254c button.colab-df-convert');\n",
              "        buttonEl.style.display =\n",
              "          google.colab.kernel.accessAllowed ? 'block' : 'none';\n",
              "\n",
              "        async function convertToInteractive(key) {\n",
              "          const element = document.querySelector('#df-e8a0adda-586c-41bc-b90e-fb7c8093254c');\n",
              "          const dataTable =\n",
              "            await google.colab.kernel.invokeFunction('convertToInteractive',\n",
              "                                                     [key], {});\n",
              "          if (!dataTable) return;\n",
              "\n",
              "          const docLinkHtml = 'Like what you see? Visit the ' +\n",
              "            '<a target=\"_blank\" href=https://colab.research.google.com/notebooks/data_table.ipynb>data table notebook</a>'\n",
              "            + ' to learn more about interactive tables.';\n",
              "          element.innerHTML = '';\n",
              "          dataTable['output_type'] = 'display_data';\n",
              "          await google.colab.output.renderOutput(dataTable, element);\n",
              "          const docLink = document.createElement('div');\n",
              "          docLink.innerHTML = docLinkHtml;\n",
              "          element.appendChild(docLink);\n",
              "        }\n",
              "      </script>\n",
              "    </div>\n",
              "  </div>\n",
              "  "
            ]
          },
          "metadata": {},
          "execution_count": 31
        }
      ],
      "source": [
        "df.sort_values(by=['num_of_words']).head(2)"
      ]
    },
    {
      "cell_type": "code",
      "execution_count": 32,
      "metadata": {
        "colab": {
          "base_uri": "https://localhost:8080/"
        },
        "id": "b9ip9ypYdM80",
        "outputId": "2f862495-2c3e-4421-8e7d-178454b93fce"
      },
      "outputs": [
        {
          "output_type": "execute_result",
          "data": {
            "text/plain": [
              "['great: teterriffic!terriffic!terriffic!terriffic!terriffic!terriffic!terriffic!terriffic!terriffic!terriffic!terriffic!terriffic!',\n",
              " 'booo: booooooooooooooooooooooooooooooooooooooooooooooooooooooooooooooooooooooooooooooooooooooooooooooooooooooooooooooooooooooooooooooooooooooooooooooooooooooooooooooooooooooooooooooooooooooooooooooooooooooooooooooooooooooooooooooooooooooooooooooooooooooooooooooooooooooooooooooooooooooooooooooooooooooooooooo']"
            ]
          },
          "metadata": {},
          "execution_count": 32
        }
      ],
      "source": [
        "df.sort_values(by=['num_of_words']).head(2).txt.tolist()"
      ]
    },
    {
      "cell_type": "code",
      "execution_count": 35,
      "metadata": {
        "colab": {
          "base_uri": "https://localhost:8080/"
        },
        "id": "NKBZw02vd4nm",
        "outputId": "ed6afa63-b609-44e4-f29b-5561653f72f9"
      },
      "outputs": [
        {
          "output_type": "execute_result",
          "data": {
            "text/plain": [
              "84"
            ]
          },
          "metadata": {},
          "execution_count": 35
        }
      ],
      "source": [
        "len(str(df.sort_values(by=['num_of_words']).head(1).txt)) # count \"letters\" "
      ]
    },
    {
      "cell_type": "code",
      "source": [
        "len(str(df.sort_values(by=['num_of_words']).head(2).txt)) # count \"letters\" "
      ],
      "metadata": {
        "colab": {
          "base_uri": "https://localhost:8080/"
        },
        "id": "Vj2a42K7JKf8",
        "outputId": "af92e630-3861-4c73-ffe3-f5bcbafaec36"
      },
      "execution_count": 36,
      "outputs": [
        {
          "output_type": "execute_result",
          "data": {
            "text/plain": [
              "146"
            ]
          },
          "metadata": {},
          "execution_count": 36
        }
      ]
    },
    {
      "cell_type": "code",
      "execution_count": 37,
      "metadata": {
        "id": "UupBaIPadC7M",
        "colab": {
          "base_uri": "https://localhost:8080/",
          "height": 112
        },
        "outputId": "cbac07a5-679d-4f43-a95e-bd4798e3b398"
      },
      "outputs": [
        {
          "output_type": "execute_result",
          "data": {
            "text/plain": [
              "                                                       txt  sentiment  \\\n",
              "44003    no: no no no no no no no no no no no no no no ...          0   \n",
              "3071621  ilok is rubbish!!: i have never been able to g...          0   \n",
              "\n",
              "         num_of_words  \n",
              "44003             241  \n",
              "3071621           257  "
            ],
            "text/html": [
              "\n",
              "  <div id=\"df-425b4663-3b85-4282-9456-83263cda1a7d\">\n",
              "    <div class=\"colab-df-container\">\n",
              "      <div>\n",
              "<style scoped>\n",
              "    .dataframe tbody tr th:only-of-type {\n",
              "        vertical-align: middle;\n",
              "    }\n",
              "\n",
              "    .dataframe tbody tr th {\n",
              "        vertical-align: top;\n",
              "    }\n",
              "\n",
              "    .dataframe thead th {\n",
              "        text-align: right;\n",
              "    }\n",
              "</style>\n",
              "<table border=\"1\" class=\"dataframe\">\n",
              "  <thead>\n",
              "    <tr style=\"text-align: right;\">\n",
              "      <th></th>\n",
              "      <th>txt</th>\n",
              "      <th>sentiment</th>\n",
              "      <th>num_of_words</th>\n",
              "    </tr>\n",
              "  </thead>\n",
              "  <tbody>\n",
              "    <tr>\n",
              "      <th>44003</th>\n",
              "      <td>no: no no no no no no no no no no no no no no ...</td>\n",
              "      <td>0</td>\n",
              "      <td>241</td>\n",
              "    </tr>\n",
              "    <tr>\n",
              "      <th>3071621</th>\n",
              "      <td>ilok is rubbish!!: i have never been able to g...</td>\n",
              "      <td>0</td>\n",
              "      <td>257</td>\n",
              "    </tr>\n",
              "  </tbody>\n",
              "</table>\n",
              "</div>\n",
              "      <button class=\"colab-df-convert\" onclick=\"convertToInteractive('df-425b4663-3b85-4282-9456-83263cda1a7d')\"\n",
              "              title=\"Convert this dataframe to an interactive table.\"\n",
              "              style=\"display:none;\">\n",
              "        \n",
              "  <svg xmlns=\"http://www.w3.org/2000/svg\" height=\"24px\"viewBox=\"0 0 24 24\"\n",
              "       width=\"24px\">\n",
              "    <path d=\"M0 0h24v24H0V0z\" fill=\"none\"/>\n",
              "    <path d=\"M18.56 5.44l.94 2.06.94-2.06 2.06-.94-2.06-.94-.94-2.06-.94 2.06-2.06.94zm-11 1L8.5 8.5l.94-2.06 2.06-.94-2.06-.94L8.5 2.5l-.94 2.06-2.06.94zm10 10l.94 2.06.94-2.06 2.06-.94-2.06-.94-.94-2.06-.94 2.06-2.06.94z\"/><path d=\"M17.41 7.96l-1.37-1.37c-.4-.4-.92-.59-1.43-.59-.52 0-1.04.2-1.43.59L10.3 9.45l-7.72 7.72c-.78.78-.78 2.05 0 2.83L4 21.41c.39.39.9.59 1.41.59.51 0 1.02-.2 1.41-.59l7.78-7.78 2.81-2.81c.8-.78.8-2.07 0-2.86zM5.41 20L4 18.59l7.72-7.72 1.47 1.35L5.41 20z\"/>\n",
              "  </svg>\n",
              "      </button>\n",
              "      \n",
              "  <style>\n",
              "    .colab-df-container {\n",
              "      display:flex;\n",
              "      flex-wrap:wrap;\n",
              "      gap: 12px;\n",
              "    }\n",
              "\n",
              "    .colab-df-convert {\n",
              "      background-color: #E8F0FE;\n",
              "      border: none;\n",
              "      border-radius: 50%;\n",
              "      cursor: pointer;\n",
              "      display: none;\n",
              "      fill: #1967D2;\n",
              "      height: 32px;\n",
              "      padding: 0 0 0 0;\n",
              "      width: 32px;\n",
              "    }\n",
              "\n",
              "    .colab-df-convert:hover {\n",
              "      background-color: #E2EBFA;\n",
              "      box-shadow: 0px 1px 2px rgba(60, 64, 67, 0.3), 0px 1px 3px 1px rgba(60, 64, 67, 0.15);\n",
              "      fill: #174EA6;\n",
              "    }\n",
              "\n",
              "    [theme=dark] .colab-df-convert {\n",
              "      background-color: #3B4455;\n",
              "      fill: #D2E3FC;\n",
              "    }\n",
              "\n",
              "    [theme=dark] .colab-df-convert:hover {\n",
              "      background-color: #434B5C;\n",
              "      box-shadow: 0px 1px 3px 1px rgba(0, 0, 0, 0.15);\n",
              "      filter: drop-shadow(0px 1px 2px rgba(0, 0, 0, 0.3));\n",
              "      fill: #FFFFFF;\n",
              "    }\n",
              "  </style>\n",
              "\n",
              "      <script>\n",
              "        const buttonEl =\n",
              "          document.querySelector('#df-425b4663-3b85-4282-9456-83263cda1a7d button.colab-df-convert');\n",
              "        buttonEl.style.display =\n",
              "          google.colab.kernel.accessAllowed ? 'block' : 'none';\n",
              "\n",
              "        async function convertToInteractive(key) {\n",
              "          const element = document.querySelector('#df-425b4663-3b85-4282-9456-83263cda1a7d');\n",
              "          const dataTable =\n",
              "            await google.colab.kernel.invokeFunction('convertToInteractive',\n",
              "                                                     [key], {});\n",
              "          if (!dataTable) return;\n",
              "\n",
              "          const docLinkHtml = 'Like what you see? Visit the ' +\n",
              "            '<a target=\"_blank\" href=https://colab.research.google.com/notebooks/data_table.ipynb>data table notebook</a>'\n",
              "            + ' to learn more about interactive tables.';\n",
              "          element.innerHTML = '';\n",
              "          dataTable['output_type'] = 'display_data';\n",
              "          await google.colab.output.renderOutput(dataTable, element);\n",
              "          const docLink = document.createElement('div');\n",
              "          docLink.innerHTML = docLinkHtml;\n",
              "          element.appendChild(docLink);\n",
              "        }\n",
              "      </script>\n",
              "    </div>\n",
              "  </div>\n",
              "  "
            ]
          },
          "metadata": {},
          "execution_count": 37
        }
      ],
      "source": [
        "df.sort_values(by=['num_of_words']).tail(2) # longest document"
      ]
    },
    {
      "cell_type": "code",
      "source": [
        "df.sort_values(by=['num_of_words']).tail(2).txt.tolist()"
      ],
      "metadata": {
        "colab": {
          "base_uri": "https://localhost:8080/"
        },
        "id": "MveUCEEqJQk3",
        "outputId": "8471d605-19b5-4cc5-8df0-82029c5c650e"
      },
      "execution_count": 38,
      "outputs": [
        {
          "output_type": "execute_result",
          "data": {
            "text/plain": [
              "['no: no no no no no no no no no no no no no no no no no no no no no no no no no no no no no no no no no no no no no no no no no no no no no no no no no no no no no no no no no no no no no no no no no no no no no no no no no no no no no no no no no no no no no no no no no no no no no no no no no no no no no no no no no no no no no no no no no no no no no no no no no no no no no no no no no no no no no no no no no no no no no no no no no no no no no no no no no no no no no no no no no no no no no no no no no no no no no no no! does not work. do not buy. warning warning danger danger. if you are looking into this thing as an old school styling method forget about it. i tried it and it does nothing you think it will. vitalis does not work in any way and it smells terrible. go buy some styling gel instead as this product will not re-create a retro look at all.',\n",
              " 'ilok is rubbish!!: i have never been able to get this worthless thing to work. $300 down the tubes! total waste!! rubbish crap!!! the worst part is the ilok thing (worst idea ever!!) totally broke and now they want $50 bucks for a new one? i mean, it takes up an entire usb port so that it can run a license for one [crappy] program. as you can probably tell, i am not happy. boycott!! dont buy!!! no no no no no no no no no no no no no no no no no no no no no no no no no no no no no no no no no no no no no no no no no no no no no no no no no no no no no no no no no no no no no no no no no no no no no no no no no no no no no no no no no no no no no no no no no no no no no no no no no no no no no no no no no no no no no no no no no no no no no no no no no no no no no no no no no no no no no no no no no no no no no no no no no no no no no no no no no no no no no no no no no no no no no no no no no no no no no no no no no no no no']"
            ]
          },
          "metadata": {},
          "execution_count": 38
        }
      ]
    },
    {
      "cell_type": "markdown",
      "metadata": {
        "id": "qS1rRoAT124I"
      },
      "source": [
        "\n",
        "Plot number of words per document"
      ]
    },
    {
      "cell_type": "code",
      "execution_count": 39,
      "metadata": {
        "id": "WGDr0fcpwQIX",
        "colab": {
          "base_uri": "https://localhost:8080/",
          "height": 490
        },
        "outputId": "1aeea48c-ae3d-433d-af50-d3746124b4e0"
      },
      "outputs": [
        {
          "output_type": "execute_result",
          "data": {
            "text/plain": [
              "Text(0, 0.5, 'Documents')"
            ]
          },
          "metadata": {},
          "execution_count": 39
        },
        {
          "output_type": "display_data",
          "data": {
            "text/plain": [
              "<Figure size 640x480 with 1 Axes>"
            ],
            "image/png": "[encoded data removed]"
          },
          "metadata": {}
        }
      ],
      "source": [
        "plt.hist(df['num_of_words'], bins=50)\n",
        "plt.title('Number of words per document distribution')\n",
        "plt.xlabel('Number of words per document')\n",
        "plt.ylabel('Documents')"
      ]
    },
    {
      "cell_type": "markdown",
      "source": [
        "How many different words in the dataset?\n"
      ],
      "metadata": {
        "id": "qMmx-TN8A95k"
      }
    },
    {
      "cell_type": "code",
      "source": [
        "# Split the text into words and get the unique words\n",
        "#unique_words = pd.Series(' '.join(df['txt']).split()).unique()\n",
        "word_counts = pd.Series(' '.join(df['txt']).split()).value_counts()\n",
        "# Count the number of unique words\n",
        "print('Number of unique words:', len(word_counts))"
      ],
      "metadata": {
        "id": "W8dARfyEBMVe"
      },
      "execution_count": null,
      "outputs": []
    },
    {
      "cell_type": "code",
      "source": [
        "# try more efficient code:\n",
        "# Split the 'txt' column into words and count their occurrences\n",
        "word_counts = df['txt'].apply(lambda x: pd.Series(x.split())).stack().value_counts()"
      ],
      "metadata": {
        "id": "tgMSjxvXKO4B"
      },
      "execution_count": null,
      "outputs": []
    },
    {
      "cell_type": "code",
      "source": [
        "# Print the word counts\n",
        "print(word_counts)"
      ],
      "metadata": {
        "id": "cjN1R00HKTEp"
      },
      "execution_count": null,
      "outputs": []
    },
    {
      "cell_type": "markdown",
      "source": [
        "What are the most similar documents?\n",
        "\n",
        "* remove duplicates\n",
        "* use sentence embedding to find the most similar sentences\n"
      ],
      "metadata": {
        "id": "QzgEXWk5GAIv"
      }
    },
    {
      "cell_type": "code",
      "source": [
        "!pip install sentence_transformers -q  # https://www.sbert.net/"
      ],
      "metadata": {
        "colab": {
          "base_uri": "https://localhost:8080/"
        },
        "id": "tV9RunnFIk2K",
        "outputId": "7b8fdc87-c4ec-49b0-9ff9-cf53760b982f"
      },
      "execution_count": null,
      "outputs": [
        {
          "output_type": "stream",
          "name": "stdout",
          "text": [
            "\u001b[?25l     \u001b[90m━━━━━━━━━━━━━━━━━━━━━━━━━━━━━━━━━━━━━━━━\u001b[0m \u001b[32m0.0/86.0 KB\u001b[0m \u001b[31m?\u001b[0m eta \u001b[36m-:--:--\u001b[0m\r\u001b[2K     \u001b[90m━━━━━━━━━━━━━━━━━━━━━━━━━━━━━━━━━━━━━━━━\u001b[0m \u001b[32m86.0/86.0 KB\u001b[0m \u001b[31m5.1 MB/s\u001b[0m eta \u001b[36m0:00:00\u001b[0m\n",
            "\u001b[?25h  Preparing metadata (setup.py) ... \u001b[?25l\u001b[?25hdone\n",
            "\u001b[2K     \u001b[90m━━━━━━━━━━━━━━━━━━━━━━━━━━━━━━━━━━━━━━━━\u001b[0m \u001b[32m6.8/6.8 MB\u001b[0m \u001b[31m67.2 MB/s\u001b[0m eta \u001b[36m0:00:00\u001b[0m\n",
            "\u001b[2K     \u001b[90m━━━━━━━━━━━━━━━━━━━━━━━━━━━━━━━━━━━━━━━━\u001b[0m \u001b[32m1.3/1.3 MB\u001b[0m \u001b[31m64.2 MB/s\u001b[0m eta \u001b[36m0:00:00\u001b[0m\n",
            "\u001b[2K     \u001b[90m━━━━━━━━━━━━━━━━━━━━━━━━━━━━━━━━━━━━━━\u001b[0m \u001b[32m199.8/199.8 KB\u001b[0m \u001b[31m20.3 MB/s\u001b[0m eta \u001b[36m0:00:00\u001b[0m\n",
            "\u001b[2K     \u001b[90m━━━━━━━━━━━━━━━━━━━━━━━━━━━━━━━━━━━━━━━━\u001b[0m \u001b[32m7.6/7.6 MB\u001b[0m \u001b[31m84.5 MB/s\u001b[0m eta \u001b[36m0:00:00\u001b[0m\n",
            "\u001b[?25h  Building wheel for sentence_transformers (setup.py) ... \u001b[?25l\u001b[?25hdone\n"
          ]
        }
      ]
    },
    {
      "cell_type": "code",
      "source": [
        "from sentence_transformers import SentenceTransformer"
      ],
      "metadata": {
        "id": "eEyH8qzZIk4l"
      },
      "execution_count": null,
      "outputs": []
    },
    {
      "cell_type": "code",
      "source": [
        "# This is a sentence-transformers model: https://huggingface.co/sentence-transformers/all-MiniLM-L12-v1\n",
        "# It maps sentences & paragraphs to a 384 dimensional dense vector space \n",
        "# and can be used for tasks like clustering or semantic search.\n",
        "model = SentenceTransformer('sentence-transformers/all-MiniLM-L12-v1') # creating a model"
      ],
      "metadata": {
        "colab": {
          "base_uri": "https://localhost:8080/",
          "height": 465,
          "referenced_widgets": [
            "fa9ed060fbff42318521e2dde5495db8",
            "abe36c635bcb4cc480746492a560eec2",
            "95e7d42f02c0440d9dec0aaca4be8c2d",
            "38e9d8f3b8bc43dd8eb0d7f4e20c1d3c",
            "74a1d8fb96f64a7e8e3c9f00c6b62b8a",
            "7cc4109c4d4e475c97d083f4b450eef5",
            "7dbd733d90ce4be2963b35b261475845",
            "b8f112d3284a4db9a5b78f1ea38ec3e7",
            "eb3a392b566b4bb8b9f355e0b7da3be5",
            "c55bc0747d8f447dbbb9422f35f14686",
            "7031c41535614777b627221c6ecb7896",
            "c964bf8c8f4b4050a9386f2b35915fd1",
            "54e3e07154134a21bc65bd0630e53339",
            "26cffa71d67f415cb0c079a9bd5927b8",
            "3c56ce5f1b414116b6cfeb14afb80e7a",
            "79deef9c7f97499eb4a000415c8beaaa",
            "1a24445f4528490a971d4478de3880b1",
            "80fc597815674d729afb429f5e0344ef",
            "b2edf7aeb3f24be29d517e0bddd00aef",
            "0733bfeaba1b4c60a99f953cfb2eec01",
            "ec03c5abce7a4dee97c9f35483f3d977",
            "247f3c09c93a4a51b3ad8ad859149435",
            "59c731af870448c8ad6716ba2c5b313e",
            "31cdff64584749399009490f8776d06d",
            "5e521c18b5d14dc39395623a2c7dba1a",
            "8cd765534385482c81da13fceb66fb78",
            "dc58d8c87c35465899ff0bed651c2652",
            "c62c37deb1934da4aa9d0af3b39a52d5",
            "e34d66fc09c54cd49923522c2e3162e4",
            "808c8a02e4a14590ae2dfaa32a378039",
            "44b9cd27c2e344b282a573da2b0e267b",
            "3ba5bd2bfab6453b953055c868a9fa59",
            "b05a4396f493458ebe3d5bf5b9612549",
            "326f33a0dba44e8995f125bcfc90f901",
            "3b3d16055ade4f688ea69156dae188e0",
            "7ff1acf90afc454b8c77dd9cebebd2e4",
            "76d5ccb455eb4a939ed67454ec7c6153",
            "068ffe41f75843f7893aed50f7577718",
            "246a44d36ce64d87823914178cb2ec04",
            "8f628824341a46c3bc459e8c3a608c78",
            "ec4d6c5225ce4a41931d4aedc027a422",
            "64ea09e5ccea4684991c7ff02f5898be",
            "76343147319f409588e62090fd0145d0",
            "a085ce1ab9954669b03f555877c55427",
            "a4607fd13685426493511c4a047c4d3b",
            "27036e5f1a3c4158a2269de9096af50a",
            "adc250dac70446dcbd0e313bc5fb2b02",
            "1f1421f41b3447a586a3898b29da2bb6",
            "7dfc1fcdbafe41f182eef974d6f4c14b",
            "c0cf7f2f6a3044d895045eea7142dc03",
            "4ca9e1f456bd42b481897d8c07b4a9c8",
            "2448356996e44910a753c73165441ab0",
            "fdc9b2949236443baeeeea3cfcc537de",
            "6137638d18664d1794fdd8db33a963aa",
            "cc4ee8c92aa940d79e55995ba1bdd325",
            "8b57e45e318940c4883c9f18b6e2e8eb",
            "25410fba819d4cef9fffda0e8fc2431a",
            "91422b2e5a8b450d8e63dd50bddb0ebc",
            "f97b6809a5664a2c8b6653d5551c5f6b",
            "47cda276467b4dac83fce67a7ee60ebc",
            "1bc8bcfbf2e5492a9aebf2c803df657e",
            "878dbd405a0c46f4a141d16693279147",
            "6b9bdfdd119c41dd9699d0354d6b6062",
            "f511b61754854a459694fef005c44588",
            "fdaeca1de8c04ff68c584762ea4c4afe",
            "753048434b6646f498d6beabfe8e1ea6",
            "3c58d108962547b5815fdd398fb472a0",
            "d74d6facfc754577b471b97f87d535c0",
            "d66b81d58bf244b3b89f28d1876be789",
            "8e1b97d0a42543869c0853ac0b921252",
            "58307fa00bfb4d70be29a4ef892140d4",
            "b15040ec3a204c2ca18dc032d0e4551b",
            "dac314d3bea2478ab45346d2ce3207eb",
            "07ecca2fa1b440ac87f04444d5eb653a",
            "4a3693fe06d04a269b3c3021ae733b71",
            "9150e43e5b9d49b59908e94ce6e9d177",
            "3bc6de0d754248b698867bd5af904aaf",
            "cadfc272fb5f40d7825dfa7b7eb979bf",
            "fa1b104bdf51412791a40a160666b067",
            "6f302896eca941a096900bb490e1220c",
            "30f78023475b42f6b5ff7d580abc1a06",
            "16a999a7cbf94b61889fd78ec1b08f35",
            "1b138f6b37184684a1fddc7aa7f8cd14",
            "0f2debf201ee477b9459d3bea99792ef",
            "c31d7e3c80364b85a7041e436438873f",
            "3314ab860c364d3d8454a03a8d1335d2",
            "dd56dbfaf0c843eaa68ff9759e70179f",
            "25c3be35a4384a3686f115089ac91fd2",
            "3aa322699b5f4bbe86df55377fbce300",
            "dc94cba783604fb783938a74720d5977",
            "be552790e22f4fc686f0e572d26cd561",
            "3ce5e4a2862e49f2867842186834caac",
            "9996f9a1c96844a8b2720cb0d0ce95eb",
            "80fdcef4bb5d47e49fc2d277114cd8d9",
            "2e7393531d3b4c51b9350780b9b33053",
            "061b2e871bb844509632c64888236f12",
            "11b25e7d681846f8831c8e3ba4e5dab7",
            "82663a94d3554bf3ac1b88a94eeb6fdd",
            "345b0b90edae47bfafcedbbf3d5e02b2",
            "1799b4e345424c28bd924ab314a216ee",
            "28a5db2900834a9ab3ab477056061971",
            "f2d815676cb74ec98e07eb0c58fb3f7c",
            "f1fb194a36a04c72806041d589cd4dcd",
            "29e9071595324091a0d69368f605a09e",
            "eb680335b5bf42b19e661bc4ecc83d1c",
            "d033dbbb4bd94e028ed47cbb424e24f8",
            "f5c855a1bafa4aa8907ba145203c55ce",
            "46f6a689f729472a879ab50db3f7d6c2",
            "322ee3d6dbaf46a9b90a121fef3d8c45",
            "ad41c7e978b84458ba7ee32e253b853a",
            "f56a801fb796434bbddb8198266696ac",
            "f6b1009360cd47789d917bfc634779e5",
            "cf6e63aaf71f4ee092a8c6d4e77117c0",
            "6c84cb9b2217457e8e1cae658b832a91",
            "2c4e6c575aca4a979f329d7bf470a68a",
            "c35297a72a1d4fdfa3aa320017c6aac8",
            "829058bb970d4a35bdc3aea2caf23817",
            "6ea4e3a109484278bf99279dc309505f",
            "ee533681a5294f6abf6a34a9d0b71aaf",
            "80db8142b09b4beba460a90ae5cf0615",
            "396cadb721bd4753a0cdb10d879cea52",
            "3c635b6e01e24e39a614a45f71fa82f4",
            "13e59a46627c4f1894628502d9a44651",
            "d9c7e8f6d7d24cb2bf60c268a3454d7e",
            "9cda781c5fe349fe8e73ead4dadacf77",
            "1a6b1c76dc6442559c8c34c8cd17433b",
            "973aa4231ea44498bcb82986ef687ac6",
            "46d22daeb52f4afcb34b776431f7d1de",
            "5d8aa7fcadb146559c5fd823331595ef",
            "45ce1e4113e34aacaddfd8d23771d3eb",
            "96a7939a62534efd865f69587749b863",
            "2317d91b468d47bfad4be0330f389195",
            "604db82341a44f2c83f8d1c6f4c4c1cf",
            "2ad23fc147e143c5924b302a72a733ee",
            "8c91b752611747438ec0eb00a001ca21",
            "9a1d7db7d6c248e0a5fa1c545c1c36b2",
            "d1c66320e363452dbd9de50b5ba3b69e",
            "eef5a58203724bc3a76c3be5364f5419",
            "d08c82780fb74ad3b3b77fbb7a0ee030",
            "861a62d38c0a45dba856f56210477819",
            "ea3b0dc3fde54419b3468fb778d49c8c",
            "7a727a84eb0746348d7f6e80133d205a",
            "cf95c18029804a688963d8c9a56c6492",
            "603350cbf40f4ee4957e2023c7e7bf6a",
            "7bb669d39ad345e9bae290d059c35b24",
            "cacd10ebb3534f1a9142d76260906f73",
            "82f279a9956b49538db1828382f50aca",
            "e1255ef9b3b7480fad047e689bc932be",
            "26a712c6eeac4137910c92ba0d145f24",
            "5903ab70dcb942018636e7a13c466176",
            "8883b2138e164137bd0a37dec675aa38",
            "65b045d10e9048b5bd57d131fa6174e3",
            "48cb2dd41ffa4cf0ae6669346d64e6c9",
            "cc017e4510724550a3db7a1cdaa80aea"
          ]
        },
        "id": "9IWuemm5IoGi",
        "outputId": "ecc89e86-0ba6-4614-e42c-5cab0a1b664d"
      },
      "execution_count": null,
      "outputs": [
        {
          "output_type": "display_data",
          "data": {
            "text/plain": [
              "Downloading (…)c926f/.gitattributes:   0%|          | 0.00/737 [00:00<?, ?B/s]"
            ],
            "application/vnd.jupyter.widget-view+json": {
              "version_major": 2,
              "version_minor": 0,
              "model_id": "fa9ed060fbff42318521e2dde5495db8"
            }
          },
          "metadata": {}
        },
        {
          "output_type": "display_data",
          "data": {
            "text/plain": [
              "Downloading (…)_Pooling/config.json:   0%|          | 0.00/190 [00:00<?, ?B/s]"
            ],
            "application/vnd.jupyter.widget-view+json": {
              "version_major": 2,
              "version_minor": 0,
              "model_id": "c964bf8c8f4b4050a9386f2b35915fd1"
            }
          },
          "metadata": {}
        },
        {
          "output_type": "display_data",
          "data": {
            "text/plain": [
              "Downloading (…)8101fc926f/README.md:   0%|          | 0.00/9.90k [00:00<?, ?B/s]"
            ],
            "application/vnd.jupyter.widget-view+json": {
              "version_major": 2,
              "version_minor": 0,
              "model_id": "59c731af870448c8ad6716ba2c5b313e"
            }
          },
          "metadata": {}
        },
        {
          "output_type": "display_data",
          "data": {
            "text/plain": [
              "Downloading (…)01fc926f/config.json:   0%|          | 0.00/573 [00:00<?, ?B/s]"
            ],
            "application/vnd.jupyter.widget-view+json": {
              "version_major": 2,
              "version_minor": 0,
              "model_id": "326f33a0dba44e8995f125bcfc90f901"
            }
          },
          "metadata": {}
        },
        {
          "output_type": "display_data",
          "data": {
            "text/plain": [
              "Downloading (…)ce_transformers.json:   0%|          | 0.00/116 [00:00<?, ?B/s]"
            ],
            "application/vnd.jupyter.widget-view+json": {
              "version_major": 2,
              "version_minor": 0,
              "model_id": "a4607fd13685426493511c4a047c4d3b"
            }
          },
          "metadata": {}
        },
        {
          "output_type": "display_data",
          "data": {
            "text/plain": [
              "Downloading (…)26f/data_config.json:   0%|          | 0.00/15.7k [00:00<?, ?B/s]"
            ],
            "application/vnd.jupyter.widget-view+json": {
              "version_major": 2,
              "version_minor": 0,
              "model_id": "8b57e45e318940c4883c9f18b6e2e8eb"
            }
          },
          "metadata": {}
        },
        {
          "output_type": "display_data",
          "data": {
            "text/plain": [
              "Downloading pytorch_model.bin:   0%|          | 0.00/134M [00:00<?, ?B/s]"
            ],
            "application/vnd.jupyter.widget-view+json": {
              "version_major": 2,
              "version_minor": 0,
              "model_id": "3c58d108962547b5815fdd398fb472a0"
            }
          },
          "metadata": {}
        },
        {
          "output_type": "display_data",
          "data": {
            "text/plain": [
              "Downloading (…)nce_bert_config.json:   0%|          | 0.00/53.0 [00:00<?, ?B/s]"
            ],
            "application/vnd.jupyter.widget-view+json": {
              "version_major": 2,
              "version_minor": 0,
              "model_id": "cadfc272fb5f40d7825dfa7b7eb979bf"
            }
          },
          "metadata": {}
        },
        {
          "output_type": "display_data",
          "data": {
            "text/plain": [
              "Downloading (…)cial_tokens_map.json:   0%|          | 0.00/112 [00:00<?, ?B/s]"
            ],
            "application/vnd.jupyter.widget-view+json": {
              "version_major": 2,
              "version_minor": 0,
              "model_id": "3aa322699b5f4bbe86df55377fbce300"
            }
          },
          "metadata": {}
        },
        {
          "output_type": "display_data",
          "data": {
            "text/plain": [
              "Downloading (…)c926f/tokenizer.json:   0%|          | 0.00/466k [00:00<?, ?B/s]"
            ],
            "application/vnd.jupyter.widget-view+json": {
              "version_major": 2,
              "version_minor": 0,
              "model_id": "1799b4e345424c28bd924ab314a216ee"
            }
          },
          "metadata": {}
        },
        {
          "output_type": "display_data",
          "data": {
            "text/plain": [
              "Downloading (…)okenizer_config.json:   0%|          | 0.00/352 [00:00<?, ?B/s]"
            ],
            "application/vnd.jupyter.widget-view+json": {
              "version_major": 2,
              "version_minor": 0,
              "model_id": "f56a801fb796434bbddb8198266696ac"
            }
          },
          "metadata": {}
        },
        {
          "output_type": "display_data",
          "data": {
            "text/plain": [
              "Downloading (…)926f/train_script.py:   0%|          | 0.00/13.2k [00:00<?, ?B/s]"
            ],
            "application/vnd.jupyter.widget-view+json": {
              "version_major": 2,
              "version_minor": 0,
              "model_id": "3c635b6e01e24e39a614a45f71fa82f4"
            }
          },
          "metadata": {}
        },
        {
          "output_type": "display_data",
          "data": {
            "text/plain": [
              "Downloading (…)8101fc926f/vocab.txt:   0%|          | 0.00/232k [00:00<?, ?B/s]"
            ],
            "application/vnd.jupyter.widget-view+json": {
              "version_major": 2,
              "version_minor": 0,
              "model_id": "604db82341a44f2c83f8d1c6f4c4c1cf"
            }
          },
          "metadata": {}
        },
        {
          "output_type": "display_data",
          "data": {
            "text/plain": [
              "Downloading (…)1fc926f/modules.json:   0%|          | 0.00/349 [00:00<?, ?B/s]"
            ],
            "application/vnd.jupyter.widget-view+json": {
              "version_major": 2,
              "version_minor": 0,
              "model_id": "603350cbf40f4ee4957e2023c7e7bf6a"
            }
          },
          "metadata": {}
        }
      ]
    },
    {
      "cell_type": "code",
      "source": [
        "first_sentence = df.txt[0] # example of embeding one sentence\n",
        "embeddings_one = model.encode(first_sentence)"
      ],
      "metadata": {
        "id": "zAsEmEOZJek8"
      },
      "execution_count": null,
      "outputs": []
    },
    {
      "cell_type": "code",
      "source": [
        "embeddings_one.shape  # number of dim in the embedded vector"
      ],
      "metadata": {
        "colab": {
          "base_uri": "https://localhost:8080/"
        },
        "id": "ue262Qb0Jens",
        "outputId": "be1ce98c-5d53-4b21-c6fe-54e4078554e9"
      },
      "execution_count": null,
      "outputs": [
        {
          "output_type": "execute_result",
          "data": {
            "text/plain": [
              "(384,)"
            ]
          },
          "metadata": {},
          "execution_count": 30
        }
      ]
    },
    {
      "cell_type": "code",
      "source": [
        "short_train_sentences = df.txt[0:1500]\n",
        "%%time\n",
        "embeddings_all = model.encode(short_train_sentences)  # embedding only  1500 sentences due to memory and machine limitations"
      ],
      "metadata": {
        "id": "S5pHf_JhJeqv"
      },
      "execution_count": null,
      "outputs": []
    },
    {
      "cell_type": "code",
      "source": [
        "from numpy.linalg import norm\n",
        "def calc_cosine_sim(sent_A, sent_B):\n",
        "  # compute cosine similarity\n",
        "  cosine = np.dot(sent_A, sent_B)/(norm(sent_A)*norm(sent_B))\n",
        "  return cosine"
      ],
      "metadata": {
        "id": "KTbqDBg_IoJO"
      },
      "execution_count": null,
      "outputs": []
    },
    {
      "cell_type": "code",
      "source": [
        "calc_cosine_sim(embeddings_all[0], embeddings_all[0])  # sanity check"
      ],
      "metadata": {
        "colab": {
          "base_uri": "https://localhost:8080/"
        },
        "id": "dm_Uw3xqKVBF",
        "outputId": "7bacef3d-d5ba-4a45-ecaf-becc898303fc"
      },
      "execution_count": null,
      "outputs": [
        {
          "output_type": "execute_result",
          "data": {
            "text/plain": [
              "1.0000001"
            ]
          },
          "metadata": {},
          "execution_count": 35
        }
      ]
    },
    {
      "cell_type": "code",
      "source": [
        "sim = [(calc_cosine_sim(embeddings_one, e), idx) for idx, e in enumerate(embeddings_all)]  # calc cosine for all sentences\n",
        "sim_list = []\n",
        "list(sim_list)"
      ],
      "metadata": {
        "colab": {
          "base_uri": "https://localhost:8080/"
        },
        "id": "j_e_kzcOKVjJ",
        "outputId": "cce54a55-67cb-470c-e1df-c50345416601"
      },
      "execution_count": null,
      "outputs": [
        {
          "output_type": "execute_result",
          "data": {
            "text/plain": [
              "[]"
            ]
          },
          "metadata": {},
          "execution_count": 38
        }
      ]
    },
    {
      "cell_type": "code",
      "source": [
        "%%time\n",
        "for ind in range(0,len(short_train_sentences)-1):\n",
        "    embeddings_one = model.encode(short_train_sentences[ind]) # choosing one sent each loop\n",
        "    sim = [(calc_cosine_sim(embeddings_one, e), ind, idx) for idx, e in enumerate(embeddings_all)] # (score, sent_ind, sent_ind_2)\n",
        "    sim.sort(reverse=True)\n",
        "    #print(sim[1]) # print most similar score and index which is not the same sentences\n",
        "    sim_list.append(sim[1])"
      ],
      "metadata": {
        "id": "II_HWiseKVlm"
      },
      "execution_count": null,
      "outputs": []
    },
    {
      "cell_type": "code",
      "source": [
        "sim_list.sort(reverse=True)\n",
        "sim_list[0:10]"
      ],
      "metadata": {
        "colab": {
          "base_uri": "https://localhost:8080/"
        },
        "id": "CeIbz_7RKf8i",
        "outputId": "a006dd53-d18b-47e3-92fd-e588b4817ca7"
      },
      "execution_count": null,
      "outputs": [
        {
          "output_type": "execute_result",
          "data": {
            "text/plain": [
              "[(0.92493665, 118, 117),\n",
              " (0.92493665, 117, 118),\n",
              " (0.90757257, 1265, 1266),\n",
              " (0.9075725, 1266, 1265),\n",
              " (0.9047174, 898, 784),\n",
              " (0.9047174, 784, 898),\n",
              " (0.88331825, 1067, 1089),\n",
              " (0.8833181, 1089, 1067),\n",
              " (0.88268125, 839, 898),\n",
              " (0.881019, 760, 898)]"
            ]
          },
          "metadata": {},
          "execution_count": 40
        }
      ]
    },
    {
      "cell_type": "code",
      "source": [
        "# print most similar sentences:\n",
        "print(short_train_sentences[117])\n",
        "print(short_train_sentences[118])"
      ],
      "metadata": {
        "colab": {
          "base_uri": "https://localhost:8080/"
        },
        "id": "zALcrDkzKqcv",
        "outputId": "89628598-4e28-4bdb-bac3-7dea79cb2a88"
      },
      "execution_count": null,
      "outputs": [
        {
          "output_type": "stream",
          "name": "stdout",
          "text": [
            "i got fooled...: i did not know this was the audio cd of the game, i thought it could be used on the playstation. maybe the other guys are from the us or somewhere where it is actually easy to get the game,and play it,but this was all in japanese and was not compatible with my machine. i am deeply disappointed as i love the arcade game, but the dance stage euromix (dance dance revolution equivalent) is lacking in decent tracks, many are jungle-y and are difficult to dance to them. also, most of these tracks are unheard of here and are therefore not very enjoyable. however, my favourite are keep on moving, make a jam, and video killed the radio star. but it gets a bit pedantic if you keep playing on these tracks. if anyone is in the same situation as i am, or those of you who are lucky enough the play on the newest version, can you please let me know where i can order one? i am in dance deprivation/boredom!\n",
            "i got fooled...: i did not know this was the audio cd of the game, i thought it could be used on the playstation. maybe the other guys are from the us or somewhere where it is actually easy to get the game,and play it,but this was all in japanese and was not compatible with my machine. i am deeply disappointed as i love the arcade game, but the dance stage euromix (dance dance revolution equivalent) is lacking in decent tracks, many are jungle-y and are difficult to dance to them. also, most of these tracks are unheard of here and are therefore not very enjoyable. if anyone is in the same situation as i am, or those of you who are lucky enough the play on the newest version, can you please let me know where i can order one? i am in dance deprivation/boredom!\n"
          ]
        }
      ]
    },
    {
      "cell_type": "code",
      "source": [
        "# plot cosine similarity\n",
        "\n",
        "values = [x[0] for x in sim_list]\n",
        "plt.hist(values, bins=50)\n",
        "plt.title('Cosine similarity distibution')\n",
        "plt.xlabel('Cosine Similarity')\n",
        "plt.ylabel('Documents')"
      ],
      "metadata": {
        "colab": {
          "base_uri": "https://localhost:8080/",
          "height": 489
        },
        "id": "4F_Ju088IoL_",
        "outputId": "6032e733-da26-4cf8-c8f4-e97a810d57bc"
      },
      "execution_count": null,
      "outputs": [
        {
          "output_type": "execute_result",
          "data": {
            "text/plain": [
              "Text(0, 0.5, 'Documents')"
            ]
          },
          "metadata": {},
          "execution_count": 44
        },
        {
          "output_type": "display_data",
          "data": {
            "text/plain": [
              "<Figure size 640x480 with 1 Axes>"
            ],
            "image/png": "[encoded data removed]"
          },
          "metadata": {}
        }
      ]
    },
    {
      "cell_type": "markdown",
      "metadata": {
        "id": "w8CoUEsf689O"
      },
      "source": [
        "Experiment with Glove - a word embedding model"
      ]
    },
    {
      "cell_type": "code",
      "execution_count": null,
      "metadata": {
        "id": "nlIjT1Z768hN",
        "colab": {
          "base_uri": "https://localhost:8080/"
        },
        "outputId": "63c790c4-a029-45a2-eb21-b44e480e90b4"
      },
      "outputs": [
        {
          "output_type": "stream",
          "name": "stdout",
          "text": [
            "[=================================================-] 98.0% 102.7/104.8MB downloaded\n"
          ]
        }
      ],
      "source": [
        "import gensim.downloader as api\n",
        "glove_model = api.load('glove-twitter-25')"
      ]
    },
    {
      "cell_type": "markdown",
      "metadata": {
        "id": "Z3-qIQgKXHxH"
      },
      "source": [
        "Counting the words that are known to GloVe, add a column to the df"
      ]
    },
    {
      "cell_type": "code",
      "execution_count": null,
      "metadata": {
        "id": "YzocWim26vy4"
      },
      "outputs": [],
      "source": [
        "df['known_to_glove'] = df['txt'].apply(lambda x : sum([1 for item in x.split(' ') if glove_model.__contains__(item)]))"
      ]
    },
    {
      "cell_type": "code",
      "execution_count": null,
      "metadata": {
        "colab": {
          "base_uri": "https://localhost:8080/",
          "height": 206
        },
        "id": "rzuB1mwO9_nj",
        "outputId": "cea01ca8-cea2-4503-ea26-b2686e6ba809"
      },
      "outputs": [
        {
          "output_type": "execute_result",
          "data": {
            "text/plain": [
              "                                                 txt  sentiment  num_of_words  \\\n",
              "0  stuning even for the non-gamer: this sound tra...          1            80   \n",
              "1  the best soundtrack ever to anything.: i'm rea...          1            97   \n",
              "2  amazing!: this soundtrack is my favorite music...          1           129   \n",
              "3  excellent soundtrack: i truly like this soundt...          1           118   \n",
              "4  remember, pull your jaw off the floor after he...          1            87   \n",
              "\n",
              "   known_to_glove  \n",
              "0              72  \n",
              "1              82  \n",
              "2              96  \n",
              "3              86  \n",
              "4              62  "
            ],
            "text/html": [
              "\n",
              "  <div id=\"df-b849a7c6-edad-433b-b1a4-e4e631a0394d\">\n",
              "    <div class=\"colab-df-container\">\n",
              "      <div>\n",
              "<style scoped>\n",
              "    .dataframe tbody tr th:only-of-type {\n",
              "        vertical-align: middle;\n",
              "    }\n",
              "\n",
              "    .dataframe tbody tr th {\n",
              "        vertical-align: top;\n",
              "    }\n",
              "\n",
              "    .dataframe thead th {\n",
              "        text-align: right;\n",
              "    }\n",
              "</style>\n",
              "<table border=\"1\" class=\"dataframe\">\n",
              "  <thead>\n",
              "    <tr style=\"text-align: right;\">\n",
              "      <th></th>\n",
              "      <th>txt</th>\n",
              "      <th>sentiment</th>\n",
              "      <th>num_of_words</th>\n",
              "      <th>known_to_glove</th>\n",
              "    </tr>\n",
              "  </thead>\n",
              "  <tbody>\n",
              "    <tr>\n",
              "      <th>0</th>\n",
              "      <td>stuning even for the non-gamer: this sound tra...</td>\n",
              "      <td>1</td>\n",
              "      <td>80</td>\n",
              "      <td>72</td>\n",
              "    </tr>\n",
              "    <tr>\n",
              "      <th>1</th>\n",
              "      <td>the best soundtrack ever to anything.: i'm rea...</td>\n",
              "      <td>1</td>\n",
              "      <td>97</td>\n",
              "      <td>82</td>\n",
              "    </tr>\n",
              "    <tr>\n",
              "      <th>2</th>\n",
              "      <td>amazing!: this soundtrack is my favorite music...</td>\n",
              "      <td>1</td>\n",
              "      <td>129</td>\n",
              "      <td>96</td>\n",
              "    </tr>\n",
              "    <tr>\n",
              "      <th>3</th>\n",
              "      <td>excellent soundtrack: i truly like this soundt...</td>\n",
              "      <td>1</td>\n",
              "      <td>118</td>\n",
              "      <td>86</td>\n",
              "    </tr>\n",
              "    <tr>\n",
              "      <th>4</th>\n",
              "      <td>remember, pull your jaw off the floor after he...</td>\n",
              "      <td>1</td>\n",
              "      <td>87</td>\n",
              "      <td>62</td>\n",
              "    </tr>\n",
              "  </tbody>\n",
              "</table>\n",
              "</div>\n",
              "      <button class=\"colab-df-convert\" onclick=\"convertToInteractive('df-b849a7c6-edad-433b-b1a4-e4e631a0394d')\"\n",
              "              title=\"Convert this dataframe to an interactive table.\"\n",
              "              style=\"display:none;\">\n",
              "        \n",
              "  <svg xmlns=\"http://www.w3.org/2000/svg\" height=\"24px\"viewBox=\"0 0 24 24\"\n",
              "       width=\"24px\">\n",
              "    <path d=\"M0 0h24v24H0V0z\" fill=\"none\"/>\n",
              "    <path d=\"M18.56 5.44l.94 2.06.94-2.06 2.06-.94-2.06-.94-.94-2.06-.94 2.06-2.06.94zm-11 1L8.5 8.5l.94-2.06 2.06-.94-2.06-.94L8.5 2.5l-.94 2.06-2.06.94zm10 10l.94 2.06.94-2.06 2.06-.94-2.06-.94-.94-2.06-.94 2.06-2.06.94z\"/><path d=\"M17.41 7.96l-1.37-1.37c-.4-.4-.92-.59-1.43-.59-.52 0-1.04.2-1.43.59L10.3 9.45l-7.72 7.72c-.78.78-.78 2.05 0 2.83L4 21.41c.39.39.9.59 1.41.59.51 0 1.02-.2 1.41-.59l7.78-7.78 2.81-2.81c.8-.78.8-2.07 0-2.86zM5.41 20L4 18.59l7.72-7.72 1.47 1.35L5.41 20z\"/>\n",
              "  </svg>\n",
              "      </button>\n",
              "      \n",
              "  <style>\n",
              "    .colab-df-container {\n",
              "      display:flex;\n",
              "      flex-wrap:wrap;\n",
              "      gap: 12px;\n",
              "    }\n",
              "\n",
              "    .colab-df-convert {\n",
              "      background-color: #E8F0FE;\n",
              "      border: none;\n",
              "      border-radius: 50%;\n",
              "      cursor: pointer;\n",
              "      display: none;\n",
              "      fill: #1967D2;\n",
              "      height: 32px;\n",
              "      padding: 0 0 0 0;\n",
              "      width: 32px;\n",
              "    }\n",
              "\n",
              "    .colab-df-convert:hover {\n",
              "      background-color: #E2EBFA;\n",
              "      box-shadow: 0px 1px 2px rgba(60, 64, 67, 0.3), 0px 1px 3px 1px rgba(60, 64, 67, 0.15);\n",
              "      fill: #174EA6;\n",
              "    }\n",
              "\n",
              "    [theme=dark] .colab-df-convert {\n",
              "      background-color: #3B4455;\n",
              "      fill: #D2E3FC;\n",
              "    }\n",
              "\n",
              "    [theme=dark] .colab-df-convert:hover {\n",
              "      background-color: #434B5C;\n",
              "      box-shadow: 0px 1px 3px 1px rgba(0, 0, 0, 0.15);\n",
              "      filter: drop-shadow(0px 1px 2px rgba(0, 0, 0, 0.3));\n",
              "      fill: #FFFFFF;\n",
              "    }\n",
              "  </style>\n",
              "\n",
              "      <script>\n",
              "        const buttonEl =\n",
              "          document.querySelector('#df-b849a7c6-edad-433b-b1a4-e4e631a0394d button.colab-df-convert');\n",
              "        buttonEl.style.display =\n",
              "          google.colab.kernel.accessAllowed ? 'block' : 'none';\n",
              "\n",
              "        async function convertToInteractive(key) {\n",
              "          const element = document.querySelector('#df-b849a7c6-edad-433b-b1a4-e4e631a0394d');\n",
              "          const dataTable =\n",
              "            await google.colab.kernel.invokeFunction('convertToInteractive',\n",
              "                                                     [key], {});\n",
              "          if (!dataTable) return;\n",
              "\n",
              "          const docLinkHtml = 'Like what you see? Visit the ' +\n",
              "            '<a target=\"_blank\" href=https://colab.research.google.com/notebooks/data_table.ipynb>data table notebook</a>'\n",
              "            + ' to learn more about interactive tables.';\n",
              "          element.innerHTML = '';\n",
              "          dataTable['output_type'] = 'display_data';\n",
              "          await google.colab.output.renderOutput(dataTable, element);\n",
              "          const docLink = document.createElement('div');\n",
              "          docLink.innerHTML = docLinkHtml;\n",
              "          element.appendChild(docLink);\n",
              "        }\n",
              "      </script>\n",
              "    </div>\n",
              "  </div>\n",
              "  "
            ]
          },
          "metadata": {},
          "execution_count": 15
        }
      ],
      "source": [
        "df.head()"
      ]
    },
    {
      "cell_type": "markdown",
      "metadata": {
        "id": "umCbxWOt_ECf"
      },
      "source": [
        "Most words in our dataset are known to GloVe  (this is before pre-processing)\n"
      ]
    },
    {
      "cell_type": "code",
      "execution_count": null,
      "metadata": {
        "colab": {
          "base_uri": "https://localhost:8080/",
          "height": 279
        },
        "id": "efZrkojW6iXu",
        "outputId": "a403f752-bb6c-4ba2-fe0f-f9e47b42c25c"
      },
      "outputs": [
        {
          "output_type": "display_data",
          "data": {
            "text/plain": [
              "<Figure size 432x288 with 1 Axes>"
            ],
            "image/png": "[encoded data removed]"
          },
          "metadata": {
            "needs_background": "light"
          }
        }
      ],
      "source": [
        "plt.hist(df['num_of_words'], alpha=0.5, label='Words in doc', bins=20)\n",
        "plt.hist(df['known_to_glove'], alpha=0.5, label='Known words', bins=20)\n",
        "plt.xlabel('Number of words in document')\n",
        "plt.ylabel('Documents')\n",
        "plt.legend();"
      ]
    },
    {
      "cell_type": "code",
      "execution_count": null,
      "metadata": {
        "colab": {
          "base_uri": "https://localhost:8080/"
        },
        "id": "uXT99Gz5_IFZ",
        "outputId": "e84bd11d-6e82-4445-c995-4d1f712a7402"
      },
      "outputs": [
        {
          "output_type": "execute_result",
          "data": {
            "text/plain": [
              "[('iran', 0.8881680369377136),\n",
              " ('gaza', 0.8732103705406189),\n",
              " ('hamas', 0.8651652336120605),\n",
              " ('libya', 0.8641098141670227),\n",
              " ('nigeria', 0.8597480058670044),\n",
              " ('uganda', 0.8591971397399902),\n",
              " ('india', 0.8569527268409729),\n",
              " ('crimea', 0.8561787605285645),\n",
              " ('assad', 0.8561551570892334),\n",
              " ('ukraine', 0.8492863178253174)]"
            ]
          },
          "metadata": {},
          "execution_count": 39
        }
      ],
      "source": [
        "glove_model.similar_by_word('israel')  # try find most similar words using glove"
      ]
    },
    {
      "cell_type": "markdown",
      "metadata": {
        "id": "JgjYM2RkXXqV"
      },
      "source": [
        "Sampling random word and their nearest neighbohrs"
      ]
    },
    {
      "cell_type": "code",
      "execution_count": null,
      "metadata": {
        "colab": {
          "base_uri": "https://localhost:8080/"
        },
        "id": "Vd7oscz8Mq1e",
        "outputId": "451a3459-1855-4e08-eb6f-d1c1b27b0326"
      },
      "outputs": [
        {
          "output_type": "stream",
          "name": "stdout",
          "text": [
            "Word: was\t Similar to: had\n",
            "Word: the\t Similar to: of\n",
            "Word: abundance\t Similar to: abundant\n",
            "Word: dollar\t Similar to: dollars\n",
            "The word: plug. does not exist in the GloVe dataset\n",
            "Word: universe\t Similar to: earth\n",
            "Word: highlighter\t Similar to: lampshade\n",
            "Word: sounded\t Similar to: freaked\n",
            "Word: with\t Similar to: and\n",
            "Word: it\t Similar to: that\n",
            "Word: at\t Similar to: home\n",
            "Word: i\t Similar to: 'm\n",
            "Word: were\t Similar to: are\n",
            "Word: this\t Similar to: now\n",
            "Word: well\t Similar to: sure\n",
            "Word: is\t Similar to: was\n",
            "Word: quickly\t Similar to: faster\n",
            "Word: be\t Similar to: not\n",
            "The word: together. does not exist in the GloVe dataset\n",
            "Word: what\t Similar to: how\n"
          ]
        }
      ],
      "source": [
        "import random\n",
        "\n",
        "for _ in range(20):\n",
        "    random_str = df.sample(1)['txt'].values[0].split()\n",
        "    random_index = random.randint(0, len(random_str))    \n",
        "    random_word = random_str[random.randint(0, len(random_str))]\n",
        "    if glove_model.__contains__(random_word):\n",
        "        most_similar_word = glove_model.similar_by_word(random_word)[0][0]\n",
        "        print(f'Word: {random_word}\\t Similar to: {most_similar_word}')\n",
        "    else:\n",
        "        print(f'The word: {random_word} does not exist in the GloVe dataset')"
      ]
    },
    {
      "cell_type": "markdown",
      "metadata": {
        "id": "IBToIiHlg5tb"
      },
      "source": [
        "Working with Word2Vec (need to wait for cloud.il can't work on colab)"
      ]
    },
    {
      "cell_type": "code",
      "execution_count": null,
      "metadata": {
        "id": "u5fOHVnqMlXT"
      },
      "outputs": [],
      "source": [
        "from gensim import models\n",
        "run_w2v = False  # The COLAB notebook crashes when uploading the W2V model\n",
        "\n",
        "if run_w2v:\n",
        "    w2v_model = models.KeyedVectors.load_word2vec_format(my_dir + 'GoogleNews-vectors-negative300.bin', binary=True)\n",
        "\n",
        "    for _ in range(20):\n",
        "        random_str = df.sample(1)['txt'].values[0].split()\n",
        "        random_index = random.randint(0, len(random_str))    \n",
        "        random_word = random_str[random.randint(0, len(random_str))]\n",
        "        if glove_model.__contains__(random_word):\n",
        "            most_similar_word = w2v_model.similar_by_word(random_word)[0][0]\n",
        "            print(f'Word: {random_word}\\t Similar to: {most_similar_word}')\n",
        "        else:\n",
        "            print(f'The word: {random_word} does not exist in the W2V dataset')"
      ]
    },
    {
      "cell_type": "markdown",
      "metadata": {
        "id": "PuTynlTrDFOI"
      },
      "source": [
        "Looking on the negative docs and positive docs seperatly\n"
      ]
    },
    {
      "cell_type": "code",
      "source": [
        "df_temp = df.sample(10000)  # choose a small portion of the dataset to work with"
      ],
      "metadata": {
        "id": "qgLrci7x3xrb"
      },
      "execution_count": null,
      "outputs": []
    },
    {
      "cell_type": "code",
      "execution_count": null,
      "metadata": {
        "id": "CrZrKekDDE1p"
      },
      "outputs": [],
      "source": [
        "from collections import defaultdict\n",
        "\n",
        "labal_0_corpus = []\n",
        "labal_1_corpus = []\n",
        "\n",
        "# sentiment 0\n",
        "for x in df_temp[df_temp['sentiment']==0]['txt'].str.split():\n",
        "        for i in x:\n",
        "            labal_0_corpus.append(i)\n",
        "\n",
        "# sentiment 1\n",
        "for x in df_temp[df_temp['sentiment']==1]['txt'].str.split():\n",
        "        for i in x:\n",
        "            labal_1_corpus.append(i)"
      ]
    },
    {
      "cell_type": "markdown",
      "metadata": {
        "id": "icpwvYVlFr_8"
      },
      "source": [
        "Analyzing sentiment 0\n",
        "\n"
      ]
    },
    {
      "cell_type": "code",
      "source": [
        "import nltk\n",
        "nltk.download('stopwords')"
      ],
      "metadata": {
        "colab": {
          "base_uri": "https://localhost:8080/"
        },
        "id": "rlCGU5zi6FWH",
        "outputId": "dbe589cf-00fe-4ea5-dc78-829bcb2ae673"
      },
      "execution_count": null,
      "outputs": [
        {
          "output_type": "stream",
          "name": "stderr",
          "text": [
            "[nltk_data] Downloading package stopwords to /root/nltk_data...\n",
            "[nltk_data]   Unzipping corpora/stopwords.zip.\n"
          ]
        },
        {
          "output_type": "execute_result",
          "data": {
            "text/plain": [
              "True"
            ]
          },
          "metadata": {},
          "execution_count": 18
        }
      ]
    },
    {
      "cell_type": "code",
      "execution_count": null,
      "metadata": {
        "id": "HhkqQFSrFF1P"
      },
      "outputs": [],
      "source": [
        "from nltk.corpus import stopwords\n",
        "\n",
        "stop=set(stopwords.words('english'))\n",
        "\n",
        "dic_0 = defaultdict(int)\n",
        "for word in labal_0_corpus:\n",
        "    if word in stop:\n",
        "        dic_0[word]+=1\n",
        "        \n",
        "top_0 = sorted(dic_0.items(), key=lambda x:x[1],reverse=True)[:10] "
      ]
    },
    {
      "cell_type": "markdown",
      "metadata": {
        "id": "kfWcCRowGE7B"
      },
      "source": [
        "Analyzing sentiment 1"
      ]
    },
    {
      "cell_type": "code",
      "execution_count": null,
      "metadata": {
        "id": "4wf6f6E1CxDG"
      },
      "outputs": [],
      "source": [
        "dic_1 = defaultdict(int)\n",
        "for word in labal_1_corpus:\n",
        "    if word in stop:\n",
        "        dic_1[word]+=1\n",
        "        \n",
        "top_1 = sorted(dic_1.items(), key=lambda x:x[1],reverse=True)[:10] "
      ]
    },
    {
      "cell_type": "code",
      "execution_count": null,
      "metadata": {
        "colab": {
          "base_uri": "https://localhost:8080/"
        },
        "id": "ttVbB7jmGtVV",
        "outputId": "a9871045-e10f-4295-f149-6f07373bdc5b"
      },
      "outputs": [
        {
          "output_type": "execute_result",
          "data": {
            "text/plain": [
              "[('the', 20930),\n",
              " ('i', 10960),\n",
              " ('to', 9951),\n",
              " ('a', 9781),\n",
              " ('and', 9717),\n",
              " ('of', 7945),\n",
              " ('this', 7201),\n",
              " ('it', 6989),\n",
              " ('is', 6518),\n",
              " ('in', 4430)]"
            ]
          },
          "metadata": {},
          "execution_count": 21
        }
      ],
      "source": [
        "top_0\n"
      ]
    },
    {
      "cell_type": "code",
      "source": [
        "top_1"
      ],
      "metadata": {
        "id": "GFlphazS6OBd",
        "outputId": "bf420fc8-82c2-4de0-aa61-9d739fad715a",
        "colab": {
          "base_uri": "https://localhost:8080/"
        }
      },
      "execution_count": null,
      "outputs": [
        {
          "output_type": "execute_result",
          "data": {
            "text/plain": [
              "[('the', 17801),\n",
              " ('and', 11167),\n",
              " ('a', 10033),\n",
              " ('to', 9056),\n",
              " ('i', 8927),\n",
              " ('of', 7651),\n",
              " ('is', 7010),\n",
              " ('this', 6743),\n",
              " ('it', 6163),\n",
              " ('in', 4533)]"
            ]
          },
          "metadata": {},
          "execution_count": 22
        }
      ]
    },
    {
      "cell_type": "markdown",
      "source": [
        "Experiment with BoW"
      ],
      "metadata": {
        "id": "JrCB3DV9JS5B"
      }
    },
    {
      "cell_type": "code",
      "source": [
        "def word_extraction(sentence):    \n",
        "  ''' gets a sentence and returns a \n",
        "  list of words = BoW  '''\n",
        "  ignore = []    # for now we will not igone any words\n",
        "  words = re.sub(\"[^\\w]\", \" \",  sentence).split()    \n",
        "  cleaned_text = [w.lower() for w in words if w not in ignore] # i'm not sure we need to lower - all are lower already\n",
        "  return cleaned_text"
      ],
      "metadata": {
        "id": "leMUBaWMJWk2"
      },
      "execution_count": null,
      "outputs": []
    },
    {
      "cell_type": "code",
      "source": [
        "# original\n",
        "print(short_train_sentences[0])\n",
        "print(len(short_train_sentences[0].split(' ')))\n",
        "# proccesed\n",
        "print(word_extraction(short_train_sentences[0]))\n",
        "print(len(word_extraction(short_train_sentences[0])))\n",
        "\n",
        "# for some reason \"Don't\" was splited to \"don\" and \"t\" :(:(:()))"
      ],
      "metadata": {
        "id": "HaDbVTDlJWnT"
      },
      "execution_count": null,
      "outputs": []
    },
    {
      "cell_type": "code",
      "source": [
        "# original\n",
        "print(short_train_sentences[110])\n",
        "print(len(short_train_sentences[110].split(' ')))\n",
        "# proccesed\n",
        "print(word_extraction(short_train_sentences[110]))\n",
        "print(len(word_extraction(short_train_sentences[110])))"
      ],
      "metadata": {
        "id": "-HAbtdYDJWqV"
      },
      "execution_count": null,
      "outputs": []
    },
    {
      "cell_type": "markdown",
      "source": [
        "Check if we have reviews which are not in English\n"
      ],
      "metadata": {
        "id": "qD6Vz4hqOcvh"
      }
    },
    {
      "cell_type": "code",
      "source": [
        "pip install langdetect\n"
      ],
      "metadata": {
        "colab": {
          "base_uri": "https://localhost:8080/"
        },
        "id": "tAI8oDlCQXcZ",
        "outputId": "81b3ce4e-bafd-44e2-f8c8-1fb704a98cd9"
      },
      "execution_count": 7,
      "outputs": [
        {
          "output_type": "stream",
          "name": "stdout",
          "text": [
            "Looking in indexes: https://pypi.org/simple, https://us-python.pkg.dev/colab-wheels/public/simple/\n",
            "Collecting langdetect\n",
            "  Downloading langdetect-1.0.9.tar.gz (981 kB)\n",
            "\u001b[?25l     \u001b[90m━━━━━━━━━━━━━━━━━━━━━━━━━━━━━━━━━━━━━━━━\u001b[0m \u001b[32m0.0/981.5 kB\u001b[0m \u001b[31m?\u001b[0m eta \u001b[36m-:--:--\u001b[0m\r\u001b[2K     \u001b[90m━━━━━━━━━━━━━━━━━━━━━━━━━━━━━━━━━━━━━━\u001b[0m \u001b[32m981.5/981.5 kB\u001b[0m \u001b[31m38.3 MB/s\u001b[0m eta \u001b[36m0:00:00\u001b[0m\n",
            "\u001b[?25h  Preparing metadata (setup.py) ... \u001b[?25l\u001b[?25hdone\n",
            "Requirement already satisfied: six in /usr/local/lib/python3.9/dist-packages (from langdetect) (1.16.0)\n",
            "Building wheels for collected packages: langdetect\n",
            "  Building wheel for langdetect (setup.py) ... \u001b[?25l\u001b[?25hdone\n",
            "  Created wheel for langdetect: filename=langdetect-1.0.9-py3-none-any.whl size=993243 sha256=e7cf61c316cd68f8c21f51a0dd1368eac60f12e7ea5ec9d801eb3fea9cbb152e\n",
            "  Stored in directory: /root/.cache/pip/wheels/d1/c1/d9/7e068de779d863bc8f8fc9467d85e25cfe47fa5051fff1a1bb\n",
            "Successfully built langdetect\n",
            "Installing collected packages: langdetect\n",
            "Successfully installed langdetect-1.0.9\n"
          ]
        }
      ]
    },
    {
      "cell_type": "code",
      "source": [
        "from langdetect import detect\n"
      ],
      "metadata": {
        "id": "74oehkblOfaM"
      },
      "execution_count": 8,
      "outputs": []
    },
    {
      "cell_type": "code",
      "source": [
        "\n",
        "# Example list of sentences\n",
        "sentences = df.txt.tolist()\n",
        "# Loop over each sentence and detect its language\n",
        "for sentence in sentences:\n",
        "    lang = detect(sentence)\n",
        "    if lang != 'en':\n",
        "        print(f'Sentence \"{sentence}\" is not in English (language detected: {lang})')"
      ],
      "metadata": {
        "id": "Q378romPQbTy"
      },
      "execution_count": null,
      "outputs": []
    },
    {
      "cell_type": "code",
      "source": [
        "sentences_series = df.txt\n",
        "for sentence in sentences_series.values:\n",
        "    lang = detect(sentence)\n",
        "    if lang != 'en':\n",
        "        print(f'Sentence \"{sentence}\" is not in English (language detected: {lang})')"
      ],
      "metadata": {
        "colab": {
          "base_uri": "https://localhost:8080/"
        },
        "id": "uG68DHEhPAXN",
        "outputId": "3553e17e-5358-4e5b-b2e2-3288fa79be0d"
      },
      "execution_count": null,
      "outputs": [
        {
          "output_type": "stream",
          "name": "stdout",
          "text": [
            "Sentence \"este libro contiene todo: lo que pense que no me interesaba saber sobre el box y sus campeones...pero me cautivo y lo lei hasta el final !ahora si puedo discutir de box con mi esposo y mis cuñados...¡y hasta con mi suegro, que es ex boxeador !\" is not in English (language detected: es)\n",
            "Sentence \"good read................. ............... .... ....... ........ .......... ......... ......... ......... ......... ..... .....: good read................. ............... .... ....... ........ .......... ......... ......... ......... ......... ..... ..... ..... . . . . .. . . .\" is not in English (language detected: cy)\n",
            "Sentence \"il grande ritorno!: e' dai tempi del tour di \"empire\" che non vedevo i queensryche così in gran forma, questo dvd per me è il migliore di tutta la loro carriera, e la consacrazione di una band, dopo questo dvd si può tranquillamente dire che i queenssryche sono entrati nella storia del grande rock come i deep purple, led zeppelin e thin lizzy negli anni settanta.i queensryche sempre si sono distinti dagli altri gruppi del loro genere, geoff tate è uno dei più importanti vocalists di tutti i tempi.questo dvd è musica e teatro, la collaborazione più stretta con pamela moore rende questo dvd imperdibile.una sola nota negativa, purtroppo nella composizione della seconda parte si sente l'assenza di chris de garmo,mike stone è un grande chitarrista, ma chris de garmo per me era fondamentale per la band, hanno perso la parte più melodoca, che era a mio parere molto importante in questo gruppo!\" is not in English (language detected: it)\n",
            "Sentence \"la reencarnación vista por un científico: el primer libro del dr. weiss sigue siendo un gran libro para todos aquellos a quienes les inquieta el tema de la reencarnación, así no crean en ella.\" is not in English (language detected: es)\n",
            "Sentence \"magnifico libro: brian weiss ha dejado una magnifica guia para quienes no tienen mucha informacion acerca del hipnotismo, la historia de katerine es tan impresionante que podria ayudar a culquier persona que se ha hecho la pregunta mas de una vez sobre la continuidad de la vida.\" is not in English (language detected: es)\n",
            "Sentence \"el libro mas completo que existe para nosotras,: las m,ujeres embarazadas o por embarazarnos...lo abarca todo, desde la concepcion hasta que el bebe cumple un año...dulce, sabio y ameno...\" is not in English (language detected: es)\n",
            "Sentence \"excelente!: una excelente guía para todos aquellos que deseen concer más aobre el vino y su mundo. de forma amena y sencilla explica los principales conceptos y orienta sobre temas básicos como la elección del vino corecto, principales tipos de vino, cómo comprar vino en restaurantes o tiendas, etc.\" is not in English (language detected: es)\n",
            "Sentence \"nightwish is unique and rocks for eva: moi to you all,nightwish est vraiment le plus cool des bands. unqiue pis des tounes supers orginales, ca ma faite découvrir le métal pis aucune autre band ma faite vribrer comme eux. à tous le monde cest un must buy.\" is not in English (language detected: fr)\n",
            "Sentence \"palabras de aliento para tu caminar con dios: una vez mas charles swindoll llega al corazón del cristiano como tu y como yo. nos alienta y nos da enseñanza de como enfrentar nuestros gigantes, reconocer su origen y escudriñar en nuestro corazón para dar con esas espinas que han estado clavadas por mucho tiempo e impide que nuestro caminar con dios sea firme. prácticos y profundos principios para ayudarnos a ser mejores en nuestra casa, trabajo y en la iglesia.\" is not in English (language detected: es)\n",
            "Sentence \"la belleza de la salsa!: la salsa se lleva en la sangre. al igual que sus hermanos edwin rivera y jerry rivera, saned lleva la salsa en la sangre y se puede sentir en cada uno de los temas de este disco. saned es hermosa y tiene una voz inpresionante!\" is not in English (language detected: es)\n",
            "Sentence \"completement nul: fait sur commande et ennuyant a mourir, cette album est tout a fait parfait pour s'endormir...nul!\" is not in English (language detected: fr)\n",
            "Sentence \"fabuloso: mil gracias por el producto fabuloso recomiendo a este vendedor todo llego en perfectas condiciones excelentesaludos espero seguir contando con ustedes\" is not in English (language detected: es)\n",
            "Sentence \"geh: blah blah, sexy girl, blah blah, fighting robots, blah blah, cliche action lines, blah blah, talking robots, blah blah blah.\" is not in English (language detected: id)\n",
            "Sentence \"excelentes botas.. excelentes boots: excelente producto, quedo muy satisfecho con el producto y con amazon, por la puntualidad en la entrega,la calidad del producto, zapatos muy comodos, resistentes. excelente muy recomendable.\" is not in English (language detected: es)\n",
            "Sentence \"why not spanish ???: alguien me puede decir porque la serie three's company no viene ni con audio ni con subtitulos en español.esta serie fue vista a nivel mundial, si casi todas las series que salen en dvd con varios idiomas que paso con esta si es una de las mejores de todos los tiempos.una comedia excelente y unica deberian de haber tomado en cuenta aca en mi pais la dieron con audio en español, donde quedo eso ???.ahora si viene en audio español o por lo menos subtitulo pido mil disculpas pero no dice por ningun lado en la descripcion del producto.saludos\" is not in English (language detected: es)\n",
            "Sentence \"la mejor película de moore: a mi juicio, esta es la mejor comedia de dudley moore.el reparto es excelente.realmente la recomiendo.\" is not in English (language detected: es)\n",
            "Sentence \"de la poudre aux yeux: j'ai acheté un sansa view 16gb pour $200 cad il y a deux ans et demie à peine, et la batterie vient de mourrir. l'estimation pour la réparation et le remplecement de la batteire est de $80 minimum, vous voyez le topo? malgré son excellente sonorité, je ne recommande pas cet appareil, difficile à comprendre, parfois il gèle... à éviter!\" is not in English (language detected: fr)\n",
            "Sentence \"c'est magnifique! il y a du vrai dans ce qui'l dit.: il y a des temps que mr. coello nous avons donné une histoire de honor et de mystère. cet histoire étre publié en different langues. je l'ai li en anglais et en franais seulement. la histoire rendu étai fidèle, excellent, et grand. il raconte du rve de un bon garon que cherche le monde pour trouver un inconnu trésor. il l'a réussi...mais... je suis certain qui il a trouvé deux trésors... voila! vous devez lire la histoire maintenant pour découvrir le mystére; s'il vous plait.\" is not in English (language detected: fr)\n",
            "Sentence \"erreur: \"les triplettes de belleville\" n'a pas reu le jutra de la meilleure bande sonore, puisqu'il n'était pas en nomination. \"gaz bar blues\" l'a remporté.\" is not in English (language detected: fr)\n",
            "Sentence \"buen cargador: product very good, i am of venezuela the exelente product thanks(producto muy buenos, soy de venezuela el producto exelente gracias)\" is not in English (language detected: es)\n",
            "Sentence \"5+ stars. lo mejor de lo que he leido en mi vida.: un resúmen:el clan del oso cavernario: excelente, inspirador.un libro para leer y releer, es como un libro de superación personal, pero sin los aburridos consejos sabiondos de los autores, ni las falsas promesas de los nuevos autores llamados \"new age\". debe leerlo, y por favor, no lo preste.....!el valle de los caballos: buena secuela, recomendable.los cazadores del mamut: solo para fans.el libro de los viajes (\"plains\"): repetitivo, lento y aburrido en dos terceras partes (la'última parte, como en \"cazadores\", para fans).....la esperanza....\"the shelter of stone\"...donde los que admiramos a ayla, esperamos reencontrarnos con ella...\" is not in English (language detected: es)\n",
            "Sentence \"certains bugs viennent tout gacher: le jeu est bon mais comporte des bugs sur xbox live , les statistiques ne sont pas compiliees correctement sur xbox live. on perd la connection de temps a autre et une deconnection compte parfois pour une defaite... bon jeu a 1 joueur mais pas fort sur le live...\" is not in English (language detected: fr)\n",
            "Sentence \"variedad: bueno tener este album debido a su sonido peculiar, algunas de sus canciones hasta fueron programadas aca en la radio en guanatos...es + el kala (rostros ocultos) se encargó de hacer un cover el cual fue un exito en español - con los smithreens nunca lo fue - (\"tiempo de cambiar\" o \"something new\"). saludos de neta. mork\" is not in English (language detected: es)\n",
            "Sentence \"ich weiß ja nicht !: also ich finde es ja toll, dass ein deutscher film in den usa so gut ankommt, aber ich habe ihn bei uns in deutschland im kino gesehen und dachte mir \"wie lange rennt die denn noch\" und \"warum rennt die schon wieder\". mein freundin fand den film aber echt klasse. von den vier leuten die wir waren gibt einer 5 sterne, 2 geben drei sterne und ich gebe dem film 2 sterne. würde ihn mir aber niemals auf dvd oder video kaufen.\" is not in English (language detected: de)\n",
            "Sentence \"1f4t: cet album est chanté vraiment bien. jean-jacques et les autres \"types\" ont bien fait! les chansons sont pas forte en vocales, mais les paroles sont très très émouvantes. surtout \"rien n'est vraiment fini\". \"je lui dirai\", c'est le fun. son premier 45 \"tout l'or des hommes\" place le feeling pour le reste de l'album. c'est super, a! achète l'album! a vaut l'argent!\" is not in English (language detected: fr)\n",
            "Sentence \"exelente eleccion: los mejores zapatos de futbol que he comprado en mi vida, funcionan perfecto para cesped artifical, cesped natural y piso duro.lo recomiendo 100%\" is not in English (language detected: es)\n",
            "Sentence \"jean de florette et manon des sources: bien aimé ses deux films et aimerais les acheté si vous pouvié me les faires parvenire. jean de florette et manon des sources en dvd. merci a vous.attend une réponse de vous.\" is not in English (language detected: fr)\n",
            "Sentence \"get your sleeping bags ready!: cuz this book is a \"snooze fest!\"one hundred years of solitude is right cuz that's how much time you'll need if you ever wanna finish this!i highly doubt oprah made it past chapter one.zzzzzzzzzzzzzzzzzzzzzzzzzzzzzzzzzzzzzzzzzzzzzzzzzzzzzzzzzzzzzzzzzzzzzzzzzzzz\" is not in English (language detected: it)\n",
            "Sentence \"excelente: manu es una de los mejores cantantes del operacion triunfo.aunque la musica es un poco 'easy listening', este cd es su premera y manu la hace muy bien y no se falta su voz. me encanta este chico y creo que el va a hacer mucho mas.\" is not in English (language detected: es)\n",
            "Sentence \"dvd con problemas: este dvd llego en buen tiempo. sin embargo, se freeza en la cancion numero 1 interpretada por victor manuel, una de las mejores.\" is not in English (language detected: es)\n",
            "Sentence \"baaaaaadddddddd bookkkkkkk: por favor no gaste su dinero en este pesimo y mediocre libro,,lo unico que la mujer y el chino hacen es mostrar su impresionante flexibilidad,pero nada mas,,no aportan tecnicas reales ni explicaciones para llegar a ese estado.me parece mas bien que los autores lo que quieren es que la gente sepa que ellos tienen una super-flexibilidad impresionante.este es solamente un librito y nada mas,, muy,,muy pero muy mediocre\" is not in English (language detected: es)\n",
            "Sentence \"nuevo y excelente: desde que supe de su existencia este disco me quito el sueño.tenia muchos deseos de escuchar algo nuevo de silvio(aunque algunos temas no son tan nuevos)y ademas escuchar nuevas versiones para dos clasicos de silvio como dias y flores y mariposas.un disco excepcional con un rey guerra inspirado en las seis cuerdas y temas de excepcion como y tantos huesos chocaran,derecho humano y sueño valseado.muy alegre y muchas melodias hermosas.sinceramente un disco de un elevado sentimentalismo y evolucion.silvio es otra cosa.maestro!\" is not in English (language detected: es)\n",
            "Sentence \"lo he seguido desde su primer disco: duncan dhu,simplemente un artista moderno que aun usa la guitarracomo los antiguos trobadores.sus canciones son para aquellosque tienen una imaginacion muy amplia para poder interpretara lo que se refiere.espero y este dueto perdure aunque elrock en español haiga pasado de moda...si lo han escuchado conatencion sabran a lo que me refiero.\" is not in English (language detected: es)\n",
            "Sentence \"belleza: como su título lo dice, el libro es una belleza. excelentes ilustraciones. la revisión histórica de la belleza es de gran valor.\" is not in English (language detected: es)\n",
            "Sentence \"uihuih: uyytui gyuh k !èyui hjuyuy ihuhui jhihui jhuiytfrty rere ddszq edss ezqf gdret trdredtr drez e d\" is not in English (language detected: sq)\n",
            "Sentence \"buena guia: buena guia, la recomiendo para el uso outdoor,, mucha versatilidad y variedad en amarres . gracias, recomiendo perfectamente el producto, saludos\" is not in English (language detected: es)\n",
            "Sentence \"muy bueno: muy entretenido libro, lleno de fotos que muestran a la iglesia desde diversas perspectivas, tanto como sociedad, cultura y como religion. contiene varios ensayos fotograficos en varias partes del mundo. el texto es sencillo, y mas que nada es para acompañar a las fotos, y siendo que se puede comprar usado por un par de dolares, constituye una ganga de las que hay que aprovechar.\" is not in English (language detected: es)\n",
            "Sentence \"sobre los reyes malditos: es una excelente obra , es el inicio de una saga muy interesante. a pesar de ser una novela , su sentido histórico es completo, su adaptación al contexto tambien, de verdad la recomiendo, a todas aquellas personas que os guste leer novelas, obras y escritos entre otros, reales o ficticios relacionados del siglo xi al siglo xvi.\" is not in English (language detected: es)\n",
            "Sentence \"dis movie ssuucckkss!!!!!!!!!!!!!!!!!!!!!!!!!!!!!!!!!!: i see dis movie in dis theter it blew chunks spongbob an his friends are gay\" is not in English (language detected: af)\n",
            "Sentence \"una pachanga musical!: si usted es aficionado a la cultura chicana, la música swing de los años cuarenta, o de los artistas edward james olmos o lalo guerrero, ¡esta es la película para usted! la pantalla se enciende con una avalancha de música, baile y drama. la cinta lo lleva a experimentar una noche con el teatro campesino del dramaturgo luis valdez. ¡luzca su mejor tacuche! ¡dele brillo a esos calcos! póngase abusado que la pachanga va empezar. ¡simón, carnal!\" is not in English (language detected: es)\n",
            "Sentence \"suena interesante...: este libro hace muchas \"revelaciones\". a decir no creo que todas sean ciertas pero si al menos un 40% de lo que dice es cierto entonces vale la pena. hay especulaciones sobre los actos del mossad: que el mossad estab intentando reclutar al chofer de la princesa diana y dodi al fayed el día del accidente en que murieron, que mataron a robert maxwell, que tenian grabadas conversaciones comprometedoras de bill clinton para evitar que investigara a un topo del mossad. además nos cuenta hechos conocidos como el rescate en entebbe, el robo del mig iraní y el asesinato de gerald bull.en general, es un libro ameno de leer y haber un alinea especulativa, que de cualquier modo es imposible de comprobar pues ningun gobierno confirmaría lo dicho aquí, asi que no es posible saber hasta que punto es cierto lo aqui dicho.\" is not in English (language detected: es)\n",
            "Sentence \"excelente: la primera entrega de esta saga, thumbs up, la entrega fue justo a tiempo y el producto en perfectas condiciones!\" is not in English (language detected: es)\n",
            "Sentence \"increible: un clasico, muy bien editado. un precio muy bueno, para la calidad de su contenido. para quien no conoce a barthes, esta seria una buena introducción a su trabajo.\" is not in English (language detected: es)\n",
            "Sentence \"es ist gut!?!: ich hätte eine sehr dringende frage.gibt es buffy videos auch in deutsch?mir scheint es so,dass diese videos nur auf englisch sind.ich würde dann auch gerne wissen wann der buffy soundtrack(zur serie)auf den markt kommt.könnten sie mir helfen.\" is not in English (language detected: de)\n",
            "Sentence \"excelente: este producto cumple con mis espectativas,lo recomiendo a los futuros compradores, es por esto que mi calificacion a sido la maxima. comprar por medio de amazon es seguro y puntual...\" is not in English (language detected: es)\n",
            "Sentence \"opinion de compra: estoy feliz con la compra pues no conseguia numero grande en chile para mi esposo. ademas la entrega fue rapida\" is not in English (language detected: es)\n",
            "Sentence \"what a system!: un album qui déménage.... sa décoiffe.. sa nous rend stérille quelque 45 minutes de temps....bravo cest du bon stock musical...\" is not in English (language detected: fr)\n",
            "Sentence \"did not work for me! ni una vez me sirvio!: no me ha servido para interpretar ni un sueno y los que he tenido en el pasado no concuerda la descripcion con lo sucedido despues. este libro me ha desilucionado, pues soy una persona que he tenido varios suenos premonitorios. ademas mi prima tiene otro libro y cuando lo he consultado me ha dado mejor resultado pero lamentablemente no esta en amazon.\" is not in English (language detected: es)\n",
            "Sentence \"este libro si vale la pena comprar: este libro es tan preciso que que es casi increible. mis companeros de trabajo, vecinos, y familiares me llaman a consultar sus suenos porque siempre el significado descrito en este libro acerta tan increiblemente que he tenido que comprar unas cuantas copias para regalar. al principio no le daba mucha importancia del significado de mis suenos pero luego me comence a dar cuenta de que todo me sucedia justo como lo describia este diccionario de los suenos. ahora hasta mis 3 hijos estan todos fascinados.mercedes, florida, usa\" is not in English (language detected: es)\n",
            "Sentence \"happy father.: para el primer cumpleaños de mi hijo, le compre el megaland. en cuanto lo instale en su cuarto (es facil armarlo), mi hijo entro gateando y se puso a jugar con las pelotas. casi no lo podemos sacar para dormirlo. ahora le gusta jugar mucho con los primos y amigos. las pelotas que trae (50) son insuficientes, le compre 150 adicionalmente. estamos pensando en comprarle los adicionales para ampliarlo.\" is not in English (language detected: es)\n",
            "Sentence \"for vb programmer beginner with lot of money to spend: le titre de ce livre ne convient tout simplement pas. en achetant ce livre, je m'attendais à ce que le contenu soit avancé. habituellement, lorsque l'on est rendu au point d'apprendre des techniques de codage, on a pas besoin de savoir ce qu'un integer ou d'avoir un exemple de programmation orientée objet avec une classe de 1 méthode et 2 propriétés. enfin bref, un autre livre sur lequel on peut dire qu'on apprends rien d'autre que des petits trucs simple et faciles à trouver sur internet gratuitement. en plus, le livre cote bien trops cher. je ne pouvais pas mettre 0/5 alors je me suis contenté de mettre 1 étoile.\" is not in English (language detected: fr)\n",
            "Sentence \"like the other one. poor cable: ese angulo de 90 grados del chupon es malisimo, aparte me costo un mundo poder enchufarlo, no queria entrar y tuve que forzarlo...\" is not in English (language detected: es)\n",
            "Sentence \"otra maravilla más: spocks beard es un gran grupo de rock progresivo, aunque algunos, por ahí lo cataloguen de pop; tiene un estilo muy propio que se ha establecido con el tiempo. cabe destacar la gran técnica de este grupo a la hora de utilizar los contratiempos, cosa que no hacen en el pop, sino en el exquisito rock que nos muestra sb.este album en particular es, a mi juicio otra de las obras maestras de sb, después de kidness of stragers, me vuelven a sorprnder con la magnifica voz de neal morse, poniendo fuerza y armonía a cada uno de los temas de day for night.realmente lo aconsejo y le doy mis 5 estrellas, se lo merecen los sb, pasando por su mejor tiempo musical.\" is not in English (language detected: es)\n",
            "Sentence \"bon!: os minstrels modernos do dia, o chandler de chris e o curso de troubadours da loja de convenincia o circuito do festival que espalha seu próprio tipo da povo-rocha bateram a poesia. explorando a cultura americana do pnf, torcem nossas atividades diárias em tirades humorous, provocative, apocalyptic. definitivamente no sua faixa popular típica, a loja de convenincia troubadours emprega um som tradicional da povo-rocha aumentado com uma trombeta e uns vocals fmeas soulful que forneam uma folha perfeita aos rants acentuados do sul do chandler pesadamente.\" is not in English (language detected: pt)\n",
            "Sentence \"lo mejor en ficcion: cuando un amigo me recomendo leer dune, yo no sabia que este libro lograria impactarme tanto. yo lo unico que conocia de dune era la pelicula , pero al leer el libro me di cuenta de que cualquier libro de ciencia ficcion queda chico al lado de este.\" is not in English (language detected: es)\n",
            "Sentence \"nssbl, ob loci! my review in kilobrookan: nytrigana fam junza ilan poko bi duzwifra! waal hok. kur nia bi loko az! kur nia bi plesim jee jee jee!\" is not in English (language detected: sl)\n",
            "Sentence \"reclamo: compre una antena con ustedes y me vino incompleta...porfavor compre otra y necesito de la embalen bien para recibirla completa gracias\" is not in English (language detected: es)\n",
            "Sentence \"es un álbum excepcional: al escuchar este cd por primera ocasión me interesó mucho la calidad del mismo pero después de varias canciones me pareció algo poco inovador.sin embargo,el mérito del álbum se sostiene por la excelente calidad de (no muchas) canciones.en realidad llegarás a pensar que lauryn hill es una genio de la música por su capacidad de hacer majestuosas canciones.para mí es de mis mejores álbums,y vale mucho la pena,porque aunque la calidad del mismo merma un poco en parte del disco,brilla como un quásar en las canciones buenas.muy recomendable.\" is not in English (language detected: es)\n",
            "Sentence \"lo lei en español y me parecio muy logrado: es un libro muy bien escrito y muy respetuoso. diria que es una investigación muy original de la obra de borges y que estimula la lectura de borges no se si se publicara esto porque no esta en ingles.pero quiero expresar mi admiración por este libro.\" is not in English (language detected: es)\n",
            "Sentence \"maravillosa secuela del aracnido: esta pelicula es muy buena supera a la primera ademas de que que esta muy bien hecha y en mayo del 2007 se va a estrenar la tercera parte lastima que todavia falta como un año imedio pero ya se sabe cuales van a ser los villanos kirsten dunst dijo para mt new que son chris toper(de that 70s show)como venompero esta es muy buena pelicula no se van a arrepentir de comprarla es de coleccion\" is not in English (language detected: es)\n",
            "Sentence \"cometarios para el autor: por favor dirija sus comentarios directamente al autor:sr. orlando nodal acosta, 1812 blue ridge drive, jacksonville, florida 32246. el es ambos el autor y el dueno de outer space press.\" is not in English (language detected: es)\n",
            "Sentence \"muerto el perro se acabo la rabia: por favor, este libro es un paquete por no decir algo mas grosero. el senor miralejos necesita mirar de cerca y darse cuenta que su oficio no es ser escritor.\" is not in English (language detected: es)\n",
            "Sentence \"excellent: un bon produitle vendeur est bonla livraison a tempsle client est satisfaitgood good good good good\" is not in English (language detected: fr)\n",
            "Sentence \"ótimo livro - great book: aos brasileiros que buscam conhecimento sobre streaming. esse livro é uma ótima fonte de conhecimento, visto que no é fácil encontrar isso no brasil. podem comprar que é muito bom. ele aborda desde técnicas básicas de encoding até alguns cases mais complexos.\" is not in English (language detected: pt)\n",
            "Sentence \"esto es realmente salsa!!!!: señores: estamos ante una de las agrupaciones más importantes e influyentes en la historia de la salsa. un grupo compuesto por musicos excepcionales como sonny bravo (hoy en soneros del barrio), jhonny rodriguez, nelson gonzales, alfredo de la fe, nicky marredo, oreste vilato, etc, etc, y ni hablar de sus cantantes que estan entre lo mas selecto y grandioso de la salsa. los señores adalberto santiago (incomparable), tito allen, jose alberto el canario y camilo azuquita (genial). este disco es una reunion sobre los 25 años del grupo y de ahi se disolvieron para siempre. solo quiero decir que este disco nos demuestra como es la salsa dura, la que nunca pasara de moda. solo para conocedores, no apto para oidos acostumbrados a la salsa sensual o de sonido miami.\" is not in English (language detected: es)\n",
            "Sentence \"le grand voyage musical, sidérant et sidéral !: la plus grande dimension du voyage virtuel musical, digne de 2001 odyssée de l'espace pour le cinéma, mirage est l'oeuvre électronique qui m'a le plus transporté aux confins de l'imaginaire et du rve; hors du temps et spaciale, l'oeuvre nous fait toucher du doigt l'infiniment grand et l'infiniment petit.grandiose!\" is not in English (language detected: fr)\n",
            "Sentence \"buen libro: un excelente libro para poder enseñar a hablar o a leer el idioma español con facilidad, se puede interpretar facilmente.\" is not in English (language detected: es)\n",
            "Sentence \"sin escenas adicionales: al igual que en las ultimate edition de hp 1 y 2, esperaba encontrar escenas extendidas en hp 3 y 4 ultimate edition...fue una decepción darme cuenta que no venían escenas adicionales.\" is not in English (language detected: es)\n",
            "Sentence \"bob bob bob bob bob bob bob bob bob bob bob bob: bob is bob hi i'm bob bob is boss hi i'm a good banana and a good banana and a good banana and a good banana\" is not in English (language detected: cy)\n",
            "Sentence \"muy bueno: este es el primer libro que leo de isabel allende y me encanto. me gusta mucho su forma de narrar, te lleva del presente al pasado y del pasado al futuro dentro de la historia de manera inperceptible. impredecible e interesante manera de narrar.\" is not in English (language detected: es)\n",
            "Sentence \"bad, bad, bad......: esta es quiza la peor novela que isabel allende a escrito asta ahora. los personajes carecen de caracter y \"vida\" propia. la manera en que allende narra la historia es muy entretenidad, pero despues de leer unas cuantas paginas, te das cuenta que esta novela no tienen ninguno de los ingredientes a los que allende nos tiene acostrunbrados.\" is not in English (language detected: es)\n",
            "Sentence \"mediocre: nunca me ha entusiasmado el estilo de allende pero leí los cuentos de eva luna y me pareció que poseían cierta calidad literaria mientras que hija de la fortuna es una novela totalmente predecible, simple, sin profundidad y con muchos cabos sueltos. al leerla pensé que estaba leyendo el guión de una telenovela. no la recomiendo en absoluto (sólo si se ven atrapados por retraso en un aeropuerto y aún tengo mis dudas...).\" is not in English (language detected: es)\n",
            "Sentence \"horrible: esta novela es pesima, mal enfocada, y predecible, parece escrita para ventas solamente. y sus personajes no son nada profundos, es una perdida de tiempo hablar de ella y hasta de escribir un comentario.luis mendez\" is not in English (language detected: es)\n",
            "Sentence \"la perdida del tiempo: ¿porque en vez de leer a isabel allende, no ocupan su tiempo en leer a borges o el quijote de la mancha o tal vez simplemente pierden su tiempo en internet?, se los digo por experiencia, este es uno de los peores libros que he leido en mi vida... solo me remito a opinar...\" is not in English (language detected: es)\n",
            "Sentence \"\"hija\" es peor que sus otras obras: ademas de los personajes fuertes, el enfoque sobre el choque de las culturas y los detalles riquisimos sobre la vida en chile, china y california, tendria que decir que no vale la pena de leer esta novela. allende ha escrito y, seguramente, va a seguir escribiendo obras clasicas y inteligentes pero \"hija\" debe de estar olvidado. cuando la autora visito a seattle para presentar esta novela yo le pregunte por que su obra termino asi--casi sin desarollo del trama. ella me dijo que si ella hubiera terminado la novela se la convertiria en una mera novela de romance. temo que \"hija\" ya es una mera novela de romance.\" is not in English (language detected: es)\n",
            "Sentence \"buen libro, buen relato, entretenido.: me parecio que isabel trata de buscar una heroina que sea fuerte y liberal en su juicio. ella encuentra mas de una mujer con tanto o mas poder que los hombres. es muy entretenido, no lo comparo con sus otros libros, porque este tiene su propia direccion. isabel entretiene y sabe mantener el interes de los lectores. cinco estrellas.\" is not in English (language detected: es)\n",
            "Sentence \"amigo mio gracias por el envio todo esta muy bien, muchas gracias y que pase muy bien y feliz días de los enamorados: amigo mio gracias por el envio todo esta muy bien, muchas gracias y que pase muy bien y feliz días de los enamorados\" is not in English (language detected: es)\n",
            "Sentence \"imprescindible para ubicarse sensatamente en la vida: teologia y sensatez (theology and sanity). sin duda uno de los libros que dejan mas honda huella en el intelecto y en el alma. tras su lectura es imposible no darse cuenta que vivir al margen de dios, nuestro creador, es una locura o una grave falta de sensatez. imprescindible para todos los que se consideren seres humanos trascendentes (los formados de materia y espiritu). los demas (los insensatos) pueden abstenerse de leerlo aunque les convendria darle una ojeada.\" is not in English (language detected: es)\n",
            "Sentence \"c'est le meilleur du trance: pour ceux qui sont amateurs du travail réalisé par sacha sachez que c'est probablement ce qu'il à fait de mieux. son nouvel album ne mérite mme pas d'tre écouté à l'avance pour s'assurer qu'on fait un bon coup, achetez le et vous serez très satisfait! requiem, golden arm et wavy gravy sont absolument jouissif! une femme, un spa, du champagne et airdrawndagger pendant qu'il neige... c'est génial :)\" is not in English (language detected: fr)\n",
            "Sentence \"falta mas especificaciones: buenas tardes deberian informar mas sobre el producto por ejemplo si vienen los 2 cilindros cuantas llaves trae si tienen un combro con cilindros y swichera ser mas especificos en cuanto al producto se refiere\" is not in English (language detected: es)\n",
            "Sentence \"aburrido...: pienso que no es lo mismo leer el libro a que te lo cuenten.... las narraciones son claras, pero pasar 5 horas sentado escuchando una historia, no es agradable.mejor comprense el libro!\" is not in English (language detected: es)\n",
            "Sentence \"una bastante buena seleccion de caetano: caetano en este cd nos muestra todas sus ricas dotes, que lo han convertido en un simbolo de la musica brasilera y latina. bunos temas, hermosa voz, areglos y cadencias justas en la interpretacion ideal para una primera aproximacion a este artista. como defecto, algunas canciones que uno creeria que no deben estar en una seleccion tan limitada en nro. sampa, eclipse oculto,menino de rio,cosa mais linda, etc valen por si solos tener el cd para un disfrute intenso, otros temas, lo muestran lejos del de este enorme canrautor lejos\" is not in English (language detected: es)\n",
            "Sentence \"what a brilliant book!!!!!!!!!!: this is soooooooooooooooooooooooooooooooooooooooooooooooooooooooooooooooooooooooooooooooooooooooooooo much better than harry potter\" is not in English (language detected: af)\n",
            "Sentence \"mi experiencia con el producto y el servicio.: cuando compre este póster, el producto no lleno mis expectativas porque el ítem que me llego apenas tenia color. luego de tomar algo de tiempo y plasmarlo en un comentario, se puso en contacto conmigo un personal de servicio al cliente y -para sorpresa mía- me hicieron un reembolso a mi cuenta. luego tomé una breve encuesta sobre mi experiencia.hago la salvedad sobre la seriedad de esta empresa para con la satisfación de sus clientes.\" is not in English (language detected: es)\n",
            "Sentence \"buenísmo!: no pierdan tiempo y compren este cd. es buenísimo, una selección de canciones que me dá ganas de haber estado en ese concierto....que pena! pero gracias que hay este cd, que es hermoso como pocos podrán ser. y mercedes estaba fantástica, en lo mejor de su talento e inspiración.\" is not in English (language detected: es)\n",
            "Sentence \"tracks are...: difícil 2:49, la araña 3:16, y las estrellas 4:34, si no tiras 3:32, su merecido 3:59, empieza a vibrar 4:05, nitroglicerina 1:26, el pan de los ángeles 3:51, sin voz 4:18, problemas 3:11, romper mi corazón 3:50, en jake 3:05\" is not in English (language detected: es)\n",
            "Sentence \"horrible: can't stand it. the author is very very very very very very very very very very very very very very very very very very very very very very very very very very very very very very very very very very very very very very very very very very very very very very very very very very very very very very very very very very very very very very very very very very very very very very very very very very very very very very very very very very very very very very very very very very very very very boring!\" is not in English (language detected: af)\n",
            "Sentence \"soy un fan de las cantoras brasileñas: es el tipo de musica que busco en portugues. maria b. es magnifica, como siempre.para ser un concierto de este tipo, son pocas las canciones, pero todas son bellasme gusto'\" is not in English (language detected: es)\n",
            "Sentence \"sencillo pero con principios poderosos.: siempre estoy buscando la manera de superarme como mejorar mi vida de oración.este libro me ha habierto los ojos a otro nivel de oración.lo recomiendo a cualquier persona que con sinceridad esta buscando una vida más intima con dios.\" is not in English (language detected: es)\n",
            "Sentence \"no soy muy religiosa: la verdad no soy muy religiosa. pero estas oraciones pueden actuan como un mantra espiritual que puede brindarte luz y felicidad en tiempos de crisis\" is not in English (language detected: es)\n",
            "Sentence \"no: no no no no no no no no no no no no no no no no no no no no no no no no no no no no no no no no no no no no no no no no no no no no no no no no no no no no no no no no no no no no no no no no no no no no no no no no no no no no no no no no no no no no no no no no no no no no no no no no no no no no no no no no no no no no no no no no no no no no no no no no no no no no no no no no no no no no no no no no no no no no no no no no no no no no no no no no no no no no no no no no no no no no no no no no no no no no no no no! does not work. do not buy. warning warning danger danger. if you are looking into this thing as an old school styling method forget about it. i tried it and it does nothing you think it will. vitalis does not work in any way and it smells terrible. go buy some styling gel instead as this product will not re-create a retro look at all.\" is not in English (language detected: pt)\n",
            "Sentence \"la gesta del marrano: un gran libro, a recomendar a todos los interesados en la historia, sobretodo en los inicios de la américa colonial, cripto-judaísmo e inquisición. mis felicitaciones al autor, marcos aguinis.\" is not in English (language detected: es)\n",
            "Sentence \"ombre est lumière et iam ze king: d'accord, \"l'école de micro d'argent\", c'est génial et je le recommande à tous ceuxcelles qui aiment la musique. mais il ne faudrait pas oublier que \"ombre est lumière\" est le premier, l'original , la source de leur génie. les pauses dans le rythme et les lyrics délirantes sont l'essence d'iam, et leur premier album le démontre très bien. mes préférées son ombre est lumière et l'aimant, mais les autres sont aussi géniales.\" is not in English (language detected: fr)\n",
            "Sentence \"boring: it was boring until the end ghosts were boring ending was happy get get get get get get get chair\" is not in English (language detected: nl)\n",
            "Sentence \"cumplio su cometido!: cuando veo una pelicula es para entretenerme y pasarla bien, así que la momia me parecio genial, no le pide nada a otras peliculas, comprenla o rentenla lo mas pronto posible. brendan fraser es genial.\" is not in English (language detected: es)\n",
            "Sentence \"una revelacion de como esta constituido el cerebro: realmente un libro que muestra un nuevo enfoque de lo que es el cerebro, y de lo que creemos que somos. o somos lo que nuestro cerebro genera. toda nuestra realidad no es mas que una simulacion cerebral, e incluso nuestra personalidad o yo es un reflejo de los procesos cerebrales.un interesante libro que abre nuevas posibilidades en todos los campos de estudio. desde la fisica y matematicas hasta la neurologia y biologia molecular.\" is not in English (language detected: es)\n",
            "Sentence \"good job: como siempre desde hace años amazon sigue enviando los libros y los discos con rapidez y eficacia. me parece increíble que los envíos sean tan veloces.\" is not in English (language detected: es)\n",
            "Sentence \"muy bueno exelente: las mejores razuradas de mi vida,simplemente increible,y me da mas de 10 razuras,por cartucho,que puedo decir son muy buenas\" is not in English (language detected: es)\n",
            "Sentence \"weppaaa: por favor... la persona que sepa donde puedo conseguir la novela en vhs o dvd me lo podria informar escribiendo a mi email andromeda17pr@yahoo.com\" is not in English (language detected: es)\n",
            "Sentence \"para abuelas grandiosas: ee un libro elemental para nuestras madres que ya son abuelas, es como un reconocimiento a todas aquellas mujeres, que fueron primero grandes madres, y ahora son grandes abuelas. en lo personal, este libro me encanta mucho, porque me hace admirar el gran amor que mi madre le da mis sobrinitos, y ver eso, es como ver mi infancia correr de nuevo junto con mi madre, pero ahora en los ojos de un adulto!!!\" is not in English (language detected: es)\n",
            "Sentence \"muy bueno: excelente producto y y excelente servicio. muy rápida la entrega, en tiempo récord. lo recomiendo. el producto llego en excelente condiciones.\" is not in English (language detected: es)\n",
            "Sentence \"delassement: bon western de série a' qui repose de toutes les guerres des étoiles et autres sciences fiction, de configuration bande dessinée.\" is not in English (language detected: fr)\n",
            "Sentence \"simplemente lo mejor de los enanos!: este es solamente uno de sus mejores albums y una vez mas como siempre marciano y el resto de la banda nos deleitan con el mas fino rock en español que pueda existir. y que el rock viva por los siglos de los siglos. amen!\" is not in English (language detected: es)\n",
            "Sentence \"que vive el rock y sus rockeros y rockeras: y yo estoy aqui borracha y loca, y mi corazon idiota ............ustedes saben el resto!!!!\" is not in English (language detected: es)\n",
            "Sentence \"demasiado incompleto: tal parece que hubiesen escogido canciones al azar solo para llenar un disco. algunas de las canciones ni siquiera han sido exitos. se dejan fuera una cantidad increible de exitos que no debieron ser pasados por alto. si interesas un resumen de lo mejor de lissette esta no es la mejor opcion. pobre compilacion. no recomendado\" is not in English (language detected: es)\n",
            "Sentence \"merengue...: ...has a very good entry from this young latina. songs to listen to are \"que lloren las mujeres tontas\",\"te ame cuando te conoci\",\"lluvia de amor\",\"ya no quiero amar\" and \"volviste\".\" is not in English (language detected: es)\n",
            "Sentence \"horrible: que maletas eran antes. pero bueno fue el comienzo. lo bueno empieza con donde jugaran.........\" is not in English (language detected: es)\n",
            "Sentence \"muy buena: muy buen producto se notan los resultados en cuestion de semana la compre para mi novia y a ella le ha encantando!!!!!!!!!!!!!!!!!!!!!\" is not in English (language detected: es)\n",
            "Sentence \"una joya de lados b: lados b es un disco que retoma aquellas canciones que no fueron lanzadas como éxitos pero que tuvieron un enorme potencial para serlo. este titulo hace referencia al tiempo de los disco de vinilo o lp donde las canciones que no eran promocionadas estaban contenidas en el lado b. dos de las canciones dan nombre a sus respectivas producciones como los son: tarde (sin daños a terceros) y animal nocturno, que se han convertido en éxitos debido a la calidad de sus letras y música. no podría dejar de nombrar otros clásicos en mi opinión como lo son: tu, del otro lado del sol, ayúdame freud, duerme y aun te amo. una buena recopilación que todos deberían tener y ademas con sonido remasterizado\" is not in English (language detected: es)\n",
            "Sentence \"lack of information: falta de informacion de el hardware y software hay que dedicarle mucho tiempo para un funcionamiento regular es mas sencillo el uso de x10\" is not in English (language detected: es)\n",
            "Sentence \"janetsi venezuela: este producto esta bien en la condiciones esperadas, entrega por el vendedor a tiempo, sin ningún problema segun lo requerido gracias, lo recomiendo.\" is not in English (language detected: es)\n",
            "Sentence \"nunca recibi el producto: estoy muy insatisfecho xq nunca recibi este producto, lo enviaron y lo entregaron en la direccion equivocada porque nunca llego a la direccion de destino, favor exigo que me entregen mi producto o me devuelvan el dinero\" is not in English (language detected: es)\n",
            "Sentence \"bueno: excelente producto, cumple totalmente con el requerimiento, escelente entrega, buen negocio, muy agradecido. llego en buen estado y perfectas condiciones\" is not in English (language detected: es)\n",
            "Sentence \"espectacular!!!: excelente producto!! 100% original el perfume... puntualidad 100%. la entrega fue en el tiempo establecido! lo recomiendo ampliamente... gracias...espero volver a comprarles pronto!\" is not in English (language detected: es)\n",
            "Sentence \"nice: buen aroma excelente presentacion, duradero es el perfume y no muy comun, recomiendo que lo compren muy buen aroma, buen precio\" is not in English (language detected: es)\n",
            "Sentence \"weseeeeeeeeeeeeeee: eeeeeeeeeeeeeeree eeeeeeeeeeeeeeeeeeeeeeeee e e e xxx ed f d xxx chaucer . chi/ big chin b-) b-) cc. xxx x\" is not in English (language detected: nl)\n",
            "Sentence \"junk!: i can't play this stupid dvd in my player because it is not designed for this region! get your act together and stop selling junk!!!! error error error error error error error error error\" is not in English (language detected: da)\n",
            "Sentence \"gggggggggggrrrrrrrrreeeeeeeeeeeaaaaaaaaaaatttttttttttttttttt: cool cd man .... all his songs are cool\" is not in English (language detected: nl)\n",
            "Sentence \"maria eugenia - buenos aires - argentina: enrique tu canción bailamos es genial y queremos que sepas que aquí morimos por ver tus 2 videos de la canción. besos de todas las chicas de experiencia religiosa fan's club de argentina\" is not in English (language detected: es)\n",
            "Sentence \"para coleccionar..: este album de chayanne es con el que se da a conocer. manteniendo aun el estilo del grupo de adolescentes del que proviene. aun no se aprecia la calidad de interpretacion que ahora nos brinda en sus nuevas producciones. util especialmente para completar la coleccion de chayanne ------------ this chayanne's album is his very firts one. keeping still the style from the teenagers music group where he comes from. we can not still appreciate the vocal quality chayanne give us in his newest albums. this album is useful to complete our chayanne collection.\" is not in English (language detected: it)\n",
            "Sentence \"unmasked, animalize, asylum, crazy nights, pc¿donde estaís?: este grandes éxitos tiene el problema del bloque del grupo, por lo que se han dedicado ha introducir canciones de la época en la formaban los cuatro componentes originales, como consecuencia se han sobrepasado con los discos \"kiss\", \"hotter than hell\", \"love gun\" y \"rock'n roll over\".si dijeras que los cinco discos olvidados no contenian ninguna obra a resaltar sería comprensible la actitud del recopilatoria, pero se han dejado atras de forma imperdonable, la mejor balada del grupo y una de las mejores de todos los tiempos \"reason to live\". si se continua por ese camino, uno se pone las botas: del unmasked \"shandi\" por ejemplo, del animalize \"heaven`s on fire\" otra ausencia imperdonable, del asylum \"uh, all night\", del crazy nights la mencionada anteriormente o \"i'll fight hell to hold\", y del psycho circus el golpe metal del mismo nombre o \"within\" o \"dreamin\".\" is not in English (language detected: es)\n",
            "Sentence \"its boring i dont care 4 fantasies: its soooooooooooooooooooooooooooooooo boring i almost fell asleep\" is not in English (language detected: af)\n",
            "Sentence \"these are the titles for this album: # track title1 amor de mis amores 2:492 iberia, siempre iberia 3:263 andalucia 3:154 jeux interdits 3:435 siboney 3:256 la violetera 3:297 malaguena 3:148 noche azul 3:479 perfidia 3:3910 el relicario 3:2511 recuerdos de la alhambra 3:3612 españa 2:28\" is not in English (language detected: es)\n",
            "Sentence \"lo mejor que tuvo espana en el ocaso del franquismo: nino bravo es el mejor exponente de una generacion de cantantes que de alguna manera, entre ellos serrat, perales y sabina, trataron de romper con sus balada el apretado cordon de la dictadura franquista y mostrar alegremente la liberacion expresiva musical de toda una generacion, hoy ausente. camilo sesto, victor manuel y ana belen son una sombre palida de su inmenso legado. lastima su muerte prematura. viva nino bravo.\" is not in English (language detected: es)\n",
            "Sentence \"nino bravo es un clásico: ¿quién podría olvidar cuando él interpretó \"libre\" en el festival de viña del mar?inolvidable.sin embargo, \"américa\" es mi canción favorita.\" is not in English (language detected: es)\n",
            "Sentence \"night sky: se tu mi scordi... lena, lena! richiamo nel bosco. lena, dove sei andata? lena, mi senti? una voce risuona lontana, limpida come un ruscello di montagna. \"la luna de cristal / la rama roja / del lento otono en mi ventana / si toco / junto al fuego / la impalpable ceniza / o el arrugado cuerpo de la lena / todo me lleva a ti\". la melodia fugge dalla finestra, verso gli alberi, verso la voce di lena willemark. come in una vecchia poesia di neruda, s'incontrano tra i rami. la voce diventa natura, le legna è corpo di donna. la notte, sotto la pioggia, sembra stellata.\" is not in English (language detected: it)\n",
            "Sentence \"los lentes de una sola pieza se dañan: compre unos ray ban muy lindos el diseño era muy fashion, quedaban muy bién puestos pero después de dos años de uso se les empezo a caer el filtro solar a mis lentes de sol en la parte del frente y luego en la parte interna, cuando los lleve a la optica para ver que podiamos hacer con ellos la respuesta que me dieron es que no tienen arreglo, que los lentes de una sola pieza no tienen respaldo ni reemplazo y gaste $200 en unos ray ban que son para toda la vida y me duraron 2 años, increblemente mal y nadie responde por el daño ni siquiera la casa matriz, por eso no compren lentes de una sola pieza, salen muy malos...\" is not in English (language detected: es)\n"
          ]
        }
      ]
    },
    {
      "cell_type": "markdown",
      "source": [
        "## Intermediate Conclusions\n",
        " - we have a balanced labeled dataset\n",
        " - very few duplicates\n",
        " - a wide distribution of document length\n",
        " - we should try work on a small dataset for ease of computation\n",
        " - for text not in English - remove? or let the word embedding models to handle?\n",
        " "
      ],
      "metadata": {
        "id": "k1wopgENN8FH"
      }
    },
    {
      "cell_type": "code",
      "source": [],
      "metadata": {
        "id": "OkcVQ2bAR8ur"
      },
      "execution_count": null,
      "outputs": []
    }
  ],
  "metadata": {
    "colab": {
      "provenance": [],
      "toc_visible": true
    },
    "kernelspec": {
      "display_name": "Python 3",
      "name": "python3"
    },
    "language_info": {
      "name": "python"
    },
    "widgets": {
      "application/vnd.jupyter.widget-state+json": {
        "fa9ed060fbff42318521e2dde5495db8": {
          "model_module": "@jupyter-widgets/controls",
          "model_name": "HBoxModel",
          "model_module_version": "1.5.0",
          "state": {
            "_dom_classes": [],
            "_model_module": "@jupyter-widgets/controls",
            "_model_module_version": "1.5.0",
            "_model_name": "HBoxModel",
            "_view_count": null,
            "_view_module": "@jupyter-widgets/controls",
            "_view_module_version": "1.5.0",
            "_view_name": "HBoxView",
            "box_style": "",
            "children": [
              "IPY_MODEL_abe36c635bcb4cc480746492a560eec2",
              "IPY_MODEL_95e7d42f02c0440d9dec0aaca4be8c2d",
              "IPY_MODEL_38e9d8f3b8bc43dd8eb0d7f4e20c1d3c"
            ],
            "layout": "IPY_MODEL_74a1d8fb96f64a7e8e3c9f00c6b62b8a"
          }
        },
        "abe36c635bcb4cc480746492a560eec2": {
          "model_module": "@jupyter-widgets/controls",
          "model_name": "HTMLModel",
          "model_module_version": "1.5.0",
          "state": {
            "_dom_classes": [],
            "_model_module": "@jupyter-widgets/controls",
            "_model_module_version": "1.5.0",
            "_model_name": "HTMLModel",
            "_view_count": null,
            "_view_module": "@jupyter-widgets/controls",
            "_view_module_version": "1.5.0",
            "_view_name": "HTMLView",
            "description": "",
            "description_tooltip": null,
            "layout": "IPY_MODEL_7cc4109c4d4e475c97d083f4b450eef5",
            "placeholder": "​",
            "style": "IPY_MODEL_7dbd733d90ce4be2963b35b261475845",
            "value": "Downloading (…)c926f/.gitattributes: 100%"
          }
        },
        "95e7d42f02c0440d9dec0aaca4be8c2d": {
          "model_module": "@jupyter-widgets/controls",
          "model_name": "FloatProgressModel",
          "model_module_version": "1.5.0",
          "state": {
            "_dom_classes": [],
            "_model_module": "@jupyter-widgets/controls",
            "_model_module_version": "1.5.0",
            "_model_name": "FloatProgressModel",
            "_view_count": null,
            "_view_module": "@jupyter-widgets/controls",
            "_view_module_version": "1.5.0",
            "_view_name": "ProgressView",
            "bar_style": "success",
            "description": "",
            "description_tooltip": null,
            "layout": "IPY_MODEL_b8f112d3284a4db9a5b78f1ea38ec3e7",
            "max": 737,
            "min": 0,
            "orientation": "horizontal",
            "style": "IPY_MODEL_eb3a392b566b4bb8b9f355e0b7da3be5",
            "value": 737
          }
        },
        "38e9d8f3b8bc43dd8eb0d7f4e20c1d3c": {
          "model_module": "@jupyter-widgets/controls",
          "model_name": "HTMLModel",
          "model_module_version": "1.5.0",
          "state": {
            "_dom_classes": [],
            "_model_module": "@jupyter-widgets/controls",
            "_model_module_version": "1.5.0",
            "_model_name": "HTMLModel",
            "_view_count": null,
            "_view_module": "@jupyter-widgets/controls",
            "_view_module_version": "1.5.0",
            "_view_name": "HTMLView",
            "description": "",
            "description_tooltip": null,
            "layout": "IPY_MODEL_c55bc0747d8f447dbbb9422f35f14686",
            "placeholder": "​",
            "style": "IPY_MODEL_7031c41535614777b627221c6ecb7896",
            "value": " 737/737 [00:00&lt;00:00, 29.5kB/s]"
          }
        },
        "74a1d8fb96f64a7e8e3c9f00c6b62b8a": {
          "model_module": "@jupyter-widgets/base",
          "model_name": "LayoutModel",
          "model_module_version": "1.2.0",
          "state": {
            "_model_module": "@jupyter-widgets/base",
            "_model_module_version": "1.2.0",
            "_model_name": "LayoutModel",
            "_view_count": null,
            "_view_module": "@jupyter-widgets/base",
            "_view_module_version": "1.2.0",
            "_view_name": "LayoutView",
            "align_content": null,
            "align_items": null,
            "align_self": null,
            "border": null,
            "bottom": null,
            "display": null,
            "flex": null,
            "flex_flow": null,
            "grid_area": null,
            "grid_auto_columns": null,
            "grid_auto_flow": null,
            "grid_auto_rows": null,
            "grid_column": null,
            "grid_gap": null,
            "grid_row": null,
            "grid_template_areas": null,
            "grid_template_columns": null,
            "grid_template_rows": null,
            "height": null,
            "justify_content": null,
            "justify_items": null,
            "left": null,
            "margin": null,
            "max_height": null,
            "max_width": null,
            "min_height": null,
            "min_width": null,
            "object_fit": null,
            "object_position": null,
            "order": null,
            "overflow": null,
            "overflow_x": null,
            "overflow_y": null,
            "padding": null,
            "right": null,
            "top": null,
            "visibility": null,
            "width": null
          }
        },
        "7cc4109c4d4e475c97d083f4b450eef5": {
          "model_module": "@jupyter-widgets/base",
          "model_name": "LayoutModel",
          "model_module_version": "1.2.0",
          "state": {
            "_model_module": "@jupyter-widgets/base",
            "_model_module_version": "1.2.0",
            "_model_name": "LayoutModel",
            "_view_count": null,
            "_view_module": "@jupyter-widgets/base",
            "_view_module_version": "1.2.0",
            "_view_name": "LayoutView",
            "align_content": null,
            "align_items": null,
            "align_self": null,
            "border": null,
            "bottom": null,
            "display": null,
            "flex": null,
            "flex_flow": null,
            "grid_area": null,
            "grid_auto_columns": null,
            "grid_auto_flow": null,
            "grid_auto_rows": null,
            "grid_column": null,
            "grid_gap": null,
            "grid_row": null,
            "grid_template_areas": null,
            "grid_template_columns": null,
            "grid_template_rows": null,
            "height": null,
            "justify_content": null,
            "justify_items": null,
            "left": null,
            "margin": null,
            "max_height": null,
            "max_width": null,
            "min_height": null,
            "min_width": null,
            "object_fit": null,
            "object_position": null,
            "order": null,
            "overflow": null,
            "overflow_x": null,
            "overflow_y": null,
            "padding": null,
            "right": null,
            "top": null,
            "visibility": null,
            "width": null
          }
        },
        "7dbd733d90ce4be2963b35b261475845": {
          "model_module": "@jupyter-widgets/controls",
          "model_name": "DescriptionStyleModel",
          "model_module_version": "1.5.0",
          "state": {
            "_model_module": "@jupyter-widgets/controls",
            "_model_module_version": "1.5.0",
            "_model_name": "DescriptionStyleModel",
            "_view_count": null,
            "_view_module": "@jupyter-widgets/base",
            "_view_module_version": "1.2.0",
            "_view_name": "StyleView",
            "description_width": ""
          }
        },
        "b8f112d3284a4db9a5b78f1ea38ec3e7": {
          "model_module": "@jupyter-widgets/base",
          "model_name": "LayoutModel",
          "model_module_version": "1.2.0",
          "state": {
            "_model_module": "@jupyter-widgets/base",
            "_model_module_version": "1.2.0",
            "_model_name": "LayoutModel",
            "_view_count": null,
            "_view_module": "@jupyter-widgets/base",
            "_view_module_version": "1.2.0",
            "_view_name": "LayoutView",
            "align_content": null,
            "align_items": null,
            "align_self": null,
            "border": null,
            "bottom": null,
            "display": null,
            "flex": null,
            "flex_flow": null,
            "grid_area": null,
            "grid_auto_columns": null,
            "grid_auto_flow": null,
            "grid_auto_rows": null,
            "grid_column": null,
            "grid_gap": null,
            "grid_row": null,
            "grid_template_areas": null,
            "grid_template_columns": null,
            "grid_template_rows": null,
            "height": null,
            "justify_content": null,
            "justify_items": null,
            "left": null,
            "margin": null,
            "max_height": null,
            "max_width": null,
            "min_height": null,
            "min_width": null,
            "object_fit": null,
            "object_position": null,
            "order": null,
            "overflow": null,
            "overflow_x": null,
            "overflow_y": null,
            "padding": null,
            "right": null,
            "top": null,
            "visibility": null,
            "width": null
          }
        },
        "eb3a392b566b4bb8b9f355e0b7da3be5": {
          "model_module": "@jupyter-widgets/controls",
          "model_name": "ProgressStyleModel",
          "model_module_version": "1.5.0",
          "state": {
            "_model_module": "@jupyter-widgets/controls",
            "_model_module_version": "1.5.0",
            "_model_name": "ProgressStyleModel",
            "_view_count": null,
            "_view_module": "@jupyter-widgets/base",
            "_view_module_version": "1.2.0",
            "_view_name": "StyleView",
            "bar_color": null,
            "description_width": ""
          }
        },
        "c55bc0747d8f447dbbb9422f35f14686": {
          "model_module": "@jupyter-widgets/base",
          "model_name": "LayoutModel",
          "model_module_version": "1.2.0",
          "state": {
            "_model_module": "@jupyter-widgets/base",
            "_model_module_version": "1.2.0",
            "_model_name": "LayoutModel",
            "_view_count": null,
            "_view_module": "@jupyter-widgets/base",
            "_view_module_version": "1.2.0",
            "_view_name": "LayoutView",
            "align_content": null,
            "align_items": null,
            "align_self": null,
            "border": null,
            "bottom": null,
            "display": null,
            "flex": null,
            "flex_flow": null,
            "grid_area": null,
            "grid_auto_columns": null,
            "grid_auto_flow": null,
            "grid_auto_rows": null,
            "grid_column": null,
            "grid_gap": null,
            "grid_row": null,
            "grid_template_areas": null,
            "grid_template_columns": null,
            "grid_template_rows": null,
            "height": null,
            "justify_content": null,
            "justify_items": null,
            "left": null,
            "margin": null,
            "max_height": null,
            "max_width": null,
            "min_height": null,
            "min_width": null,
            "object_fit": null,
            "object_position": null,
            "order": null,
            "overflow": null,
            "overflow_x": null,
            "overflow_y": null,
            "padding": null,
            "right": null,
            "top": null,
            "visibility": null,
            "width": null
          }
        },
        "7031c41535614777b627221c6ecb7896": {
          "model_module": "@jupyter-widgets/controls",
          "model_name": "DescriptionStyleModel",
          "model_module_version": "1.5.0",
          "state": {
            "_model_module": "@jupyter-widgets/controls",
            "_model_module_version": "1.5.0",
            "_model_name": "DescriptionStyleModel",
            "_view_count": null,
            "_view_module": "@jupyter-widgets/base",
            "_view_module_version": "1.2.0",
            "_view_name": "StyleView",
            "description_width": ""
          }
        },
        "c964bf8c8f4b4050a9386f2b35915fd1": {
          "model_module": "@jupyter-widgets/controls",
          "model_name": "HBoxModel",
          "model_module_version": "1.5.0",
          "state": {
            "_dom_classes": [],
            "_model_module": "@jupyter-widgets/controls",
            "_model_module_version": "1.5.0",
            "_model_name": "HBoxModel",
            "_view_count": null,
            "_view_module": "@jupyter-widgets/controls",
            "_view_module_version": "1.5.0",
            "_view_name": "HBoxView",
            "box_style": "",
            "children": [
              "IPY_MODEL_54e3e07154134a21bc65bd0630e53339",
              "IPY_MODEL_26cffa71d67f415cb0c079a9bd5927b8",
              "IPY_MODEL_3c56ce5f1b414116b6cfeb14afb80e7a"
            ],
            "layout": "IPY_MODEL_79deef9c7f97499eb4a000415c8beaaa"
          }
        },
        "54e3e07154134a21bc65bd0630e53339": {
          "model_module": "@jupyter-widgets/controls",
          "model_name": "HTMLModel",
          "model_module_version": "1.5.0",
          "state": {
            "_dom_classes": [],
            "_model_module": "@jupyter-widgets/controls",
            "_model_module_version": "1.5.0",
            "_model_name": "HTMLModel",
            "_view_count": null,
            "_view_module": "@jupyter-widgets/controls",
            "_view_module_version": "1.5.0",
            "_view_name": "HTMLView",
            "description": "",
            "description_tooltip": null,
            "layout": "IPY_MODEL_1a24445f4528490a971d4478de3880b1",
            "placeholder": "​",
            "style": "IPY_MODEL_80fc597815674d729afb429f5e0344ef",
            "value": "Downloading (…)_Pooling/config.json: 100%"
          }
        },
        "26cffa71d67f415cb0c079a9bd5927b8": {
          "model_module": "@jupyter-widgets/controls",
          "model_name": "FloatProgressModel",
          "model_module_version": "1.5.0",
          "state": {
            "_dom_classes": [],
            "_model_module": "@jupyter-widgets/controls",
            "_model_module_version": "1.5.0",
            "_model_name": "FloatProgressModel",
            "_view_count": null,
            "_view_module": "@jupyter-widgets/controls",
            "_view_module_version": "1.5.0",
            "_view_name": "ProgressView",
            "bar_style": "success",
            "description": "",
            "description_tooltip": null,
            "layout": "IPY_MODEL_b2edf7aeb3f24be29d517e0bddd00aef",
            "max": 190,
            "min": 0,
            "orientation": "horizontal",
            "style": "IPY_MODEL_0733bfeaba1b4c60a99f953cfb2eec01",
            "value": 190
          }
        },
        "3c56ce5f1b414116b6cfeb14afb80e7a": {
          "model_module": "@jupyter-widgets/controls",
          "model_name": "HTMLModel",
          "model_module_version": "1.5.0",
          "state": {
            "_dom_classes": [],
            "_model_module": "@jupyter-widgets/controls",
            "_model_module_version": "1.5.0",
            "_model_name": "HTMLModel",
            "_view_count": null,
            "_view_module": "@jupyter-widgets/controls",
            "_view_module_version": "1.5.0",
            "_view_name": "HTMLView",
            "description": "",
            "description_tooltip": null,
            "layout": "IPY_MODEL_ec03c5abce7a4dee97c9f35483f3d977",
            "placeholder": "​",
            "style": "IPY_MODEL_247f3c09c93a4a51b3ad8ad859149435",
            "value": " 190/190 [00:00&lt;00:00, 8.80kB/s]"
          }
        },
        "79deef9c7f97499eb4a000415c8beaaa": {
          "model_module": "@jupyter-widgets/base",
          "model_name": "LayoutModel",
          "model_module_version": "1.2.0",
          "state": {
            "_model_module": "@jupyter-widgets/base",
            "_model_module_version": "1.2.0",
            "_model_name": "LayoutModel",
            "_view_count": null,
            "_view_module": "@jupyter-widgets/base",
            "_view_module_version": "1.2.0",
            "_view_name": "LayoutView",
            "align_content": null,
            "align_items": null,
            "align_self": null,
            "border": null,
            "bottom": null,
            "display": null,
            "flex": null,
            "flex_flow": null,
            "grid_area": null,
            "grid_auto_columns": null,
            "grid_auto_flow": null,
            "grid_auto_rows": null,
            "grid_column": null,
            "grid_gap": null,
            "grid_row": null,
            "grid_template_areas": null,
            "grid_template_columns": null,
            "grid_template_rows": null,
            "height": null,
            "justify_content": null,
            "justify_items": null,
            "left": null,
            "margin": null,
            "max_height": null,
            "max_width": null,
            "min_height": null,
            "min_width": null,
            "object_fit": null,
            "object_position": null,
            "order": null,
            "overflow": null,
            "overflow_x": null,
            "overflow_y": null,
            "padding": null,
            "right": null,
            "top": null,
            "visibility": null,
            "width": null
          }
        },
        "1a24445f4528490a971d4478de3880b1": {
          "model_module": "@jupyter-widgets/base",
          "model_name": "LayoutModel",
          "model_module_version": "1.2.0",
          "state": {
            "_model_module": "@jupyter-widgets/base",
            "_model_module_version": "1.2.0",
            "_model_name": "LayoutModel",
            "_view_count": null,
            "_view_module": "@jupyter-widgets/base",
            "_view_module_version": "1.2.0",
            "_view_name": "LayoutView",
            "align_content": null,
            "align_items": null,
            "align_self": null,
            "border": null,
            "bottom": null,
            "display": null,
            "flex": null,
            "flex_flow": null,
            "grid_area": null,
            "grid_auto_columns": null,
            "grid_auto_flow": null,
            "grid_auto_rows": null,
            "grid_column": null,
            "grid_gap": null,
            "grid_row": null,
            "grid_template_areas": null,
            "grid_template_columns": null,
            "grid_template_rows": null,
            "height": null,
            "justify_content": null,
            "justify_items": null,
            "left": null,
            "margin": null,
            "max_height": null,
            "max_width": null,
            "min_height": null,
            "min_width": null,
            "object_fit": null,
            "object_position": null,
            "order": null,
            "overflow": null,
            "overflow_x": null,
            "overflow_y": null,
            "padding": null,
            "right": null,
            "top": null,
            "visibility": null,
            "width": null
          }
        },
        "80fc597815674d729afb429f5e0344ef": {
          "model_module": "@jupyter-widgets/controls",
          "model_name": "DescriptionStyleModel",
          "model_module_version": "1.5.0",
          "state": {
            "_model_module": "@jupyter-widgets/controls",
            "_model_module_version": "1.5.0",
            "_model_name": "DescriptionStyleModel",
            "_view_count": null,
            "_view_module": "@jupyter-widgets/base",
            "_view_module_version": "1.2.0",
            "_view_name": "StyleView",
            "description_width": ""
          }
        },
        "b2edf7aeb3f24be29d517e0bddd00aef": {
          "model_module": "@jupyter-widgets/base",
          "model_name": "LayoutModel",
          "model_module_version": "1.2.0",
          "state": {
            "_model_module": "@jupyter-widgets/base",
            "_model_module_version": "1.2.0",
            "_model_name": "LayoutModel",
            "_view_count": null,
            "_view_module": "@jupyter-widgets/base",
            "_view_module_version": "1.2.0",
            "_view_name": "LayoutView",
            "align_content": null,
            "align_items": null,
            "align_self": null,
            "border": null,
            "bottom": null,
            "display": null,
            "flex": null,
            "flex_flow": null,
            "grid_area": null,
            "grid_auto_columns": null,
            "grid_auto_flow": null,
            "grid_auto_rows": null,
            "grid_column": null,
            "grid_gap": null,
            "grid_row": null,
            "grid_template_areas": null,
            "grid_template_columns": null,
            "grid_template_rows": null,
            "height": null,
            "justify_content": null,
            "justify_items": null,
            "left": null,
            "margin": null,
            "max_height": null,
            "max_width": null,
            "min_height": null,
            "min_width": null,
            "object_fit": null,
            "object_position": null,
            "order": null,
            "overflow": null,
            "overflow_x": null,
            "overflow_y": null,
            "padding": null,
            "right": null,
            "top": null,
            "visibility": null,
            "width": null
          }
        },
        "0733bfeaba1b4c60a99f953cfb2eec01": {
          "model_module": "@jupyter-widgets/controls",
          "model_name": "ProgressStyleModel",
          "model_module_version": "1.5.0",
          "state": {
            "_model_module": "@jupyter-widgets/controls",
            "_model_module_version": "1.5.0",
            "_model_name": "ProgressStyleModel",
            "_view_count": null,
            "_view_module": "@jupyter-widgets/base",
            "_view_module_version": "1.2.0",
            "_view_name": "StyleView",
            "bar_color": null,
            "description_width": ""
          }
        },
        "ec03c5abce7a4dee97c9f35483f3d977": {
          "model_module": "@jupyter-widgets/base",
          "model_name": "LayoutModel",
          "model_module_version": "1.2.0",
          "state": {
            "_model_module": "@jupyter-widgets/base",
            "_model_module_version": "1.2.0",
            "_model_name": "LayoutModel",
            "_view_count": null,
            "_view_module": "@jupyter-widgets/base",
            "_view_module_version": "1.2.0",
            "_view_name": "LayoutView",
            "align_content": null,
            "align_items": null,
            "align_self": null,
            "border": null,
            "bottom": null,
            "display": null,
            "flex": null,
            "flex_flow": null,
            "grid_area": null,
            "grid_auto_columns": null,
            "grid_auto_flow": null,
            "grid_auto_rows": null,
            "grid_column": null,
            "grid_gap": null,
            "grid_row": null,
            "grid_template_areas": null,
            "grid_template_columns": null,
            "grid_template_rows": null,
            "height": null,
            "justify_content": null,
            "justify_items": null,
            "left": null,
            "margin": null,
            "max_height": null,
            "max_width": null,
            "min_height": null,
            "min_width": null,
            "object_fit": null,
            "object_position": null,
            "order": null,
            "overflow": null,
            "overflow_x": null,
            "overflow_y": null,
            "padding": null,
            "right": null,
            "top": null,
            "visibility": null,
            "width": null
          }
        },
        "247f3c09c93a4a51b3ad8ad859149435": {
          "model_module": "@jupyter-widgets/controls",
          "model_name": "DescriptionStyleModel",
          "model_module_version": "1.5.0",
          "state": {
            "_model_module": "@jupyter-widgets/controls",
            "_model_module_version": "1.5.0",
            "_model_name": "DescriptionStyleModel",
            "_view_count": null,
            "_view_module": "@jupyter-widgets/base",
            "_view_module_version": "1.2.0",
            "_view_name": "StyleView",
            "description_width": ""
          }
        },
        "59c731af870448c8ad6716ba2c5b313e": {
          "model_module": "@jupyter-widgets/controls",
          "model_name": "HBoxModel",
          "model_module_version": "1.5.0",
          "state": {
            "_dom_classes": [],
            "_model_module": "@jupyter-widgets/controls",
            "_model_module_version": "1.5.0",
            "_model_name": "HBoxModel",
            "_view_count": null,
            "_view_module": "@jupyter-widgets/controls",
            "_view_module_version": "1.5.0",
            "_view_name": "HBoxView",
            "box_style": "",
            "children": [
              "IPY_MODEL_31cdff64584749399009490f8776d06d",
              "IPY_MODEL_5e521c18b5d14dc39395623a2c7dba1a",
              "IPY_MODEL_8cd765534385482c81da13fceb66fb78"
            ],
            "layout": "IPY_MODEL_dc58d8c87c35465899ff0bed651c2652"
          }
        },
        "31cdff64584749399009490f8776d06d": {
          "model_module": "@jupyter-widgets/controls",
          "model_name": "HTMLModel",
          "model_module_version": "1.5.0",
          "state": {
            "_dom_classes": [],
            "_model_module": "@jupyter-widgets/controls",
            "_model_module_version": "1.5.0",
            "_model_name": "HTMLModel",
            "_view_count": null,
            "_view_module": "@jupyter-widgets/controls",
            "_view_module_version": "1.5.0",
            "_view_name": "HTMLView",
            "description": "",
            "description_tooltip": null,
            "layout": "IPY_MODEL_c62c37deb1934da4aa9d0af3b39a52d5",
            "placeholder": "​",
            "style": "IPY_MODEL_e34d66fc09c54cd49923522c2e3162e4",
            "value": "Downloading (…)8101fc926f/README.md: 100%"
          }
        },
        "5e521c18b5d14dc39395623a2c7dba1a": {
          "model_module": "@jupyter-widgets/controls",
          "model_name": "FloatProgressModel",
          "model_module_version": "1.5.0",
          "state": {
            "_dom_classes": [],
            "_model_module": "@jupyter-widgets/controls",
            "_model_module_version": "1.5.0",
            "_model_name": "FloatProgressModel",
            "_view_count": null,
            "_view_module": "@jupyter-widgets/controls",
            "_view_module_version": "1.5.0",
            "_view_name": "ProgressView",
            "bar_style": "success",
            "description": "",
            "description_tooltip": null,
            "layout": "IPY_MODEL_808c8a02e4a14590ae2dfaa32a378039",
            "max": 9905,
            "min": 0,
            "orientation": "horizontal",
            "style": "IPY_MODEL_44b9cd27c2e344b282a573da2b0e267b",
            "value": 9905
          }
        },
        "8cd765534385482c81da13fceb66fb78": {
          "model_module": "@jupyter-widgets/controls",
          "model_name": "HTMLModel",
          "model_module_version": "1.5.0",
          "state": {
            "_dom_classes": [],
            "_model_module": "@jupyter-widgets/controls",
            "_model_module_version": "1.5.0",
            "_model_name": "HTMLModel",
            "_view_count": null,
            "_view_module": "@jupyter-widgets/controls",
            "_view_module_version": "1.5.0",
            "_view_name": "HTMLView",
            "description": "",
            "description_tooltip": null,
            "layout": "IPY_MODEL_3ba5bd2bfab6453b953055c868a9fa59",
            "placeholder": "​",
            "style": "IPY_MODEL_b05a4396f493458ebe3d5bf5b9612549",
            "value": " 9.90k/9.90k [00:00&lt;00:00, 394kB/s]"
          }
        },
        "dc58d8c87c35465899ff0bed651c2652": {
          "model_module": "@jupyter-widgets/base",
          "model_name": "LayoutModel",
          "model_module_version": "1.2.0",
          "state": {
            "_model_module": "@jupyter-widgets/base",
            "_model_module_version": "1.2.0",
            "_model_name": "LayoutModel",
            "_view_count": null,
            "_view_module": "@jupyter-widgets/base",
            "_view_module_version": "1.2.0",
            "_view_name": "LayoutView",
            "align_content": null,
            "align_items": null,
            "align_self": null,
            "border": null,
            "bottom": null,
            "display": null,
            "flex": null,
            "flex_flow": null,
            "grid_area": null,
            "grid_auto_columns": null,
            "grid_auto_flow": null,
            "grid_auto_rows": null,
            "grid_column": null,
            "grid_gap": null,
            "grid_row": null,
            "grid_template_areas": null,
            "grid_template_columns": null,
            "grid_template_rows": null,
            "height": null,
            "justify_content": null,
            "justify_items": null,
            "left": null,
            "margin": null,
            "max_height": null,
            "max_width": null,
            "min_height": null,
            "min_width": null,
            "object_fit": null,
            "object_position": null,
            "order": null,
            "overflow": null,
            "overflow_x": null,
            "overflow_y": null,
            "padding": null,
            "right": null,
            "top": null,
            "visibility": null,
            "width": null
          }
        },
        "c62c37deb1934da4aa9d0af3b39a52d5": {
          "model_module": "@jupyter-widgets/base",
          "model_name": "LayoutModel",
          "model_module_version": "1.2.0",
          "state": {
            "_model_module": "@jupyter-widgets/base",
            "_model_module_version": "1.2.0",
            "_model_name": "LayoutModel",
            "_view_count": null,
            "_view_module": "@jupyter-widgets/base",
            "_view_module_version": "1.2.0",
            "_view_name": "LayoutView",
            "align_content": null,
            "align_items": null,
            "align_self": null,
            "border": null,
            "bottom": null,
            "display": null,
            "flex": null,
            "flex_flow": null,
            "grid_area": null,
            "grid_auto_columns": null,
            "grid_auto_flow": null,
            "grid_auto_rows": null,
            "grid_column": null,
            "grid_gap": null,
            "grid_row": null,
            "grid_template_areas": null,
            "grid_template_columns": null,
            "grid_template_rows": null,
            "height": null,
            "justify_content": null,
            "justify_items": null,
            "left": null,
            "margin": null,
            "max_height": null,
            "max_width": null,
            "min_height": null,
            "min_width": null,
            "object_fit": null,
            "object_position": null,
            "order": null,
            "overflow": null,
            "overflow_x": null,
            "overflow_y": null,
            "padding": null,
            "right": null,
            "top": null,
            "visibility": null,
            "width": null
          }
        },
        "e34d66fc09c54cd49923522c2e3162e4": {
          "model_module": "@jupyter-widgets/controls",
          "model_name": "DescriptionStyleModel",
          "model_module_version": "1.5.0",
          "state": {
            "_model_module": "@jupyter-widgets/controls",
            "_model_module_version": "1.5.0",
            "_model_name": "DescriptionStyleModel",
            "_view_count": null,
            "_view_module": "@jupyter-widgets/base",
            "_view_module_version": "1.2.0",
            "_view_name": "StyleView",
            "description_width": ""
          }
        },
        "808c8a02e4a14590ae2dfaa32a378039": {
          "model_module": "@jupyter-widgets/base",
          "model_name": "LayoutModel",
          "model_module_version": "1.2.0",
          "state": {
            "_model_module": "@jupyter-widgets/base",
            "_model_module_version": "1.2.0",
            "_model_name": "LayoutModel",
            "_view_count": null,
            "_view_module": "@jupyter-widgets/base",
            "_view_module_version": "1.2.0",
            "_view_name": "LayoutView",
            "align_content": null,
            "align_items": null,
            "align_self": null,
            "border": null,
            "bottom": null,
            "display": null,
            "flex": null,
            "flex_flow": null,
            "grid_area": null,
            "grid_auto_columns": null,
            "grid_auto_flow": null,
            "grid_auto_rows": null,
            "grid_column": null,
            "grid_gap": null,
            "grid_row": null,
            "grid_template_areas": null,
            "grid_template_columns": null,
            "grid_template_rows": null,
            "height": null,
            "justify_content": null,
            "justify_items": null,
            "left": null,
            "margin": null,
            "max_height": null,
            "max_width": null,
            "min_height": null,
            "min_width": null,
            "object_fit": null,
            "object_position": null,
            "order": null,
            "overflow": null,
            "overflow_x": null,
            "overflow_y": null,
            "padding": null,
            "right": null,
            "top": null,
            "visibility": null,
            "width": null
          }
        },
        "44b9cd27c2e344b282a573da2b0e267b": {
          "model_module": "@jupyter-widgets/controls",
          "model_name": "ProgressStyleModel",
          "model_module_version": "1.5.0",
          "state": {
            "_model_module": "@jupyter-widgets/controls",
            "_model_module_version": "1.5.0",
            "_model_name": "ProgressStyleModel",
            "_view_count": null,
            "_view_module": "@jupyter-widgets/base",
            "_view_module_version": "1.2.0",
            "_view_name": "StyleView",
            "bar_color": null,
            "description_width": ""
          }
        },
        "3ba5bd2bfab6453b953055c868a9fa59": {
          "model_module": "@jupyter-widgets/base",
          "model_name": "LayoutModel",
          "model_module_version": "1.2.0",
          "state": {
            "_model_module": "@jupyter-widgets/base",
            "_model_module_version": "1.2.0",
            "_model_name": "LayoutModel",
            "_view_count": null,
            "_view_module": "@jupyter-widgets/base",
            "_view_module_version": "1.2.0",
            "_view_name": "LayoutView",
            "align_content": null,
            "align_items": null,
            "align_self": null,
            "border": null,
            "bottom": null,
            "display": null,
            "flex": null,
            "flex_flow": null,
            "grid_area": null,
            "grid_auto_columns": null,
            "grid_auto_flow": null,
            "grid_auto_rows": null,
            "grid_column": null,
            "grid_gap": null,
            "grid_row": null,
            "grid_template_areas": null,
            "grid_template_columns": null,
            "grid_template_rows": null,
            "height": null,
            "justify_content": null,
            "justify_items": null,
            "left": null,
            "margin": null,
            "max_height": null,
            "max_width": null,
            "min_height": null,
            "min_width": null,
            "object_fit": null,
            "object_position": null,
            "order": null,
            "overflow": null,
            "overflow_x": null,
            "overflow_y": null,
            "padding": null,
            "right": null,
            "top": null,
            "visibility": null,
            "width": null
          }
        },
        "b05a4396f493458ebe3d5bf5b9612549": {
          "model_module": "@jupyter-widgets/controls",
          "model_name": "DescriptionStyleModel",
          "model_module_version": "1.5.0",
          "state": {
            "_model_module": "@jupyter-widgets/controls",
            "_model_module_version": "1.5.0",
            "_model_name": "DescriptionStyleModel",
            "_view_count": null,
            "_view_module": "@jupyter-widgets/base",
            "_view_module_version": "1.2.0",
            "_view_name": "StyleView",
            "description_width": ""
          }
        },
        "326f33a0dba44e8995f125bcfc90f901": {
          "model_module": "@jupyter-widgets/controls",
          "model_name": "HBoxModel",
          "model_module_version": "1.5.0",
          "state": {
            "_dom_classes": [],
            "_model_module": "@jupyter-widgets/controls",
            "_model_module_version": "1.5.0",
            "_model_name": "HBoxModel",
            "_view_count": null,
            "_view_module": "@jupyter-widgets/controls",
            "_view_module_version": "1.5.0",
            "_view_name": "HBoxView",
            "box_style": "",
            "children": [
              "IPY_MODEL_3b3d16055ade4f688ea69156dae188e0",
              "IPY_MODEL_7ff1acf90afc454b8c77dd9cebebd2e4",
              "IPY_MODEL_76d5ccb455eb4a939ed67454ec7c6153"
            ],
            "layout": "IPY_MODEL_068ffe41f75843f7893aed50f7577718"
          }
        },
        "3b3d16055ade4f688ea69156dae188e0": {
          "model_module": "@jupyter-widgets/controls",
          "model_name": "HTMLModel",
          "model_module_version": "1.5.0",
          "state": {
            "_dom_classes": [],
            "_model_module": "@jupyter-widgets/controls",
            "_model_module_version": "1.5.0",
            "_model_name": "HTMLModel",
            "_view_count": null,
            "_view_module": "@jupyter-widgets/controls",
            "_view_module_version": "1.5.0",
            "_view_name": "HTMLView",
            "description": "",
            "description_tooltip": null,
            "layout": "IPY_MODEL_246a44d36ce64d87823914178cb2ec04",
            "placeholder": "​",
            "style": "IPY_MODEL_8f628824341a46c3bc459e8c3a608c78",
            "value": "Downloading (…)01fc926f/config.json: 100%"
          }
        },
        "7ff1acf90afc454b8c77dd9cebebd2e4": {
          "model_module": "@jupyter-widgets/controls",
          "model_name": "FloatProgressModel",
          "model_module_version": "1.5.0",
          "state": {
            "_dom_classes": [],
            "_model_module": "@jupyter-widgets/controls",
            "_model_module_version": "1.5.0",
            "_model_name": "FloatProgressModel",
            "_view_count": null,
            "_view_module": "@jupyter-widgets/controls",
            "_view_module_version": "1.5.0",
            "_view_name": "ProgressView",
            "bar_style": "success",
            "description": "",
            "description_tooltip": null,
            "layout": "IPY_MODEL_ec4d6c5225ce4a41931d4aedc027a422",
            "max": 573,
            "min": 0,
            "orientation": "horizontal",
            "style": "IPY_MODEL_64ea09e5ccea4684991c7ff02f5898be",
            "value": 573
          }
        },
        "76d5ccb455eb4a939ed67454ec7c6153": {
          "model_module": "@jupyter-widgets/controls",
          "model_name": "HTMLModel",
          "model_module_version": "1.5.0",
          "state": {
            "_dom_classes": [],
            "_model_module": "@jupyter-widgets/controls",
            "_model_module_version": "1.5.0",
            "_model_name": "HTMLModel",
            "_view_count": null,
            "_view_module": "@jupyter-widgets/controls",
            "_view_module_version": "1.5.0",
            "_view_name": "HTMLView",
            "description": "",
            "description_tooltip": null,
            "layout": "IPY_MODEL_76343147319f409588e62090fd0145d0",
            "placeholder": "​",
            "style": "IPY_MODEL_a085ce1ab9954669b03f555877c55427",
            "value": " 573/573 [00:00&lt;00:00, 18.1kB/s]"
          }
        },
        "068ffe41f75843f7893aed50f7577718": {
          "model_module": "@jupyter-widgets/base",
          "model_name": "LayoutModel",
          "model_module_version": "1.2.0",
          "state": {
            "_model_module": "@jupyter-widgets/base",
            "_model_module_version": "1.2.0",
            "_model_name": "LayoutModel",
            "_view_count": null,
            "_view_module": "@jupyter-widgets/base",
            "_view_module_version": "1.2.0",
            "_view_name": "LayoutView",
            "align_content": null,
            "align_items": null,
            "align_self": null,
            "border": null,
            "bottom": null,
            "display": null,
            "flex": null,
            "flex_flow": null,
            "grid_area": null,
            "grid_auto_columns": null,
            "grid_auto_flow": null,
            "grid_auto_rows": null,
            "grid_column": null,
            "grid_gap": null,
            "grid_row": null,
            "grid_template_areas": null,
            "grid_template_columns": null,
            "grid_template_rows": null,
            "height": null,
            "justify_content": null,
            "justify_items": null,
            "left": null,
            "margin": null,
            "max_height": null,
            "max_width": null,
            "min_height": null,
            "min_width": null,
            "object_fit": null,
            "object_position": null,
            "order": null,
            "overflow": null,
            "overflow_x": null,
            "overflow_y": null,
            "padding": null,
            "right": null,
            "top": null,
            "visibility": null,
            "width": null
          }
        },
        "246a44d36ce64d87823914178cb2ec04": {
          "model_module": "@jupyter-widgets/base",
          "model_name": "LayoutModel",
          "model_module_version": "1.2.0",
          "state": {
            "_model_module": "@jupyter-widgets/base",
            "_model_module_version": "1.2.0",
            "_model_name": "LayoutModel",
            "_view_count": null,
            "_view_module": "@jupyter-widgets/base",
            "_view_module_version": "1.2.0",
            "_view_name": "LayoutView",
            "align_content": null,
            "align_items": null,
            "align_self": null,
            "border": null,
            "bottom": null,
            "display": null,
            "flex": null,
            "flex_flow": null,
            "grid_area": null,
            "grid_auto_columns": null,
            "grid_auto_flow": null,
            "grid_auto_rows": null,
            "grid_column": null,
            "grid_gap": null,
            "grid_row": null,
            "grid_template_areas": null,
            "grid_template_columns": null,
            "grid_template_rows": null,
            "height": null,
            "justify_content": null,
            "justify_items": null,
            "left": null,
            "margin": null,
            "max_height": null,
            "max_width": null,
            "min_height": null,
            "min_width": null,
            "object_fit": null,
            "object_position": null,
            "order": null,
            "overflow": null,
            "overflow_x": null,
            "overflow_y": null,
            "padding": null,
            "right": null,
            "top": null,
            "visibility": null,
            "width": null
          }
        },
        "8f628824341a46c3bc459e8c3a608c78": {
          "model_module": "@jupyter-widgets/controls",
          "model_name": "DescriptionStyleModel",
          "model_module_version": "1.5.0",
          "state": {
            "_model_module": "@jupyter-widgets/controls",
            "_model_module_version": "1.5.0",
            "_model_name": "DescriptionStyleModel",
            "_view_count": null,
            "_view_module": "@jupyter-widgets/base",
            "_view_module_version": "1.2.0",
            "_view_name": "StyleView",
            "description_width": ""
          }
        },
        "ec4d6c5225ce4a41931d4aedc027a422": {
          "model_module": "@jupyter-widgets/base",
          "model_name": "LayoutModel",
          "model_module_version": "1.2.0",
          "state": {
            "_model_module": "@jupyter-widgets/base",
            "_model_module_version": "1.2.0",
            "_model_name": "LayoutModel",
            "_view_count": null,
            "_view_module": "@jupyter-widgets/base",
            "_view_module_version": "1.2.0",
            "_view_name": "LayoutView",
            "align_content": null,
            "align_items": null,
            "align_self": null,
            "border": null,
            "bottom": null,
            "display": null,
            "flex": null,
            "flex_flow": null,
            "grid_area": null,
            "grid_auto_columns": null,
            "grid_auto_flow": null,
            "grid_auto_rows": null,
            "grid_column": null,
            "grid_gap": null,
            "grid_row": null,
            "grid_template_areas": null,
            "grid_template_columns": null,
            "grid_template_rows": null,
            "height": null,
            "justify_content": null,
            "justify_items": null,
            "left": null,
            "margin": null,
            "max_height": null,
            "max_width": null,
            "min_height": null,
            "min_width": null,
            "object_fit": null,
            "object_position": null,
            "order": null,
            "overflow": null,
            "overflow_x": null,
            "overflow_y": null,
            "padding": null,
            "right": null,
            "top": null,
            "visibility": null,
            "width": null
          }
        },
        "64ea09e5ccea4684991c7ff02f5898be": {
          "model_module": "@jupyter-widgets/controls",
          "model_name": "ProgressStyleModel",
          "model_module_version": "1.5.0",
          "state": {
            "_model_module": "@jupyter-widgets/controls",
            "_model_module_version": "1.5.0",
            "_model_name": "ProgressStyleModel",
            "_view_count": null,
            "_view_module": "@jupyter-widgets/base",
            "_view_module_version": "1.2.0",
            "_view_name": "StyleView",
            "bar_color": null,
            "description_width": ""
          }
        },
        "76343147319f409588e62090fd0145d0": {
          "model_module": "@jupyter-widgets/base",
          "model_name": "LayoutModel",
          "model_module_version": "1.2.0",
          "state": {
            "_model_module": "@jupyter-widgets/base",
            "_model_module_version": "1.2.0",
            "_model_name": "LayoutModel",
            "_view_count": null,
            "_view_module": "@jupyter-widgets/base",
            "_view_module_version": "1.2.0",
            "_view_name": "LayoutView",
            "align_content": null,
            "align_items": null,
            "align_self": null,
            "border": null,
            "bottom": null,
            "display": null,
            "flex": null,
            "flex_flow": null,
            "grid_area": null,
            "grid_auto_columns": null,
            "grid_auto_flow": null,
            "grid_auto_rows": null,
            "grid_column": null,
            "grid_gap": null,
            "grid_row": null,
            "grid_template_areas": null,
            "grid_template_columns": null,
            "grid_template_rows": null,
            "height": null,
            "justify_content": null,
            "justify_items": null,
            "left": null,
            "margin": null,
            "max_height": null,
            "max_width": null,
            "min_height": null,
            "min_width": null,
            "object_fit": null,
            "object_position": null,
            "order": null,
            "overflow": null,
            "overflow_x": null,
            "overflow_y": null,
            "padding": null,
            "right": null,
            "top": null,
            "visibility": null,
            "width": null
          }
        },
        "a085ce1ab9954669b03f555877c55427": {
          "model_module": "@jupyter-widgets/controls",
          "model_name": "DescriptionStyleModel",
          "model_module_version": "1.5.0",
          "state": {
            "_model_module": "@jupyter-widgets/controls",
            "_model_module_version": "1.5.0",
            "_model_name": "DescriptionStyleModel",
            "_view_count": null,
            "_view_module": "@jupyter-widgets/base",
            "_view_module_version": "1.2.0",
            "_view_name": "StyleView",
            "description_width": ""
          }
        },
        "a4607fd13685426493511c4a047c4d3b": {
          "model_module": "@jupyter-widgets/controls",
          "model_name": "HBoxModel",
          "model_module_version": "1.5.0",
          "state": {
            "_dom_classes": [],
            "_model_module": "@jupyter-widgets/controls",
            "_model_module_version": "1.5.0",
            "_model_name": "HBoxModel",
            "_view_count": null,
            "_view_module": "@jupyter-widgets/controls",
            "_view_module_version": "1.5.0",
            "_view_name": "HBoxView",
            "box_style": "",
            "children": [
              "IPY_MODEL_27036e5f1a3c4158a2269de9096af50a",
              "IPY_MODEL_adc250dac70446dcbd0e313bc5fb2b02",
              "IPY_MODEL_1f1421f41b3447a586a3898b29da2bb6"
            ],
            "layout": "IPY_MODEL_7dfc1fcdbafe41f182eef974d6f4c14b"
          }
        },
        "27036e5f1a3c4158a2269de9096af50a": {
          "model_module": "@jupyter-widgets/controls",
          "model_name": "HTMLModel",
          "model_module_version": "1.5.0",
          "state": {
            "_dom_classes": [],
            "_model_module": "@jupyter-widgets/controls",
            "_model_module_version": "1.5.0",
            "_model_name": "HTMLModel",
            "_view_count": null,
            "_view_module": "@jupyter-widgets/controls",
            "_view_module_version": "1.5.0",
            "_view_name": "HTMLView",
            "description": "",
            "description_tooltip": null,
            "layout": "IPY_MODEL_c0cf7f2f6a3044d895045eea7142dc03",
            "placeholder": "​",
            "style": "IPY_MODEL_4ca9e1f456bd42b481897d8c07b4a9c8",
            "value": "Downloading (…)ce_transformers.json: 100%"
          }
        },
        "adc250dac70446dcbd0e313bc5fb2b02": {
          "model_module": "@jupyter-widgets/controls",
          "model_name": "FloatProgressModel",
          "model_module_version": "1.5.0",
          "state": {
            "_dom_classes": [],
            "_model_module": "@jupyter-widgets/controls",
            "_model_module_version": "1.5.0",
            "_model_name": "FloatProgressModel",
            "_view_count": null,
            "_view_module": "@jupyter-widgets/controls",
            "_view_module_version": "1.5.0",
            "_view_name": "ProgressView",
            "bar_style": "success",
            "description": "",
            "description_tooltip": null,
            "layout": "IPY_MODEL_2448356996e44910a753c73165441ab0",
            "max": 116,
            "min": 0,
            "orientation": "horizontal",
            "style": "IPY_MODEL_fdc9b2949236443baeeeea3cfcc537de",
            "value": 116
          }
        },
        "1f1421f41b3447a586a3898b29da2bb6": {
          "model_module": "@jupyter-widgets/controls",
          "model_name": "HTMLModel",
          "model_module_version": "1.5.0",
          "state": {
            "_dom_classes": [],
            "_model_module": "@jupyter-widgets/controls",
            "_model_module_version": "1.5.0",
            "_model_name": "HTMLModel",
            "_view_count": null,
            "_view_module": "@jupyter-widgets/controls",
            "_view_module_version": "1.5.0",
            "_view_name": "HTMLView",
            "description": "",
            "description_tooltip": null,
            "layout": "IPY_MODEL_6137638d18664d1794fdd8db33a963aa",
            "placeholder": "​",
            "style": "IPY_MODEL_cc4ee8c92aa940d79e55995ba1bdd325",
            "value": " 116/116 [00:00&lt;00:00, 4.50kB/s]"
          }
        },
        "7dfc1fcdbafe41f182eef974d6f4c14b": {
          "model_module": "@jupyter-widgets/base",
          "model_name": "LayoutModel",
          "model_module_version": "1.2.0",
          "state": {
            "_model_module": "@jupyter-widgets/base",
            "_model_module_version": "1.2.0",
            "_model_name": "LayoutModel",
            "_view_count": null,
            "_view_module": "@jupyter-widgets/base",
            "_view_module_version": "1.2.0",
            "_view_name": "LayoutView",
            "align_content": null,
            "align_items": null,
            "align_self": null,
            "border": null,
            "bottom": null,
            "display": null,
            "flex": null,
            "flex_flow": null,
            "grid_area": null,
            "grid_auto_columns": null,
            "grid_auto_flow": null,
            "grid_auto_rows": null,
            "grid_column": null,
            "grid_gap": null,
            "grid_row": null,
            "grid_template_areas": null,
            "grid_template_columns": null,
            "grid_template_rows": null,
            "height": null,
            "justify_content": null,
            "justify_items": null,
            "left": null,
            "margin": null,
            "max_height": null,
            "max_width": null,
            "min_height": null,
            "min_width": null,
            "object_fit": null,
            "object_position": null,
            "order": null,
            "overflow": null,
            "overflow_x": null,
            "overflow_y": null,
            "padding": null,
            "right": null,
            "top": null,
            "visibility": null,
            "width": null
          }
        },
        "c0cf7f2f6a3044d895045eea7142dc03": {
          "model_module": "@jupyter-widgets/base",
          "model_name": "LayoutModel",
          "model_module_version": "1.2.0",
          "state": {
            "_model_module": "@jupyter-widgets/base",
            "_model_module_version": "1.2.0",
            "_model_name": "LayoutModel",
            "_view_count": null,
            "_view_module": "@jupyter-widgets/base",
            "_view_module_version": "1.2.0",
            "_view_name": "LayoutView",
            "align_content": null,
            "align_items": null,
            "align_self": null,
            "border": null,
            "bottom": null,
            "display": null,
            "flex": null,
            "flex_flow": null,
            "grid_area": null,
            "grid_auto_columns": null,
            "grid_auto_flow": null,
            "grid_auto_rows": null,
            "grid_column": null,
            "grid_gap": null,
            "grid_row": null,
            "grid_template_areas": null,
            "grid_template_columns": null,
            "grid_template_rows": null,
            "height": null,
            "justify_content": null,
            "justify_items": null,
            "left": null,
            "margin": null,
            "max_height": null,
            "max_width": null,
            "min_height": null,
            "min_width": null,
            "object_fit": null,
            "object_position": null,
            "order": null,
            "overflow": null,
            "overflow_x": null,
            "overflow_y": null,
            "padding": null,
            "right": null,
            "top": null,
            "visibility": null,
            "width": null
          }
        },
        "4ca9e1f456bd42b481897d8c07b4a9c8": {
          "model_module": "@jupyter-widgets/controls",
          "model_name": "DescriptionStyleModel",
          "model_module_version": "1.5.0",
          "state": {
            "_model_module": "@jupyter-widgets/controls",
            "_model_module_version": "1.5.0",
            "_model_name": "DescriptionStyleModel",
            "_view_count": null,
            "_view_module": "@jupyter-widgets/base",
            "_view_module_version": "1.2.0",
            "_view_name": "StyleView",
            "description_width": ""
          }
        },
        "2448356996e44910a753c73165441ab0": {
          "model_module": "@jupyter-widgets/base",
          "model_name": "LayoutModel",
          "model_module_version": "1.2.0",
          "state": {
            "_model_module": "@jupyter-widgets/base",
            "_model_module_version": "1.2.0",
            "_model_name": "LayoutModel",
            "_view_count": null,
            "_view_module": "@jupyter-widgets/base",
            "_view_module_version": "1.2.0",
            "_view_name": "LayoutView",
            "align_content": null,
            "align_items": null,
            "align_self": null,
            "border": null,
            "bottom": null,
            "display": null,
            "flex": null,
            "flex_flow": null,
            "grid_area": null,
            "grid_auto_columns": null,
            "grid_auto_flow": null,
            "grid_auto_rows": null,
            "grid_column": null,
            "grid_gap": null,
            "grid_row": null,
            "grid_template_areas": null,
            "grid_template_columns": null,
            "grid_template_rows": null,
            "height": null,
            "justify_content": null,
            "justify_items": null,
            "left": null,
            "margin": null,
            "max_height": null,
            "max_width": null,
            "min_height": null,
            "min_width": null,
            "object_fit": null,
            "object_position": null,
            "order": null,
            "overflow": null,
            "overflow_x": null,
            "overflow_y": null,
            "padding": null,
            "right": null,
            "top": null,
            "visibility": null,
            "width": null
          }
        },
        "fdc9b2949236443baeeeea3cfcc537de": {
          "model_module": "@jupyter-widgets/controls",
          "model_name": "ProgressStyleModel",
          "model_module_version": "1.5.0",
          "state": {
            "_model_module": "@jupyter-widgets/controls",
            "_model_module_version": "1.5.0",
            "_model_name": "ProgressStyleModel",
            "_view_count": null,
            "_view_module": "@jupyter-widgets/base",
            "_view_module_version": "1.2.0",
            "_view_name": "StyleView",
            "bar_color": null,
            "description_width": ""
          }
        },
        "6137638d18664d1794fdd8db33a963aa": {
          "model_module": "@jupyter-widgets/base",
          "model_name": "LayoutModel",
          "model_module_version": "1.2.0",
          "state": {
            "_model_module": "@jupyter-widgets/base",
            "_model_module_version": "1.2.0",
            "_model_name": "LayoutModel",
            "_view_count": null,
            "_view_module": "@jupyter-widgets/base",
            "_view_module_version": "1.2.0",
            "_view_name": "LayoutView",
            "align_content": null,
            "align_items": null,
            "align_self": null,
            "border": null,
            "bottom": null,
            "display": null,
            "flex": null,
            "flex_flow": null,
            "grid_area": null,
            "grid_auto_columns": null,
            "grid_auto_flow": null,
            "grid_auto_rows": null,
            "grid_column": null,
            "grid_gap": null,
            "grid_row": null,
            "grid_template_areas": null,
            "grid_template_columns": null,
            "grid_template_rows": null,
            "height": null,
            "justify_content": null,
            "justify_items": null,
            "left": null,
            "margin": null,
            "max_height": null,
            "max_width": null,
            "min_height": null,
            "min_width": null,
            "object_fit": null,
            "object_position": null,
            "order": null,
            "overflow": null,
            "overflow_x": null,
            "overflow_y": null,
            "padding": null,
            "right": null,
            "top": null,
            "visibility": null,
            "width": null
          }
        },
        "cc4ee8c92aa940d79e55995ba1bdd325": {
          "model_module": "@jupyter-widgets/controls",
          "model_name": "DescriptionStyleModel",
          "model_module_version": "1.5.0",
          "state": {
            "_model_module": "@jupyter-widgets/controls",
            "_model_module_version": "1.5.0",
            "_model_name": "DescriptionStyleModel",
            "_view_count": null,
            "_view_module": "@jupyter-widgets/base",
            "_view_module_version": "1.2.0",
            "_view_name": "StyleView",
            "description_width": ""
          }
        },
        "8b57e45e318940c4883c9f18b6e2e8eb": {
          "model_module": "@jupyter-widgets/controls",
          "model_name": "HBoxModel",
          "model_module_version": "1.5.0",
          "state": {
            "_dom_classes": [],
            "_model_module": "@jupyter-widgets/controls",
            "_model_module_version": "1.5.0",
            "_model_name": "HBoxModel",
            "_view_count": null,
            "_view_module": "@jupyter-widgets/controls",
            "_view_module_version": "1.5.0",
            "_view_name": "HBoxView",
            "box_style": "",
            "children": [
              "IPY_MODEL_25410fba819d4cef9fffda0e8fc2431a",
              "IPY_MODEL_91422b2e5a8b450d8e63dd50bddb0ebc",
              "IPY_MODEL_f97b6809a5664a2c8b6653d5551c5f6b"
            ],
            "layout": "IPY_MODEL_47cda276467b4dac83fce67a7ee60ebc"
          }
        },
        "25410fba819d4cef9fffda0e8fc2431a": {
          "model_module": "@jupyter-widgets/controls",
          "model_name": "HTMLModel",
          "model_module_version": "1.5.0",
          "state": {
            "_dom_classes": [],
            "_model_module": "@jupyter-widgets/controls",
            "_model_module_version": "1.5.0",
            "_model_name": "HTMLModel",
            "_view_count": null,
            "_view_module": "@jupyter-widgets/controls",
            "_view_module_version": "1.5.0",
            "_view_name": "HTMLView",
            "description": "",
            "description_tooltip": null,
            "layout": "IPY_MODEL_1bc8bcfbf2e5492a9aebf2c803df657e",
            "placeholder": "​",
            "style": "IPY_MODEL_878dbd405a0c46f4a141d16693279147",
            "value": "Downloading (…)26f/data_config.json: 100%"
          }
        },
        "91422b2e5a8b450d8e63dd50bddb0ebc": {
          "model_module": "@jupyter-widgets/controls",
          "model_name": "FloatProgressModel",
          "model_module_version": "1.5.0",
          "state": {
            "_dom_classes": [],
            "_model_module": "@jupyter-widgets/controls",
            "_model_module_version": "1.5.0",
            "_model_name": "FloatProgressModel",
            "_view_count": null,
            "_view_module": "@jupyter-widgets/controls",
            "_view_module_version": "1.5.0",
            "_view_name": "ProgressView",
            "bar_style": "success",
            "description": "",
            "description_tooltip": null,
            "layout": "IPY_MODEL_6b9bdfdd119c41dd9699d0354d6b6062",
            "max": 15679,
            "min": 0,
            "orientation": "horizontal",
            "style": "IPY_MODEL_f511b61754854a459694fef005c44588",
            "value": 15679
          }
        },
        "f97b6809a5664a2c8b6653d5551c5f6b": {
          "model_module": "@jupyter-widgets/controls",
          "model_name": "HTMLModel",
          "model_module_version": "1.5.0",
          "state": {
            "_dom_classes": [],
            "_model_module": "@jupyter-widgets/controls",
            "_model_module_version": "1.5.0",
            "_model_name": "HTMLModel",
            "_view_count": null,
            "_view_module": "@jupyter-widgets/controls",
            "_view_module_version": "1.5.0",
            "_view_name": "HTMLView",
            "description": "",
            "description_tooltip": null,
            "layout": "IPY_MODEL_fdaeca1de8c04ff68c584762ea4c4afe",
            "placeholder": "​",
            "style": "IPY_MODEL_753048434b6646f498d6beabfe8e1ea6",
            "value": " 15.7k/15.7k [00:00&lt;00:00, 622kB/s]"
          }
        },
        "47cda276467b4dac83fce67a7ee60ebc": {
          "model_module": "@jupyter-widgets/base",
          "model_name": "LayoutModel",
          "model_module_version": "1.2.0",
          "state": {
            "_model_module": "@jupyter-widgets/base",
            "_model_module_version": "1.2.0",
            "_model_name": "LayoutModel",
            "_view_count": null,
            "_view_module": "@jupyter-widgets/base",
            "_view_module_version": "1.2.0",
            "_view_name": "LayoutView",
            "align_content": null,
            "align_items": null,
            "align_self": null,
            "border": null,
            "bottom": null,
            "display": null,
            "flex": null,
            "flex_flow": null,
            "grid_area": null,
            "grid_auto_columns": null,
            "grid_auto_flow": null,
            "grid_auto_rows": null,
            "grid_column": null,
            "grid_gap": null,
            "grid_row": null,
            "grid_template_areas": null,
            "grid_template_columns": null,
            "grid_template_rows": null,
            "height": null,
            "justify_content": null,
            "justify_items": null,
            "left": null,
            "margin": null,
            "max_height": null,
            "max_width": null,
            "min_height": null,
            "min_width": null,
            "object_fit": null,
            "object_position": null,
            "order": null,
            "overflow": null,
            "overflow_x": null,
            "overflow_y": null,
            "padding": null,
            "right": null,
            "top": null,
            "visibility": null,
            "width": null
          }
        },
        "1bc8bcfbf2e5492a9aebf2c803df657e": {
          "model_module": "@jupyter-widgets/base",
          "model_name": "LayoutModel",
          "model_module_version": "1.2.0",
          "state": {
            "_model_module": "@jupyter-widgets/base",
            "_model_module_version": "1.2.0",
            "_model_name": "LayoutModel",
            "_view_count": null,
            "_view_module": "@jupyter-widgets/base",
            "_view_module_version": "1.2.0",
            "_view_name": "LayoutView",
            "align_content": null,
            "align_items": null,
            "align_self": null,
            "border": null,
            "bottom": null,
            "display": null,
            "flex": null,
            "flex_flow": null,
            "grid_area": null,
            "grid_auto_columns": null,
            "grid_auto_flow": null,
            "grid_auto_rows": null,
            "grid_column": null,
            "grid_gap": null,
            "grid_row": null,
            "grid_template_areas": null,
            "grid_template_columns": null,
            "grid_template_rows": null,
            "height": null,
            "justify_content": null,
            "justify_items": null,
            "left": null,
            "margin": null,
            "max_height": null,
            "max_width": null,
            "min_height": null,
            "min_width": null,
            "object_fit": null,
            "object_position": null,
            "order": null,
            "overflow": null,
            "overflow_x": null,
            "overflow_y": null,
            "padding": null,
            "right": null,
            "top": null,
            "visibility": null,
            "width": null
          }
        },
        "878dbd405a0c46f4a141d16693279147": {
          "model_module": "@jupyter-widgets/controls",
          "model_name": "DescriptionStyleModel",
          "model_module_version": "1.5.0",
          "state": {
            "_model_module": "@jupyter-widgets/controls",
            "_model_module_version": "1.5.0",
            "_model_name": "DescriptionStyleModel",
            "_view_count": null,
            "_view_module": "@jupyter-widgets/base",
            "_view_module_version": "1.2.0",
            "_view_name": "StyleView",
            "description_width": ""
          }
        },
        "6b9bdfdd119c41dd9699d0354d6b6062": {
          "model_module": "@jupyter-widgets/base",
          "model_name": "LayoutModel",
          "model_module_version": "1.2.0",
          "state": {
            "_model_module": "@jupyter-widgets/base",
            "_model_module_version": "1.2.0",
            "_model_name": "LayoutModel",
            "_view_count": null,
            "_view_module": "@jupyter-widgets/base",
            "_view_module_version": "1.2.0",
            "_view_name": "LayoutView",
            "align_content": null,
            "align_items": null,
            "align_self": null,
            "border": null,
            "bottom": null,
            "display": null,
            "flex": null,
            "flex_flow": null,
            "grid_area": null,
            "grid_auto_columns": null,
            "grid_auto_flow": null,
            "grid_auto_rows": null,
            "grid_column": null,
            "grid_gap": null,
            "grid_row": null,
            "grid_template_areas": null,
            "grid_template_columns": null,
            "grid_template_rows": null,
            "height": null,
            "justify_content": null,
            "justify_items": null,
            "left": null,
            "margin": null,
            "max_height": null,
            "max_width": null,
            "min_height": null,
            "min_width": null,
            "object_fit": null,
            "object_position": null,
            "order": null,
            "overflow": null,
            "overflow_x": null,
            "overflow_y": null,
            "padding": null,
            "right": null,
            "top": null,
            "visibility": null,
            "width": null
          }
        },
        "f511b61754854a459694fef005c44588": {
          "model_module": "@jupyter-widgets/controls",
          "model_name": "ProgressStyleModel",
          "model_module_version": "1.5.0",
          "state": {
            "_model_module": "@jupyter-widgets/controls",
            "_model_module_version": "1.5.0",
            "_model_name": "ProgressStyleModel",
            "_view_count": null,
            "_view_module": "@jupyter-widgets/base",
            "_view_module_version": "1.2.0",
            "_view_name": "StyleView",
            "bar_color": null,
            "description_width": ""
          }
        },
        "fdaeca1de8c04ff68c584762ea4c4afe": {
          "model_module": "@jupyter-widgets/base",
          "model_name": "LayoutModel",
          "model_module_version": "1.2.0",
          "state": {
            "_model_module": "@jupyter-widgets/base",
            "_model_module_version": "1.2.0",
            "_model_name": "LayoutModel",
            "_view_count": null,
            "_view_module": "@jupyter-widgets/base",
            "_view_module_version": "1.2.0",
            "_view_name": "LayoutView",
            "align_content": null,
            "align_items": null,
            "align_self": null,
            "border": null,
            "bottom": null,
            "display": null,
            "flex": null,
            "flex_flow": null,
            "grid_area": null,
            "grid_auto_columns": null,
            "grid_auto_flow": null,
            "grid_auto_rows": null,
            "grid_column": null,
            "grid_gap": null,
            "grid_row": null,
            "grid_template_areas": null,
            "grid_template_columns": null,
            "grid_template_rows": null,
            "height": null,
            "justify_content": null,
            "justify_items": null,
            "left": null,
            "margin": null,
            "max_height": null,
            "max_width": null,
            "min_height": null,
            "min_width": null,
            "object_fit": null,
            "object_position": null,
            "order": null,
            "overflow": null,
            "overflow_x": null,
            "overflow_y": null,
            "padding": null,
            "right": null,
            "top": null,
            "visibility": null,
            "width": null
          }
        },
        "753048434b6646f498d6beabfe8e1ea6": {
          "model_module": "@jupyter-widgets/controls",
          "model_name": "DescriptionStyleModel",
          "model_module_version": "1.5.0",
          "state": {
            "_model_module": "@jupyter-widgets/controls",
            "_model_module_version": "1.5.0",
            "_model_name": "DescriptionStyleModel",
            "_view_count": null,
            "_view_module": "@jupyter-widgets/base",
            "_view_module_version": "1.2.0",
            "_view_name": "StyleView",
            "description_width": ""
          }
        },
        "3c58d108962547b5815fdd398fb472a0": {
          "model_module": "@jupyter-widgets/controls",
          "model_name": "HBoxModel",
          "model_module_version": "1.5.0",
          "state": {
            "_dom_classes": [],
            "_model_module": "@jupyter-widgets/controls",
            "_model_module_version": "1.5.0",
            "_model_name": "HBoxModel",
            "_view_count": null,
            "_view_module": "@jupyter-widgets/controls",
            "_view_module_version": "1.5.0",
            "_view_name": "HBoxView",
            "box_style": "",
            "children": [
              "IPY_MODEL_d74d6facfc754577b471b97f87d535c0",
              "IPY_MODEL_d66b81d58bf244b3b89f28d1876be789",
              "IPY_MODEL_8e1b97d0a42543869c0853ac0b921252"
            ],
            "layout": "IPY_MODEL_58307fa00bfb4d70be29a4ef892140d4"
          }
        },
        "d74d6facfc754577b471b97f87d535c0": {
          "model_module": "@jupyter-widgets/controls",
          "model_name": "HTMLModel",
          "model_module_version": "1.5.0",
          "state": {
            "_dom_classes": [],
            "_model_module": "@jupyter-widgets/controls",
            "_model_module_version": "1.5.0",
            "_model_name": "HTMLModel",
            "_view_count": null,
            "_view_module": "@jupyter-widgets/controls",
            "_view_module_version": "1.5.0",
            "_view_name": "HTMLView",
            "description": "",
            "description_tooltip": null,
            "layout": "IPY_MODEL_b15040ec3a204c2ca18dc032d0e4551b",
            "placeholder": "​",
            "style": "IPY_MODEL_dac314d3bea2478ab45346d2ce3207eb",
            "value": "Downloading pytorch_model.bin: 100%"
          }
        },
        "d66b81d58bf244b3b89f28d1876be789": {
          "model_module": "@jupyter-widgets/controls",
          "model_name": "FloatProgressModel",
          "model_module_version": "1.5.0",
          "state": {
            "_dom_classes": [],
            "_model_module": "@jupyter-widgets/controls",
            "_model_module_version": "1.5.0",
            "_model_name": "FloatProgressModel",
            "_view_count": null,
            "_view_module": "@jupyter-widgets/controls",
            "_view_module_version": "1.5.0",
            "_view_name": "ProgressView",
            "bar_style": "success",
            "description": "",
            "description_tooltip": null,
            "layout": "IPY_MODEL_07ecca2fa1b440ac87f04444d5eb653a",
            "max": 133506609,
            "min": 0,
            "orientation": "horizontal",
            "style": "IPY_MODEL_4a3693fe06d04a269b3c3021ae733b71",
            "value": 133506609
          }
        },
        "8e1b97d0a42543869c0853ac0b921252": {
          "model_module": "@jupyter-widgets/controls",
          "model_name": "HTMLModel",
          "model_module_version": "1.5.0",
          "state": {
            "_dom_classes": [],
            "_model_module": "@jupyter-widgets/controls",
            "_model_module_version": "1.5.0",
            "_model_name": "HTMLModel",
            "_view_count": null,
            "_view_module": "@jupyter-widgets/controls",
            "_view_module_version": "1.5.0",
            "_view_name": "HTMLView",
            "description": "",
            "description_tooltip": null,
            "layout": "IPY_MODEL_9150e43e5b9d49b59908e94ce6e9d177",
            "placeholder": "​",
            "style": "IPY_MODEL_3bc6de0d754248b698867bd5af904aaf",
            "value": " 134M/134M [00:00&lt;00:00, 173MB/s]"
          }
        },
        "58307fa00bfb4d70be29a4ef892140d4": {
          "model_module": "@jupyter-widgets/base",
          "model_name": "LayoutModel",
          "model_module_version": "1.2.0",
          "state": {
            "_model_module": "@jupyter-widgets/base",
            "_model_module_version": "1.2.0",
            "_model_name": "LayoutModel",
            "_view_count": null,
            "_view_module": "@jupyter-widgets/base",
            "_view_module_version": "1.2.0",
            "_view_name": "LayoutView",
            "align_content": null,
            "align_items": null,
            "align_self": null,
            "border": null,
            "bottom": null,
            "display": null,
            "flex": null,
            "flex_flow": null,
            "grid_area": null,
            "grid_auto_columns": null,
            "grid_auto_flow": null,
            "grid_auto_rows": null,
            "grid_column": null,
            "grid_gap": null,
            "grid_row": null,
            "grid_template_areas": null,
            "grid_template_columns": null,
            "grid_template_rows": null,
            "height": null,
            "justify_content": null,
            "justify_items": null,
            "left": null,
            "margin": null,
            "max_height": null,
            "max_width": null,
            "min_height": null,
            "min_width": null,
            "object_fit": null,
            "object_position": null,
            "order": null,
            "overflow": null,
            "overflow_x": null,
            "overflow_y": null,
            "padding": null,
            "right": null,
            "top": null,
            "visibility": null,
            "width": null
          }
        },
        "b15040ec3a204c2ca18dc032d0e4551b": {
          "model_module": "@jupyter-widgets/base",
          "model_name": "LayoutModel",
          "model_module_version": "1.2.0",
          "state": {
            "_model_module": "@jupyter-widgets/base",
            "_model_module_version": "1.2.0",
            "_model_name": "LayoutModel",
            "_view_count": null,
            "_view_module": "@jupyter-widgets/base",
            "_view_module_version": "1.2.0",
            "_view_name": "LayoutView",
            "align_content": null,
            "align_items": null,
            "align_self": null,
            "border": null,
            "bottom": null,
            "display": null,
            "flex": null,
            "flex_flow": null,
            "grid_area": null,
            "grid_auto_columns": null,
            "grid_auto_flow": null,
            "grid_auto_rows": null,
            "grid_column": null,
            "grid_gap": null,
            "grid_row": null,
            "grid_template_areas": null,
            "grid_template_columns": null,
            "grid_template_rows": null,
            "height": null,
            "justify_content": null,
            "justify_items": null,
            "left": null,
            "margin": null,
            "max_height": null,
            "max_width": null,
            "min_height": null,
            "min_width": null,
            "object_fit": null,
            "object_position": null,
            "order": null,
            "overflow": null,
            "overflow_x": null,
            "overflow_y": null,
            "padding": null,
            "right": null,
            "top": null,
            "visibility": null,
            "width": null
          }
        },
        "dac314d3bea2478ab45346d2ce3207eb": {
          "model_module": "@jupyter-widgets/controls",
          "model_name": "DescriptionStyleModel",
          "model_module_version": "1.5.0",
          "state": {
            "_model_module": "@jupyter-widgets/controls",
            "_model_module_version": "1.5.0",
            "_model_name": "DescriptionStyleModel",
            "_view_count": null,
            "_view_module": "@jupyter-widgets/base",
            "_view_module_version": "1.2.0",
            "_view_name": "StyleView",
            "description_width": ""
          }
        },
        "07ecca2fa1b440ac87f04444d5eb653a": {
          "model_module": "@jupyter-widgets/base",
          "model_name": "LayoutModel",
          "model_module_version": "1.2.0",
          "state": {
            "_model_module": "@jupyter-widgets/base",
            "_model_module_version": "1.2.0",
            "_model_name": "LayoutModel",
            "_view_count": null,
            "_view_module": "@jupyter-widgets/base",
            "_view_module_version": "1.2.0",
            "_view_name": "LayoutView",
            "align_content": null,
            "align_items": null,
            "align_self": null,
            "border": null,
            "bottom": null,
            "display": null,
            "flex": null,
            "flex_flow": null,
            "grid_area": null,
            "grid_auto_columns": null,
            "grid_auto_flow": null,
            "grid_auto_rows": null,
            "grid_column": null,
            "grid_gap": null,
            "grid_row": null,
            "grid_template_areas": null,
            "grid_template_columns": null,
            "grid_template_rows": null,
            "height": null,
            "justify_content": null,
            "justify_items": null,
            "left": null,
            "margin": null,
            "max_height": null,
            "max_width": null,
            "min_height": null,
            "min_width": null,
            "object_fit": null,
            "object_position": null,
            "order": null,
            "overflow": null,
            "overflow_x": null,
            "overflow_y": null,
            "padding": null,
            "right": null,
            "top": null,
            "visibility": null,
            "width": null
          }
        },
        "4a3693fe06d04a269b3c3021ae733b71": {
          "model_module": "@jupyter-widgets/controls",
          "model_name": "ProgressStyleModel",
          "model_module_version": "1.5.0",
          "state": {
            "_model_module": "@jupyter-widgets/controls",
            "_model_module_version": "1.5.0",
            "_model_name": "ProgressStyleModel",
            "_view_count": null,
            "_view_module": "@jupyter-widgets/base",
            "_view_module_version": "1.2.0",
            "_view_name": "StyleView",
            "bar_color": null,
            "description_width": ""
          }
        },
        "9150e43e5b9d49b59908e94ce6e9d177": {
          "model_module": "@jupyter-widgets/base",
          "model_name": "LayoutModel",
          "model_module_version": "1.2.0",
          "state": {
            "_model_module": "@jupyter-widgets/base",
            "_model_module_version": "1.2.0",
            "_model_name": "LayoutModel",
            "_view_count": null,
            "_view_module": "@jupyter-widgets/base",
            "_view_module_version": "1.2.0",
            "_view_name": "LayoutView",
            "align_content": null,
            "align_items": null,
            "align_self": null,
            "border": null,
            "bottom": null,
            "display": null,
            "flex": null,
            "flex_flow": null,
            "grid_area": null,
            "grid_auto_columns": null,
            "grid_auto_flow": null,
            "grid_auto_rows": null,
            "grid_column": null,
            "grid_gap": null,
            "grid_row": null,
            "grid_template_areas": null,
            "grid_template_columns": null,
            "grid_template_rows": null,
            "height": null,
            "justify_content": null,
            "justify_items": null,
            "left": null,
            "margin": null,
            "max_height": null,
            "max_width": null,
            "min_height": null,
            "min_width": null,
            "object_fit": null,
            "object_position": null,
            "order": null,
            "overflow": null,
            "overflow_x": null,
            "overflow_y": null,
            "padding": null,
            "right": null,
            "top": null,
            "visibility": null,
            "width": null
          }
        },
        "3bc6de0d754248b698867bd5af904aaf": {
          "model_module": "@jupyter-widgets/controls",
          "model_name": "DescriptionStyleModel",
          "model_module_version": "1.5.0",
          "state": {
            "_model_module": "@jupyter-widgets/controls",
            "_model_module_version": "1.5.0",
            "_model_name": "DescriptionStyleModel",
            "_view_count": null,
            "_view_module": "@jupyter-widgets/base",
            "_view_module_version": "1.2.0",
            "_view_name": "StyleView",
            "description_width": ""
          }
        },
        "cadfc272fb5f40d7825dfa7b7eb979bf": {
          "model_module": "@jupyter-widgets/controls",
          "model_name": "HBoxModel",
          "model_module_version": "1.5.0",
          "state": {
            "_dom_classes": [],
            "_model_module": "@jupyter-widgets/controls",
            "_model_module_version": "1.5.0",
            "_model_name": "HBoxModel",
            "_view_count": null,
            "_view_module": "@jupyter-widgets/controls",
            "_view_module_version": "1.5.0",
            "_view_name": "HBoxView",
            "box_style": "",
            "children": [
              "IPY_MODEL_fa1b104bdf51412791a40a160666b067",
              "IPY_MODEL_6f302896eca941a096900bb490e1220c",
              "IPY_MODEL_30f78023475b42f6b5ff7d580abc1a06"
            ],
            "layout": "IPY_MODEL_16a999a7cbf94b61889fd78ec1b08f35"
          }
        },
        "fa1b104bdf51412791a40a160666b067": {
          "model_module": "@jupyter-widgets/controls",
          "model_name": "HTMLModel",
          "model_module_version": "1.5.0",
          "state": {
            "_dom_classes": [],
            "_model_module": "@jupyter-widgets/controls",
            "_model_module_version": "1.5.0",
            "_model_name": "HTMLModel",
            "_view_count": null,
            "_view_module": "@jupyter-widgets/controls",
            "_view_module_version": "1.5.0",
            "_view_name": "HTMLView",
            "description": "",
            "description_tooltip": null,
            "layout": "IPY_MODEL_1b138f6b37184684a1fddc7aa7f8cd14",
            "placeholder": "​",
            "style": "IPY_MODEL_0f2debf201ee477b9459d3bea99792ef",
            "value": "Downloading (…)nce_bert_config.json: 100%"
          }
        },
        "6f302896eca941a096900bb490e1220c": {
          "model_module": "@jupyter-widgets/controls",
          "model_name": "FloatProgressModel",
          "model_module_version": "1.5.0",
          "state": {
            "_dom_classes": [],
            "_model_module": "@jupyter-widgets/controls",
            "_model_module_version": "1.5.0",
            "_model_name": "FloatProgressModel",
            "_view_count": null,
            "_view_module": "@jupyter-widgets/controls",
            "_view_module_version": "1.5.0",
            "_view_name": "ProgressView",
            "bar_style": "success",
            "description": "",
            "description_tooltip": null,
            "layout": "IPY_MODEL_c31d7e3c80364b85a7041e436438873f",
            "max": 53,
            "min": 0,
            "orientation": "horizontal",
            "style": "IPY_MODEL_3314ab860c364d3d8454a03a8d1335d2",
            "value": 53
          }
        },
        "30f78023475b42f6b5ff7d580abc1a06": {
          "model_module": "@jupyter-widgets/controls",
          "model_name": "HTMLModel",
          "model_module_version": "1.5.0",
          "state": {
            "_dom_classes": [],
            "_model_module": "@jupyter-widgets/controls",
            "_model_module_version": "1.5.0",
            "_model_name": "HTMLModel",
            "_view_count": null,
            "_view_module": "@jupyter-widgets/controls",
            "_view_module_version": "1.5.0",
            "_view_name": "HTMLView",
            "description": "",
            "description_tooltip": null,
            "layout": "IPY_MODEL_dd56dbfaf0c843eaa68ff9759e70179f",
            "placeholder": "​",
            "style": "IPY_MODEL_25c3be35a4384a3686f115089ac91fd2",
            "value": " 53.0/53.0 [00:00&lt;00:00, 2.34kB/s]"
          }
        },
        "16a999a7cbf94b61889fd78ec1b08f35": {
          "model_module": "@jupyter-widgets/base",
          "model_name": "LayoutModel",
          "model_module_version": "1.2.0",
          "state": {
            "_model_module": "@jupyter-widgets/base",
            "_model_module_version": "1.2.0",
            "_model_name": "LayoutModel",
            "_view_count": null,
            "_view_module": "@jupyter-widgets/base",
            "_view_module_version": "1.2.0",
            "_view_name": "LayoutView",
            "align_content": null,
            "align_items": null,
            "align_self": null,
            "border": null,
            "bottom": null,
            "display": null,
            "flex": null,
            "flex_flow": null,
            "grid_area": null,
            "grid_auto_columns": null,
            "grid_auto_flow": null,
            "grid_auto_rows": null,
            "grid_column": null,
            "grid_gap": null,
            "grid_row": null,
            "grid_template_areas": null,
            "grid_template_columns": null,
            "grid_template_rows": null,
            "height": null,
            "justify_content": null,
            "justify_items": null,
            "left": null,
            "margin": null,
            "max_height": null,
            "max_width": null,
            "min_height": null,
            "min_width": null,
            "object_fit": null,
            "object_position": null,
            "order": null,
            "overflow": null,
            "overflow_x": null,
            "overflow_y": null,
            "padding": null,
            "right": null,
            "top": null,
            "visibility": null,
            "width": null
          }
        },
        "1b138f6b37184684a1fddc7aa7f8cd14": {
          "model_module": "@jupyter-widgets/base",
          "model_name": "LayoutModel",
          "model_module_version": "1.2.0",
          "state": {
            "_model_module": "@jupyter-widgets/base",
            "_model_module_version": "1.2.0",
            "_model_name": "LayoutModel",
            "_view_count": null,
            "_view_module": "@jupyter-widgets/base",
            "_view_module_version": "1.2.0",
            "_view_name": "LayoutView",
            "align_content": null,
            "align_items": null,
            "align_self": null,
            "border": null,
            "bottom": null,
            "display": null,
            "flex": null,
            "flex_flow": null,
            "grid_area": null,
            "grid_auto_columns": null,
            "grid_auto_flow": null,
            "grid_auto_rows": null,
            "grid_column": null,
            "grid_gap": null,
            "grid_row": null,
            "grid_template_areas": null,
            "grid_template_columns": null,
            "grid_template_rows": null,
            "height": null,
            "justify_content": null,
            "justify_items": null,
            "left": null,
            "margin": null,
            "max_height": null,
            "max_width": null,
            "min_height": null,
            "min_width": null,
            "object_fit": null,
            "object_position": null,
            "order": null,
            "overflow": null,
            "overflow_x": null,
            "overflow_y": null,
            "padding": null,
            "right": null,
            "top": null,
            "visibility": null,
            "width": null
          }
        },
        "0f2debf201ee477b9459d3bea99792ef": {
          "model_module": "@jupyter-widgets/controls",
          "model_name": "DescriptionStyleModel",
          "model_module_version": "1.5.0",
          "state": {
            "_model_module": "@jupyter-widgets/controls",
            "_model_module_version": "1.5.0",
            "_model_name": "DescriptionStyleModel",
            "_view_count": null,
            "_view_module": "@jupyter-widgets/base",
            "_view_module_version": "1.2.0",
            "_view_name": "StyleView",
            "description_width": ""
          }
        },
        "c31d7e3c80364b85a7041e436438873f": {
          "model_module": "@jupyter-widgets/base",
          "model_name": "LayoutModel",
          "model_module_version": "1.2.0",
          "state": {
            "_model_module": "@jupyter-widgets/base",
            "_model_module_version": "1.2.0",
            "_model_name": "LayoutModel",
            "_view_count": null,
            "_view_module": "@jupyter-widgets/base",
            "_view_module_version": "1.2.0",
            "_view_name": "LayoutView",
            "align_content": null,
            "align_items": null,
            "align_self": null,
            "border": null,
            "bottom": null,
            "display": null,
            "flex": null,
            "flex_flow": null,
            "grid_area": null,
            "grid_auto_columns": null,
            "grid_auto_flow": null,
            "grid_auto_rows": null,
            "grid_column": null,
            "grid_gap": null,
            "grid_row": null,
            "grid_template_areas": null,
            "grid_template_columns": null,
            "grid_template_rows": null,
            "height": null,
            "justify_content": null,
            "justify_items": null,
            "left": null,
            "margin": null,
            "max_height": null,
            "max_width": null,
            "min_height": null,
            "min_width": null,
            "object_fit": null,
            "object_position": null,
            "order": null,
            "overflow": null,
            "overflow_x": null,
            "overflow_y": null,
            "padding": null,
            "right": null,
            "top": null,
            "visibility": null,
            "width": null
          }
        },
        "3314ab860c364d3d8454a03a8d1335d2": {
          "model_module": "@jupyter-widgets/controls",
          "model_name": "ProgressStyleModel",
          "model_module_version": "1.5.0",
          "state": {
            "_model_module": "@jupyter-widgets/controls",
            "_model_module_version": "1.5.0",
            "_model_name": "ProgressStyleModel",
            "_view_count": null,
            "_view_module": "@jupyter-widgets/base",
            "_view_module_version": "1.2.0",
            "_view_name": "StyleView",
            "bar_color": null,
            "description_width": ""
          }
        },
        "dd56dbfaf0c843eaa68ff9759e70179f": {
          "model_module": "@jupyter-widgets/base",
          "model_name": "LayoutModel",
          "model_module_version": "1.2.0",
          "state": {
            "_model_module": "@jupyter-widgets/base",
            "_model_module_version": "1.2.0",
            "_model_name": "LayoutModel",
            "_view_count": null,
            "_view_module": "@jupyter-widgets/base",
            "_view_module_version": "1.2.0",
            "_view_name": "LayoutView",
            "align_content": null,
            "align_items": null,
            "align_self": null,
            "border": null,
            "bottom": null,
            "display": null,
            "flex": null,
            "flex_flow": null,
            "grid_area": null,
            "grid_auto_columns": null,
            "grid_auto_flow": null,
            "grid_auto_rows": null,
            "grid_column": null,
            "grid_gap": null,
            "grid_row": null,
            "grid_template_areas": null,
            "grid_template_columns": null,
            "grid_template_rows": null,
            "height": null,
            "justify_content": null,
            "justify_items": null,
            "left": null,
            "margin": null,
            "max_height": null,
            "max_width": null,
            "min_height": null,
            "min_width": null,
            "object_fit": null,
            "object_position": null,
            "order": null,
            "overflow": null,
            "overflow_x": null,
            "overflow_y": null,
            "padding": null,
            "right": null,
            "top": null,
            "visibility": null,
            "width": null
          }
        },
        "25c3be35a4384a3686f115089ac91fd2": {
          "model_module": "@jupyter-widgets/controls",
          "model_name": "DescriptionStyleModel",
          "model_module_version": "1.5.0",
          "state": {
            "_model_module": "@jupyter-widgets/controls",
            "_model_module_version": "1.5.0",
            "_model_name": "DescriptionStyleModel",
            "_view_count": null,
            "_view_module": "@jupyter-widgets/base",
            "_view_module_version": "1.2.0",
            "_view_name": "StyleView",
            "description_width": ""
          }
        },
        "3aa322699b5f4bbe86df55377fbce300": {
          "model_module": "@jupyter-widgets/controls",
          "model_name": "HBoxModel",
          "model_module_version": "1.5.0",
          "state": {
            "_dom_classes": [],
            "_model_module": "@jupyter-widgets/controls",
            "_model_module_version": "1.5.0",
            "_model_name": "HBoxModel",
            "_view_count": null,
            "_view_module": "@jupyter-widgets/controls",
            "_view_module_version": "1.5.0",
            "_view_name": "HBoxView",
            "box_style": "",
            "children": [
              "IPY_MODEL_dc94cba783604fb783938a74720d5977",
              "IPY_MODEL_be552790e22f4fc686f0e572d26cd561",
              "IPY_MODEL_3ce5e4a2862e49f2867842186834caac"
            ],
            "layout": "IPY_MODEL_9996f9a1c96844a8b2720cb0d0ce95eb"
          }
        },
        "dc94cba783604fb783938a74720d5977": {
          "model_module": "@jupyter-widgets/controls",
          "model_name": "HTMLModel",
          "model_module_version": "1.5.0",
          "state": {
            "_dom_classes": [],
            "_model_module": "@jupyter-widgets/controls",
            "_model_module_version": "1.5.0",
            "_model_name": "HTMLModel",
            "_view_count": null,
            "_view_module": "@jupyter-widgets/controls",
            "_view_module_version": "1.5.0",
            "_view_name": "HTMLView",
            "description": "",
            "description_tooltip": null,
            "layout": "IPY_MODEL_80fdcef4bb5d47e49fc2d277114cd8d9",
            "placeholder": "​",
            "style": "IPY_MODEL_2e7393531d3b4c51b9350780b9b33053",
            "value": "Downloading (…)cial_tokens_map.json: 100%"
          }
        },
        "be552790e22f4fc686f0e572d26cd561": {
          "model_module": "@jupyter-widgets/controls",
          "model_name": "FloatProgressModel",
          "model_module_version": "1.5.0",
          "state": {
            "_dom_classes": [],
            "_model_module": "@jupyter-widgets/controls",
            "_model_module_version": "1.5.0",
            "_model_name": "FloatProgressModel",
            "_view_count": null,
            "_view_module": "@jupyter-widgets/controls",
            "_view_module_version": "1.5.0",
            "_view_name": "ProgressView",
            "bar_style": "success",
            "description": "",
            "description_tooltip": null,
            "layout": "IPY_MODEL_061b2e871bb844509632c64888236f12",
            "max": 112,
            "min": 0,
            "orientation": "horizontal",
            "style": "IPY_MODEL_11b25e7d681846f8831c8e3ba4e5dab7",
            "value": 112
          }
        },
        "3ce5e4a2862e49f2867842186834caac": {
          "model_module": "@jupyter-widgets/controls",
          "model_name": "HTMLModel",
          "model_module_version": "1.5.0",
          "state": {
            "_dom_classes": [],
            "_model_module": "@jupyter-widgets/controls",
            "_model_module_version": "1.5.0",
            "_model_name": "HTMLModel",
            "_view_count": null,
            "_view_module": "@jupyter-widgets/controls",
            "_view_module_version": "1.5.0",
            "_view_name": "HTMLView",
            "description": "",
            "description_tooltip": null,
            "layout": "IPY_MODEL_82663a94d3554bf3ac1b88a94eeb6fdd",
            "placeholder": "​",
            "style": "IPY_MODEL_345b0b90edae47bfafcedbbf3d5e02b2",
            "value": " 112/112 [00:00&lt;00:00, 4.57kB/s]"
          }
        },
        "9996f9a1c96844a8b2720cb0d0ce95eb": {
          "model_module": "@jupyter-widgets/base",
          "model_name": "LayoutModel",
          "model_module_version": "1.2.0",
          "state": {
            "_model_module": "@jupyter-widgets/base",
            "_model_module_version": "1.2.0",
            "_model_name": "LayoutModel",
            "_view_count": null,
            "_view_module": "@jupyter-widgets/base",
            "_view_module_version": "1.2.0",
            "_view_name": "LayoutView",
            "align_content": null,
            "align_items": null,
            "align_self": null,
            "border": null,
            "bottom": null,
            "display": null,
            "flex": null,
            "flex_flow": null,
            "grid_area": null,
            "grid_auto_columns": null,
            "grid_auto_flow": null,
            "grid_auto_rows": null,
            "grid_column": null,
            "grid_gap": null,
            "grid_row": null,
            "grid_template_areas": null,
            "grid_template_columns": null,
            "grid_template_rows": null,
            "height": null,
            "justify_content": null,
            "justify_items": null,
            "left": null,
            "margin": null,
            "max_height": null,
            "max_width": null,
            "min_height": null,
            "min_width": null,
            "object_fit": null,
            "object_position": null,
            "order": null,
            "overflow": null,
            "overflow_x": null,
            "overflow_y": null,
            "padding": null,
            "right": null,
            "top": null,
            "visibility": null,
            "width": null
          }
        },
        "80fdcef4bb5d47e49fc2d277114cd8d9": {
          "model_module": "@jupyter-widgets/base",
          "model_name": "LayoutModel",
          "model_module_version": "1.2.0",
          "state": {
            "_model_module": "@jupyter-widgets/base",
            "_model_module_version": "1.2.0",
            "_model_name": "LayoutModel",
            "_view_count": null,
            "_view_module": "@jupyter-widgets/base",
            "_view_module_version": "1.2.0",
            "_view_name": "LayoutView",
            "align_content": null,
            "align_items": null,
            "align_self": null,
            "border": null,
            "bottom": null,
            "display": null,
            "flex": null,
            "flex_flow": null,
            "grid_area": null,
            "grid_auto_columns": null,
            "grid_auto_flow": null,
            "grid_auto_rows": null,
            "grid_column": null,
            "grid_gap": null,
            "grid_row": null,
            "grid_template_areas": null,
            "grid_template_columns": null,
            "grid_template_rows": null,
            "height": null,
            "justify_content": null,
            "justify_items": null,
            "left": null,
            "margin": null,
            "max_height": null,
            "max_width": null,
            "min_height": null,
            "min_width": null,
            "object_fit": null,
            "object_position": null,
            "order": null,
            "overflow": null,
            "overflow_x": null,
            "overflow_y": null,
            "padding": null,
            "right": null,
            "top": null,
            "visibility": null,
            "width": null
          }
        },
        "2e7393531d3b4c51b9350780b9b33053": {
          "model_module": "@jupyter-widgets/controls",
          "model_name": "DescriptionStyleModel",
          "model_module_version": "1.5.0",
          "state": {
            "_model_module": "@jupyter-widgets/controls",
            "_model_module_version": "1.5.0",
            "_model_name": "DescriptionStyleModel",
            "_view_count": null,
            "_view_module": "@jupyter-widgets/base",
            "_view_module_version": "1.2.0",
            "_view_name": "StyleView",
            "description_width": ""
          }
        },
        "061b2e871bb844509632c64888236f12": {
          "model_module": "@jupyter-widgets/base",
          "model_name": "LayoutModel",
          "model_module_version": "1.2.0",
          "state": {
            "_model_module": "@jupyter-widgets/base",
            "_model_module_version": "1.2.0",
            "_model_name": "LayoutModel",
            "_view_count": null,
            "_view_module": "@jupyter-widgets/base",
            "_view_module_version": "1.2.0",
            "_view_name": "LayoutView",
            "align_content": null,
            "align_items": null,
            "align_self": null,
            "border": null,
            "bottom": null,
            "display": null,
            "flex": null,
            "flex_flow": null,
            "grid_area": null,
            "grid_auto_columns": null,
            "grid_auto_flow": null,
            "grid_auto_rows": null,
            "grid_column": null,
            "grid_gap": null,
            "grid_row": null,
            "grid_template_areas": null,
            "grid_template_columns": null,
            "grid_template_rows": null,
            "height": null,
            "justify_content": null,
            "justify_items": null,
            "left": null,
            "margin": null,
            "max_height": null,
            "max_width": null,
            "min_height": null,
            "min_width": null,
            "object_fit": null,
            "object_position": null,
            "order": null,
            "overflow": null,
            "overflow_x": null,
            "overflow_y": null,
            "padding": null,
            "right": null,
            "top": null,
            "visibility": null,
            "width": null
          }
        },
        "11b25e7d681846f8831c8e3ba4e5dab7": {
          "model_module": "@jupyter-widgets/controls",
          "model_name": "ProgressStyleModel",
          "model_module_version": "1.5.0",
          "state": {
            "_model_module": "@jupyter-widgets/controls",
            "_model_module_version": "1.5.0",
            "_model_name": "ProgressStyleModel",
            "_view_count": null,
            "_view_module": "@jupyter-widgets/base",
            "_view_module_version": "1.2.0",
            "_view_name": "StyleView",
            "bar_color": null,
            "description_width": ""
          }
        },
        "82663a94d3554bf3ac1b88a94eeb6fdd": {
          "model_module": "@jupyter-widgets/base",
          "model_name": "LayoutModel",
          "model_module_version": "1.2.0",
          "state": {
            "_model_module": "@jupyter-widgets/base",
            "_model_module_version": "1.2.0",
            "_model_name": "LayoutModel",
            "_view_count": null,
            "_view_module": "@jupyter-widgets/base",
            "_view_module_version": "1.2.0",
            "_view_name": "LayoutView",
            "align_content": null,
            "align_items": null,
            "align_self": null,
            "border": null,
            "bottom": null,
            "display": null,
            "flex": null,
            "flex_flow": null,
            "grid_area": null,
            "grid_auto_columns": null,
            "grid_auto_flow": null,
            "grid_auto_rows": null,
            "grid_column": null,
            "grid_gap": null,
            "grid_row": null,
            "grid_template_areas": null,
            "grid_template_columns": null,
            "grid_template_rows": null,
            "height": null,
            "justify_content": null,
            "justify_items": null,
            "left": null,
            "margin": null,
            "max_height": null,
            "max_width": null,
            "min_height": null,
            "min_width": null,
            "object_fit": null,
            "object_position": null,
            "order": null,
            "overflow": null,
            "overflow_x": null,
            "overflow_y": null,
            "padding": null,
            "right": null,
            "top": null,
            "visibility": null,
            "width": null
          }
        },
        "345b0b90edae47bfafcedbbf3d5e02b2": {
          "model_module": "@jupyter-widgets/controls",
          "model_name": "DescriptionStyleModel",
          "model_module_version": "1.5.0",
          "state": {
            "_model_module": "@jupyter-widgets/controls",
            "_model_module_version": "1.5.0",
            "_model_name": "DescriptionStyleModel",
            "_view_count": null,
            "_view_module": "@jupyter-widgets/base",
            "_view_module_version": "1.2.0",
            "_view_name": "StyleView",
            "description_width": ""
          }
        },
        "1799b4e345424c28bd924ab314a216ee": {
          "model_module": "@jupyter-widgets/controls",
          "model_name": "HBoxModel",
          "model_module_version": "1.5.0",
          "state": {
            "_dom_classes": [],
            "_model_module": "@jupyter-widgets/controls",
            "_model_module_version": "1.5.0",
            "_model_name": "HBoxModel",
            "_view_count": null,
            "_view_module": "@jupyter-widgets/controls",
            "_view_module_version": "1.5.0",
            "_view_name": "HBoxView",
            "box_style": "",
            "children": [
              "IPY_MODEL_28a5db2900834a9ab3ab477056061971",
              "IPY_MODEL_f2d815676cb74ec98e07eb0c58fb3f7c",
              "IPY_MODEL_f1fb194a36a04c72806041d589cd4dcd"
            ],
            "layout": "IPY_MODEL_29e9071595324091a0d69368f605a09e"
          }
        },
        "28a5db2900834a9ab3ab477056061971": {
          "model_module": "@jupyter-widgets/controls",
          "model_name": "HTMLModel",
          "model_module_version": "1.5.0",
          "state": {
            "_dom_classes": [],
            "_model_module": "@jupyter-widgets/controls",
            "_model_module_version": "1.5.0",
            "_model_name": "HTMLModel",
            "_view_count": null,
            "_view_module": "@jupyter-widgets/controls",
            "_view_module_version": "1.5.0",
            "_view_name": "HTMLView",
            "description": "",
            "description_tooltip": null,
            "layout": "IPY_MODEL_eb680335b5bf42b19e661bc4ecc83d1c",
            "placeholder": "​",
            "style": "IPY_MODEL_d033dbbb4bd94e028ed47cbb424e24f8",
            "value": "Downloading (…)c926f/tokenizer.json: 100%"
          }
        },
        "f2d815676cb74ec98e07eb0c58fb3f7c": {
          "model_module": "@jupyter-widgets/controls",
          "model_name": "FloatProgressModel",
          "model_module_version": "1.5.0",
          "state": {
            "_dom_classes": [],
            "_model_module": "@jupyter-widgets/controls",
            "_model_module_version": "1.5.0",
            "_model_name": "FloatProgressModel",
            "_view_count": null,
            "_view_module": "@jupyter-widgets/controls",
            "_view_module_version": "1.5.0",
            "_view_name": "ProgressView",
            "bar_style": "success",
            "description": "",
            "description_tooltip": null,
            "layout": "IPY_MODEL_f5c855a1bafa4aa8907ba145203c55ce",
            "max": 466247,
            "min": 0,
            "orientation": "horizontal",
            "style": "IPY_MODEL_46f6a689f729472a879ab50db3f7d6c2",
            "value": 466247
          }
        },
        "f1fb194a36a04c72806041d589cd4dcd": {
          "model_module": "@jupyter-widgets/controls",
          "model_name": "HTMLModel",
          "model_module_version": "1.5.0",
          "state": {
            "_dom_classes": [],
            "_model_module": "@jupyter-widgets/controls",
            "_model_module_version": "1.5.0",
            "_model_name": "HTMLModel",
            "_view_count": null,
            "_view_module": "@jupyter-widgets/controls",
            "_view_module_version": "1.5.0",
            "_view_name": "HTMLView",
            "description": "",
            "description_tooltip": null,
            "layout": "IPY_MODEL_322ee3d6dbaf46a9b90a121fef3d8c45",
            "placeholder": "​",
            "style": "IPY_MODEL_ad41c7e978b84458ba7ee32e253b853a",
            "value": " 466k/466k [00:00&lt;00:00, 1.78MB/s]"
          }
        },
        "29e9071595324091a0d69368f605a09e": {
          "model_module": "@jupyter-widgets/base",
          "model_name": "LayoutModel",
          "model_module_version": "1.2.0",
          "state": {
            "_model_module": "@jupyter-widgets/base",
            "_model_module_version": "1.2.0",
            "_model_name": "LayoutModel",
            "_view_count": null,
            "_view_module": "@jupyter-widgets/base",
            "_view_module_version": "1.2.0",
            "_view_name": "LayoutView",
            "align_content": null,
            "align_items": null,
            "align_self": null,
            "border": null,
            "bottom": null,
            "display": null,
            "flex": null,
            "flex_flow": null,
            "grid_area": null,
            "grid_auto_columns": null,
            "grid_auto_flow": null,
            "grid_auto_rows": null,
            "grid_column": null,
            "grid_gap": null,
            "grid_row": null,
            "grid_template_areas": null,
            "grid_template_columns": null,
            "grid_template_rows": null,
            "height": null,
            "justify_content": null,
            "justify_items": null,
            "left": null,
            "margin": null,
            "max_height": null,
            "max_width": null,
            "min_height": null,
            "min_width": null,
            "object_fit": null,
            "object_position": null,
            "order": null,
            "overflow": null,
            "overflow_x": null,
            "overflow_y": null,
            "padding": null,
            "right": null,
            "top": null,
            "visibility": null,
            "width": null
          }
        },
        "eb680335b5bf42b19e661bc4ecc83d1c": {
          "model_module": "@jupyter-widgets/base",
          "model_name": "LayoutModel",
          "model_module_version": "1.2.0",
          "state": {
            "_model_module": "@jupyter-widgets/base",
            "_model_module_version": "1.2.0",
            "_model_name": "LayoutModel",
            "_view_count": null,
            "_view_module": "@jupyter-widgets/base",
            "_view_module_version": "1.2.0",
            "_view_name": "LayoutView",
            "align_content": null,
            "align_items": null,
            "align_self": null,
            "border": null,
            "bottom": null,
            "display": null,
            "flex": null,
            "flex_flow": null,
            "grid_area": null,
            "grid_auto_columns": null,
            "grid_auto_flow": null,
            "grid_auto_rows": null,
            "grid_column": null,
            "grid_gap": null,
            "grid_row": null,
            "grid_template_areas": null,
            "grid_template_columns": null,
            "grid_template_rows": null,
            "height": null,
            "justify_content": null,
            "justify_items": null,
            "left": null,
            "margin": null,
            "max_height": null,
            "max_width": null,
            "min_height": null,
            "min_width": null,
            "object_fit": null,
            "object_position": null,
            "order": null,
            "overflow": null,
            "overflow_x": null,
            "overflow_y": null,
            "padding": null,
            "right": null,
            "top": null,
            "visibility": null,
            "width": null
          }
        },
        "d033dbbb4bd94e028ed47cbb424e24f8": {
          "model_module": "@jupyter-widgets/controls",
          "model_name": "DescriptionStyleModel",
          "model_module_version": "1.5.0",
          "state": {
            "_model_module": "@jupyter-widgets/controls",
            "_model_module_version": "1.5.0",
            "_model_name": "DescriptionStyleModel",
            "_view_count": null,
            "_view_module": "@jupyter-widgets/base",
            "_view_module_version": "1.2.0",
            "_view_name": "StyleView",
            "description_width": ""
          }
        },
        "f5c855a1bafa4aa8907ba145203c55ce": {
          "model_module": "@jupyter-widgets/base",
          "model_name": "LayoutModel",
          "model_module_version": "1.2.0",
          "state": {
            "_model_module": "@jupyter-widgets/base",
            "_model_module_version": "1.2.0",
            "_model_name": "LayoutModel",
            "_view_count": null,
            "_view_module": "@jupyter-widgets/base",
            "_view_module_version": "1.2.0",
            "_view_name": "LayoutView",
            "align_content": null,
            "align_items": null,
            "align_self": null,
            "border": null,
            "bottom": null,
            "display": null,
            "flex": null,
            "flex_flow": null,
            "grid_area": null,
            "grid_auto_columns": null,
            "grid_auto_flow": null,
            "grid_auto_rows": null,
            "grid_column": null,
            "grid_gap": null,
            "grid_row": null,
            "grid_template_areas": null,
            "grid_template_columns": null,
            "grid_template_rows": null,
            "height": null,
            "justify_content": null,
            "justify_items": null,
            "left": null,
            "margin": null,
            "max_height": null,
            "max_width": null,
            "min_height": null,
            "min_width": null,
            "object_fit": null,
            "object_position": null,
            "order": null,
            "overflow": null,
            "overflow_x": null,
            "overflow_y": null,
            "padding": null,
            "right": null,
            "top": null,
            "visibility": null,
            "width": null
          }
        },
        "46f6a689f729472a879ab50db3f7d6c2": {
          "model_module": "@jupyter-widgets/controls",
          "model_name": "ProgressStyleModel",
          "model_module_version": "1.5.0",
          "state": {
            "_model_module": "@jupyter-widgets/controls",
            "_model_module_version": "1.5.0",
            "_model_name": "ProgressStyleModel",
            "_view_count": null,
            "_view_module": "@jupyter-widgets/base",
            "_view_module_version": "1.2.0",
            "_view_name": "StyleView",
            "bar_color": null,
            "description_width": ""
          }
        },
        "322ee3d6dbaf46a9b90a121fef3d8c45": {
          "model_module": "@jupyter-widgets/base",
          "model_name": "LayoutModel",
          "model_module_version": "1.2.0",
          "state": {
            "_model_module": "@jupyter-widgets/base",
            "_model_module_version": "1.2.0",
            "_model_name": "LayoutModel",
            "_view_count": null,
            "_view_module": "@jupyter-widgets/base",
            "_view_module_version": "1.2.0",
            "_view_name": "LayoutView",
            "align_content": null,
            "align_items": null,
            "align_self": null,
            "border": null,
            "bottom": null,
            "display": null,
            "flex": null,
            "flex_flow": null,
            "grid_area": null,
            "grid_auto_columns": null,
            "grid_auto_flow": null,
            "grid_auto_rows": null,
            "grid_column": null,
            "grid_gap": null,
            "grid_row": null,
            "grid_template_areas": null,
            "grid_template_columns": null,
            "grid_template_rows": null,
            "height": null,
            "justify_content": null,
            "justify_items": null,
            "left": null,
            "margin": null,
            "max_height": null,
            "max_width": null,
            "min_height": null,
            "min_width": null,
            "object_fit": null,
            "object_position": null,
            "order": null,
            "overflow": null,
            "overflow_x": null,
            "overflow_y": null,
            "padding": null,
            "right": null,
            "top": null,
            "visibility": null,
            "width": null
          }
        },
        "ad41c7e978b84458ba7ee32e253b853a": {
          "model_module": "@jupyter-widgets/controls",
          "model_name": "DescriptionStyleModel",
          "model_module_version": "1.5.0",
          "state": {
            "_model_module": "@jupyter-widgets/controls",
            "_model_module_version": "1.5.0",
            "_model_name": "DescriptionStyleModel",
            "_view_count": null,
            "_view_module": "@jupyter-widgets/base",
            "_view_module_version": "1.2.0",
            "_view_name": "StyleView",
            "description_width": ""
          }
        },
        "f56a801fb796434bbddb8198266696ac": {
          "model_module": "@jupyter-widgets/controls",
          "model_name": "HBoxModel",
          "model_module_version": "1.5.0",
          "state": {
            "_dom_classes": [],
            "_model_module": "@jupyter-widgets/controls",
            "_model_module_version": "1.5.0",
            "_model_name": "HBoxModel",
            "_view_count": null,
            "_view_module": "@jupyter-widgets/controls",
            "_view_module_version": "1.5.0",
            "_view_name": "HBoxView",
            "box_style": "",
            "children": [
              "IPY_MODEL_f6b1009360cd47789d917bfc634779e5",
              "IPY_MODEL_cf6e63aaf71f4ee092a8c6d4e77117c0",
              "IPY_MODEL_6c84cb9b2217457e8e1cae658b832a91"
            ],
            "layout": "IPY_MODEL_2c4e6c575aca4a979f329d7bf470a68a"
          }
        },
        "f6b1009360cd47789d917bfc634779e5": {
          "model_module": "@jupyter-widgets/controls",
          "model_name": "HTMLModel",
          "model_module_version": "1.5.0",
          "state": {
            "_dom_classes": [],
            "_model_module": "@jupyter-widgets/controls",
            "_model_module_version": "1.5.0",
            "_model_name": "HTMLModel",
            "_view_count": null,
            "_view_module": "@jupyter-widgets/controls",
            "_view_module_version": "1.5.0",
            "_view_name": "HTMLView",
            "description": "",
            "description_tooltip": null,
            "layout": "IPY_MODEL_c35297a72a1d4fdfa3aa320017c6aac8",
            "placeholder": "​",
            "style": "IPY_MODEL_829058bb970d4a35bdc3aea2caf23817",
            "value": "Downloading (…)okenizer_config.json: 100%"
          }
        },
        "cf6e63aaf71f4ee092a8c6d4e77117c0": {
          "model_module": "@jupyter-widgets/controls",
          "model_name": "FloatProgressModel",
          "model_module_version": "1.5.0",
          "state": {
            "_dom_classes": [],
            "_model_module": "@jupyter-widgets/controls",
            "_model_module_version": "1.5.0",
            "_model_name": "FloatProgressModel",
            "_view_count": null,
            "_view_module": "@jupyter-widgets/controls",
            "_view_module_version": "1.5.0",
            "_view_name": "ProgressView",
            "bar_style": "success",
            "description": "",
            "description_tooltip": null,
            "layout": "IPY_MODEL_6ea4e3a109484278bf99279dc309505f",
            "max": 352,
            "min": 0,
            "orientation": "horizontal",
            "style": "IPY_MODEL_ee533681a5294f6abf6a34a9d0b71aaf",
            "value": 352
          }
        },
        "6c84cb9b2217457e8e1cae658b832a91": {
          "model_module": "@jupyter-widgets/controls",
          "model_name": "HTMLModel",
          "model_module_version": "1.5.0",
          "state": {
            "_dom_classes": [],
            "_model_module": "@jupyter-widgets/controls",
            "_model_module_version": "1.5.0",
            "_model_name": "HTMLModel",
            "_view_count": null,
            "_view_module": "@jupyter-widgets/controls",
            "_view_module_version": "1.5.0",
            "_view_name": "HTMLView",
            "description": "",
            "description_tooltip": null,
            "layout": "IPY_MODEL_80db8142b09b4beba460a90ae5cf0615",
            "placeholder": "​",
            "style": "IPY_MODEL_396cadb721bd4753a0cdb10d879cea52",
            "value": " 352/352 [00:00&lt;00:00, 15.4kB/s]"
          }
        },
        "2c4e6c575aca4a979f329d7bf470a68a": {
          "model_module": "@jupyter-widgets/base",
          "model_name": "LayoutModel",
          "model_module_version": "1.2.0",
          "state": {
            "_model_module": "@jupyter-widgets/base",
            "_model_module_version": "1.2.0",
            "_model_name": "LayoutModel",
            "_view_count": null,
            "_view_module": "@jupyter-widgets/base",
            "_view_module_version": "1.2.0",
            "_view_name": "LayoutView",
            "align_content": null,
            "align_items": null,
            "align_self": null,
            "border": null,
            "bottom": null,
            "display": null,
            "flex": null,
            "flex_flow": null,
            "grid_area": null,
            "grid_auto_columns": null,
            "grid_auto_flow": null,
            "grid_auto_rows": null,
            "grid_column": null,
            "grid_gap": null,
            "grid_row": null,
            "grid_template_areas": null,
            "grid_template_columns": null,
            "grid_template_rows": null,
            "height": null,
            "justify_content": null,
            "justify_items": null,
            "left": null,
            "margin": null,
            "max_height": null,
            "max_width": null,
            "min_height": null,
            "min_width": null,
            "object_fit": null,
            "object_position": null,
            "order": null,
            "overflow": null,
            "overflow_x": null,
            "overflow_y": null,
            "padding": null,
            "right": null,
            "top": null,
            "visibility": null,
            "width": null
          }
        },
        "c35297a72a1d4fdfa3aa320017c6aac8": {
          "model_module": "@jupyter-widgets/base",
          "model_name": "LayoutModel",
          "model_module_version": "1.2.0",
          "state": {
            "_model_module": "@jupyter-widgets/base",
            "_model_module_version": "1.2.0",
            "_model_name": "LayoutModel",
            "_view_count": null,
            "_view_module": "@jupyter-widgets/base",
            "_view_module_version": "1.2.0",
            "_view_name": "LayoutView",
            "align_content": null,
            "align_items": null,
            "align_self": null,
            "border": null,
            "bottom": null,
            "display": null,
            "flex": null,
            "flex_flow": null,
            "grid_area": null,
            "grid_auto_columns": null,
            "grid_auto_flow": null,
            "grid_auto_rows": null,
            "grid_column": null,
            "grid_gap": null,
            "grid_row": null,
            "grid_template_areas": null,
            "grid_template_columns": null,
            "grid_template_rows": null,
            "height": null,
            "justify_content": null,
            "justify_items": null,
            "left": null,
            "margin": null,
            "max_height": null,
            "max_width": null,
            "min_height": null,
            "min_width": null,
            "object_fit": null,
            "object_position": null,
            "order": null,
            "overflow": null,
            "overflow_x": null,
            "overflow_y": null,
            "padding": null,
            "right": null,
            "top": null,
            "visibility": null,
            "width": null
          }
        },
        "829058bb970d4a35bdc3aea2caf23817": {
          "model_module": "@jupyter-widgets/controls",
          "model_name": "DescriptionStyleModel",
          "model_module_version": "1.5.0",
          "state": {
            "_model_module": "@jupyter-widgets/controls",
            "_model_module_version": "1.5.0",
            "_model_name": "DescriptionStyleModel",
            "_view_count": null,
            "_view_module": "@jupyter-widgets/base",
            "_view_module_version": "1.2.0",
            "_view_name": "StyleView",
            "description_width": ""
          }
        },
        "6ea4e3a109484278bf99279dc309505f": {
          "model_module": "@jupyter-widgets/base",
          "model_name": "LayoutModel",
          "model_module_version": "1.2.0",
          "state": {
            "_model_module": "@jupyter-widgets/base",
            "_model_module_version": "1.2.0",
            "_model_name": "LayoutModel",
            "_view_count": null,
            "_view_module": "@jupyter-widgets/base",
            "_view_module_version": "1.2.0",
            "_view_name": "LayoutView",
            "align_content": null,
            "align_items": null,
            "align_self": null,
            "border": null,
            "bottom": null,
            "display": null,
            "flex": null,
            "flex_flow": null,
            "grid_area": null,
            "grid_auto_columns": null,
            "grid_auto_flow": null,
            "grid_auto_rows": null,
            "grid_column": null,
            "grid_gap": null,
            "grid_row": null,
            "grid_template_areas": null,
            "grid_template_columns": null,
            "grid_template_rows": null,
            "height": null,
            "justify_content": null,
            "justify_items": null,
            "left": null,
            "margin": null,
            "max_height": null,
            "max_width": null,
            "min_height": null,
            "min_width": null,
            "object_fit": null,
            "object_position": null,
            "order": null,
            "overflow": null,
            "overflow_x": null,
            "overflow_y": null,
            "padding": null,
            "right": null,
            "top": null,
            "visibility": null,
            "width": null
          }
        },
        "ee533681a5294f6abf6a34a9d0b71aaf": {
          "model_module": "@jupyter-widgets/controls",
          "model_name": "ProgressStyleModel",
          "model_module_version": "1.5.0",
          "state": {
            "_model_module": "@jupyter-widgets/controls",
            "_model_module_version": "1.5.0",
            "_model_name": "ProgressStyleModel",
            "_view_count": null,
            "_view_module": "@jupyter-widgets/base",
            "_view_module_version": "1.2.0",
            "_view_name": "StyleView",
            "bar_color": null,
            "description_width": ""
          }
        },
        "80db8142b09b4beba460a90ae5cf0615": {
          "model_module": "@jupyter-widgets/base",
          "model_name": "LayoutModel",
          "model_module_version": "1.2.0",
          "state": {
            "_model_module": "@jupyter-widgets/base",
            "_model_module_version": "1.2.0",
            "_model_name": "LayoutModel",
            "_view_count": null,
            "_view_module": "@jupyter-widgets/base",
            "_view_module_version": "1.2.0",
            "_view_name": "LayoutView",
            "align_content": null,
            "align_items": null,
            "align_self": null,
            "border": null,
            "bottom": null,
            "display": null,
            "flex": null,
            "flex_flow": null,
            "grid_area": null,
            "grid_auto_columns": null,
            "grid_auto_flow": null,
            "grid_auto_rows": null,
            "grid_column": null,
            "grid_gap": null,
            "grid_row": null,
            "grid_template_areas": null,
            "grid_template_columns": null,
            "grid_template_rows": null,
            "height": null,
            "justify_content": null,
            "justify_items": null,
            "left": null,
            "margin": null,
            "max_height": null,
            "max_width": null,
            "min_height": null,
            "min_width": null,
            "object_fit": null,
            "object_position": null,
            "order": null,
            "overflow": null,
            "overflow_x": null,
            "overflow_y": null,
            "padding": null,
            "right": null,
            "top": null,
            "visibility": null,
            "width": null
          }
        },
        "396cadb721bd4753a0cdb10d879cea52": {
          "model_module": "@jupyter-widgets/controls",
          "model_name": "DescriptionStyleModel",
          "model_module_version": "1.5.0",
          "state": {
            "_model_module": "@jupyter-widgets/controls",
            "_model_module_version": "1.5.0",
            "_model_name": "DescriptionStyleModel",
            "_view_count": null,
            "_view_module": "@jupyter-widgets/base",
            "_view_module_version": "1.2.0",
            "_view_name": "StyleView",
            "description_width": ""
          }
        },
        "3c635b6e01e24e39a614a45f71fa82f4": {
          "model_module": "@jupyter-widgets/controls",
          "model_name": "HBoxModel",
          "model_module_version": "1.5.0",
          "state": {
            "_dom_classes": [],
            "_model_module": "@jupyter-widgets/controls",
            "_model_module_version": "1.5.0",
            "_model_name": "HBoxModel",
            "_view_count": null,
            "_view_module": "@jupyter-widgets/controls",
            "_view_module_version": "1.5.0",
            "_view_name": "HBoxView",
            "box_style": "",
            "children": [
              "IPY_MODEL_13e59a46627c4f1894628502d9a44651",
              "IPY_MODEL_d9c7e8f6d7d24cb2bf60c268a3454d7e",
              "IPY_MODEL_9cda781c5fe349fe8e73ead4dadacf77"
            ],
            "layout": "IPY_MODEL_1a6b1c76dc6442559c8c34c8cd17433b"
          }
        },
        "13e59a46627c4f1894628502d9a44651": {
          "model_module": "@jupyter-widgets/controls",
          "model_name": "HTMLModel",
          "model_module_version": "1.5.0",
          "state": {
            "_dom_classes": [],
            "_model_module": "@jupyter-widgets/controls",
            "_model_module_version": "1.5.0",
            "_model_name": "HTMLModel",
            "_view_count": null,
            "_view_module": "@jupyter-widgets/controls",
            "_view_module_version": "1.5.0",
            "_view_name": "HTMLView",
            "description": "",
            "description_tooltip": null,
            "layout": "IPY_MODEL_973aa4231ea44498bcb82986ef687ac6",
            "placeholder": "​",
            "style": "IPY_MODEL_46d22daeb52f4afcb34b776431f7d1de",
            "value": "Downloading (…)926f/train_script.py: 100%"
          }
        },
        "d9c7e8f6d7d24cb2bf60c268a3454d7e": {
          "model_module": "@jupyter-widgets/controls",
          "model_name": "FloatProgressModel",
          "model_module_version": "1.5.0",
          "state": {
            "_dom_classes": [],
            "_model_module": "@jupyter-widgets/controls",
            "_model_module_version": "1.5.0",
            "_model_name": "FloatProgressModel",
            "_view_count": null,
            "_view_module": "@jupyter-widgets/controls",
            "_view_module_version": "1.5.0",
            "_view_name": "ProgressView",
            "bar_style": "success",
            "description": "",
            "description_tooltip": null,
            "layout": "IPY_MODEL_5d8aa7fcadb146559c5fd823331595ef",
            "max": 13159,
            "min": 0,
            "orientation": "horizontal",
            "style": "IPY_MODEL_45ce1e4113e34aacaddfd8d23771d3eb",
            "value": 13159
          }
        },
        "9cda781c5fe349fe8e73ead4dadacf77": {
          "model_module": "@jupyter-widgets/controls",
          "model_name": "HTMLModel",
          "model_module_version": "1.5.0",
          "state": {
            "_dom_classes": [],
            "_model_module": "@jupyter-widgets/controls",
            "_model_module_version": "1.5.0",
            "_model_name": "HTMLModel",
            "_view_count": null,
            "_view_module": "@jupyter-widgets/controls",
            "_view_module_version": "1.5.0",
            "_view_name": "HTMLView",
            "description": "",
            "description_tooltip": null,
            "layout": "IPY_MODEL_96a7939a62534efd865f69587749b863",
            "placeholder": "​",
            "style": "IPY_MODEL_2317d91b468d47bfad4be0330f389195",
            "value": " 13.2k/13.2k [00:00&lt;00:00, 434kB/s]"
          }
        },
        "1a6b1c76dc6442559c8c34c8cd17433b": {
          "model_module": "@jupyter-widgets/base",
          "model_name": "LayoutModel",
          "model_module_version": "1.2.0",
          "state": {
            "_model_module": "@jupyter-widgets/base",
            "_model_module_version": "1.2.0",
            "_model_name": "LayoutModel",
            "_view_count": null,
            "_view_module": "@jupyter-widgets/base",
            "_view_module_version": "1.2.0",
            "_view_name": "LayoutView",
            "align_content": null,
            "align_items": null,
            "align_self": null,
            "border": null,
            "bottom": null,
            "display": null,
            "flex": null,
            "flex_flow": null,
            "grid_area": null,
            "grid_auto_columns": null,
            "grid_auto_flow": null,
            "grid_auto_rows": null,
            "grid_column": null,
            "grid_gap": null,
            "grid_row": null,
            "grid_template_areas": null,
            "grid_template_columns": null,
            "grid_template_rows": null,
            "height": null,
            "justify_content": null,
            "justify_items": null,
            "left": null,
            "margin": null,
            "max_height": null,
            "max_width": null,
            "min_height": null,
            "min_width": null,
            "object_fit": null,
            "object_position": null,
            "order": null,
            "overflow": null,
            "overflow_x": null,
            "overflow_y": null,
            "padding": null,
            "right": null,
            "top": null,
            "visibility": null,
            "width": null
          }
        },
        "973aa4231ea44498bcb82986ef687ac6": {
          "model_module": "@jupyter-widgets/base",
          "model_name": "LayoutModel",
          "model_module_version": "1.2.0",
          "state": {
            "_model_module": "@jupyter-widgets/base",
            "_model_module_version": "1.2.0",
            "_model_name": "LayoutModel",
            "_view_count": null,
            "_view_module": "@jupyter-widgets/base",
            "_view_module_version": "1.2.0",
            "_view_name": "LayoutView",
            "align_content": null,
            "align_items": null,
            "align_self": null,
            "border": null,
            "bottom": null,
            "display": null,
            "flex": null,
            "flex_flow": null,
            "grid_area": null,
            "grid_auto_columns": null,
            "grid_auto_flow": null,
            "grid_auto_rows": null,
            "grid_column": null,
            "grid_gap": null,
            "grid_row": null,
            "grid_template_areas": null,
            "grid_template_columns": null,
            "grid_template_rows": null,
            "height": null,
            "justify_content": null,
            "justify_items": null,
            "left": null,
            "margin": null,
            "max_height": null,
            "max_width": null,
            "min_height": null,
            "min_width": null,
            "object_fit": null,
            "object_position": null,
            "order": null,
            "overflow": null,
            "overflow_x": null,
            "overflow_y": null,
            "padding": null,
            "right": null,
            "top": null,
            "visibility": null,
            "width": null
          }
        },
        "46d22daeb52f4afcb34b776431f7d1de": {
          "model_module": "@jupyter-widgets/controls",
          "model_name": "DescriptionStyleModel",
          "model_module_version": "1.5.0",
          "state": {
            "_model_module": "@jupyter-widgets/controls",
            "_model_module_version": "1.5.0",
            "_model_name": "DescriptionStyleModel",
            "_view_count": null,
            "_view_module": "@jupyter-widgets/base",
            "_view_module_version": "1.2.0",
            "_view_name": "StyleView",
            "description_width": ""
          }
        },
        "5d8aa7fcadb146559c5fd823331595ef": {
          "model_module": "@jupyter-widgets/base",
          "model_name": "LayoutModel",
          "model_module_version": "1.2.0",
          "state": {
            "_model_module": "@jupyter-widgets/base",
            "_model_module_version": "1.2.0",
            "_model_name": "LayoutModel",
            "_view_count": null,
            "_view_module": "@jupyter-widgets/base",
            "_view_module_version": "1.2.0",
            "_view_name": "LayoutView",
            "align_content": null,
            "align_items": null,
            "align_self": null,
            "border": null,
            "bottom": null,
            "display": null,
            "flex": null,
            "flex_flow": null,
            "grid_area": null,
            "grid_auto_columns": null,
            "grid_auto_flow": null,
            "grid_auto_rows": null,
            "grid_column": null,
            "grid_gap": null,
            "grid_row": null,
            "grid_template_areas": null,
            "grid_template_columns": null,
            "grid_template_rows": null,
            "height": null,
            "justify_content": null,
            "justify_items": null,
            "left": null,
            "margin": null,
            "max_height": null,
            "max_width": null,
            "min_height": null,
            "min_width": null,
            "object_fit": null,
            "object_position": null,
            "order": null,
            "overflow": null,
            "overflow_x": null,
            "overflow_y": null,
            "padding": null,
            "right": null,
            "top": null,
            "visibility": null,
            "width": null
          }
        },
        "45ce1e4113e34aacaddfd8d23771d3eb": {
          "model_module": "@jupyter-widgets/controls",
          "model_name": "ProgressStyleModel",
          "model_module_version": "1.5.0",
          "state": {
            "_model_module": "@jupyter-widgets/controls",
            "_model_module_version": "1.5.0",
            "_model_name": "ProgressStyleModel",
            "_view_count": null,
            "_view_module": "@jupyter-widgets/base",
            "_view_module_version": "1.2.0",
            "_view_name": "StyleView",
            "bar_color": null,
            "description_width": ""
          }
        },
        "96a7939a62534efd865f69587749b863": {
          "model_module": "@jupyter-widgets/base",
          "model_name": "LayoutModel",
          "model_module_version": "1.2.0",
          "state": {
            "_model_module": "@jupyter-widgets/base",
            "_model_module_version": "1.2.0",
            "_model_name": "LayoutModel",
            "_view_count": null,
            "_view_module": "@jupyter-widgets/base",
            "_view_module_version": "1.2.0",
            "_view_name": "LayoutView",
            "align_content": null,
            "align_items": null,
            "align_self": null,
            "border": null,
            "bottom": null,
            "display": null,
            "flex": null,
            "flex_flow": null,
            "grid_area": null,
            "grid_auto_columns": null,
            "grid_auto_flow": null,
            "grid_auto_rows": null,
            "grid_column": null,
            "grid_gap": null,
            "grid_row": null,
            "grid_template_areas": null,
            "grid_template_columns": null,
            "grid_template_rows": null,
            "height": null,
            "justify_content": null,
            "justify_items": null,
            "left": null,
            "margin": null,
            "max_height": null,
            "max_width": null,
            "min_height": null,
            "min_width": null,
            "object_fit": null,
            "object_position": null,
            "order": null,
            "overflow": null,
            "overflow_x": null,
            "overflow_y": null,
            "padding": null,
            "right": null,
            "top": null,
            "visibility": null,
            "width": null
          }
        },
        "2317d91b468d47bfad4be0330f389195": {
          "model_module": "@jupyter-widgets/controls",
          "model_name": "DescriptionStyleModel",
          "model_module_version": "1.5.0",
          "state": {
            "_model_module": "@jupyter-widgets/controls",
            "_model_module_version": "1.5.0",
            "_model_name": "DescriptionStyleModel",
            "_view_count": null,
            "_view_module": "@jupyter-widgets/base",
            "_view_module_version": "1.2.0",
            "_view_name": "StyleView",
            "description_width": ""
          }
        },
        "604db82341a44f2c83f8d1c6f4c4c1cf": {
          "model_module": "@jupyter-widgets/controls",
          "model_name": "HBoxModel",
          "model_module_version": "1.5.0",
          "state": {
            "_dom_classes": [],
            "_model_module": "@jupyter-widgets/controls",
            "_model_module_version": "1.5.0",
            "_model_name": "HBoxModel",
            "_view_count": null,
            "_view_module": "@jupyter-widgets/controls",
            "_view_module_version": "1.5.0",
            "_view_name": "HBoxView",
            "box_style": "",
            "children": [
              "IPY_MODEL_2ad23fc147e143c5924b302a72a733ee",
              "IPY_MODEL_8c91b752611747438ec0eb00a001ca21",
              "IPY_MODEL_9a1d7db7d6c248e0a5fa1c545c1c36b2"
            ],
            "layout": "IPY_MODEL_d1c66320e363452dbd9de50b5ba3b69e"
          }
        },
        "2ad23fc147e143c5924b302a72a733ee": {
          "model_module": "@jupyter-widgets/controls",
          "model_name": "HTMLModel",
          "model_module_version": "1.5.0",
          "state": {
            "_dom_classes": [],
            "_model_module": "@jupyter-widgets/controls",
            "_model_module_version": "1.5.0",
            "_model_name": "HTMLModel",
            "_view_count": null,
            "_view_module": "@jupyter-widgets/controls",
            "_view_module_version": "1.5.0",
            "_view_name": "HTMLView",
            "description": "",
            "description_tooltip": null,
            "layout": "IPY_MODEL_eef5a58203724bc3a76c3be5364f5419",
            "placeholder": "​",
            "style": "IPY_MODEL_d08c82780fb74ad3b3b77fbb7a0ee030",
            "value": "Downloading (…)8101fc926f/vocab.txt: 100%"
          }
        },
        "8c91b752611747438ec0eb00a001ca21": {
          "model_module": "@jupyter-widgets/controls",
          "model_name": "FloatProgressModel",
          "model_module_version": "1.5.0",
          "state": {
            "_dom_classes": [],
            "_model_module": "@jupyter-widgets/controls",
            "_model_module_version": "1.5.0",
            "_model_name": "FloatProgressModel",
            "_view_count": null,
            "_view_module": "@jupyter-widgets/controls",
            "_view_module_version": "1.5.0",
            "_view_name": "ProgressView",
            "bar_style": "success",
            "description": "",
            "description_tooltip": null,
            "layout": "IPY_MODEL_861a62d38c0a45dba856f56210477819",
            "max": 231508,
            "min": 0,
            "orientation": "horizontal",
            "style": "IPY_MODEL_ea3b0dc3fde54419b3468fb778d49c8c",
            "value": 231508
          }
        },
        "9a1d7db7d6c248e0a5fa1c545c1c36b2": {
          "model_module": "@jupyter-widgets/controls",
          "model_name": "HTMLModel",
          "model_module_version": "1.5.0",
          "state": {
            "_dom_classes": [],
            "_model_module": "@jupyter-widgets/controls",
            "_model_module_version": "1.5.0",
            "_model_name": "HTMLModel",
            "_view_count": null,
            "_view_module": "@jupyter-widgets/controls",
            "_view_module_version": "1.5.0",
            "_view_name": "HTMLView",
            "description": "",
            "description_tooltip": null,
            "layout": "IPY_MODEL_7a727a84eb0746348d7f6e80133d205a",
            "placeholder": "​",
            "style": "IPY_MODEL_cf95c18029804a688963d8c9a56c6492",
            "value": " 232k/232k [00:00&lt;00:00, 1.07MB/s]"
          }
        },
        "d1c66320e363452dbd9de50b5ba3b69e": {
          "model_module": "@jupyter-widgets/base",
          "model_name": "LayoutModel",
          "model_module_version": "1.2.0",
          "state": {
            "_model_module": "@jupyter-widgets/base",
            "_model_module_version": "1.2.0",
            "_model_name": "LayoutModel",
            "_view_count": null,
            "_view_module": "@jupyter-widgets/base",
            "_view_module_version": "1.2.0",
            "_view_name": "LayoutView",
            "align_content": null,
            "align_items": null,
            "align_self": null,
            "border": null,
            "bottom": null,
            "display": null,
            "flex": null,
            "flex_flow": null,
            "grid_area": null,
            "grid_auto_columns": null,
            "grid_auto_flow": null,
            "grid_auto_rows": null,
            "grid_column": null,
            "grid_gap": null,
            "grid_row": null,
            "grid_template_areas": null,
            "grid_template_columns": null,
            "grid_template_rows": null,
            "height": null,
            "justify_content": null,
            "justify_items": null,
            "left": null,
            "margin": null,
            "max_height": null,
            "max_width": null,
            "min_height": null,
            "min_width": null,
            "object_fit": null,
            "object_position": null,
            "order": null,
            "overflow": null,
            "overflow_x": null,
            "overflow_y": null,
            "padding": null,
            "right": null,
            "top": null,
            "visibility": null,
            "width": null
          }
        },
        "eef5a58203724bc3a76c3be5364f5419": {
          "model_module": "@jupyter-widgets/base",
          "model_name": "LayoutModel",
          "model_module_version": "1.2.0",
          "state": {
            "_model_module": "@jupyter-widgets/base",
            "_model_module_version": "1.2.0",
            "_model_name": "LayoutModel",
            "_view_count": null,
            "_view_module": "@jupyter-widgets/base",
            "_view_module_version": "1.2.0",
            "_view_name": "LayoutView",
            "align_content": null,
            "align_items": null,
            "align_self": null,
            "border": null,
            "bottom": null,
            "display": null,
            "flex": null,
            "flex_flow": null,
            "grid_area": null,
            "grid_auto_columns": null,
            "grid_auto_flow": null,
            "grid_auto_rows": null,
            "grid_column": null,
            "grid_gap": null,
            "grid_row": null,
            "grid_template_areas": null,
            "grid_template_columns": null,
            "grid_template_rows": null,
            "height": null,
            "justify_content": null,
            "justify_items": null,
            "left": null,
            "margin": null,
            "max_height": null,
            "max_width": null,
            "min_height": null,
            "min_width": null,
            "object_fit": null,
            "object_position": null,
            "order": null,
            "overflow": null,
            "overflow_x": null,
            "overflow_y": null,
            "padding": null,
            "right": null,
            "top": null,
            "visibility": null,
            "width": null
          }
        },
        "d08c82780fb74ad3b3b77fbb7a0ee030": {
          "model_module": "@jupyter-widgets/controls",
          "model_name": "DescriptionStyleModel",
          "model_module_version": "1.5.0",
          "state": {
            "_model_module": "@jupyter-widgets/controls",
            "_model_module_version": "1.5.0",
            "_model_name": "DescriptionStyleModel",
            "_view_count": null,
            "_view_module": "@jupyter-widgets/base",
            "_view_module_version": "1.2.0",
            "_view_name": "StyleView",
            "description_width": ""
          }
        },
        "861a62d38c0a45dba856f56210477819": {
          "model_module": "@jupyter-widgets/base",
          "model_name": "LayoutModel",
          "model_module_version": "1.2.0",
          "state": {
            "_model_module": "@jupyter-widgets/base",
            "_model_module_version": "1.2.0",
            "_model_name": "LayoutModel",
            "_view_count": null,
            "_view_module": "@jupyter-widgets/base",
            "_view_module_version": "1.2.0",
            "_view_name": "LayoutView",
            "align_content": null,
            "align_items": null,
            "align_self": null,
            "border": null,
            "bottom": null,
            "display": null,
            "flex": null,
            "flex_flow": null,
            "grid_area": null,
            "grid_auto_columns": null,
            "grid_auto_flow": null,
            "grid_auto_rows": null,
            "grid_column": null,
            "grid_gap": null,
            "grid_row": null,
            "grid_template_areas": null,
            "grid_template_columns": null,
            "grid_template_rows": null,
            "height": null,
            "justify_content": null,
            "justify_items": null,
            "left": null,
            "margin": null,
            "max_height": null,
            "max_width": null,
            "min_height": null,
            "min_width": null,
            "object_fit": null,
            "object_position": null,
            "order": null,
            "overflow": null,
            "overflow_x": null,
            "overflow_y": null,
            "padding": null,
            "right": null,
            "top": null,
            "visibility": null,
            "width": null
          }
        },
        "ea3b0dc3fde54419b3468fb778d49c8c": {
          "model_module": "@jupyter-widgets/controls",
          "model_name": "ProgressStyleModel",
          "model_module_version": "1.5.0",
          "state": {
            "_model_module": "@jupyter-widgets/controls",
            "_model_module_version": "1.5.0",
            "_model_name": "ProgressStyleModel",
            "_view_count": null,
            "_view_module": "@jupyter-widgets/base",
            "_view_module_version": "1.2.0",
            "_view_name": "StyleView",
            "bar_color": null,
            "description_width": ""
          }
        },
        "7a727a84eb0746348d7f6e80133d205a": {
          "model_module": "@jupyter-widgets/base",
          "model_name": "LayoutModel",
          "model_module_version": "1.2.0",
          "state": {
            "_model_module": "@jupyter-widgets/base",
            "_model_module_version": "1.2.0",
            "_model_name": "LayoutModel",
            "_view_count": null,
            "_view_module": "@jupyter-widgets/base",
            "_view_module_version": "1.2.0",
            "_view_name": "LayoutView",
            "align_content": null,
            "align_items": null,
            "align_self": null,
            "border": null,
            "bottom": null,
            "display": null,
            "flex": null,
            "flex_flow": null,
            "grid_area": null,
            "grid_auto_columns": null,
            "grid_auto_flow": null,
            "grid_auto_rows": null,
            "grid_column": null,
            "grid_gap": null,
            "grid_row": null,
            "grid_template_areas": null,
            "grid_template_columns": null,
            "grid_template_rows": null,
            "height": null,
            "justify_content": null,
            "justify_items": null,
            "left": null,
            "margin": null,
            "max_height": null,
            "max_width": null,
            "min_height": null,
            "min_width": null,
            "object_fit": null,
            "object_position": null,
            "order": null,
            "overflow": null,
            "overflow_x": null,
            "overflow_y": null,
            "padding": null,
            "right": null,
            "top": null,
            "visibility": null,
            "width": null
          }
        },
        "cf95c18029804a688963d8c9a56c6492": {
          "model_module": "@jupyter-widgets/controls",
          "model_name": "DescriptionStyleModel",
          "model_module_version": "1.5.0",
          "state": {
            "_model_module": "@jupyter-widgets/controls",
            "_model_module_version": "1.5.0",
            "_model_name": "DescriptionStyleModel",
            "_view_count": null,
            "_view_module": "@jupyter-widgets/base",
            "_view_module_version": "1.2.0",
            "_view_name": "StyleView",
            "description_width": ""
          }
        },
        "603350cbf40f4ee4957e2023c7e7bf6a": {
          "model_module": "@jupyter-widgets/controls",
          "model_name": "HBoxModel",
          "model_module_version": "1.5.0",
          "state": {
            "_dom_classes": [],
            "_model_module": "@jupyter-widgets/controls",
            "_model_module_version": "1.5.0",
            "_model_name": "HBoxModel",
            "_view_count": null,
            "_view_module": "@jupyter-widgets/controls",
            "_view_module_version": "1.5.0",
            "_view_name": "HBoxView",
            "box_style": "",
            "children": [
              "IPY_MODEL_7bb669d39ad345e9bae290d059c35b24",
              "IPY_MODEL_cacd10ebb3534f1a9142d76260906f73",
              "IPY_MODEL_82f279a9956b49538db1828382f50aca"
            ],
            "layout": "IPY_MODEL_e1255ef9b3b7480fad047e689bc932be"
          }
        },
        "7bb669d39ad345e9bae290d059c35b24": {
          "model_module": "@jupyter-widgets/controls",
          "model_name": "HTMLModel",
          "model_module_version": "1.5.0",
          "state": {
            "_dom_classes": [],
            "_model_module": "@jupyter-widgets/controls",
            "_model_module_version": "1.5.0",
            "_model_name": "HTMLModel",
            "_view_count": null,
            "_view_module": "@jupyter-widgets/controls",
            "_view_module_version": "1.5.0",
            "_view_name": "HTMLView",
            "description": "",
            "description_tooltip": null,
            "layout": "IPY_MODEL_26a712c6eeac4137910c92ba0d145f24",
            "placeholder": "​",
            "style": "IPY_MODEL_5903ab70dcb942018636e7a13c466176",
            "value": "Downloading (…)1fc926f/modules.json: 100%"
          }
        },
        "cacd10ebb3534f1a9142d76260906f73": {
          "model_module": "@jupyter-widgets/controls",
          "model_name": "FloatProgressModel",
          "model_module_version": "1.5.0",
          "state": {
            "_dom_classes": [],
            "_model_module": "@jupyter-widgets/controls",
            "_model_module_version": "1.5.0",
            "_model_name": "FloatProgressModel",
            "_view_count": null,
            "_view_module": "@jupyter-widgets/controls",
            "_view_module_version": "1.5.0",
            "_view_name": "ProgressView",
            "bar_style": "success",
            "description": "",
            "description_tooltip": null,
            "layout": "IPY_MODEL_8883b2138e164137bd0a37dec675aa38",
            "max": 349,
            "min": 0,
            "orientation": "horizontal",
            "style": "IPY_MODEL_65b045d10e9048b5bd57d131fa6174e3",
            "value": 349
          }
        },
        "82f279a9956b49538db1828382f50aca": {
          "model_module": "@jupyter-widgets/controls",
          "model_name": "HTMLModel",
          "model_module_version": "1.5.0",
          "state": {
            "_dom_classes": [],
            "_model_module": "@jupyter-widgets/controls",
            "_model_module_version": "1.5.0",
            "_model_name": "HTMLModel",
            "_view_count": null,
            "_view_module": "@jupyter-widgets/controls",
            "_view_module_version": "1.5.0",
            "_view_name": "HTMLView",
            "description": "",
            "description_tooltip": null,
            "layout": "IPY_MODEL_48cb2dd41ffa4cf0ae6669346d64e6c9",
            "placeholder": "​",
            "style": "IPY_MODEL_cc017e4510724550a3db7a1cdaa80aea",
            "value": " 349/349 [00:00&lt;00:00, 10.1kB/s]"
          }
        },
        "e1255ef9b3b7480fad047e689bc932be": {
          "model_module": "@jupyter-widgets/base",
          "model_name": "LayoutModel",
          "model_module_version": "1.2.0",
          "state": {
            "_model_module": "@jupyter-widgets/base",
            "_model_module_version": "1.2.0",
            "_model_name": "LayoutModel",
            "_view_count": null,
            "_view_module": "@jupyter-widgets/base",
            "_view_module_version": "1.2.0",
            "_view_name": "LayoutView",
            "align_content": null,
            "align_items": null,
            "align_self": null,
            "border": null,
            "bottom": null,
            "display": null,
            "flex": null,
            "flex_flow": null,
            "grid_area": null,
            "grid_auto_columns": null,
            "grid_auto_flow": null,
            "grid_auto_rows": null,
            "grid_column": null,
            "grid_gap": null,
            "grid_row": null,
            "grid_template_areas": null,
            "grid_template_columns": null,
            "grid_template_rows": null,
            "height": null,
            "justify_content": null,
            "justify_items": null,
            "left": null,
            "margin": null,
            "max_height": null,
            "max_width": null,
            "min_height": null,
            "min_width": null,
            "object_fit": null,
            "object_position": null,
            "order": null,
            "overflow": null,
            "overflow_x": null,
            "overflow_y": null,
            "padding": null,
            "right": null,
            "top": null,
            "visibility": null,
            "width": null
          }
        },
        "26a712c6eeac4137910c92ba0d145f24": {
          "model_module": "@jupyter-widgets/base",
          "model_name": "LayoutModel",
          "model_module_version": "1.2.0",
          "state": {
            "_model_module": "@jupyter-widgets/base",
            "_model_module_version": "1.2.0",
            "_model_name": "LayoutModel",
            "_view_count": null,
            "_view_module": "@jupyter-widgets/base",
            "_view_module_version": "1.2.0",
            "_view_name": "LayoutView",
            "align_content": null,
            "align_items": null,
            "align_self": null,
            "border": null,
            "bottom": null,
            "display": null,
            "flex": null,
            "flex_flow": null,
            "grid_area": null,
            "grid_auto_columns": null,
            "grid_auto_flow": null,
            "grid_auto_rows": null,
            "grid_column": null,
            "grid_gap": null,
            "grid_row": null,
            "grid_template_areas": null,
            "grid_template_columns": null,
            "grid_template_rows": null,
            "height": null,
            "justify_content": null,
            "justify_items": null,
            "left": null,
            "margin": null,
            "max_height": null,
            "max_width": null,
            "min_height": null,
            "min_width": null,
            "object_fit": null,
            "object_position": null,
            "order": null,
            "overflow": null,
            "overflow_x": null,
            "overflow_y": null,
            "padding": null,
            "right": null,
            "top": null,
            "visibility": null,
            "width": null
          }
        },
        "5903ab70dcb942018636e7a13c466176": {
          "model_module": "@jupyter-widgets/controls",
          "model_name": "DescriptionStyleModel",
          "model_module_version": "1.5.0",
          "state": {
            "_model_module": "@jupyter-widgets/controls",
            "_model_module_version": "1.5.0",
            "_model_name": "DescriptionStyleModel",
            "_view_count": null,
            "_view_module": "@jupyter-widgets/base",
            "_view_module_version": "1.2.0",
            "_view_name": "StyleView",
            "description_width": ""
          }
        },
        "8883b2138e164137bd0a37dec675aa38": {
          "model_module": "@jupyter-widgets/base",
          "model_name": "LayoutModel",
          "model_module_version": "1.2.0",
          "state": {
            "_model_module": "@jupyter-widgets/base",
            "_model_module_version": "1.2.0",
            "_model_name": "LayoutModel",
            "_view_count": null,
            "_view_module": "@jupyter-widgets/base",
            "_view_module_version": "1.2.0",
            "_view_name": "LayoutView",
            "align_content": null,
            "align_items": null,
            "align_self": null,
            "border": null,
            "bottom": null,
            "display": null,
            "flex": null,
            "flex_flow": null,
            "grid_area": null,
            "grid_auto_columns": null,
            "grid_auto_flow": null,
            "grid_auto_rows": null,
            "grid_column": null,
            "grid_gap": null,
            "grid_row": null,
            "grid_template_areas": null,
            "grid_template_columns": null,
            "grid_template_rows": null,
            "height": null,
            "justify_content": null,
            "justify_items": null,
            "left": null,
            "margin": null,
            "max_height": null,
            "max_width": null,
            "min_height": null,
            "min_width": null,
            "object_fit": null,
            "object_position": null,
            "order": null,
            "overflow": null,
            "overflow_x": null,
            "overflow_y": null,
            "padding": null,
            "right": null,
            "top": null,
            "visibility": null,
            "width": null
          }
        },
        "65b045d10e9048b5bd57d131fa6174e3": {
          "model_module": "@jupyter-widgets/controls",
          "model_name": "ProgressStyleModel",
          "model_module_version": "1.5.0",
          "state": {
            "_model_module": "@jupyter-widgets/controls",
            "_model_module_version": "1.5.0",
            "_model_name": "ProgressStyleModel",
            "_view_count": null,
            "_view_module": "@jupyter-widgets/base",
            "_view_module_version": "1.2.0",
            "_view_name": "StyleView",
            "bar_color": null,
            "description_width": ""
          }
        },
        "48cb2dd41ffa4cf0ae6669346d64e6c9": {
          "model_module": "@jupyter-widgets/base",
          "model_name": "LayoutModel",
          "model_module_version": "1.2.0",
          "state": {
            "_model_module": "@jupyter-widgets/base",
            "_model_module_version": "1.2.0",
            "_model_name": "LayoutModel",
            "_view_count": null,
            "_view_module": "@jupyter-widgets/base",
            "_view_module_version": "1.2.0",
            "_view_name": "LayoutView",
            "align_content": null,
            "align_items": null,
            "align_self": null,
            "border": null,
            "bottom": null,
            "display": null,
            "flex": null,
            "flex_flow": null,
            "grid_area": null,
            "grid_auto_columns": null,
            "grid_auto_flow": null,
            "grid_auto_rows": null,
            "grid_column": null,
            "grid_gap": null,
            "grid_row": null,
            "grid_template_areas": null,
            "grid_template_columns": null,
            "grid_template_rows": null,
            "height": null,
            "justify_content": null,
            "justify_items": null,
            "left": null,
            "margin": null,
            "max_height": null,
            "max_width": null,
            "min_height": null,
            "min_width": null,
            "object_fit": null,
            "object_position": null,
            "order": null,
            "overflow": null,
            "overflow_x": null,
            "overflow_y": null,
            "padding": null,
            "right": null,
            "top": null,
            "visibility": null,
            "width": null
          }
        },
        "cc017e4510724550a3db7a1cdaa80aea": {
          "model_module": "@jupyter-widgets/controls",
          "model_name": "DescriptionStyleModel",
          "model_module_version": "1.5.0",
          "state": {
            "_model_module": "@jupyter-widgets/controls",
            "_model_module_version": "1.5.0",
            "_model_name": "DescriptionStyleModel",
            "_view_count": null,
            "_view_module": "@jupyter-widgets/base",
            "_view_module_version": "1.2.0",
            "_view_name": "StyleView",
            "description_width": ""
          }
        }
      }
    }
  },
  "nbformat": 4,
  "nbformat_minor": 0
}