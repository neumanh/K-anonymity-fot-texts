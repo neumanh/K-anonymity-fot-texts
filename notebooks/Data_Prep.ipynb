{
  "cells": [
    {
      "attachments": {},
      "cell_type": "markdown",
      "metadata": {
        "id": "sY2saPWPqdSd"
      },
      "source": [
        "The pupose of this notebook is to create a small dataset to work on in POC stage.\n",
        "\n",
        "1. we read the data from the file in my Drive. (taken originaly from: https://www.kaggle.com/datasets/bittlingmayer/amazonreviews)\n",
        "\n",
        "2.  narrow it to 1000 documents that are relatively short and similar\n",
        "\n",
        "3. save them to a df with the original index\n",
        "\n",
        "4. save the df as csv to use in next notebooks"
      ]
    },
    {
      "cell_type": "code",
      "execution_count": 1,
      "metadata": {
        "id": "u4-1wAP_sRSk"
      },
      "outputs": [],
      "source": [
        "# Imports\n",
        "import sklearn\n",
        "import pandas as pd\n",
        "import numpy as np\n",
        "import random\n",
        "import re\n",
        "from numpy.linalg import norm\n",
        "from sklearn.model_selection import train_test_split\n",
        "from itertools import islice\n",
        "from sklearn.feature_extraction.text import CountVectorizer\n",
        "import matplotlib.pyplot as plt"
      ]
    },
    {
      "cell_type": "markdown",
      "metadata": {
        "id": "oi5axqO0t4DU"
      },
      "source": [
        "loading the data from colab"
      ]
    },
    {
      "cell_type": "code",
      "execution_count": 2,
      "metadata": {
        "id": "OpfgChgVuQ3u"
      },
      "outputs": [],
      "source": [
        "# Uploading the data\n",
        "COLAB = True"
      ]
    },
    {
      "cell_type": "code",
      "execution_count": 3,
      "metadata": {
        "colab": {
          "base_uri": "https://localhost:8080/"
        },
        "id": "dHlBt3VOuUGh",
        "outputId": "81b7ea8e-d607-47af-fcc4-e3867b9d0ede"
      },
      "outputs": [
        {
          "name": "stdout",
          "output_type": "stream",
          "text": [
            "Drive already mounted at /content/drive/; to attempt to forcibly remount, call drive.mount(\"/content/drive/\", force_remount=True).\n"
          ]
        }
      ],
      "source": [
        "if COLAB:\n",
        "    from google.colab import drive\n",
        "    from os.path import exists\n",
        "\n",
        "    amazon_train_file = 'train.ft.txt.bz2'\n",
        "\n",
        "    if exists(amazon_train_file):\n",
        "        train_file = amazon_train_file\n",
        "    else:\n",
        "        drive.mount('/content/drive/')\n",
        "\n",
        "        # For Hadas' drive\n",
        "        #my_dir = 'drive/MyDrive/Y-data/Intuit-K-anonimity/'\n",
        "\n",
        "        # For Lior's drive\n",
        "        my_dir = 'drive/MyDrive/Y-data/Y-DATA_PROJECT/'\n",
        "\n",
        "        train_file = my_dir + '/train.ft.txt.bz2'\n",
        "else:\n",
        "    train_file = '../data/' + 'train.ft.txt.bz2'"
      ]
    },
    {
      "cell_type": "code",
      "execution_count": 4,
      "metadata": {
        "id": "6SbAj3K4uhGB"
      },
      "outputs": [],
      "source": [
        "# Credit https://www.kaggle.com/code/anshulrai/cudnnlstm-implementation-93-7-accuracy\n",
        "\n",
        "import bz2\n",
        "\n",
        "# Readling the file to list of comments\n",
        "train_file = bz2.BZ2File(train_file)\n",
        "train_file_lines = train_file.readlines()\n",
        "\n",
        "# Converting from raw binary strings to strings that can be parsed\n",
        "train_file_lines = [x.decode('utf-8') for x in train_file_lines]\n",
        "\n",
        "# Extracting the labels and sentences\n",
        "train_labels = [0 if x.split(' ')[0] == '__label__1' else 1 for x in train_file_lines]\n",
        "train_sentences = [x.split(' ', 1)[1][:-1].lower() for x in train_file_lines] # And converting to lower case"
      ]
    },
    {
      "cell_type": "code",
      "execution_count": 5,
      "metadata": {
        "id": "V8mwuloxutMJ"
      },
      "outputs": [],
      "source": [
        "del(train_file_lines)  # Free RAM"
      ]
    },
    {
      "cell_type": "code",
      "execution_count": 6,
      "metadata": {
        "colab": {
          "base_uri": "https://localhost:8080/",
          "height": 206
        },
        "id": "rC5GIzaduxVQ",
        "outputId": "d90eca41-2335-4d72-a128-aedd29e14065"
      },
      "outputs": [
        {
          "data": {
            "text/html": [
              "\n",
              "  <div id=\"df-2ecd90bb-1508-42bb-88c4-b93b236c601a\">\n",
              "    <div class=\"colab-df-container\">\n",
              "      <div>\n",
              "<style scoped>\n",
              "    .dataframe tbody tr th:only-of-type {\n",
              "        vertical-align: middle;\n",
              "    }\n",
              "\n",
              "    .dataframe tbody tr th {\n",
              "        vertical-align: top;\n",
              "    }\n",
              "\n",
              "    .dataframe thead th {\n",
              "        text-align: right;\n",
              "    }\n",
              "</style>\n",
              "<table border=\"1\" class=\"dataframe\">\n",
              "  <thead>\n",
              "    <tr style=\"text-align: right;\">\n",
              "      <th></th>\n",
              "      <th>txt</th>\n",
              "      <th>sentiment</th>\n",
              "    </tr>\n",
              "  </thead>\n",
              "  <tbody>\n",
              "    <tr>\n",
              "      <th>0</th>\n",
              "      <td>stuning even for the non-gamer: this sound tra...</td>\n",
              "      <td>1</td>\n",
              "    </tr>\n",
              "    <tr>\n",
              "      <th>1</th>\n",
              "      <td>the best soundtrack ever to anything.: i'm rea...</td>\n",
              "      <td>1</td>\n",
              "    </tr>\n",
              "    <tr>\n",
              "      <th>2</th>\n",
              "      <td>amazing!: this soundtrack is my favorite music...</td>\n",
              "      <td>1</td>\n",
              "    </tr>\n",
              "    <tr>\n",
              "      <th>3</th>\n",
              "      <td>excellent soundtrack: i truly like this soundt...</td>\n",
              "      <td>1</td>\n",
              "    </tr>\n",
              "    <tr>\n",
              "      <th>4</th>\n",
              "      <td>remember, pull your jaw off the floor after he...</td>\n",
              "      <td>1</td>\n",
              "    </tr>\n",
              "  </tbody>\n",
              "</table>\n",
              "</div>\n",
              "      <button class=\"colab-df-convert\" onclick=\"convertToInteractive('df-2ecd90bb-1508-42bb-88c4-b93b236c601a')\"\n",
              "              title=\"Convert this dataframe to an interactive table.\"\n",
              "              style=\"display:none;\">\n",
              "        \n",
              "  <svg xmlns=\"http://www.w3.org/2000/svg\" height=\"24px\"viewBox=\"0 0 24 24\"\n",
              "       width=\"24px\">\n",
              "    <path d=\"M0 0h24v24H0V0z\" fill=\"none\"/>\n",
              "    <path d=\"M18.56 5.44l.94 2.06.94-2.06 2.06-.94-2.06-.94-.94-2.06-.94 2.06-2.06.94zm-11 1L8.5 8.5l.94-2.06 2.06-.94-2.06-.94L8.5 2.5l-.94 2.06-2.06.94zm10 10l.94 2.06.94-2.06 2.06-.94-2.06-.94-.94-2.06-.94 2.06-2.06.94z\"/><path d=\"M17.41 7.96l-1.37-1.37c-.4-.4-.92-.59-1.43-.59-.52 0-1.04.2-1.43.59L10.3 9.45l-7.72 7.72c-.78.78-.78 2.05 0 2.83L4 21.41c.39.39.9.59 1.41.59.51 0 1.02-.2 1.41-.59l7.78-7.78 2.81-2.81c.8-.78.8-2.07 0-2.86zM5.41 20L4 18.59l7.72-7.72 1.47 1.35L5.41 20z\"/>\n",
              "  </svg>\n",
              "      </button>\n",
              "      \n",
              "  <style>\n",
              "    .colab-df-container {\n",
              "      display:flex;\n",
              "      flex-wrap:wrap;\n",
              "      gap: 12px;\n",
              "    }\n",
              "\n",
              "    .colab-df-convert {\n",
              "      background-color: #E8F0FE;\n",
              "      border: none;\n",
              "      border-radius: 50%;\n",
              "      cursor: pointer;\n",
              "      display: none;\n",
              "      fill: #1967D2;\n",
              "      height: 32px;\n",
              "      padding: 0 0 0 0;\n",
              "      width: 32px;\n",
              "    }\n",
              "\n",
              "    .colab-df-convert:hover {\n",
              "      background-color: #E2EBFA;\n",
              "      box-shadow: 0px 1px 2px rgba(60, 64, 67, 0.3), 0px 1px 3px 1px rgba(60, 64, 67, 0.15);\n",
              "      fill: #174EA6;\n",
              "    }\n",
              "\n",
              "    [theme=dark] .colab-df-convert {\n",
              "      background-color: #3B4455;\n",
              "      fill: #D2E3FC;\n",
              "    }\n",
              "\n",
              "    [theme=dark] .colab-df-convert:hover {\n",
              "      background-color: #434B5C;\n",
              "      box-shadow: 0px 1px 3px 1px rgba(0, 0, 0, 0.15);\n",
              "      filter: drop-shadow(0px 1px 2px rgba(0, 0, 0, 0.3));\n",
              "      fill: #FFFFFF;\n",
              "    }\n",
              "  </style>\n",
              "\n",
              "      <script>\n",
              "        const buttonEl =\n",
              "          document.querySelector('#df-2ecd90bb-1508-42bb-88c4-b93b236c601a button.colab-df-convert');\n",
              "        buttonEl.style.display =\n",
              "          google.colab.kernel.accessAllowed ? 'block' : 'none';\n",
              "\n",
              "        async function convertToInteractive(key) {\n",
              "          const element = document.querySelector('#df-2ecd90bb-1508-42bb-88c4-b93b236c601a');\n",
              "          const dataTable =\n",
              "            await google.colab.kernel.invokeFunction('convertToInteractive',\n",
              "                                                     [key], {});\n",
              "          if (!dataTable) return;\n",
              "\n",
              "          const docLinkHtml = 'Like what you see? Visit the ' +\n",
              "            '<a target=\"_blank\" href=https://colab.research.google.com/notebooks/data_table.ipynb>data table notebook</a>'\n",
              "            + ' to learn more about interactive tables.';\n",
              "          element.innerHTML = '';\n",
              "          dataTable['output_type'] = 'display_data';\n",
              "          await google.colab.output.renderOutput(dataTable, element);\n",
              "          const docLink = document.createElement('div');\n",
              "          docLink.innerHTML = docLinkHtml;\n",
              "          element.appendChild(docLink);\n",
              "        }\n",
              "      </script>\n",
              "    </div>\n",
              "  </div>\n",
              "  "
            ],
            "text/plain": [
              "                                                 txt  sentiment\n",
              "0  stuning even for the non-gamer: this sound tra...          1\n",
              "1  the best soundtrack ever to anything.: i'm rea...          1\n",
              "2  amazing!: this soundtrack is my favorite music...          1\n",
              "3  excellent soundtrack: i truly like this soundt...          1\n",
              "4  remember, pull your jaw off the floor after he...          1"
            ]
          },
          "execution_count": 6,
          "metadata": {},
          "output_type": "execute_result"
        }
      ],
      "source": [
        "# create a data frame from train data:\n",
        "df = pd.DataFrame(list(zip(train_sentences, train_labels)), columns =['txt', 'sentiment'])\n",
        "df.head()"
      ]
    },
    {
      "cell_type": "markdown",
      "metadata": {
        "id": "PIUZ5ZyIuEAO"
      },
      "source": [
        "filter only docs with less than 30 words/tokens"
      ]
    },
    {
      "cell_type": "code",
      "execution_count": 7,
      "metadata": {
        "id": "TOygPp9jNRBu"
      },
      "outputs": [],
      "source": [
        "df['num_of_words'] = df['txt'].apply(lambda x : len(x.split(' ')))"
      ]
    },
    {
      "cell_type": "code",
      "execution_count": 8,
      "metadata": {
        "colab": {
          "base_uri": "https://localhost:8080/"
        },
        "id": "5qlGcReKu5qa",
        "outputId": "7b0bec4a-f415-4405-843c-deb79d931a28"
      },
      "outputs": [
        {
          "name": "stdout",
          "output_type": "stream",
          "text": [
            "(363829, 3)\n"
          ]
        }
      ],
      "source": [
        "max_len = 28\n",
        "df_short_sentences = df[df['num_of_words'] <= max_len] # Filtering using pandas is much faster\n",
        "print(df_short_sentences.shape)"
      ]
    },
    {
      "cell_type": "code",
      "execution_count": 9,
      "metadata": {
        "id": "PZWfWbZRwNiq"
      },
      "outputs": [],
      "source": [
        "# Free RAM\n",
        "del(df)"
      ]
    },
    {
      "cell_type": "markdown",
      "metadata": {
        "id": "w0u5wM8lt-KI"
      },
      "source": [
        "calc the jaccard to filter more similar sentences"
      ]
    },
    {
      "cell_type": "code",
      "execution_count": 15,
      "metadata": {
        "id": "XKeYADJxvIrB"
      },
      "outputs": [],
      "source": [
        "def jaccard_index(sentence1, sentence2):\n",
        "    \"\"\" Calc Jaccard index for each pair of sentences \"\"\"\n",
        "    words1 = set(sentence1.split())\n",
        "    words2 = set(sentence2.split())\n",
        "    intersection = len(words1.intersection(words2))\n",
        "    union = len(words1.union(words2))\n",
        "    jaccard = intersection / union\n",
        "    return jaccard"
      ]
    },
    {
      "cell_type": "code",
      "execution_count": 10,
      "metadata": {
        "colab": {
          "base_uri": "https://localhost:8080/"
        },
        "id": "ezOHaZGiQUvU",
        "outputId": "c7b842ad-1426-456e-be8c-1ce719e7c725"
      },
      "outputs": [
        {
          "data": {
            "text/plain": [
              "363829"
            ]
          },
          "execution_count": 10,
          "metadata": {},
          "output_type": "execute_result"
        }
      ],
      "source": [
        "indices_list = list(df_short_sentences.index)\n",
        "len(indices_list)"
      ]
    },
    {
      "cell_type": "code",
      "execution_count": 11,
      "metadata": {
        "id": "u3HvS9r3RdRi"
      },
      "outputs": [],
      "source": [
        "indices_list_short_1 = indices_list[1:4000] # run for shorter time"
      ]
    },
    {
      "cell_type": "code",
      "execution_count": 16,
      "metadata": {
        "colab": {
          "base_uri": "https://localhost:8080/"
        },
        "id": "pTAfKvNfRnEy",
        "outputId": "736cbac4-6a6e-4b43-ab5d-efb60f21694c"
      },
      "outputs": [
        {
          "name": "stdout",
          "output_type": "stream",
          "text": [
            "CPU times: user 1min 40s, sys: 1.7 s, total: 1min 41s\n",
            "Wall time: 1min 42s\n"
          ]
        }
      ],
      "source": [
        "%%time\n",
        "# Create a list of sentence texts\n",
        "sentences = list(df_short_sentences.txt.loc[indices_list_short_1])\n",
        "\n",
        "# Compute the Jaccard index for all pairs of sentences\n",
        "jaccard_index_dict = {(indices_list_short_1[i],indices_list_short_1[j]): jaccard_index(sentences[i], sentences[j]) for i in range(len(sentences)) for j in range(i+1, len(sentences))}\n",
        "\n",
        "# Sort the dictionary by its values in descending order\n",
        "sorted_dict = dict(sorted(jaccard_index_dict.items(), key=lambda item: item[1], reverse=True))"
      ]
    },
    {
      "cell_type": "code",
      "execution_count": null,
      "metadata": {
        "id": "TdHyOEj862eh"
      },
      "outputs": [],
      "source": [
        "def plot_jaccard_hist(sorted_dict):\n",
        "  '''creat a hist of jaccard scores'''\n",
        "  # extract the values from the dictionary\n",
        "  dic_values = list(sorted_dict.values())\n",
        "\n",
        "  # plot a histogram of the values\n",
        "  plt.hist(dic_values, bins=50, range = (0,0.3))\n",
        "\n",
        "  # set labels and title\n",
        "  plt.xlabel('Values')\n",
        "  plt.ylabel('Counts')\n",
        "  plt.title('Histogram of Jaccard Indecs')\n",
        "\n",
        "  # display the plot\n",
        "  plt.show()"
      ]
    },
    {
      "cell_type": "code",
      "execution_count": null,
      "metadata": {
        "id": "pRq1ueeo9VtF"
      },
      "outputs": [],
      "source": [
        "plot_jaccard_hist(sorted_dict)"
      ]
    },
    {
      "cell_type": "code",
      "execution_count": 17,
      "metadata": {
        "colab": {
          "base_uri": "https://localhost:8080/"
        },
        "id": "Ehll6VEx9W41",
        "outputId": "474e815a-1725-4746-d568-914b03c228df"
      },
      "outputs": [
        {
          "name": "stdout",
          "output_type": "stream",
          "text": [
            "mean Jaccard: 0.05923649419314845\n"
          ]
        }
      ],
      "source": [
        "dic_values = list(sorted_dict.values())\n",
        "print(\"mean Jaccard:\", np.mean(dic_values))"
      ]
    },
    {
      "cell_type": "code",
      "execution_count": 54,
      "metadata": {
        "id": "VHtwdaeWTDfn"
      },
      "outputs": [],
      "source": [
        "# Getting the N documents with nearest neighbors\n",
        "n = 1722\n",
        "first_n_items = dict(islice(sorted_dict.items(), n)) # work with n sentences as a start\n",
        "# Get the list of indexes\n",
        "unique_numbers = [num for tup in first_n_items.keys() for num in tup]  # list of indeces for sentences to work with\n"
      ]
    },
    {
      "cell_type": "code",
      "execution_count": 55,
      "metadata": {
        "id": "Yv3_w5N-yOZs"
      },
      "outputs": [],
      "source": [
        "# Free RAM\n",
        "del(first_n_items)"
      ]
    },
    {
      "cell_type": "code",
      "execution_count": 56,
      "metadata": {
        "colab": {
          "base_uri": "https://localhost:8080/"
        },
        "id": "XHdp-QPutnw4",
        "outputId": "fac81227-1615-4304-8645-4e15733acdfa"
      },
      "outputs": [
        {
          "name": "stdout",
          "output_type": "stream",
          "text": [
            "                                                   txt  sentiment  \\\n",
            "84   voices from the farm: i have a copy of this bo...          1   \n",
            "99   caution!: these tracks are not the \"original\" ...          0   \n",
            "100  textbook: book shipped quickly and was in exce...          1   \n",
            "243  it was great!!!: i like it. it was very cool t...          1   \n",
            "269  dockers do the job.: this product was just wha...          1   \n",
            "\n",
            "     num_of_words  \n",
            "84             27  \n",
            "99             22  \n",
            "100            16  \n",
            "243            21  \n",
            "269            25  \n"
          ]
        }
      ],
      "source": [
        "# Filter the df to recive only these sentences and print df\n",
        "filtered_df = df_short_sentences.loc[df_short_sentences.index.isin(unique_numbers)]\n",
        "print(filtered_df.head())"
      ]
    },
    {
      "cell_type": "markdown",
      "metadata": {
        "id": "Pw6OsM8Ktoa5"
      },
      "source": [
        "save the df to a csv\n"
      ]
    },
    {
      "cell_type": "code",
      "execution_count": 60,
      "metadata": {
        "id": "ZZK09p71tqX7"
      },
      "outputs": [],
      "source": [
        "filtered_df.to_csv('df_filtered.csv', index=True)\n"
      ]
    },
    {
      "cell_type": "code",
      "execution_count": 51,
      "metadata": {
        "colab": {
          "base_uri": "https://localhost:8080/",
          "height": 206
        },
        "id": "RgcMNiaVz4yt",
        "outputId": "0edb9917-5a9e-451d-d345-4e11001b870f"
      },
      "outputs": [
        {
          "data": {
            "text/html": [
              "\n",
              "  <div id=\"df-cd2618e7-4adf-4bea-8f91-d516bca10453\">\n",
              "    <div class=\"colab-df-container\">\n",
              "      <div>\n",
              "<style scoped>\n",
              "    .dataframe tbody tr th:only-of-type {\n",
              "        vertical-align: middle;\n",
              "    }\n",
              "\n",
              "    .dataframe tbody tr th {\n",
              "        vertical-align: top;\n",
              "    }\n",
              "\n",
              "    .dataframe thead th {\n",
              "        text-align: right;\n",
              "    }\n",
              "</style>\n",
              "<table border=\"1\" class=\"dataframe\">\n",
              "  <thead>\n",
              "    <tr style=\"text-align: right;\">\n",
              "      <th></th>\n",
              "      <th>txt</th>\n",
              "      <th>sentiment</th>\n",
              "      <th>num_of_words</th>\n",
              "    </tr>\n",
              "  </thead>\n",
              "  <tbody>\n",
              "    <tr>\n",
              "      <th>84</th>\n",
              "      <td>voices from the farm: i have a copy of this bo...</td>\n",
              "      <td>1</td>\n",
              "      <td>27</td>\n",
              "    </tr>\n",
              "    <tr>\n",
              "      <th>99</th>\n",
              "      <td>caution!: these tracks are not the \"original\" ...</td>\n",
              "      <td>0</td>\n",
              "      <td>22</td>\n",
              "    </tr>\n",
              "    <tr>\n",
              "      <th>100</th>\n",
              "      <td>textbook: book shipped quickly and was in exce...</td>\n",
              "      <td>1</td>\n",
              "      <td>16</td>\n",
              "    </tr>\n",
              "    <tr>\n",
              "      <th>243</th>\n",
              "      <td>it was great!!!: i like it. it was very cool t...</td>\n",
              "      <td>1</td>\n",
              "      <td>21</td>\n",
              "    </tr>\n",
              "    <tr>\n",
              "      <th>269</th>\n",
              "      <td>dockers do the job.: this product was just wha...</td>\n",
              "      <td>1</td>\n",
              "      <td>25</td>\n",
              "    </tr>\n",
              "  </tbody>\n",
              "</table>\n",
              "</div>\n",
              "      <button class=\"colab-df-convert\" onclick=\"convertToInteractive('df-cd2618e7-4adf-4bea-8f91-d516bca10453')\"\n",
              "              title=\"Convert this dataframe to an interactive table.\"\n",
              "              style=\"display:none;\">\n",
              "        \n",
              "  <svg xmlns=\"http://www.w3.org/2000/svg\" height=\"24px\"viewBox=\"0 0 24 24\"\n",
              "       width=\"24px\">\n",
              "    <path d=\"M0 0h24v24H0V0z\" fill=\"none\"/>\n",
              "    <path d=\"M18.56 5.44l.94 2.06.94-2.06 2.06-.94-2.06-.94-.94-2.06-.94 2.06-2.06.94zm-11 1L8.5 8.5l.94-2.06 2.06-.94-2.06-.94L8.5 2.5l-.94 2.06-2.06.94zm10 10l.94 2.06.94-2.06 2.06-.94-2.06-.94-.94-2.06-.94 2.06-2.06.94z\"/><path d=\"M17.41 7.96l-1.37-1.37c-.4-.4-.92-.59-1.43-.59-.52 0-1.04.2-1.43.59L10.3 9.45l-7.72 7.72c-.78.78-.78 2.05 0 2.83L4 21.41c.39.39.9.59 1.41.59.51 0 1.02-.2 1.41-.59l7.78-7.78 2.81-2.81c.8-.78.8-2.07 0-2.86zM5.41 20L4 18.59l7.72-7.72 1.47 1.35L5.41 20z\"/>\n",
              "  </svg>\n",
              "      </button>\n",
              "      \n",
              "  <style>\n",
              "    .colab-df-container {\n",
              "      display:flex;\n",
              "      flex-wrap:wrap;\n",
              "      gap: 12px;\n",
              "    }\n",
              "\n",
              "    .colab-df-convert {\n",
              "      background-color: #E8F0FE;\n",
              "      border: none;\n",
              "      border-radius: 50%;\n",
              "      cursor: pointer;\n",
              "      display: none;\n",
              "      fill: #1967D2;\n",
              "      height: 32px;\n",
              "      padding: 0 0 0 0;\n",
              "      width: 32px;\n",
              "    }\n",
              "\n",
              "    .colab-df-convert:hover {\n",
              "      background-color: #E2EBFA;\n",
              "      box-shadow: 0px 1px 2px rgba(60, 64, 67, 0.3), 0px 1px 3px 1px rgba(60, 64, 67, 0.15);\n",
              "      fill: #174EA6;\n",
              "    }\n",
              "\n",
              "    [theme=dark] .colab-df-convert {\n",
              "      background-color: #3B4455;\n",
              "      fill: #D2E3FC;\n",
              "    }\n",
              "\n",
              "    [theme=dark] .colab-df-convert:hover {\n",
              "      background-color: #434B5C;\n",
              "      box-shadow: 0px 1px 3px 1px rgba(0, 0, 0, 0.15);\n",
              "      filter: drop-shadow(0px 1px 2px rgba(0, 0, 0, 0.3));\n",
              "      fill: #FFFFFF;\n",
              "    }\n",
              "  </style>\n",
              "\n",
              "      <script>\n",
              "        const buttonEl =\n",
              "          document.querySelector('#df-cd2618e7-4adf-4bea-8f91-d516bca10453 button.colab-df-convert');\n",
              "        buttonEl.style.display =\n",
              "          google.colab.kernel.accessAllowed ? 'block' : 'none';\n",
              "\n",
              "        async function convertToInteractive(key) {\n",
              "          const element = document.querySelector('#df-cd2618e7-4adf-4bea-8f91-d516bca10453');\n",
              "          const dataTable =\n",
              "            await google.colab.kernel.invokeFunction('convertToInteractive',\n",
              "                                                     [key], {});\n",
              "          if (!dataTable) return;\n",
              "\n",
              "          const docLinkHtml = 'Like what you see? Visit the ' +\n",
              "            '<a target=\"_blank\" href=https://colab.research.google.com/notebooks/data_table.ipynb>data table notebook</a>'\n",
              "            + ' to learn more about interactive tables.';\n",
              "          element.innerHTML = '';\n",
              "          dataTable['output_type'] = 'display_data';\n",
              "          await google.colab.output.renderOutput(dataTable, element);\n",
              "          const docLink = document.createElement('div');\n",
              "          docLink.innerHTML = docLinkHtml;\n",
              "          element.appendChild(docLink);\n",
              "        }\n",
              "      </script>\n",
              "    </div>\n",
              "  </div>\n",
              "  "
            ],
            "text/plain": [
              "                                                   txt  sentiment  \\\n",
              "84   voices from the farm: i have a copy of this bo...          1   \n",
              "99   caution!: these tracks are not the \"original\" ...          0   \n",
              "100  textbook: book shipped quickly and was in exce...          1   \n",
              "243  it was great!!!: i like it. it was very cool t...          1   \n",
              "269  dockers do the job.: this product was just wha...          1   \n",
              "\n",
              "     num_of_words  \n",
              "84             27  \n",
              "99             22  \n",
              "100            16  \n",
              "243            21  \n",
              "269            25  "
            ]
          },
          "execution_count": 51,
          "metadata": {},
          "output_type": "execute_result"
        }
      ],
      "source": [
        "filtered_df.head()"
      ]
    },
    {
      "cell_type": "code",
      "execution_count": 58,
      "metadata": {
        "colab": {
          "base_uri": "https://localhost:8080/"
        },
        "id": "r7hHVggRz6bB",
        "outputId": "96541bbe-e67c-45df-dcee-b571165e0f26"
      },
      "outputs": [
        {
          "name": "stdout",
          "output_type": "stream",
          "text": [
            "<class 'pandas.core.frame.DataFrame'>\n",
            "Int64Index: 1007 entries, 84 to 41255\n",
            "Data columns (total 3 columns):\n",
            " #   Column        Non-Null Count  Dtype \n",
            "---  ------        --------------  ----- \n",
            " 0   txt           1007 non-null   object\n",
            " 1   sentiment     1007 non-null   int64 \n",
            " 2   num_of_words  1007 non-null   int64 \n",
            "dtypes: int64(2), object(1)\n",
            "memory usage: 31.5+ KB\n"
          ]
        }
      ],
      "source": [
        "filtered_df.info()"
      ]
    },
    {
      "cell_type": "code",
      "execution_count": null,
      "metadata": {
        "id": "CQTX_eLN17a5"
      },
      "outputs": [],
      "source": []
    }
  ],
  "metadata": {
    "colab": {
      "provenance": []
    },
    "kernelspec": {
      "display_name": "Python 3",
      "name": "python3"
    },
    "language_info": {
      "name": "python"
    }
  },
  "nbformat": 4,
  "nbformat_minor": 0
}
