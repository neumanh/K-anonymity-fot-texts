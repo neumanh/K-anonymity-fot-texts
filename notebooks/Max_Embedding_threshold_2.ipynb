{
  "nbformat": 4,
  "nbformat_minor": 0,
  "metadata": {
    "colab": {
      "provenance": []
    },
    "kernelspec": {
      "name": "python3",
      "display_name": "Python 3"
    },
    "language_info": {
      "name": "python"
    }
  },
  "cells": [
    {
      "cell_type": "markdown",
      "source": [
        "Find Max Embedding threshold Algorithm:\n",
        "1.\tPrepare in advance 10 pairs of accepted similar words and 10 accepted unsimilar words\n",
        "2.\tSearch for a threshold that lets most of the similar group to pass and most of the unsimilar group to fail\n"
      ],
      "metadata": {
        "id": "dolMi75Aaqhh"
      }
    },
    {
      "cell_type": "markdown",
      "source": [
        "### 10 pairs of very similar words:\n"
      ],
      "metadata": {
        "id": "HfjF_O7Jsifm"
      }
    },
    {
      "cell_type": "code",
      "source": [
        "best_pairs_ls = [\n",
        "    ['good','great'],\n",
        "    ['dog','cat'],\n",
        "    ['green','yellow'],\n",
        "    ['dad','mom'],\n",
        "    ['purchase','buy'],\n",
        "    ['gift','present'],\n",
        "    ['fast','quick'],\n",
        "    ['big','huge'],\n",
        "    ['item','product'],\n",
        "    ['text','script']]"
      ],
      "metadata": {
        "id": "RrZYMb8gsleX"
      },
      "execution_count": 1,
      "outputs": []
    },
    {
      "cell_type": "markdown",
      "source": [
        "### 10 pairs of very un-similar words:"
      ],
      "metadata": {
        "id": "wnvLNtv3sll_"
      }
    },
    {
      "cell_type": "markdown",
      "source": [
        "### we wanted to take opposites since they have a semantic meaning that will help us later in our task"
      ],
      "metadata": {
        "id": "rUQo_QuF1SXK"
      }
    },
    {
      "cell_type": "code",
      "source": [
        "worst_pairs_ls = [\n",
        "    ['good','bad'],\n",
        "    ['thin','fat'],\n",
        "    ['black','white'],\n",
        "    ['tall','small'],\n",
        "    ['boy','buy'],\n",
        "    ['novel','old'],\n",
        "    ['high','low'],\n",
        "    ['hot','cold'],\n",
        "    ['strong','week'],\n",
        "    ['poor','rich']]"
      ],
      "metadata": {
        "id": "ELbX_R1ysh-M"
      },
      "execution_count": 2,
      "outputs": []
    },
    {
      "cell_type": "markdown",
      "source": [
        "### using glove to get words embeddings"
      ],
      "metadata": {
        "id": "0KFXWVkmT9vB"
      }
    },
    {
      "cell_type": "code",
      "source": [
        "# imports\n",
        "import pandas as pd\n",
        "import numpy as np\n",
        "import itertools\n",
        "import matplotlib.pyplot as plt\n"
      ],
      "metadata": {
        "id": "OuFXA8ojob1S"
      },
      "execution_count": 30,
      "outputs": []
    },
    {
      "cell_type": "code",
      "source": [
        "# upload model:\n",
        "import gensim.downloader as api\n",
        "glove_model = api.load('glove-twitter-25')"
      ],
      "metadata": {
        "colab": {
          "base_uri": "https://localhost:8080/"
        },
        "id": "OEU5zVnbvQRf",
        "outputId": "865a1021-14b7-4969-d1eb-367f1fb09db9"
      },
      "execution_count": 4,
      "outputs": [
        {
          "output_type": "stream",
          "name": "stdout",
          "text": [
            "[==================================================] 100.0% 104.8/104.8MB downloaded\n"
          ]
        }
      ]
    },
    {
      "cell_type": "code",
      "source": [
        "# flatten both lists above:\n",
        "flat_best_pairs_ls = list(itertools.chain.from_iterable(best_pairs_ls))\n",
        "flat_worst_pairs_ls = list(itertools.chain.from_iterable(worst_pairs_ls))\n",
        "\n",
        "X = flat_best_pairs_ls + flat_worst_pairs_ls"
      ],
      "metadata": {
        "id": "tQkdqHK2vkNm"
      },
      "execution_count": 5,
      "outputs": []
    },
    {
      "cell_type": "code",
      "source": [
        "from keras.preprocessing.text import Tokenizer\n",
        "vocab_size = 10000\n",
        "oov_token = \"<OOV>\"  # words OOV\n",
        "tokenizer = Tokenizer(num_words = vocab_size, oov_token=oov_token)\n",
        "tokenizer.fit_on_texts(X)"
      ],
      "metadata": {
        "id": "9ZU_lPqBwxy2"
      },
      "execution_count": 6,
      "outputs": []
    },
    {
      "cell_type": "code",
      "source": [
        "# mapping of the words to numbers\n",
        "word_index = tokenizer.word_index"
      ],
      "metadata": {
        "id": "RcjXEL1Xw_Y_"
      },
      "execution_count": 7,
      "outputs": []
    },
    {
      "cell_type": "code",
      "source": [
        "# define stop words\n",
        "import nltk\n",
        "nltk.download('stopwords')\n",
        "from nltk.corpus import stopwords\n",
        "\n",
        "sw = stopwords.words('english')"
      ],
      "metadata": {
        "colab": {
          "base_uri": "https://localhost:8080/"
        },
        "outputId": "1419a533-fb99-443a-f377-2e8f0d2b0aff",
        "id": "b3jrBfvow_Y_"
      },
      "execution_count": 8,
      "outputs": [
        {
          "output_type": "stream",
          "name": "stderr",
          "text": [
            "[nltk_data] Downloading package stopwords to /root/nltk_data...\n",
            "[nltk_data]   Unzipping corpora/stopwords.zip.\n"
          ]
        }
      ]
    },
    {
      "cell_type": "code",
      "source": [
        "# Iterate over your dictionary of words and embed them using GloVe\n",
        "embedded_dict = {}\n",
        "for word, idx in word_index.items():\n",
        "    if word in sw:\n",
        "      print(word)\n",
        "    if word not in sw:\n",
        "        try:\n",
        "            embedded_dict[word] = glove_model[word]\n",
        "        except KeyError:\n",
        "            # If the word is not in the GloVe vocabulary, assign a default embedding or skip it\n",
        "            pass"
      ],
      "metadata": {
        "id": "_4UKIL7yw_Y_"
      },
      "execution_count": 9,
      "outputs": []
    },
    {
      "cell_type": "markdown",
      "source": [
        "use the above embedings and return a vectore of cosine distances between the words in each pair"
      ],
      "metadata": {
        "id": "a5fjkSwKxSHg"
      }
    },
    {
      "cell_type": "markdown",
      "source": [
        "calc dist between each pair of words:"
      ],
      "metadata": {
        "id": "J_fxU44FypJk"
      }
    },
    {
      "cell_type": "code",
      "source": [
        "sim_list_best = []\n",
        "\n",
        "for pair in best_pairs_ls:\n",
        "  #print(pair)\n",
        "  # calc cosine dist between w1 and w2\n",
        "  emb1 = embedded_dict[pair[0]]\n",
        "  emb2 = embedded_dict[pair[1]]\n",
        "  similarity = np.dot(emb1, emb2) / (np.linalg.norm(emb1) * np.linalg.norm(emb2))\n",
        "  sim_list_best.append(similarity)\n",
        "\n",
        "  print(pair[0],pair[1],similarity)"
      ],
      "metadata": {
        "colab": {
          "base_uri": "https://localhost:8080/"
        },
        "id": "2iewB17ExGtv",
        "outputId": "e4ac9942-e356-457b-b607-86da2e51bfe9"
      },
      "execution_count": 10,
      "outputs": [
        {
          "output_type": "stream",
          "name": "stdout",
          "text": [
            "good great 0.9378517\n",
            "dog cat 0.959082\n",
            "green yellow 0.9095074\n",
            "dad mom 0.98429936\n",
            "purchase buy 0.9019171\n",
            "gift present 0.8497384\n",
            "fast quick 0.8828085\n",
            "big huge 0.8811403\n",
            "item product 0.70012844\n",
            "text script 0.5802373\n"
          ]
        }
      ]
    },
    {
      "cell_type": "code",
      "source": [
        "sim_list_worst = []\n",
        "for pair in worst_pairs_ls:\n",
        "  #print(pair)\n",
        "  # calc cosine dist between w1 and w2\n",
        "  emb1 = embedded_dict[pair[0]]\n",
        "  emb2 = embedded_dict[pair[1]]\n",
        "  similarity = np.dot(emb1, emb2) / (np.linalg.norm(emb1) * np.linalg.norm(emb2))\n",
        "  sim_list_worst.append(similarity)\n",
        "  print(pair[0],pair[1],similarity)"
      ],
      "metadata": {
        "colab": {
          "base_uri": "https://localhost:8080/"
        },
        "id": "ZPq6UJQv0TcO",
        "outputId": "2af34cdf-ea21-4393-f9e5-c229f4692afb"
      },
      "execution_count": 11,
      "outputs": [
        {
          "output_type": "stream",
          "name": "stdout",
          "text": [
            "good bad 0.914787\n",
            "thin fat 0.8174718\n",
            "black white 0.9801281\n",
            "tall small 0.84290236\n",
            "boy buy 0.736734\n",
            "novel old 0.5412349\n",
            "high low 0.8755867\n",
            "hot cold 0.76983505\n",
            "strong week 0.6098519\n",
            "poor rich 0.7939414\n"
          ]
        }
      ]
    },
    {
      "cell_type": "markdown",
      "source": [
        "calc mean distance for good and bad pairs:"
      ],
      "metadata": {
        "id": "FwoeHHmt1yrh"
      }
    },
    {
      "cell_type": "code",
      "source": [
        "mean_best = np.mean(sim_list_best)\n",
        "mean_best\n",
        "best_dist = 1 - mean_best\n",
        "print(f'mean dist between very similar words:{best_dist}')"
      ],
      "metadata": {
        "colab": {
          "base_uri": "https://localhost:8080/"
        },
        "id": "ObdoZE34xGwK",
        "outputId": "8d805243-a1c8-470c-d187-3afe8794462d"
      },
      "execution_count": 12,
      "outputs": [
        {
          "output_type": "stream",
          "name": "stdout",
          "text": [
            "mean dist between very similar words:0.14132893085479736\n"
          ]
        }
      ]
    },
    {
      "cell_type": "code",
      "source": [
        "mean_worst = np.mean(sim_list_worst)\n",
        "mean_worst\n",
        "worst_dist = 1 - mean_worst\n",
        "print(f'mean dist between very different words:{worst_dist}')"
      ],
      "metadata": {
        "colab": {
          "base_uri": "https://localhost:8080/"
        },
        "id": "kBbtH9FcxGzO",
        "outputId": "5c43652e-6bf9-43c7-db73-55a1cd3856af"
      },
      "execution_count": 13,
      "outputs": [
        {
          "output_type": "stream",
          "name": "stdout",
          "text": [
            "mean dist between very different words:0.21175271272659302\n"
          ]
        }
      ]
    },
    {
      "cell_type": "markdown",
      "source": [
        "##  Intermidiate conclusion, our threshold for cluster max_dist should be in the middle of the two values above = 0.1765"
      ],
      "metadata": {
        "id": "-r4rMpugVzkE"
      }
    },
    {
      "cell_type": "code",
      "source": [
        "(best_dist+worst_dist)/2"
      ],
      "metadata": {
        "colab": {
          "base_uri": "https://localhost:8080/"
        },
        "id": "F80wtRn8V9B8",
        "outputId": "8f4fd8dd-1f28-459a-c4f9-1cf706adbdd0"
      },
      "execution_count": 14,
      "outputs": [
        {
          "output_type": "execute_result",
          "data": {
            "text/plain": [
              "0.1765408217906952"
            ]
          },
          "metadata": {},
          "execution_count": 14
        }
      ]
    },
    {
      "cell_type": "markdown",
      "source": [
        "### embeding out 1000 documents using glove"
      ],
      "metadata": {
        "id": "BVy1PdMLWwqN"
      }
    },
    {
      "cell_type": "code",
      "source": [
        "# load our dataset - 1000 documents from Amazon reviews (Kaggle)\n",
        "df = pd.read_csv('df_filtered.csv')"
      ],
      "metadata": {
        "id": "e9mVkOY5siKS"
      },
      "execution_count": 15,
      "outputs": []
    },
    {
      "cell_type": "code",
      "source": [
        "# work on a copy\n",
        "# embed using glove\n",
        "df_copy = df.copy()"
      ],
      "metadata": {
        "id": "T7668ZpHsiM0"
      },
      "execution_count": 17,
      "outputs": []
    },
    {
      "cell_type": "code",
      "source": [
        "X = df_copy['txt']\n",
        "y = df_copy['sentiment']  # currently not in use"
      ],
      "metadata": {
        "id": "dQFB1SFIXLbn"
      },
      "execution_count": 18,
      "outputs": []
    },
    {
      "cell_type": "code",
      "source": [
        "from keras.preprocessing.text import Tokenizer\n",
        "vocab_size = 10000\n",
        "oov_token = \"<OOV>\"  # words OOV\n",
        "tokenizer = Tokenizer(num_words = vocab_size, oov_token=oov_token)\n",
        "tokenizer.fit_on_texts(X)"
      ],
      "metadata": {
        "id": "HM-4FBLmXLbo"
      },
      "execution_count": 19,
      "outputs": []
    },
    {
      "cell_type": "code",
      "source": [
        "# mapping of the words to numbers\n",
        "word_index = tokenizer.word_index"
      ],
      "metadata": {
        "id": "eMZX0QOzYIGY"
      },
      "execution_count": 20,
      "outputs": []
    },
    {
      "cell_type": "code",
      "source": [
        "# Iterate over your dictionary of words and embed them using GloVe\n",
        "embedded_dict = {}\n",
        "for word, idx in word_index.items():\n",
        "    if word in sw:\n",
        "      print(word)\n",
        "    if word not in sw:\n",
        "        try:\n",
        "            embedded_dict[word] = glove_model[word]\n",
        "        except KeyError:\n",
        "            # If the word is not in the GloVe vocabulary, assign a default embedding or skip it\n",
        "            pass"
      ],
      "metadata": {
        "colab": {
          "base_uri": "https://localhost:8080/"
        },
        "id": "ruJtxKQqYIGZ",
        "outputId": "cf3a0741-7521-420c-823e-ee72696a308a"
      },
      "execution_count": 21,
      "outputs": [
        {
          "output_type": "stream",
          "name": "stdout",
          "text": [
            "the\n",
            "i\n",
            "it\n",
            "this\n",
            "and\n",
            "a\n",
            "is\n",
            "to\n",
            "was\n",
            "of\n",
            "for\n",
            "in\n",
            "not\n",
            "very\n",
            "my\n",
            "have\n",
            "with\n",
            "but\n",
            "you\n",
            "on\n",
            "all\n",
            "that\n",
            "as\n",
            "just\n",
            "what\n",
            "are\n",
            "so\n",
            "be\n",
            "if\n",
            "will\n",
            "at\n",
            "had\n",
            "again\n",
            "am\n",
            "an\n",
            "no\n",
            "did\n",
            "from\n",
            "me\n",
            "has\n",
            "about\n",
            "it's\n",
            "they\n",
            "more\n",
            "do\n",
            "too\n",
            "any\n",
            "these\n",
            "he\n",
            "them\n",
            "out\n",
            "over\n",
            "when\n",
            "up\n",
            "who\n",
            "than\n",
            "your\n",
            "been\n",
            "can\n",
            "didn't\n",
            "only\n",
            "don't\n",
            "now\n",
            "there\n",
            "we\n",
            "most\n",
            "then\n",
            "by\n",
            "were\n",
            "or\n",
            "other\n",
            "its\n",
            "she\n",
            "his\n",
            "her\n",
            "because\n",
            "some\n",
            "down\n",
            "into\n",
            "couldn't\n",
            "should\n",
            "their\n",
            "after\n",
            "few\n",
            "how\n",
            "doesn't\n",
            "does\n",
            "before\n",
            "wasn't\n",
            "same\n",
            "own\n",
            "our\n",
            "through\n",
            "those\n",
            "once\n",
            "which\n",
            "off\n",
            "such\n",
            "you're\n",
            "being\n",
            "wouldn't\n",
            "haven't\n",
            "myself\n",
            "d\n",
            "you'll\n",
            "why\n",
            "both\n",
            "re\n",
            "s\n",
            "until\n",
            "between\n",
            "you've\n",
            "under\n",
            "while\n",
            "him\n",
            "where\n",
            "isn't\n",
            "here\n",
            "doing\n",
            "above\n",
            "having\n",
            "won't\n",
            "hasn't\n",
            "ll\n",
            "hadn't\n",
            "nor\n",
            "ma\n",
            "won\n",
            "against\n",
            "aren't\n",
            "each\n",
            "herself\n",
            "during\n",
            "yourself\n",
            "itself\n",
            "t\n"
          ]
        }
      ]
    },
    {
      "cell_type": "code",
      "source": [
        "embeddings = np.array(list(embedded_dict.values())) # the vectors as np.array"
      ],
      "metadata": {
        "id": "0cHbsfGlYprf"
      },
      "execution_count": 22,
      "outputs": []
    },
    {
      "cell_type": "markdown",
      "source": [
        "## Clustering using Dbscan"
      ],
      "metadata": {
        "id": "yoXMUyKKYqQA"
      }
    },
    {
      "cell_type": "code",
      "source": [
        "from sklearn.cluster import DBSCAN\n"
      ],
      "metadata": {
        "id": "Qwm_UaqRYZjm"
      },
      "execution_count": 23,
      "outputs": []
    },
    {
      "cell_type": "code",
      "source": [
        "## DBSCAN \n",
        "!pip install --upgrade kneed"
      ],
      "metadata": {
        "colab": {
          "base_uri": "https://localhost:8080/"
        },
        "id": "mp6R0RyuYZms",
        "outputId": "6df77e47-c251-4526-b8b6-cec16388ae31"
      },
      "execution_count": 24,
      "outputs": [
        {
          "output_type": "stream",
          "name": "stdout",
          "text": [
            "Looking in indexes: https://pypi.org/simple, https://us-python.pkg.dev/colab-wheels/public/simple/\n",
            "Collecting kneed\n",
            "  Downloading kneed-0.8.2-py3-none-any.whl (10 kB)\n",
            "Requirement already satisfied: scipy>=1.0.0 in /usr/local/lib/python3.9/dist-packages (from kneed) (1.10.1)\n",
            "Requirement already satisfied: numpy>=1.14.2 in /usr/local/lib/python3.9/dist-packages (from kneed) (1.22.4)\n",
            "Installing collected packages: kneed\n",
            "Successfully installed kneed-0.8.2\n"
          ]
        }
      ]
    },
    {
      "cell_type": "code",
      "source": [
        "## CODE USED TO FINED EPS VALUE == NO NEED TO RUN THIS AGAIN\n",
        "if True: \n",
        "    from kneed import KneeLocator\n",
        "    from sklearn.neighbors import NearestNeighbors\n",
        "\n",
        "    # Compute the k-distances for each point\n",
        "    k = 3\n",
        "    neigh = NearestNeighbors(n_neighbors=k,metric = 'cosine')\n",
        "    neigh.fit(embeddings)\n",
        "    distances, indices = neigh.kneighbors(embeddings)\n",
        "\n",
        "    # Sort the distances and flatten them into a 1D array\n",
        "    sorted_distances = np.sort(distances[:,k-1], axis=None)\n",
        "\n",
        "    # Plot the k-distance graph\n",
        "    plt.plot(sorted_distances)\n",
        "\n",
        "    # Find the elbow point\n",
        "    kneedle = KneeLocator(range(len(sorted_distances)), sorted_distances, S=1.0, curve='concave', direction='increasing')\n",
        "    eps = sorted_distances[kneedle.elbow]\n",
        "\n",
        "    print(f\"Estimated eps value: {eps}\")\n",
        "    first_run=False"
      ],
      "metadata": {
        "colab": {
          "base_uri": "https://localhost:8080/",
          "height": 447
        },
        "id": "akHyO66tZWQu",
        "outputId": "34fa8f0e-54ca-4b67-af6a-6deacc63ce6f"
      },
      "execution_count": 31,
      "outputs": [
        {
          "output_type": "stream",
          "name": "stdout",
          "text": [
            "Estimated eps value: 0.028615295886993408\n"
          ]
        },
        {
          "output_type": "display_data",
          "data": {
            "text/plain": [
              "<Figure size 640x480 with 1 Axes>"
            ],
            "image/png": "[encoded data removed]"
          },
          "metadata": {}
        }
      ]
    },
    {
      "cell_type": "code",
      "source": [
        "# metric='cosine'\n",
        "dbscan = DBSCAN(eps=0.028, min_samples=2, metric='cosine')  "
      ],
      "metadata": {
        "id": "upAJ71QlZWQ2"
      },
      "execution_count": 32,
      "outputs": []
    },
    {
      "cell_type": "code",
      "source": [
        "dbscan.fit(embeddings)\n"
      ],
      "metadata": {
        "colab": {
          "base_uri": "https://localhost:8080/",
          "height": 75
        },
        "outputId": "071f248d-3220-4053-9a5e-6baece4db323",
        "id": "KhLBX1anZWQ2"
      },
      "execution_count": 33,
      "outputs": [
        {
          "output_type": "execute_result",
          "data": {
            "text/plain": [
              "DBSCAN(eps=0.028, metric='cosine', min_samples=2)"
            ],
            "text/html": [
              "<style>#sk-container-id-2 {color: black;background-color: white;}#sk-container-id-2 pre{padding: 0;}#sk-container-id-2 div.sk-toggleable {background-color: white;}#sk-container-id-2 label.sk-toggleable__label {cursor: pointer;display: block;width: 100%;margin-bottom: 0;padding: 0.3em;box-sizing: border-box;text-align: center;}#sk-container-id-2 label.sk-toggleable__label-arrow:before {content: \"▸\";float: left;margin-right: 0.25em;color: #696969;}#sk-container-id-2 label.sk-toggleable__label-arrow:hover:before {color: black;}#sk-container-id-2 div.sk-estimator:hover label.sk-toggleable__label-arrow:before {color: black;}#sk-container-id-2 div.sk-toggleable__content {max-height: 0;max-width: 0;overflow: hidden;text-align: left;background-color: #f0f8ff;}#sk-container-id-2 div.sk-toggleable__content pre {margin: 0.2em;color: black;border-radius: 0.25em;background-color: #f0f8ff;}#sk-container-id-2 input.sk-toggleable__control:checked~div.sk-toggleable__content {max-height: 200px;max-width: 100%;overflow: auto;}#sk-container-id-2 input.sk-toggleable__control:checked~label.sk-toggleable__label-arrow:before {content: \"▾\";}#sk-container-id-2 div.sk-estimator input.sk-toggleable__control:checked~label.sk-toggleable__label {background-color: #d4ebff;}#sk-container-id-2 div.sk-label input.sk-toggleable__control:checked~label.sk-toggleable__label {background-color: #d4ebff;}#sk-container-id-2 input.sk-hidden--visually {border: 0;clip: rect(1px 1px 1px 1px);clip: rect(1px, 1px, 1px, 1px);height: 1px;margin: -1px;overflow: hidden;padding: 0;position: absolute;width: 1px;}#sk-container-id-2 div.sk-estimator {font-family: monospace;background-color: #f0f8ff;border: 1px dotted black;border-radius: 0.25em;box-sizing: border-box;margin-bottom: 0.5em;}#sk-container-id-2 div.sk-estimator:hover {background-color: #d4ebff;}#sk-container-id-2 div.sk-parallel-item::after {content: \"\";width: 100%;border-bottom: 1px solid gray;flex-grow: 1;}#sk-container-id-2 div.sk-label:hover label.sk-toggleable__label {background-color: #d4ebff;}#sk-container-id-2 div.sk-serial::before {content: \"\";position: absolute;border-left: 1px solid gray;box-sizing: border-box;top: 0;bottom: 0;left: 50%;z-index: 0;}#sk-container-id-2 div.sk-serial {display: flex;flex-direction: column;align-items: center;background-color: white;padding-right: 0.2em;padding-left: 0.2em;position: relative;}#sk-container-id-2 div.sk-item {position: relative;z-index: 1;}#sk-container-id-2 div.sk-parallel {display: flex;align-items: stretch;justify-content: center;background-color: white;position: relative;}#sk-container-id-2 div.sk-item::before, #sk-container-id-2 div.sk-parallel-item::before {content: \"\";position: absolute;border-left: 1px solid gray;box-sizing: border-box;top: 0;bottom: 0;left: 50%;z-index: -1;}#sk-container-id-2 div.sk-parallel-item {display: flex;flex-direction: column;z-index: 1;position: relative;background-color: white;}#sk-container-id-2 div.sk-parallel-item:first-child::after {align-self: flex-end;width: 50%;}#sk-container-id-2 div.sk-parallel-item:last-child::after {align-self: flex-start;width: 50%;}#sk-container-id-2 div.sk-parallel-item:only-child::after {width: 0;}#sk-container-id-2 div.sk-dashed-wrapped {border: 1px dashed gray;margin: 0 0.4em 0.5em 0.4em;box-sizing: border-box;padding-bottom: 0.4em;background-color: white;}#sk-container-id-2 div.sk-label label {font-family: monospace;font-weight: bold;display: inline-block;line-height: 1.2em;}#sk-container-id-2 div.sk-label-container {text-align: center;}#sk-container-id-2 div.sk-container {/* jupyter's `normalize.less` sets `[hidden] { display: none; }` but bootstrap.min.css set `[hidden] { display: none !important; }` so we also need the `!important` here to be able to override the default hidden behavior on the sphinx rendered scikit-learn.org. See: https://github.com/scikit-learn/scikit-learn/issues/21755 */display: inline-block !important;position: relative;}#sk-container-id-2 div.sk-text-repr-fallback {display: none;}</style><div id=\"sk-container-id-2\" class=\"sk-top-container\"><div class=\"sk-text-repr-fallback\"><pre>DBSCAN(eps=0.028, metric=&#x27;cosine&#x27;, min_samples=2)</pre><b>In a Jupyter environment, please rerun this cell to show the HTML representation or trust the notebook. <br />On GitHub, the HTML representation is unable to render, please try loading this page with nbviewer.org.</b></div><div class=\"sk-container\" hidden><div class=\"sk-item\"><div class=\"sk-estimator sk-toggleable\"><input class=\"sk-toggleable__control sk-hidden--visually\" id=\"sk-estimator-id-2\" type=\"checkbox\" checked><label for=\"sk-estimator-id-2\" class=\"sk-toggleable__label sk-toggleable__label-arrow\">DBSCAN</label><div class=\"sk-toggleable__content\"><pre>DBSCAN(eps=0.028, metric=&#x27;cosine&#x27;, min_samples=2)</pre></div></div></div></div></div>"
            ]
          },
          "metadata": {},
          "execution_count": 33
        }
      ]
    },
    {
      "cell_type": "code",
      "source": [
        "labels = dbscan.labels_\n",
        "set(labels)"
      ],
      "metadata": {
        "colab": {
          "base_uri": "https://localhost:8080/"
        },
        "id": "p3VxNpbUYZpU",
        "outputId": "9711b7e7-e1e3-4da2-bf14-41e69f3e80b5"
      },
      "execution_count": 34,
      "outputs": [
        {
          "output_type": "execute_result",
          "data": {
            "text/plain": [
              "{-1, 0, 1, 2, 3, 4, 5, 6, 7, 8, 9, 10, 11, 12, 13, 14, 15, 16, 17, 18, 19}"
            ]
          },
          "metadata": {},
          "execution_count": 34
        }
      ]
    },
    {
      "cell_type": "code",
      "source": [
        "clusters = {}\n",
        "for i, key in enumerate(embedded_dict.keys()):\n",
        "    cluster = labels[i]\n",
        "    if cluster not in clusters:\n",
        "        clusters[cluster] = []\n",
        "    clusters[cluster].append(key)"
      ],
      "metadata": {
        "id": "YI8aiXgyd3Vk"
      },
      "execution_count": 35,
      "outputs": []
    },
    {
      "cell_type": "markdown",
      "source": [
        "view how many words in each cluster"
      ],
      "metadata": {
        "id": "HvO2aXFyd3Vk"
      }
    },
    {
      "cell_type": "code",
      "source": [
        "for key, val in clusters.items():\n",
        "    print(f'Cluster {key} includes {len(val)} words')"
      ],
      "metadata": {
        "colab": {
          "base_uri": "https://localhost:8080/"
        },
        "outputId": "a418a31f-be98-4fd6-dc95-8b70fe5fc947",
        "id": "_qL2oABHd3Vl"
      },
      "execution_count": 36,
      "outputs": [
        {
          "output_type": "stream",
          "name": "stdout",
          "text": [
            "Cluster -1 includes 2686 words\n",
            "Cluster 0 includes 2 words\n",
            "Cluster 1 includes 6 words\n",
            "Cluster 2 includes 2 words\n",
            "Cluster 3 includes 2 words\n",
            "Cluster 4 includes 2 words\n",
            "Cluster 5 includes 4 words\n",
            "Cluster 6 includes 4 words\n",
            "Cluster 7 includes 3 words\n",
            "Cluster 8 includes 2 words\n",
            "Cluster 9 includes 2 words\n",
            "Cluster 10 includes 3 words\n",
            "Cluster 11 includes 2 words\n",
            "Cluster 12 includes 2 words\n",
            "Cluster 13 includes 2 words\n",
            "Cluster 14 includes 2 words\n",
            "Cluster 15 includes 2 words\n",
            "Cluster 16 includes 2 words\n",
            "Cluster 17 includes 2 words\n",
            "Cluster 18 includes 2 words\n",
            "Cluster 19 includes 2 words\n"
          ]
        }
      ]
    },
    {
      "cell_type": "code",
      "source": [
        "for key, val in clusters.items():\n",
        "    print(f'Cluster {key} includes {(val)} words')"
      ],
      "metadata": {
        "colab": {
          "base_uri": "https://localhost:8080/"
        },
        "id": "kYPiS1HhYZra",
        "outputId": "fc2bb758-bfd1-4018-df59-4a8df6a39936"
      },
      "execution_count": 37,
      "outputs": [
        {
          "output_type": "stream",
          "name": "stdout",
          "text": [
            "Cluster -1 includes ['book', 'great', 'good', 'movie', 'read', 'one', 'love', 'best', 'recommend', 'product', 'like', 'time', 'ever', 'loved', 'price', 'condition', 'story', 'cd', 'excellent', 'classic', 'awesome', 'movies', 'get', 'dvd', 'buy', 'bought', 'books', 'gift', 'perfect', 'quality', 'received', 'purchase', 'well', 'must', 'happy', 'reading', 'got', 'favorite', 'much', 'anyone', 'money', 'looking', 'enjoyed', 'easy', 'arrived', 'little', 'pleased', 'watch', 'album', 'highly', 'work', 'made', 'amazing', 'first', 'see', 'works', 'interesting', 'music', 'service', 'worth', 'better', 'used', 'wonderful', 'use', 'never', 'definitely', 'still', 'nice', 'needed', 'way', 'expected', 'even', 'series', 'boring', 'funny', 'want', 'disappointed', 'copy', 'old', 'pretty', 'hobbit', 'fast', 'worst', 'long', 'item', 'fun', 'loves', 'bad', 'seen', 'film', 'seller', 'ordered', 'enjoy', 'find', 'liked', 'exactly', 'job', 'amazon', 'timely', 'always', 'thanks', 'described', 'purchased', 'game', 'also', 'hard', 'put', 'order', 'fan', 'found', 'review', 'every', 'wanted', 'waste', 'everyone', 'lot', 'play', 'shipped', 'say', 'new', 'lord', 'version', 'written', 'set', 'thank', 'watching', 'quickly', 'going', 'kindle', 'school', 'acting', 'value', 'songs', 'yet', 'poor', 'original', 'cool', 'deal', 'christmas', 'size', 'since', 'fantastic', 'makes', 'end', 'ray', 'title', 'beautiful', 'times', 'worked', 'class', 'bit', 'delivery', 'information', 'glad', 'life', 'collection', 'big', 'characters', 'day', 'come', 'satisfied', 'family', 'believe', 'wait', 'shipping', 'full', 'son', 'small', 'back', 'edition', 'simple', 'history', 'keep', 'absolutely', 'part', 'kids', 'different', 'blu', 'far', 'fine', 'next', 'rings', 'fans', 'wear', 'fit', 'wish', 'video', 'manner', 'friend', 'years', 'problems', 'overall', 'sure', 'author', 'saw', 'stuff', 'diapers', 'batman', 'true', 'awful', 'look', 'kid', 'shape', 'enough', 'helpful', 'make', 'need', 'many', 'already', 'days', 'friends', 'entertaining', 'go', 'ok', 'another', 'ages', 'quite', 'disappointing', 'needs', 'short', 'picture', 'pages', 'thing', 'recipes', 'reasonable', 'world', 'listen', 'song', 'please', 'hope', 'done', 'granddaughter', 'seems', 'else', 'john', 'started', 'start', 'show', 'cute', 'beginning', 'pampers', 'cheap', 'enjoyable', 'second', 'transaction', 'women', 'english', 'give', 'whole', 'year', 'u', 'reference', 'plot', 'receive', 'recommended', 'around', 'forward', 'type', 'action', 'difficult', 'others', 'case', 'third', 'looks', 'last', 'keeps', 'real', 'dvds', 'without', 'child', 'disc', 'clear', 'stated', 'reviews', 'within', 'weight', 'high', 'clean', 'especially', 'piece', 'likes', 'pieces', 'plus', 'j', 'effects', 'people', 'tv', 'future', 'totally', 'comfortable', 'trilogy', 'useful', 'college', 'enjoying', 'wow', 'slow', 'toy', 'simply', 'kept', 'wrong', 'finish', 'novel', 'several', 'line', 'someone', 'baby', 'person', 'dark', 'business', 'coffee', 'interested', 'may', 'install', 'children', 'page', 'adventure', 'versions', 'week', 'humor', 'kind', 'seem', 'try', 'early', 'take', 'completely', 'students', 'late', 'priced', 'gun', 'remember', 'follow', 'brand', 'heard', 'entire', 'weird', 'free', 'transformers', 'delivered', 'lots', 'hilarious', 'concert', 'promptly', 'audio', 'gives', 'halloween', 'writing', 'rest', 'surprised', 'advertised', 'chocolate', 'greatest', 'place', 'players', 'computer', 'says', 'moving', 'although', 'info', 'words', 'cover', 'kit', 'understand', 'illustrations', 'add', 'quick', 'young', 'listened', 'getting', 'missing', 'buying', 'live', 'frame', 'fascinating', 'prompt', 'clay', 'player', 'fact', 'reader', 'adults', 'spongebob', 'recomend', 'thumbs', 'lovely', 'view', 'learning', 'takes', 'finished', 'required', 'hdmi', 'cable', 'watched', 'fab', 'text', 'average', 'entertainment', 'scenes', 'comes', 'tracks', 'today', 'help', 'downloaded', 'tale', 'soon', 'ease', 'waiting', 'plain', 'sometimes', 'cannot', 'print', 'literature', 'speed', 'extra', 'word', 'listening', 'star', 'side', 'extremely', 'items', 'girl', 'date', 'addition', 'ones', 'fashion', 'boot', 'middle', 'okay', 'company', 'comedy', 'month', 'alot', 'readers', 'loose', 'charger', 'lost', 'making', 'hockey', 'favorites', 'british', 'realize', 'stargate', 'huge', 'played', 'errors', 'truly', 'stupid', 'dont', 'bar', 'hear', 'dictionary', 'things', 'using', 'content', 'sense', 'incredible', 'classics', 'fabulous', 'compact', 'less', 'heavy', 'able', 'guess', 'hate', 'easily', 'material', 'point', 'light', 'terrific', 'surprise', 'shows', 'art', 'science', 'fiction', 'region', 'radio', 'sent', 'albums', 'durable', 'sorry', 'maybe', 'barely', 'american', 'ring', 'grandson', 'universe', 'christian', 'flies', 'library', 'dated', 'ncis', 'god', 'exciting', 'customer', 'ask', 'ahead', 'eragon', 'tolkien', 'night', 'hoping', 'suspense', 'present', 'adam', 'sandler', 'amazed', 'learned', 'returned', 'men', 'sad', 'cause', 'strong', 'woman', 'experience', 'friendly', 'apart', 'brown', 'vhs', 'style', 'journey', 'major', 'laugh', 'informative', 'ryu', 'knowledge', 'costume', 'costumes', 'cooking', 'hardly', 'pay', 'might', 'fair', 'recording', 'smells', 'sound', 'coming', 'loving', 'language', 'decent', 'hot', 'release', 'paid', 'rocks', 'screen', 'effort', 'soundtrack', 'birthday', 'fits', 'beginner', 'ideas', 'puzzle', 'bunch', 'water', 'actual', 'half', 'list', 'excited', 'hold', 'cds', 'anywhere', 'tried', 'source', 'age', 'otherwise', 'inspirational', 'greatly', 'promised', 'mail', 'summer', 'liking', 'feel', 'films', 'actors', 'receiving', 'opinion', 'flick', 'character', 'horror', 'given', 'confusing', 'recieved', 'cast', 'stay', 'super', 'expect', 'mostly', 'across', 'searching', 'reccomend', 'added', 'windows', 'months', 'parts', 'wayne', 'ford', 'move', 'cup', 'dry', 'leak', 'almost', 'filled', 'system', 'criminal', 'dryer', 'misleading', 'valuable', 'bible', 'break', 'sale', 'playing', 'stinks', 'tivo', 'replacement', 'taste', 'study', 'human', 'thin', 'happier', 'gets', 'recordings', 'tight', 'yes', 'thoroughly', 'dumb', 'results', 'angel', 'voice', 'kinds', 'dreams', 'stores', 'historical', 'backgammon', 'begins', 'theater', 'comics', 'available', 'close', 'products', 'com', 'daily', 'grade', 'bother', 'supposed', 'cried', 'relationship', 'accurate', 'translation', 'dance', 'description', 'frequently', 'damage', 'marvel', 'covers', 'thrilled', 'tired', 'cry', 'everyday', 'crap', 'detail', 'hated', 'immediately', 'seats', 'ebook', 'harry', 'pinyin', 'warriors', 'anolon', 'walk', 'buffy', 'complete', 'native', 'stop', 'giving', 'impossible', 'french', 'scary', 'pinocchio', 'disney', 'us', 'ago', 'entertained', 'packaged', 'changed', 'cb', 'enjoys', 'pictures', 'impressed', 'home', 'digital', 'wanting', 'helmet', 'fantasy', 'farm', 'weeks', 'recorded', 'remastered', 'textbook', 'problem', 'scarpetta', 'number', 'lessons', 'usually', 'benefit', 'ridiculously', 'bored', 'figure', 'appreciated', 'microwave', 'charlie', 'provides', 'require', 'deluxe', 'color', 'ibook', 'amount', 'dolly', 'parton', 'grass', 'blue', 'bluegrass', 'baseball', 'opened', 'turning', 'brother', 'production', 'serious', 'topic', 'stars', 'listenable', 'track', 'autobiography', 'mother', 'necklace', 'often', 'poorly', 'writers', 'sounds', 'singers', 'brilliant', 'kerouac', 'transformer', 'unbelievable', 'merchandise', 'course', 'definitly', 'graphics', 'e', 'lorna', 'suspenders', 'boots', 'explained', 'together', 'asimov', 'yesterday', 'huh', 'actor', 'placed', 'helped', 'papers', 'waterproof', 'inside', 'head', 'rabbit', 'thick', 'talking', 'gave', 'ended', 'tragedy', 'mixer', 'scanner', 'encountered', 'scan', 'working', 'intersting', 'eyes', 'mind', 'excelent', 'card', 'selling', 'packed', 'moby', 'awsome', 'batteries', 'cant', 'group', 'dream', 'singer', 'unfortunately', 'desired', 'headphones', 'cheaper', 'replace', 'beginners', 'tear', 'script', 'nonsense', 'footage', 'gotten', 'thomas', 'wonderfully', 'charm', 'recent', 'tunes', 'playtex', 'bottles', 'imaginative', 'bookstore', 'suspenseful', 'strongly', 'later', 'messages', 'insightful', 'trash', 'informational', 'outstanding', 'bike', 'single', 'nickelodeon', 'unless', 'death', 'beware', 'door', 'repair', 'pointless', 'jumps', 'illustrated', 'prologue', 'trip', 'record', 'bootleg', 'annoyed', 'thru', 'retailer', 'langston', 'cook', 'certainly', 'outdated', 'filed', 'claim', 'medical', 'house', 'vista', 'chapter', 'contents', 'lesson', 'directing', 'henry', 'temple', 'rate', 'uplifting', 'choice', 'creepy', 'indicated', 'watches', 'warm', 'warmer', 'mr', 'searched', 'died', 'spells', 'moonstruck', 'warning', 'pan', 'saved', 'expecting', 'diaper', 'skin', 'based', 'pictured', 'website', 'took', 'forever', 'app', 'minute', 'events', 'bonds', 'split', 'insights', 'washer', 'behind', 'moon', 'disappointment', 'joy', 'leave', 'ed', 'companion', 'phone', 'durability', 'sucked', 'disturbing', 'predictable', 'mention', 'prayer', 'caine', 'bomb', 'cat', 'pad', 'falling', 'cold', 'yeah', 'practice', 'depiction', 'functional', 'match', 'setup', 'expensive', 'mice', 'morals', 'sisters', 'magnificent', 'complicated', 'trick', 'worthy', 'attention', 'response', 'situation', 'subject', 'shirt', 'earth', 'wasted', 'wrapped', 'spent', 'prince', 'redhead', 'facial', 'hour', 'adorable', 'alike', 'finally', 'rated', 'photos', 'crazy', 'woods', 'straps', 'patrick', 'nephew', 'threw', 'box', 'slip', 'tesla', 'rather', 'contacted', 'conclusion', 'fell', 'pleasantly', 'call', 'unique', 'hesitate', 'usa', 'relaxed', 'message', 'management', 'workbook', 'religion', 'issues', 'lisa', 'non', 'ship', 'hill', 'w', 'conjunction', 'due', 'guide', 'code', 'instead', 'annoying', 'dr', 'treated', 'idea', 'loses', 'sweet', 'thinking', 'sex', 'mistake', 'tree', 'turner', 'seeing', 'suggest', 'desk', 'looked', 'matches', 'hit', 'travel', 'programmer', 'comedies', 'keeper', 'understated', 'encyclopedia', 'sites', 'shelf', 'drama', 'remakes', 'ordering', 'depressing', 'steamer', 'basic', 'wool', 'playstation', 'dd', 'tenchi', 'seemed', 'comfort', 'engaging', 'holds', 'cheesy', 'pleasure', 'reason', 'thats', 'mine', 'seat', 'seams', 'upon', 'putting', 'least', 'neck', 'sequel', 'warrior', 'cats', 'tasted', 'saucepan', 'exception', 'disappointingly', 'de', 'niro', 'freedom', 'ladysmith', 'poignant', 'upbeat', 'africa', 'vampire', 'paper', 'naval', 'investigative', 'pick', 'regular', 'uncle', 'appreciate', 'gladly', 'da', 'become', 'vocabulary', 'boy', 'compared', 'tao', 'master', 'notes', 'binoculars', 'mission', 'twists', 'turns', 'step', 'scratches', 'bears', 'zombie', 'ending', 'updated', 'plays', 'share', 'dumas', 'transfer', 'includes', 'miss', 'artist', 'etc', 'c', 'large', 'room', 'pink', 'princess', 'poodle', 'niece', 'travels', 'effective', 'site', 'supplemental', 'published', 'diet', 'worse', 'surf', 'shower', 'copies', 'julie', 'julia', 'tobey', 'pump', 'filter', 'genre', 'artists', 'lumix', 'ansel', 'adams', \"'cause\", 'customs', 'pacifier', 'package', 'condoms', 'didnt', 'weak', 'cookbook', 'shoe', 'car', 'reasonably', 'stayed', 'potter', 'adult', 'heart', 'hobbits', 'plan', 'bye', 'remote', 'honor', 'creative', 'sports', 'selection', 'worthwhile', 'merlin', 'cap', 'reel', 'steer', 'sick', 'twisted', 'voices', 'til', 'revised', 'caution', 'whether', 'irrelevant', 'vampires', 'legendary', 'dockers', 'essay', 'defined', 'political', 'romanticism', 'cornwell', 'collects', 'possibly', 'rubbish', 'purchases', 'myopic', 'libertarian', 'apology', 'according', 'chart', 'measurements', 'uncomfortable', 'cardio', 'loss', 'hide', 'secrets', 'currently', 'xl', 'xs', 'return', 'x', 'birmingham', 'longer', 'chapters', 'nook', 'doesnt', 'tears', 'scarlett', 'letter', 'sentences', 'let', 'society', 'bring', 'pls', 'settlers', 'user', 'dish', 'cleaning', 'fulfills', 'requirements', 'accuracy', 'entirely', 'recommendable', 'goes', 'charged', 'amish', 'anticipating', 'happens', 'touch', 'combination', 'welcome', 'insight', 'league', 'occasional', 'general', 'fireplace', 'tools', 'fairly', 'outrageously', 'loud', 'romantic', 'digest', 'monitor', 'karate', 'ka', 'healing', 'clients', 'overview', 'possible', 'lame', 'strange', 'dollars', 'vale', 'pocket', 'pic', 'nicer', 'ping', 'helps', 'area', 'focus', 'l', 'addy', 'insert', 'nightwish', 'known', 'solid', 'nap', 'frankenstein', 'nirvana', 'root', 'soulful', 'india', 'comprehensive', 'surgery', 'transcribe', 'surgical', 'reports', 'timeless', 'inspiring', 'road', 'twist', 'former', 'leader', 'autobots', 'waas', 'plenty', 'official', 'waster', 'shia', 'model', 'freaking', 'excitement', 'continues', 'sequels', 'grew', 'watchig', 'brought', 'epitome', 'variety', 'doone', 'kick', 'hiking', 'pair', 'hi', 'tec', 'bean', 'technique', 'intermediate', 'fly', 'fisherman', 'bigger', 'sf', 'sequence', 'kidding', 'laughing', 'nevermind', 'bright', 'forgotten', 'mel', 'colorful', 'constructed', 'august', 'printer', 'handbook', 'iti', 'proof', 'rusts', 'feature', 'bothersome', 'shaft', 'vibrate', 'power', 'felt', 'lacking', 'dragging', 'reads', 'shakespeare', 'professional', 'channel', 'clifford', 'straight', 'software', 'flatbed', 'softcover', 'lousy', 'stick', 'installation', 'stopped', 'opend', 'robert', 'frost', 'potes', 'random', 'dale', 'hem', 'reeds', 'holders', 'easier', 'cards', 'stead', 'chance', 'states', 'mold', 'pops', 'plastic', 'dick', 'attacks', 'captain', 'die', 'candy', 'firing', 'range', 'tbone', 'zelia', 'duncan', 'musicians', 'deleted', 'reliable', 'frankly', 'extends', 'reach', 'thefirst', 'risk', 'generic', 'canon', 'lowest', 'explains', 'grammar', 'dice', 'serves', 'purpose', 'wat', 'usher', 'performances', 'clan', 'cave', 'bear', 'gain', 'pl', 'programs', 'jerker', 'ways', 'addicting', 'limericks', 'limerick', 'shots', 'motorhead', 'press', 'train', 'wondered', 'past', 'interfaith', 'symbol', 'basically', 'established', 'faster', 'catchy', 'primer', 'scots', 'feminist', 'teenager', 'amazingly', 'bradbury', 'visionary', 'intriguing', 'ten', 'relevant', 'netflix', 'eight', 'stories', 'spares', 'tested', 'seam', 'indepth', 'continuum', 'clever', 'enoy', 'tires', 'beach', 'cruiser', 'fraction', 'shop', 'charges', 'near', 'absorbing', 'hypnotising', 'mark', 'maker', 'write', 'portrays', 'refresher', 'math', 'sections', 'dorman', 'hinge', 'threaded', 'studs', 'hardest', 'misfortune', 'trying', 'generations', 'sleep', 'peaceful', 'mellow', 'soothing', 'canterbury', 'tales', 'accent', 'lodge', 'iron', 'compliment', 'paranoiac', 'nightmare', 'nineties', 'belongs', 'boxed', 'obvious', 'leaks', 'drive', 'mud', 'rain', 'bag', 'resistant', 'discs', 'poetry', 'departure', 'catches', 'eaten', 'yum', 'replacing', 'incomplete', 'superficial', 'configuration', 'tomcat', 'covered', 'shy', 'labeled', 'porno', 'research', 'examples', 'disturb', 'everytime', 'router', 'desktop', 'wikipedia', 'completes', 'westerns', 'fort', 'apache', 'blockbuster', 'fonda', 'shirley', 'animal', 'stamps', 'allegory', 'spiritually', 'tango', 'paris', 'fallen', 'scarey', 'spelunking', 'caves', 'surprises', 'execpt', 'accents', 'whoever', 'courtney', 'hole', 'career', 'turn', 'breakroom', 'mug', 'moneys', 'theres', 'lukewarm', 'safe', 'bet', 'ehhh', 'honest', 'chants', 'potions', 'golden', 'earings', 'agan', 'sountrack', 'unacceptable', 'aspect', 'ratio', 'saver', 'brands', 'ready', 'swaddlers', 'duper', 'scent', 'irritate', 'sensitive', 'lasts', 'prevents', 'smell', 'pack', 'babies', 'quoted', 'snow', 'outside', 'send', 'country', 'dan', 'violence', 'mystery', 'leaves', 'olympic', 'messy', 'sole', 'shoes', 'glue', 'intended', 'glued', 'fold', 'tube', 'trought', 'behaviour', 'explored', 'discussion', 'juicing', 'painting', 'agree', 'masterpiece', 'cake', 'coltrane', 'pet', 'peeve', 'offers', 'protection', 'exposed', 'orchestration', 'translated', 'slightly', 'modern', 'cheaply', 'weights', 'lamp', 'reflector', 'flashlight', 'epic', 'period', 'morillo', 'morrillo', 'tons', 'nasty', 'catholic', 'bashing', 'accross', 'report', 'animals', 'upgrade', 'normal', 'low', 'definition', 'unit', 'stylish', 'exercise', 'meet', 'chilling', 'albeit', 'feeble', 'minded', 'ms', 'garwood', 'encouraging', 'encouraged', 'beans', 'expressions', 'bill', 'splitting', 'sign', 'alpine', 'scratcher', 'vendor', 'essential', 'pajama', 'pajamas', 'wash', 'machine', 'setting', 'fake', 'disk', 'recognized', 'earlier', 'nothin', 'nintendo', 'allowed', 'released', 'algebra', 'classes', 'gripping', 'beings', 'struggle', 'survival', 'air', 'picked', 'cut', 'paste', 'articles', 'magazine', 'advice', 'immensely', 'functions', 'devices', 'shared', 'higly', 'curiosity', 'compression', 'shorts', 'starting', 'breakdown', 'concern', 'fall', 'fasion', 'sucks', 'sender', 'wase', 'decieving', 'rental', 'dates', 'drew', 'obviously', 'slipped', 'paul', 'muni', 'listed', 'definatly', 'produce', 'tire', 'aiken', 'ears', 'vocal', 'talents', 'special', 'paced', 'failed', 'catch', 'thousands', 'including', 'nearly', 'documentary', 'documentation', 'peoples', 'jonestown', 'lady', 'sylvia', 'wrote', 'blessing', 'resolve', 'interest', 'matter', 'traditions', 'haters', 'ecru', 'undershirt', 'shirts', 'workmanship', 'heavier', 'name', 'fabric', 'cheapest', 'sizing', 'center', 'cudnt', 'change', 'samsung', 'multi', 'professionally', 'mailing', 'penny', 'chronicles', 'narnia', 'caspian', 'learing', 'strands', 'copper', 'moisturizer', 'gooey', 'sunscreens', 'paraphrase', 'ive', 'wwe', 'german', 'soldier', 'definetely', 'cult', 'sci', 'fi', 'disparaging', 'caused', 'connect', 'superb', 'elephant', 'speech', 'space', 'sherry', 'sherryl', 'libraries', 'complaint', 'synch', 'opera', 'engrossing', 'definite', 'elementary', 'cartoon', 'competitive', 'squarepants', 'bose', 'wave', 'reception', 'poster', 'useless', 'anyway', 'away', 'feeling', 'supersonic', 'decade', 'ear', 'shattering', 'refund', 'respond', 'emails', 'typical', 'gay', 'acted', 'points', 'mercy', 'dresses', 'knees', 'nicely', 'chicano', 'chicanos', 'relate', 'musical', 'acoustic', 'catching', 'trekkie', 'predictions', 'decoding', 'prophecy', 'opportunity', 'running', 'prevent', 'shin', 'splints', 'run', 'tone', 'deaf', 'board', 'attache', 'arrival', 'december', 'reply', 'tenia', 'showing', 'traditional', 'direction', 'headed', 'beggining', 'puts', 'spin', 'franchise', 'ecstatic', 'normally', 'inspire', 'poop', 'begining', 'oneto', 'knife', 'comic', 'perry', 'mason', 'compatible', 'amplifier', 'breeze', 'invisible', 'visible', 'keith', 'devlin', 'stronger', 'fault', 'adress', 'details', 'recipient', 'eclectic', 'mix', 'types', 'hyper', 'ballad', 'shoots', 'cq', 'involved', 'birth', 'savior', 'anger', 'teach', 'interactive', 'references', 'nuff', 'fourth', 'organized', 'finding', 'thyroid', 'dedicated', 'contain', 'factual', 'chemistry', 'absurd', 'joke', 'bottom', 'existent', 'atrocious', 'target', 'magnum', 'karyn', 'jordan', 'western', 'albert', 'left', 'v', 'terms', 'queen', 'consort', 'cavalier', 'constantine', 'eternal', 'consequences', 'tongue', 'cheek', 'care', 'visual', 'comprehensible', 'mess', 'redeeming', 'qualities', 'founding', 'fathers', 'jefferson', 'colonial', 'bf', 'pricing', 'download', 'example', 'apply', 'freeze', 'spray', 'scholes', 'provoking', 'lead', 'henny', 'youngman', 'funnier', 'clips', 'reveiw', 'wicked', 'coolest', 'knows', 'attitude', 'carefully', 'programming', 'support', 'realistic', 'grows', 'brooklyn', 'featured', 'figured', 'potential', 'sturdy', 'wobble', 'saying', 'records', 'lightfoot', 'prime', 'songwriter', 'application', 'ends', 'applied', 'reaaly', 'worshippers', 'leaders', 'bones', 'damn', 'prepared', 'eternity', 'rec', 'exchange', 'ass', 'client', 'foundation', 'basis', 'theory', 'assumed', 'likley', 'almanac', 'office', 'dude', 'feelings', 'plantronics', 'bluetooth', 'access', 'retail', 'local', 'mirror', 'mike', 'judge', 'homework', 'satire', 'cinema', 'wholeheartedly', 'endorse', 'uh', 'ranks', 'jacket', 'practically', 'badly', 'scanned', 'pdf', 'waited', 'introduction', 'particular', 'vitamina', 'buffalo', 'traveller', 'complain', 'designs', 'mere', 'christianity', 'gently', 'front', 'critically', 'outline', 'wordy', 'seasoned', 'moses', 'along', 'bozos', 'top', 'juvenile', 'sunshade', 'peggy', 'sue', 'married', 'profile', 'npr', 'update', 'sing', 'anytime', 'assume', 'satisfactory', 'meh', 'victorian', 'morbid', 'jude', 'obscure', 'blah', 'luck', 'jigs', 'cleans', 'pot', 'larger', 'quart', 'duster', 'designed', 'perfectly', 'cables', 'tvs', 'sell', 'lower', 'texture', 'favs', 'max', 'changes', 'improvements', 'feet', 'design', 'relief', 'bunion', 'pain', 'teacher', 'privilege', 'fiance', 'backpack', 'broke', 'flimsy', 'pulitzer', 'barbara', 'writes', 'beautifully', 'loveable', 'wasteof', 'nowhere', 'intelligence', 'silence', 'lambs', 'hand', 'pressure', 'cane', 'sittings', 'collect', 'components', 'kinda', 'economical', 'ink', 'hp', 'describes', 'scenery', 'percent', 'graphic', 'zzzzzz', 'yuck', 'soo', 'understood', 'nature', 'goulding', 'holster', 'trouble', 'spoke', 'directly', 'check', 'checking', 'winter', 'san', 'francisco', 'earthquake', 'wil', 'dissapointing', 'checked', 'borders', 'weakness', 'minimum', 'ron', 'pleasant', 'quiet', 'interlude', 'couch', 'whiplash', 'therapy', 'comfortably', 'dog', 'destroyed', 'drums', 'nott', 'hoped', 'vanilla', 'butterfly', 'effect', 'em', 'city', 'route', 'total', 'kitchenware', 'realized', 'african', 'continue', 'refurb', 'complains', 'drill', 'worthless', 'slayer', 'crossover', 'wtf', 'purported', 'wiley', 'planning', 'jailbait', 'prefer', 'hair', 'blow', 'silas', 'rascal', 'paperback', 'gifts', 'downloads', 'inexpensive', 'nevertheless', 'wisdom', 'anybody', 'philosophy', 'yay', 'somewhere', 'personally', 'picket', 'carrying', 'fear', 'inaug', 'crumpets', 'pretentious', 'stuffy', 'yacht', 'club', 'meeting', 'compare', 'clueless', 'unfamiliar', 'adjusted', 'oh', 'moments', 'hooked', 'brook', 'bestest', 'deities', 'theonly', 'lovethis', 'hearing', 'battles', 'clans', 'boys', 'facts', 'development', 'fifth', 'influence', 'taoist', 'religious', 'personality', 'stakes', 'higher', 'kent', 'marine', 'annotated', 'appropriately', 'degrading', 'beyond', 'label', 'helping', 'sticky', 'airplane', 'ii', 'buddies', 'wore', 'carried', 'tripod', 'tom', 'cruise', 'majority', 'intrigue', 'espionage', 'mi', 'chosen', 'streaming', 'therefore', 'independent', 'contractor', 'transcription', 'pauses', 'exceptional', 'gabriel', 'turned', 'fluffy', 'exatly', 'false', 'ultimate', 'unusable', 'separate', 'chick', 'ben', 'stiller', 'norton', 'laughed', 'lifetime', 'actresses', 'casts', 'happily', 'refunded', 'unrealistic', 'laptop', 'compatibility', 'alternate', 'tee', 'snl', 'describing', 'grain', 'sand', 'weepy', 'remake', 'diffrent', 'concept', 'origional', 'doc', 'hollywood', 'appears', 'transferred', 'bronx', 'ny', 'grandchildren', 'authentic', 'vcr', 'dear', 'correct', 'exceptionally', 'credible', 'applications', 'girlfriend', 'mixed', 'uranium', 'ore', 'nail', 'polish', 'fingernails', 'body', 'intricate', 'writer', 'shorter', 'alexander', 'weaved', 'gems', 'mono', 'dirtydancing', 'thirty', 'bo', 'trailer', 'dirty', 'dancing', 'swayze', 'beverly', 'hillbillies', 'throughout', 'breathtaking', 'dune', 'anne', 'matthew', 'west', 'pound', 'ball', 'grand', 'camper', 'marks', 'kinsey', 'man', 'joseph', 'dthe', 'technicolor', 'dreamcoat', 'hands', 'funniest', 'uneven', 'viewing', 'hip', 'hop', 'bless', 'important', 'scratch', 'severe', 'exellent', 'definately', 'chandelier', 'dining', 'alone', 'excellant', 'spaces', 'conditions', 'cobra', 'perspectives', 'racism', 'manhood', 'decorate', 'memory', 'weekend', 'homeworks', 'conversation', 'inability', 'apparently', 'fascination', 'bugs', 'explanations', 'miles', 'amazone', 'speedy', 'charming', 'holiday', 'workshop', 'mba', 'nashville', 'level', 'tool', 'chiefs', 'todays', 'hd', 'standard', 'dvr', 'showed', 'uk', 'growing', 'faithful', 'grandchild', 'horton', 'hatches', 'egg', 'seuss', 'olga', 'bra', 'combined', 'beauty', 'prior', 'finishing', 'gentlemen', 'spectacular', 'jazz', 'phenomenal', 'someones', 'gerson', 'highlights', 'include', 'percussion', 'talented', 'drummers', 'disaster', 'preserve', 'installments', 'ann', 'suited', 'landfill', 'passing', 'rear', 'screw', 'location', 'mat', 'stripped', 'portuguese', 'powerful', 'paganism', 'inquirer', 'axion', 'pix', 'swift', 'supply', 'chain', 'photography', 'sets', 'snap', 'afriend', 'phrases', 'concise', 'accurately', 'translate', 'educational', 'broken', 'gangs', 'bank', 'robbers', 'changer', 'laws', 'path', 'enlightment', 'katharine', 'ross', 'jim', 'hutton', 'active', 'server', 'novice', 'test', 'casual', 'lauryn', 'gifted', 'female', 'mcs', 'tugs', 'emotion', 'satified', 'schedule', 'skipping', 'novels', 'ken', 'davis', 'taxi', 'accros', 'funeral', 'heartbeat', 'limited', 'happened', 'jewish', 'faith', 'jews', 'newer', 'handle', 'holder', 'previously', 'highlighting', 'technical', 'managers', 'owners', 'smelly', 'shoulders', 'doubt', 'copied', 'twice', 'vibrator', 'ht', 'decades', 'spiderman', 'truth', 'fundamentals', 'sixties', 'remembered', 'enya', 'calming', 'tape', 'dispenser', 'seals', 'frames', 'taken', 'beatin', 'tickin', 'smith', 'role', 'impressive', 'ole', 'sufficiently', 'noire', 'maltese', 'falcon', 'andthe', 'camcorder', 'save', 'defenitely', 'enchanting', 'desert', 'ew', 'f', 'collaborations', 'era', 'silly', 'battery', 'panasonic', 'dmc', 'camera', 'fable', 'appearance', 'leather', 'bound', 'faulkner', 'lovers', 'zone', 'places', 'background', 'iconic', 'photographer', 'particularly', 'learn', 'relationships', 'bio', 'slippers', 'maintained', 'helpfull', 'holliday', 'treat', 'perspective', 'observe', 'witchcraft', 'inclined', 'integration', 'principles', 'twelve', 'steps', 'alcoholics', 'addicts', 'christians', 'compliments', 'guy', 'japan', 'thailand', 'usps', 'taped', 'oldies', 'ripped', 'australian', 'darn', 'conventional', 'uses', 'store', 'desire', 'correctly', 'im', 'magic', 'sink', 'kitchen', 'student', 'recognize', 'sharpie', 'daycare', 'hte', 'recommendation', 'tradition', 'cases', 'carseat', 'padded', 'owned', 'cheep', 'fasten', 'crooked', 'motorcyclist', 'administrators', 'refer', 'environment', 'satisfaction', 'wanna', 'sleeve', 'brings', 'mild', 'christopher', 'paolini', 'derivative', 'called', 'pern', 'wars', 'deepak', 'additional', 'packaging', 'thriller', 'chose', 'toes', 'baggins', 'angers', 'grat', 'existing', 'wild', 'underdog', 'success', 'golem', 'precious', 'riddle', 'ashamed', 'favourite', 'divorce', 'met', 'expectations', 'letters', 'gorgeous', 'display', 'behold', 'protective', 'narration', 'reread', 'detailed', 'beards', 'adventures', 'fellowship', 'signed', 'gavin', 'william', 'occasions', 'awhile', 'tolkein', 'areas', 'weather', 'threat', 'sandy', 'informed', 'process', 'unexpected', 'awesomeness', 'adventurous', 'expedited', 'project', 'hats', 'roommate', 'bonnie', 'pg', 'captivating', 'flow', 'fame', 'grabbed', 'bc', 'bilbo', 'superbly', 'ageless', 'shipment', 'arrive', 'twenty', 'discovered', 'gem', 'develops', 'complex', 'scenarios', 'happen', 'command', 'related', 'getaway', 'transporting', 'anti', 'climactic', 'prelude', 'lotr', 'defiantly', 'prepare', 'hopefully', 'forget', 'clasic', 'wont', 'justice', 'contains', 'drawings', 'accidently', 'garage', 'program', 'drippy', 'puppies', 'dogs', 'thinks', 'throwing', 'hitting', 'efficiently', 'deeply', 'pursuit', 'warmth', 'friendship', 'teaches', 'delete', 'viewers', 'daughters', 'wholesome', 'raised', 'considerate', 'polite', 'certain', 'lester', 'bowie', 'tune', 'bases', 'harley', 'decals', 'stuck', 'poopy', 'lives', 'renting', 'reflective', 'seized', 'nozzle', 'hose', 'insipid', 'cross', 'switchblade', 'david', 'wilkerson', 'founded', 'teen', 'challenge', 'tearing', 'reliving', 'childhood', 'necessary', 'swapped', 'appropriate', 'mog', 'inducing', 'saddest', 'beable', 'michael', 'meyers', 'titled', 'iii', 'roots', 'aweful', 'tent', 'mankind', 'boston', 'gel', 'parachute', 'polar', 'express', 'twins', 'tunnel', 'vacation', 'gladiator', 'portable', 'wherever', 'begin', 'faint', 'lay', 'originally', 'stumbled'] words\n",
            "Cluster 0 includes ['would', 'could'] words\n",
            "Cluster 1 includes ['really', 'think', 'know', 'wonder', 'either', 'tell'] words\n",
            "Cluster 2 includes ['thought', 'knew'] words\n",
            "Cluster 3 includes ['came', 'went'] words\n",
            "Cluster 4 includes ['right', 'though'] words\n",
            "Cluster 5 includes ['nothing', 'everything', 'something', 'anything'] words\n",
            "Cluster 6 includes ['two', 'three', 'four', 'five'] words\n",
            "Cluster 7 includes ['daughter', 'husband', 'wife'] words\n",
            "Cluster 8 includes ['r', 'b'] words\n",
            "Cluster 9 includes ['horrible', 'terrible'] words\n",
            "Cluster 10 includes ['said', 'asked', 'told'] words\n",
            "Cluster 11 includes ['actually', 'probably'] words\n",
            "Cluster 12 includes ['older', 'younger'] words\n",
            "Cluster 13 includes ['disapointed', 'dissappointed'] words\n",
            "Cluster 14 includes ['however', 'perhaps'] words\n",
            "Cluster 15 includes ['mom', 'dad'] words\n",
            "Cluster 16 includes ['black', 'white'] words\n",
            "Cluster 17 includes ['hahahaha', 'hahahahaha'] words\n",
            "Cluster 18 includes ['wouldnt', 'couldnt'] words\n",
            "Cluster 19 includes ['south', 'east'] words\n"
          ]
        }
      ]
    },
    {
      "cell_type": "markdown",
      "source": [
        "2D plot our clustering"
      ],
      "metadata": {
        "id": "1UW-h30Yazy7"
      }
    },
    {
      "cell_type": "code",
      "source": [
        "# Import the necessary libraries\n",
        "from sklearn.manifold import TSNE\n",
        "from sklearn.cluster import DBSCAN\n",
        "\n",
        "# Extract the embeddings from the embedded_dict and store them in a numpy array\n",
        "embeddings = np.array(list(embedded_dict.values()))\n",
        "\n",
        "# Perform t-SNE on the embeddings to reduce their dimensionality to 2\n",
        "tsne = TSNE(n_components=2, perplexity=30, n_iter=1000, random_state=42)\n",
        "embeddings_2d = tsne.fit_transform(embeddings)\n",
        "\n",
        "# Get the cluster labels assigned by DBSCAN\n",
        "labels = dbscan.labels_\n",
        "\n",
        "# Plot the 2D embeddings with different colors for each cluster\n",
        "plt.scatter(embeddings_2d[:, 0], embeddings_2d[:, 1], c=labels)\n",
        "plt.show()"
      ],
      "metadata": {
        "colab": {
          "base_uri": "https://localhost:8080/",
          "height": 430
        },
        "outputId": "75e4d1f7-dee5-4d55-ef45-d25f8c07d4cd",
        "id": "Ns1Tg4PwauSQ"
      },
      "execution_count": 38,
      "outputs": [
        {
          "output_type": "display_data",
          "data": {
            "text/plain": [
              "<Figure size 640x480 with 1 Axes>"
            ],
            "image/png": "[encoded data removed]"
          },
          "metadata": {}
        }
      ]
    },
    {
      "cell_type": "markdown",
      "source": [
        "now we would like to find the max_dist within each cluster"
      ],
      "metadata": {
        "id": "Kvm1DWGPa7-Q"
      }
    },
    {
      "cell_type": "code",
      "source": [
        "# for each cluster calc the max dist between each two embbedings\n"
      ],
      "metadata": {
        "id": "V_HbBjGndN9Y"
      },
      "execution_count": 39,
      "outputs": []
    },
    {
      "cell_type": "code",
      "source": [
        "from itertools import combinations"
      ],
      "metadata": {
        "id": "IuUzm9p0iNSh"
      },
      "execution_count": 40,
      "outputs": []
    },
    {
      "cell_type": "code",
      "source": [
        "# NOT RELEVANT#\n",
        "# find the pair of closest words in the embedded dict and return the words and the similarity score\n",
        "def find_closest_words(embeddings):\n",
        "    words = list(embeddings.keys())\n",
        "    pairs = combinations(words, 2)\n",
        "    max_similarity = -1\n",
        "    closest_pair = None\n",
        "    for pair in pairs:\n",
        "        emb1 = embeddings[pair[0]]\n",
        "        emb2 = embeddings[pair[1]]\n",
        "        similarity = np.dot(emb1, emb2) / (np.linalg.norm(emb1) * np.linalg.norm(emb2))\n",
        "        if similarity > max_similarity:\n",
        "            max_similarity = similarity\n",
        "            closest_pair = pair\n",
        "    return closest_pair, max_similarity"
      ],
      "metadata": {
        "id": "meIMPs_1i0ux"
      },
      "execution_count": 41,
      "outputs": []
    },
    {
      "cell_type": "code",
      "source": [
        "# find the pair of most distant words in the embedded dict and return the words and the similarity score\n",
        "def find_max_dist(embeddings):\n",
        "    words = list(embeddings.keys())\n",
        "    pairs = combinations(words, 2)\n",
        "    max_dist = -1\n",
        "    closest_pair = None\n",
        "    for pair in pairs:\n",
        "        emb1 = embeddings[pair[0]]\n",
        "        emb2 = embeddings[pair[1]]\n",
        "        similarity = np.dot(emb1, emb2) / (np.linalg.norm(emb1) * np.linalg.norm(emb2))\n",
        "        dist = 1-similarity\n",
        "        if dist >  max_dist:\n",
        "            max_dist = dist\n",
        "            closest_pair = pair\n",
        "    return closest_pair, max_dist"
      ],
      "metadata": {
        "id": "yWlSsp_KjHMX"
      },
      "execution_count": 42,
      "outputs": []
    },
    {
      "cell_type": "code",
      "source": [
        "closest_pair ,max_dist = find_max_dist(embedded_dict)\n",
        "\n",
        "print(closest_pair)\n",
        "print(max_dist)"
      ],
      "metadata": {
        "colab": {
          "base_uri": "https://localhost:8080/"
        },
        "id": "REqZrF4tjmLi",
        "outputId": "6069378c-caf6-4e4e-c89e-16a190c530e7"
      },
      "execution_count": 43,
      "outputs": [
        {
          "output_type": "stream",
          "name": "stdout",
          "text": [
            "('l', 'limericks')\n",
            "1.6656466126441956\n"
          ]
        }
      ]
    },
    {
      "cell_type": "code",
      "source": [
        "closest_pair ,max_similarity = find_closest_words(embedded_dict)\n",
        "\n",
        "print(closest_pair)\n",
        "print(max_similarity)"
      ],
      "metadata": {
        "colab": {
          "base_uri": "https://localhost:8080/"
        },
        "id": "Et6bJ9vpi0yg",
        "outputId": "a1537649-c832-475f-c921-7435e2663db3"
      },
      "execution_count": 44,
      "outputs": [
        {
          "output_type": "stream",
          "name": "stdout",
          "text": [
            "('three', 'five')\n",
            "0.9927426\n"
          ]
        }
      ]
    },
    {
      "cell_type": "code",
      "source": [
        "# count unique labels:\n",
        "labels_set = set(labels)\n",
        "labels_set"
      ],
      "metadata": {
        "colab": {
          "base_uri": "https://localhost:8080/"
        },
        "id": "58XEmsiQnUOo",
        "outputId": "76fe789f-ca4a-4f73-dfa0-5028817e0efc"
      },
      "execution_count": 47,
      "outputs": [
        {
          "output_type": "execute_result",
          "data": {
            "text/plain": [
              "{-1, 0, 1, 2, 3, 4, 5, 6, 7, 8, 9, 10, 11, 12, 13, 14, 15, 16, 17, 18, 19}"
            ]
          },
          "metadata": {},
          "execution_count": 47
        }
      ]
    },
    {
      "cell_type": "code",
      "source": [
        "# init dict of dist:\n",
        "dist_dict = {}\n",
        "\n",
        "# for each cluster return the pair of words and max dist of the cluster:\n",
        "for ind in labels_set:\n",
        "  filtered_dict = {k: v for k, v in embedded_dict.items() if k in clusters[ind]} # dict of embeddings of the words in the cluster\n",
        "\n",
        "  #filtered_dict = {k: v for k, v in embedded_dict.items() if v in clusters[ind]}  \n",
        "  closest_pair ,max_dist = find_max_dist(filtered_dict) # find the two most dist words in the cluster\n",
        "  dist_dict[ind] = max_dist\n",
        "  print(closest_pair)\n",
        "  print(max_dist)"
      ],
      "metadata": {
        "colab": {
          "base_uri": "https://localhost:8080/"
        },
        "id": "kIemlrywi01c",
        "outputId": "c4c124e3-f55a-4ff2-f5d5-316092e9c8b9"
      },
      "execution_count": 48,
      "outputs": [
        {
          "output_type": "stream",
          "name": "stdout",
          "text": [
            "('would', 'could')\n",
            "0.0098838210105896\n",
            "('really', 'tell')\n",
            "0.08340340852737427\n",
            "('thought', 'knew')\n",
            "0.0217476487159729\n",
            "('came', 'went')\n",
            "0.0231134295463562\n",
            "('right', 'though')\n",
            "0.023850679397583008\n",
            "('nothing', 'anything')\n",
            "0.03435605764389038\n",
            "('two', 'four')\n",
            "0.03474223613739014\n",
            "('daughter', 'husband')\n",
            "0.03997600078582764\n",
            "('r', 'b')\n",
            "0.020214617252349854\n",
            "('horrible', 'terrible')\n",
            "0.026182889938354492\n",
            "('said', 'asked')\n",
            "0.04786205291748047\n",
            "('actually', 'probably')\n",
            "0.024307310581207275\n",
            "('older', 'younger')\n",
            "0.02006596326828003\n",
            "('disapointed', 'dissappointed')\n",
            "0.02488076686859131\n",
            "('however', 'perhaps')\n",
            "0.022026538848876953\n",
            "('mom', 'dad')\n",
            "0.01570063829421997\n",
            "('black', 'white')\n",
            "0.019871890544891357\n",
            "('hahahaha', 'hahahahaha')\n",
            "0.007807672023773193\n",
            "('wouldnt', 'couldnt')\n",
            "0.021497607231140137\n",
            "('south', 'east')\n",
            "0.0236780047416687\n",
            "('l', 'limericks')\n",
            "1.6656466126441956\n"
          ]
        }
      ]
    },
    {
      "cell_type": "code",
      "source": [
        "dist_dict"
      ],
      "metadata": {
        "colab": {
          "base_uri": "https://localhost:8080/"
        },
        "id": "-37UksA7y6I4",
        "outputId": "49be7ff5-2ce9-4b6f-cb88-9da574c754d8"
      },
      "execution_count": 49,
      "outputs": [
        {
          "output_type": "execute_result",
          "data": {
            "text/plain": [
              "{0: 0.0098838210105896,\n",
              " 1: 0.08340340852737427,\n",
              " 2: 0.0217476487159729,\n",
              " 3: 0.0231134295463562,\n",
              " 4: 0.023850679397583008,\n",
              " 5: 0.03435605764389038,\n",
              " 6: 0.03474223613739014,\n",
              " 7: 0.03997600078582764,\n",
              " 8: 0.020214617252349854,\n",
              " 9: 0.026182889938354492,\n",
              " 10: 0.04786205291748047,\n",
              " 11: 0.024307310581207275,\n",
              " 12: 0.02006596326828003,\n",
              " 13: 0.02488076686859131,\n",
              " 14: 0.022026538848876953,\n",
              " 15: 0.01570063829421997,\n",
              " 16: 0.019871890544891357,\n",
              " 17: 0.007807672023773193,\n",
              " 18: 0.021497607231140137,\n",
              " 19: 0.0236780047416687,\n",
              " -1: 1.6656466126441956}"
            ]
          },
          "metadata": {},
          "execution_count": 49
        }
      ]
    },
    {
      "cell_type": "code",
      "source": [
        "df_copy"
      ],
      "metadata": {
        "colab": {
          "base_uri": "https://localhost:8080/",
          "height": 424
        },
        "id": "O7-lHpSTsi3l",
        "outputId": "b99789df-e017-4b67-8b6a-cf5725995ecf"
      },
      "execution_count": 50,
      "outputs": [
        {
          "output_type": "execute_result",
          "data": {
            "text/plain": [
              "      Unnamed: 0                                                txt  \\\n",
              "0             84  voices from the farm: i have a copy of this bo...   \n",
              "1             99  caution!: these tracks are not the \"original\" ...   \n",
              "2            100  textbook: book shipped quickly and was in exce...   \n",
              "3            243  it was great!!!: i like it. it was very cool t...   \n",
              "4            269  dockers do the job.: this product was just wha...   \n",
              "...          ...                                                ...   \n",
              "1002       41002  steer clear: steer clear of this blu-ray title...   \n",
              "1003       41045  i like movies: as someone who likes all kinds ...   \n",
              "1004       41149  sick and twisted is good...: this book is sick...   \n",
              "1005       41156  difficult for a lay person: i found this book ...   \n",
              "1006       41255  very funny book: i originally stumbled across ...   \n",
              "\n",
              "      sentiment  num_of_words  \n",
              "0             1            27  \n",
              "1             0            22  \n",
              "2             1            16  \n",
              "3             1            21  \n",
              "4             1            25  \n",
              "...         ...           ...  \n",
              "1002          0            27  \n",
              "1003          1            24  \n",
              "1004          1            25  \n",
              "1005          0            24  \n",
              "1006          1            27  \n",
              "\n",
              "[1007 rows x 4 columns]"
            ],
            "text/html": [
              "\n",
              "  <div id=\"df-22e7c114-3ce8-4ff0-aa8f-2281f2c2fe6e\">\n",
              "    <div class=\"colab-df-container\">\n",
              "      <div>\n",
              "<style scoped>\n",
              "    .dataframe tbody tr th:only-of-type {\n",
              "        vertical-align: middle;\n",
              "    }\n",
              "\n",
              "    .dataframe tbody tr th {\n",
              "        vertical-align: top;\n",
              "    }\n",
              "\n",
              "    .dataframe thead th {\n",
              "        text-align: right;\n",
              "    }\n",
              "</style>\n",
              "<table border=\"1\" class=\"dataframe\">\n",
              "  <thead>\n",
              "    <tr style=\"text-align: right;\">\n",
              "      <th></th>\n",
              "      <th>Unnamed: 0</th>\n",
              "      <th>txt</th>\n",
              "      <th>sentiment</th>\n",
              "      <th>num_of_words</th>\n",
              "    </tr>\n",
              "  </thead>\n",
              "  <tbody>\n",
              "    <tr>\n",
              "      <th>0</th>\n",
              "      <td>84</td>\n",
              "      <td>voices from the farm: i have a copy of this bo...</td>\n",
              "      <td>1</td>\n",
              "      <td>27</td>\n",
              "    </tr>\n",
              "    <tr>\n",
              "      <th>1</th>\n",
              "      <td>99</td>\n",
              "      <td>caution!: these tracks are not the \"original\" ...</td>\n",
              "      <td>0</td>\n",
              "      <td>22</td>\n",
              "    </tr>\n",
              "    <tr>\n",
              "      <th>2</th>\n",
              "      <td>100</td>\n",
              "      <td>textbook: book shipped quickly and was in exce...</td>\n",
              "      <td>1</td>\n",
              "      <td>16</td>\n",
              "    </tr>\n",
              "    <tr>\n",
              "      <th>3</th>\n",
              "      <td>243</td>\n",
              "      <td>it was great!!!: i like it. it was very cool t...</td>\n",
              "      <td>1</td>\n",
              "      <td>21</td>\n",
              "    </tr>\n",
              "    <tr>\n",
              "      <th>4</th>\n",
              "      <td>269</td>\n",
              "      <td>dockers do the job.: this product was just wha...</td>\n",
              "      <td>1</td>\n",
              "      <td>25</td>\n",
              "    </tr>\n",
              "    <tr>\n",
              "      <th>...</th>\n",
              "      <td>...</td>\n",
              "      <td>...</td>\n",
              "      <td>...</td>\n",
              "      <td>...</td>\n",
              "    </tr>\n",
              "    <tr>\n",
              "      <th>1002</th>\n",
              "      <td>41002</td>\n",
              "      <td>steer clear: steer clear of this blu-ray title...</td>\n",
              "      <td>0</td>\n",
              "      <td>27</td>\n",
              "    </tr>\n",
              "    <tr>\n",
              "      <th>1003</th>\n",
              "      <td>41045</td>\n",
              "      <td>i like movies: as someone who likes all kinds ...</td>\n",
              "      <td>1</td>\n",
              "      <td>24</td>\n",
              "    </tr>\n",
              "    <tr>\n",
              "      <th>1004</th>\n",
              "      <td>41149</td>\n",
              "      <td>sick and twisted is good...: this book is sick...</td>\n",
              "      <td>1</td>\n",
              "      <td>25</td>\n",
              "    </tr>\n",
              "    <tr>\n",
              "      <th>1005</th>\n",
              "      <td>41156</td>\n",
              "      <td>difficult for a lay person: i found this book ...</td>\n",
              "      <td>0</td>\n",
              "      <td>24</td>\n",
              "    </tr>\n",
              "    <tr>\n",
              "      <th>1006</th>\n",
              "      <td>41255</td>\n",
              "      <td>very funny book: i originally stumbled across ...</td>\n",
              "      <td>1</td>\n",
              "      <td>27</td>\n",
              "    </tr>\n",
              "  </tbody>\n",
              "</table>\n",
              "<p>1007 rows × 4 columns</p>\n",
              "</div>\n",
              "      <button class=\"colab-df-convert\" onclick=\"convertToInteractive('df-22e7c114-3ce8-4ff0-aa8f-2281f2c2fe6e')\"\n",
              "              title=\"Convert this dataframe to an interactive table.\"\n",
              "              style=\"display:none;\">\n",
              "        \n",
              "  <svg xmlns=\"http://www.w3.org/2000/svg\" height=\"24px\"viewBox=\"0 0 24 24\"\n",
              "       width=\"24px\">\n",
              "    <path d=\"M0 0h24v24H0V0z\" fill=\"none\"/>\n",
              "    <path d=\"M18.56 5.44l.94 2.06.94-2.06 2.06-.94-2.06-.94-.94-2.06-.94 2.06-2.06.94zm-11 1L8.5 8.5l.94-2.06 2.06-.94-2.06-.94L8.5 2.5l-.94 2.06-2.06.94zm10 10l.94 2.06.94-2.06 2.06-.94-2.06-.94-.94-2.06-.94 2.06-2.06.94z\"/><path d=\"M17.41 7.96l-1.37-1.37c-.4-.4-.92-.59-1.43-.59-.52 0-1.04.2-1.43.59L10.3 9.45l-7.72 7.72c-.78.78-.78 2.05 0 2.83L4 21.41c.39.39.9.59 1.41.59.51 0 1.02-.2 1.41-.59l7.78-7.78 2.81-2.81c.8-.78.8-2.07 0-2.86zM5.41 20L4 18.59l7.72-7.72 1.47 1.35L5.41 20z\"/>\n",
              "  </svg>\n",
              "      </button>\n",
              "      \n",
              "  <style>\n",
              "    .colab-df-container {\n",
              "      display:flex;\n",
              "      flex-wrap:wrap;\n",
              "      gap: 12px;\n",
              "    }\n",
              "\n",
              "    .colab-df-convert {\n",
              "      background-color: #E8F0FE;\n",
              "      border: none;\n",
              "      border-radius: 50%;\n",
              "      cursor: pointer;\n",
              "      display: none;\n",
              "      fill: #1967D2;\n",
              "      height: 32px;\n",
              "      padding: 0 0 0 0;\n",
              "      width: 32px;\n",
              "    }\n",
              "\n",
              "    .colab-df-convert:hover {\n",
              "      background-color: #E2EBFA;\n",
              "      box-shadow: 0px 1px 2px rgba(60, 64, 67, 0.3), 0px 1px 3px 1px rgba(60, 64, 67, 0.15);\n",
              "      fill: #174EA6;\n",
              "    }\n",
              "\n",
              "    [theme=dark] .colab-df-convert {\n",
              "      background-color: #3B4455;\n",
              "      fill: #D2E3FC;\n",
              "    }\n",
              "\n",
              "    [theme=dark] .colab-df-convert:hover {\n",
              "      background-color: #434B5C;\n",
              "      box-shadow: 0px 1px 3px 1px rgba(0, 0, 0, 0.15);\n",
              "      filter: drop-shadow(0px 1px 2px rgba(0, 0, 0, 0.3));\n",
              "      fill: #FFFFFF;\n",
              "    }\n",
              "  </style>\n",
              "\n",
              "      <script>\n",
              "        const buttonEl =\n",
              "          document.querySelector('#df-22e7c114-3ce8-4ff0-aa8f-2281f2c2fe6e button.colab-df-convert');\n",
              "        buttonEl.style.display =\n",
              "          google.colab.kernel.accessAllowed ? 'block' : 'none';\n",
              "\n",
              "        async function convertToInteractive(key) {\n",
              "          const element = document.querySelector('#df-22e7c114-3ce8-4ff0-aa8f-2281f2c2fe6e');\n",
              "          const dataTable =\n",
              "            await google.colab.kernel.invokeFunction('convertToInteractive',\n",
              "                                                     [key], {});\n",
              "          if (!dataTable) return;\n",
              "\n",
              "          const docLinkHtml = 'Like what you see? Visit the ' +\n",
              "            '<a target=\"_blank\" href=https://colab.research.google.com/notebooks/data_table.ipynb>data table notebook</a>'\n",
              "            + ' to learn more about interactive tables.';\n",
              "          element.innerHTML = '';\n",
              "          dataTable['output_type'] = 'display_data';\n",
              "          await google.colab.output.renderOutput(dataTable, element);\n",
              "          const docLink = document.createElement('div');\n",
              "          docLink.innerHTML = docLinkHtml;\n",
              "          element.appendChild(docLink);\n",
              "        }\n",
              "      </script>\n",
              "    </div>\n",
              "  </div>\n",
              "  "
            ]
          },
          "metadata": {},
          "execution_count": 50
        }
      ]
    },
    {
      "cell_type": "markdown",
      "source": [
        "if the max_dist is bigger than threshold - don't switch"
      ],
      "metadata": {
        "id": "Vz-_7MtOsjIn"
      }
    },
    {
      "cell_type": "code",
      "source": [
        "\n",
        "threshold = 0.17654"
      ],
      "metadata": {
        "id": "U3TfB2LqxGrG"
      },
      "execution_count": 51,
      "outputs": []
    },
    {
      "cell_type": "code",
      "source": [
        "df_copy['anon_txt'] = df_copy['txt']\n",
        "df_copy['anon_txt_clean'] = df_copy['txt']"
      ],
      "metadata": {
        "id": "uj6aBBxcxQTY"
      },
      "execution_count": 52,
      "outputs": []
    },
    {
      "cell_type": "code",
      "source": [
        "def get_general_word_from_cluster(word_list, we_model):\n",
        "    \"\"\" Finds the most similar words usind word embedding\"\"\"\n",
        "    glove_words = list(we_model.index_to_key)\n",
        "    known_words = [w for w in word_list if w in glove_words]\n",
        "    if len(known_words) > 0:\n",
        "        we_word = we_model.most_similar(known_words, topn=1)[0][0]\n",
        "    else:\n",
        "        we_word = None\n",
        "    return we_word"
      ],
      "metadata": {
        "id": "XBhtvOp8xZdY"
      },
      "execution_count": 53,
      "outputs": []
    },
    {
      "cell_type": "code",
      "source": [
        "# create a list of the \"new\" words and don't cluster them in the next round\n",
        "new_words = []\n",
        "bad_cluster = [] # list of clusters that are too big\n",
        "# check if cluster max_dist is under threshold:\n",
        "for cluster_label,cluster_dist in dist_dict.items():\n",
        "  if cluster_dist>threshold: #too big\n",
        "    bad_cluster.append(cluster_label)\n",
        "    print(bad_cluster)\n",
        "\n",
        "\n",
        "for key, words in clusters.items(): # key = label Words = list of words in the cluster\n",
        "    if key >= 0  and key not in bad_cluster:  # Ignoring the -1 label\n",
        "            general_word = get_general_word_from_cluster(words, glove_model)\n",
        "            new_words.append(general_word)  # the list of new words\n",
        "            print('\\treplacing', words, 'in', general_word)\n",
        "            for word in words:\n",
        "                df_copy['anon_txt'] = df_copy['anon_txt'].apply(lambda x: x.replace(word, ''.join([word ,'[', general_word,']'])))\n",
        "                df_copy['anon_txt_clean'] = df_copy['anon_txt_clean'].apply(lambda x: x.replace(word, general_word))"
      ],
      "metadata": {
        "colab": {
          "base_uri": "https://localhost:8080/"
        },
        "id": "mU17rEFMssRt",
        "outputId": "bfc7cd59-7edd-46f2-998f-f4d02e217bb2"
      },
      "execution_count": 54,
      "outputs": [
        {
          "output_type": "stream",
          "name": "stdout",
          "text": [
            "[-1]\n",
            "\treplacing ['would', 'could'] in should\n",
            "\treplacing ['really', 'think', 'know', 'wonder', 'either', 'tell'] in n't\n",
            "\treplacing ['thought', 'knew'] in wonder\n",
            "\treplacing ['came', 'went'] in took\n",
            "\treplacing ['right', 'though'] in but\n",
            "\treplacing ['nothing', 'everything', 'something', 'anything'] in lot\n",
            "\treplacing ['two', 'three', 'four', 'five'] in six\n",
            "\treplacing ['daughter', 'husband', 'wife'] in father\n",
            "\treplacing ['r', 'b'] in f\n",
            "\treplacing ['horrible', 'terrible'] in cruel\n",
            "\treplacing ['said', 'asked', 'told'] in she\n",
            "\treplacing ['actually', 'probably'] in definitely\n",
            "\treplacing ['older', 'younger'] in hated\n",
            "\treplacing ['disapointed', 'dissappointed'] in embarrased\n",
            "\treplacing ['however', 'perhaps'] in otherwise\n",
            "\treplacing ['mom', 'dad'] in sister\n",
            "\treplacing ['black', 'white'] in blue\n",
            "\treplacing ['hahahaha', 'hahahahaha'] in hahahah\n",
            "\treplacing ['wouldnt', 'couldnt'] in didnt\n",
            "\treplacing ['south', 'east'] in north\n"
          ]
        }
      ]
    },
    {
      "cell_type": "code",
      "source": [
        "df_copy.head()"
      ],
      "metadata": {
        "id": "gLosSyLYssUV",
        "colab": {
          "base_uri": "https://localhost:8080/",
          "height": 206
        },
        "outputId": "d6b3a8c3-b223-4081-9048-bc9b10e1b963"
      },
      "execution_count": 55,
      "outputs": [
        {
          "output_type": "execute_result",
          "data": {
            "text/plain": [
              "   Unnamed: 0                                                txt  sentiment  \\\n",
              "0          84  voices from the farm: i have a copy of this bo...          1   \n",
              "1          99  caution!: these tracks are not the \"original\" ...          0   \n",
              "2         100  textbook: book shipped quickly and was in exce...          1   \n",
              "3         243  it was great!!!: i like it. it was very cool t...          1   \n",
              "4         269  dockers do the job.: this product was just wha...          1   \n",
              "\n",
              "   num_of_words                                           anon_txt  \\\n",
              "0            27  voices fr[f]om the far[f]m: i have a copy of t...   \n",
              "1            22  caution!: these tr[f]acks ar[f]e not the \"or[f...   \n",
              "2            16  textb[f]ook: b[f]ook shipped quickly and was i...   \n",
              "3            21  it was gr[f]eat!!!: i like it. it was ver[f]y ...   \n",
              "4            25  docker[f]s do the job[f].: this pr[f]oduct was...   \n",
              "\n",
              "                                      anon_txt_clean  \n",
              "0  voices ffom the fafm: i have a copy of this fo...  \n",
              "1  caution!: these tfacks afe not the \"ofiginal\" ...  \n",
              "2  textfook: fook shipped quickly and was in exce...  \n",
              "3  it was gfeat!!!: i like it. it was vefy cool t...  \n",
              "4  dockefs do the jof.: this pfoduct was just wha...  "
            ],
            "text/html": [
              "\n",
              "  <div id=\"df-743a51d6-4659-4a4a-b22a-77de7e7676fa\">\n",
              "    <div class=\"colab-df-container\">\n",
              "      <div>\n",
              "<style scoped>\n",
              "    .dataframe tbody tr th:only-of-type {\n",
              "        vertical-align: middle;\n",
              "    }\n",
              "\n",
              "    .dataframe tbody tr th {\n",
              "        vertical-align: top;\n",
              "    }\n",
              "\n",
              "    .dataframe thead th {\n",
              "        text-align: right;\n",
              "    }\n",
              "</style>\n",
              "<table border=\"1\" class=\"dataframe\">\n",
              "  <thead>\n",
              "    <tr style=\"text-align: right;\">\n",
              "      <th></th>\n",
              "      <th>Unnamed: 0</th>\n",
              "      <th>txt</th>\n",
              "      <th>sentiment</th>\n",
              "      <th>num_of_words</th>\n",
              "      <th>anon_txt</th>\n",
              "      <th>anon_txt_clean</th>\n",
              "    </tr>\n",
              "  </thead>\n",
              "  <tbody>\n",
              "    <tr>\n",
              "      <th>0</th>\n",
              "      <td>84</td>\n",
              "      <td>voices from the farm: i have a copy of this bo...</td>\n",
              "      <td>1</td>\n",
              "      <td>27</td>\n",
              "      <td>voices fr[f]om the far[f]m: i have a copy of t...</td>\n",
              "      <td>voices ffom the fafm: i have a copy of this fo...</td>\n",
              "    </tr>\n",
              "    <tr>\n",
              "      <th>1</th>\n",
              "      <td>99</td>\n",
              "      <td>caution!: these tracks are not the \"original\" ...</td>\n",
              "      <td>0</td>\n",
              "      <td>22</td>\n",
              "      <td>caution!: these tr[f]acks ar[f]e not the \"or[f...</td>\n",
              "      <td>caution!: these tfacks afe not the \"ofiginal\" ...</td>\n",
              "    </tr>\n",
              "    <tr>\n",
              "      <th>2</th>\n",
              "      <td>100</td>\n",
              "      <td>textbook: book shipped quickly and was in exce...</td>\n",
              "      <td>1</td>\n",
              "      <td>16</td>\n",
              "      <td>textb[f]ook: b[f]ook shipped quickly and was i...</td>\n",
              "      <td>textfook: fook shipped quickly and was in exce...</td>\n",
              "    </tr>\n",
              "    <tr>\n",
              "      <th>3</th>\n",
              "      <td>243</td>\n",
              "      <td>it was great!!!: i like it. it was very cool t...</td>\n",
              "      <td>1</td>\n",
              "      <td>21</td>\n",
              "      <td>it was gr[f]eat!!!: i like it. it was ver[f]y ...</td>\n",
              "      <td>it was gfeat!!!: i like it. it was vefy cool t...</td>\n",
              "    </tr>\n",
              "    <tr>\n",
              "      <th>4</th>\n",
              "      <td>269</td>\n",
              "      <td>dockers do the job.: this product was just wha...</td>\n",
              "      <td>1</td>\n",
              "      <td>25</td>\n",
              "      <td>docker[f]s do the job[f].: this pr[f]oduct was...</td>\n",
              "      <td>dockefs do the jof.: this pfoduct was just wha...</td>\n",
              "    </tr>\n",
              "  </tbody>\n",
              "</table>\n",
              "</div>\n",
              "      <button class=\"colab-df-convert\" onclick=\"convertToInteractive('df-743a51d6-4659-4a4a-b22a-77de7e7676fa')\"\n",
              "              title=\"Convert this dataframe to an interactive table.\"\n",
              "              style=\"display:none;\">\n",
              "        \n",
              "  <svg xmlns=\"http://www.w3.org/2000/svg\" height=\"24px\"viewBox=\"0 0 24 24\"\n",
              "       width=\"24px\">\n",
              "    <path d=\"M0 0h24v24H0V0z\" fill=\"none\"/>\n",
              "    <path d=\"M18.56 5.44l.94 2.06.94-2.06 2.06-.94-2.06-.94-.94-2.06-.94 2.06-2.06.94zm-11 1L8.5 8.5l.94-2.06 2.06-.94-2.06-.94L8.5 2.5l-.94 2.06-2.06.94zm10 10l.94 2.06.94-2.06 2.06-.94-2.06-.94-.94-2.06-.94 2.06-2.06.94z\"/><path d=\"M17.41 7.96l-1.37-1.37c-.4-.4-.92-.59-1.43-.59-.52 0-1.04.2-1.43.59L10.3 9.45l-7.72 7.72c-.78.78-.78 2.05 0 2.83L4 21.41c.39.39.9.59 1.41.59.51 0 1.02-.2 1.41-.59l7.78-7.78 2.81-2.81c.8-.78.8-2.07 0-2.86zM5.41 20L4 18.59l7.72-7.72 1.47 1.35L5.41 20z\"/>\n",
              "  </svg>\n",
              "      </button>\n",
              "      \n",
              "  <style>\n",
              "    .colab-df-container {\n",
              "      display:flex;\n",
              "      flex-wrap:wrap;\n",
              "      gap: 12px;\n",
              "    }\n",
              "\n",
              "    .colab-df-convert {\n",
              "      background-color: #E8F0FE;\n",
              "      border: none;\n",
              "      border-radius: 50%;\n",
              "      cursor: pointer;\n",
              "      display: none;\n",
              "      fill: #1967D2;\n",
              "      height: 32px;\n",
              "      padding: 0 0 0 0;\n",
              "      width: 32px;\n",
              "    }\n",
              "\n",
              "    .colab-df-convert:hover {\n",
              "      background-color: #E2EBFA;\n",
              "      box-shadow: 0px 1px 2px rgba(60, 64, 67, 0.3), 0px 1px 3px 1px rgba(60, 64, 67, 0.15);\n",
              "      fill: #174EA6;\n",
              "    }\n",
              "\n",
              "    [theme=dark] .colab-df-convert {\n",
              "      background-color: #3B4455;\n",
              "      fill: #D2E3FC;\n",
              "    }\n",
              "\n",
              "    [theme=dark] .colab-df-convert:hover {\n",
              "      background-color: #434B5C;\n",
              "      box-shadow: 0px 1px 3px 1px rgba(0, 0, 0, 0.15);\n",
              "      filter: drop-shadow(0px 1px 2px rgba(0, 0, 0, 0.3));\n",
              "      fill: #FFFFFF;\n",
              "    }\n",
              "  </style>\n",
              "\n",
              "      <script>\n",
              "        const buttonEl =\n",
              "          document.querySelector('#df-743a51d6-4659-4a4a-b22a-77de7e7676fa button.colab-df-convert');\n",
              "        buttonEl.style.display =\n",
              "          google.colab.kernel.accessAllowed ? 'block' : 'none';\n",
              "\n",
              "        async function convertToInteractive(key) {\n",
              "          const element = document.querySelector('#df-743a51d6-4659-4a4a-b22a-77de7e7676fa');\n",
              "          const dataTable =\n",
              "            await google.colab.kernel.invokeFunction('convertToInteractive',\n",
              "                                                     [key], {});\n",
              "          if (!dataTable) return;\n",
              "\n",
              "          const docLinkHtml = 'Like what you see? Visit the ' +\n",
              "            '<a target=\"_blank\" href=https://colab.research.google.com/notebooks/data_table.ipynb>data table notebook</a>'\n",
              "            + ' to learn more about interactive tables.';\n",
              "          element.innerHTML = '';\n",
              "          dataTable['output_type'] = 'display_data';\n",
              "          await google.colab.output.renderOutput(dataTable, element);\n",
              "          const docLink = document.createElement('div');\n",
              "          docLink.innerHTML = docLinkHtml;\n",
              "          element.appendChild(docLink);\n",
              "        }\n",
              "      </script>\n",
              "    </div>\n",
              "  </div>\n",
              "  "
            ]
          },
          "metadata": {},
          "execution_count": 55
        }
      ]
    },
    {
      "cell_type": "code",
      "source": [],
      "metadata": {
        "id": "18jYaUzassWm"
      },
      "execution_count": null,
      "outputs": []
    },
    {
      "cell_type": "code",
      "source": [],
      "metadata": {
        "id": "DnAmBMRBssZI"
      },
      "execution_count": null,
      "outputs": []
    },
    {
      "cell_type": "code",
      "source": [],
      "metadata": {
        "id": "ZXQoyvDcssbV"
      },
      "execution_count": null,
      "outputs": []
    },
    {
      "cell_type": "code",
      "source": [],
      "metadata": {
        "id": "BLbY8vlxssjY"
      },
      "execution_count": null,
      "outputs": []
    },
    {
      "cell_type": "code",
      "source": [],
      "metadata": {
        "id": "2xsCJbSxsslz"
      },
      "execution_count": null,
      "outputs": []
    },
    {
      "cell_type": "code",
      "source": [],
      "metadata": {
        "id": "ejGPFTSUssoh"
      },
      "execution_count": null,
      "outputs": []
    },
    {
      "cell_type": "code",
      "source": [],
      "metadata": {
        "id": "nEEdJLAUssrt"
      },
      "execution_count": null,
      "outputs": []
    },
    {
      "cell_type": "markdown",
      "source": [
        "# DRAFTSSSS BELOW"
      ],
      "metadata": {
        "id": "rEZm6J-Lb_-5"
      }
    },
    {
      "cell_type": "markdown",
      "source": [
        "**the following function iterates over all embedded words and find the two closest words with cosine similarity**"
      ],
      "metadata": {
        "id": "NY2HkFzbBH7K"
      }
    },
    {
      "cell_type": "code",
      "source": [
        "import numpy as np\n",
        "from itertools import combinations"
      ],
      "metadata": {
        "id": "wrKjRekYl3tn"
      },
      "execution_count": null,
      "outputs": []
    },
    {
      "cell_type": "code",
      "source": [
        "# find the pair of closest words in the embedded dict and return the words and the similarity score\n",
        "def find_closest_words(embeddings):\n",
        "    words = list(embeddings.keys())\n",
        "    pairs = combinations(words, 2)\n",
        "    max_similarity = -1\n",
        "    closest_pair = None\n",
        "    for pair in pairs:\n",
        "        emb1 = embeddings[pair[0]]\n",
        "        emb2 = embeddings[pair[1]]\n",
        "        similarity = np.dot(emb1, emb2) / (np.linalg.norm(emb1) * np.linalg.norm(emb2))\n",
        "        if similarity > max_similarity:\n",
        "            max_similarity = similarity\n",
        "            closest_pair = pair\n",
        "    return closest_pair, max_similarity"
      ],
      "metadata": {
        "id": "nDjWJSKzBK8r"
      },
      "execution_count": null,
      "outputs": []
    },
    {
      "cell_type": "code",
      "source": [
        "import numpy as np\n",
        "\n",
        "def get_top_similar_pairs(embeddings):\n",
        "    \"\"\"\n",
        "    Returns the top 10 pairs of most similar words in the embeddings dictionary.\n",
        "    \"\"\"\n",
        "    # Get the vocabulary and embedding matrix from the embeddings dictionary\n",
        "    vocab = list(embeddings.keys())\n",
        "    emb_matrix = np.array(list(embeddings.values()))\n",
        "\n",
        "    # Calculate the cosine similarity matrix between all pairs of embeddings\n",
        "    similarity_matrix = emb_matrix @ emb_matrix.T\n",
        "    similarity_matrix /= np.linalg.norm(emb_matrix, axis=1)[:, np.newaxis]\n",
        "    similarity_matrix /= np.linalg.norm(emb_matrix, axis=1)[np.newaxis, :]\n",
        "\n",
        "    # Find the indices of the top 10 pairs of most similar words\n",
        "    top_pairs_indices = np.argsort(-similarity_matrix, axis=None)[:40]\n",
        "\n",
        "    # Convert the indices back into word pairs and their similarity scores\n",
        "    top_pairs_scores = similarity_matrix.flatten()[top_pairs_indices]\n",
        "    top_pairs = [(vocab[i // len(vocab)], vocab[i % len(vocab)], score)\n",
        "                 for i, score in zip(top_pairs_indices, top_pairs_scores)]\n",
        "\n",
        "    # Filter out pairs that have the same word or are reverse duplicates\n",
        "    top_pairs = [(w1, w2, score) for w1, w2, score in top_pairs\n",
        "                 if w1 != w2 and (w2, w1, score) not in top_pairs]\n",
        "\n",
        "    # Sort the top pairs by their similarity score\n",
        "    top_pairs.sort(key=lambda x: x[2], reverse=True)\n",
        "\n",
        "    # Return the top 10 pairs\n",
        "    return top_pairs[:10]"
      ],
      "metadata": {
        "id": "y5dcNtA3ms2s"
      },
      "execution_count": null,
      "outputs": []
    },
    {
      "cell_type": "code",
      "source": [
        "top_pairs = get_top_similar_pairs(embedded_dict)\n",
        "print(top_pairs)"
      ],
      "metadata": {
        "colab": {
          "base_uri": "https://localhost:8080/"
        },
        "id": "eqg7xCvYmv2t",
        "outputId": "bfa9921c-54ad-43eb-e557-f8c7a7b4bfe0"
      },
      "execution_count": null,
      "outputs": [
        {
          "output_type": "stream",
          "name": "stdout",
          "text": [
            "[]\n"
          ]
        }
      ]
    },
    {
      "cell_type": "code",
      "source": [
        "len(embedded_dict)"
      ],
      "metadata": {
        "colab": {
          "base_uri": "https://localhost:8080/"
        },
        "id": "a3tZWJdTnFcf",
        "outputId": "0174f5e3-5fdc-4be7-e157-61d884a37397"
      },
      "execution_count": null,
      "outputs": [
        {
          "output_type": "execute_result",
          "data": {
            "text/plain": [
              "2736"
            ]
          },
          "metadata": {},
          "execution_count": 38
        }
      ]
    },
    {
      "cell_type": "code",
      "source": [
        "closest_pair ,max_similarity = find_closest_words(embedded_dict)\n",
        "\n",
        "print(closest_pair)\n",
        "print(max_similarity)"
      ],
      "metadata": {
        "colab": {
          "base_uri": "https://localhost:8080/"
        },
        "id": "Z-KA3l54BK_W",
        "outputId": "49106c81-aac1-4d8b-d428-26bde00ff4aa"
      },
      "execution_count": null,
      "outputs": [
        {
          "output_type": "stream",
          "name": "stdout",
          "text": [
            "(('three', 'five'), 0.9927426)\n",
            "0.9927426\n"
          ]
        }
      ]
    },
    {
      "cell_type": "code",
      "source": [],
      "metadata": {
        "id": "d9UgwucFBLCK"
      },
      "execution_count": null,
      "outputs": []
    },
    {
      "cell_type": "code",
      "source": [
        "embeddings[1:3,1]"
      ],
      "metadata": {
        "colab": {
          "base_uri": "https://localhost:8080/"
        },
        "id": "Z4D349uppFrf",
        "outputId": "e76352cd-db39-4c67-813c-7cd1e8ebe525"
      },
      "execution_count": null,
      "outputs": [
        {
          "output_type": "execute_result",
          "data": {
            "text/plain": [
              "array([0.36512, 0.60274], dtype=float32)"
            ]
          },
          "metadata": {},
          "execution_count": 14
        }
      ]
    },
    {
      "cell_type": "code",
      "source": [],
      "metadata": {
        "id": "WG-874f2Awpa"
      },
      "execution_count": null,
      "outputs": []
    },
    {
      "cell_type": "code",
      "source": [
        "## DBSCAN \n",
        "!pip install --upgrade kneed"
      ],
      "metadata": {
        "id": "rPOSiJv-VxK9",
        "colab": {
          "base_uri": "https://localhost:8080/"
        },
        "outputId": "8e8feb59-914e-4db9-c575-9e9978508036"
      },
      "execution_count": null,
      "outputs": [
        {
          "output_type": "stream",
          "name": "stdout",
          "text": [
            "Looking in indexes: https://pypi.org/simple, https://us-python.pkg.dev/colab-wheels/public/simple/\n",
            "Collecting kneed\n",
            "  Downloading kneed-0.8.2-py3-none-any.whl (10 kB)\n",
            "Requirement already satisfied: numpy>=1.14.2 in /usr/local/lib/python3.9/dist-packages (from kneed) (1.22.4)\n",
            "Requirement already satisfied: scipy>=1.0.0 in /usr/local/lib/python3.9/dist-packages (from kneed) (1.10.1)\n",
            "Installing collected packages: kneed\n",
            "Successfully installed kneed-0.8.2\n"
          ]
        }
      ]
    },
    {
      "cell_type": "code",
      "source": [
        "## CODE USED TO FINED EPS VALUE == NO NEED TO RUN THIS AGAIN\n",
        "if True: \n",
        "    from kneed import KneeLocator\n",
        "    from sklearn.neighbors import NearestNeighbors\n",
        "\n",
        "    # Compute the k-distances for each point\n",
        "    k = 10\n",
        "    neigh = NearestNeighbors(n_neighbors=k)\n",
        "    neigh.fit(embeddings)\n",
        "    distances, indices = neigh.kneighbors(embeddings)\n",
        "\n",
        "    # Sort the distances and flatten them into a 1D array\n",
        "    sorted_distances = np.sort(distances[:,k-1], axis=None)\n",
        "\n",
        "    # Plot the k-distance graph\n",
        "    # plt.plot(sorted_distances)\n",
        "\n",
        "    # Find the elbow point\n",
        "    kneedle = KneeLocator(range(len(sorted_distances)), sorted_distances, S=1.0, curve='concave', direction='increasing')\n",
        "    eps = sorted_distances[kneedle.elbow]\n",
        "\n",
        "    print(f\"Estimated eps value: {eps}\")\n",
        "    first_run=False"
      ],
      "metadata": {
        "id": "o9EDoIdWX9-_",
        "colab": {
          "base_uri": "https://localhost:8080/"
        },
        "outputId": "faa0b31f-1384-4b10-ba8b-5afcbaac6710"
      },
      "execution_count": null,
      "outputs": [
        {
          "output_type": "stream",
          "name": "stdout",
          "text": [
            "Estimated eps value: 1.8090869733611645\n"
          ]
        }
      ]
    },
    {
      "cell_type": "code",
      "source": [
        "# Import the necessary libraries\n",
        "from sklearn.manifold import TSNE\n",
        "import matplotlib.pyplot as plt\n",
        "from sklearn.cluster import DBSCAN\n",
        "dbscan = DBSCAN(eps=eps, min_samples=2)  # <0.5 returned only one cluster. Chose 3 a min words per cluster (maybe reduce to 2?) Maybe according to k"
      ],
      "metadata": {
        "id": "nV2agLOVX-BM"
      },
      "execution_count": null,
      "outputs": []
    },
    {
      "cell_type": "code",
      "source": [
        "dbscan.fit(embeddings)\n"
      ],
      "metadata": {
        "colab": {
          "base_uri": "https://localhost:8080/",
          "height": 75
        },
        "id": "_EiXQo_nX-Da",
        "outputId": "1ba151fc-48fb-40a1-abcf-7245e6ce54fc"
      },
      "execution_count": null,
      "outputs": [
        {
          "output_type": "execute_result",
          "data": {
            "text/plain": [
              "DBSCAN(eps=1.8090869733611645, min_samples=2)"
            ],
            "text/html": [
              "<style>#sk-container-id-1 {color: black;background-color: white;}#sk-container-id-1 pre{padding: 0;}#sk-container-id-1 div.sk-toggleable {background-color: white;}#sk-container-id-1 label.sk-toggleable__label {cursor: pointer;display: block;width: 100%;margin-bottom: 0;padding: 0.3em;box-sizing: border-box;text-align: center;}#sk-container-id-1 label.sk-toggleable__label-arrow:before {content: \"▸\";float: left;margin-right: 0.25em;color: #696969;}#sk-container-id-1 label.sk-toggleable__label-arrow:hover:before {color: black;}#sk-container-id-1 div.sk-estimator:hover label.sk-toggleable__label-arrow:before {color: black;}#sk-container-id-1 div.sk-toggleable__content {max-height: 0;max-width: 0;overflow: hidden;text-align: left;background-color: #f0f8ff;}#sk-container-id-1 div.sk-toggleable__content pre {margin: 0.2em;color: black;border-radius: 0.25em;background-color: #f0f8ff;}#sk-container-id-1 input.sk-toggleable__control:checked~div.sk-toggleable__content {max-height: 200px;max-width: 100%;overflow: auto;}#sk-container-id-1 input.sk-toggleable__control:checked~label.sk-toggleable__label-arrow:before {content: \"▾\";}#sk-container-id-1 div.sk-estimator input.sk-toggleable__control:checked~label.sk-toggleable__label {background-color: #d4ebff;}#sk-container-id-1 div.sk-label input.sk-toggleable__control:checked~label.sk-toggleable__label {background-color: #d4ebff;}#sk-container-id-1 input.sk-hidden--visually {border: 0;clip: rect(1px 1px 1px 1px);clip: rect(1px, 1px, 1px, 1px);height: 1px;margin: -1px;overflow: hidden;padding: 0;position: absolute;width: 1px;}#sk-container-id-1 div.sk-estimator {font-family: monospace;background-color: #f0f8ff;border: 1px dotted black;border-radius: 0.25em;box-sizing: border-box;margin-bottom: 0.5em;}#sk-container-id-1 div.sk-estimator:hover {background-color: #d4ebff;}#sk-container-id-1 div.sk-parallel-item::after {content: \"\";width: 100%;border-bottom: 1px solid gray;flex-grow: 1;}#sk-container-id-1 div.sk-label:hover label.sk-toggleable__label {background-color: #d4ebff;}#sk-container-id-1 div.sk-serial::before {content: \"\";position: absolute;border-left: 1px solid gray;box-sizing: border-box;top: 0;bottom: 0;left: 50%;z-index: 0;}#sk-container-id-1 div.sk-serial {display: flex;flex-direction: column;align-items: center;background-color: white;padding-right: 0.2em;padding-left: 0.2em;position: relative;}#sk-container-id-1 div.sk-item {position: relative;z-index: 1;}#sk-container-id-1 div.sk-parallel {display: flex;align-items: stretch;justify-content: center;background-color: white;position: relative;}#sk-container-id-1 div.sk-item::before, #sk-container-id-1 div.sk-parallel-item::before {content: \"\";position: absolute;border-left: 1px solid gray;box-sizing: border-box;top: 0;bottom: 0;left: 50%;z-index: -1;}#sk-container-id-1 div.sk-parallel-item {display: flex;flex-direction: column;z-index: 1;position: relative;background-color: white;}#sk-container-id-1 div.sk-parallel-item:first-child::after {align-self: flex-end;width: 50%;}#sk-container-id-1 div.sk-parallel-item:last-child::after {align-self: flex-start;width: 50%;}#sk-container-id-1 div.sk-parallel-item:only-child::after {width: 0;}#sk-container-id-1 div.sk-dashed-wrapped {border: 1px dashed gray;margin: 0 0.4em 0.5em 0.4em;box-sizing: border-box;padding-bottom: 0.4em;background-color: white;}#sk-container-id-1 div.sk-label label {font-family: monospace;font-weight: bold;display: inline-block;line-height: 1.2em;}#sk-container-id-1 div.sk-label-container {text-align: center;}#sk-container-id-1 div.sk-container {/* jupyter's `normalize.less` sets `[hidden] { display: none; }` but bootstrap.min.css set `[hidden] { display: none !important; }` so we also need the `!important` here to be able to override the default hidden behavior on the sphinx rendered scikit-learn.org. See: https://github.com/scikit-learn/scikit-learn/issues/21755 */display: inline-block !important;position: relative;}#sk-container-id-1 div.sk-text-repr-fallback {display: none;}</style><div id=\"sk-container-id-1\" class=\"sk-top-container\"><div class=\"sk-text-repr-fallback\"><pre>DBSCAN(eps=1.8090869733611645, min_samples=2)</pre><b>In a Jupyter environment, please rerun this cell to show the HTML representation or trust the notebook. <br />On GitHub, the HTML representation is unable to render, please try loading this page with nbviewer.org.</b></div><div class=\"sk-container\" hidden><div class=\"sk-item\"><div class=\"sk-estimator sk-toggleable\"><input class=\"sk-toggleable__control sk-hidden--visually\" id=\"sk-estimator-id-1\" type=\"checkbox\" checked><label for=\"sk-estimator-id-1\" class=\"sk-toggleable__label sk-toggleable__label-arrow\">DBSCAN</label><div class=\"sk-toggleable__content\"><pre>DBSCAN(eps=1.8090869733611645, min_samples=2)</pre></div></div></div></div></div>"
            ]
          },
          "metadata": {},
          "execution_count": 18
        }
      ]
    },
    {
      "cell_type": "code",
      "source": [
        "labels = dbscan.labels_\n",
        "labels"
      ],
      "metadata": {
        "colab": {
          "base_uri": "https://localhost:8080/"
        },
        "id": "9O_fLHeraO-L",
        "outputId": "bae5126b-0da9-402c-8a15-6f5658c76a53"
      },
      "execution_count": null,
      "outputs": [
        {
          "output_type": "execute_result",
          "data": {
            "text/plain": [
              "array([ 0, -1, -1, ..., -1, -1, -1])"
            ]
          },
          "metadata": {},
          "execution_count": 19
        }
      ]
    },
    {
      "cell_type": "code",
      "source": [
        "\n",
        "# Extract the embeddings from the embedded_dict and store them in a numpy array\n",
        "embeddings = np.array(list(embedded_dict.values()))\n",
        "\n",
        "# Perform t-SNE on the embeddings to reduce their dimensionality to 2\n",
        "tsne = TSNE(n_components=2, perplexity=30, n_iter=1000, random_state=42)\n",
        "embeddings_2d = tsne.fit_transform(embeddings)\n",
        "\n",
        "# Get the cluster labels assigned by DBSCAN\n",
        "labels = dbscan.labels_\n",
        "\n",
        "# Plot the 2D embeddings with different colors for each cluster\n",
        "plt.scatter(embeddings_2d[:, 0], embeddings_2d[:, 1], c=labels)\n",
        "plt.show()"
      ],
      "metadata": {
        "colab": {
          "base_uri": "https://localhost:8080/",
          "height": 430
        },
        "id": "nL7HBOZYUun0",
        "outputId": "362243cd-fb81-4e7c-af54-0e254b0ff6b6"
      },
      "execution_count": null,
      "outputs": [
        {
          "output_type": "display_data",
          "data": {
            "text/plain": [
              "<Figure size 640x480 with 1 Axes>"
            ],
            "image/png": "[encoded data removed]"
          },
          "metadata": {}
        }
      ]
    },
    {
      "cell_type": "code",
      "source": [
        "clusters = {}\n",
        "for i, key in enumerate(embedded_dict.keys()):\n",
        "    cluster = labels[i]\n",
        "    if cluster not in clusters:\n",
        "        clusters[cluster] = []\n",
        "    clusters[cluster].append(key)"
      ],
      "metadata": {
        "id": "8adWEsf2aPJC"
      },
      "execution_count": null,
      "outputs": []
    },
    {
      "cell_type": "code",
      "source": [
        "for key, val in clusters.items():\n",
        "    print(f'Cluster {key} includes {len(val)} words')"
      ],
      "metadata": {
        "colab": {
          "base_uri": "https://localhost:8080/"
        },
        "id": "TgTWpZtdas7u",
        "outputId": "69394f92-e15c-4045-82a4-fec25adcb767"
      },
      "execution_count": null,
      "outputs": [
        {
          "output_type": "stream",
          "name": "stdout",
          "text": [
            "Cluster 0 includes 2 words\n",
            "Cluster -1 includes 2132 words\n",
            "Cluster 1 includes 2 words\n",
            "Cluster 2 includes 222 words\n",
            "Cluster 3 includes 3 words\n",
            "Cluster 4 includes 4 words\n",
            "Cluster 5 includes 2 words\n",
            "Cluster 6 includes 2 words\n",
            "Cluster 7 includes 2 words\n",
            "Cluster 8 includes 9 words\n",
            "Cluster 9 includes 2 words\n",
            "Cluster 10 includes 2 words\n",
            "Cluster 11 includes 2 words\n",
            "Cluster 12 includes 2 words\n",
            "Cluster 13 includes 2 words\n",
            "Cluster 14 includes 2 words\n",
            "Cluster 15 includes 2 words\n",
            "Cluster 16 includes 2 words\n",
            "Cluster 17 includes 3 words\n",
            "Cluster 18 includes 2 words\n",
            "Cluster 19 includes 2 words\n",
            "Cluster 20 includes 2 words\n",
            "Cluster 21 includes 8 words\n",
            "Cluster 22 includes 29 words\n",
            "Cluster 23 includes 3 words\n",
            "Cluster 24 includes 2 words\n",
            "Cluster 25 includes 2 words\n",
            "Cluster 26 includes 4 words\n",
            "Cluster 27 includes 2 words\n",
            "Cluster 28 includes 3 words\n",
            "Cluster 29 includes 2 words\n",
            "Cluster 30 includes 2 words\n",
            "Cluster 31 includes 2 words\n",
            "Cluster 32 includes 2 words\n",
            "Cluster 33 includes 3 words\n",
            "Cluster 34 includes 4 words\n",
            "Cluster 35 includes 2 words\n",
            "Cluster 36 includes 4 words\n",
            "Cluster 37 includes 6 words\n",
            "Cluster 38 includes 4 words\n",
            "Cluster 39 includes 2 words\n",
            "Cluster 40 includes 2 words\n",
            "Cluster 41 includes 2 words\n",
            "Cluster 42 includes 2 words\n",
            "Cluster 43 includes 2 words\n",
            "Cluster 44 includes 2 words\n",
            "Cluster 45 includes 2 words\n",
            "Cluster 46 includes 9 words\n",
            "Cluster 47 includes 2 words\n",
            "Cluster 48 includes 2 words\n",
            "Cluster 49 includes 3 words\n",
            "Cluster 50 includes 2 words\n",
            "Cluster 51 includes 3 words\n",
            "Cluster 52 includes 3 words\n",
            "Cluster 53 includes 3 words\n",
            "Cluster 54 includes 2 words\n",
            "Cluster 55 includes 3 words\n",
            "Cluster 56 includes 4 words\n",
            "Cluster 57 includes 6 words\n",
            "Cluster 58 includes 2 words\n",
            "Cluster 59 includes 2 words\n",
            "Cluster 60 includes 2 words\n",
            "Cluster 61 includes 2 words\n",
            "Cluster 62 includes 2 words\n",
            "Cluster 63 includes 5 words\n",
            "Cluster 64 includes 2 words\n",
            "Cluster 65 includes 2 words\n",
            "Cluster 66 includes 2 words\n",
            "Cluster 67 includes 2 words\n",
            "Cluster 68 includes 2 words\n",
            "Cluster 69 includes 2 words\n",
            "Cluster 70 includes 2 words\n",
            "Cluster 71 includes 2 words\n",
            "Cluster 72 includes 2 words\n",
            "Cluster 73 includes 2 words\n",
            "Cluster 74 includes 2 words\n",
            "Cluster 75 includes 2 words\n",
            "Cluster 76 includes 2 words\n",
            "Cluster 77 includes 3 words\n",
            "Cluster 78 includes 2 words\n",
            "Cluster 79 includes 2 words\n",
            "Cluster 80 includes 4 words\n",
            "Cluster 81 includes 7 words\n",
            "Cluster 82 includes 2 words\n",
            "Cluster 83 includes 2 words\n",
            "Cluster 84 includes 3 words\n",
            "Cluster 85 includes 6 words\n",
            "Cluster 86 includes 3 words\n",
            "Cluster 87 includes 2 words\n",
            "Cluster 88 includes 4 words\n",
            "Cluster 89 includes 2 words\n",
            "Cluster 90 includes 4 words\n",
            "Cluster 91 includes 2 words\n",
            "Cluster 92 includes 2 words\n",
            "Cluster 93 includes 2 words\n",
            "Cluster 94 includes 2 words\n",
            "Cluster 95 includes 2 words\n",
            "Cluster 96 includes 2 words\n",
            "Cluster 97 includes 2 words\n",
            "Cluster 98 includes 2 words\n",
            "Cluster 99 includes 2 words\n",
            "Cluster 100 includes 2 words\n",
            "Cluster 101 includes 2 words\n",
            "Cluster 102 includes 2 words\n",
            "Cluster 103 includes 3 words\n",
            "Cluster 104 includes 2 words\n",
            "Cluster 105 includes 2 words\n",
            "Cluster 106 includes 2 words\n",
            "Cluster 107 includes 4 words\n",
            "Cluster 108 includes 2 words\n",
            "Cluster 109 includes 2 words\n",
            "Cluster 110 includes 2 words\n",
            "Cluster 111 includes 3 words\n",
            "Cluster 112 includes 4 words\n",
            "Cluster 113 includes 2 words\n",
            "Cluster 114 includes 2 words\n",
            "Cluster 115 includes 2 words\n",
            "Cluster 116 includes 2 words\n",
            "Cluster 117 includes 2 words\n",
            "Cluster 118 includes 2 words\n",
            "Cluster 119 includes 2 words\n",
            "Cluster 120 includes 3 words\n",
            "Cluster 121 includes 2 words\n",
            "Cluster 122 includes 2 words\n",
            "Cluster 123 includes 2 words\n",
            "Cluster 124 includes 2 words\n",
            "Cluster 125 includes 2 words\n",
            "Cluster 126 includes 2 words\n",
            "Cluster 127 includes 2 words\n",
            "Cluster 128 includes 2 words\n",
            "Cluster 129 includes 2 words\n",
            "Cluster 130 includes 2 words\n",
            "Cluster 131 includes 3 words\n",
            "Cluster 132 includes 2 words\n",
            "Cluster 133 includes 2 words\n",
            "Cluster 134 includes 2 words\n",
            "Cluster 135 includes 2 words\n",
            "Cluster 136 includes 2 words\n",
            "Cluster 137 includes 2 words\n",
            "Cluster 138 includes 2 words\n"
          ]
        }
      ]
    },
    {
      "cell_type": "code",
      "source": [
        "def get_general_word_from_cluster(word_list, we_model):\n",
        "    \"\"\" Finds the most similar words usind word embedding\"\"\"\n",
        "    glove_words = list(we_model.index_to_key)\n",
        "    known_words = [w for w in word_list if w in glove_words]\n",
        "    if len(known_words) > 0:\n",
        "        we_word = we_model.most_similar(known_words, topn=1)[0][0]\n",
        "    else:\n",
        "        we_word = None\n",
        "    return we_word"
      ],
      "metadata": {
        "id": "eDY8AjuAas-U"
      },
      "execution_count": null,
      "outputs": []
    },
    {
      "cell_type": "markdown",
      "source": [
        "### 1.\tPrepare in advance 10 pairs of accepted similar words and 10 accepted unsimilar words\n",
        "\n",
        "\n",
        "To create a dictionary of 10 pairs of very similar words according to word2vec embedding, you can use a pre-trained word embedding model, such as the one available in the gensim library. Here's an example:"
      ],
      "metadata": {
        "id": "CN4iXAeb3Rl0"
      }
    },
    {
      "cell_type": "code",
      "source": [
        "import gensim.downloader as api\n",
        "\n",
        "# load pre-trained word2vec model\n",
        "model = api.load('word2vec-google-news-300')\n",
        "\n",
        "# define pairs of similar words\n",
        "word_pairs = [('car', 'vehicle'),\n",
        "              ('hotel', 'lodging'),\n",
        "              ('money', 'currency'),\n",
        "              ('music', 'song'),\n",
        "              ('book', 'novel'),\n",
        "              ('phone', 'smartphone'),\n",
        "              ('computer', 'laptop'),\n",
        "              ('country', 'nation'),\n",
        "              ('ocean', 'sea'),\n",
        "              ('city', 'metropolis')]\n",
        "\n",
        "# compute similarity scores for each pair of words\n",
        "similarity_scores = {}\n",
        "for pair in word_pairs:\n",
        "    word1, word2 = pair\n",
        "    similarity_scores[pair] = model.similarity(word1, word2)  # is it cosine similarity?\n",
        "\n",
        "# print the pairs and their similarity scores\n",
        "for pair, score in similarity_scores.items():\n",
        "    print(f'{pair}: {score:.3f}')"
      ],
      "metadata": {
        "colab": {
          "base_uri": "https://localhost:8080/"
        },
        "id": "2WE7v2e33TA1",
        "outputId": "b01fe948-28fc-4087-aa13-aaa9311ae726"
      },
      "execution_count": null,
      "outputs": [
        {
          "output_type": "stream",
          "name": "stdout",
          "text": [
            "[==================================================] 100.0% 1662.8/1662.8MB downloaded\n",
            "('car', 'vehicle'): 0.782\n",
            "('hotel', 'lodging'): 0.578\n",
            "('money', 'currency'): 0.160\n",
            "('music', 'song'): 0.544\n",
            "('book', 'novel'): 0.612\n",
            "('phone', 'smartphone'): 0.458\n",
            "('computer', 'laptop'): 0.664\n",
            "('country', 'nation'): 0.724\n",
            "('ocean', 'sea'): 0.764\n",
            "('city', 'metropolis'): 0.572\n"
          ]
        }
      ]
    },
    {
      "cell_type": "code",
      "source": [],
      "metadata": {
        "id": "qodF1lL232Hf"
      },
      "execution_count": null,
      "outputs": []
    }
  ]
}