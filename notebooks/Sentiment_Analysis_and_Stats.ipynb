{
  "cells": [
    {
      "cell_type": "markdown",
      "metadata": {
        "id": "GNKVJz40DR5A"
      },
      "source": [
        "# Sentiment Analysis\n",
        "# Some Statistics\n",
        "\n",
        "this note book contain functions that will returns:\n",
        "(1) the sentiment analysis score of the data (supervised)\n",
        "(2) the sentiment analysis score of the data (un-suprevised)\n",
        "(3) some statistics about the data (TBD  Pos, len of sentences etc..)\n",
        "\n"
      ]
    },
    {
      "cell_type": "markdown",
      "metadata": {
        "id": "1oAufnsAdpFn"
      },
      "source": [
        "######################### THE FUNCTION THAT CAN BE COPIED ####################"
      ]
    },
    {
      "cell_type": "markdown",
      "metadata": {
        "id": "-ojy-7D2eaVR"
      },
      "source": [
        "############# 1 ############"
      ]
    },
    {
      "cell_type": "code",
      "execution_count": null,
      "metadata": {
        "id": "lym8Qj2QdtGa"
      },
      "outputs": [],
      "source": []
    },
    {
      "cell_type": "markdown",
      "metadata": {
        "id": "LYpWBKcfeWBq"
      },
      "source": [
        "## First function using VADER"
      ]
    },
    {
      "cell_type": "code",
      "execution_count": 1,
      "metadata": {
        "colab": {
          "base_uri": "https://localhost:8080/"
        },
        "id": "-wHVKPdueWBr",
        "outputId": "47b2e6ca-b812-4a38-f0fe-392620d6c589"
      },
      "outputs": [
        {
          "name": "stderr",
          "output_type": "stream",
          "text": [
            "[nltk_data] Downloading package vader_lexicon to\n",
            "[nltk_data]     C:\\Users\\user\\AppData\\Roaming\\nltk_data...\n"
          ]
        },
        {
          "data": {
            "text/plain": [
              "True"
            ]
          },
          "execution_count": 1,
          "metadata": {},
          "output_type": "execute_result"
        }
      ],
      "source": [
        "# required imports\n",
        "import nltk\n",
        "from nltk.sentiment import SentimentIntensityAnalyzer\n",
        "nltk.download('vader_lexicon')  # download necessary data for sentiment analysis"
      ]
    },
    {
      "cell_type": "code",
      "execution_count": 2,
      "metadata": {
        "id": "WQrmw_efeWBs"
      },
      "outputs": [],
      "source": [
        "# Instantiate sentiment analyzer\n",
        "analyzer = SentimentIntensityAnalyzer()"
      ]
    },
    {
      "cell_type": "code",
      "execution_count": 3,
      "metadata": {
        "id": "WiYiONAAeWBs"
      },
      "outputs": [],
      "source": [
        "# Define function to apply sentiment analysis to text\n",
        "def get_sentiment(text):\n",
        "    return analyzer.polarity_scores(text)['compound']"
      ]
    },
    {
      "cell_type": "code",
      "execution_count": 4,
      "metadata": {
        "id": "ByMUAhZNeWBt"
      },
      "outputs": [
        {
          "ename": "NameError",
          "evalue": "name 'df' is not defined",
          "output_type": "error",
          "traceback": [
            "\u001b[1;31m---------------------------------------------------------------------------\u001b[0m",
            "\u001b[1;31mNameError\u001b[0m                                 Traceback (most recent call last)",
            "Cell \u001b[1;32mIn[4], line 2\u001b[0m\n\u001b[0;32m      1\u001b[0m \u001b[39m# Apply sentiment analysis to DataFrame and create new column with results\u001b[39;00m\n\u001b[1;32m----> 2\u001b[0m df[\u001b[39m'\u001b[39m\u001b[39msentiment_pred\u001b[39m\u001b[39m'\u001b[39m] \u001b[39m=\u001b[39m df[\u001b[39m'\u001b[39m\u001b[39mtxt\u001b[39m\u001b[39m'\u001b[39m]\u001b[39m.\u001b[39mapply(get_sentiment)  \u001b[39m# add a colum to the df\u001b[39;00m\n",
            "\u001b[1;31mNameError\u001b[0m: name 'df' is not defined"
          ]
        }
      ],
      "source": [
        "# Apply sentiment analysis to DataFrame and create new column with results\n",
        "df['sentiment_pred'] = df['txt'].apply(get_sentiment)  # add a colum to the df"
      ]
    },
    {
      "cell_type": "code",
      "execution_count": null,
      "metadata": {
        "colab": {
          "base_uri": "https://localhost:8080/",
          "height": 183
        },
        "id": "9_CQmDyYeWBt",
        "outputId": "4fd4eda1-7722-4726-d3e0-400098a20e4d"
      },
      "outputs": [
        {
          "ename": "AttributeError",
          "evalue": "ignored",
          "output_type": "error",
          "traceback": [
            "\u001b[0;31m---------------------------------------------------------------------------\u001b[0m",
            "\u001b[0;31mAttributeError\u001b[0m                            Traceback (most recent call last)",
            "\u001b[0;32m<ipython-input-22-8a525bd6d70c>\u001b[0m in \u001b[0;36m<cell line: 2>\u001b[0;34m()\u001b[0m\n\u001b[1;32m      1\u001b[0m \u001b[0;31m# Apply sentiment analysis to a single document\u001b[0m\u001b[0;34m\u001b[0m\u001b[0;34m\u001b[0m\u001b[0m\n\u001b[0;32m----> 2\u001b[0;31m \u001b[0mdf\u001b[0m\u001b[0;34m[\u001b[0m\u001b[0;34m'sentiment_pred'\u001b[0m\u001b[0;34m]\u001b[0m \u001b[0;34m=\u001b[0m \u001b[0mdf\u001b[0m\u001b[0;34m[\u001b[0m\u001b[0;34m'txt'\u001b[0m\u001b[0;34m]\u001b[0m\u001b[0;34m[\u001b[0m\u001b[0;36m0\u001b[0m\u001b[0;34m]\u001b[0m\u001b[0;34m.\u001b[0m\u001b[0mtolist\u001b[0m\u001b[0;34m(\u001b[0m\u001b[0;34m)\u001b[0m\u001b[0;34m\u001b[0m\u001b[0;34m\u001b[0m\u001b[0m\n\u001b[0m",
            "\u001b[0;31mAttributeError\u001b[0m: 'str' object has no attribute 'tolist'"
          ]
        }
      ],
      "source": [
        "# Apply sentiment analysis to a single document\n",
        "def get_sentiment(text):\n",
        "  return get_sentiment(text) # 0.5675 for example"
      ]
    },
    {
      "cell_type": "markdown",
      "metadata": {
        "id": "2a8FvpbJeXJ8"
      },
      "source": [
        "############# 2 #################"
      ]
    },
    {
      "cell_type": "code",
      "execution_count": null,
      "metadata": {
        "id": "qQezPK9adtIw"
      },
      "outputs": [],
      "source": []
    },
    {
      "cell_type": "markdown",
      "metadata": {
        "id": "7Bksx6miejdy"
      },
      "source": [
        "## function using hugging face\n",
        "https://huggingface.co/blog/sentiment-analysis-python"
      ]
    },
    {
      "cell_type": "code",
      "execution_count": null,
      "metadata": {
        "id": "kKRtpKxeejdz"
      },
      "outputs": [],
      "source": [
        "# required imports\n",
        "pip install -q transformers\n",
        "from transformers import pipeline"
      ]
    },
    {
      "cell_type": "code",
      "execution_count": null,
      "metadata": {
        "id": "ce5uFuG_ejd0"
      },
      "outputs": [],
      "source": [
        "## sentiment analysis on a single document:\n",
        "def hugging_sentiment(text):\n",
        "  sentiment_pipeline = pipeline(\"sentiment-analysis\")\n",
        "  # if we want to insert a corpus and not a single text:\n",
        "  #  chance \"text\" with \"data\" where: data = df['txt'].tolist()\n",
        "  return sentiment_pipeline(text)  # [{'label': 'POSITIVE', 'score': 0.999708354473114}]"
      ]
    },
    {
      "cell_type": "code",
      "execution_count": null,
      "metadata": {
        "id": "0tBe9Zhmejd0"
      },
      "outputs": [],
      "source": [
        "## sentiment analysis on a single document - return only sentiment score:\n",
        "def hugging_sentiment(text):\n",
        "  sentiment_pipeline = pipeline(\"sentiment-analysis\")\n",
        "  # if we want to insert a corpus and not a single text:\n",
        "  #  chance \"text\" with \"data\" where: data = df['txt'].tolist()\n",
        "  score = sentiment_pipeline(text)[0]['score']\n",
        "  if sentiment_pipeline(text)[0]['label'] =='NEGATIVE'\n",
        "  score = score*(-1)\n",
        "  return score  #  0.999708354473114"
      ]
    },
    {
      "cell_type": "markdown",
      "metadata": {
        "id": "yHpADj0Senol"
      },
      "source": [
        "########  3 SUPERVISED  ###########"
      ]
    },
    {
      "cell_type": "code",
      "execution_count": null,
      "metadata": {
        "id": "4wk9V4YOdtLU"
      },
      "outputs": [],
      "source": []
    },
    {
      "cell_type": "markdown",
      "metadata": {
        "id": "NMww_bTgfE3N"
      },
      "source": [
        "## Supervised Function"
      ]
    },
    {
      "cell_type": "code",
      "execution_count": null,
      "metadata": {
        "id": "nwDALfTzfE3O"
      },
      "outputs": [],
      "source": [
        "# define the inputs to the function\n",
        "texts = df.txt\n",
        "labels = df.labels"
      ]
    },
    {
      "cell_type": "code",
      "execution_count": null,
      "metadata": {
        "id": "ABczDvIgfE3O"
      },
      "outputs": [],
      "source": [
        "# required imports\n",
        "from sklearn.naive_bayes import MultinomialNB\n",
        "from sklearn.metrics import accuracy_score\n",
        "from sklearn.model_selection import train_test_split"
      ]
    },
    {
      "cell_type": "code",
      "execution_count": null,
      "metadata": {
        "id": "PzZr6LfsfE3P"
      },
      "outputs": [],
      "source": [
        "def sentiment_test(df): # df should include 'txt' and 'labels' columns [df.txt , sd.labels]\n",
        "  # split to train test\n",
        "  train, test = train_test_split(df, test_size=0.2)  # split row's wise\n",
        "  # define a model\n",
        "  nb = MultinomialNB()\n",
        "  # train a model\n",
        "  nb.fit(train.txt, train.labels)\n",
        "  # predict\n",
        "  y_pred = nb.predict(test.txt)\n",
        "  # return score\n",
        "  print('Accuracy:', accuracy_score(test.labels, y_pred))\n",
        "  return accuracy_score(test.labels, y_pred)"
      ]
    },
    {
      "cell_type": "code",
      "execution_count": null,
      "metadata": {
        "id": "blggEcE_dtN8"
      },
      "outputs": [],
      "source": []
    },
    {
      "cell_type": "code",
      "execution_count": null,
      "metadata": {
        "id": "0M19mzkBdtQi"
      },
      "outputs": [],
      "source": []
    },
    {
      "cell_type": "code",
      "execution_count": null,
      "metadata": {
        "id": "Vo1iU6yedtTA"
      },
      "outputs": [],
      "source": []
    },
    {
      "cell_type": "code",
      "execution_count": null,
      "metadata": {
        "id": "Dp-LtW-tdtWC"
      },
      "outputs": [],
      "source": []
    },
    {
      "cell_type": "code",
      "execution_count": null,
      "metadata": {
        "id": "249teExDdtYS"
      },
      "outputs": [],
      "source": []
    },
    {
      "cell_type": "code",
      "execution_count": null,
      "metadata": {
        "id": "QyfmOdUndtaw"
      },
      "outputs": [],
      "source": []
    },
    {
      "cell_type": "code",
      "execution_count": null,
      "metadata": {
        "id": "mc_Nq52zdtdL"
      },
      "outputs": [],
      "source": []
    },
    {
      "cell_type": "code",
      "execution_count": null,
      "metadata": {
        "id": "We8mK6DEdtf0"
      },
      "outputs": [],
      "source": []
    },
    {
      "cell_type": "markdown",
      "metadata": {
        "id": "eKOF8SslduAz"
      },
      "source": [
        "########## END OF FUNCTIONS REST IS DRAFT MODE   #####################"
      ]
    },
    {
      "cell_type": "code",
      "execution_count": 7,
      "metadata": {
        "id": "aWIH3C5O_WQa"
      },
      "outputs": [],
      "source": [
        "import numpy as np\n",
        "import pandas as pd\n",
        "import seaborn as sns\n",
        "import os\n",
        "import gc\n",
        "# Imports\n",
        "import sklearn\n",
        "import random\n",
        "import re\n",
        "from numpy.linalg import norm\n",
        "from sklearn.model_selection import train_test_split\n",
        "from itertools import islice\n",
        "from sklearn.feature_extraction.text import CountVectorizer"
      ]
    },
    {
      "cell_type": "markdown",
      "metadata": {
        "id": "seWPJtu1wL_3"
      },
      "source": [
        "### Loading the data"
      ]
    },
    {
      "cell_type": "code",
      "execution_count": 8,
      "metadata": {
        "id": "EbcNCM0iAAHN"
      },
      "outputs": [],
      "source": [
        "# load our dataset - 1000 documents from Amazon reviews (Kaggle)\n",
        "df = pd.read_csv('df_filtered.csv')"
      ]
    },
    {
      "cell_type": "code",
      "execution_count": 9,
      "metadata": {
        "id": "lno6CE1iGJv4"
      },
      "outputs": [],
      "source": [
        "# work on a copy\n",
        "# embed using glove\n",
        "df_copy = df.copy()"
      ]
    },
    {
      "cell_type": "code",
      "execution_count": 10,
      "metadata": {
        "id": "hlHsCw0jGZ6B"
      },
      "outputs": [],
      "source": [
        "# divid to train and test;\n",
        "\n",
        "from sklearn.model_selection import train_test_split\n",
        "\n",
        "train, test = train_test_split(df_copy, test_size=0.2)"
      ]
    },
    {
      "cell_type": "code",
      "execution_count": 11,
      "metadata": {
        "colab": {
          "base_uri": "https://localhost:8080/"
        },
        "id": "AWY-i6yUGeVh",
        "outputId": "7490e4c9-efa6-46a3-c5d2-c064ea070026"
      },
      "outputs": [
        {
          "name": "stdout",
          "output_type": "stream",
          "text": [
            "<class 'pandas.core.frame.DataFrame'>\n",
            "Int64Index: 805 entries, 540 to 547\n",
            "Data columns (total 4 columns):\n",
            " #   Column        Non-Null Count  Dtype \n",
            "---  ------        --------------  ----- \n",
            " 0   Unnamed: 0    805 non-null    int64 \n",
            " 1   txt           805 non-null    object\n",
            " 2   sentiment     805 non-null    int64 \n",
            " 3   num_of_words  805 non-null    int64 \n",
            "dtypes: int64(3), object(1)\n",
            "memory usage: 31.4+ KB\n"
          ]
        }
      ],
      "source": [
        "train.info()"
      ]
    },
    {
      "cell_type": "code",
      "execution_count": 56,
      "metadata": {
        "colab": {
          "base_uri": "https://localhost:8080/"
        },
        "id": "oJSnXFdSGh24",
        "outputId": "0138b633-0635-4f12-c82c-62f20d661f28"
      },
      "outputs": [
        {
          "name": "stdout",
          "output_type": "stream",
          "text": [
            "<class 'pandas.core.frame.DataFrame'>\n",
            "Int64Index: 202 entries, 58 to 657\n",
            "Data columns (total 4 columns):\n",
            " #   Column        Non-Null Count  Dtype \n",
            "---  ------        --------------  ----- \n",
            " 0   Unnamed: 0    202 non-null    int64 \n",
            " 1   txt           202 non-null    object\n",
            " 2   sentiment     202 non-null    int64 \n",
            " 3   num_of_words  202 non-null    int64 \n",
            "dtypes: int64(3), object(1)\n",
            "memory usage: 7.9+ KB\n"
          ]
        }
      ],
      "source": [
        "test.info()"
      ]
    },
    {
      "cell_type": "markdown",
      "metadata": {
        "id": "Xur5k4zIwevO"
      },
      "source": [
        "## Cleaning the data - we can use any other func/method for cleaning/lemattization etc"
      ]
    },
    {
      "cell_type": "code",
      "execution_count": 57,
      "metadata": {
        "colab": {
          "base_uri": "https://localhost:8080/"
        },
        "id": "5oytrGyf_nRB",
        "outputId": "b48035d8-e1f5-4e67-c08f-14507980e5d7"
      },
      "outputs": [
        {
          "name": "stderr",
          "output_type": "stream",
          "text": [
            "[nltk_data] Downloading package stopwords to /root/nltk_data...\n",
            "[nltk_data]   Package stopwords is already up-to-date!\n"
          ]
        },
        {
          "data": {
            "text/plain": [
              "True"
            ]
          },
          "execution_count": 57,
          "metadata": {},
          "output_type": "execute_result"
        }
      ],
      "source": [
        "import nltk\n",
        "from nltk.corpus import stopwords\n",
        "nltk.download('stopwords')  # added"
      ]
    },
    {
      "cell_type": "code",
      "execution_count": 58,
      "metadata": {
        "id": "N4oSb0_O_nT0"
      },
      "outputs": [],
      "source": [
        "### https://www.kaggle.com/code/rohitgadhwar/sentiment-analysis-on-amazon-reviews/notebook\n",
        "def clean_texts(texts):\n",
        "    stwords = stopwords.words('english')\n",
        "    l = len(texts)/10\n",
        "    temp_texts = []\n",
        "    for i in range(len(texts)):\n",
        "        text = re.sub('\\d','0',texts[i])\n",
        "        if 'www.' in text or 'http:' in text or 'https:' in text or '.com' in text: # remove links and urls\n",
        "            text = re.sub(r\"([^ ]+(?<=\\.[a-z]{3}))\", \" \", text)\n",
        "        \n",
        "        text = re.sub('[^a-zA-Z]', ' ', text)\n",
        "        text = text.lower()\n",
        "        text = text.split()\n",
        "        text = [word for word in text if not word in stwords] # remove stopwords \n",
        "        text = ' '.join(text)\n",
        "        temp_texts.append(text)\n",
        "        if i%l==0:\n",
        "            print('--'+str(int(i/l)*10)+'%', end='')\n",
        "    print('--100%--Done !')\n",
        "    return temp_texts"
      ]
    },
    {
      "cell_type": "code",
      "execution_count": 62,
      "metadata": {
        "colab": {
          "base_uri": "https://localhost:8080/"
        },
        "id": "i2DvOlRk_vRU",
        "outputId": "759bd897-81cc-43c8-ac40-ace66abc8a64"
      },
      "outputs": [
        {
          "name": "stdout",
          "output_type": "stream",
          "text": [
            "Processing Training data\n",
            "--0%--20%--40%--60%--80%--100%--Done !\n",
            "\n",
            "Processing Test data\n",
            "--0%--100%--Done !\n"
          ]
        }
      ],
      "source": [
        "# clean both train and test data:\n",
        "print('Processing Training data')\n",
        "train_texts = clean_texts(train.txt.tolist())\n",
        "print('\\nProcessing Test data')\n",
        "test_texts = clean_texts(test.txt.tolist())"
      ]
    },
    {
      "cell_type": "markdown",
      "metadata": {
        "id": "3KxRFn2AwayU"
      },
      "source": [
        "## Some Statistics"
      ]
    },
    {
      "cell_type": "code",
      "execution_count": 65,
      "metadata": {
        "colab": {
          "base_uri": "https://localhost:8080/",
          "height": 466
        },
        "id": "7yhjRM1o_vZN",
        "outputId": "361b1911-e95e-45eb-d746-727fda6aaa48"
      },
      "outputs": [
        {
          "data": {
            "text/plain": [
              "<Axes: xlabel='sentiment', ylabel='count'>"
            ]
          },
          "execution_count": 65,
          "metadata": {},
          "output_type": "execute_result"
        },
        {
          "data": {
            "image/png": "[encoded data removed]",
            "text/plain": [
              "<Figure size 640x480 with 1 Axes>"
            ]
          },
          "metadata": {},
          "output_type": "display_data"
        }
      ],
      "source": [
        "sns.countplot(x=train.sentiment\n",
        ")  # make sure balaned data?"
      ]
    },
    {
      "cell_type": "code",
      "execution_count": 93,
      "metadata": {
        "colab": {
          "base_uri": "https://localhost:8080/",
          "height": 487
        },
        "id": "s1qRA61Xw371",
        "outputId": "7ea403a0-616a-479c-fd33-1c3c3698ddaf"
      },
      "outputs": [
        {
          "data": {
            "image/png": "[encoded data removed]",
            "text/plain": [
              "<Figure size 1000x500 with 2 Axes>"
            ]
          },
          "metadata": {},
          "output_type": "display_data"
        }
      ],
      "source": [
        "# Create figure with two subplots\n",
        "fig, axs = plt.subplots(1, 2, figsize=(10, 5))\n",
        "\n",
        "# Plot count plot of original data on first subplot\n",
        "sns.countplot(x=train.sentiment, ax=axs[0])\n",
        "axs[0].set_title('train Data')\n",
        "\n",
        "\n",
        "# Plot count plot of subsetted data on second subplot\n",
        "sns.countplot(x=test.sentiment, ax=axs[1])\n",
        "axs[1].set_title('test Data')\n",
        "\n",
        "# Show plot\n",
        "plt.show()"
      ]
    },
    {
      "cell_type": "code",
      "execution_count": 66,
      "metadata": {
        "colab": {
          "base_uri": "https://localhost:8080/"
        },
        "id": "3ZK6T3VH_vb0",
        "outputId": "814cd360-1eee-483c-bef4-c00da7104c4b"
      },
      "outputs": [
        {
          "name": "stdout",
          "output_type": "stream",
          "text": [
            "Fitting data...\n",
            "fit complete !\n",
            "tranforming training set...\n",
            "tranforming test set...\n"
          ]
        }
      ],
      "source": [
        "# converting a collection of text documents to a matrix of token counts. It essentially converts\n",
        "# a collection of text documents into a sparse matrix, \n",
        "# where each row corresponds to a document and each column corresponds to a token in the corpus.\n",
        "\n",
        "from sklearn.feature_extraction.text import CountVectorizer\n",
        "\n",
        "print('Fitting data...')\n",
        "count_vect = CountVectorizer()\n",
        "count_vect.fit(train.txt) ; print('fit complete !')\n",
        "\n",
        "print('tranforming training set...')\n",
        "train_texts_vec = count_vect.transform(train.txt)\n",
        "\n",
        "print('tranforming test set...')\n",
        "test_texts_vec = count_vect.transform(test.txt)"
      ]
    },
    {
      "cell_type": "code",
      "execution_count": 67,
      "metadata": {
        "id": "f_lyRtoj_0vE"
      },
      "outputs": [],
      "source": [
        "## Train a model"
      ]
    },
    {
      "cell_type": "code",
      "execution_count": 68,
      "metadata": {
        "colab": {
          "base_uri": "https://localhost:8080/",
          "height": 75
        },
        "id": "CaE6GPr0_0xh",
        "outputId": "6dd7d6b6-a90d-417a-b8e8-83d95dfb2df5"
      },
      "outputs": [
        {
          "data": {
            "text/html": [
              "<style>#sk-container-id-3 {color: black;background-color: white;}#sk-container-id-3 pre{padding: 0;}#sk-container-id-3 div.sk-toggleable {background-color: white;}#sk-container-id-3 label.sk-toggleable__label {cursor: pointer;display: block;width: 100%;margin-bottom: 0;padding: 0.3em;box-sizing: border-box;text-align: center;}#sk-container-id-3 label.sk-toggleable__label-arrow:before {content: \"▸\";float: left;margin-right: 0.25em;color: #696969;}#sk-container-id-3 label.sk-toggleable__label-arrow:hover:before {color: black;}#sk-container-id-3 div.sk-estimator:hover label.sk-toggleable__label-arrow:before {color: black;}#sk-container-id-3 div.sk-toggleable__content {max-height: 0;max-width: 0;overflow: hidden;text-align: left;background-color: #f0f8ff;}#sk-container-id-3 div.sk-toggleable__content pre {margin: 0.2em;color: black;border-radius: 0.25em;background-color: #f0f8ff;}#sk-container-id-3 input.sk-toggleable__control:checked~div.sk-toggleable__content {max-height: 200px;max-width: 100%;overflow: auto;}#sk-container-id-3 input.sk-toggleable__control:checked~label.sk-toggleable__label-arrow:before {content: \"▾\";}#sk-container-id-3 div.sk-estimator input.sk-toggleable__control:checked~label.sk-toggleable__label {background-color: #d4ebff;}#sk-container-id-3 div.sk-label input.sk-toggleable__control:checked~label.sk-toggleable__label {background-color: #d4ebff;}#sk-container-id-3 input.sk-hidden--visually {border: 0;clip: rect(1px 1px 1px 1px);clip: rect(1px, 1px, 1px, 1px);height: 1px;margin: -1px;overflow: hidden;padding: 0;position: absolute;width: 1px;}#sk-container-id-3 div.sk-estimator {font-family: monospace;background-color: #f0f8ff;border: 1px dotted black;border-radius: 0.25em;box-sizing: border-box;margin-bottom: 0.5em;}#sk-container-id-3 div.sk-estimator:hover {background-color: #d4ebff;}#sk-container-id-3 div.sk-parallel-item::after {content: \"\";width: 100%;border-bottom: 1px solid gray;flex-grow: 1;}#sk-container-id-3 div.sk-label:hover label.sk-toggleable__label {background-color: #d4ebff;}#sk-container-id-3 div.sk-serial::before {content: \"\";position: absolute;border-left: 1px solid gray;box-sizing: border-box;top: 0;bottom: 0;left: 50%;z-index: 0;}#sk-container-id-3 div.sk-serial {display: flex;flex-direction: column;align-items: center;background-color: white;padding-right: 0.2em;padding-left: 0.2em;position: relative;}#sk-container-id-3 div.sk-item {position: relative;z-index: 1;}#sk-container-id-3 div.sk-parallel {display: flex;align-items: stretch;justify-content: center;background-color: white;position: relative;}#sk-container-id-3 div.sk-item::before, #sk-container-id-3 div.sk-parallel-item::before {content: \"\";position: absolute;border-left: 1px solid gray;box-sizing: border-box;top: 0;bottom: 0;left: 50%;z-index: -1;}#sk-container-id-3 div.sk-parallel-item {display: flex;flex-direction: column;z-index: 1;position: relative;background-color: white;}#sk-container-id-3 div.sk-parallel-item:first-child::after {align-self: flex-end;width: 50%;}#sk-container-id-3 div.sk-parallel-item:last-child::after {align-self: flex-start;width: 50%;}#sk-container-id-3 div.sk-parallel-item:only-child::after {width: 0;}#sk-container-id-3 div.sk-dashed-wrapped {border: 1px dashed gray;margin: 0 0.4em 0.5em 0.4em;box-sizing: border-box;padding-bottom: 0.4em;background-color: white;}#sk-container-id-3 div.sk-label label {font-family: monospace;font-weight: bold;display: inline-block;line-height: 1.2em;}#sk-container-id-3 div.sk-label-container {text-align: center;}#sk-container-id-3 div.sk-container {/* jupyter's `normalize.less` sets `[hidden] { display: none; }` but bootstrap.min.css set `[hidden] { display: none !important; }` so we also need the `!important` here to be able to override the default hidden behavior on the sphinx rendered scikit-learn.org. See: https://github.com/scikit-learn/scikit-learn/issues/21755 */display: inline-block !important;position: relative;}#sk-container-id-3 div.sk-text-repr-fallback {display: none;}</style><div id=\"sk-container-id-3\" class=\"sk-top-container\"><div class=\"sk-text-repr-fallback\"><pre>MultinomialNB()</pre><b>In a Jupyter environment, please rerun this cell to show the HTML representation or trust the notebook. <br />On GitHub, the HTML representation is unable to render, please try loading this page with nbviewer.org.</b></div><div class=\"sk-container\" hidden><div class=\"sk-item\"><div class=\"sk-estimator sk-toggleable\"><input class=\"sk-toggleable__control sk-hidden--visually\" id=\"sk-estimator-id-3\" type=\"checkbox\" checked><label for=\"sk-estimator-id-3\" class=\"sk-toggleable__label sk-toggleable__label-arrow\">MultinomialNB</label><div class=\"sk-toggleable__content\"><pre>MultinomialNB()</pre></div></div></div></div></div>"
            ],
            "text/plain": [
              "MultinomialNB()"
            ]
          },
          "execution_count": 68,
          "metadata": {},
          "output_type": "execute_result"
        }
      ],
      "source": [
        "from sklearn.naive_bayes import MultinomialNB\n",
        "train_labels = train.sentiment\n",
        "test_labels = test.sentiment\n",
        "nb = MultinomialNB()\n",
        "nb.fit(train_texts_vec, train_labels)"
      ]
    },
    {
      "cell_type": "code",
      "execution_count": 69,
      "metadata": {
        "id": "V7qLQgaY_00Q"
      },
      "outputs": [],
      "source": [
        "y_pred = nb.predict(test_texts_vec)"
      ]
    },
    {
      "cell_type": "code",
      "execution_count": 70,
      "metadata": {
        "colab": {
          "base_uri": "https://localhost:8080/"
        },
        "id": "ZI8xiMk3_02z",
        "outputId": "da73e2a8-489a-49a1-879e-f45e9acaa1ce"
      },
      "outputs": [
        {
          "name": "stdout",
          "output_type": "stream",
          "text": [
            "Accuracy: 0.8811881188118812\n"
          ]
        }
      ],
      "source": [
        "from sklearn.metrics import accuracy_score\n",
        "print('Accuracy:', accuracy_score(test_labels, y_pred))"
      ]
    },
    {
      "cell_type": "markdown",
      "metadata": {
        "id": "ou9kXquUrI4U"
      },
      "source": [
        "## Unsupervised Sentiment Analysis"
      ]
    },
    {
      "cell_type": "markdown",
      "metadata": {
        "id": "PUW9kW_KstZk"
      },
      "source": [
        "VADER (Valence Aware Dictionary and sEntiment Reasoner) Lexicon is a lexicon or a dictionary that contains a list of words with their associated sentiment scores. These sentiment scores indicate the degree of positivity, negativity, or neutrality of each word.\n",
        "\n",
        "VADER Lexicon is specifically designed for sentiment analysis of social media texts like tweets, Facebook posts, and online reviews. It is a rule-based system that uses a combination of lexical and grammatical features to determine the sentiment of a text."
      ]
    },
    {
      "cell_type": "code",
      "execution_count": 71,
      "metadata": {
        "colab": {
          "base_uri": "https://localhost:8080/"
        },
        "id": "xx0NSIA9_4uW",
        "outputId": "47e08c95-9469-43bc-93f6-19fdfd904d97"
      },
      "outputs": [
        {
          "name": "stderr",
          "output_type": "stream",
          "text": [
            "[nltk_data] Downloading package vader_lexicon to /root/nltk_data...\n",
            "[nltk_data]   Package vader_lexicon is already up-to-date!\n"
          ]
        }
      ],
      "source": [
        "import nltk\n",
        "from nltk.sentiment import SentimentIntensityAnalyzer\n",
        "nltk.download('vader_lexicon')  # download necessary data for sentiment analysis\n",
        "\n",
        "# \n",
        "df = df_copy"
      ]
    },
    {
      "cell_type": "code",
      "execution_count": 72,
      "metadata": {
        "id": "i4-zGxG6rQC_"
      },
      "outputs": [],
      "source": [
        "# Instantiate sentiment analyzer\n",
        "analyzer = SentimentIntensityAnalyzer()"
      ]
    },
    {
      "cell_type": "code",
      "execution_count": 73,
      "metadata": {
        "id": "8ksUXmAW_4xR"
      },
      "outputs": [],
      "source": [
        "# Define function to apply sentiment analysis to text\n",
        "def get_sentiment(text):\n",
        "    return analyzer.polarity_scores(text)['compound']"
      ]
    },
    {
      "cell_type": "code",
      "execution_count": 75,
      "metadata": {
        "id": "ddHL5Mcj_4z7"
      },
      "outputs": [],
      "source": [
        "# Apply sentiment analysis to DataFrame and create new column with results\n",
        "df['sentiment_pred'] = df['txt'].apply(get_sentiment)"
      ]
    },
    {
      "cell_type": "code",
      "execution_count": 76,
      "metadata": {
        "colab": {
          "base_uri": "https://localhost:8080/",
          "height": 424
        },
        "id": "68-BftxF_42Y",
        "outputId": "f9c37646-e9d0-4223-a042-be512c5ffc3a"
      },
      "outputs": [
        {
          "data": {
            "text/html": [
              "\n",
              "  <div id=\"df-4e91597e-fd2c-4031-abaa-2ff344d8d863\">\n",
              "    <div class=\"colab-df-container\">\n",
              "      <div>\n",
              "<style scoped>\n",
              "    .dataframe tbody tr th:only-of-type {\n",
              "        vertical-align: middle;\n",
              "    }\n",
              "\n",
              "    .dataframe tbody tr th {\n",
              "        vertical-align: top;\n",
              "    }\n",
              "\n",
              "    .dataframe thead th {\n",
              "        text-align: right;\n",
              "    }\n",
              "</style>\n",
              "<table border=\"1\" class=\"dataframe\">\n",
              "  <thead>\n",
              "    <tr style=\"text-align: right;\">\n",
              "      <th></th>\n",
              "      <th>Unnamed: 0</th>\n",
              "      <th>txt</th>\n",
              "      <th>sentiment</th>\n",
              "      <th>num_of_words</th>\n",
              "      <th>sentiment_pred</th>\n",
              "    </tr>\n",
              "  </thead>\n",
              "  <tbody>\n",
              "    <tr>\n",
              "      <th>0</th>\n",
              "      <td>84</td>\n",
              "      <td>voices from the farm: i have a copy of this bo...</td>\n",
              "      <td>1</td>\n",
              "      <td>27</td>\n",
              "      <td>0.6369</td>\n",
              "    </tr>\n",
              "    <tr>\n",
              "      <th>1</th>\n",
              "      <td>99</td>\n",
              "      <td>caution!: these tracks are not the \"original\" ...</td>\n",
              "      <td>0</td>\n",
              "      <td>22</td>\n",
              "      <td>0.0000</td>\n",
              "    </tr>\n",
              "    <tr>\n",
              "      <th>2</th>\n",
              "      <td>100</td>\n",
              "      <td>textbook: book shipped quickly and was in exce...</td>\n",
              "      <td>1</td>\n",
              "      <td>16</td>\n",
              "      <td>0.7650</td>\n",
              "    </tr>\n",
              "    <tr>\n",
              "      <th>3</th>\n",
              "      <td>243</td>\n",
              "      <td>it was great!!!: i like it. it was very cool t...</td>\n",
              "      <td>1</td>\n",
              "      <td>21</td>\n",
              "      <td>0.7157</td>\n",
              "    </tr>\n",
              "    <tr>\n",
              "      <th>4</th>\n",
              "      <td>269</td>\n",
              "      <td>dockers do the job.: this product was just wha...</td>\n",
              "      <td>1</td>\n",
              "      <td>25</td>\n",
              "      <td>0.1761</td>\n",
              "    </tr>\n",
              "    <tr>\n",
              "      <th>...</th>\n",
              "      <td>...</td>\n",
              "      <td>...</td>\n",
              "      <td>...</td>\n",
              "      <td>...</td>\n",
              "      <td>...</td>\n",
              "    </tr>\n",
              "    <tr>\n",
              "      <th>1002</th>\n",
              "      <td>41002</td>\n",
              "      <td>steer clear: steer clear of this blu-ray title...</td>\n",
              "      <td>0</td>\n",
              "      <td>27</td>\n",
              "      <td>0.1045</td>\n",
              "    </tr>\n",
              "    <tr>\n",
              "      <th>1003</th>\n",
              "      <td>41045</td>\n",
              "      <td>i like movies: as someone who likes all kinds ...</td>\n",
              "      <td>1</td>\n",
              "      <td>24</td>\n",
              "      <td>0.8625</td>\n",
              "    </tr>\n",
              "    <tr>\n",
              "      <th>1004</th>\n",
              "      <td>41149</td>\n",
              "      <td>sick and twisted is good...: this book is sick...</td>\n",
              "      <td>1</td>\n",
              "      <td>25</td>\n",
              "      <td>-0.4404</td>\n",
              "    </tr>\n",
              "    <tr>\n",
              "      <th>1005</th>\n",
              "      <td>41156</td>\n",
              "      <td>difficult for a lay person: i found this book ...</td>\n",
              "      <td>0</td>\n",
              "      <td>24</td>\n",
              "      <td>0.5647</td>\n",
              "    </tr>\n",
              "    <tr>\n",
              "      <th>1006</th>\n",
              "      <td>41255</td>\n",
              "      <td>very funny book: i originally stumbled across ...</td>\n",
              "      <td>1</td>\n",
              "      <td>27</td>\n",
              "      <td>0.8955</td>\n",
              "    </tr>\n",
              "  </tbody>\n",
              "</table>\n",
              "<p>1007 rows × 5 columns</p>\n",
              "</div>\n",
              "      <button class=\"colab-df-convert\" onclick=\"convertToInteractive('df-4e91597e-fd2c-4031-abaa-2ff344d8d863')\"\n",
              "              title=\"Convert this dataframe to an interactive table.\"\n",
              "              style=\"display:none;\">\n",
              "        \n",
              "  <svg xmlns=\"http://www.w3.org/2000/svg\" height=\"24px\"viewBox=\"0 0 24 24\"\n",
              "       width=\"24px\">\n",
              "    <path d=\"M0 0h24v24H0V0z\" fill=\"none\"/>\n",
              "    <path d=\"M18.56 5.44l.94 2.06.94-2.06 2.06-.94-2.06-.94-.94-2.06-.94 2.06-2.06.94zm-11 1L8.5 8.5l.94-2.06 2.06-.94-2.06-.94L8.5 2.5l-.94 2.06-2.06.94zm10 10l.94 2.06.94-2.06 2.06-.94-2.06-.94-.94-2.06-.94 2.06-2.06.94z\"/><path d=\"M17.41 7.96l-1.37-1.37c-.4-.4-.92-.59-1.43-.59-.52 0-1.04.2-1.43.59L10.3 9.45l-7.72 7.72c-.78.78-.78 2.05 0 2.83L4 21.41c.39.39.9.59 1.41.59.51 0 1.02-.2 1.41-.59l7.78-7.78 2.81-2.81c.8-.78.8-2.07 0-2.86zM5.41 20L4 18.59l7.72-7.72 1.47 1.35L5.41 20z\"/>\n",
              "  </svg>\n",
              "      </button>\n",
              "      \n",
              "  <style>\n",
              "    .colab-df-container {\n",
              "      display:flex;\n",
              "      flex-wrap:wrap;\n",
              "      gap: 12px;\n",
              "    }\n",
              "\n",
              "    .colab-df-convert {\n",
              "      background-color: #E8F0FE;\n",
              "      border: none;\n",
              "      border-radius: 50%;\n",
              "      cursor: pointer;\n",
              "      display: none;\n",
              "      fill: #1967D2;\n",
              "      height: 32px;\n",
              "      padding: 0 0 0 0;\n",
              "      width: 32px;\n",
              "    }\n",
              "\n",
              "    .colab-df-convert:hover {\n",
              "      background-color: #E2EBFA;\n",
              "      box-shadow: 0px 1px 2px rgba(60, 64, 67, 0.3), 0px 1px 3px 1px rgba(60, 64, 67, 0.15);\n",
              "      fill: #174EA6;\n",
              "    }\n",
              "\n",
              "    [theme=dark] .colab-df-convert {\n",
              "      background-color: #3B4455;\n",
              "      fill: #D2E3FC;\n",
              "    }\n",
              "\n",
              "    [theme=dark] .colab-df-convert:hover {\n",
              "      background-color: #434B5C;\n",
              "      box-shadow: 0px 1px 3px 1px rgba(0, 0, 0, 0.15);\n",
              "      filter: drop-shadow(0px 1px 2px rgba(0, 0, 0, 0.3));\n",
              "      fill: #FFFFFF;\n",
              "    }\n",
              "  </style>\n",
              "\n",
              "      <script>\n",
              "        const buttonEl =\n",
              "          document.querySelector('#df-4e91597e-fd2c-4031-abaa-2ff344d8d863 button.colab-df-convert');\n",
              "        buttonEl.style.display =\n",
              "          google.colab.kernel.accessAllowed ? 'block' : 'none';\n",
              "\n",
              "        async function convertToInteractive(key) {\n",
              "          const element = document.querySelector('#df-4e91597e-fd2c-4031-abaa-2ff344d8d863');\n",
              "          const dataTable =\n",
              "            await google.colab.kernel.invokeFunction('convertToInteractive',\n",
              "                                                     [key], {});\n",
              "          if (!dataTable) return;\n",
              "\n",
              "          const docLinkHtml = 'Like what you see? Visit the ' +\n",
              "            '<a target=\"_blank\" href=https://colab.research.google.com/notebooks/data_table.ipynb>data table notebook</a>'\n",
              "            + ' to learn more about interactive tables.';\n",
              "          element.innerHTML = '';\n",
              "          dataTable['output_type'] = 'display_data';\n",
              "          await google.colab.output.renderOutput(dataTable, element);\n",
              "          const docLink = document.createElement('div');\n",
              "          docLink.innerHTML = docLinkHtml;\n",
              "          element.appendChild(docLink);\n",
              "        }\n",
              "      </script>\n",
              "    </div>\n",
              "  </div>\n",
              "  "
            ],
            "text/plain": [
              "      Unnamed: 0                                                txt  \\\n",
              "0             84  voices from the farm: i have a copy of this bo...   \n",
              "1             99  caution!: these tracks are not the \"original\" ...   \n",
              "2            100  textbook: book shipped quickly and was in exce...   \n",
              "3            243  it was great!!!: i like it. it was very cool t...   \n",
              "4            269  dockers do the job.: this product was just wha...   \n",
              "...          ...                                                ...   \n",
              "1002       41002  steer clear: steer clear of this blu-ray title...   \n",
              "1003       41045  i like movies: as someone who likes all kinds ...   \n",
              "1004       41149  sick and twisted is good...: this book is sick...   \n",
              "1005       41156  difficult for a lay person: i found this book ...   \n",
              "1006       41255  very funny book: i originally stumbled across ...   \n",
              "\n",
              "      sentiment  num_of_words  sentiment_pred  \n",
              "0             1            27          0.6369  \n",
              "1             0            22          0.0000  \n",
              "2             1            16          0.7650  \n",
              "3             1            21          0.7157  \n",
              "4             1            25          0.1761  \n",
              "...         ...           ...             ...  \n",
              "1002          0            27          0.1045  \n",
              "1003          1            24          0.8625  \n",
              "1004          1            25         -0.4404  \n",
              "1005          0            24          0.5647  \n",
              "1006          1            27          0.8955  \n",
              "\n",
              "[1007 rows x 5 columns]"
            ]
          },
          "execution_count": 76,
          "metadata": {},
          "output_type": "execute_result"
        }
      ],
      "source": [
        "df"
      ]
    },
    {
      "cell_type": "code",
      "execution_count": 81,
      "metadata": {
        "colab": {
          "base_uri": "https://localhost:8080/",
          "height": 472
        },
        "id": "Cav052sz_46n",
        "outputId": "9ed9e0e9-b32b-4c06-c809-5400946de07f"
      },
      "outputs": [
        {
          "data": {
            "image/png": "[encoded data removed]",
            "text/plain": [
              "<Figure size 640x480 with 1 Axes>"
            ]
          },
          "metadata": {},
          "output_type": "display_data"
        }
      ],
      "source": [
        "# Plot histogram of numeric column\n",
        "import matplotlib.pyplot as plt\n",
        "\n",
        "plt.hist(df['sentiment_pred'], bins=10,density = True)\n",
        "plt.xlabel('Values')\n",
        "plt.ylabel('Frequency')\n",
        "plt.title('Histogram of ' + \"predicted sentiment score\")\n",
        "plt.show()"
      ]
    },
    {
      "cell_type": "code",
      "execution_count": null,
      "metadata": {
        "id": "McowHqntvLYL"
      },
      "outputs": [],
      "source": [
        "# do the same after applying a threshold on score: 0/1"
      ]
    },
    {
      "cell_type": "code",
      "execution_count": null,
      "metadata": {
        "id": "YyRoSbwSveaf"
      },
      "outputs": [],
      "source": []
    },
    {
      "cell_type": "code",
      "execution_count": 82,
      "metadata": {
        "id": "MFXSBdb-vecx"
      },
      "outputs": [],
      "source": [
        "\n",
        "# Set threshold value\n",
        "threshold = 0\n"
      ]
    },
    {
      "cell_type": "code",
      "execution_count": 85,
      "metadata": {
        "id": "iRL89i3Cvf5E"
      },
      "outputs": [],
      "source": [
        "\n",
        "# Create new column with boolean values indicating whether values exceed threshold\n",
        "df.loc[:, 'sentiment_score'] = df['sentiment_pred'] > threshold"
      ]
    },
    {
      "cell_type": "code",
      "execution_count": 86,
      "metadata": {
        "colab": {
          "base_uri": "https://localhost:8080/",
          "height": 424
        },
        "id": "U3YXkycBuUU1",
        "outputId": "a05b68c4-5783-4262-9b62-231b768a2ec3"
      },
      "outputs": [
        {
          "data": {
            "text/html": [
              "\n",
              "  <div id=\"df-7f73f144-c7f9-467b-883f-967d9120d7cc\">\n",
              "    <div class=\"colab-df-container\">\n",
              "      <div>\n",
              "<style scoped>\n",
              "    .dataframe tbody tr th:only-of-type {\n",
              "        vertical-align: middle;\n",
              "    }\n",
              "\n",
              "    .dataframe tbody tr th {\n",
              "        vertical-align: top;\n",
              "    }\n",
              "\n",
              "    .dataframe thead th {\n",
              "        text-align: right;\n",
              "    }\n",
              "</style>\n",
              "<table border=\"1\" class=\"dataframe\">\n",
              "  <thead>\n",
              "    <tr style=\"text-align: right;\">\n",
              "      <th></th>\n",
              "      <th>Unnamed: 0</th>\n",
              "      <th>txt</th>\n",
              "      <th>sentiment</th>\n",
              "      <th>num_of_words</th>\n",
              "      <th>sentiment_pred</th>\n",
              "      <th>sentiment_score</th>\n",
              "    </tr>\n",
              "  </thead>\n",
              "  <tbody>\n",
              "    <tr>\n",
              "      <th>0</th>\n",
              "      <td>84</td>\n",
              "      <td>voices from the farm: i have a copy of this bo...</td>\n",
              "      <td>1</td>\n",
              "      <td>27</td>\n",
              "      <td>0.6369</td>\n",
              "      <td>True</td>\n",
              "    </tr>\n",
              "    <tr>\n",
              "      <th>1</th>\n",
              "      <td>99</td>\n",
              "      <td>caution!: these tracks are not the \"original\" ...</td>\n",
              "      <td>0</td>\n",
              "      <td>22</td>\n",
              "      <td>0.0000</td>\n",
              "      <td>False</td>\n",
              "    </tr>\n",
              "    <tr>\n",
              "      <th>2</th>\n",
              "      <td>100</td>\n",
              "      <td>textbook: book shipped quickly and was in exce...</td>\n",
              "      <td>1</td>\n",
              "      <td>16</td>\n",
              "      <td>0.7650</td>\n",
              "      <td>True</td>\n",
              "    </tr>\n",
              "    <tr>\n",
              "      <th>3</th>\n",
              "      <td>243</td>\n",
              "      <td>it was great!!!: i like it. it was very cool t...</td>\n",
              "      <td>1</td>\n",
              "      <td>21</td>\n",
              "      <td>0.7157</td>\n",
              "      <td>True</td>\n",
              "    </tr>\n",
              "    <tr>\n",
              "      <th>4</th>\n",
              "      <td>269</td>\n",
              "      <td>dockers do the job.: this product was just wha...</td>\n",
              "      <td>1</td>\n",
              "      <td>25</td>\n",
              "      <td>0.1761</td>\n",
              "      <td>True</td>\n",
              "    </tr>\n",
              "    <tr>\n",
              "      <th>...</th>\n",
              "      <td>...</td>\n",
              "      <td>...</td>\n",
              "      <td>...</td>\n",
              "      <td>...</td>\n",
              "      <td>...</td>\n",
              "      <td>...</td>\n",
              "    </tr>\n",
              "    <tr>\n",
              "      <th>1002</th>\n",
              "      <td>41002</td>\n",
              "      <td>steer clear: steer clear of this blu-ray title...</td>\n",
              "      <td>0</td>\n",
              "      <td>27</td>\n",
              "      <td>0.1045</td>\n",
              "      <td>True</td>\n",
              "    </tr>\n",
              "    <tr>\n",
              "      <th>1003</th>\n",
              "      <td>41045</td>\n",
              "      <td>i like movies: as someone who likes all kinds ...</td>\n",
              "      <td>1</td>\n",
              "      <td>24</td>\n",
              "      <td>0.8625</td>\n",
              "      <td>True</td>\n",
              "    </tr>\n",
              "    <tr>\n",
              "      <th>1004</th>\n",
              "      <td>41149</td>\n",
              "      <td>sick and twisted is good...: this book is sick...</td>\n",
              "      <td>1</td>\n",
              "      <td>25</td>\n",
              "      <td>-0.4404</td>\n",
              "      <td>False</td>\n",
              "    </tr>\n",
              "    <tr>\n",
              "      <th>1005</th>\n",
              "      <td>41156</td>\n",
              "      <td>difficult for a lay person: i found this book ...</td>\n",
              "      <td>0</td>\n",
              "      <td>24</td>\n",
              "      <td>0.5647</td>\n",
              "      <td>True</td>\n",
              "    </tr>\n",
              "    <tr>\n",
              "      <th>1006</th>\n",
              "      <td>41255</td>\n",
              "      <td>very funny book: i originally stumbled across ...</td>\n",
              "      <td>1</td>\n",
              "      <td>27</td>\n",
              "      <td>0.8955</td>\n",
              "      <td>True</td>\n",
              "    </tr>\n",
              "  </tbody>\n",
              "</table>\n",
              "<p>1007 rows × 6 columns</p>\n",
              "</div>\n",
              "      <button class=\"colab-df-convert\" onclick=\"convertToInteractive('df-7f73f144-c7f9-467b-883f-967d9120d7cc')\"\n",
              "              title=\"Convert this dataframe to an interactive table.\"\n",
              "              style=\"display:none;\">\n",
              "        \n",
              "  <svg xmlns=\"http://www.w3.org/2000/svg\" height=\"24px\"viewBox=\"0 0 24 24\"\n",
              "       width=\"24px\">\n",
              "    <path d=\"M0 0h24v24H0V0z\" fill=\"none\"/>\n",
              "    <path d=\"M18.56 5.44l.94 2.06.94-2.06 2.06-.94-2.06-.94-.94-2.06-.94 2.06-2.06.94zm-11 1L8.5 8.5l.94-2.06 2.06-.94-2.06-.94L8.5 2.5l-.94 2.06-2.06.94zm10 10l.94 2.06.94-2.06 2.06-.94-2.06-.94-.94-2.06-.94 2.06-2.06.94z\"/><path d=\"M17.41 7.96l-1.37-1.37c-.4-.4-.92-.59-1.43-.59-.52 0-1.04.2-1.43.59L10.3 9.45l-7.72 7.72c-.78.78-.78 2.05 0 2.83L4 21.41c.39.39.9.59 1.41.59.51 0 1.02-.2 1.41-.59l7.78-7.78 2.81-2.81c.8-.78.8-2.07 0-2.86zM5.41 20L4 18.59l7.72-7.72 1.47 1.35L5.41 20z\"/>\n",
              "  </svg>\n",
              "      </button>\n",
              "      \n",
              "  <style>\n",
              "    .colab-df-container {\n",
              "      display:flex;\n",
              "      flex-wrap:wrap;\n",
              "      gap: 12px;\n",
              "    }\n",
              "\n",
              "    .colab-df-convert {\n",
              "      background-color: #E8F0FE;\n",
              "      border: none;\n",
              "      border-radius: 50%;\n",
              "      cursor: pointer;\n",
              "      display: none;\n",
              "      fill: #1967D2;\n",
              "      height: 32px;\n",
              "      padding: 0 0 0 0;\n",
              "      width: 32px;\n",
              "    }\n",
              "\n",
              "    .colab-df-convert:hover {\n",
              "      background-color: #E2EBFA;\n",
              "      box-shadow: 0px 1px 2px rgba(60, 64, 67, 0.3), 0px 1px 3px 1px rgba(60, 64, 67, 0.15);\n",
              "      fill: #174EA6;\n",
              "    }\n",
              "\n",
              "    [theme=dark] .colab-df-convert {\n",
              "      background-color: #3B4455;\n",
              "      fill: #D2E3FC;\n",
              "    }\n",
              "\n",
              "    [theme=dark] .colab-df-convert:hover {\n",
              "      background-color: #434B5C;\n",
              "      box-shadow: 0px 1px 3px 1px rgba(0, 0, 0, 0.15);\n",
              "      filter: drop-shadow(0px 1px 2px rgba(0, 0, 0, 0.3));\n",
              "      fill: #FFFFFF;\n",
              "    }\n",
              "  </style>\n",
              "\n",
              "      <script>\n",
              "        const buttonEl =\n",
              "          document.querySelector('#df-7f73f144-c7f9-467b-883f-967d9120d7cc button.colab-df-convert');\n",
              "        buttonEl.style.display =\n",
              "          google.colab.kernel.accessAllowed ? 'block' : 'none';\n",
              "\n",
              "        async function convertToInteractive(key) {\n",
              "          const element = document.querySelector('#df-7f73f144-c7f9-467b-883f-967d9120d7cc');\n",
              "          const dataTable =\n",
              "            await google.colab.kernel.invokeFunction('convertToInteractive',\n",
              "                                                     [key], {});\n",
              "          if (!dataTable) return;\n",
              "\n",
              "          const docLinkHtml = 'Like what you see? Visit the ' +\n",
              "            '<a target=\"_blank\" href=https://colab.research.google.com/notebooks/data_table.ipynb>data table notebook</a>'\n",
              "            + ' to learn more about interactive tables.';\n",
              "          element.innerHTML = '';\n",
              "          dataTable['output_type'] = 'display_data';\n",
              "          await google.colab.output.renderOutput(dataTable, element);\n",
              "          const docLink = document.createElement('div');\n",
              "          docLink.innerHTML = docLinkHtml;\n",
              "          element.appendChild(docLink);\n",
              "        }\n",
              "      </script>\n",
              "    </div>\n",
              "  </div>\n",
              "  "
            ],
            "text/plain": [
              "      Unnamed: 0                                                txt  \\\n",
              "0             84  voices from the farm: i have a copy of this bo...   \n",
              "1             99  caution!: these tracks are not the \"original\" ...   \n",
              "2            100  textbook: book shipped quickly and was in exce...   \n",
              "3            243  it was great!!!: i like it. it was very cool t...   \n",
              "4            269  dockers do the job.: this product was just wha...   \n",
              "...          ...                                                ...   \n",
              "1002       41002  steer clear: steer clear of this blu-ray title...   \n",
              "1003       41045  i like movies: as someone who likes all kinds ...   \n",
              "1004       41149  sick and twisted is good...: this book is sick...   \n",
              "1005       41156  difficult for a lay person: i found this book ...   \n",
              "1006       41255  very funny book: i originally stumbled across ...   \n",
              "\n",
              "      sentiment  num_of_words  sentiment_pred  sentiment_score  \n",
              "0             1            27          0.6369             True  \n",
              "1             0            22          0.0000            False  \n",
              "2             1            16          0.7650             True  \n",
              "3             1            21          0.7157             True  \n",
              "4             1            25          0.1761             True  \n",
              "...         ...           ...             ...              ...  \n",
              "1002          0            27          0.1045             True  \n",
              "1003          1            24          0.8625             True  \n",
              "1004          1            25         -0.4404            False  \n",
              "1005          0            24          0.5647             True  \n",
              "1006          1            27          0.8955             True  \n",
              "\n",
              "[1007 rows x 6 columns]"
            ]
          },
          "execution_count": 86,
          "metadata": {},
          "output_type": "execute_result"
        }
      ],
      "source": [
        "df"
      ]
    },
    {
      "cell_type": "code",
      "execution_count": null,
      "metadata": {
        "id": "304xaEoRv5vY"
      },
      "outputs": [],
      "source": []
    },
    {
      "cell_type": "markdown",
      "metadata": {
        "id": "oD-kNZl2VCk4"
      },
      "source": [
        "### WRITEING IN FUNCTIONS"
      ]
    },
    {
      "cell_type": "markdown",
      "metadata": {
        "id": "z6WWRFuFVpBn"
      },
      "source": [
        "# unsupervised sentiment analysis:"
      ]
    },
    {
      "cell_type": "markdown",
      "metadata": {
        "id": "RNLcGm4_VzDy"
      },
      "source": [
        "## First function using VADER"
      ]
    },
    {
      "cell_type": "code",
      "execution_count": null,
      "metadata": {
        "id": "ynNTu4wyVrEv"
      },
      "outputs": [],
      "source": []
    },
    {
      "cell_type": "code",
      "execution_count": null,
      "metadata": {
        "colab": {
          "base_uri": "https://localhost:8080/"
        },
        "id": "_WOest5VVrKr",
        "outputId": "47e08c95-9469-43bc-93f6-19fdfd904d97"
      },
      "outputs": [
        {
          "name": "stderr",
          "output_type": "stream",
          "text": [
            "[nltk_data] Downloading package vader_lexicon to /root/nltk_data...\n",
            "[nltk_data]   Package vader_lexicon is already up-to-date!\n"
          ]
        }
      ],
      "source": [
        "import nltk\n",
        "from nltk.sentiment import SentimentIntensityAnalyzer\n",
        "nltk.download('vader_lexicon')  # download necessary data for sentiment analysis"
      ]
    },
    {
      "cell_type": "code",
      "execution_count": null,
      "metadata": {
        "id": "cNfugeA0VrKr"
      },
      "outputs": [],
      "source": [
        "# Instantiate sentiment analyzer\n",
        "analyzer = SentimentIntensityAnalyzer()"
      ]
    },
    {
      "cell_type": "code",
      "execution_count": null,
      "metadata": {
        "id": "_oq58xVtVrKs"
      },
      "outputs": [],
      "source": [
        "# Define function to apply sentiment analysis to text\n",
        "def get_sentiment(text):\n",
        "    return analyzer.polarity_scores(text)['compound']"
      ]
    },
    {
      "cell_type": "code",
      "execution_count": null,
      "metadata": {
        "id": "Bx9ckgQTVrKs"
      },
      "outputs": [],
      "source": [
        "# Apply sentiment analysis to DataFrame and create new column with results\n",
        "df['sentiment_pred'] = df['txt'].apply(get_sentiment)"
      ]
    },
    {
      "cell_type": "markdown",
      "metadata": {
        "id": "Om0Pv3k5Y5uS"
      },
      "source": [
        "required imports:\n"
      ]
    },
    {
      "cell_type": "code",
      "execution_count": 27,
      "metadata": {
        "colab": {
          "base_uri": "https://localhost:8080/"
        },
        "id": "5bW6dDQ5Y43G",
        "outputId": "47b2e6ca-b812-4a38-f0fe-392620d6c589"
      },
      "outputs": [
        {
          "name": "stderr",
          "output_type": "stream",
          "text": [
            "[nltk_data] Downloading package vader_lexicon to /root/nltk_data...\n"
          ]
        },
        {
          "data": {
            "text/plain": [
              "True"
            ]
          },
          "execution_count": 27,
          "metadata": {},
          "output_type": "execute_result"
        }
      ],
      "source": [
        "# required imports\n",
        "import nltk\n",
        "from nltk.sentiment import SentimentIntensityAnalyzer\n",
        "nltk.download('vader_lexicon')  # download necessary data for sentiment analysis"
      ]
    },
    {
      "cell_type": "markdown",
      "metadata": {
        "id": "yKwHaqtlZCEG"
      },
      "source": [
        "note sure how to squeeze these into a function.. or is it ok like this?\n"
      ]
    },
    {
      "cell_type": "code",
      "execution_count": 28,
      "metadata": {
        "id": "4rAZOWnnZHGH"
      },
      "outputs": [],
      "source": [
        "# Instantiate sentiment analyzer\n",
        "analyzer = SentimentIntensityAnalyzer()"
      ]
    },
    {
      "cell_type": "code",
      "execution_count": 26,
      "metadata": {
        "id": "uwjNQZipZHGH"
      },
      "outputs": [],
      "source": [
        "# Define function to apply sentiment analysis to text\n",
        "def get_sentiment(text):\n",
        "    return analyzer.polarity_scores(text)['compound']"
      ]
    },
    {
      "cell_type": "code",
      "execution_count": 30,
      "metadata": {
        "id": "eXK-fgD5Y45t"
      },
      "outputs": [],
      "source": [
        "# Apply sentiment analysis to DataFrame and create new column with results\n",
        "df['sentiment_pred'] = df['txt'].apply(get_sentiment)  # add a colum to the df"
      ]
    },
    {
      "cell_type": "code",
      "execution_count": 22,
      "metadata": {
        "colab": {
          "base_uri": "https://localhost:8080/",
          "height": 183
        },
        "id": "Gen2VqhfY478",
        "outputId": "4fd4eda1-7722-4726-d3e0-400098a20e4d"
      },
      "outputs": [
        {
          "ename": "AttributeError",
          "evalue": "ignored",
          "output_type": "error",
          "traceback": [
            "\u001b[0;31m---------------------------------------------------------------------------\u001b[0m",
            "\u001b[0;31mAttributeError\u001b[0m                            Traceback (most recent call last)",
            "\u001b[0;32m<ipython-input-22-8a525bd6d70c>\u001b[0m in \u001b[0;36m<cell line: 2>\u001b[0;34m()\u001b[0m\n\u001b[1;32m      1\u001b[0m \u001b[0;31m# Apply sentiment analysis to a single document\u001b[0m\u001b[0;34m\u001b[0m\u001b[0;34m\u001b[0m\u001b[0m\n\u001b[0;32m----> 2\u001b[0;31m \u001b[0mdf\u001b[0m\u001b[0;34m[\u001b[0m\u001b[0;34m'sentiment_pred'\u001b[0m\u001b[0;34m]\u001b[0m \u001b[0;34m=\u001b[0m \u001b[0mdf\u001b[0m\u001b[0;34m[\u001b[0m\u001b[0;34m'txt'\u001b[0m\u001b[0;34m]\u001b[0m\u001b[0;34m[\u001b[0m\u001b[0;36m0\u001b[0m\u001b[0;34m]\u001b[0m\u001b[0;34m.\u001b[0m\u001b[0mtolist\u001b[0m\u001b[0;34m(\u001b[0m\u001b[0;34m)\u001b[0m\u001b[0;34m\u001b[0m\u001b[0;34m\u001b[0m\u001b[0m\n\u001b[0m",
            "\u001b[0;31mAttributeError\u001b[0m: 'str' object has no attribute 'tolist'"
          ]
        }
      ],
      "source": [
        "# Apply sentiment analysis to a single document\n",
        "def get_sentiment(text):\n",
        "  return get_sentiment(text) # 0.5675 for example"
      ]
    },
    {
      "cell_type": "code",
      "execution_count": 29,
      "metadata": {
        "colab": {
          "base_uri": "https://localhost:8080/"
        },
        "id": "7tPRX6q5ZRmc",
        "outputId": "305d5529-eb1e-42de-b7ec-05a66d92817e"
      },
      "outputs": [
        {
          "data": {
            "text/plain": [
              "0.6369"
            ]
          },
          "execution_count": 29,
          "metadata": {},
          "output_type": "execute_result"
        }
      ],
      "source": [
        "get_sentiment(df['txt'][0])"
      ]
    },
    {
      "cell_type": "markdown",
      "metadata": {
        "id": "ZpBdNogCWtZ2"
      },
      "source": [
        "## function using hugging face\n",
        "https://huggingface.co/blog/sentiment-analysis-python"
      ]
    },
    {
      "cell_type": "code",
      "execution_count": null,
      "metadata": {
        "id": "fZzIjRAvXj6R"
      },
      "outputs": [],
      "source": [
        "from transformers import pipeline\n"
      ]
    },
    {
      "cell_type": "code",
      "execution_count": 16,
      "metadata": {
        "colab": {
          "base_uri": "https://localhost:8080/"
        },
        "id": "dAA5H-5SWvJz",
        "outputId": "fc8998d6-c95a-462c-c81e-b71ab93298a3"
      },
      "outputs": [
        {
          "name": "stderr",
          "output_type": "stream",
          "text": [
            "No model was supplied, defaulted to distilbert-base-uncased-finetuned-sst-2-english and revision af0f99b (https://huggingface.co/distilbert-base-uncased-finetuned-sst-2-english).\n",
            "Using a pipeline without specifying a model name and revision in production is not recommended.\n"
          ]
        },
        {
          "data": {
            "text/plain": [
              "[{'label': 'POSITIVE', 'score': 0.999708354473114}]"
            ]
          },
          "execution_count": 16,
          "metadata": {},
          "output_type": "execute_result"
        }
      ],
      "source": [
        "sentiment_pipeline = pipeline(\"sentiment-analysis\")\n",
        "data = df['txt'][0]\n",
        "sentiment_pipeline(data)['score']"
      ]
    },
    {
      "cell_type": "code",
      "execution_count": 32,
      "metadata": {
        "colab": {
          "base_uri": "https://localhost:8080/",
          "height": 35
        },
        "id": "_iozY84TYcT4",
        "outputId": "ed6ac51e-95a6-4510-aa77-be8fbb84cc41"
      },
      "outputs": [
        {
          "data": {
            "application/vnd.google.colaboratory.intrinsic+json": {
              "type": "string"
            },
            "text/plain": [
              "'POSITIVE'"
            ]
          },
          "execution_count": 32,
          "metadata": {},
          "output_type": "execute_result"
        }
      ],
      "source": [
        "sentiment_pipeline(data)[0]['label']"
      ]
    },
    {
      "cell_type": "code",
      "execution_count": 2,
      "metadata": {
        "colab": {
          "base_uri": "https://localhost:8080/"
        },
        "id": "q3yMpK9nW5KW",
        "outputId": "b1034603-17ad-4f9f-e0aa-73158ec0135c"
      },
      "outputs": [
        {
          "name": "stdout",
          "output_type": "stream",
          "text": [
            "\u001b[2K     \u001b[90m━━━━━━━━━━━━━━━━━━━━━━━━━━━━━━━━━━━━━━━━\u001b[0m \u001b[32m7.0/7.0 MB\u001b[0m \u001b[31m28.9 MB/s\u001b[0m eta \u001b[36m0:00:00\u001b[0m\n",
            "\u001b[2K     \u001b[90m━━━━━━━━━━━━━━━━━━━━━━━━━━━━━━━━━━━━━━\u001b[0m \u001b[32m200.1/200.1 kB\u001b[0m \u001b[31m13.5 MB/s\u001b[0m eta \u001b[36m0:00:00\u001b[0m\n",
            "\u001b[2K     \u001b[90m━━━━━━━━━━━━━━━━━━━━━━━━━━━━━━━━━━━━━━━━\u001b[0m \u001b[32m7.8/7.8 MB\u001b[0m \u001b[31m82.6 MB/s\u001b[0m eta \u001b[36m0:00:00\u001b[0m\n",
            "\u001b[?25h"
          ]
        }
      ],
      "source": []
    },
    {
      "cell_type": "markdown",
      "metadata": {
        "id": "3cfGQhzvX7yK"
      },
      "source": [
        "required imports:"
      ]
    },
    {
      "cell_type": "code",
      "execution_count": null,
      "metadata": {
        "id": "uZ-es79bX-0g"
      },
      "outputs": [],
      "source": [
        "pip install -q transformers\n",
        "from transformers import pipeline"
      ]
    },
    {
      "cell_type": "markdown",
      "metadata": {
        "id": "EPDhcUfCX9m0"
      },
      "source": [
        "the function:"
      ]
    },
    {
      "cell_type": "code",
      "execution_count": null,
      "metadata": {
        "id": "UMjGA_EaW3O2"
      },
      "outputs": [],
      "source": [
        "## sentiment analysis on a single document:\n",
        "def hugging_sentiment(text):\n",
        "  sentiment_pipeline = pipeline(\"sentiment-analysis\")\n",
        "  # if we want to insert a corpus and not a single text:\n",
        "  #  chance \"text\" with \"data\" where: data = df['txt'].tolist()\n",
        "  return sentiment_pipeline(text)  # [{'label': 'POSITIVE', 'score': 0.999708354473114}]"
      ]
    },
    {
      "cell_type": "code",
      "execution_count": null,
      "metadata": {
        "id": "3Ssuu8SVYKi6"
      },
      "outputs": [],
      "source": [
        "## sentiment analysis on a single document - return only sentiment score:\n",
        "def hugging_sentiment(text):\n",
        "  sentiment_pipeline = pipeline(\"sentiment-analysis\")\n",
        "  # if we want to insert a corpus and not a single text:\n",
        "  #  chance \"text\" with \"data\" where: data = df['txt'].tolist()\n",
        "  score = sentiment_pipeline(text)[0]['score']\n",
        "  if sentiment_pipeline(text)[0]['label'] =='NEGATIVE'\n",
        "  score = score*(-1)\n",
        "  return score  #  0.999708354473114"
      ]
    },
    {
      "cell_type": "code",
      "execution_count": null,
      "metadata": {
        "id": "UcuXrlbKcI7_"
      },
      "outputs": [],
      "source": []
    },
    {
      "cell_type": "markdown",
      "metadata": {
        "id": "F-JsXsrwaLF2"
      },
      "source": [
        "## Supervised Function"
      ]
    },
    {
      "cell_type": "markdown",
      "metadata": {
        "id": "kmBaXBH2aNeW"
      },
      "source": []
    },
    {
      "cell_type": "code",
      "execution_count": null,
      "metadata": {
        "id": "ItjkEXH4abCV"
      },
      "outputs": [],
      "source": [
        "# define the inputs to the function\n",
        "texts = df.txt\n",
        "labels = df.labels"
      ]
    },
    {
      "cell_type": "code",
      "execution_count": 31,
      "metadata": {
        "id": "u4FFimZmagQU"
      },
      "outputs": [],
      "source": [
        "# required imports\n",
        "from sklearn.naive_bayes import MultinomialNB\n",
        "from sklearn.metrics import accuracy_score\n",
        "from sklearn.model_selection import train_test_split"
      ]
    },
    {
      "cell_type": "code",
      "execution_count": null,
      "metadata": {
        "id": "NzhZaiOmac_j"
      },
      "outputs": [],
      "source": [
        "def sentiment_test(df): # df should include 'txt' and 'labels' columns [df.txt , sd.labels]\n",
        "  # split to train test\n",
        "  train, test = train_test_split(df, test_size=0.2)  # split row's wise\n",
        "  # define a model\n",
        "  nb = MultinomialNB()\n",
        "  # train a model\n",
        "  nb.fit(train.txt, train.labels)\n",
        "  # predict\n",
        "  y_pred = nb.predict(test.txt)\n",
        "  # return score\n",
        "  print('Accuracy:', accuracy_score(test.labels, y_pred))\n",
        "  return accuracy_score(test.labels, y_pred)"
      ]
    },
    {
      "cell_type": "code",
      "execution_count": null,
      "metadata": {
        "id": "aL5O05L7cXU4"
      },
      "outputs": [],
      "source": []
    },
    {
      "cell_type": "code",
      "execution_count": null,
      "metadata": {
        "id": "O4kTJ9g4cXXL"
      },
      "outputs": [],
      "source": []
    },
    {
      "cell_type": "code",
      "execution_count": null,
      "metadata": {
        "id": "NeT1JxtDcXZk"
      },
      "outputs": [],
      "source": []
    },
    {
      "cell_type": "code",
      "execution_count": null,
      "metadata": {
        "id": "7lnl7sHqcXcX"
      },
      "outputs": [],
      "source": []
    },
    {
      "cell_type": "code",
      "execution_count": null,
      "metadata": {
        "colab": {
          "base_uri": "https://localhost:8080/",
          "height": 75
        },
        "id": "S9oOMXpBcXh0",
        "outputId": "6dd7d6b6-a90d-417a-b8e8-83d95dfb2df5"
      },
      "outputs": [
        {
          "data": {
            "text/html": [
              "<style>#sk-container-id-3 {color: black;background-color: white;}#sk-container-id-3 pre{padding: 0;}#sk-container-id-3 div.sk-toggleable {background-color: white;}#sk-container-id-3 label.sk-toggleable__label {cursor: pointer;display: block;width: 100%;margin-bottom: 0;padding: 0.3em;box-sizing: border-box;text-align: center;}#sk-container-id-3 label.sk-toggleable__label-arrow:before {content: \"▸\";float: left;margin-right: 0.25em;color: #696969;}#sk-container-id-3 label.sk-toggleable__label-arrow:hover:before {color: black;}#sk-container-id-3 div.sk-estimator:hover label.sk-toggleable__label-arrow:before {color: black;}#sk-container-id-3 div.sk-toggleable__content {max-height: 0;max-width: 0;overflow: hidden;text-align: left;background-color: #f0f8ff;}#sk-container-id-3 div.sk-toggleable__content pre {margin: 0.2em;color: black;border-radius: 0.25em;background-color: #f0f8ff;}#sk-container-id-3 input.sk-toggleable__control:checked~div.sk-toggleable__content {max-height: 200px;max-width: 100%;overflow: auto;}#sk-container-id-3 input.sk-toggleable__control:checked~label.sk-toggleable__label-arrow:before {content: \"▾\";}#sk-container-id-3 div.sk-estimator input.sk-toggleable__control:checked~label.sk-toggleable__label {background-color: #d4ebff;}#sk-container-id-3 div.sk-label input.sk-toggleable__control:checked~label.sk-toggleable__label {background-color: #d4ebff;}#sk-container-id-3 input.sk-hidden--visually {border: 0;clip: rect(1px 1px 1px 1px);clip: rect(1px, 1px, 1px, 1px);height: 1px;margin: -1px;overflow: hidden;padding: 0;position: absolute;width: 1px;}#sk-container-id-3 div.sk-estimator {font-family: monospace;background-color: #f0f8ff;border: 1px dotted black;border-radius: 0.25em;box-sizing: border-box;margin-bottom: 0.5em;}#sk-container-id-3 div.sk-estimator:hover {background-color: #d4ebff;}#sk-container-id-3 div.sk-parallel-item::after {content: \"\";width: 100%;border-bottom: 1px solid gray;flex-grow: 1;}#sk-container-id-3 div.sk-label:hover label.sk-toggleable__label {background-color: #d4ebff;}#sk-container-id-3 div.sk-serial::before {content: \"\";position: absolute;border-left: 1px solid gray;box-sizing: border-box;top: 0;bottom: 0;left: 50%;z-index: 0;}#sk-container-id-3 div.sk-serial {display: flex;flex-direction: column;align-items: center;background-color: white;padding-right: 0.2em;padding-left: 0.2em;position: relative;}#sk-container-id-3 div.sk-item {position: relative;z-index: 1;}#sk-container-id-3 div.sk-parallel {display: flex;align-items: stretch;justify-content: center;background-color: white;position: relative;}#sk-container-id-3 div.sk-item::before, #sk-container-id-3 div.sk-parallel-item::before {content: \"\";position: absolute;border-left: 1px solid gray;box-sizing: border-box;top: 0;bottom: 0;left: 50%;z-index: -1;}#sk-container-id-3 div.sk-parallel-item {display: flex;flex-direction: column;z-index: 1;position: relative;background-color: white;}#sk-container-id-3 div.sk-parallel-item:first-child::after {align-self: flex-end;width: 50%;}#sk-container-id-3 div.sk-parallel-item:last-child::after {align-self: flex-start;width: 50%;}#sk-container-id-3 div.sk-parallel-item:only-child::after {width: 0;}#sk-container-id-3 div.sk-dashed-wrapped {border: 1px dashed gray;margin: 0 0.4em 0.5em 0.4em;box-sizing: border-box;padding-bottom: 0.4em;background-color: white;}#sk-container-id-3 div.sk-label label {font-family: monospace;font-weight: bold;display: inline-block;line-height: 1.2em;}#sk-container-id-3 div.sk-label-container {text-align: center;}#sk-container-id-3 div.sk-container {/* jupyter's `normalize.less` sets `[hidden] { display: none; }` but bootstrap.min.css set `[hidden] { display: none !important; }` so we also need the `!important` here to be able to override the default hidden behavior on the sphinx rendered scikit-learn.org. See: https://github.com/scikit-learn/scikit-learn/issues/21755 */display: inline-block !important;position: relative;}#sk-container-id-3 div.sk-text-repr-fallback {display: none;}</style><div id=\"sk-container-id-3\" class=\"sk-top-container\"><div class=\"sk-text-repr-fallback\"><pre>MultinomialNB()</pre><b>In a Jupyter environment, please rerun this cell to show the HTML representation or trust the notebook. <br />On GitHub, the HTML representation is unable to render, please try loading this page with nbviewer.org.</b></div><div class=\"sk-container\" hidden><div class=\"sk-item\"><div class=\"sk-estimator sk-toggleable\"><input class=\"sk-toggleable__control sk-hidden--visually\" id=\"sk-estimator-id-3\" type=\"checkbox\" checked><label for=\"sk-estimator-id-3\" class=\"sk-toggleable__label sk-toggleable__label-arrow\">MultinomialNB</label><div class=\"sk-toggleable__content\"><pre>MultinomialNB()</pre></div></div></div></div></div>"
            ],
            "text/plain": [
              "MultinomialNB()"
            ]
          },
          "execution_count": 68,
          "metadata": {},
          "output_type": "execute_result"
        }
      ],
      "source": [
        "train_labels = train.sentiment\n",
        "test_labels = test.sentiment\n"
      ]
    },
    {
      "cell_type": "code",
      "execution_count": null,
      "metadata": {
        "id": "07nvk9ZMcXh0"
      },
      "outputs": [],
      "source": [
        "y_pred = nb.predict(test_texts_vec)"
      ]
    },
    {
      "cell_type": "code",
      "execution_count": null,
      "metadata": {
        "colab": {
          "base_uri": "https://localhost:8080/"
        },
        "id": "vUXmSx-rcXh0",
        "outputId": "da73e2a8-489a-49a1-879e-f45e9acaa1ce"
      },
      "outputs": [
        {
          "name": "stdout",
          "output_type": "stream",
          "text": [
            "Accuracy: 0.8811881188118812\n"
          ]
        }
      ],
      "source": [
        "from sklearn.metrics import accuracy_score\n",
        "print('Accuracy:', accuracy_score(test_labels, y_pred))"
      ]
    }
  ],
  "metadata": {
    "colab": {
      "provenance": []
    },
    "kernelspec": {
      "display_name": "Python 3",
      "name": "python3"
    },
    "language_info": {
      "codemirror_mode": {
        "name": "ipython",
        "version": 3
      },
      "file_extension": ".py",
      "mimetype": "text/x-python",
      "name": "python",
      "nbconvert_exporter": "python",
      "pygments_lexer": "ipython3",
      "version": "3.11.0"
    }
  },
  "nbformat": 4,
  "nbformat_minor": 0
}
